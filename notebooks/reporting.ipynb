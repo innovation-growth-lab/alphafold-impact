{
 "cells": [
  {
   "cell_type": "code",
   "execution_count": 1,
   "metadata": {},
   "outputs": [
    {
     "data": {
      "text/html": [
       "<pre style=\"white-space:pre;overflow-x:auto;line-height:normal;font-family:Menlo,'DejaVu Sans Mono',consolas,'Courier New',monospace\"><span style=\"color: #7fbfbf; text-decoration-color: #7fbfbf\">[10/29/24 14:44:15] </span><span style=\"color: #000080; text-decoration-color: #000080\">INFO    </span> Resolved project path as: <span style=\"color: #800080; text-decoration-color: #800080\">/home/ampudia/projects/</span><span style=\"color: #ff00ff; text-decoration-color: #ff00ff\">alphafold-impact.</span>     <a href=\"file:///home/ampudia/miniconda3/envs/.igl-alphafold/lib/python3.11/site-packages/kedro/ipython/__init__.py\" target=\"_blank\"><span style=\"color: #7f7f7f; text-decoration-color: #7f7f7f\">__init__.py</span></a><span style=\"color: #7f7f7f; text-decoration-color: #7f7f7f\">:</span><a href=\"file:///home/ampudia/miniconda3/envs/.igl-alphafold/lib/python3.11/site-packages/kedro/ipython/__init__.py#146\" target=\"_blank\"><span style=\"color: #7f7f7f; text-decoration-color: #7f7f7f\">146</span></a>\n",
       "<span style=\"color: #7fbfbf; text-decoration-color: #7fbfbf\">                    </span>         To set a different path, run <span style=\"color: #008000; text-decoration-color: #008000\">'%reload_kedro &lt;project_root&gt;'</span>            <span style=\"color: #7f7f7f; text-decoration-color: #7f7f7f\">               </span>\n",
       "</pre>\n"
      ],
      "text/plain": [
       "\u001b[2;36m[10/29/24 14:44:15]\u001b[0m\u001b[2;36m \u001b[0m\u001b[34mINFO    \u001b[0m Resolved project path as: \u001b[35m/home/ampudia/projects/\u001b[0m\u001b[95malphafold-impact.\u001b[0m     \u001b]8;id=220541;file:///home/ampudia/miniconda3/envs/.igl-alphafold/lib/python3.11/site-packages/kedro/ipython/__init__.py\u001b\\\u001b[2m__init__.py\u001b[0m\u001b]8;;\u001b\\\u001b[2m:\u001b[0m\u001b]8;id=952501;file:///home/ampudia/miniconda3/envs/.igl-alphafold/lib/python3.11/site-packages/kedro/ipython/__init__.py#146\u001b\\\u001b[2m146\u001b[0m\u001b]8;;\u001b\\\n",
       "\u001b[2;36m                    \u001b[0m         To set a different path, run \u001b[32m'%reload_kedro \u001b[0m\u001b[32m<\u001b[0m\u001b[32mproject_root\u001b[0m\u001b[32m>\u001b[0m\u001b[32m'\u001b[0m            \u001b[2m               \u001b[0m\n"
      ]
     },
     "metadata": {},
     "output_type": "display_data"
    },
    {
     "data": {
      "text/html": [
       "<pre style=\"white-space:pre;overflow-x:auto;line-height:normal;font-family:Menlo,'DejaVu Sans Mono',consolas,'Courier New',monospace\"><span style=\"color: #7fbfbf; text-decoration-color: #7fbfbf\">[10/29/24 14:44:16] </span><span style=\"color: #000080; text-decoration-color: #000080\">INFO    </span> Kedro project alphafold-impact                                         <a href=\"file:///home/ampudia/miniconda3/envs/.igl-alphafold/lib/python3.11/site-packages/kedro/ipython/__init__.py\" target=\"_blank\"><span style=\"color: #7f7f7f; text-decoration-color: #7f7f7f\">__init__.py</span></a><span style=\"color: #7f7f7f; text-decoration-color: #7f7f7f\">:</span><a href=\"file:///home/ampudia/miniconda3/envs/.igl-alphafold/lib/python3.11/site-packages/kedro/ipython/__init__.py#115\" target=\"_blank\"><span style=\"color: #7f7f7f; text-decoration-color: #7f7f7f\">115</span></a>\n",
       "</pre>\n"
      ],
      "text/plain": [
       "\u001b[2;36m[10/29/24 14:44:16]\u001b[0m\u001b[2;36m \u001b[0m\u001b[34mINFO    \u001b[0m Kedro project alphafold-impact                                         \u001b]8;id=552960;file:///home/ampudia/miniconda3/envs/.igl-alphafold/lib/python3.11/site-packages/kedro/ipython/__init__.py\u001b\\\u001b[2m__init__.py\u001b[0m\u001b]8;;\u001b\\\u001b[2m:\u001b[0m\u001b]8;id=51454;file:///home/ampudia/miniconda3/envs/.igl-alphafold/lib/python3.11/site-packages/kedro/ipython/__init__.py#115\u001b\\\u001b[2m115\u001b[0m\u001b]8;;\u001b\\\n"
      ]
     },
     "metadata": {},
     "output_type": "display_data"
    },
    {
     "data": {
      "text/html": [
       "<pre style=\"white-space:pre;overflow-x:auto;line-height:normal;font-family:Menlo,'DejaVu Sans Mono',consolas,'Courier New',monospace\"><span style=\"color: #7fbfbf; text-decoration-color: #7fbfbf\">                    </span><span style=\"color: #000080; text-decoration-color: #000080\">INFO    </span> Defined global variable <span style=\"color: #008000; text-decoration-color: #008000\">'context'</span>, <span style=\"color: #008000; text-decoration-color: #008000\">'session'</span>, <span style=\"color: #008000; text-decoration-color: #008000\">'catalog'</span> and            <a href=\"file:///home/ampudia/miniconda3/envs/.igl-alphafold/lib/python3.11/site-packages/kedro/ipython/__init__.py\" target=\"_blank\"><span style=\"color: #7f7f7f; text-decoration-color: #7f7f7f\">__init__.py</span></a><span style=\"color: #7f7f7f; text-decoration-color: #7f7f7f\">:</span><a href=\"file:///home/ampudia/miniconda3/envs/.igl-alphafold/lib/python3.11/site-packages/kedro/ipython/__init__.py#116\" target=\"_blank\"><span style=\"color: #7f7f7f; text-decoration-color: #7f7f7f\">116</span></a>\n",
       "<span style=\"color: #7fbfbf; text-decoration-color: #7fbfbf\">                    </span>         <span style=\"color: #008000; text-decoration-color: #008000\">'pipelines'</span>                                                            <span style=\"color: #7f7f7f; text-decoration-color: #7f7f7f\">               </span>\n",
       "</pre>\n"
      ],
      "text/plain": [
       "\u001b[2;36m                   \u001b[0m\u001b[2;36m \u001b[0m\u001b[34mINFO    \u001b[0m Defined global variable \u001b[32m'context'\u001b[0m, \u001b[32m'session'\u001b[0m, \u001b[32m'catalog'\u001b[0m and            \u001b]8;id=468728;file:///home/ampudia/miniconda3/envs/.igl-alphafold/lib/python3.11/site-packages/kedro/ipython/__init__.py\u001b\\\u001b[2m__init__.py\u001b[0m\u001b]8;;\u001b\\\u001b[2m:\u001b[0m\u001b]8;id=380726;file:///home/ampudia/miniconda3/envs/.igl-alphafold/lib/python3.11/site-packages/kedro/ipython/__init__.py#116\u001b\\\u001b[2m116\u001b[0m\u001b]8;;\u001b\\\n",
       "\u001b[2;36m                    \u001b[0m         \u001b[32m'pipelines'\u001b[0m                                                            \u001b[2m               \u001b[0m\n"
      ]
     },
     "metadata": {},
     "output_type": "display_data"
    },
    {
     "data": {
      "text/html": [
       "<pre style=\"white-space:pre;overflow-x:auto;line-height:normal;font-family:Menlo,'DejaVu Sans Mono',consolas,'Courier New',monospace\"><span style=\"color: #7fbfbf; text-decoration-color: #7fbfbf\">[10/29/24 14:44:18] </span><span style=\"color: #000080; text-decoration-color: #000080\">INFO    </span> Registered line magic <span style=\"color: #008000; text-decoration-color: #008000\">'run_viz'</span>                                        <a href=\"file:///home/ampudia/miniconda3/envs/.igl-alphafold/lib/python3.11/site-packages/kedro/ipython/__init__.py\" target=\"_blank\"><span style=\"color: #7f7f7f; text-decoration-color: #7f7f7f\">__init__.py</span></a><span style=\"color: #7f7f7f; text-decoration-color: #7f7f7f\">:</span><a href=\"file:///home/ampudia/miniconda3/envs/.igl-alphafold/lib/python3.11/site-packages/kedro/ipython/__init__.py#122\" target=\"_blank\"><span style=\"color: #7f7f7f; text-decoration-color: #7f7f7f\">122</span></a>\n",
       "</pre>\n"
      ],
      "text/plain": [
       "\u001b[2;36m[10/29/24 14:44:18]\u001b[0m\u001b[2;36m \u001b[0m\u001b[34mINFO    \u001b[0m Registered line magic \u001b[32m'run_viz'\u001b[0m                                        \u001b]8;id=874432;file:///home/ampudia/miniconda3/envs/.igl-alphafold/lib/python3.11/site-packages/kedro/ipython/__init__.py\u001b\\\u001b[2m__init__.py\u001b[0m\u001b]8;;\u001b\\\u001b[2m:\u001b[0m\u001b]8;id=367868;file:///home/ampudia/miniconda3/envs/.igl-alphafold/lib/python3.11/site-packages/kedro/ipython/__init__.py#122\u001b\\\u001b[2m122\u001b[0m\u001b]8;;\u001b\\\n"
      ]
     },
     "metadata": {},
     "output_type": "display_data"
    }
   ],
   "source": [
    "%load_ext kedro.ipython\n",
    "import warnings\n",
    "warnings.filterwarnings('ignore')\n",
    "\n",
    "import numpy as np\n",
    "import pandas as pd\n",
    "pd.set_option('display.max_rows', 500)\n",
    "pd.set_option('display.max_columns', 50)\n",
    "\n",
    "import altair as alt\n",
    "import vl_convert as vlc\n",
    "alt.data_transformers.disable_max_rows()\n",
    "\n",
    "from alphafold_impact.settings import SESSION_STORE_ARGS\n",
    "PATHDIR = SESSION_STORE_ARGS['path']\n",
    "SAVE_DIR = PATHDIR + '/data/08_reporting/reach/'\n",
    "ECR_SAVE_DIR = PATHDIR + '/data/08_reporting/reach/ecr/'\n",
    "\n",
    "# check folder, create if it doesn't exist\n",
    "import os\n",
    "for folder in [SAVE_DIR, ECR_SAVE_DIR]:\n",
    "    if not os.path.exists(folder):\n",
    "        os.makedirs(folder)"
   ]
  },
  {
   "cell_type": "code",
   "execution_count": 2,
   "metadata": {},
   "outputs": [],
   "source": [
    "# Reach"
   ]
  },
  {
   "cell_type": "code",
   "execution_count": 3,
   "metadata": {},
   "outputs": [
    {
     "data": {
      "text/html": [
       "<pre style=\"white-space:pre;overflow-x:auto;line-height:normal;font-family:Menlo,'DejaVu Sans Mono',consolas,'Courier New',monospace\"><span style=\"color: #7fbfbf; text-decoration-color: #7fbfbf\">                    </span><span style=\"color: #000080; text-decoration-color: #000080\">INFO    </span> Loading data from <span style=\"color: #ff8700; text-decoration-color: #ff8700\">publications.data.outputs</span> <span style=\"font-weight: bold\">(</span>ParquetDataset<span style=\"font-weight: bold\">)</span><span style=\"color: #808000; text-decoration-color: #808000\">...</span>    <a href=\"file:///home/ampudia/miniconda3/envs/.igl-alphafold/lib/python3.11/site-packages/kedro/io/data_catalog.py\" target=\"_blank\"><span style=\"color: #7f7f7f; text-decoration-color: #7f7f7f\">data_catalog.py</span></a><span style=\"color: #7f7f7f; text-decoration-color: #7f7f7f\">:</span><a href=\"file:///home/ampudia/miniconda3/envs/.igl-alphafold/lib/python3.11/site-packages/kedro/io/data_catalog.py#482\" target=\"_blank\"><span style=\"color: #7f7f7f; text-decoration-color: #7f7f7f\">482</span></a>\n",
       "</pre>\n"
      ],
      "text/plain": [
       "\u001b[2;36m                   \u001b[0m\u001b[2;36m \u001b[0m\u001b[34mINFO    \u001b[0m Loading data from \u001b[38;5;208mpublications.data.outputs\u001b[0m \u001b[1m(\u001b[0mParquetDataset\u001b[1m)\u001b[0m\u001b[33m...\u001b[0m    \u001b]8;id=819653;file:///home/ampudia/miniconda3/envs/.igl-alphafold/lib/python3.11/site-packages/kedro/io/data_catalog.py\u001b\\\u001b[2mdata_catalog.py\u001b[0m\u001b]8;;\u001b\\\u001b[2m:\u001b[0m\u001b]8;id=181867;file:///home/ampudia/miniconda3/envs/.igl-alphafold/lib/python3.11/site-packages/kedro/io/data_catalog.py#482\u001b\\\u001b[2m482\u001b[0m\u001b]8;;\u001b\\\n"
      ]
     },
     "metadata": {},
     "output_type": "display_data"
    }
   ],
   "source": [
    "publications = catalog.load(\"publications.data.outputs\")"
   ]
  },
  {
   "cell_type": "code",
   "execution_count": 4,
   "metadata": {},
   "outputs": [],
   "source": [
    "publications[\"authors\"] = publications[\"authorships\"].apply(\n",
    "    lambda x: [y[0] for y in x] if x is not None else []\n",
    ")"
   ]
  },
  {
   "cell_type": "code",
   "execution_count": 5,
   "metadata": {},
   "outputs": [],
   "source": [
    "publications[\"publication_date\"] = pd.to_datetime(publications[\"publication_date\"])\n",
    "publications[\"quarter\"] = publications[\"publication_date\"].dt.to_period(\"Q\").astype(str)"
   ]
  },
  {
   "cell_type": "code",
   "execution_count": 6,
   "metadata": {},
   "outputs": [],
   "source": [
    "authors = (\n",
    "    publications[\n",
    "        [\n",
    "            \"id\",\n",
    "            \"source\",\n",
    "            \"authors\",\n",
    "            \"level\",\n",
    "            \"quarter\",\n",
    "            \"fwci\",\n",
    "            \"citation_normalized_percentile_is_in_top_10_percent\",\n",
    "            \"primary_field\"\n",
    "        ]\n",
    "    ]\n",
    "    .explode(\"authors\")\n",
    "    .drop_duplicates(subset=[\"authors\", \"source\"])\n",
    ")\n"
   ]
  },
  {
   "cell_type": "code",
   "execution_count": 7,
   "metadata": {},
   "outputs": [],
   "source": [
    "authors = (\n",
    "    publications[\n",
    "        [\n",
    "            \"id\",\n",
    "            \"source\",\n",
    "            \"authors\",\n",
    "            \"level\",\n",
    "            \"quarter\",\n",
    "            \"fwci\",\n",
    "            \"citation_normalized_percentile_is_in_top_10_percent\",\n",
    "            \"primary_field\"\n",
    "        ]\n",
    "    ]\n",
    "    .explode(\"authors\")\n",
    "    .drop_duplicates(subset=[\"authors\", \"source\"])\n",
    ")\n",
    "\n",
    "unique_researchers_overtime = (\n",
    "    authors.groupby([\"quarter\", \"source\"])[\"authors\"]\n",
    "    .nunique()\n",
    "    .reset_index()\n",
    "    .rename(columns={\"authors\": \"researcher_count\"})\n",
    ")\n",
    "\n",
    "unique_researchers_overtime[\"cumulative_researcher_count\"] = (\n",
    "    unique_researchers_overtime.groupby(\"source\")[\"researcher_count\"].cumsum()\n",
    ")\n",
    "\n",
    "unique_researchers_overtime = unique_researchers_overtime[\n",
    "    (unique_researchers_overtime[\"quarter\"] >= \"2020Q1\")\n",
    "    & (unique_researchers_overtime[\"quarter\"] <= \"2024Q1\")\n",
    "]\n",
    "\n",
    "chart = alt.Chart(unique_researchers_overtime).mark_line(interpolate='step-after').encode(\n",
    "    x='quarter:N',\n",
    "    y='cumulative_researcher_count:Q',\n",
    "    color='source:N',\n",
    "    tooltip=['quarter:N', 'cumulative_researcher_count:Q', 'source:N']\n",
    ").properties(\n",
    "    title='Number of Source-Unique Researchers Over Time by Source Group'\n",
    ")\n",
    "\n",
    "png_str = vlc.vegalite_to_png(vl_spec=chart.to_json(), scale=3)\n",
    "with open(\"source_unique_researchers.png\", \"wb\") as f:\n",
    "    f.write(png_str)"
   ]
  },
  {
   "cell_type": "code",
   "execution_count": 8,
   "metadata": {},
   "outputs": [],
   "source": [
    "# Assign priority to each source\n",
    "source_priority = {\"af\": 1, \"ct_ai\": 2, \"ct_noai\": 3, \"other\": 4}\n",
    "authors[\"source_priority\"] = authors[\"source\"].map(source_priority)\n",
    "\n",
    "# Sort the DataFrame based on the priority\n",
    "authors = authors.sort_values(by=[\"authors\", \"source_priority\"])\n",
    "\n",
    "# Drop duplicates based on authors to keep the highest priority source for each author\n",
    "authors = authors.drop_duplicates(subset=[\"authors\"])\n",
    "\n",
    "# Group by quarter and count the number of unique researchers\n",
    "unique_researchers_overtime = (\n",
    "    authors.groupby([\"quarter\", \"source\"])[\"authors\"]\n",
    "    .nunique()\n",
    "    .reset_index()\n",
    "    .rename(columns={\"authors\": \"researcher_count\"})\n",
    ")\n",
    "\n",
    "# Calculate the cumulative count of unique researchers over time for each source\n",
    "unique_researchers_overtime[\"cumulative_researcher_count\"] = (\n",
    "    unique_researchers_overtime.groupby(\"source\")[\"researcher_count\"].cumsum()\n",
    ")\n",
    "\n",
    "# Filter the data for the desired time range\n",
    "unique_researchers_overtime = unique_researchers_overtime[\n",
    "    (unique_researchers_overtime[\"quarter\"] >= \"2020Q1\")\n",
    "    & (unique_researchers_overtime[\"quarter\"] <= \"2024Q1\")\n",
    "]\n",
    "\n",
    "chart = alt.Chart(unique_researchers_overtime).mark_line(interpolate='step-after').encode(\n",
    "    x='quarter:N',\n",
    "    y='cumulative_researcher_count:Q',\n",
    "    color='source:N',\n",
    "    tooltip=['quarter:N', 'cumulative_researcher_count:Q', 'source:N']\n",
    ").properties(\n",
    "    title='Number of Unique Researchers Over Time by Source Group'\n",
    ")\n",
    "\n",
    "png_str = vlc.vegalite_to_png(vl_spec=chart.to_json(), scale=3)\n",
    "with open(\"unique_researchers.png\", \"wb\") as f:\n",
    "    f.write(png_str)"
   ]
  },
  {
   "cell_type": "code",
   "execution_count": 12,
   "metadata": {},
   "outputs": [],
   "source": [
    "authors = authors[authors[\"primary_field\"].isin([\"Biochemistry, Genetics and Molecular Biology\", \"Medicine\", \"Chemistry\", \"Immunology and Microbiology\"])]\n",
    "\n",
    "unique_researchers_overtime = (\n",
    "    authors.groupby([\"quarter\", \"source\", \"primary_field\"])[\"authors\"]\n",
    "    .nunique()\n",
    "    .reset_index()\n",
    "    .rename(columns={\"authors\": \"researcher_count\"})\n",
    ")\n",
    "\n",
    "# Calculate the cumulative count of unique researchers over time for each source and primary_field\n",
    "unique_researchers_overtime[\"cumulative_researcher_count\"] = (\n",
    "    unique_researchers_overtime.groupby([\"source\", \"primary_field\"])[\n",
    "        \"researcher_count\"\n",
    "    ].cumsum()\n",
    ")\n",
    "\n",
    "# Filter the data for the desired time range\n",
    "unique_researchers_overtime = unique_researchers_overtime[\n",
    "    (unique_researchers_overtime[\"quarter\"] >= \"2020Q1\")\n",
    "    & (unique_researchers_overtime[\"quarter\"] <= \"2024Q1\")\n",
    "]\n",
    "\n",
    "# Create the Altair step chart with faceting by primary_field\n",
    "step_line = (\n",
    "    alt.Chart(unique_researchers_overtime)\n",
    "    .mark_line(interpolate=\"step-after\")\n",
    "    .encode(\n",
    "        alt.X(\"quarter:N\", title=\"Quarter\"),\n",
    "        alt.Y(\"cumulative_researcher_count:Q\", title=None),\n",
    "        alt.Color(\"source:N\", title=\"Source\"),\n",
    "    )\n",
    ")\n",
    "\n",
    "chart = (\n",
    "    step_line.properties(\n",
    "        title=\"Number of Source-Unique Researchers Over Time by Field\",\n",
    "        width=300,\n",
    "        height=120,\n",
    "    )\n",
    "    .facet(facet=\"primary_field:N\", columns=2, spacing=25)\n",
    "    .resolve_scale(x=\"shared\", y=\"independent\")\n",
    "    .configure_title(fontSize=16)\n",
    "    .configure_axis(labelFontSize=12, titleFontSize=14)\n",
    "    .configure_header(titleFontSize=14, labelFontSize=12)\n",
    ")\n",
    "\n",
    "png_str = vlc.vegalite_to_png(vl_spec=chart.to_json(), scale=3)\n",
    "with open(\"source_unique_researchers_field.png\", \"wb\") as f:\n",
    "    f.write(png_str)"
   ]
  },
  {
   "cell_type": "code",
   "execution_count": 14,
   "metadata": {},
   "outputs": [],
   "source": [
    "# replace nan in citation_normalized_percentile_is_in_top_10_percent with False\n",
    "publications[\"citation_normalized_percentile_is_in_top_10_percent\"] = publications[\n",
    "    \"citation_normalized_percentile_is_in_top_10_percent\"\n",
    "].fillna(False)"
   ]
  },
  {
   "cell_type": "code",
   "execution_count": 15,
   "metadata": {},
   "outputs": [],
   "source": [
    "total_publications = (\n",
    "    publications.groupby([\"source\", \"quarter\"])[\"id\"]\n",
    "    .count()\n",
    "    .reset_index()\n",
    "    .rename(columns={\"id\": \"total_publications\"})\n",
    ")\n",
    "\n",
    "# Compute the share of publications for each source-quarter pair\n",
    "total_publications[\"share_publications\"] = (\n",
    "    total_publications[\"total_publications\"]\n",
    "    / total_publications[\"total_publications\"].sum()\n",
    ")\n",
    "\n",
    "# Compute the total number of top decile publications for each source-quarter pair\n",
    "top_decile_publications = (\n",
    "    publications[publications[\"citation_normalized_percentile_is_in_top_10_percent\"]]\n",
    "    .groupby([\"source\", \"quarter\"])[\"id\"]\n",
    "    .count()\n",
    "    .reset_index()\n",
    "    .rename(columns={\"id\": \"top_decile_publications\"})\n",
    ")\n",
    "\n",
    "# Merge the total publications and top decile publications data\n",
    "merged_data = pd.merge(\n",
    "    total_publications,\n",
    "    top_decile_publications,\n",
    "    on=[\"source\", \"quarter\"],\n",
    "    how=\"left\"\n",
    ").fillna(0)\n",
    "\n",
    "# Compute the share of top decile publications for each source-quarter pair\n",
    "merged_data[\"share_top_decile_publications\"] = (\n",
    "    merged_data[\"top_decile_publications\"]\n",
    "    / merged_data[\"top_decile_publications\"].sum()\n",
    ")\n",
    "\n",
    "# Compute the ratio of the share over the top decile share\n",
    "merged_data[\"representation_ratio\"] = (\n",
    "    merged_data[\"share_top_decile_publications\"] / \n",
    "    merged_data[\"share_publications\"]\n",
    ")\n",
    "\n",
    "merged_data = merged_data[\n",
    "    (merged_data[\"quarter\"] >= \"2020Q1\")\n",
    "    & (merged_data[\"quarter\"] <= \"2024Q1\")\n",
    "]"
   ]
  },
  {
   "cell_type": "code",
   "execution_count": 16,
   "metadata": {},
   "outputs": [],
   "source": [
    "scatter = alt.Chart(merged_data).mark_circle(size=60).encode(\n",
    "    x=alt.X('quarter:N', title='Quarter'),\n",
    "    y=alt.Y('representation_ratio:Q', title='Representation Ratio'),\n",
    "    color=alt.Color('source:N', title='Source'),\n",
    "    tooltip=['quarter:N', 'representation_ratio:Q', 'source:N']\n",
    ")\n",
    "\n",
    "line = alt.Chart(merged_data).mark_line().encode(\n",
    "    x=alt.X('quarter:N', title='Quarter'),\n",
    "    y=alt.Y('representation_ratio:Q', title='Representation Ratio'),\n",
    "    color=alt.Color('source:N', title='Source')\n",
    ")\n",
    "\n",
    "chart = alt.layer(scatter, line).properties(\n",
    "    title='Representation of Top Decile Publications Over Time by Source',\n",
    "    width=800,\n",
    "    height=400\n",
    ")\n",
    "\n",
    "png_str = vlc.vegalite_to_png(vl_spec=chart.to_json(), scale=3)\n",
    "with open(\"repr_time.png\", \"wb\") as f:\n",
    "    f.write(png_str)"
   ]
  }
 ],
 "metadata": {
  "kernelspec": {
   "display_name": ".igl-alphafold",
   "language": "python",
   "name": "python3"
  },
  "language_info": {
   "codemirror_mode": {
    "name": "ipython",
    "version": 3
   },
   "file_extension": ".py",
   "mimetype": "text/x-python",
   "name": "python",
   "nbconvert_exporter": "python",
   "pygments_lexer": "ipython3",
   "version": "3.11.5"
  }
 },
 "nbformat": 4,
 "nbformat_minor": 2
}
