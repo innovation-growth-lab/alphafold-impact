{
 "cells": [
  {
   "cell_type": "code",
   "execution_count": 2,
   "metadata": {},
   "outputs": [
    {
     "data": {
      "text/html": [
       "<pre style=\"white-space:pre;overflow-x:auto;line-height:normal;font-family:Menlo,'DejaVu Sans Mono',consolas,'Courier New',monospace\"><span style=\"color: #7fbfbf; text-decoration-color: #7fbfbf\">[04/19/24 09:56:35] </span><span style=\"color: #000080; text-decoration-color: #000080\">INFO    </span> Resolved project path as: <span style=\"color: #800080; text-decoration-color: #800080\">/home/dampudia/projects/</span><span style=\"color: #ff00ff; text-decoration-color: #ff00ff\">alphafold-impact.</span>    <a href=\"file:///home/dampudia/miniconda3/envs/.igl_alphafold/lib/python3.11/site-packages/kedro/ipython/__init__.py\" target=\"_blank\"><span style=\"color: #7f7f7f; text-decoration-color: #7f7f7f\">__init__.py</span></a><span style=\"color: #7f7f7f; text-decoration-color: #7f7f7f\">:</span><a href=\"file:///home/dampudia/miniconda3/envs/.igl_alphafold/lib/python3.11/site-packages/kedro/ipython/__init__.py#146\" target=\"_blank\"><span style=\"color: #7f7f7f; text-decoration-color: #7f7f7f\">146</span></a>\n",
       "<span style=\"color: #7fbfbf; text-decoration-color: #7fbfbf\">                    </span>         To set a different path, run <span style=\"color: #008000; text-decoration-color: #008000\">'%reload_kedro &lt;project_root&gt;'</span>            <span style=\"color: #7f7f7f; text-decoration-color: #7f7f7f\">               </span>\n",
       "</pre>\n"
      ],
      "text/plain": [
       "\u001b[2;36m[04/19/24 09:56:35]\u001b[0m\u001b[2;36m \u001b[0m\u001b[34mINFO    \u001b[0m Resolved project path as: \u001b[35m/home/dampudia/projects/\u001b[0m\u001b[95malphafold-impact.\u001b[0m    \u001b]8;id=908344;file:///home/dampudia/miniconda3/envs/.igl_alphafold/lib/python3.11/site-packages/kedro/ipython/__init__.py\u001b\\\u001b[2m__init__.py\u001b[0m\u001b]8;;\u001b\\\u001b[2m:\u001b[0m\u001b]8;id=491029;file:///home/dampudia/miniconda3/envs/.igl_alphafold/lib/python3.11/site-packages/kedro/ipython/__init__.py#146\u001b\\\u001b[2m146\u001b[0m\u001b]8;;\u001b\\\n",
       "\u001b[2;36m                    \u001b[0m         To set a different path, run \u001b[32m'%reload_kedro \u001b[0m\u001b[32m<\u001b[0m\u001b[32mproject_root\u001b[0m\u001b[32m>\u001b[0m\u001b[32m'\u001b[0m            \u001b[2m               \u001b[0m\n"
      ]
     },
     "metadata": {},
     "output_type": "display_data"
    },
    {
     "data": {
      "text/html": [
       "<pre style=\"white-space:pre;overflow-x:auto;line-height:normal;font-family:Menlo,'DejaVu Sans Mono',consolas,'Courier New',monospace\"><span style=\"color: #7fbfbf; text-decoration-color: #7fbfbf\">[04/19/24 09:56:37] </span><span style=\"color: #000080; text-decoration-color: #000080\">INFO    </span> Kedro project alphafold-impact                                         <a href=\"file:///home/dampudia/miniconda3/envs/.igl_alphafold/lib/python3.11/site-packages/kedro/ipython/__init__.py\" target=\"_blank\"><span style=\"color: #7f7f7f; text-decoration-color: #7f7f7f\">__init__.py</span></a><span style=\"color: #7f7f7f; text-decoration-color: #7f7f7f\">:</span><a href=\"file:///home/dampudia/miniconda3/envs/.igl_alphafold/lib/python3.11/site-packages/kedro/ipython/__init__.py#115\" target=\"_blank\"><span style=\"color: #7f7f7f; text-decoration-color: #7f7f7f\">115</span></a>\n",
       "</pre>\n"
      ],
      "text/plain": [
       "\u001b[2;36m[04/19/24 09:56:37]\u001b[0m\u001b[2;36m \u001b[0m\u001b[34mINFO    \u001b[0m Kedro project alphafold-impact                                         \u001b]8;id=397353;file:///home/dampudia/miniconda3/envs/.igl_alphafold/lib/python3.11/site-packages/kedro/ipython/__init__.py\u001b\\\u001b[2m__init__.py\u001b[0m\u001b]8;;\u001b\\\u001b[2m:\u001b[0m\u001b]8;id=51358;file:///home/dampudia/miniconda3/envs/.igl_alphafold/lib/python3.11/site-packages/kedro/ipython/__init__.py#115\u001b\\\u001b[2m115\u001b[0m\u001b]8;;\u001b\\\n"
      ]
     },
     "metadata": {},
     "output_type": "display_data"
    },
    {
     "data": {
      "text/html": [
       "<pre style=\"white-space:pre;overflow-x:auto;line-height:normal;font-family:Menlo,'DejaVu Sans Mono',consolas,'Courier New',monospace\"><span style=\"color: #7fbfbf; text-decoration-color: #7fbfbf\">                    </span><span style=\"color: #000080; text-decoration-color: #000080\">INFO    </span> Defined global variable <span style=\"color: #008000; text-decoration-color: #008000\">'context'</span>, <span style=\"color: #008000; text-decoration-color: #008000\">'session'</span>, <span style=\"color: #008000; text-decoration-color: #008000\">'catalog'</span> and            <a href=\"file:///home/dampudia/miniconda3/envs/.igl_alphafold/lib/python3.11/site-packages/kedro/ipython/__init__.py\" target=\"_blank\"><span style=\"color: #7f7f7f; text-decoration-color: #7f7f7f\">__init__.py</span></a><span style=\"color: #7f7f7f; text-decoration-color: #7f7f7f\">:</span><a href=\"file:///home/dampudia/miniconda3/envs/.igl_alphafold/lib/python3.11/site-packages/kedro/ipython/__init__.py#116\" target=\"_blank\"><span style=\"color: #7f7f7f; text-decoration-color: #7f7f7f\">116</span></a>\n",
       "<span style=\"color: #7fbfbf; text-decoration-color: #7fbfbf\">                    </span>         <span style=\"color: #008000; text-decoration-color: #008000\">'pipelines'</span>                                                            <span style=\"color: #7f7f7f; text-decoration-color: #7f7f7f\">               </span>\n",
       "</pre>\n"
      ],
      "text/plain": [
       "\u001b[2;36m                   \u001b[0m\u001b[2;36m \u001b[0m\u001b[34mINFO    \u001b[0m Defined global variable \u001b[32m'context'\u001b[0m, \u001b[32m'session'\u001b[0m, \u001b[32m'catalog'\u001b[0m and            \u001b]8;id=466748;file:///home/dampudia/miniconda3/envs/.igl_alphafold/lib/python3.11/site-packages/kedro/ipython/__init__.py\u001b\\\u001b[2m__init__.py\u001b[0m\u001b]8;;\u001b\\\u001b[2m:\u001b[0m\u001b]8;id=47288;file:///home/dampudia/miniconda3/envs/.igl_alphafold/lib/python3.11/site-packages/kedro/ipython/__init__.py#116\u001b\\\u001b[2m116\u001b[0m\u001b]8;;\u001b\\\n",
       "\u001b[2;36m                    \u001b[0m         \u001b[32m'pipelines'\u001b[0m                                                            \u001b[2m               \u001b[0m\n"
      ]
     },
     "metadata": {},
     "output_type": "display_data"
    },
    {
     "data": {
      "text/html": [
       "<pre style=\"white-space:pre;overflow-x:auto;line-height:normal;font-family:Menlo,'DejaVu Sans Mono',consolas,'Courier New',monospace\"><span style=\"color: #7fbfbf; text-decoration-color: #7fbfbf\">[04/19/24 09:56:38] </span><span style=\"color: #000080; text-decoration-color: #000080\">INFO    </span> Registered line magic <span style=\"color: #008000; text-decoration-color: #008000\">'run_viz'</span>                                        <a href=\"file:///home/dampudia/miniconda3/envs/.igl_alphafold/lib/python3.11/site-packages/kedro/ipython/__init__.py\" target=\"_blank\"><span style=\"color: #7f7f7f; text-decoration-color: #7f7f7f\">__init__.py</span></a><span style=\"color: #7f7f7f; text-decoration-color: #7f7f7f\">:</span><a href=\"file:///home/dampudia/miniconda3/envs/.igl_alphafold/lib/python3.11/site-packages/kedro/ipython/__init__.py#122\" target=\"_blank\"><span style=\"color: #7f7f7f; text-decoration-color: #7f7f7f\">122</span></a>\n",
       "</pre>\n"
      ],
      "text/plain": [
       "\u001b[2;36m[04/19/24 09:56:38]\u001b[0m\u001b[2;36m \u001b[0m\u001b[34mINFO    \u001b[0m Registered line magic \u001b[32m'run_viz'\u001b[0m                                        \u001b]8;id=848465;file:///home/dampudia/miniconda3/envs/.igl_alphafold/lib/python3.11/site-packages/kedro/ipython/__init__.py\u001b\\\u001b[2m__init__.py\u001b[0m\u001b]8;;\u001b\\\u001b[2m:\u001b[0m\u001b]8;id=773691;file:///home/dampudia/miniconda3/envs/.igl_alphafold/lib/python3.11/site-packages/kedro/ipython/__init__.py#122\u001b\\\u001b[2m122\u001b[0m\u001b]8;;\u001b\\\n"
      ]
     },
     "metadata": {},
     "output_type": "display_data"
    }
   ],
   "source": [
    "%load_ext kedro.ipython"
   ]
  },
  {
   "cell_type": "code",
   "execution_count": 3,
   "metadata": {},
   "outputs": [],
   "source": [
    "import numpy as np\n",
    "import pandas as pd"
   ]
  },
  {
   "cell_type": "code",
   "execution_count": 3,
   "metadata": {},
   "outputs": [
    {
     "data": {
      "text/html": [
       "<pre style=\"white-space:pre;overflow-x:auto;line-height:normal;font-family:Menlo,'DejaVu Sans Mono',consolas,'Courier New',monospace\"><span style=\"color: #7fbfbf; text-decoration-color: #7fbfbf\">                    </span><span style=\"color: #000080; text-decoration-color: #000080\">INFO    </span> Loading data from <span style=\"color: #ff8700; text-decoration-color: #ff8700\">oa.data_processing.depth.all.primary</span>             <a href=\"file:///home/dampudia/miniconda3/envs/.igl_alphafold/lib/python3.11/site-packages/kedro/io/data_catalog.py\" target=\"_blank\"><span style=\"color: #7f7f7f; text-decoration-color: #7f7f7f\">data_catalog.py</span></a><span style=\"color: #7f7f7f; text-decoration-color: #7f7f7f\">:</span><a href=\"file:///home/dampudia/miniconda3/envs/.igl_alphafold/lib/python3.11/site-packages/kedro/io/data_catalog.py#482\" target=\"_blank\"><span style=\"color: #7f7f7f; text-decoration-color: #7f7f7f\">482</span></a>\n",
       "<span style=\"color: #7fbfbf; text-decoration-color: #7fbfbf\">                    </span>         <span style=\"font-weight: bold\">(</span>ParquetDataset<span style=\"font-weight: bold\">)</span><span style=\"color: #808000; text-decoration-color: #808000\">...</span>                                                <span style=\"color: #7f7f7f; text-decoration-color: #7f7f7f\">                   </span>\n",
       "</pre>\n"
      ],
      "text/plain": [
       "\u001b[2;36m                   \u001b[0m\u001b[2;36m \u001b[0m\u001b[34mINFO    \u001b[0m Loading data from \u001b[38;5;208moa.data_processing.depth.all.primary\u001b[0m             \u001b]8;id=792879;file:///home/dampudia/miniconda3/envs/.igl_alphafold/lib/python3.11/site-packages/kedro/io/data_catalog.py\u001b\\\u001b[2mdata_catalog.py\u001b[0m\u001b]8;;\u001b\\\u001b[2m:\u001b[0m\u001b]8;id=435196;file:///home/dampudia/miniconda3/envs/.igl_alphafold/lib/python3.11/site-packages/kedro/io/data_catalog.py#482\u001b\\\u001b[2m482\u001b[0m\u001b]8;;\u001b\\\n",
       "\u001b[2;36m                    \u001b[0m         \u001b[1m(\u001b[0mParquetDataset\u001b[1m)\u001b[0m\u001b[33m...\u001b[0m                                                \u001b[2m                   \u001b[0m\n"
      ]
     },
     "metadata": {},
     "output_type": "display_data"
    }
   ],
   "source": [
    "alphafold_data = catalog.load(\"oa.data_processing.depth.all.primary\")"
   ]
  },
  {
   "cell_type": "code",
   "execution_count": null,
   "metadata": {},
   "outputs": [
    {
     "data": {
      "text/html": [
       "<pre style=\"white-space:pre;overflow-x:auto;line-height:normal;font-family:Menlo,'DejaVu Sans Mono',consolas,'Courier New',monospace\"><span style=\"color: #7fbfbf; text-decoration-color: #7fbfbf\">[04/18/24 18:45:37] </span><span style=\"color: #000080; text-decoration-color: #000080\">INFO    </span> Loading data from <span style=\"color: #ff8700; text-decoration-color: #ff8700\">oa.data_processing.depth.no_mesh.</span><span style=\"color: #008080; text-decoration-color: #008080; font-weight: bold\">3.</span><span style=\"color: #ff8700; text-decoration-color: #ff8700\">intermediate</span>  <a href=\"file:///home/dampudia/miniconda3/envs/.igl_alphafold/lib/python3.11/site-packages/kedro/io/data_catalog.py\" target=\"_blank\"><span style=\"color: #7f7f7f; text-decoration-color: #7f7f7f\">data_catalog.py</span></a><span style=\"color: #7f7f7f; text-decoration-color: #7f7f7f\">:</span><a href=\"file:///home/dampudia/miniconda3/envs/.igl_alphafold/lib/python3.11/site-packages/kedro/io/data_catalog.py#482\" target=\"_blank\"><span style=\"color: #7f7f7f; text-decoration-color: #7f7f7f\">482</span></a>\n",
       "<span style=\"color: #7fbfbf; text-decoration-color: #7fbfbf\">                    </span>         <span style=\"font-weight: bold\">(</span>ParquetDataset<span style=\"font-weight: bold\">)</span><span style=\"color: #808000; text-decoration-color: #808000\">...</span>                                                <span style=\"color: #7f7f7f; text-decoration-color: #7f7f7f\">                   </span>\n",
       "</pre>\n"
      ],
      "text/plain": [
       "\u001b[2;36m[04/18/24 18:45:37]\u001b[0m\u001b[2;36m \u001b[0m\u001b[34mINFO    \u001b[0m Loading data from \u001b[38;5;208moa.data_processing.depth.no_mesh.\u001b[0m\u001b[1;36m3.\u001b[0m\u001b[38;5;208mintermediate\u001b[0m  \u001b]8;id=195840;file:///home/dampudia/miniconda3/envs/.igl_alphafold/lib/python3.11/site-packages/kedro/io/data_catalog.py\u001b\\\u001b[2mdata_catalog.py\u001b[0m\u001b]8;;\u001b\\\u001b[2m:\u001b[0m\u001b]8;id=252962;file:///home/dampudia/miniconda3/envs/.igl_alphafold/lib/python3.11/site-packages/kedro/io/data_catalog.py#482\u001b\\\u001b[2m482\u001b[0m\u001b]8;;\u001b\\\n",
       "\u001b[2;36m                    \u001b[0m         \u001b[1m(\u001b[0mParquetDataset\u001b[1m)\u001b[0m\u001b[33m...\u001b[0m                                                \u001b[2m                   \u001b[0m\n"
      ]
     },
     "metadata": {},
     "output_type": "display_data"
    }
   ],
   "source": [
    "alphafold_data_int = catalog.load(\"oa.data_processing.depth.no_mesh.3.intermediate\")"
   ]
  },
  {
   "cell_type": "code",
   "execution_count": null,
   "metadata": {},
   "outputs": [],
   "source": [
    "alphafold_data_int[alphafold_data_int[\"parent_id\"]==\"W3211014030\"]"
   ]
  },
  {
   "cell_type": "code",
   "execution_count": null,
   "metadata": {},
   "outputs": [],
   "source": [
    "alphafold_data_int[alphafold_data_int[\"parent_id\"]==\"W3211014030\"]"
   ]
  },
  {
   "cell_type": "code",
   "execution_count": null,
   "metadata": {},
   "outputs": [],
   "source": [
    "alphafold_data_int[alphafold_data_int[\"pmid\"]==\"34718731\"]"
   ]
  },
  {
   "cell_type": "raw",
   "metadata": {
    "vscode": {
     "languageId": "raw"
    }
   },
   "source": [
    "alphafold_data_dup = catalog.load(\"oa.data_processing.depth.duplicated.primary\")"
   ]
  },
  {
   "cell_type": "raw",
   "metadata": {
    "vscode": {
     "languageId": "raw"
    }
   },
   "source": [
    "alphafold_data_all = catalog.load(\"oa.data_processing.depth.intermediate\")"
   ]
  },
  {
   "cell_type": "raw",
   "metadata": {
    "vscode": {
     "languageId": "raw"
    }
   },
   "source": [
    "# merge the strength of alphafold_data_dup in alphafold_data_all using parent_id and child_id\n",
    "alphafold_data_all = alphafold_data_all.merge(alphafold_data_dup[[\"parent_id\", \"id\", \"strength\"]], on=[\"parent_id\", \"id\"], how=\"left\")"
   ]
  },
  {
   "cell_type": "code",
   "execution_count": null,
   "metadata": {},
   "outputs": [],
   "source": [
    "icites = catalog.load(\"pubmed.data_processing.icite.intermediate\")"
   ]
  },
  {
   "cell_type": "raw",
   "metadata": {
    "vscode": {
     "languageId": "raw"
    }
   },
   "source": [
    "# Create a mapping from id to doi and pmid for each level\n",
    "alphafold_data[\"parent_level\"] = alphafold_data[\"level\"] - 1\n",
    "\n",
    "alphafold_data = pd.merge(\n",
    "    alphafold_data,\n",
    "    alphafold_data,\n",
    "    left_on=[\"parent_id\", \"parent_level\"],\n",
    "    right_on=[\"id\", \"level\"],\n",
    "    how=\"left\",\n",
    "    suffixes=(\"\", \"_parent\"),\n",
    ")\n",
    "alphafold_data.rename(\n",
    "    columns={\"doi_parent\": \"parent_doi\", \"pmid_parent\": \"parent_pmid\"}, inplace=True\n",
    ")\n",
    "\n",
    "# drop the other _parent columns\n",
    "alphafold_data.drop(\n",
    "    columns=[col for col in alphafold_data.columns if \"_parent\" in col], inplace=True\n",
    ")\n",
    "\n",
    "# manually set the parent_pmid and parent_doi for AlphaFold\n",
    "alphafold_data.loc[alphafold_data[\"level\"] == 0, \"parent_doi\"] = (\n",
    "    \"10.1038/s41586-021-03819-2\"\n",
    ")\n",
    "alphafold_data.loc[alphafold_data[\"level\"] == 0, \"parent_pmid\"] = \"34265844\"\n"
   ]
  },
  {
   "cell_type": "code",
   "execution_count": null,
   "metadata": {},
   "outputs": [],
   "source": [
    "alphafold_data_all = catalog.load(\"oa.data_processing.depth.intermediate\")"
   ]
  },
  {
   "cell_type": "code",
   "execution_count": null,
   "metadata": {},
   "outputs": [],
   "source": [
    "alphafold_data_all[alphafold_data_all[\"level\"]==0][\"parent_id\"].value_counts()"
   ]
  },
  {
   "cell_type": "code",
   "execution_count": null,
   "metadata": {},
   "outputs": [],
   "source": [
    "alphafold_data[alphafold_data[\"level\"]==0][\"parent_id\"].value_counts()"
   ]
  },
  {
   "cell_type": "code",
   "execution_count": null,
   "metadata": {},
   "outputs": [],
   "source": [
    "# explode strength\n",
    "alphafold_data_exploded = alphafold_data.explode(\"strength\") "
   ]
  },
  {
   "cell_type": "code",
   "execution_count": null,
   "metadata": {},
   "outputs": [],
   "source": [
    "alphafold_data_exploded.dropna(subset=[\"strength\"], inplace=True) # added with the \"all\" data"
   ]
  },
  {
   "cell_type": "code",
   "execution_count": null,
   "metadata": {},
   "outputs": [],
   "source": [
    "alphafold_data_exploded[\"intent\"] = alphafold_data_exploded[\"strength\"].apply(lambda x: x[\"intent\"] if x else None)\n",
    "alphafold_data_exploded[\"context\"] = alphafold_data_exploded[\"strength\"].apply(lambda x: x[\"context\"] if x else None)"
   ]
  },
  {
   "cell_type": "code",
   "execution_count": null,
   "metadata": {},
   "outputs": [],
   "source": [
    "# W3013924576"
   ]
  },
  {
   "cell_type": "code",
   "execution_count": null,
   "metadata": {},
   "outputs": [],
   "source": [
    "# Define the custom sorting order\n",
    "sort_order = {'methodology': 0, 'result': 1, 'background': 2, '': 3, None: 4}\n",
    "\n",
    "# Create a new column 'sort_order' based on the 'intent' column\n",
    "alphafold_data_exploded['sort_order'] = alphafold_data_exploded['intent'].map(sort_order)\n",
    "\n",
    "# drop if intent is background, '', or None\n",
    "alphafold_data_exploded = alphafold_data_exploded[~alphafold_data_exploded[\"intent\"].isin([\"background\", \"\", None])]\n",
    "\n",
    "# Sort the DataFrame by the 'sort_order' column and drop duplicates\n",
    "# alphafold_data_exploded = alphafold_data_exploded.sort_values('sort_order').drop_duplicates(subset='id')\n",
    "\n",
    "# Drop the 'sort_order' column as it's no longer needed\n",
    "alphafold_data_exploded = alphafold_data_exploded.drop(columns='sort_order')"
   ]
  },
  {
   "cell_type": "code",
   "execution_count": null,
   "metadata": {},
   "outputs": [],
   "source": [
    "# keep only if pmid is not null\n",
    "alphafold_data_exploded = alphafold_data_exploded[alphafold_data_exploded[\"pmid\"].notnull()]"
   ]
  },
  {
   "cell_type": "code",
   "execution_count": null,
   "metadata": {},
   "outputs": [],
   "source": [
    "alphafold_data_exploded.reset_index(drop=True, inplace=True)"
   ]
  },
  {
   "cell_type": "code",
   "execution_count": null,
   "metadata": {},
   "outputs": [],
   "source": [
    "# Group the data by 'parent_id' and 'level', and aggregate the 'id' children into lists\n",
    "grouped = alphafold_data_exploded.groupby(['parent_id', 'level'])['id'].apply(list).reset_index()\n",
    "\n",
    "# Create a pivot table with 'id' as the values and 'level' as the columns\n",
    "pivot_id = grouped.pivot(index='parent_id', columns='level', values='id')\n",
    "\n",
    "# Rename the columns\n",
    "pivot_id.columns = [f'level_{i}_id' for i in range(4)]\n",
    "\n",
    "pivot_id"
   ]
  },
  {
   "cell_type": "code",
   "execution_count": null,
   "metadata": {},
   "outputs": [],
   "source": [
    "alphafold_data_exploded.to_csv(\"baseline_pubmed.csv\")"
   ]
  },
  {
   "cell_type": "code",
   "execution_count": null,
   "metadata": {},
   "outputs": [],
   "source": [
    "big_dict = {}\n",
    "\n",
    "level_0 = alphafold_data_exploded.loc[alphafold_data_exploded.level==0]\n",
    "\n",
    "unique_parent = level_0.parent_pmid.unique()\n",
    "\n",
    "for parent in unique_parent:\n",
    "\n",
    "    big_dict[parent] = {}\n",
    "    # find all rows in level_0 with relevant key parent id\n",
    "    matches = level_0.loc[level_0.parent_pmid==parent][\"pmid\"].to_list()\n",
    "\n",
    "    for item in matches:\n",
    "        big_dict[parent].update({item: {}})"
   ]
  },
  {
   "cell_type": "code",
   "execution_count": null,
   "metadata": {},
   "outputs": [],
   "source": [
    "big_dict"
   ]
  },
  {
   "cell_type": "code",
   "execution_count": null,
   "metadata": {},
   "outputs": [],
   "source": [
    "alphafold_data_exploded.intent.value_counts()"
   ]
  },
  {
   "cell_type": "code",
   "execution_count": null,
   "metadata": {},
   "outputs": [],
   "source": [
    "alphafold_data_exploded[alphafold_data_exploded.level==0][\"parent_id\"].value_counts()"
   ]
  },
  {
   "cell_type": "code",
   "execution_count": null,
   "metadata": {},
   "outputs": [],
   "source": [
    "def build_dict(df, parent, level):\n",
    "    # Base case: if level is greater than 3, return an empty dictionary\n",
    "    if level > 3:\n",
    "        return {}\n",
    "    \n",
    "    # Find all rows in the current level with the relevant parent id\n",
    "    matches = df.loc[df['parent_pmid'] == parent]['pmid'].to_list()\n",
    "    \n",
    "    # Initialize the dictionary for the current parent\n",
    "    dict_ = {}\n",
    "    \n",
    "    # For each match, recursively build the dictionary for the next level\n",
    "    for item in matches:\n",
    "        dict_[item] = build_dict(df, item, level + 1)\n",
    "    \n",
    "    return dict_\n",
    "\n",
    "# Initialize the dictionary with the AlphaFold paper #TOFIX\n",
    "big_dict = build_dict(alphafold_data_exploded, '34265844', 0)\n",
    "\n",
    "big_dict"
   ]
  },
  {
   "cell_type": "code",
   "execution_count": null,
   "metadata": {},
   "outputs": [],
   "source": [
    "# a limiting factor is that to avoid duplication and explosion in chains, we kept the works unique, ie. we only register when they appear once, irrespective of the type of strength. This would require running the old S2 pipeline. \n",
    "# Would the old pipeline work? Ultimately we care about just doing non-uniques at the level (we shouldn't care if it appears at a level below)"
   ]
  },
  {
   "cell_type": "code",
   "execution_count": null,
   "metadata": {},
   "outputs": [],
   "source": [
    "def flatten_dict(d, parent_keys=[], sep='_'):\n",
    "    rows = []\n",
    "    for k, v in d.items():\n",
    "        new_keys = parent_keys + [k]\n",
    "        if isinstance(v, dict) and v:\n",
    "            rows.extend(flatten_dict(v, new_keys, sep=sep))\n",
    "        else:\n",
    "            row = {f'level_{i}': key for i, key in enumerate(new_keys)}\n",
    "            rows.append(row)\n",
    "    return rows\n",
    "\n",
    "# Flatten the dictionary\n",
    "flat_rows = flatten_dict(big_dict)\n",
    "\n",
    "# Convert the list of dictionaries to a DataFrame\n",
    "df = pd.DataFrame(flat_rows)"
   ]
  },
  {
   "cell_type": "code",
   "execution_count": null,
   "metadata": {},
   "outputs": [],
   "source": [
    "df"
   ]
  },
  {
   "cell_type": "code",
   "execution_count": null,
   "metadata": {},
   "outputs": [],
   "source": [
    "df[\"level_neg1\"] = \"34265844\""
   ]
  },
  {
   "cell_type": "code",
   "execution_count": null,
   "metadata": {},
   "outputs": [],
   "source": [
    "df = df[\n",
    "    [\n",
    "        \"level_neg1\",\n",
    "        \"level_0\",\n",
    "        \"level_1\",\n",
    "        \"level_2\",\n",
    "        \"level_3\",\n",
    "    ]\n",
    "]"
   ]
  },
  {
   "cell_type": "code",
   "execution_count": null,
   "metadata": {},
   "outputs": [],
   "source": [
    "df"
   ]
  },
  {
   "cell_type": "code",
   "execution_count": null,
   "metadata": {},
   "outputs": [],
   "source": [
    "# Create a copy of the DataFrame to avoid modifying the original one\n",
    "df_copy = df.copy()\n",
    "\n",
    "# For each level, merge the DataFrame with the alphafold_data_exploded DataFrame\n",
    "for i in range(4):\n",
    "    if i == 0:\n",
    "\n",
    "        df_copy = df_copy.merge(\n",
    "            alphafold_data_exploded[['parent_pmid', 'pmid', 'intent']],\n",
    "            left_on=[f'level_neg1', f'level_0'],\n",
    "            right_on=['parent_pmid', 'pmid'],\n",
    "            how='left'\n",
    "        )\n",
    "    else:\n",
    "        df_copy = df_copy.merge(\n",
    "            alphafold_data_exploded[['parent_pmid', 'pmid', 'intent']],\n",
    "            left_on=[f'level_{i-1}', f'level_{i}'],\n",
    "            right_on=['parent_pmid', 'pmid'],\n",
    "            how='left'\n",
    "        )\n",
    "    # Rename the intent column\n",
    "    df_copy.rename(columns={'intent': f'intent_{i}'}, inplace=True)\n",
    "\n",
    "    # drop duplicate columns\n",
    "    df_copy.drop(columns=['parent_pmid', 'pmid'], inplace=True)\n",
    "\n",
    "df_copy"
   ]
  },
  {
   "cell_type": "code",
   "execution_count": null,
   "metadata": {},
   "outputs": [],
   "source": [
    "df_copy.to_csv(\"2_all_chains.csv\")"
   ]
  },
  {
   "cell_type": "code",
   "execution_count": null,
   "metadata": {},
   "outputs": [],
   "source": [
    "# substitute empty string in intent for None\n",
    "for i in range(4):\n",
    "    df_copy[f'intent_{i}'] = df_copy[f'intent_{i}'].apply(lambda x: x if x != '' else None)"
   ]
  },
  {
   "cell_type": "code",
   "execution_count": null,
   "metadata": {},
   "outputs": [],
   "source": [
    "import numpy as np\n",
    "# In the intent columns, replace NaN with 'N/A'\n",
    "for i in range(4):\n",
    "    df_copy[f'intent_{i}'] = df_copy[f'intent_{i}'].apply(lambda x: 'N/A' if x is np.nan else x)   "
   ]
  },
  {
   "cell_type": "code",
   "execution_count": null,
   "metadata": {},
   "outputs": [],
   "source": [
    "df_copy[df_copy[\"level_0\"]==\"37089814\"]"
   ]
  },
  {
   "cell_type": "code",
   "execution_count": null,
   "metadata": {},
   "outputs": [],
   "source": [
    "def breaks_chain(row):\n",
    "    intents = ['intent_0', 'intent_1', 'intent_2', 'intent_3']\n",
    "    for i in range(len(intents) - 1):\n",
    "        if (pd.isna(row[intents[i]]) or row[intents[i]] == 'N/A') and not pd.isna(row[intents[i+1]]) and row[intents[i+1]] != 'N/A':\n",
    "            return True\n",
    "    return False\n",
    "\n",
    "df_copy_full = df_copy[~df_copy.apply(breaks_chain, axis=1)]\n",
    "\n",
    "# drop rows that have all four intent as nan or N/A\n",
    "df_copy_full = df_copy_full[~df_copy_full[['intent_0', 'intent_1', 'intent_2', 'intent_3']].applymap(lambda x: x == 'N/A' or pd.isna(x)).all(axis=1)]"
   ]
  },
  {
   "cell_type": "code",
   "execution_count": null,
   "metadata": {},
   "outputs": [],
   "source": [
    "df_copy_full"
   ]
  },
  {
   "cell_type": "code",
   "execution_count": null,
   "metadata": {},
   "outputs": [],
   "source": [
    "df_copy_full[df_copy_full[\"level_0\"]==\"37089814\"]"
   ]
  },
  {
   "cell_type": "code",
   "execution_count": null,
   "metadata": {},
   "outputs": [],
   "source": [
    "df_copy_full.to_csv(\"2_complete_chains.csv\")"
   ]
  },
  {
   "cell_type": "code",
   "execution_count": null,
   "metadata": {},
   "outputs": [],
   "source": [
    "# drop if at least one intent (intent_0, intent_1, intent_2, intent_3) is \"methodology\"\n",
    "df_copy_methods = df_copy_full[~df_copy_full[['intent_0', 'intent_1', 'intent_2', 'intent_3']].isin(['background']).any(axis=1)]"
   ]
  },
  {
   "cell_type": "code",
   "execution_count": null,
   "metadata": {},
   "outputs": [],
   "source": [
    "df_copy_methods"
   ]
  },
  {
   "cell_type": "code",
   "execution_count": null,
   "metadata": {},
   "outputs": [],
   "source": [
    "df_copy_methods.to_csv(\"3_relevant_chains.csv\")"
   ]
  },
  {
   "cell_type": "code",
   "execution_count": null,
   "metadata": {},
   "outputs": [],
   "source": [
    "def transform_long(data, intents):\n",
    "\n",
    "    # select all level_0 with an intent_0 that is either result or methodology\n",
    "    level_0 = data.loc[\n",
    "        df_copy['intent_0'].isin(intents)\n",
    "    ]\n",
    "\n",
    "    level_0_pmids = list(set(level_0[\"level_0\"].to_list()))\n",
    "\n",
    "    # do the same for level_1 if level_0 is result and methodology\n",
    "    level_1 = level_0.loc[\n",
    "        level_0['intent_1'].isin(intents)\n",
    "    ]\n",
    "\n",
    "    level_1_pmids = list(set(level_1[\"level_1\"].to_list()))\n",
    "\n",
    "    # do the same for level_2 if level_1 is result and methodology\n",
    "    level_2 = level_1.loc[\n",
    "        level_1['intent_2'].isin(intents)\n",
    "    ]\n",
    "\n",
    "    level_2_pmids = list(set(level_2[\"level_2\"].to_list()))\n",
    "\n",
    "    # do the same for level_3 if level_2 is result and methodology\n",
    "    level_3 = level_2.loc[\n",
    "        level_2['intent_3'].isin(intents)\n",
    "    ]\n",
    "\n",
    "    level_3_pmids = list(set(level_3[\"level_3\"].to_list()))\n",
    "\n",
    "    # Concatenate the lists of PMIDs\n",
    "    pmids = level_0_pmids + level_1_pmids + level_2_pmids + level_3_pmids\n",
    "\n",
    "    # Create a list of levels\n",
    "    levels = [0]*len(level_0_pmids) + [1]*len(level_1_pmids) + [2]*len(level_2_pmids) + [3]*len(level_3_pmids)\n",
    "\n",
    "    # Create a dataframe from the lists of PMIDs and levels\n",
    "    df_pmids = pd.DataFrame({\n",
    "        'pmids': pmids,\n",
    "        'level': levels\n",
    "    })\n",
    "\n",
    "    df_pmids[\"pmids\"] = df_pmids[\"pmids\"].astype(int)\n",
    "\n",
    "    df_pmids.drop_duplicates(subset=['pmids'], inplace=True)\n",
    "\n",
    "    return df_pmids"
   ]
  },
  {
   "cell_type": "code",
   "execution_count": null,
   "metadata": {},
   "outputs": [],
   "source": [
    "df_pmids_all = transform_long(df_copy_full, [\"result\", \"methodology\", \"background\"])"
   ]
  },
  {
   "cell_type": "raw",
   "metadata": {
    "vscode": {
     "languageId": "raw"
    }
   },
   "source": [
    "# Function to concatenate the intents\n",
    "def concat_intents(row):\n",
    "    intents = [row['intent_0'], row['intent_1'], row['intent_2'], row['intent_3']]\n",
    "    # Filter out None or NaN values\n",
    "    intents = [intent for intent in intents]\n",
    "    return ', '.join(intents)\n",
    "\n",
    "# Apply the function to each row\n",
    "z = df_copy.apply(concat_intents, axis=1)"
   ]
  },
  {
   "cell_type": "code",
   "execution_count": null,
   "metadata": {},
   "outputs": [],
   "source": [
    "df_pmids_all"
   ]
  },
  {
   "cell_type": "code",
   "execution_count": null,
   "metadata": {},
   "outputs": [],
   "source": [
    "df_pmids = transform_long(df_copy_full, [\"result\", \"methodology\"])"
   ]
  },
  {
   "cell_type": "code",
   "execution_count": null,
   "metadata": {},
   "outputs": [],
   "source": [
    "df_pmids[\"pmids\"]"
   ]
  },
  {
   "cell_type": "code",
   "execution_count": null,
   "metadata": {},
   "outputs": [],
   "source": [
    "icites.head(2)"
   ]
  },
  {
   "cell_type": "code",
   "execution_count": null,
   "metadata": {},
   "outputs": [],
   "source": [
    "# iterate over pmids to find the matching icites \"pmid\" value, and return \"cited_by_clin\"\n",
    "df_pmids[\"cited_by_clin\"] = df_pmids[\"pmids\"].apply(lambda x: icites.loc[icites[\"pmid\"]==x][\"cited_by_clin\"].values[0] if x in icites[\"pmid\"].to_list() else None)"
   ]
  },
  {
   "cell_type": "code",
   "execution_count": null,
   "metadata": {},
   "outputs": [],
   "source": [
    "df_pmids_nona = df_pmids[df_pmids[\"cited_by_clin\"].astype(str) != \"nan\"]\n",
    "\n",
    "# drop if cited_by_clin is None\n",
    "df_pmids_nona = df_pmids_nona[df_pmids_nona[\"cited_by_clin\"].notnull()]"
   ]
  },
  {
   "cell_type": "code",
   "execution_count": null,
   "metadata": {},
   "outputs": [],
   "source": [
    "# split cited_by_clin by \" \" and then explode the df\n",
    "df_pmids_nona[\"cited_by_clin\"] = df_pmids_nona[\"cited_by_clin\"].apply(lambda x: x.split(\" \"))\n",
    "df_pmids_nona = df_pmids_nona.explode(\"cited_by_clin\")"
   ]
  },
  {
   "cell_type": "code",
   "execution_count": null,
   "metadata": {},
   "outputs": [],
   "source": [
    "df_pmids_nona[\"ca_link\"] = df_pmids_nona[\"cited_by_clin\"].apply(lambda x: f\"https://pubmed.ncbi.nlm.nih.gov/{x}\")"
   ]
  },
  {
   "cell_type": "code",
   "execution_count": null,
   "metadata": {},
   "outputs": [],
   "source": [
    "df_pmids_nona.rename(columns={\"pmids\":\"paper_pmid\"}, inplace=True)"
   ]
  },
  {
   "cell_type": "raw",
   "metadata": {
    "vscode": {
     "languageId": "raw"
    }
   },
   "source": [
    "df_pmids_nona[[\"ca_link\", \"paper_pmid\", \"level\"]].to_csv(\"get.csv\")"
   ]
  },
  {
   "cell_type": "code",
   "execution_count": null,
   "metadata": {},
   "outputs": [],
   "source": [
    "df_pmids_nona.reset_index(inplace=True, drop=True)"
   ]
  },
  {
   "cell_type": "code",
   "execution_count": null,
   "metadata": {},
   "outputs": [],
   "source": [
    "# drop pmids, cited_by_clin duplicates\n",
    "df_pmids_nona.drop_duplicates(subset=[\"paper_pmid\", \"cited_by_clin\"], inplace=True)"
   ]
  },
  {
   "cell_type": "raw",
   "metadata": {
    "vscode": {
     "languageId": "raw"
    }
   },
   "source": [
    "# check how many rows have intent for all levels which are not nan\n",
    "full_chains = df_copy.dropna(subset=['intent_0', 'intent_1', 'intent_2', 'intent_3'])"
   ]
  },
  {
   "cell_type": "raw",
   "metadata": {
    "vscode": {
     "languageId": "raw"
    }
   },
   "source": [
    "# filter chains that are either \"N/A\", \"result\", or \"methodology\" in all intents\n",
    "full_chains = full_chains[\n",
    "    full_chains[['intent_0', 'intent_1', 'intent_2', 'intent_3']].apply(\n",
    "        lambda x: all(\n",
    "            y in [\"N/A\", \"result\", \"methodology\"] for y in x\n",
    "        ), axis=1\n",
    "    )\n",
    "]\n"
   ]
  },
  {
   "cell_type": "raw",
   "metadata": {
    "vscode": {
     "languageId": "raw"
    }
   },
   "source": [
    "df_copy"
   ]
  },
  {
   "cell_type": "raw",
   "metadata": {
    "vscode": {
     "languageId": "raw"
    }
   },
   "source": [
    "# get unique pmids and parent_pmids\n",
    "pmids = alphafold_data_exploded[\"pmid\"].unique()\n",
    "parent_pmids = alphafold_data_exploded[\"parent_pmid\"].unique()\n",
    "pmids = list(set(pmids.tolist() + parent_pmids.tolist()))\n"
   ]
  },
  {
   "cell_type": "markdown",
   "metadata": {},
   "source": [
    "## Label CA with Biopython"
   ]
  },
  {
   "cell_type": "code",
   "execution_count": null,
   "metadata": {},
   "outputs": [],
   "source": [
    "import pandas as pd\n",
    "from Bio import Entrez\n",
    "Entrez.email = \"david.ampudia@nesta.org.uk\" "
   ]
  },
  {
   "cell_type": "code",
   "execution_count": null,
   "metadata": {},
   "outputs": [],
   "source": [
    "df_pmids_nona[\"pmid\"] = df_pmids_nona[\"ca_link\"].str.replace(\"https://pubmed.ncbi.nlm.nih.gov/\", \"\")"
   ]
  },
  {
   "cell_type": "code",
   "execution_count": null,
   "metadata": {},
   "outputs": [],
   "source": [
    "def get_entrez_ptype(pmid):\n",
    "    stream = Entrez.efetch(db=\"pubmed\", id=pmid, retmax=\"1\")\n",
    "    record = Entrez.read(stream)\n",
    "    return str(record[\"PubmedArticle\"][0][\"MedlineCitation\"][\"Article\"].get(\"PublicationTypeList\")[0])"
   ]
  },
  {
   "cell_type": "code",
   "execution_count": null,
   "metadata": {},
   "outputs": [],
   "source": [
    "df_pmids_nona[\"publication_type\"] = df_pmids_nona[\"pmid\"].apply(get_entrez_ptype)"
   ]
  },
  {
   "cell_type": "code",
   "execution_count": null,
   "metadata": {},
   "outputs": [],
   "source": [
    "df_pmids_nona.to_csv(\"4_clinical_trials_using_AF.csv\")"
   ]
  },
  {
   "cell_type": "code",
   "execution_count": null,
   "metadata": {},
   "outputs": [],
   "source": [
    "# get the counts of each level and publication type pair\n",
    "output_types = df_pmids_nona.groupby([\"level\", \"publication_type\"]).size().reset_index(name='counts')\n",
    "\n",
    "output_types.to_csv(\"5_output_types.csv\")"
   ]
  },
  {
   "cell_type": "code",
   "execution_count": null,
   "metadata": {},
   "outputs": [],
   "source": [
    "alphafold_data[alphafold_data[\"parent_pmid\"]==\"35637307\"][\"id\"]"
   ]
  },
  {
   "cell_type": "code",
   "execution_count": null,
   "metadata": {},
   "outputs": [],
   "source": [
    "alphafold_data[alphafold_data[\"pmid\"] == \"34718731\"]"
   ]
  },
  {
   "cell_type": "code",
   "execution_count": null,
   "metadata": {},
   "outputs": [],
   "source": [
    "alphafold_data[(alphafold_data[\"parent_pmid\"] == \"34718731\") & (alphafold_data[\"level\"]==3)]"
   ]
  },
  {
   "cell_type": "code",
   "execution_count": null,
   "metadata": {},
   "outputs": [],
   "source": [
    "df_pmids[df_pmids[\"pmids\"] == 34718731]"
   ]
  },
  {
   "cell_type": "code",
   "execution_count": null,
   "metadata": {},
   "outputs": [],
   "source": [
    "# match the pmid with the pmid in alphafold_data\n",
    "df_pmids_nona[\"pmid\"] = df_pmids_nona[\"pmid\"].astype(str)\n",
    "df_pmids_nona[\"paper_pmid\"] = df_pmids_nona[\"paper_pmid\"].astype(str)\n",
    "\n",
    "df_pmids_nona = df_pmids_nona.merge(alphafold_data_exploded[[\"parent_pmid\", \"pmid\", \"intent\"]], left_on=[\"paper_pmid\", \"pmid\"], right_on=[\"parent_pmid\", \"pmid\"], how=\"left\")"
   ]
  },
  {
   "cell_type": "code",
   "execution_count": null,
   "metadata": {},
   "outputs": [],
   "source": [
    "df_pmids_nona[\"parent_pmid\"].value_counts()"
   ]
  },
  {
   "cell_type": "code",
   "execution_count": null,
   "metadata": {},
   "outputs": [],
   "source": [
    "df_pmids_nona[df_pmids_nona[\"intent\"]==\"result\"]"
   ]
  },
  {
   "cell_type": "code",
   "execution_count": null,
   "metadata": {},
   "outputs": [],
   "source": [
    "alphafold_data_exploded"
   ]
  },
  {
   "cell_type": "code",
   "execution_count": null,
   "metadata": {},
   "outputs": [],
   "source": [
    "df_pmids_nona"
   ]
  },
  {
   "cell_type": "code",
   "execution_count": null,
   "metadata": {},
   "outputs": [],
   "source": [
    "df_pmids_nona.intent.value_counts()"
   ]
  },
  {
   "cell_type": "markdown",
   "metadata": {},
   "source": [
    "#### Doing all chains"
   ]
  },
  {
   "cell_type": "code",
   "execution_count": null,
   "metadata": {},
   "outputs": [],
   "source": [
    "stream = Entrez.efetch(db=\"pubmed\", id=\"34265844\", retmax=\"1\")\n",
    "record = Entrez.read(stream)"
   ]
  },
  {
   "cell_type": "markdown",
   "metadata": {},
   "source": [
    "## Clinical Trials from NIH"
   ]
  },
  {
   "cell_type": "code",
   "execution_count": null,
   "metadata": {},
   "outputs": [],
   "source": [
    "clinical_trials_links_to_papers = catalog.load(\"nih.data_processing.clinical_trials_links_to_papers.intermediate\")"
   ]
  },
  {
   "cell_type": "code",
   "execution_count": null,
   "metadata": {},
   "outputs": [],
   "source": [
    "clinical_trials_links_to_papers[\"ref_pmid\"] = clinical_trials_links_to_papers[\"ref_pmid\"].fillna(\"0\")\n",
    "clinical_trials_links_to_papers[\"ref_pmid\"] = clinical_trials_links_to_papers[\"ref_pmid\"].astype(np.int64).astype(str)"
   ]
  },
  {
   "cell_type": "code",
   "execution_count": null,
   "metadata": {},
   "outputs": [],
   "source": [
    "doi_matches = (\n",
    "    alphafold_data\n",
    "    .dropna(subset=['doi'])\n",
    "    .merge(clinical_trials_links_to_papers.dropna(subset=['ref_doi']), how=\"inner\", left_on=\"doi\", right_on=\"ref_doi\")\n",
    ")\n",
    "\n",
    "# Find matches based on pmid\n",
    "pmid_matches = (\n",
    "    alphafold_data\n",
    "    .dropna(subset=['pmid'])\n",
    "    .merge(clinical_trials_links_to_papers.dropna(subset=['ref_pmid']), how=\"inner\", left_on=\"pmid\", right_on=\"ref_pmid\")\n",
    ")\n",
    "\n",
    "# Concat pmid and doi matches and removes duplicates\n",
    "papers_that_cite_af_cited_in_ct = pd.concat([doi_matches, pmid_matches]).drop_duplicates(subset=\"id\")"
   ]
  },
  {
   "cell_type": "code",
   "execution_count": null,
   "metadata": {},
   "outputs": [],
   "source": [
    "# explode strength\n",
    "papers_that_cite_af_cited_in_ct =papers_that_cite_af_cited_in_ct.explode(\"strength\") \n",
    "\n",
    "papers_that_cite_af_cited_in_ct[\"intent\"] = papers_that_cite_af_cited_in_ct[\"strength\"].apply(lambda x: x[\"intent\"] if x else None)\n",
    "papers_that_cite_af_cited_in_ct[\"context\"] = papers_that_cite_af_cited_in_ct[\"strength\"].apply(lambda x: x[\"context\"] if x else None)\n",
    "\n",
    "# filter rows to have unique ids. We should prioritise rows with intent being result or methodology, then followed by background, then followed by other\n",
    "papers_that_cite_af_cited_in_ct = papers_that_cite_af_cited_in_ct.sort_values(\"intent\", ascending=False).drop_duplicates(subset=\"id\").reset_index(drop=True)"
   ]
  },
  {
   "cell_type": "code",
   "execution_count": null,
   "metadata": {},
   "outputs": [],
   "source": [
    "papers_that_cite_af_cited_in_ct[\"publication_type\"] = papers_that_cite_af_cited_in_ct[\"pmid\"].apply(get_entrez_ptype)"
   ]
  },
  {
   "cell_type": "code",
   "execution_count": null,
   "metadata": {},
   "outputs": [],
   "source": [
    "z = papers_that_cite_af_cited_in_ct[\n",
    "    ['id', 'doi', 'pmid', 'level',\n",
    "       'publication_date', 'mesh_terms', 'cited_by_count', 'authorships',\n",
    "       'parent_level', 'ref_citation', \"publication_type\"]\n",
    "]\n",
    "z.to_csv(\"clinical_trials_citations.csv\")"
   ]
  },
  {
   "cell_type": "code",
   "execution_count": null,
   "metadata": {},
   "outputs": [],
   "source": [
    "df_pmids_strong = transform_long(df_copy_full, [\"result\", \"methodology\"])\n",
    "df_pmids_all = transform_long(df_copy_full, [\"result\", \"methodology\", \"background\"])"
   ]
  },
  {
   "cell_type": "code",
   "execution_count": null,
   "metadata": {},
   "outputs": [],
   "source": [
    "df_pmids[\"pmids\"]"
   ]
  },
  {
   "cell_type": "code",
   "execution_count": null,
   "metadata": {},
   "outputs": [],
   "source": [
    "papers_that_cite_af_cited_in_ct[\"pmid\"]"
   ]
  },
  {
   "cell_type": "code",
   "execution_count": null,
   "metadata": {},
   "outputs": [],
   "source": [
    "# check how many of the pmid are in df_pmids\n",
    "df_pmids_nona[df_pmids_nona[\"pmid\"].isin(papers_that_cite_af_cited_in_ct[\"pmid\"])][\"pmid\"].to_list()"
   ]
  },
  {
   "cell_type": "code",
   "execution_count": null,
   "metadata": {},
   "outputs": [],
   "source": [
    "# check how many of the pmid are in df_pmids\n",
    "df_pmids_nona[df_pmids_nona[\"paper_pmid\"].isin(papers_that_cite_af_cited_in_ct[\"pmid\"].astype(int))]"
   ]
  },
  {
   "cell_type": "code",
   "execution_count": null,
   "metadata": {},
   "outputs": [],
   "source": []
  },
  {
   "cell_type": "code",
   "execution_count": null,
   "metadata": {},
   "outputs": [],
   "source": [
    "# check how many of the pmid are in df_pmids\n",
    "df_pmids_strong[df_pmids_strong[\"pmids\"].isin(papers_that_cite_af_cited_in_ct[\"pmid\"].astype(int))]"
   ]
  },
  {
   "cell_type": "code",
   "execution_count": null,
   "metadata": {},
   "outputs": [],
   "source": [
    "# check how many of the pmid are in df_pmids\n",
    "df_pmids_all[df_pmids_all[\"pmids\"].isin(papers_that_cite_af_cited_in_ct[\"pmid\"].astype(int))]"
   ]
  },
  {
   "cell_type": "code",
   "execution_count": null,
   "metadata": {},
   "outputs": [],
   "source": [
    "df_pmids[df_pmids[\"pmids\"] == 37089814]"
   ]
  },
  {
   "cell_type": "code",
   "execution_count": null,
   "metadata": {},
   "outputs": [],
   "source": [
    "papers_that_cite_af_cited_in_ct"
   ]
  },
  {
   "cell_type": "code",
   "execution_count": null,
   "metadata": {},
   "outputs": [],
   "source": [
    "papers_that_cite_af_cited_in_ct[\"strength\"].iloc[3]"
   ]
  },
  {
   "cell_type": "markdown",
   "metadata": {},
   "source": [
    "### Exploring labs outputs"
   ]
  },
  {
   "cell_type": "code",
   "execution_count": 4,
   "metadata": {},
   "outputs": [
    {
     "data": {
      "text/html": [
       "<pre style=\"white-space:pre;overflow-x:auto;line-height:normal;font-family:Menlo,'DejaVu Sans Mono',consolas,'Courier New',monospace\"><span style=\"color: #7fbfbf; text-decoration-color: #7fbfbf\">[04/19/24 09:56:42] </span><span style=\"color: #000080; text-decoration-color: #000080\">INFO    </span> Loading data from <span style=\"color: #ff8700; text-decoration-color: #ff8700\">lab.data_collection.publications.raw</span>             <a href=\"file:///home/dampudia/miniconda3/envs/.igl_alphafold/lib/python3.11/site-packages/kedro/io/data_catalog.py\" target=\"_blank\"><span style=\"color: #7f7f7f; text-decoration-color: #7f7f7f\">data_catalog.py</span></a><span style=\"color: #7f7f7f; text-decoration-color: #7f7f7f\">:</span><a href=\"file:///home/dampudia/miniconda3/envs/.igl_alphafold/lib/python3.11/site-packages/kedro/io/data_catalog.py#482\" target=\"_blank\"><span style=\"color: #7f7f7f; text-decoration-color: #7f7f7f\">482</span></a>\n",
       "<span style=\"color: #7fbfbf; text-decoration-color: #7fbfbf\">                    </span>         <span style=\"font-weight: bold\">(</span>PartitionedDataset<span style=\"font-weight: bold\">)</span><span style=\"color: #808000; text-decoration-color: #808000\">...</span>                                            <span style=\"color: #7f7f7f; text-decoration-color: #7f7f7f\">                   </span>\n",
       "</pre>\n"
      ],
      "text/plain": [
       "\u001b[2;36m[04/19/24 09:56:42]\u001b[0m\u001b[2;36m \u001b[0m\u001b[34mINFO    \u001b[0m Loading data from \u001b[38;5;208mlab.data_collection.publications.raw\u001b[0m             \u001b]8;id=196997;file:///home/dampudia/miniconda3/envs/.igl_alphafold/lib/python3.11/site-packages/kedro/io/data_catalog.py\u001b\\\u001b[2mdata_catalog.py\u001b[0m\u001b]8;;\u001b\\\u001b[2m:\u001b[0m\u001b]8;id=491553;file:///home/dampudia/miniconda3/envs/.igl_alphafold/lib/python3.11/site-packages/kedro/io/data_catalog.py#482\u001b\\\u001b[2m482\u001b[0m\u001b]8;;\u001b\\\n",
       "\u001b[2;36m                    \u001b[0m         \u001b[1m(\u001b[0mPartitionedDataset\u001b[1m)\u001b[0m\u001b[33m...\u001b[0m                                            \u001b[2m                   \u001b[0m\n"
      ]
     },
     "metadata": {},
     "output_type": "display_data"
    }
   ],
   "source": [
    "pyi = catalog.load(\"lab.data_collection.publications.raw\")"
   ]
  },
  {
   "cell_type": "code",
   "execution_count": 5,
   "metadata": {},
   "outputs": [
    {
     "data": {
      "text/html": [
       "<pre style=\"white-space:pre;overflow-x:auto;line-height:normal;font-family:Menlo,'DejaVu Sans Mono',consolas,'Courier New',monospace\"></pre>\n"
      ],
      "text/plain": []
     },
     "metadata": {},
     "output_type": "display_data"
    },
    {
     "data": {
      "text/plain": [
       "\u001b[1;35mdict_keys\u001b[0m\u001b[1m(\u001b[0m\u001b[1m[\u001b[0m\u001b[32m's0'\u001b[0m, \u001b[32m's1'\u001b[0m, \u001b[32m's10'\u001b[0m, \u001b[32m's11'\u001b[0m, \u001b[32m's12'\u001b[0m, \u001b[32m's13'\u001b[0m, \u001b[32m's14'\u001b[0m, \u001b[32m's15'\u001b[0m, \u001b[32m's16'\u001b[0m, \u001b[32m's17'\u001b[0m, \u001b[32m's18'\u001b[0m, \u001b[32m's19'\u001b[0m, \u001b[32m's2'\u001b[0m, \u001b[32m's20'\u001b[0m, \u001b[32m's21'\u001b[0m, \u001b[32m's22'\u001b[0m, \u001b[32m's23'\u001b[0m, \u001b[32m's24'\u001b[0m, \u001b[32m's25'\u001b[0m, \u001b[32m's26'\u001b[0m, \u001b[32m's27'\u001b[0m, \u001b[32m's28'\u001b[0m, \u001b[32m's29'\u001b[0m, \u001b[32m's3'\u001b[0m, \u001b[32m's30'\u001b[0m, \u001b[32m's31'\u001b[0m, \u001b[32m's32'\u001b[0m, \u001b[32m's33'\u001b[0m, \u001b[32m's34'\u001b[0m, \u001b[32m's35'\u001b[0m, \u001b[32m's36'\u001b[0m, \u001b[32m's37'\u001b[0m, \u001b[32m's38'\u001b[0m, \u001b[32m's39'\u001b[0m, \u001b[32m's4'\u001b[0m, \u001b[32m's40'\u001b[0m, \u001b[32m's41'\u001b[0m, \u001b[32m's42'\u001b[0m, \u001b[32m's43'\u001b[0m, \u001b[32m's44'\u001b[0m, \u001b[32m's45'\u001b[0m, \u001b[32m's46'\u001b[0m, \u001b[32m's47'\u001b[0m, \u001b[32m's48'\u001b[0m, \u001b[32m's49'\u001b[0m, \u001b[32m's5'\u001b[0m, \u001b[32m's50'\u001b[0m, \u001b[32m's51'\u001b[0m, \u001b[32m's52'\u001b[0m, \u001b[32m's53'\u001b[0m, \u001b[32m's54'\u001b[0m, \u001b[32m's55'\u001b[0m, \u001b[32m's56'\u001b[0m, \u001b[32m's57'\u001b[0m, \u001b[32m's58'\u001b[0m, \u001b[32m's59'\u001b[0m, \u001b[32m's6'\u001b[0m, \u001b[32m's60'\u001b[0m, \u001b[32m's61'\u001b[0m, \u001b[32m's62'\u001b[0m, \u001b[32m's63'\u001b[0m, \u001b[32m's64'\u001b[0m, \u001b[32m's65'\u001b[0m, \u001b[32m's66'\u001b[0m, \u001b[32m's67'\u001b[0m, \u001b[32m's68'\u001b[0m, \u001b[32m's69'\u001b[0m, \u001b[32m's7'\u001b[0m, \u001b[32m's70'\u001b[0m, \u001b[32m's71'\u001b[0m, \u001b[32m's72'\u001b[0m, \u001b[32m's8'\u001b[0m, \u001b[32m's9'\u001b[0m\u001b[1m]\u001b[0m\u001b[1m)\u001b[0m"
      ]
     },
     "execution_count": 5,
     "metadata": {},
     "output_type": "execute_result"
    }
   ],
   "source": [
    "pyi.keys()"
   ]
  },
  {
   "cell_type": "code",
   "execution_count": 6,
   "metadata": {},
   "outputs": [],
   "source": [
    "z = pyi[\"s0\"]()"
   ]
  },
  {
   "cell_type": "code",
   "execution_count": 11,
   "metadata": {},
   "outputs": [
    {
     "data": {
      "text/html": [
       "<pre style=\"white-space:pre;overflow-x:auto;line-height:normal;font-family:Menlo,'DejaVu Sans Mono',consolas,'Courier New',monospace\"></pre>\n"
      ],
      "text/plain": []
     },
     "metadata": {},
     "output_type": "display_data"
    },
    {
     "data": {
      "text/plain": [
       "\n",
       "\u001b[1m{\u001b[0m\n",
       "    \u001b[32m'id'\u001b[0m: \u001b[32m'https://openalex.org/W2166180044'\u001b[0m,\n",
       "    \u001b[32m'doi'\u001b[0m: \u001b[32m'https://doi.org/10.1038/nm.2375'\u001b[0m,\n",
       "    \u001b[32m'display_name'\u001b[0m: \u001b[32m'A clinical microchip for evaluation of single immune cells reveals high functional heterogeneity in phenotypically similar T cells'\u001b[0m,\n",
       "    \u001b[32m'title'\u001b[0m: \u001b[32m'A clinical microchip for evaluation of single immune cells reveals high functional heterogeneity in phenotypically similar T cells'\u001b[0m,\n",
       "    \u001b[32m'publication_date'\u001b[0m: \u001b[32m'2011-05-22'\u001b[0m,\n",
       "    \u001b[32m'abstract'\u001b[0m: \u001b[32m'Cellular immunity has an inherent high level of functional heterogeneity. Capturing the full spectrum of these functions requires analysis of large numbers of effector molecules from single cells. We report a microfluidic platform designed for highly multiplexed \u001b[0m\u001b[32m(\u001b[0m\u001b[32mmore than ten proteins\u001b[0m\u001b[32m)\u001b[0m\u001b[32m, reliable, sample-efficient \u001b[0m\u001b[32m(\u001b[0m\u001b[32m∼1 × 10\u001b[0m\u001b[32m(\u001b[0m\u001b[32m4\u001b[0m\u001b[32m)\u001b[0m\u001b[32m cells\u001b[0m\u001b[32m)\u001b[0m\u001b[32m and quantitative measurements of secreted proteins from single cells. We validated the platform by assessment of multiple inflammatory cytokines from lipopolysaccharide \u001b[0m\u001b[32m(\u001b[0m\u001b[32mLPS\u001b[0m\u001b[32m)\u001b[0m\u001b[32m-stimulated human macrophages and comparison to standard immunotechnologies. We applied the platform toward the ex vivo quantification of T cell polyfunctional diversity via the simultaneous measurement of a dozen effector molecules secreted from tumor antigen-specific cytotoxic T lymphocytes \u001b[0m\u001b[32m(\u001b[0m\u001b[32mCTLs\u001b[0m\u001b[32m)\u001b[0m\u001b[32m that were actively responding to tumor and compared against a cohort of healthy donor controls. We observed profound, yet focused, functional heterogeneity in active tumor antigen-specific CTLs, with the major functional phenotypes quantitatively identified. The platform represents a new and informative tool for immune monitoring and clinical assessment.'\u001b[0m,\n",
       "    \u001b[32m'authorships'\u001b[0m: \u001b[1m[\u001b[0m\n",
       "        \u001b[1m{\u001b[0m\n",
       "            \u001b[32m'author_position'\u001b[0m: \u001b[32m'first'\u001b[0m,\n",
       "            \u001b[32m'author'\u001b[0m: \u001b[1m{\u001b[0m\n",
       "                \u001b[32m'id'\u001b[0m: \u001b[32m'https://openalex.org/A5057125192'\u001b[0m,\n",
       "                \u001b[32m'display_name'\u001b[0m: \u001b[32m'Chao Ma'\u001b[0m,\n",
       "                \u001b[32m'orcid'\u001b[0m: \u001b[32m'https://orcid.org/0000-0001-6082-9441'\u001b[0m\n",
       "            \u001b[1m}\u001b[0m,\n",
       "            \u001b[32m'institutions'\u001b[0m: \u001b[1m[\u001b[0m\n",
       "                \u001b[1m{\u001b[0m\n",
       "                    \u001b[32m'id'\u001b[0m: \u001b[32m'https://openalex.org/I122411786'\u001b[0m,\n",
       "                    \u001b[32m'display_name'\u001b[0m: \u001b[32m'California Institute of Technology'\u001b[0m,\n",
       "                    \u001b[32m'ror'\u001b[0m: \u001b[32m'https://ror.org/05dxps055'\u001b[0m,\n",
       "                    \u001b[32m'country_code'\u001b[0m: \u001b[32m'US'\u001b[0m,\n",
       "                    \u001b[32m'type'\u001b[0m: \u001b[32m'education'\u001b[0m,\n",
       "                    \u001b[32m'lineage'\u001b[0m: \u001b[1m[\u001b[0m\u001b[32m'https://openalex.org/I122411786'\u001b[0m\u001b[1m]\u001b[0m\n",
       "                \u001b[1m}\u001b[0m\n",
       "            \u001b[1m]\u001b[0m,\n",
       "            \u001b[32m'countries'\u001b[0m: \u001b[1m[\u001b[0m\u001b[32m'US'\u001b[0m\u001b[1m]\u001b[0m,\n",
       "            \u001b[32m'is_corresponding'\u001b[0m: \u001b[3;91mFalse\u001b[0m,\n",
       "            \u001b[32m'raw_author_name'\u001b[0m: \u001b[32m'Chao Ma'\u001b[0m,\n",
       "            \u001b[32m'raw_affiliation_string'\u001b[0m: \u001b[32m'NanoSystems Biology Cancer Center, California Institute of Technology, Pasadena, California, USA'\u001b[0m,\n",
       "            \u001b[32m'raw_affiliation_strings'\u001b[0m: \u001b[1m[\u001b[0m\n",
       "                \u001b[32m'NanoSystems Biology Cancer Center, California Institute of Technology, Pasadena, California, USA'\u001b[0m\n",
       "            \u001b[1m]\u001b[0m\n",
       "        \u001b[1m}\u001b[0m,\n",
       "        \u001b[1m{\u001b[0m\n",
       "            \u001b[32m'author_position'\u001b[0m: \u001b[32m'middle'\u001b[0m,\n",
       "            \u001b[32m'author'\u001b[0m: \u001b[1m{\u001b[0m\n",
       "                \u001b[32m'id'\u001b[0m: \u001b[32m'https://openalex.org/A5013529158'\u001b[0m,\n",
       "                \u001b[32m'display_name'\u001b[0m: \u001b[32m'Rong Fan'\u001b[0m,\n",
       "                \u001b[32m'orcid'\u001b[0m: \u001b[32m'https://orcid.org/0000-0001-7805-8059'\u001b[0m\n",
       "            \u001b[1m}\u001b[0m,\n",
       "            \u001b[32m'institutions'\u001b[0m: \u001b[1m[\u001b[0m\n",
       "                \u001b[1m{\u001b[0m\n",
       "                    \u001b[32m'id'\u001b[0m: \u001b[32m'https://openalex.org/I122411786'\u001b[0m,\n",
       "                    \u001b[32m'display_name'\u001b[0m: \u001b[32m'California Institute of Technology'\u001b[0m,\n",
       "                    \u001b[32m'ror'\u001b[0m: \u001b[32m'https://ror.org/05dxps055'\u001b[0m,\n",
       "                    \u001b[32m'country_code'\u001b[0m: \u001b[32m'US'\u001b[0m,\n",
       "                    \u001b[32m'type'\u001b[0m: \u001b[32m'education'\u001b[0m,\n",
       "                    \u001b[32m'lineage'\u001b[0m: \u001b[1m[\u001b[0m\u001b[32m'https://openalex.org/I122411786'\u001b[0m\u001b[1m]\u001b[0m\n",
       "                \u001b[1m}\u001b[0m\n",
       "            \u001b[1m]\u001b[0m,\n",
       "            \u001b[32m'countries'\u001b[0m: \u001b[1m[\u001b[0m\u001b[32m'US'\u001b[0m\u001b[1m]\u001b[0m,\n",
       "            \u001b[32m'is_corresponding'\u001b[0m: \u001b[3;91mFalse\u001b[0m,\n",
       "            \u001b[32m'raw_author_name'\u001b[0m: \u001b[32m'Rong Fan'\u001b[0m,\n",
       "            \u001b[32m'raw_affiliation_string'\u001b[0m: \u001b[32m'NanoSystems Biology Cancer Center, California Institute of Technology, Pasadena, California, USA'\u001b[0m,\n",
       "            \u001b[32m'raw_affiliation_strings'\u001b[0m: \u001b[1m[\u001b[0m\n",
       "                \u001b[32m'NanoSystems Biology Cancer Center, California Institute of Technology, Pasadena, California, USA'\u001b[0m\n",
       "            \u001b[1m]\u001b[0m\n",
       "        \u001b[1m}\u001b[0m,\n",
       "        \u001b[1m{\u001b[0m\n",
       "            \u001b[32m'author_position'\u001b[0m: \u001b[32m'middle'\u001b[0m,\n",
       "            \u001b[32m'author'\u001b[0m: \u001b[1m{\u001b[0m\n",
       "                \u001b[32m'id'\u001b[0m: \u001b[32m'https://openalex.org/A5068664278'\u001b[0m,\n",
       "                \u001b[32m'display_name'\u001b[0m: \u001b[32m'Habib Ahmad'\u001b[0m,\n",
       "                \u001b[32m'orcid'\u001b[0m: \u001b[3;35mNone\u001b[0m\n",
       "            \u001b[1m}\u001b[0m,\n",
       "            \u001b[32m'institutions'\u001b[0m: \u001b[1m[\u001b[0m\n",
       "                \u001b[1m{\u001b[0m\n",
       "                    \u001b[32m'id'\u001b[0m: \u001b[32m'https://openalex.org/I122411786'\u001b[0m,\n",
       "                    \u001b[32m'display_name'\u001b[0m: \u001b[32m'California Institute of Technology'\u001b[0m,\n",
       "                    \u001b[32m'ror'\u001b[0m: \u001b[32m'https://ror.org/05dxps055'\u001b[0m,\n",
       "                    \u001b[32m'country_code'\u001b[0m: \u001b[32m'US'\u001b[0m,\n",
       "                    \u001b[32m'type'\u001b[0m: \u001b[32m'education'\u001b[0m,\n",
       "                    \u001b[32m'lineage'\u001b[0m: \u001b[1m[\u001b[0m\u001b[32m'https://openalex.org/I122411786'\u001b[0m\u001b[1m]\u001b[0m\n",
       "                \u001b[1m}\u001b[0m\n",
       "            \u001b[1m]\u001b[0m,\n",
       "            \u001b[32m'countries'\u001b[0m: \u001b[1m[\u001b[0m\u001b[32m'US'\u001b[0m\u001b[1m]\u001b[0m,\n",
       "            \u001b[32m'is_corresponding'\u001b[0m: \u001b[3;91mFalse\u001b[0m,\n",
       "            \u001b[32m'raw_author_name'\u001b[0m: \u001b[32m'Habib Ahmad'\u001b[0m,\n",
       "            \u001b[32m'raw_affiliation_string'\u001b[0m: \u001b[32m'NanoSystems Biology Cancer Center, California Institute of Technology, Pasadena, California, USA'\u001b[0m,\n",
       "            \u001b[32m'raw_affiliation_strings'\u001b[0m: \u001b[1m[\u001b[0m\n",
       "                \u001b[32m'NanoSystems Biology Cancer Center, California Institute of Technology, Pasadena, California, USA'\u001b[0m\n",
       "            \u001b[1m]\u001b[0m\n",
       "        \u001b[1m}\u001b[0m,\n",
       "        \u001b[1m{\u001b[0m\n",
       "            \u001b[32m'author_position'\u001b[0m: \u001b[32m'middle'\u001b[0m,\n",
       "            \u001b[32m'author'\u001b[0m: \u001b[1m{\u001b[0m\n",
       "                \u001b[32m'id'\u001b[0m: \u001b[32m'https://openalex.org/A5000005088'\u001b[0m,\n",
       "                \u001b[32m'display_name'\u001b[0m: \u001b[32m'Qi Shi'\u001b[0m,\n",
       "                \u001b[32m'orcid'\u001b[0m: \u001b[32m'https://orcid.org/0000-0001-8403-9452'\u001b[0m\n",
       "            \u001b[1m}\u001b[0m,\n",
       "            \u001b[32m'institutions'\u001b[0m: \u001b[1m[\u001b[0m\n",
       "                \u001b[1m{\u001b[0m\n",
       "                    \u001b[32m'id'\u001b[0m: \u001b[32m'https://openalex.org/I122411786'\u001b[0m,\n",
       "                    \u001b[32m'display_name'\u001b[0m: \u001b[32m'California Institute of Technology'\u001b[0m,\n",
       "                    \u001b[32m'ror'\u001b[0m: \u001b[32m'https://ror.org/05dxps055'\u001b[0m,\n",
       "                    \u001b[32m'country_code'\u001b[0m: \u001b[32m'US'\u001b[0m,\n",
       "                    \u001b[32m'type'\u001b[0m: \u001b[32m'education'\u001b[0m,\n",
       "                    \u001b[32m'lineage'\u001b[0m: \u001b[1m[\u001b[0m\u001b[32m'https://openalex.org/I122411786'\u001b[0m\u001b[1m]\u001b[0m\n",
       "                \u001b[1m}\u001b[0m\n",
       "            \u001b[1m]\u001b[0m,\n",
       "            \u001b[32m'countries'\u001b[0m: \u001b[1m[\u001b[0m\u001b[32m'US'\u001b[0m\u001b[1m]\u001b[0m,\n",
       "            \u001b[32m'is_corresponding'\u001b[0m: \u001b[3;91mFalse\u001b[0m,\n",
       "            \u001b[32m'raw_author_name'\u001b[0m: \u001b[32m'Qihui Shi'\u001b[0m,\n",
       "            \u001b[32m'raw_affiliation_string'\u001b[0m: \u001b[32m'NanoSystems Biology Cancer Center, California Institute of Technology, Pasadena, California, USA'\u001b[0m,\n",
       "            \u001b[32m'raw_affiliation_strings'\u001b[0m: \u001b[1m[\u001b[0m\n",
       "                \u001b[32m'NanoSystems Biology Cancer Center, California Institute of Technology, Pasadena, California, USA'\u001b[0m\n",
       "            \u001b[1m]\u001b[0m\n",
       "        \u001b[1m}\u001b[0m,\n",
       "        \u001b[1m{\u001b[0m\n",
       "            \u001b[32m'author_position'\u001b[0m: \u001b[32m'middle'\u001b[0m,\n",
       "            \u001b[32m'author'\u001b[0m: \u001b[1m{\u001b[0m\n",
       "                \u001b[32m'id'\u001b[0m: \u001b[32m'https://openalex.org/A5017440876'\u001b[0m,\n",
       "                \u001b[32m'display_name'\u001b[0m: \u001b[32m'Begoñya Comin-Anduix'\u001b[0m,\n",
       "                \u001b[32m'orcid'\u001b[0m: \u001b[3;35mNone\u001b[0m\n",
       "            \u001b[1m}\u001b[0m,\n",
       "            \u001b[32m'institutions'\u001b[0m: \u001b[1m[\u001b[0m\n",
       "                \u001b[1m{\u001b[0m\n",
       "                    \u001b[32m'id'\u001b[0m: \u001b[32m'https://openalex.org/I161318765'\u001b[0m,\n",
       "                    \u001b[32m'display_name'\u001b[0m: \u001b[32m'University of California, Los Angeles'\u001b[0m,\n",
       "                    \u001b[32m'ror'\u001b[0m: \u001b[32m'https://ror.org/046rm7j60'\u001b[0m,\n",
       "                    \u001b[32m'country_code'\u001b[0m: \u001b[32m'US'\u001b[0m,\n",
       "                    \u001b[32m'type'\u001b[0m: \u001b[32m'education'\u001b[0m,\n",
       "                    \u001b[32m'lineage'\u001b[0m: \u001b[1m[\u001b[0m\n",
       "                        \u001b[32m'https://openalex.org/I161318765'\u001b[0m,\n",
       "                        \u001b[32m'https://openalex.org/I2803209242'\u001b[0m\n",
       "                    \u001b[1m]\u001b[0m\n",
       "                \u001b[1m}\u001b[0m\n",
       "            \u001b[1m]\u001b[0m,\n",
       "            \u001b[32m'countries'\u001b[0m: \u001b[1m[\u001b[0m\u001b[32m'US'\u001b[0m\u001b[1m]\u001b[0m,\n",
       "            \u001b[32m'is_corresponding'\u001b[0m: \u001b[3;91mFalse\u001b[0m,\n",
       "            \u001b[32m'raw_author_name'\u001b[0m: \u001b[32m'Begonya Comin-Anduix'\u001b[0m,\n",
       "            \u001b[32m'raw_affiliation_string'\u001b[0m: \u001b[32m'David Geffen School of Medicine, University of California–Los Angeles \u001b[0m\u001b[32m(\u001b[0m\u001b[32mUCLA\u001b[0m\u001b[32m)\u001b[0m\u001b[32m, Los Angeles, California, USA'\u001b[0m,\n",
       "            \u001b[32m'raw_affiliation_strings'\u001b[0m: \u001b[1m[\u001b[0m\n",
       "                \u001b[32m'David Geffen School of Medicine, University of California–Los Angeles \u001b[0m\u001b[32m(\u001b[0m\u001b[32mUCLA\u001b[0m\u001b[32m)\u001b[0m\u001b[32m, Los Angeles, California, USA'\u001b[0m\n",
       "            \u001b[1m]\u001b[0m\n",
       "        \u001b[1m}\u001b[0m,\n",
       "        \u001b[1m{\u001b[0m\n",
       "            \u001b[32m'author_position'\u001b[0m: \u001b[32m'middle'\u001b[0m,\n",
       "            \u001b[32m'author'\u001b[0m: \u001b[1m{\u001b[0m\n",
       "                \u001b[32m'id'\u001b[0m: \u001b[32m'https://openalex.org/A5025607600'\u001b[0m,\n",
       "                \u001b[32m'display_name'\u001b[0m: \u001b[32m'Thinle Chodon'\u001b[0m,\n",
       "                \u001b[32m'orcid'\u001b[0m: \u001b[32m'https://orcid.org/0009-0000-2307-6209'\u001b[0m\n",
       "            \u001b[1m}\u001b[0m,\n",
       "            \u001b[32m'institutions'\u001b[0m: \u001b[1m[\u001b[0m\n",
       "                \u001b[1m{\u001b[0m\n",
       "                    \u001b[32m'id'\u001b[0m: \u001b[32m'https://openalex.org/I161318765'\u001b[0m,\n",
       "                    \u001b[32m'display_name'\u001b[0m: \u001b[32m'University of California, Los Angeles'\u001b[0m,\n",
       "                    \u001b[32m'ror'\u001b[0m: \u001b[32m'https://ror.org/046rm7j60'\u001b[0m,\n",
       "                    \u001b[32m'country_code'\u001b[0m: \u001b[32m'US'\u001b[0m,\n",
       "                    \u001b[32m'type'\u001b[0m: \u001b[32m'education'\u001b[0m,\n",
       "                    \u001b[32m'lineage'\u001b[0m: \u001b[1m[\u001b[0m\n",
       "                        \u001b[32m'https://openalex.org/I161318765'\u001b[0m,\n",
       "                        \u001b[32m'https://openalex.org/I2803209242'\u001b[0m\n",
       "                    \u001b[1m]\u001b[0m\n",
       "                \u001b[1m}\u001b[0m\n",
       "            \u001b[1m]\u001b[0m,\n",
       "            \u001b[32m'countries'\u001b[0m: \u001b[1m[\u001b[0m\u001b[32m'US'\u001b[0m\u001b[1m]\u001b[0m,\n",
       "            \u001b[32m'is_corresponding'\u001b[0m: \u001b[3;91mFalse\u001b[0m,\n",
       "            \u001b[32m'raw_author_name'\u001b[0m: \u001b[32m'Thinle Chodon'\u001b[0m,\n",
       "            \u001b[32m'raw_affiliation_string'\u001b[0m: \u001b[32m'David Geffen School of Medicine, University of California–Los Angeles \u001b[0m\u001b[32m(\u001b[0m\u001b[32mUCLA\u001b[0m\u001b[32m)\u001b[0m\u001b[32m, Los Angeles, California, USA'\u001b[0m,\n",
       "            \u001b[32m'raw_affiliation_strings'\u001b[0m: \u001b[1m[\u001b[0m\n",
       "                \u001b[32m'David Geffen School of Medicine, University of California–Los Angeles \u001b[0m\u001b[32m(\u001b[0m\u001b[32mUCLA\u001b[0m\u001b[32m)\u001b[0m\u001b[32m, Los Angeles, California, USA'\u001b[0m\n",
       "            \u001b[1m]\u001b[0m\n",
       "        \u001b[1m}\u001b[0m,\n",
       "        \u001b[1m{\u001b[0m\n",
       "            \u001b[32m'author_position'\u001b[0m: \u001b[32m'middle'\u001b[0m,\n",
       "            \u001b[32m'author'\u001b[0m: \u001b[1m{\u001b[0m\n",
       "                \u001b[32m'id'\u001b[0m: \u001b[32m'https://openalex.org/A5076033326'\u001b[0m,\n",
       "                \u001b[32m'display_name'\u001b[0m: \u001b[32m'Richard C. Koya'\u001b[0m,\n",
       "                \u001b[32m'orcid'\u001b[0m: \u001b[32m'https://orcid.org/0000-0002-7987-7811'\u001b[0m\n",
       "            \u001b[1m}\u001b[0m,\n",
       "            \u001b[32m'institutions'\u001b[0m: \u001b[1m[\u001b[0m\n",
       "                \u001b[1m{\u001b[0m\n",
       "                    \u001b[32m'id'\u001b[0m: \u001b[32m'https://openalex.org/I161318765'\u001b[0m,\n",
       "                    \u001b[32m'display_name'\u001b[0m: \u001b[32m'University of California, Los Angeles'\u001b[0m,\n",
       "                    \u001b[32m'ror'\u001b[0m: \u001b[32m'https://ror.org/046rm7j60'\u001b[0m,\n",
       "                    \u001b[32m'country_code'\u001b[0m: \u001b[32m'US'\u001b[0m,\n",
       "                    \u001b[32m'type'\u001b[0m: \u001b[32m'education'\u001b[0m,\n",
       "                    \u001b[32m'lineage'\u001b[0m: \u001b[1m[\u001b[0m\n",
       "                        \u001b[32m'https://openalex.org/I161318765'\u001b[0m,\n",
       "                        \u001b[32m'https://openalex.org/I2803209242'\u001b[0m\n",
       "                    \u001b[1m]\u001b[0m\n",
       "                \u001b[1m}\u001b[0m\n",
       "            \u001b[1m]\u001b[0m,\n",
       "            \u001b[32m'countries'\u001b[0m: \u001b[1m[\u001b[0m\u001b[32m'US'\u001b[0m\u001b[1m]\u001b[0m,\n",
       "            \u001b[32m'is_corresponding'\u001b[0m: \u001b[3;91mFalse\u001b[0m,\n",
       "            \u001b[32m'raw_author_name'\u001b[0m: \u001b[32m'Richard C Koya'\u001b[0m,\n",
       "            \u001b[32m'raw_affiliation_string'\u001b[0m: \u001b[32m'David Geffen School of Medicine, University of California–Los Angeles \u001b[0m\u001b[32m(\u001b[0m\u001b[32mUCLA\u001b[0m\u001b[32m)\u001b[0m\u001b[32m, Los Angeles, California, USA'\u001b[0m,\n",
       "            \u001b[32m'raw_affiliation_strings'\u001b[0m: \u001b[1m[\u001b[0m\n",
       "                \u001b[32m'David Geffen School of Medicine, University of California–Los Angeles \u001b[0m\u001b[32m(\u001b[0m\u001b[32mUCLA\u001b[0m\u001b[32m)\u001b[0m\u001b[32m, Los Angeles, California, USA'\u001b[0m\n",
       "            \u001b[1m]\u001b[0m\n",
       "        \u001b[1m}\u001b[0m,\n",
       "        \u001b[1m{\u001b[0m\n",
       "            \u001b[32m'author_position'\u001b[0m: \u001b[32m'middle'\u001b[0m,\n",
       "            \u001b[32m'author'\u001b[0m: \u001b[1m{\u001b[0m\n",
       "                \u001b[32m'id'\u001b[0m: \u001b[32m'https://openalex.org/A5004124989'\u001b[0m,\n",
       "                \u001b[32m'display_name'\u001b[0m: \u001b[32m'Chao Liu'\u001b[0m,\n",
       "                \u001b[32m'orcid'\u001b[0m: \u001b[32m'https://orcid.org/0000-0003-0057-3397'\u001b[0m\n",
       "            \u001b[1m}\u001b[0m,\n",
       "            \u001b[32m'institutions'\u001b[0m: \u001b[1m[\u001b[0m\n",
       "                \u001b[1m{\u001b[0m\n",
       "                    \u001b[32m'id'\u001b[0m: \u001b[32m'https://openalex.org/I122411786'\u001b[0m,\n",
       "                    \u001b[32m'display_name'\u001b[0m: \u001b[32m'California Institute of Technology'\u001b[0m,\n",
       "                    \u001b[32m'ror'\u001b[0m: \u001b[32m'https://ror.org/05dxps055'\u001b[0m,\n",
       "                    \u001b[32m'country_code'\u001b[0m: \u001b[32m'US'\u001b[0m,\n",
       "                    \u001b[32m'type'\u001b[0m: \u001b[32m'education'\u001b[0m,\n",
       "                    \u001b[32m'lineage'\u001b[0m: \u001b[1m[\u001b[0m\u001b[32m'https://openalex.org/I122411786'\u001b[0m\u001b[1m]\u001b[0m\n",
       "                \u001b[1m}\u001b[0m\n",
       "            \u001b[1m]\u001b[0m,\n",
       "            \u001b[32m'countries'\u001b[0m: \u001b[1m[\u001b[0m\u001b[32m'US'\u001b[0m\u001b[1m]\u001b[0m,\n",
       "            \u001b[32m'is_corresponding'\u001b[0m: \u001b[3;91mFalse\u001b[0m,\n",
       "            \u001b[32m'raw_author_name'\u001b[0m: \u001b[32m'Chao-Chao Liu'\u001b[0m,\n",
       "            \u001b[32m'raw_affiliation_string'\u001b[0m: \u001b[32m'Division of Chemistry and Chemical Engineering, California Institute of Technology, Pasadena, California, USA'\u001b[0m,\n",
       "            \u001b[32m'raw_affiliation_strings'\u001b[0m: \u001b[1m[\u001b[0m\n",
       "                \u001b[32m'Division of Chemistry and Chemical Engineering, California Institute of Technology, Pasadena, California, USA'\u001b[0m\n",
       "            \u001b[1m]\u001b[0m\n",
       "        \u001b[1m}\u001b[0m,\n",
       "        \u001b[1m{\u001b[0m\n",
       "            \u001b[32m'author_position'\u001b[0m: \u001b[32m'middle'\u001b[0m,\n",
       "            \u001b[32m'author'\u001b[0m: \u001b[1m{\u001b[0m\n",
       "                \u001b[32m'id'\u001b[0m: \u001b[32m'https://openalex.org/A5084012841'\u001b[0m,\n",
       "                \u001b[32m'display_name'\u001b[0m: \u001b[32m'Gabriel A. Kwong'\u001b[0m,\n",
       "                \u001b[32m'orcid'\u001b[0m: \u001b[32m'https://orcid.org/0000-0002-6255-6755'\u001b[0m\n",
       "            \u001b[1m}\u001b[0m,\n",
       "            \u001b[32m'institutions'\u001b[0m: \u001b[1m[\u001b[0m\n",
       "                \u001b[1m{\u001b[0m\n",
       "                    \u001b[32m'id'\u001b[0m: \u001b[32m'https://openalex.org/I122411786'\u001b[0m,\n",
       "                    \u001b[32m'display_name'\u001b[0m: \u001b[32m'California Institute of Technology'\u001b[0m,\n",
       "                    \u001b[32m'ror'\u001b[0m: \u001b[32m'https://ror.org/05dxps055'\u001b[0m,\n",
       "                    \u001b[32m'country_code'\u001b[0m: \u001b[32m'US'\u001b[0m,\n",
       "                    \u001b[32m'type'\u001b[0m: \u001b[32m'education'\u001b[0m,\n",
       "                    \u001b[32m'lineage'\u001b[0m: \u001b[1m[\u001b[0m\u001b[32m'https://openalex.org/I122411786'\u001b[0m\u001b[1m]\u001b[0m\n",
       "                \u001b[1m}\u001b[0m\n",
       "            \u001b[1m]\u001b[0m,\n",
       "            \u001b[32m'countries'\u001b[0m: \u001b[1m[\u001b[0m\u001b[32m'US'\u001b[0m\u001b[1m]\u001b[0m,\n",
       "            \u001b[32m'is_corresponding'\u001b[0m: \u001b[3;91mFalse\u001b[0m,\n",
       "            \u001b[32m'raw_author_name'\u001b[0m: \u001b[32m'Gabriel A Kwong'\u001b[0m,\n",
       "            \u001b[32m'raw_affiliation_string'\u001b[0m: \u001b[32m'Division of Chemistry and Chemical Engineering, California Institute of Technology, Pasadena, California, USA'\u001b[0m,\n",
       "            \u001b[32m'raw_affiliation_strings'\u001b[0m: \u001b[1m[\u001b[0m\n",
       "                \u001b[32m'Division of Chemistry and Chemical Engineering, California Institute of Technology, Pasadena, California, USA'\u001b[0m\n",
       "            \u001b[1m]\u001b[0m\n",
       "        \u001b[1m}\u001b[0m,\n",
       "        \u001b[1m{\u001b[0m\n",
       "            \u001b[32m'author_position'\u001b[0m: \u001b[32m'middle'\u001b[0m,\n",
       "            \u001b[32m'author'\u001b[0m: \u001b[1m{\u001b[0m\n",
       "                \u001b[32m'id'\u001b[0m: \u001b[32m'https://openalex.org/A5018755772'\u001b[0m,\n",
       "                \u001b[32m'display_name'\u001b[0m: \u001b[32m'Caius G. Radu'\u001b[0m,\n",
       "                \u001b[32m'orcid'\u001b[0m: \u001b[32m'https://orcid.org/0000-0002-9338-5397'\u001b[0m\n",
       "            \u001b[1m}\u001b[0m,\n",
       "            \u001b[32m'institutions'\u001b[0m: \u001b[1m[\u001b[0m\n",
       "                \u001b[1m{\u001b[0m\n",
       "                    \u001b[32m'id'\u001b[0m: \u001b[32m'https://openalex.org/I122411786'\u001b[0m,\n",
       "                    \u001b[32m'display_name'\u001b[0m: \u001b[32m'California Institute of Technology'\u001b[0m,\n",
       "                    \u001b[32m'ror'\u001b[0m: \u001b[32m'https://ror.org/05dxps055'\u001b[0m,\n",
       "                    \u001b[32m'country_code'\u001b[0m: \u001b[32m'US'\u001b[0m,\n",
       "                    \u001b[32m'type'\u001b[0m: \u001b[32m'education'\u001b[0m,\n",
       "                    \u001b[32m'lineage'\u001b[0m: \u001b[1m[\u001b[0m\u001b[32m'https://openalex.org/I122411786'\u001b[0m\u001b[1m]\u001b[0m\n",
       "                \u001b[1m}\u001b[0m\n",
       "            \u001b[1m]\u001b[0m,\n",
       "            \u001b[32m'countries'\u001b[0m: \u001b[1m[\u001b[0m\u001b[32m'US'\u001b[0m\u001b[1m]\u001b[0m,\n",
       "            \u001b[32m'is_corresponding'\u001b[0m: \u001b[3;91mFalse\u001b[0m,\n",
       "            \u001b[32m'raw_author_name'\u001b[0m: \u001b[32m'Caius G Radu'\u001b[0m,\n",
       "            \u001b[32m'raw_affiliation_string'\u001b[0m: \u001b[32m'NanoSystems Biology Cancer Center, California Institute of Technology, Pasadena, California, USA'\u001b[0m,\n",
       "            \u001b[32m'raw_affiliation_strings'\u001b[0m: \u001b[1m[\u001b[0m\n",
       "                \u001b[32m'NanoSystems Biology Cancer Center, California Institute of Technology, Pasadena, California, USA'\u001b[0m\n",
       "            \u001b[1m]\u001b[0m\n",
       "        \u001b[1m}\u001b[0m,\n",
       "        \u001b[1m{\u001b[0m\n",
       "            \u001b[32m'author_position'\u001b[0m: \u001b[32m'middle'\u001b[0m,\n",
       "            \u001b[32m'author'\u001b[0m: \u001b[1m{\u001b[0m\n",
       "                \u001b[32m'id'\u001b[0m: \u001b[32m'https://openalex.org/A5083745558'\u001b[0m,\n",
       "                \u001b[32m'display_name'\u001b[0m: \u001b[32m'Antoni Ribas'\u001b[0m,\n",
       "                \u001b[32m'orcid'\u001b[0m: \u001b[32m'https://orcid.org/0000-0003-3669-8458'\u001b[0m\n",
       "            \u001b[1m}\u001b[0m,\n",
       "            \u001b[32m'institutions'\u001b[0m: \u001b[1m[\u001b[0m\n",
       "                \u001b[1m{\u001b[0m\n",
       "                    \u001b[32m'id'\u001b[0m: \u001b[32m'https://openalex.org/I122411786'\u001b[0m,\n",
       "                    \u001b[32m'display_name'\u001b[0m: \u001b[32m'California Institute of Technology'\u001b[0m,\n",
       "                    \u001b[32m'ror'\u001b[0m: \u001b[32m'https://ror.org/05dxps055'\u001b[0m,\n",
       "                    \u001b[32m'country_code'\u001b[0m: \u001b[32m'US'\u001b[0m,\n",
       "                    \u001b[32m'type'\u001b[0m: \u001b[32m'education'\u001b[0m,\n",
       "                    \u001b[32m'lineage'\u001b[0m: \u001b[1m[\u001b[0m\u001b[32m'https://openalex.org/I122411786'\u001b[0m\u001b[1m]\u001b[0m\n",
       "                \u001b[1m}\u001b[0m\n",
       "            \u001b[1m]\u001b[0m,\n",
       "            \u001b[32m'countries'\u001b[0m: \u001b[1m[\u001b[0m\u001b[32m'US'\u001b[0m\u001b[1m]\u001b[0m,\n",
       "            \u001b[32m'is_corresponding'\u001b[0m: \u001b[3;91mFalse\u001b[0m,\n",
       "            \u001b[32m'raw_author_name'\u001b[0m: \u001b[32m'Antoni Ribas'\u001b[0m,\n",
       "            \u001b[32m'raw_affiliation_string'\u001b[0m: \u001b[32m'NanoSystems Biology Cancer Center, California Institute of Technology, Pasadena, California, USA'\u001b[0m,\n",
       "            \u001b[32m'raw_affiliation_strings'\u001b[0m: \u001b[1m[\u001b[0m\n",
       "                \u001b[32m'NanoSystems Biology Cancer Center, California Institute of Technology, Pasadena, California, USA'\u001b[0m\n",
       "            \u001b[1m]\u001b[0m\n",
       "        \u001b[1m}\u001b[0m,\n",
       "        \u001b[1m{\u001b[0m\n",
       "            \u001b[32m'author_position'\u001b[0m: \u001b[32m'last'\u001b[0m,\n",
       "            \u001b[32m'author'\u001b[0m: \u001b[1m{\u001b[0m\n",
       "                \u001b[32m'id'\u001b[0m: \u001b[32m'https://openalex.org/A5032990625'\u001b[0m,\n",
       "                \u001b[32m'display_name'\u001b[0m: \u001b[32m'James R. Heath'\u001b[0m,\n",
       "                \u001b[32m'orcid'\u001b[0m: \u001b[32m'https://orcid.org/0000-0001-5356-4385'\u001b[0m\n",
       "            \u001b[1m}\u001b[0m,\n",
       "            \u001b[32m'institutions'\u001b[0m: \u001b[1m[\u001b[0m\n",
       "                \u001b[1m{\u001b[0m\n",
       "                    \u001b[32m'id'\u001b[0m: \u001b[32m'https://openalex.org/I122411786'\u001b[0m,\n",
       "                    \u001b[32m'display_name'\u001b[0m: \u001b[32m'California Institute of Technology'\u001b[0m,\n",
       "                    \u001b[32m'ror'\u001b[0m: \u001b[32m'https://ror.org/05dxps055'\u001b[0m,\n",
       "                    \u001b[32m'country_code'\u001b[0m: \u001b[32m'US'\u001b[0m,\n",
       "                    \u001b[32m'type'\u001b[0m: \u001b[32m'education'\u001b[0m,\n",
       "                    \u001b[32m'lineage'\u001b[0m: \u001b[1m[\u001b[0m\u001b[32m'https://openalex.org/I122411786'\u001b[0m\u001b[1m]\u001b[0m\n",
       "                \u001b[1m}\u001b[0m\n",
       "            \u001b[1m]\u001b[0m,\n",
       "            \u001b[32m'countries'\u001b[0m: \u001b[1m[\u001b[0m\u001b[32m'US'\u001b[0m\u001b[1m]\u001b[0m,\n",
       "            \u001b[32m'is_corresponding'\u001b[0m: \u001b[3;91mFalse\u001b[0m,\n",
       "            \u001b[32m'raw_author_name'\u001b[0m: \u001b[32m'James R Heath'\u001b[0m,\n",
       "            \u001b[32m'raw_affiliation_string'\u001b[0m: \u001b[32m'Division of Chemistry and Chemical Engineering, California Institute of Technology, Pasadena, California, USA'\u001b[0m,\n",
       "            \u001b[32m'raw_affiliation_strings'\u001b[0m: \u001b[1m[\u001b[0m\n",
       "                \u001b[32m'Division of Chemistry and Chemical Engineering, California Institute of Technology, Pasadena, California, USA'\u001b[0m\n",
       "            \u001b[1m]\u001b[0m\n",
       "        \u001b[1m}\u001b[0m\n",
       "    \u001b[1m]\u001b[0m,\n",
       "    \u001b[32m'cited_by_count'\u001b[0m: \u001b[1;36m399\u001b[0m,\n",
       "    \u001b[32m'concepts'\u001b[0m: \u001b[1m[\u001b[0m\n",
       "        \u001b[1m{\u001b[0m\n",
       "            \u001b[32m'id'\u001b[0m: \u001b[32m'https://openalex.org/C51785407'\u001b[0m,\n",
       "            \u001b[32m'wikidata'\u001b[0m: \u001b[32m'https://www.wikidata.org/wiki/Q2627568'\u001b[0m,\n",
       "            \u001b[32m'display_name'\u001b[0m: \u001b[32m'Effector'\u001b[0m,\n",
       "            \u001b[32m'level'\u001b[0m: \u001b[1;36m2\u001b[0m,\n",
       "            \u001b[32m'score'\u001b[0m: \u001b[1;36m0.70570207\u001b[0m\n",
       "        \u001b[1m}\u001b[0m,\n",
       "        \u001b[1m{\u001b[0m\n",
       "            \u001b[32m'id'\u001b[0m: \u001b[32m'https://openalex.org/C154317977'\u001b[0m,\n",
       "            \u001b[32m'wikidata'\u001b[0m: \u001b[32m'https://www.wikidata.org/wiki/Q376266'\u001b[0m,\n",
       "            \u001b[32m'display_name'\u001b[0m: \u001b[32m'Cytotoxic T cell'\u001b[0m,\n",
       "            \u001b[32m'level'\u001b[0m: \u001b[1;36m3\u001b[0m,\n",
       "            \u001b[32m'score'\u001b[0m: \u001b[1;36m0.68794596\u001b[0m\n",
       "        \u001b[1m}\u001b[0m,\n",
       "        \u001b[1m{\u001b[0m\n",
       "            \u001b[32m'id'\u001b[0m: \u001b[32m'https://openalex.org/C8891405'\u001b[0m,\n",
       "            \u001b[32m'wikidata'\u001b[0m: \u001b[32m'https://www.wikidata.org/wiki/Q1059'\u001b[0m,\n",
       "            \u001b[32m'display_name'\u001b[0m: \u001b[32m'Immune system'\u001b[0m,\n",
       "            \u001b[32m'level'\u001b[0m: \u001b[1;36m2\u001b[0m,\n",
       "            \u001b[32m'score'\u001b[0m: \u001b[1;36m0.6732437\u001b[0m\n",
       "        \u001b[1m}\u001b[0m,\n",
       "        \u001b[1m{\u001b[0m\n",
       "            \u001b[32m'id'\u001b[0m: \u001b[32m'https://openalex.org/C86803240'\u001b[0m,\n",
       "            \u001b[32m'wikidata'\u001b[0m: \u001b[32m'https://www.wikidata.org/wiki/Q420'\u001b[0m,\n",
       "            \u001b[32m'display_name'\u001b[0m: \u001b[32m'Biology'\u001b[0m,\n",
       "            \u001b[32m'level'\u001b[0m: \u001b[1;36m0\u001b[0m,\n",
       "            \u001b[32m'score'\u001b[0m: \u001b[1;36m0.6191174\u001b[0m\n",
       "        \u001b[1m}\u001b[0m,\n",
       "        \u001b[1m{\u001b[0m\n",
       "            \u001b[32m'id'\u001b[0m: \u001b[32m'https://openalex.org/C147483822'\u001b[0m,\n",
       "            \u001b[32m'wikidata'\u001b[0m: \u001b[32m'https://www.wikidata.org/wiki/Q103537'\u001b[0m,\n",
       "            \u001b[32m'display_name'\u001b[0m: \u001b[32m'Antigen'\u001b[0m,\n",
       "            \u001b[32m'level'\u001b[0m: \u001b[1;36m2\u001b[0m,\n",
       "            \u001b[32m'score'\u001b[0m: \u001b[1;36m0.5530544\u001b[0m\n",
       "        \u001b[1m}\u001b[0m,\n",
       "        \u001b[1m{\u001b[0m\n",
       "            \u001b[32m'id'\u001b[0m: \u001b[32m'https://openalex.org/C127716648'\u001b[0m,\n",
       "            \u001b[32m'wikidata'\u001b[0m: \u001b[32m'https://www.wikidata.org/wiki/Q104053'\u001b[0m,\n",
       "            \u001b[32m'display_name'\u001b[0m: \u001b[32m'Phenotype'\u001b[0m,\n",
       "            \u001b[32m'level'\u001b[0m: \u001b[1;36m3\u001b[0m,\n",
       "            \u001b[32m'score'\u001b[0m: \u001b[1;36m0.49081597\u001b[0m\n",
       "        \u001b[1m}\u001b[0m,\n",
       "        \u001b[1m{\u001b[0m\n",
       "            \u001b[32m'id'\u001b[0m: \u001b[32m'https://openalex.org/C203014093'\u001b[0m,\n",
       "            \u001b[32m'wikidata'\u001b[0m: \u001b[32m'https://www.wikidata.org/wiki/Q101929'\u001b[0m,\n",
       "            \u001b[32m'display_name'\u001b[0m: \u001b[32m'Immunology'\u001b[0m,\n",
       "            \u001b[32m'level'\u001b[0m: \u001b[1;36m1\u001b[0m,\n",
       "            \u001b[32m'score'\u001b[0m: \u001b[1;36m0.45607287\u001b[0m\n",
       "        \u001b[1m}\u001b[0m,\n",
       "        \u001b[1m{\u001b[0m\n",
       "            \u001b[32m'id'\u001b[0m: \u001b[32m'https://openalex.org/C2778754761'\u001b[0m,\n",
       "            \u001b[32m'wikidata'\u001b[0m: \u001b[32m'https://www.wikidata.org/wiki/Q421804'\u001b[0m,\n",
       "            \u001b[32m'display_name'\u001b[0m: \u001b[32m'Lipopolysaccharide'\u001b[0m,\n",
       "            \u001b[32m'level'\u001b[0m: \u001b[1;36m2\u001b[0m,\n",
       "            \u001b[32m'score'\u001b[0m: \u001b[1;36m0.43767327\u001b[0m\n",
       "        \u001b[1m}\u001b[0m,\n",
       "        \u001b[1m{\u001b[0m\n",
       "            \u001b[32m'id'\u001b[0m: \u001b[32m'https://openalex.org/C26291073'\u001b[0m,\n",
       "            \u001b[32m'wikidata'\u001b[0m: \u001b[32m'https://www.wikidata.org/wiki/Q310484'\u001b[0m,\n",
       "            \u001b[32m'display_name'\u001b[0m: \u001b[32m'Ex vivo'\u001b[0m,\n",
       "            \u001b[32m'level'\u001b[0m: \u001b[1;36m3\u001b[0m,\n",
       "            \u001b[32m'score'\u001b[0m: \u001b[1;36m0.43652704\u001b[0m\n",
       "        \u001b[1m}\u001b[0m,\n",
       "        \u001b[1m{\u001b[0m\n",
       "            \u001b[32m'id'\u001b[0m: \u001b[32m'https://openalex.org/C70721500'\u001b[0m,\n",
       "            \u001b[32m'wikidata'\u001b[0m: \u001b[32m'https://www.wikidata.org/wiki/Q177005'\u001b[0m,\n",
       "            \u001b[32m'display_name'\u001b[0m: \u001b[32m'Computational biology'\u001b[0m,\n",
       "            \u001b[32m'level'\u001b[0m: \u001b[1;36m1\u001b[0m,\n",
       "            \u001b[32m'score'\u001b[0m: \u001b[1;36m0.35721645\u001b[0m\n",
       "        \u001b[1m}\u001b[0m,\n",
       "        \u001b[1m{\u001b[0m\n",
       "            \u001b[32m'id'\u001b[0m: \u001b[32m'https://openalex.org/C95444343'\u001b[0m,\n",
       "            \u001b[32m'wikidata'\u001b[0m: \u001b[32m'https://www.wikidata.org/wiki/Q7141'\u001b[0m,\n",
       "            \u001b[32m'display_name'\u001b[0m: \u001b[32m'Cell biology'\u001b[0m,\n",
       "            \u001b[32m'level'\u001b[0m: \u001b[1;36m1\u001b[0m,\n",
       "            \u001b[32m'score'\u001b[0m: \u001b[1;36m0.32964814\u001b[0m\n",
       "        \u001b[1m}\u001b[0m,\n",
       "        \u001b[1m{\u001b[0m\n",
       "            \u001b[32m'id'\u001b[0m: \u001b[32m'https://openalex.org/C207001950'\u001b[0m,\n",
       "            \u001b[32m'wikidata'\u001b[0m: \u001b[32m'https://www.wikidata.org/wiki/Q141124'\u001b[0m,\n",
       "            \u001b[32m'display_name'\u001b[0m: \u001b[32m'In vivo'\u001b[0m,\n",
       "            \u001b[32m'level'\u001b[0m: \u001b[1;36m2\u001b[0m,\n",
       "            \u001b[32m'score'\u001b[0m: \u001b[1;36m0.32018077\u001b[0m\n",
       "        \u001b[1m}\u001b[0m,\n",
       "        \u001b[1m{\u001b[0m\n",
       "            \u001b[32m'id'\u001b[0m: \u001b[32m'https://openalex.org/C202751555'\u001b[0m,\n",
       "            \u001b[32m'wikidata'\u001b[0m: \u001b[32m'https://www.wikidata.org/wiki/Q221681'\u001b[0m,\n",
       "            \u001b[32m'display_name'\u001b[0m: \u001b[32m'In vitro'\u001b[0m,\n",
       "            \u001b[32m'level'\u001b[0m: \u001b[1;36m2\u001b[0m,\n",
       "            \u001b[32m'score'\u001b[0m: \u001b[1;36m0.23947594\u001b[0m\n",
       "        \u001b[1m}\u001b[0m,\n",
       "        \u001b[1m{\u001b[0m\n",
       "            \u001b[32m'id'\u001b[0m: \u001b[32m'https://openalex.org/C54355233'\u001b[0m,\n",
       "            \u001b[32m'wikidata'\u001b[0m: \u001b[32m'https://www.wikidata.org/wiki/Q7162'\u001b[0m,\n",
       "            \u001b[32m'display_name'\u001b[0m: \u001b[32m'Genetics'\u001b[0m,\n",
       "            \u001b[32m'level'\u001b[0m: \u001b[1;36m1\u001b[0m,\n",
       "            \u001b[32m'score'\u001b[0m: \u001b[1;36m0.09062803\u001b[0m\n",
       "        \u001b[1m}\u001b[0m,\n",
       "        \u001b[1m{\u001b[0m\n",
       "            \u001b[32m'id'\u001b[0m: \u001b[32m'https://openalex.org/C104317684'\u001b[0m,\n",
       "            \u001b[32m'wikidata'\u001b[0m: \u001b[32m'https://www.wikidata.org/wiki/Q7187'\u001b[0m,\n",
       "            \u001b[32m'display_name'\u001b[0m: \u001b[32m'Gene'\u001b[0m,\n",
       "            \u001b[32m'level'\u001b[0m: \u001b[1;36m2\u001b[0m,\n",
       "            \u001b[32m'score'\u001b[0m: \u001b[1;36m0.0\u001b[0m\n",
       "        \u001b[1m}\u001b[0m\n",
       "    \u001b[1m]\u001b[0m,\n",
       "    \u001b[32m'keywords'\u001b[0m: \u001b[1m[\u001b[0m\n",
       "        \u001b[1m{\u001b[0m\n",
       "            \u001b[32m'id'\u001b[0m: \u001b[32m'https://openalex.org/keywords/cell-heterogeneity'\u001b[0m,\n",
       "            \u001b[32m'display_name'\u001b[0m: \u001b[32m'Cell Heterogeneity'\u001b[0m,\n",
       "            \u001b[32m'keyword'\u001b[0m: \u001b[32m'Cell Heterogeneity'\u001b[0m,\n",
       "            \u001b[32m'score'\u001b[0m: \u001b[1;36m0.574678\u001b[0m\n",
       "        \u001b[1m}\u001b[0m,\n",
       "        \u001b[1m{\u001b[0m\n",
       "            \u001b[32m'id'\u001b[0m: \u001b[32m'https://openalex.org/keywords/single-cell'\u001b[0m,\n",
       "            \u001b[32m'display_name'\u001b[0m: \u001b[32m'Single-Cell'\u001b[0m,\n",
       "            \u001b[32m'keyword'\u001b[0m: \u001b[32m'Single-Cell'\u001b[0m,\n",
       "            \u001b[32m'score'\u001b[0m: \u001b[1;36m0.516667\u001b[0m\n",
       "        \u001b[1m}\u001b[0m\n",
       "    \u001b[1m]\u001b[0m,\n",
       "    \u001b[32m'mesh_terms'\u001b[0m: \u001b[1m[\u001b[0m\n",
       "        \u001b[1m{\u001b[0m\n",
       "            \u001b[32m'descriptor_ui'\u001b[0m: \u001b[32m'D056656'\u001b[0m,\n",
       "            \u001b[32m'descriptor_name'\u001b[0m: \u001b[32m'Lab-On-A-Chip Devices'\u001b[0m,\n",
       "            \u001b[32m'qualifier_ui'\u001b[0m: \u001b[32m''\u001b[0m,\n",
       "            \u001b[32m'qualifier_name'\u001b[0m: \u001b[3;35mNone\u001b[0m,\n",
       "            \u001b[32m'is_major_topic'\u001b[0m: \u001b[3;92mTrue\u001b[0m\n",
       "        \u001b[1m}\u001b[0m,\n",
       "        \u001b[1m{\u001b[0m\n",
       "            \u001b[32m'descriptor_ui'\u001b[0m: \u001b[32m'D013601'\u001b[0m,\n",
       "            \u001b[32m'descriptor_name'\u001b[0m: \u001b[32m'T-Lymphocytes'\u001b[0m,\n",
       "            \u001b[32m'qualifier_ui'\u001b[0m: \u001b[32m'Q000276'\u001b[0m,\n",
       "            \u001b[32m'qualifier_name'\u001b[0m: \u001b[32m'immunology'\u001b[0m,\n",
       "            \u001b[32m'is_major_topic'\u001b[0m: \u001b[3;92mTrue\u001b[0m\n",
       "        \u001b[1m}\u001b[0m,\n",
       "        \u001b[1m{\u001b[0m\n",
       "            \u001b[32m'descriptor_ui'\u001b[0m: \u001b[32m'D016207'\u001b[0m,\n",
       "            \u001b[32m'descriptor_name'\u001b[0m: \u001b[32m'Cytokines'\u001b[0m,\n",
       "            \u001b[32m'qualifier_ui'\u001b[0m: \u001b[32m''\u001b[0m,\n",
       "            \u001b[32m'qualifier_name'\u001b[0m: \u001b[3;35mNone\u001b[0m,\n",
       "            \u001b[32m'is_major_topic'\u001b[0m: \u001b[3;91mFalse\u001b[0m\n",
       "        \u001b[1m}\u001b[0m,\n",
       "        \u001b[1m{\u001b[0m\n",
       "            \u001b[32m'descriptor_ui'\u001b[0m: \u001b[32m'D016207'\u001b[0m,\n",
       "            \u001b[32m'descriptor_name'\u001b[0m: \u001b[32m'Cytokines'\u001b[0m,\n",
       "            \u001b[32m'qualifier_ui'\u001b[0m: \u001b[32m'Q000502'\u001b[0m,\n",
       "            \u001b[32m'qualifier_name'\u001b[0m: \u001b[32m'physiology'\u001b[0m,\n",
       "            \u001b[32m'is_major_topic'\u001b[0m: \u001b[3;91mFalse\u001b[0m\n",
       "        \u001b[1m}\u001b[0m,\n",
       "        \u001b[1m{\u001b[0m\n",
       "            \u001b[32m'descriptor_ui'\u001b[0m: \u001b[32m'D016207'\u001b[0m,\n",
       "            \u001b[32m'descriptor_name'\u001b[0m: \u001b[32m'Cytokines'\u001b[0m,\n",
       "            \u001b[32m'qualifier_ui'\u001b[0m: \u001b[32m'Q000378'\u001b[0m,\n",
       "            \u001b[32m'qualifier_name'\u001b[0m: \u001b[32m'metabolism'\u001b[0m,\n",
       "            \u001b[32m'is_major_topic'\u001b[0m: \u001b[3;91mFalse\u001b[0m\n",
       "        \u001b[1m}\u001b[0m,\n",
       "        \u001b[1m{\u001b[0m\n",
       "            \u001b[32m'descriptor_ui'\u001b[0m: \u001b[32m'D006801'\u001b[0m,\n",
       "            \u001b[32m'descriptor_name'\u001b[0m: \u001b[32m'Humans'\u001b[0m,\n",
       "            \u001b[32m'qualifier_ui'\u001b[0m: \u001b[32m''\u001b[0m,\n",
       "            \u001b[32m'qualifier_name'\u001b[0m: \u001b[3;35mNone\u001b[0m,\n",
       "            \u001b[32m'is_major_topic'\u001b[0m: \u001b[3;91mFalse\u001b[0m\n",
       "        \u001b[1m}\u001b[0m,\n",
       "        \u001b[1m{\u001b[0m\n",
       "            \u001b[32m'descriptor_ui'\u001b[0m: \u001b[32m'D008070'\u001b[0m,\n",
       "            \u001b[32m'descriptor_name'\u001b[0m: \u001b[32m'Lipopolysaccharides'\u001b[0m,\n",
       "            \u001b[32m'qualifier_ui'\u001b[0m: \u001b[32m''\u001b[0m,\n",
       "            \u001b[32m'qualifier_name'\u001b[0m: \u001b[3;35mNone\u001b[0m,\n",
       "            \u001b[32m'is_major_topic'\u001b[0m: \u001b[3;91mFalse\u001b[0m\n",
       "        \u001b[1m}\u001b[0m,\n",
       "        \u001b[1m{\u001b[0m\n",
       "            \u001b[32m'descriptor_ui'\u001b[0m: \u001b[32m'D008070'\u001b[0m,\n",
       "            \u001b[32m'descriptor_name'\u001b[0m: \u001b[32m'Lipopolysaccharides'\u001b[0m,\n",
       "            \u001b[32m'qualifier_ui'\u001b[0m: \u001b[32m'Q000494'\u001b[0m,\n",
       "            \u001b[32m'qualifier_name'\u001b[0m: \u001b[32m'pharmacology'\u001b[0m,\n",
       "            \u001b[32m'is_major_topic'\u001b[0m: \u001b[3;91mFalse\u001b[0m\n",
       "        \u001b[1m}\u001b[0m,\n",
       "        \u001b[1m{\u001b[0m\n",
       "            \u001b[32m'descriptor_ui'\u001b[0m: \u001b[32m'D008264'\u001b[0m,\n",
       "            \u001b[32m'descriptor_name'\u001b[0m: \u001b[32m'Macrophages'\u001b[0m,\n",
       "            \u001b[32m'qualifier_ui'\u001b[0m: \u001b[32m'Q000187'\u001b[0m,\n",
       "            \u001b[32m'qualifier_name'\u001b[0m: \u001b[32m'drug effects'\u001b[0m,\n",
       "            \u001b[32m'is_major_topic'\u001b[0m: \u001b[3;91mFalse\u001b[0m\n",
       "        \u001b[1m}\u001b[0m,\n",
       "        \u001b[1m{\u001b[0m\n",
       "            \u001b[32m'descriptor_ui'\u001b[0m: \u001b[32m'D008264'\u001b[0m,\n",
       "            \u001b[32m'descriptor_name'\u001b[0m: \u001b[32m'Macrophages'\u001b[0m,\n",
       "            \u001b[32m'qualifier_ui'\u001b[0m: \u001b[32m'Q000276'\u001b[0m,\n",
       "            \u001b[32m'qualifier_name'\u001b[0m: \u001b[32m'immunology'\u001b[0m,\n",
       "            \u001b[32m'is_major_topic'\u001b[0m: \u001b[3;91mFalse\u001b[0m\n",
       "        \u001b[1m}\u001b[0m,\n",
       "        \u001b[1m{\u001b[0m\n",
       "            \u001b[32m'descriptor_ui'\u001b[0m: \u001b[32m'D008264'\u001b[0m,\n",
       "            \u001b[32m'descriptor_name'\u001b[0m: \u001b[32m'Macrophages'\u001b[0m,\n",
       "            \u001b[32m'qualifier_ui'\u001b[0m: \u001b[32m''\u001b[0m,\n",
       "            \u001b[32m'qualifier_name'\u001b[0m: \u001b[3;35mNone\u001b[0m,\n",
       "            \u001b[32m'is_major_topic'\u001b[0m: \u001b[3;91mFalse\u001b[0m\n",
       "        \u001b[1m}\u001b[0m,\n",
       "        \u001b[1m{\u001b[0m\n",
       "            \u001b[32m'descriptor_ui'\u001b[0m: \u001b[32m'D046208'\u001b[0m,\n",
       "            \u001b[32m'descriptor_name'\u001b[0m: \u001b[32m'Microchip Analytical Procedures'\u001b[0m,\n",
       "            \u001b[32m'qualifier_ui'\u001b[0m: \u001b[32m'Q000379'\u001b[0m,\n",
       "            \u001b[32m'qualifier_name'\u001b[0m: \u001b[32m'methods'\u001b[0m,\n",
       "            \u001b[32m'is_major_topic'\u001b[0m: \u001b[3;91mFalse\u001b[0m\n",
       "        \u001b[1m}\u001b[0m,\n",
       "        \u001b[1m{\u001b[0m\n",
       "            \u001b[32m'descriptor_ui'\u001b[0m: \u001b[32m'D046208'\u001b[0m,\n",
       "            \u001b[32m'descriptor_name'\u001b[0m: \u001b[32m'Microchip Analytical Procedures'\u001b[0m,\n",
       "            \u001b[32m'qualifier_ui'\u001b[0m: \u001b[32m''\u001b[0m,\n",
       "            \u001b[32m'qualifier_name'\u001b[0m: \u001b[3;35mNone\u001b[0m,\n",
       "            \u001b[32m'is_major_topic'\u001b[0m: \u001b[3;91mFalse\u001b[0m\n",
       "        \u001b[1m}\u001b[0m,\n",
       "        \u001b[1m{\u001b[0m\n",
       "            \u001b[32m'descriptor_ui'\u001b[0m: \u001b[32m'D009369'\u001b[0m,\n",
       "            \u001b[32m'descriptor_name'\u001b[0m: \u001b[32m'Neoplasms'\u001b[0m,\n",
       "            \u001b[32m'qualifier_ui'\u001b[0m: \u001b[32m''\u001b[0m,\n",
       "            \u001b[32m'qualifier_name'\u001b[0m: \u001b[3;35mNone\u001b[0m,\n",
       "            \u001b[32m'is_major_topic'\u001b[0m: \u001b[3;91mFalse\u001b[0m\n",
       "        \u001b[1m}\u001b[0m,\n",
       "        \u001b[1m{\u001b[0m\n",
       "            \u001b[32m'descriptor_ui'\u001b[0m: \u001b[32m'D009369'\u001b[0m,\n",
       "            \u001b[32m'descriptor_name'\u001b[0m: \u001b[32m'Neoplasms'\u001b[0m,\n",
       "            \u001b[32m'qualifier_ui'\u001b[0m: \u001b[32m'Q000276'\u001b[0m,\n",
       "            \u001b[32m'qualifier_name'\u001b[0m: \u001b[32m'immunology'\u001b[0m,\n",
       "            \u001b[32m'is_major_topic'\u001b[0m: \u001b[3;91mFalse\u001b[0m\n",
       "        \u001b[1m}\u001b[0m,\n",
       "        \u001b[1m{\u001b[0m\n",
       "            \u001b[32m'descriptor_ui'\u001b[0m: \u001b[32m'D010641'\u001b[0m,\n",
       "            \u001b[32m'descriptor_name'\u001b[0m: \u001b[32m'Phenotype'\u001b[0m,\n",
       "            \u001b[32m'qualifier_ui'\u001b[0m: \u001b[32m''\u001b[0m,\n",
       "            \u001b[32m'qualifier_name'\u001b[0m: \u001b[3;35mNone\u001b[0m,\n",
       "            \u001b[32m'is_major_topic'\u001b[0m: \u001b[3;91mFalse\u001b[0m\n",
       "        \u001b[1m}\u001b[0m,\n",
       "        \u001b[1m{\u001b[0m\n",
       "            \u001b[32m'descriptor_ui'\u001b[0m: \u001b[32m'D013601'\u001b[0m,\n",
       "            \u001b[32m'descriptor_name'\u001b[0m: \u001b[32m'T-Lymphocytes'\u001b[0m,\n",
       "            \u001b[32m'qualifier_ui'\u001b[0m: \u001b[32m''\u001b[0m,\n",
       "            \u001b[32m'qualifier_name'\u001b[0m: \u001b[3;35mNone\u001b[0m,\n",
       "            \u001b[32m'is_major_topic'\u001b[0m: \u001b[3;91mFalse\u001b[0m\n",
       "        \u001b[1m}\u001b[0m,\n",
       "        \u001b[1m{\u001b[0m\n",
       "            \u001b[32m'descriptor_ui'\u001b[0m: \u001b[32m'D013602'\u001b[0m,\n",
       "            \u001b[32m'descriptor_name'\u001b[0m: \u001b[32m'T-Lymphocytes, Cytotoxic'\u001b[0m,\n",
       "            \u001b[32m'qualifier_ui'\u001b[0m: \u001b[32m''\u001b[0m,\n",
       "            \u001b[32m'qualifier_name'\u001b[0m: \u001b[3;35mNone\u001b[0m,\n",
       "            \u001b[32m'is_major_topic'\u001b[0m: \u001b[3;91mFalse\u001b[0m\n",
       "        \u001b[1m}\u001b[0m,\n",
       "        \u001b[1m{\u001b[0m\n",
       "            \u001b[32m'descriptor_ui'\u001b[0m: \u001b[32m'D013602'\u001b[0m,\n",
       "            \u001b[32m'descriptor_name'\u001b[0m: \u001b[32m'T-Lymphocytes, Cytotoxic'\u001b[0m,\n",
       "            \u001b[32m'qualifier_ui'\u001b[0m: \u001b[32m'Q000276'\u001b[0m,\n",
       "            \u001b[32m'qualifier_name'\u001b[0m: \u001b[32m'immunology'\u001b[0m,\n",
       "            \u001b[32m'is_major_topic'\u001b[0m: \u001b[3;91mFalse\u001b[0m\n",
       "        \u001b[1m}\u001b[0m\n",
       "    \u001b[1m]\u001b[0m,\n",
       "    \u001b[32m'topics'\u001b[0m: \u001b[1m[\u001b[0m\n",
       "        \u001b[1m{\u001b[0m\n",
       "            \u001b[32m'id'\u001b[0m: \u001b[32m'https://openalex.org/T11289'\u001b[0m,\n",
       "            \u001b[32m'display_name'\u001b[0m: \u001b[32m'Comprehensive Integration of Single-Cell Transcriptomic Data'\u001b[0m,\n",
       "            \u001b[32m'score'\u001b[0m: \u001b[1;36m0.9997\u001b[0m,\n",
       "            \u001b[32m'subfield'\u001b[0m: \u001b[1m{\u001b[0m\n",
       "                \u001b[32m'id'\u001b[0m: \u001b[32m'https://openalex.org/subfields/1312'\u001b[0m,\n",
       "                \u001b[32m'display_name'\u001b[0m: \u001b[32m'Molecular Biology'\u001b[0m\n",
       "            \u001b[1m}\u001b[0m,\n",
       "            \u001b[32m'field'\u001b[0m: \u001b[1m{\u001b[0m\n",
       "                \u001b[32m'id'\u001b[0m: \u001b[32m'https://openalex.org/fields/13'\u001b[0m,\n",
       "                \u001b[32m'display_name'\u001b[0m: \u001b[32m'Biochemistry, Genetics and Molecular Biology'\u001b[0m\n",
       "            \u001b[1m}\u001b[0m,\n",
       "            \u001b[32m'domain'\u001b[0m: \u001b[1m{\u001b[0m\u001b[32m'id'\u001b[0m: \u001b[32m'https://openalex.org/domains/1'\u001b[0m, \u001b[32m'display_name'\u001b[0m: \u001b[32m'Life Sciences'\u001b[0m\u001b[1m}\u001b[0m\n",
       "        \u001b[1m}\u001b[0m,\n",
       "        \u001b[1m{\u001b[0m\n",
       "            \u001b[32m'id'\u001b[0m: \u001b[32m'https://openalex.org/T10031'\u001b[0m,\n",
       "            \u001b[32m'display_name'\u001b[0m: \u001b[32m'Regulatory T Cell Development and Function'\u001b[0m,\n",
       "            \u001b[32m'score'\u001b[0m: \u001b[1;36m0.9994\u001b[0m,\n",
       "            \u001b[32m'subfield'\u001b[0m: \u001b[1m{\u001b[0m\u001b[32m'id'\u001b[0m: \u001b[32m'https://openalex.org/subfields/2403'\u001b[0m, \u001b[32m'display_name'\u001b[0m: \u001b[32m'Immunology'\u001b[0m\u001b[1m}\u001b[0m,\n",
       "            \u001b[32m'field'\u001b[0m: \u001b[1m{\u001b[0m\n",
       "                \u001b[32m'id'\u001b[0m: \u001b[32m'https://openalex.org/fields/24'\u001b[0m,\n",
       "                \u001b[32m'display_name'\u001b[0m: \u001b[32m'Immunology and Microbiology'\u001b[0m\n",
       "            \u001b[1m}\u001b[0m,\n",
       "            \u001b[32m'domain'\u001b[0m: \u001b[1m{\u001b[0m\u001b[32m'id'\u001b[0m: \u001b[32m'https://openalex.org/domains/1'\u001b[0m, \u001b[32m'display_name'\u001b[0m: \u001b[32m'Life Sciences'\u001b[0m\u001b[1m}\u001b[0m\n",
       "        \u001b[1m}\u001b[0m,\n",
       "        \u001b[1m{\u001b[0m\n",
       "            \u001b[32m'id'\u001b[0m: \u001b[32m'https://openalex.org/T11020'\u001b[0m,\n",
       "            \u001b[32m'display_name'\u001b[0m: \u001b[32m'Natural Killer Cells in Immunity'\u001b[0m,\n",
       "            \u001b[32m'score'\u001b[0m: \u001b[1;36m0.9989\u001b[0m,\n",
       "            \u001b[32m'subfield'\u001b[0m: \u001b[1m{\u001b[0m\u001b[32m'id'\u001b[0m: \u001b[32m'https://openalex.org/subfields/2403'\u001b[0m, \u001b[32m'display_name'\u001b[0m: \u001b[32m'Immunology'\u001b[0m\u001b[1m}\u001b[0m,\n",
       "            \u001b[32m'field'\u001b[0m: \u001b[1m{\u001b[0m\n",
       "                \u001b[32m'id'\u001b[0m: \u001b[32m'https://openalex.org/fields/24'\u001b[0m,\n",
       "                \u001b[32m'display_name'\u001b[0m: \u001b[32m'Immunology and Microbiology'\u001b[0m\n",
       "            \u001b[1m}\u001b[0m,\n",
       "            \u001b[32m'domain'\u001b[0m: \u001b[1m{\u001b[0m\u001b[32m'id'\u001b[0m: \u001b[32m'https://openalex.org/domains/1'\u001b[0m, \u001b[32m'display_name'\u001b[0m: \u001b[32m'Life Sciences'\u001b[0m\u001b[1m}\u001b[0m\n",
       "        \u001b[1m}\u001b[0m\n",
       "    \u001b[1m]\u001b[0m,\n",
       "    \u001b[32m'grants'\u001b[0m: \u001b[1m[\u001b[0m\u001b[1m]\u001b[0m,\n",
       "    \u001b[32m'referenced_works'\u001b[0m: \u001b[1m[\u001b[0m\n",
       "        \u001b[32m'https://openalex.org/W1512247569'\u001b[0m,\n",
       "        \u001b[32m'https://openalex.org/W1521600055'\u001b[0m,\n",
       "        \u001b[32m'https://openalex.org/W1574493485'\u001b[0m,\n",
       "        \u001b[32m'https://openalex.org/W1930598094'\u001b[0m,\n",
       "        \u001b[32m'https://openalex.org/W1965037168'\u001b[0m,\n",
       "        \u001b[32m'https://openalex.org/W1974433492'\u001b[0m,\n",
       "        \u001b[32m'https://openalex.org/W2000591768'\u001b[0m,\n",
       "        \u001b[32m'https://openalex.org/W2004986685'\u001b[0m,\n",
       "        \u001b[32m'https://openalex.org/W2015141049'\u001b[0m,\n",
       "        \u001b[32m'https://openalex.org/W2025712131'\u001b[0m,\n",
       "        \u001b[32m'https://openalex.org/W2029688567'\u001b[0m,\n",
       "        \u001b[32m'https://openalex.org/W2031084334'\u001b[0m,\n",
       "        \u001b[32m'https://openalex.org/W2041889518'\u001b[0m,\n",
       "        \u001b[32m'https://openalex.org/W2059277898'\u001b[0m,\n",
       "        \u001b[32m'https://openalex.org/W2066738380'\u001b[0m,\n",
       "        \u001b[32m'https://openalex.org/W2070491512'\u001b[0m,\n",
       "        \u001b[32m'https://openalex.org/W2078012955'\u001b[0m,\n",
       "        \u001b[32m'https://openalex.org/W2085402152'\u001b[0m,\n",
       "        \u001b[32m'https://openalex.org/W2088298294'\u001b[0m,\n",
       "        \u001b[32m'https://openalex.org/W2094652659'\u001b[0m,\n",
       "        \u001b[32m'https://openalex.org/W2100722902'\u001b[0m,\n",
       "        \u001b[32m'https://openalex.org/W2101587340'\u001b[0m,\n",
       "        \u001b[32m'https://openalex.org/W2105579166'\u001b[0m,\n",
       "        \u001b[32m'https://openalex.org/W2106634937'\u001b[0m,\n",
       "        \u001b[32m'https://openalex.org/W2118925556'\u001b[0m,\n",
       "        \u001b[32m'https://openalex.org/W2119895292'\u001b[0m,\n",
       "        \u001b[32m'https://openalex.org/W2123105952'\u001b[0m,\n",
       "        \u001b[32m'https://openalex.org/W2128625979'\u001b[0m,\n",
       "        \u001b[32m'https://openalex.org/W2136896422'\u001b[0m,\n",
       "        \u001b[32m'https://openalex.org/W2146700191'\u001b[0m,\n",
       "        \u001b[32m'https://openalex.org/W2150926065'\u001b[0m,\n",
       "        \u001b[32m'https://openalex.org/W2152494897'\u001b[0m,\n",
       "        \u001b[32m'https://openalex.org/W2155059804'\u001b[0m,\n",
       "        \u001b[32m'https://openalex.org/W2157211187'\u001b[0m,\n",
       "        \u001b[32m'https://openalex.org/W2161441796'\u001b[0m,\n",
       "        \u001b[32m'https://openalex.org/W2165431330'\u001b[0m,\n",
       "        \u001b[32m'https://openalex.org/W3011891279'\u001b[0m\n",
       "    \u001b[1m]\u001b[0m,\n",
       "    \u001b[32m'ids'\u001b[0m: \u001b[1m{\u001b[0m\n",
       "        \u001b[32m'openalex'\u001b[0m: \u001b[32m'https://openalex.org/W2166180044'\u001b[0m,\n",
       "        \u001b[32m'doi'\u001b[0m: \u001b[32m'https://doi.org/10.1038/nm.2375'\u001b[0m,\n",
       "        \u001b[32m'mag'\u001b[0m: \u001b[32m'2166180044'\u001b[0m,\n",
       "        \u001b[32m'pmid'\u001b[0m: \u001b[32m'https://pubmed.ncbi.nlm.nih.gov/21602800'\u001b[0m,\n",
       "        \u001b[32m'pmcid'\u001b[0m: \u001b[32m'https://www.ncbi.nlm.nih.gov/pmc/articles/3681612'\u001b[0m\n",
       "    \u001b[1m}\u001b[0m,\n",
       "    \u001b[32m'counts_by_year'\u001b[0m: \u001b[1m[\u001b[0m\n",
       "        \u001b[1m{\u001b[0m\u001b[32m'year'\u001b[0m: \u001b[1;36m2024\u001b[0m, \u001b[32m'cited_by_count'\u001b[0m: \u001b[1;36m6\u001b[0m\u001b[1m}\u001b[0m,\n",
       "        \u001b[1m{\u001b[0m\u001b[32m'year'\u001b[0m: \u001b[1;36m2023\u001b[0m, \u001b[32m'cited_by_count'\u001b[0m: \u001b[1;36m27\u001b[0m\u001b[1m}\u001b[0m,\n",
       "        \u001b[1m{\u001b[0m\u001b[32m'year'\u001b[0m: \u001b[1;36m2022\u001b[0m, \u001b[32m'cited_by_count'\u001b[0m: \u001b[1;36m28\u001b[0m\u001b[1m}\u001b[0m,\n",
       "        \u001b[1m{\u001b[0m\u001b[32m'year'\u001b[0m: \u001b[1;36m2021\u001b[0m, \u001b[32m'cited_by_count'\u001b[0m: \u001b[1;36m18\u001b[0m\u001b[1m}\u001b[0m,\n",
       "        \u001b[1m{\u001b[0m\u001b[32m'year'\u001b[0m: \u001b[1;36m2020\u001b[0m, \u001b[32m'cited_by_count'\u001b[0m: \u001b[1;36m29\u001b[0m\u001b[1m}\u001b[0m,\n",
       "        \u001b[1m{\u001b[0m\u001b[32m'year'\u001b[0m: \u001b[1;36m2019\u001b[0m, \u001b[32m'cited_by_count'\u001b[0m: \u001b[1;36m41\u001b[0m\u001b[1m}\u001b[0m,\n",
       "        \u001b[1m{\u001b[0m\u001b[32m'year'\u001b[0m: \u001b[1;36m2018\u001b[0m, \u001b[32m'cited_by_count'\u001b[0m: \u001b[1;36m46\u001b[0m\u001b[1m}\u001b[0m,\n",
       "        \u001b[1m{\u001b[0m\u001b[32m'year'\u001b[0m: \u001b[1;36m2017\u001b[0m, \u001b[32m'cited_by_count'\u001b[0m: \u001b[1;36m39\u001b[0m\u001b[1m}\u001b[0m,\n",
       "        \u001b[1m{\u001b[0m\u001b[32m'year'\u001b[0m: \u001b[1;36m2016\u001b[0m, \u001b[32m'cited_by_count'\u001b[0m: \u001b[1;36m30\u001b[0m\u001b[1m}\u001b[0m,\n",
       "        \u001b[1m{\u001b[0m\u001b[32m'year'\u001b[0m: \u001b[1;36m2015\u001b[0m, \u001b[32m'cited_by_count'\u001b[0m: \u001b[1;36m23\u001b[0m\u001b[1m}\u001b[0m,\n",
       "        \u001b[1m{\u001b[0m\u001b[32m'year'\u001b[0m: \u001b[1;36m2014\u001b[0m, \u001b[32m'cited_by_count'\u001b[0m: \u001b[1;36m34\u001b[0m\u001b[1m}\u001b[0m,\n",
       "        \u001b[1m{\u001b[0m\u001b[32m'year'\u001b[0m: \u001b[1;36m2013\u001b[0m, \u001b[32m'cited_by_count'\u001b[0m: \u001b[1;36m42\u001b[0m\u001b[1m}\u001b[0m,\n",
       "        \u001b[1m{\u001b[0m\u001b[32m'year'\u001b[0m: \u001b[1;36m2012\u001b[0m, \u001b[32m'cited_by_count'\u001b[0m: \u001b[1;36m29\u001b[0m\u001b[1m}\u001b[0m\n",
       "    \u001b[1m]\u001b[0m\n",
       "\u001b[1m}\u001b[0m"
      ]
     },
     "execution_count": 11,
     "metadata": {},
     "output_type": "execute_result"
    }
   ],
   "source": [
    "z[\"A5000005088\"][0]"
   ]
  }
 ],
 "metadata": {
  "kernelspec": {
   "display_name": ".igl_alphafold",
   "language": "python",
   "name": "python3"
  },
  "language_info": {
   "codemirror_mode": {
    "name": "ipython",
    "version": 3
   },
   "file_extension": ".py",
   "mimetype": "text/x-python",
   "name": "python",
   "nbconvert_exporter": "python",
   "pygments_lexer": "ipython3",
   "version": "3.11.5"
  }
 },
 "nbformat": 4,
 "nbformat_minor": 2
}
