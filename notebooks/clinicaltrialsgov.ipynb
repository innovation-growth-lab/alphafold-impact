{
 "cells": [
  {
   "cell_type": "code",
   "execution_count": 6,
   "id": "9f383930",
   "metadata": {},
   "outputs": [],
   "source": [
    "import pandas as pd\n",
    "import numpy as np\n",
    "pd.set_option('display.max_columns', None)"
   ]
  },
  {
   "cell_type": "code",
   "execution_count": 7,
   "id": "1c88af65",
   "metadata": {},
   "outputs": [
    {
     "data": {
      "text/html": [
       "<pre style=\"white-space:pre;overflow-x:auto;line-height:normal;font-family:Menlo,'DejaVu Sans Mono',consolas,'Courier New',monospace\"><span style=\"color: #7fbfbf; text-decoration-color: #7fbfbf\">[04/04/24 11:56:36] </span><span style=\"color: #000080; text-decoration-color: #000080\">INFO    </span> Loading data from <span style=\"color: #ff8700; text-decoration-color: #ff8700\">oa.data_collection.direction.cites.raw</span>           <a href=\"file:///opt/homebrew/Caskroom/miniforge/base/envs/af/lib/python3.10/site-packages/kedro/io/data_catalog.py\" target=\"_blank\"><span style=\"color: #7f7f7f; text-decoration-color: #7f7f7f\">data_catalog.py</span></a><span style=\"color: #7f7f7f; text-decoration-color: #7f7f7f\">:</span><a href=\"file:///opt/homebrew/Caskroom/miniforge/base/envs/af/lib/python3.10/site-packages/kedro/io/data_catalog.py#482\" target=\"_blank\"><span style=\"color: #7f7f7f; text-decoration-color: #7f7f7f\">482</span></a>\n",
       "<span style=\"color: #7fbfbf; text-decoration-color: #7fbfbf\">                    </span>         <span style=\"font-weight: bold\">(</span>PartitionedDataset<span style=\"font-weight: bold\">)</span><span style=\"color: #808000; text-decoration-color: #808000\">...</span>                                            <span style=\"color: #7f7f7f; text-decoration-color: #7f7f7f\">                   </span>\n",
       "</pre>\n"
      ],
      "text/plain": [
       "\u001b[2;36m[04/04/24 11:56:36]\u001b[0m\u001b[2;36m \u001b[0m\u001b[34mINFO    \u001b[0m Loading data from \u001b[38;5;208moa.data_collection.direction.cites.raw\u001b[0m           \u001b]8;id=471051;file:///opt/homebrew/Caskroom/miniforge/base/envs/af/lib/python3.10/site-packages/kedro/io/data_catalog.py\u001b\\\u001b[2mdata_catalog.py\u001b[0m\u001b]8;;\u001b\\\u001b[2m:\u001b[0m\u001b]8;id=136015;file:///opt/homebrew/Caskroom/miniforge/base/envs/af/lib/python3.10/site-packages/kedro/io/data_catalog.py#482\u001b\\\u001b[2m482\u001b[0m\u001b]8;;\u001b\\\n",
       "\u001b[2;36m                    \u001b[0m         \u001b[1m(\u001b[0mPartitionedDataset\u001b[1m)\u001b[0m\u001b[33m...\u001b[0m                                            \u001b[2m                   \u001b[0m\n"
      ]
     },
     "metadata": {},
     "output_type": "display_data"
    }
   ],
   "source": [
    "# Load papers that cite AlphaFold and prepare data to be matched\n",
    "papers_that_cite_af = catalog.load(\"oa.data_collection.direction.cites.raw\")['W3177828909']\n",
    "papers_that_cite_af = (\n",
    "    pd.DataFrame(papers_that_cite_af())\n",
    "    .assign(pmid=lambda df: df.ids.apply(lambda x: x.get('pmid', np.nan)))\n",
    "    .drop(columns=[\"grants\", \"ids\"])\n",
    "    .assign(doi=lambda df: df['doi'].str.replace('^https://doi.org/', '', regex=True))\n",
    "    .assign(pmid=lambda df: df['pmid'].str.replace('^https://pubmed.ncbi.nlm.nih.gov/', '', regex=True))\n",
    "    .astype({\"pmid\": float})\n",
    ")"
   ]
  },
  {
   "cell_type": "code",
   "execution_count": 8,
   "id": "d8717bae",
   "metadata": {},
   "outputs": [
    {
     "data": {
      "text/html": [
       "<pre style=\"white-space:pre;overflow-x:auto;line-height:normal;font-family:Menlo,'DejaVu Sans Mono',consolas,'Courier New',monospace\"><span style=\"color: #7fbfbf; text-decoration-color: #7fbfbf\">[04/04/24 11:56:58] </span><span style=\"color: #000080; text-decoration-color: #000080\">INFO    </span> Loading data from                                                  <a href=\"file:///opt/homebrew/Caskroom/miniforge/base/envs/af/lib/python3.10/site-packages/kedro/io/data_catalog.py\" target=\"_blank\"><span style=\"color: #7f7f7f; text-decoration-color: #7f7f7f\">data_catalog.py</span></a><span style=\"color: #7f7f7f; text-decoration-color: #7f7f7f\">:</span><a href=\"file:///opt/homebrew/Caskroom/miniforge/base/envs/af/lib/python3.10/site-packages/kedro/io/data_catalog.py#482\" target=\"_blank\"><span style=\"color: #7f7f7f; text-decoration-color: #7f7f7f\">482</span></a>\n",
       "<span style=\"color: #7fbfbf; text-decoration-color: #7fbfbf\">                    </span>         <span style=\"color: #ff8700; text-decoration-color: #ff8700\">nih.data_processing.clinical_trials_links_to_papers.intermediate</span>   <span style=\"color: #7f7f7f; text-decoration-color: #7f7f7f\">                   </span>\n",
       "<span style=\"color: #7fbfbf; text-decoration-color: #7fbfbf\">                    </span>         <span style=\"font-weight: bold\">(</span>CSVDataset<span style=\"font-weight: bold\">)</span><span style=\"color: #808000; text-decoration-color: #808000\">...</span>                                                    <span style=\"color: #7f7f7f; text-decoration-color: #7f7f7f\">                   </span>\n",
       "</pre>\n"
      ],
      "text/plain": [
       "\u001b[2;36m[04/04/24 11:56:58]\u001b[0m\u001b[2;36m \u001b[0m\u001b[34mINFO    \u001b[0m Loading data from                                                  \u001b]8;id=494077;file:///opt/homebrew/Caskroom/miniforge/base/envs/af/lib/python3.10/site-packages/kedro/io/data_catalog.py\u001b\\\u001b[2mdata_catalog.py\u001b[0m\u001b]8;;\u001b\\\u001b[2m:\u001b[0m\u001b]8;id=798233;file:///opt/homebrew/Caskroom/miniforge/base/envs/af/lib/python3.10/site-packages/kedro/io/data_catalog.py#482\u001b\\\u001b[2m482\u001b[0m\u001b]8;;\u001b\\\n",
       "\u001b[2;36m                    \u001b[0m         \u001b[38;5;208mnih.data_processing.clinical_trials_links_to_papers.intermediate\u001b[0m   \u001b[2m                   \u001b[0m\n",
       "\u001b[2;36m                    \u001b[0m         \u001b[1m(\u001b[0mCSVDataset\u001b[1m)\u001b[0m\u001b[33m...\u001b[0m                                                    \u001b[2m                   \u001b[0m\n"
      ]
     },
     "metadata": {},
     "output_type": "display_data"
    }
   ],
   "source": [
    "# Load trials that have links to papers\n",
    "clinical_trials_links_to_papers = catalog.load(\"nih.data_processing.clinical_trials_links_to_papers.intermediate\")"
   ]
  },
  {
   "cell_type": "code",
   "execution_count": 9,
   "id": "267556c3",
   "metadata": {},
   "outputs": [],
   "source": [
    "# Find matches based on doi\n",
    "doi_matches = (\n",
    "    papers_that_cite_af\n",
    "    .dropna(subset=['doi'])\n",
    "    .merge(clinical_trials_links_to_papers.dropna(subset=['ref_doi']), how=\"inner\", left_on=\"doi\", right_on=\"ref_doi\")\n",
    ")"
   ]
  },
  {
   "cell_type": "code",
   "execution_count": 11,
   "id": "16a50f01",
   "metadata": {},
   "outputs": [],
   "source": [
    "# Find matches based on pmid\n",
    "pmid_matches = (\n",
    "    papers_that_cite_af\n",
    "    .dropna(subset=['pmid'])\n",
    "    .merge(clinical_trials_links_to_papers.dropna(subset=['ref_pmid']), how=\"inner\", left_on=\"pmid\", right_on=\"ref_pmid\")\n",
    ")"
   ]
  },
  {
   "cell_type": "code",
   "execution_count": 13,
   "id": "07511745",
   "metadata": {},
   "outputs": [],
   "source": [
    "# Concat pmid and doi matches and removes duplicates\n",
    "papers_that_cite_af_cited_in_ct = pd.concat([doi_matches, pmid_matches]).drop_duplicates(subset=\"id\")"
   ]
  },
  {
   "cell_type": "code",
   "execution_count": 14,
   "id": "57b11143",
   "metadata": {},
   "outputs": [
    {
     "data": {
      "text/html": [
       "<pre style=\"white-space:pre;overflow-x:auto;line-height:normal;font-family:Menlo,'DejaVu Sans Mono',consolas,'Courier New',monospace\"></pre>\n"
      ],
      "text/plain": []
     },
     "metadata": {},
     "output_type": "display_data"
    },
    {
     "data": {
      "text/html": [
       "<div>\n",
       "<style scoped>\n",
       "    .dataframe tbody tr th:only-of-type {\n",
       "        vertical-align: middle;\n",
       "    }\n",
       "\n",
       "    .dataframe tbody tr th {\n",
       "        vertical-align: top;\n",
       "    }\n",
       "\n",
       "    .dataframe thead th {\n",
       "        text-align: right;\n",
       "    }\n",
       "</style>\n",
       "<table border=\"1\" class=\"dataframe\">\n",
       "  <thead>\n",
       "    <tr style=\"text-align: right;\">\n",
       "      <th></th>\n",
       "      <th>id</th>\n",
       "      <th>doi</th>\n",
       "      <th>display_name</th>\n",
       "      <th>title</th>\n",
       "      <th>publication_date</th>\n",
       "      <th>abstract</th>\n",
       "      <th>authorships</th>\n",
       "      <th>cited_by_count</th>\n",
       "      <th>concepts</th>\n",
       "      <th>keywords</th>\n",
       "      <th>referenced_works</th>\n",
       "      <th>pmid</th>\n",
       "      <th>nct_id</th>\n",
       "      <th>ref_pmid</th>\n",
       "      <th>ref_doi</th>\n",
       "      <th>ref_citation</th>\n",
       "      <th>ref_type</th>\n",
       "      <th>ref_retraction_list</th>\n",
       "    </tr>\n",
       "  </thead>\n",
       "  <tbody>\n",
       "    <tr>\n",
       "      <th>0</th>\n",
       "      <td>https://openalex.org/W4207015910</td>\n",
       "      <td>10.3390/nu14020274</td>\n",
       "      <td>Role of Probiotics in the Management of COVID-...</td>\n",
       "      <td>Role of Probiotics in the Management of COVID-...</td>\n",
       "      <td>2022-01-10</td>\n",
       "      <td>Coronavirus disease 2019 (COVID-19) was declar...</td>\n",
       "      <td>[{'author_position': 'first', 'author': {'id':...</td>\n",
       "      <td>37</td>\n",
       "      <td>[{'id': 'https://openalex.org/C2777165150', 'w...</td>\n",
       "      <td>[{'keyword': 'probiotics', 'score': 0.6673}]</td>\n",
       "      <td>[https://openalex.org/W1031578623, https://ope...</td>\n",
       "      <td>35057455.0</td>\n",
       "      <td>NCT05474144</td>\n",
       "      <td>35057455.0</td>\n",
       "      <td>10.3390/nu14020274</td>\n",
       "      <td>Nguyen QV, Chong LC, Hor YY, Lew LC, Rather IA...</td>\n",
       "      <td>background</td>\n",
       "      <td>NaN</td>\n",
       "    </tr>\n",
       "    <tr>\n",
       "      <th>1</th>\n",
       "      <td>https://openalex.org/W4307297657</td>\n",
       "      <td>10.1016/j.ejmech.2022.114861</td>\n",
       "      <td>Ferroptosis-related small-molecule compounds i...</td>\n",
       "      <td>Ferroptosis-related small-molecule compounds i...</td>\n",
       "      <td>2022-12-01</td>\n",
       "      <td>Ferroptosis is a novel type of regulated cell ...</td>\n",
       "      <td>[{'author_position': 'first', 'author': {'id':...</td>\n",
       "      <td>15</td>\n",
       "      <td>[{'id': 'https://openalex.org/C185592680', 'wi...</td>\n",
       "      <td>[{'keyword': 'cancer therapy', 'score': 0.3574...</td>\n",
       "      <td>[https://openalex.org/W323406638, https://open...</td>\n",
       "      <td>36332549.0</td>\n",
       "      <td>NCT06134388</td>\n",
       "      <td>36332549.0</td>\n",
       "      <td>10.1016/j.ejmech.2022.114861</td>\n",
       "      <td>Yin L, Liu P, Jin Y, Ning Z, Yang Y, Gao H. Fe...</td>\n",
       "      <td>background</td>\n",
       "      <td>NaN</td>\n",
       "    </tr>\n",
       "    <tr>\n",
       "      <th>2</th>\n",
       "      <td>https://openalex.org/W4311811125</td>\n",
       "      <td>10.1186/s13023-022-02592-3</td>\n",
       "      <td>NGLY1 deficiency: estimated incidence, clinica...</td>\n",
       "      <td>NGLY1 deficiency: estimated incidence, clinica...</td>\n",
       "      <td>2022-12-17</td>\n",
       "      <td>Abstract Purpose NGLY1 Deficiency is an ultra-...</td>\n",
       "      <td>[{'author_position': 'first', 'author': {'id':...</td>\n",
       "      <td>6</td>\n",
       "      <td>[{'id': 'https://openalex.org/C61511704', 'wik...</td>\n",
       "      <td>[{'keyword': 'ngly1 registry', 'score': 0.578}...</td>\n",
       "      <td>[https://openalex.org/W1803309642, https://ope...</td>\n",
       "      <td>36528660.0</td>\n",
       "      <td>NCT06199531</td>\n",
       "      <td>36528660.0</td>\n",
       "      <td>10.1186/s13023-022-02592-3</td>\n",
       "      <td>Stanclift CR, Dwight SS, Lee K, Eijkenboom QL,...</td>\n",
       "      <td>background</td>\n",
       "      <td>NaN</td>\n",
       "    </tr>\n",
       "    <tr>\n",
       "      <th>3</th>\n",
       "      <td>https://openalex.org/W4366395412</td>\n",
       "      <td>10.1093/narcan/zcad017</td>\n",
       "      <td>&lt;b&gt;HiTAIC: hi&lt;/b&gt;erarchical tumor artificial i...</td>\n",
       "      <td>&lt;b&gt;HiTAIC: hi&lt;/b&gt;erarchical tumor artificial i...</td>\n",
       "      <td>2023-03-11</td>\n",
       "      <td>Human cancers are heterogenous by their cell c...</td>\n",
       "      <td>[{'author_position': 'first', 'author': {'id':...</td>\n",
       "      <td>1</td>\n",
       "      <td>[{'id': 'https://openalex.org/C190727270', 'wi...</td>\n",
       "      <td>[{'keyword': 'tumor type', 'score': 0.487}, {'...</td>\n",
       "      <td>[https://openalex.org/W1974029385, https://ope...</td>\n",
       "      <td>37089814.0</td>\n",
       "      <td>NCT06140992</td>\n",
       "      <td>37089814.0</td>\n",
       "      <td>10.1093/narcan/zcad017</td>\n",
       "      <td>Zhang Z, Lu Y, Vosoughi S, Levy JJ, Christense...</td>\n",
       "      <td>result</td>\n",
       "      <td>NaN</td>\n",
       "    </tr>\n",
       "  </tbody>\n",
       "</table>\n",
       "</div>"
      ],
      "text/plain": [
       "\n",
       "                                 id                           doi  \\\n",
       "\u001b[1;36m0\u001b[0m  \u001b[4;94mhttps://openalex.org/W4207015910\u001b[0m            \u001b[1;36m10.3390\u001b[0m/nu14020274   \n",
       "\u001b[1;36m1\u001b[0m  \u001b[4;94mhttps://openalex.org/W4307297657\u001b[0m  \u001b[1;36m10.1016\u001b[0m/j.ejmech.\u001b[1;36m2022.114861\u001b[0m   \n",
       "\u001b[1;36m2\u001b[0m  \u001b[4;94mhttps://openalex.org/W4311811125\u001b[0m    \u001b[1;36m10.1186\u001b[0m/s13023-\u001b[1;36m022\u001b[0m-\u001b[1;36m02592\u001b[0m-\u001b[1;36m3\u001b[0m   \n",
       "\u001b[1;36m3\u001b[0m  \u001b[4;94mhttps://openalex.org/W4366395412\u001b[0m        \u001b[1;36m10.1093\u001b[0m/narcan/zcad017   \n",
       "\n",
       "                                        display_name  \\\n",
       "\u001b[1;36m0\u001b[0m  Role of Probiotics in the Management of COVID-\u001b[33m...\u001b[0m   \n",
       "\u001b[1;36m1\u001b[0m  Ferroptosis-related small-molecule compounds i\u001b[33m...\u001b[0m   \n",
       "\u001b[1;36m2\u001b[0m  NGLY1 deficiency: estimated incidence, clinica\u001b[33m...\u001b[0m   \n",
       "\u001b[1;36m3\u001b[0m  \u001b[1m<\u001b[0m\u001b[1;95mb\u001b[0m\u001b[39m>HiTAIC: hi<\u001b[0m\u001b[35m/\u001b[0m\u001b[95mb\u001b[0m\u001b[39m>erarchical tumor artificial i\u001b[0m\u001b[33m...\u001b[0m\u001b[39m   \u001b[0m\n",
       "\n",
       "\u001b[39m                                               title publication_date  \\\u001b[0m\n",
       "\u001b[1;36m0\u001b[0m\u001b[39m  Role of Probiotics in the Management of COVID-\u001b[0m\u001b[33m...\u001b[0m\u001b[39m       \u001b[0m\u001b[1;36m2022\u001b[0m\u001b[39m-\u001b[0m\u001b[1;36m01\u001b[0m\u001b[39m-\u001b[0m\u001b[1;36m10\u001b[0m\u001b[39m   \u001b[0m\n",
       "\u001b[1;36m1\u001b[0m\u001b[39m  Ferroptosis-related small-molecule compounds i\u001b[0m\u001b[33m...\u001b[0m\u001b[39m       \u001b[0m\u001b[1;36m2022\u001b[0m\u001b[39m-\u001b[0m\u001b[1;36m12\u001b[0m\u001b[39m-\u001b[0m\u001b[1;36m01\u001b[0m\u001b[39m   \u001b[0m\n",
       "\u001b[1;36m2\u001b[0m\u001b[39m  NGLY1 deficiency: estimated incidence, clinica\u001b[0m\u001b[33m...\u001b[0m\u001b[39m       \u001b[0m\u001b[1;36m2022\u001b[0m\u001b[39m-\u001b[0m\u001b[1;36m12\u001b[0m\u001b[39m-\u001b[0m\u001b[1;36m17\u001b[0m\u001b[39m   \u001b[0m\n",
       "\u001b[1;36m3\u001b[0m\u001b[39m  <b>HiTAIC: hi<\u001b[0m\u001b[35m/\u001b[0m\u001b[95mb\u001b[0m\u001b[1m>\u001b[0merarchical tumor artificial i\u001b[33m...\u001b[0m       \u001b[1;36m2023\u001b[0m-\u001b[1;36m03\u001b[0m-\u001b[1;36m11\u001b[0m   \n",
       "\n",
       "                                            abstract  \\\n",
       "\u001b[1;36m0\u001b[0m  Coronavirus disease \u001b[1;36m2019\u001b[0m \u001b[1m(\u001b[0mCOVID-\u001b[1;36m19\u001b[0m\u001b[1m)\u001b[0m was declar\u001b[33m...\u001b[0m   \n",
       "\u001b[1;36m1\u001b[0m  Ferroptosis is a novel type of regulated cell \u001b[33m...\u001b[0m   \n",
       "\u001b[1;36m2\u001b[0m  Abstract Purpose NGLY1 Deficiency is an ultra-\u001b[33m...\u001b[0m   \n",
       "\u001b[1;36m3\u001b[0m  Human cancers are heterogenous by their cell c\u001b[33m...\u001b[0m   \n",
       "\n",
       "                                         authorships  cited_by_count  \\\n",
       "\u001b[1;36m0\u001b[0m  \u001b[1m[\u001b[0m\u001b[1m{\u001b[0m\u001b[32m'author_position'\u001b[0m: \u001b[32m'first'\u001b[0m, \u001b[32m'author'\u001b[0m: \u001b[1m{\u001b[0m\u001b[32m'id'\u001b[0m:\u001b[33m...\u001b[0m              \u001b[1;36m37\u001b[0m   \n",
       "\u001b[1;36m1\u001b[0m  \u001b[1m[\u001b[0m\u001b[1m{\u001b[0m\u001b[32m'author_position'\u001b[0m: \u001b[32m'first'\u001b[0m, \u001b[32m'author'\u001b[0m: \u001b[1m{\u001b[0m\u001b[32m'id'\u001b[0m:\u001b[33m...\u001b[0m              \u001b[1;36m15\u001b[0m   \n",
       "\u001b[1;36m2\u001b[0m  \u001b[1m[\u001b[0m\u001b[1m{\u001b[0m\u001b[32m'author_position'\u001b[0m: \u001b[32m'first'\u001b[0m, \u001b[32m'author'\u001b[0m: \u001b[1m{\u001b[0m\u001b[32m'id'\u001b[0m:\u001b[33m...\u001b[0m               \u001b[1;36m6\u001b[0m   \n",
       "\u001b[1;36m3\u001b[0m  \u001b[1m[\u001b[0m\u001b[1m{\u001b[0m\u001b[32m'author_position'\u001b[0m: \u001b[32m'first'\u001b[0m, \u001b[32m'author'\u001b[0m: \u001b[1m{\u001b[0m\u001b[32m'id'\u001b[0m:\u001b[33m...\u001b[0m               \u001b[1;36m1\u001b[0m   \n",
       "\n",
       "                                            concepts  \\\n",
       "\u001b[1;36m0\u001b[0m  \u001b[1m[\u001b[0m\u001b[1m{\u001b[0m\u001b[32m'id'\u001b[0m: \u001b[32m'https://openalex.org/C2777165150'\u001b[0m, 'w\u001b[33m...\u001b[0m   \n",
       "\u001b[1;36m1\u001b[0m  \u001b[1m[\u001b[0m\u001b[1m{\u001b[0m\u001b[32m'id'\u001b[0m: \u001b[32m'https://openalex.org/C185592680'\u001b[0m, 'wi\u001b[33m...\u001b[0m   \n",
       "\u001b[1;36m2\u001b[0m  \u001b[1m[\u001b[0m\u001b[1m{\u001b[0m\u001b[32m'id'\u001b[0m: \u001b[32m'https://openalex.org/C61511704'\u001b[0m, 'wik\u001b[33m...\u001b[0m   \n",
       "\u001b[1;36m3\u001b[0m  \u001b[1m[\u001b[0m\u001b[1m{\u001b[0m\u001b[32m'id'\u001b[0m: \u001b[32m'https://openalex.org/C190727270'\u001b[0m, 'wi\u001b[33m...\u001b[0m   \n",
       "\n",
       "                                            keywords  \\\n",
       "\u001b[1;36m0\u001b[0m       \u001b[1m[\u001b[0m\u001b[1m{\u001b[0m\u001b[32m'keyword'\u001b[0m: \u001b[32m'probiotics'\u001b[0m, \u001b[32m'score'\u001b[0m: \u001b[1;36m0.6673\u001b[0m\u001b[1m}\u001b[0m\u001b[1m]\u001b[0m   \n",
       "\u001b[1;36m1\u001b[0m  \u001b[1m[\u001b[0m\u001b[1m{\u001b[0m\u001b[32m'keyword'\u001b[0m: \u001b[32m'cancer therapy'\u001b[0m, \u001b[32m'score'\u001b[0m: \u001b[1;36m0.3574\u001b[0m\u001b[33m...\u001b[0m   \n",
       "\u001b[1;36m2\u001b[0m  \u001b[1m[\u001b[0m\u001b[1m{\u001b[0m\u001b[32m'keyword'\u001b[0m: \u001b[32m'ngly1 registry'\u001b[0m, \u001b[32m'score'\u001b[0m: \u001b[1;36m0.578\u001b[0m\u001b[1m}\u001b[0m\u001b[33m...\u001b[0m   \n",
       "\u001b[1;36m3\u001b[0m  \u001b[1m[\u001b[0m\u001b[1m{\u001b[0m\u001b[32m'keyword'\u001b[0m: \u001b[32m'tumor type'\u001b[0m, \u001b[32m'score'\u001b[0m: \u001b[1;36m0.487\u001b[0m\u001b[1m}\u001b[0m, \u001b[1m{\u001b[0m'\u001b[33m...\u001b[0m   \n",
       "\n",
       "                                    referenced_works        pmid       nct_id  \\\n",
       "\u001b[1;36m0\u001b[0m  \u001b[1m[\u001b[0m\u001b[4;94mhttps://openalex.org/W1031578623,\u001b[0m \u001b[4;94mhttps://ope...\u001b[0m  \u001b[1;36m35057455.0\u001b[0m  NCT05474144   \n",
       "\u001b[1;36m1\u001b[0m  \u001b[1m[\u001b[0m\u001b[4;94mhttps://openalex.org/W323406638,\u001b[0m \u001b[4;94mhttps://open...\u001b[0m  \u001b[1;36m36332549.0\u001b[0m  NCT06134388   \n",
       "\u001b[1;36m2\u001b[0m  \u001b[1m[\u001b[0m\u001b[4;94mhttps://openalex.org/W1803309642,\u001b[0m \u001b[4;94mhttps://ope...\u001b[0m  \u001b[1;36m36528660.0\u001b[0m  NCT06199531   \n",
       "\u001b[1;36m3\u001b[0m  \u001b[1m[\u001b[0m\u001b[4;94mhttps://openalex.org/W1974029385,\u001b[0m \u001b[4;94mhttps://ope...\u001b[0m  \u001b[1;36m37089814.0\u001b[0m  NCT06140992   \n",
       "\n",
       "     ref_pmid                       ref_doi  \\\n",
       "\u001b[1;36m0\u001b[0m  \u001b[1;36m35057455.0\u001b[0m            \u001b[1;36m10.3390\u001b[0m/nu14020274   \n",
       "\u001b[1;36m1\u001b[0m  \u001b[1;36m36332549.0\u001b[0m  \u001b[1;36m10.1016\u001b[0m/j.ejmech.\u001b[1;36m2022.114861\u001b[0m   \n",
       "\u001b[1;36m2\u001b[0m  \u001b[1;36m36528660.0\u001b[0m    \u001b[1;36m10.1186\u001b[0m/s13023-\u001b[1;36m022\u001b[0m-\u001b[1;36m02592\u001b[0m-\u001b[1;36m3\u001b[0m   \n",
       "\u001b[1;36m3\u001b[0m  \u001b[1;36m37089814.0\u001b[0m        \u001b[1;36m10.1093\u001b[0m/narcan/zcad017   \n",
       "\n",
       "                                        ref_citation    ref_type  \\\n",
       "\u001b[1;36m0\u001b[0m  Nguyen QV, Chong LC, Hor YY, Lew LC, Rather IA\u001b[33m...\u001b[0m  background   \n",
       "\u001b[1;36m1\u001b[0m  Yin L, Liu P, Jin Y, Ning Z, Yang Y, Gao H. Fe\u001b[33m...\u001b[0m  background   \n",
       "\u001b[1;36m2\u001b[0m  Stanclift CR, Dwight SS, Lee K, Eijkenboom QL,\u001b[33m...\u001b[0m  background   \n",
       "\u001b[1;36m3\u001b[0m  Zhang Z, Lu Y, Vosoughi S, Levy JJ, Christense\u001b[33m...\u001b[0m      result   \n",
       "\n",
       "  ref_retraction_list  \n",
       "\u001b[1;36m0\u001b[0m                 NaN  \n",
       "\u001b[1;36m1\u001b[0m                 NaN  \n",
       "\u001b[1;36m2\u001b[0m                 NaN  \n",
       "\u001b[1;36m3\u001b[0m                 NaN  "
      ]
     },
     "execution_count": 14,
     "metadata": {},
     "output_type": "execute_result"
    }
   ],
   "source": [
    "# Display papers that cite AlphaFold that were cited in a clinical trial\n",
    "papers_that_cite_af_cited_in_ct"
   ]
  }
 ],
 "metadata": {
  "kernelspec": {
   "display_name": "Kedro (alphafold_impact)",
   "language": "python",
   "name": "kedro_alphafold_impact"
  },
  "language_info": {
   "codemirror_mode": {
    "name": "ipython",
    "version": 3
   },
   "file_extension": ".py",
   "mimetype": "text/x-python",
   "name": "python",
   "nbconvert_exporter": "python",
   "pygments_lexer": "ipython3",
   "version": "3.10.13"
  }
 },
 "nbformat": 4,
 "nbformat_minor": 5
}
