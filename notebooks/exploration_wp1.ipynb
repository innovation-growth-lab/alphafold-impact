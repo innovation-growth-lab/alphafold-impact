{
 "cells": [
  {
   "cell_type": "markdown",
   "metadata": {},
   "source": [
    "# Data Analysis WP1"
   ]
  },
  {
   "cell_type": "code",
   "execution_count": 1,
   "metadata": {},
   "outputs": [
    {
     "data": {
      "text/html": [
       "<pre style=\"white-space:pre;overflow-x:auto;line-height:normal;font-family:Menlo,'DejaVu Sans Mono',consolas,'Courier New',monospace\"><span style=\"color: #7fbfbf; text-decoration-color: #7fbfbf\">[03/14/24 11:11:19] </span><span style=\"color: #000080; text-decoration-color: #000080\">INFO    </span> Resolved project path as: <span style=\"color: #800080; text-decoration-color: #800080\">/home/dampudia/projects/</span><span style=\"color: #ff00ff; text-decoration-color: #ff00ff\">alphafold-impact.</span>    <a href=\"file:///home/dampudia/miniconda3/envs/.igl_alphafold/lib/python3.11/site-packages/kedro/ipython/__init__.py\" target=\"_blank\"><span style=\"color: #7f7f7f; text-decoration-color: #7f7f7f\">__init__.py</span></a><span style=\"color: #7f7f7f; text-decoration-color: #7f7f7f\">:</span><a href=\"file:///home/dampudia/miniconda3/envs/.igl_alphafold/lib/python3.11/site-packages/kedro/ipython/__init__.py#146\" target=\"_blank\"><span style=\"color: #7f7f7f; text-decoration-color: #7f7f7f\">146</span></a>\n",
       "<span style=\"color: #7fbfbf; text-decoration-color: #7fbfbf\">                    </span>         To set a different path, run <span style=\"color: #008000; text-decoration-color: #008000\">'%reload_kedro &lt;project_root&gt;'</span>            <span style=\"color: #7f7f7f; text-decoration-color: #7f7f7f\">               </span>\n",
       "</pre>\n"
      ],
      "text/plain": [
       "\u001b[2;36m[03/14/24 11:11:19]\u001b[0m\u001b[2;36m \u001b[0m\u001b[34mINFO    \u001b[0m Resolved project path as: \u001b[35m/home/dampudia/projects/\u001b[0m\u001b[95malphafold-impact.\u001b[0m    \u001b]8;id=897707;file:///home/dampudia/miniconda3/envs/.igl_alphafold/lib/python3.11/site-packages/kedro/ipython/__init__.py\u001b\\\u001b[2m__init__.py\u001b[0m\u001b]8;;\u001b\\\u001b[2m:\u001b[0m\u001b]8;id=988515;file:///home/dampudia/miniconda3/envs/.igl_alphafold/lib/python3.11/site-packages/kedro/ipython/__init__.py#146\u001b\\\u001b[2m146\u001b[0m\u001b]8;;\u001b\\\n",
       "\u001b[2;36m                    \u001b[0m         To set a different path, run \u001b[32m'%reload_kedro \u001b[0m\u001b[32m<\u001b[0m\u001b[32mproject_root\u001b[0m\u001b[32m>\u001b[0m\u001b[32m'\u001b[0m            \u001b[2m               \u001b[0m\n"
      ]
     },
     "metadata": {},
     "output_type": "display_data"
    },
    {
     "data": {
      "text/html": [
       "<pre style=\"white-space:pre;overflow-x:auto;line-height:normal;font-family:Menlo,'DejaVu Sans Mono',consolas,'Courier New',monospace\"><span style=\"color: #7fbfbf; text-decoration-color: #7fbfbf\">[03/14/24 11:11:20] </span><span style=\"color: #000080; text-decoration-color: #000080\">INFO    </span> Kedro project alphafold-impact                                         <a href=\"file:///home/dampudia/miniconda3/envs/.igl_alphafold/lib/python3.11/site-packages/kedro/ipython/__init__.py\" target=\"_blank\"><span style=\"color: #7f7f7f; text-decoration-color: #7f7f7f\">__init__.py</span></a><span style=\"color: #7f7f7f; text-decoration-color: #7f7f7f\">:</span><a href=\"file:///home/dampudia/miniconda3/envs/.igl_alphafold/lib/python3.11/site-packages/kedro/ipython/__init__.py#115\" target=\"_blank\"><span style=\"color: #7f7f7f; text-decoration-color: #7f7f7f\">115</span></a>\n",
       "</pre>\n"
      ],
      "text/plain": [
       "\u001b[2;36m[03/14/24 11:11:20]\u001b[0m\u001b[2;36m \u001b[0m\u001b[34mINFO    \u001b[0m Kedro project alphafold-impact                                         \u001b]8;id=243710;file:///home/dampudia/miniconda3/envs/.igl_alphafold/lib/python3.11/site-packages/kedro/ipython/__init__.py\u001b\\\u001b[2m__init__.py\u001b[0m\u001b]8;;\u001b\\\u001b[2m:\u001b[0m\u001b]8;id=996258;file:///home/dampudia/miniconda3/envs/.igl_alphafold/lib/python3.11/site-packages/kedro/ipython/__init__.py#115\u001b\\\u001b[2m115\u001b[0m\u001b]8;;\u001b\\\n"
      ]
     },
     "metadata": {},
     "output_type": "display_data"
    },
    {
     "data": {
      "text/html": [
       "<pre style=\"white-space:pre;overflow-x:auto;line-height:normal;font-family:Menlo,'DejaVu Sans Mono',consolas,'Courier New',monospace\"><span style=\"color: #7fbfbf; text-decoration-color: #7fbfbf\">                    </span><span style=\"color: #000080; text-decoration-color: #000080\">INFO    </span> Defined global variable <span style=\"color: #008000; text-decoration-color: #008000\">'context'</span>, <span style=\"color: #008000; text-decoration-color: #008000\">'session'</span>, <span style=\"color: #008000; text-decoration-color: #008000\">'catalog'</span> and            <a href=\"file:///home/dampudia/miniconda3/envs/.igl_alphafold/lib/python3.11/site-packages/kedro/ipython/__init__.py\" target=\"_blank\"><span style=\"color: #7f7f7f; text-decoration-color: #7f7f7f\">__init__.py</span></a><span style=\"color: #7f7f7f; text-decoration-color: #7f7f7f\">:</span><a href=\"file:///home/dampudia/miniconda3/envs/.igl_alphafold/lib/python3.11/site-packages/kedro/ipython/__init__.py#116\" target=\"_blank\"><span style=\"color: #7f7f7f; text-decoration-color: #7f7f7f\">116</span></a>\n",
       "<span style=\"color: #7fbfbf; text-decoration-color: #7fbfbf\">                    </span>         <span style=\"color: #008000; text-decoration-color: #008000\">'pipelines'</span>                                                            <span style=\"color: #7f7f7f; text-decoration-color: #7f7f7f\">               </span>\n",
       "</pre>\n"
      ],
      "text/plain": [
       "\u001b[2;36m                   \u001b[0m\u001b[2;36m \u001b[0m\u001b[34mINFO    \u001b[0m Defined global variable \u001b[32m'context'\u001b[0m, \u001b[32m'session'\u001b[0m, \u001b[32m'catalog'\u001b[0m and            \u001b]8;id=977623;file:///home/dampudia/miniconda3/envs/.igl_alphafold/lib/python3.11/site-packages/kedro/ipython/__init__.py\u001b\\\u001b[2m__init__.py\u001b[0m\u001b]8;;\u001b\\\u001b[2m:\u001b[0m\u001b]8;id=626045;file:///home/dampudia/miniconda3/envs/.igl_alphafold/lib/python3.11/site-packages/kedro/ipython/__init__.py#116\u001b\\\u001b[2m116\u001b[0m\u001b]8;;\u001b\\\n",
       "\u001b[2;36m                    \u001b[0m         \u001b[32m'pipelines'\u001b[0m                                                            \u001b[2m               \u001b[0m\n"
      ]
     },
     "metadata": {},
     "output_type": "display_data"
    },
    {
     "data": {
      "text/html": [
       "<pre style=\"white-space:pre;overflow-x:auto;line-height:normal;font-family:Menlo,'DejaVu Sans Mono',consolas,'Courier New',monospace\"><span style=\"color: #7fbfbf; text-decoration-color: #7fbfbf\">                    </span><span style=\"color: #000080; text-decoration-color: #000080\">INFO    </span> Registered line magic <span style=\"color: #008000; text-decoration-color: #008000\">'run_viz'</span>                                        <a href=\"file:///home/dampudia/miniconda3/envs/.igl_alphafold/lib/python3.11/site-packages/kedro/ipython/__init__.py\" target=\"_blank\"><span style=\"color: #7f7f7f; text-decoration-color: #7f7f7f\">__init__.py</span></a><span style=\"color: #7f7f7f; text-decoration-color: #7f7f7f\">:</span><a href=\"file:///home/dampudia/miniconda3/envs/.igl_alphafold/lib/python3.11/site-packages/kedro/ipython/__init__.py#122\" target=\"_blank\"><span style=\"color: #7f7f7f; text-decoration-color: #7f7f7f\">122</span></a>\n",
       "</pre>\n"
      ],
      "text/plain": [
       "\u001b[2;36m                   \u001b[0m\u001b[2;36m \u001b[0m\u001b[34mINFO    \u001b[0m Registered line magic \u001b[32m'run_viz'\u001b[0m                                        \u001b]8;id=290738;file:///home/dampudia/miniconda3/envs/.igl_alphafold/lib/python3.11/site-packages/kedro/ipython/__init__.py\u001b\\\u001b[2m__init__.py\u001b[0m\u001b]8;;\u001b\\\u001b[2m:\u001b[0m\u001b]8;id=150972;file:///home/dampudia/miniconda3/envs/.igl_alphafold/lib/python3.11/site-packages/kedro/ipython/__init__.py#122\u001b\\\u001b[2m122\u001b[0m\u001b]8;;\u001b\\\n"
      ]
     },
     "metadata": {},
     "output_type": "display_data"
    }
   ],
   "source": [
    "%load_ext kedro.ipython"
   ]
  },
  {
   "cell_type": "code",
   "execution_count": 2,
   "metadata": {},
   "outputs": [],
   "source": [
    "import pandas as pd\n",
    "\n",
    "import altair as alt"
   ]
  },
  {
   "cell_type": "code",
   "execution_count": 3,
   "metadata": {},
   "outputs": [
    {
     "data": {
      "text/html": [
       "<pre style=\"white-space:pre;overflow-x:auto;line-height:normal;font-family:Menlo,'DejaVu Sans Mono',consolas,'Courier New',monospace\"><span style=\"color: #7fbfbf; text-decoration-color: #7fbfbf\">                    </span><span style=\"color: #000080; text-decoration-color: #000080\">INFO    </span> Loading data from <span style=\"color: #ff8700; text-decoration-color: #ff8700\">oa.data_processing.gtr.institutions</span>              <a href=\"file:///home/dampudia/miniconda3/envs/.igl_alphafold/lib/python3.11/site-packages/kedro/io/data_catalog.py\" target=\"_blank\"><span style=\"color: #7f7f7f; text-decoration-color: #7f7f7f\">data_catalog.py</span></a><span style=\"color: #7f7f7f; text-decoration-color: #7f7f7f\">:</span><a href=\"file:///home/dampudia/miniconda3/envs/.igl_alphafold/lib/python3.11/site-packages/kedro/io/data_catalog.py#482\" target=\"_blank\"><span style=\"color: #7f7f7f; text-decoration-color: #7f7f7f\">482</span></a>\n",
       "<span style=\"color: #7fbfbf; text-decoration-color: #7fbfbf\">                    </span>         <span style=\"font-weight: bold\">(</span>ParquetDataset<span style=\"font-weight: bold\">)</span><span style=\"color: #808000; text-decoration-color: #808000\">...</span>                                                <span style=\"color: #7f7f7f; text-decoration-color: #7f7f7f\">                   </span>\n",
       "</pre>\n"
      ],
      "text/plain": [
       "\u001b[2;36m                   \u001b[0m\u001b[2;36m \u001b[0m\u001b[34mINFO    \u001b[0m Loading data from \u001b[38;5;208moa.data_processing.gtr.institutions\u001b[0m              \u001b]8;id=71182;file:///home/dampudia/miniconda3/envs/.igl_alphafold/lib/python3.11/site-packages/kedro/io/data_catalog.py\u001b\\\u001b[2mdata_catalog.py\u001b[0m\u001b]8;;\u001b\\\u001b[2m:\u001b[0m\u001b]8;id=349771;file:///home/dampudia/miniconda3/envs/.igl_alphafold/lib/python3.11/site-packages/kedro/io/data_catalog.py#482\u001b\\\u001b[2m482\u001b[0m\u001b]8;;\u001b\\\n",
       "\u001b[2;36m                    \u001b[0m         \u001b[1m(\u001b[0mParquetDataset\u001b[1m)\u001b[0m\u001b[33m...\u001b[0m                                                \u001b[2m                   \u001b[0m\n"
      ]
     },
     "metadata": {},
     "output_type": "display_data"
    }
   ],
   "source": [
    "# necessary to resolve location, not sure why.\n",
    "gtr_institutions = catalog.load(\"oa.data_processing.gtr.institutions\")\n",
    "del gtr_institutions"
   ]
  },
  {
   "cell_type": "markdown",
   "metadata": {},
   "source": [
    "### Mesh labels"
   ]
  },
  {
   "cell_type": "code",
   "execution_count": 4,
   "metadata": {},
   "outputs": [
    {
     "data": {
      "text/html": [
       "<pre style=\"white-space:pre;overflow-x:auto;line-height:normal;font-family:Menlo,'DejaVu Sans Mono',consolas,'Courier New',monospace\"><span style=\"color: #7fbfbf; text-decoration-color: #7fbfbf\">[03/14/24 11:11:27] </span><span style=\"color: #000080; text-decoration-color: #000080\">INFO    </span> Loading data from <span style=\"color: #ff8700; text-decoration-color: #ff8700\">nih.data_collection.mesh_terms</span> <span style=\"font-weight: bold\">(</span>CSVDataset<span style=\"font-weight: bold\">)</span><span style=\"color: #808000; text-decoration-color: #808000\">...</span>   <a href=\"file:///home/dampudia/miniconda3/envs/.igl_alphafold/lib/python3.11/site-packages/kedro/io/data_catalog.py\" target=\"_blank\"><span style=\"color: #7f7f7f; text-decoration-color: #7f7f7f\">data_catalog.py</span></a><span style=\"color: #7f7f7f; text-decoration-color: #7f7f7f\">:</span><a href=\"file:///home/dampudia/miniconda3/envs/.igl_alphafold/lib/python3.11/site-packages/kedro/io/data_catalog.py#482\" target=\"_blank\"><span style=\"color: #7f7f7f; text-decoration-color: #7f7f7f\">482</span></a>\n",
       "</pre>\n"
      ],
      "text/plain": [
       "\u001b[2;36m[03/14/24 11:11:27]\u001b[0m\u001b[2;36m \u001b[0m\u001b[34mINFO    \u001b[0m Loading data from \u001b[38;5;208mnih.data_collection.mesh_terms\u001b[0m \u001b[1m(\u001b[0mCSVDataset\u001b[1m)\u001b[0m\u001b[33m...\u001b[0m   \u001b]8;id=597169;file:///home/dampudia/miniconda3/envs/.igl_alphafold/lib/python3.11/site-packages/kedro/io/data_catalog.py\u001b\\\u001b[2mdata_catalog.py\u001b[0m\u001b]8;;\u001b\\\u001b[2m:\u001b[0m\u001b]8;id=764568;file:///home/dampudia/miniconda3/envs/.igl_alphafold/lib/python3.11/site-packages/kedro/io/data_catalog.py#482\u001b\\\u001b[2m482\u001b[0m\u001b]8;;\u001b\\\n"
      ]
     },
     "metadata": {},
     "output_type": "display_data"
    }
   ],
   "source": [
    "mesh_terms = catalog.load(\"nih.data_collection.mesh_terms\")"
   ]
  },
  {
   "cell_type": "code",
   "execution_count": 5,
   "metadata": {},
   "outputs": [],
   "source": [
    "# add labels to tree Diseases (C). These are\n",
    "disease_labels = {\n",
    "    \"C01\": \"Infections\",\n",
    "    \"C04\": \"Neoplasms\",\n",
    "    \"C05\": \"Musculoskeletal Diseases\",\n",
    "    \"C06\": \"Digestive System Diseases\",\n",
    "    \"C07\": \"Stomatognathic Diseases\",\n",
    "    \"C08\": \"Respiratory Tract Diseases\",\n",
    "    \"C09\": \"Otorhinolaryngologic Diseases\",\n",
    "    \"C10\": \"Nervous System Diseases\",\n",
    "    \"C11\": \"Eye Diseases\",\n",
    "    \"C12\": \"Urogenital Diseases\",\n",
    "    \"C14\": \"Cardiovascular Diseases\",\n",
    "    \"C15\": \"Hemic and Lymphatic Diseases\",\n",
    "    \"C16\": \"Congenital, Hereditary, and Neonatal Diseases and Abnormalities\",\n",
    "    \"C17\": \"Skin and Connective Tissue Diseases\",\n",
    "    \"C18\": \"Nutritional and Metabolic Diseases\",\n",
    "    \"C19\": \"Endocrine System Diseases\",\n",
    "    \"C20\": \"Immune System Diseases\",\n",
    "    \"C21\": \"Disorders of Environmental Origin\",\n",
    "    \"C22\": \"Animal Diseases\",\n",
    "    \"C23\": \"Pathological Conditions, Signs and Symptoms\",\n",
    "    \"C24\": \"Occupational Diseases\",\n",
    "    \"C25\": \"Substance-Related Disorders\",\n",
    "    \"C26\": \"Wounds and Injuries\"\n",
    "}\n",
    "\n",
    "# add column to mesh_terms dataframe with labels for \"mesh_tree\" values. These values are the full tree path for a given mesh term, so we care about the first two alphanumerics.\n",
    "mesh_terms[\"mesh_tree_label\"] = mesh_terms[\"tree_number\"].astype(str).apply(lambda x: disease_labels[x.split(\".\")[0]] if x.split(\".\")[0] in disease_labels else \"Other\")\n"
   ]
  },
  {
   "cell_type": "code",
   "execution_count": 6,
   "metadata": {},
   "outputs": [
    {
     "data": {
      "text/html": [
       "<pre style=\"white-space:pre;overflow-x:auto;line-height:normal;font-family:Menlo,'DejaVu Sans Mono',consolas,'Courier New',monospace\"></pre>\n"
      ],
      "text/plain": []
     },
     "metadata": {},
     "output_type": "display_data"
    },
    {
     "data": {
      "text/plain": [
       "\n",
       "mesh_tree_label\n",
       "Other                                                              \u001b[1;36m49569\u001b[0m\n",
       "Nervous System Diseases                                             \u001b[1;36m1474\u001b[0m\n",
       "Infections                                                          \u001b[1;36m1387\u001b[0m\n",
       "Congenital, Hereditary, and Neonatal Diseases and Abnormalities     \u001b[1;36m1183\u001b[0m\n",
       "Urogenital Diseases                                                 \u001b[1;36m1101\u001b[0m\n",
       "Neoplasms                                                           \u001b[1;36m1055\u001b[0m\n",
       "Pathological Conditions, Signs and Symptoms                         \u001b[1;36m1034\u001b[0m\n",
       "Cardiovascular Diseases                                              \u001b[1;36m679\u001b[0m\n",
       "Nutritional and Metabolic Diseases                                   \u001b[1;36m620\u001b[0m\n",
       "Skin and Connective Tissue Diseases                                  \u001b[1;36m541\u001b[0m\n",
       "Musculoskeletal Diseases                                             \u001b[1;36m528\u001b[0m\n",
       "Digestive System Diseases                                            \u001b[1;36m494\u001b[0m\n",
       "Hemic and Lymphatic Diseases                                         \u001b[1;36m391\u001b[0m\n",
       "Respiratory Tract Diseases                                           \u001b[1;36m382\u001b[0m\n",
       "Eye Diseases                                                         \u001b[1;36m356\u001b[0m\n",
       "Wounds and Injuries                                                  \u001b[1;36m309\u001b[0m\n",
       "Stomatognathic Diseases                                              \u001b[1;36m291\u001b[0m\n",
       "Immune System Diseases                                               \u001b[1;36m269\u001b[0m\n",
       "Endocrine System Diseases                                            \u001b[1;36m215\u001b[0m\n",
       "Animal Diseases                                                      \u001b[1;36m143\u001b[0m\n",
       "Otorhinolaryngologic Diseases                                        \u001b[1;36m142\u001b[0m\n",
       "Substance-Related Disorders                                          \u001b[1;36m127\u001b[0m\n",
       "Occupational Diseases                                                 \u001b[1;36m24\u001b[0m\n",
       "Disorders of Environmental Origin                                      \u001b[1;36m5\u001b[0m\n",
       "Name: count, dtype: int64"
      ]
     },
     "execution_count": 6,
     "metadata": {},
     "output_type": "execute_result"
    }
   ],
   "source": [
    "mesh_terms.mesh_tree_label.value_counts()"
   ]
  },
  {
   "cell_type": "markdown",
   "metadata": {},
   "source": [
    "### Alphafold data"
   ]
  },
  {
   "cell_type": "code",
   "execution_count": 7,
   "metadata": {},
   "outputs": [
    {
     "data": {
      "text/html": [
       "<pre style=\"white-space:pre;overflow-x:auto;line-height:normal;font-family:Menlo,'DejaVu Sans Mono',consolas,'Courier New',monospace\"><span style=\"color: #7fbfbf; text-decoration-color: #7fbfbf\">[03/14/24 11:11:28] </span><span style=\"color: #000080; text-decoration-color: #000080\">INFO    </span> Loading data from <span style=\"color: #ff8700; text-decoration-color: #ff8700\">oa.data_processing.depth.level.</span><span style=\"color: #008080; text-decoration-color: #008080; font-weight: bold\">0.</span><span style=\"color: #ff8700; text-decoration-color: #ff8700\">primary</span>         <a href=\"file:///home/dampudia/miniconda3/envs/.igl_alphafold/lib/python3.11/site-packages/kedro/io/data_catalog.py\" target=\"_blank\"><span style=\"color: #7f7f7f; text-decoration-color: #7f7f7f\">data_catalog.py</span></a><span style=\"color: #7f7f7f; text-decoration-color: #7f7f7f\">:</span><a href=\"file:///home/dampudia/miniconda3/envs/.igl_alphafold/lib/python3.11/site-packages/kedro/io/data_catalog.py#482\" target=\"_blank\"><span style=\"color: #7f7f7f; text-decoration-color: #7f7f7f\">482</span></a>\n",
       "<span style=\"color: #7fbfbf; text-decoration-color: #7fbfbf\">                    </span>         <span style=\"font-weight: bold\">(</span>ParquetDataset<span style=\"font-weight: bold\">)</span><span style=\"color: #808000; text-decoration-color: #808000\">...</span>                                                <span style=\"color: #7f7f7f; text-decoration-color: #7f7f7f\">                   </span>\n",
       "</pre>\n"
      ],
      "text/plain": [
       "\u001b[2;36m[03/14/24 11:11:28]\u001b[0m\u001b[2;36m \u001b[0m\u001b[34mINFO    \u001b[0m Loading data from \u001b[38;5;208moa.data_processing.depth.level.\u001b[0m\u001b[1;36m0.\u001b[0m\u001b[38;5;208mprimary\u001b[0m         \u001b]8;id=797847;file:///home/dampudia/miniconda3/envs/.igl_alphafold/lib/python3.11/site-packages/kedro/io/data_catalog.py\u001b\\\u001b[2mdata_catalog.py\u001b[0m\u001b]8;;\u001b\\\u001b[2m:\u001b[0m\u001b]8;id=827930;file:///home/dampudia/miniconda3/envs/.igl_alphafold/lib/python3.11/site-packages/kedro/io/data_catalog.py#482\u001b\\\u001b[2m482\u001b[0m\u001b]8;;\u001b\\\n",
       "\u001b[2;36m                    \u001b[0m         \u001b[1m(\u001b[0mParquetDataset\u001b[1m)\u001b[0m\u001b[33m...\u001b[0m                                                \u001b[2m                   \u001b[0m\n"
      ]
     },
     "metadata": {},
     "output_type": "display_data"
    },
    {
     "data": {
      "text/html": [
       "<pre style=\"white-space:pre;overflow-x:auto;line-height:normal;font-family:Menlo,'DejaVu Sans Mono',consolas,'Courier New',monospace\"><span style=\"color: #7fbfbf; text-decoration-color: #7fbfbf\">[03/14/24 11:11:29] </span><span style=\"color: #000080; text-decoration-color: #000080\">INFO    </span> Loading data from <span style=\"color: #ff8700; text-decoration-color: #ff8700\">oa.data_processing.depth.level.</span><span style=\"color: #008080; text-decoration-color: #008080; font-weight: bold\">1.</span><span style=\"color: #ff8700; text-decoration-color: #ff8700\">primary</span>         <a href=\"file:///home/dampudia/miniconda3/envs/.igl_alphafold/lib/python3.11/site-packages/kedro/io/data_catalog.py\" target=\"_blank\"><span style=\"color: #7f7f7f; text-decoration-color: #7f7f7f\">data_catalog.py</span></a><span style=\"color: #7f7f7f; text-decoration-color: #7f7f7f\">:</span><a href=\"file:///home/dampudia/miniconda3/envs/.igl_alphafold/lib/python3.11/site-packages/kedro/io/data_catalog.py#482\" target=\"_blank\"><span style=\"color: #7f7f7f; text-decoration-color: #7f7f7f\">482</span></a>\n",
       "<span style=\"color: #7fbfbf; text-decoration-color: #7fbfbf\">                    </span>         <span style=\"font-weight: bold\">(</span>ParquetDataset<span style=\"font-weight: bold\">)</span><span style=\"color: #808000; text-decoration-color: #808000\">...</span>                                                <span style=\"color: #7f7f7f; text-decoration-color: #7f7f7f\">                   </span>\n",
       "</pre>\n"
      ],
      "text/plain": [
       "\u001b[2;36m[03/14/24 11:11:29]\u001b[0m\u001b[2;36m \u001b[0m\u001b[34mINFO    \u001b[0m Loading data from \u001b[38;5;208moa.data_processing.depth.level.\u001b[0m\u001b[1;36m1.\u001b[0m\u001b[38;5;208mprimary\u001b[0m         \u001b]8;id=57201;file:///home/dampudia/miniconda3/envs/.igl_alphafold/lib/python3.11/site-packages/kedro/io/data_catalog.py\u001b\\\u001b[2mdata_catalog.py\u001b[0m\u001b]8;;\u001b\\\u001b[2m:\u001b[0m\u001b]8;id=41438;file:///home/dampudia/miniconda3/envs/.igl_alphafold/lib/python3.11/site-packages/kedro/io/data_catalog.py#482\u001b\\\u001b[2m482\u001b[0m\u001b]8;;\u001b\\\n",
       "\u001b[2;36m                    \u001b[0m         \u001b[1m(\u001b[0mParquetDataset\u001b[1m)\u001b[0m\u001b[33m...\u001b[0m                                                \u001b[2m                   \u001b[0m\n"
      ]
     },
     "metadata": {},
     "output_type": "display_data"
    },
    {
     "data": {
      "text/html": [
       "<pre style=\"white-space:pre;overflow-x:auto;line-height:normal;font-family:Menlo,'DejaVu Sans Mono',consolas,'Courier New',monospace\"><span style=\"color: #7fbfbf; text-decoration-color: #7fbfbf\">[03/14/24 11:11:30] </span><span style=\"color: #000080; text-decoration-color: #000080\">INFO    </span> Loading data from <span style=\"color: #ff8700; text-decoration-color: #ff8700\">oa.data_processing.depth.level.</span><span style=\"color: #008080; text-decoration-color: #008080; font-weight: bold\">2.</span><span style=\"color: #ff8700; text-decoration-color: #ff8700\">primary</span>         <a href=\"file:///home/dampudia/miniconda3/envs/.igl_alphafold/lib/python3.11/site-packages/kedro/io/data_catalog.py\" target=\"_blank\"><span style=\"color: #7f7f7f; text-decoration-color: #7f7f7f\">data_catalog.py</span></a><span style=\"color: #7f7f7f; text-decoration-color: #7f7f7f\">:</span><a href=\"file:///home/dampudia/miniconda3/envs/.igl_alphafold/lib/python3.11/site-packages/kedro/io/data_catalog.py#482\" target=\"_blank\"><span style=\"color: #7f7f7f; text-decoration-color: #7f7f7f\">482</span></a>\n",
       "<span style=\"color: #7fbfbf; text-decoration-color: #7fbfbf\">                    </span>         <span style=\"font-weight: bold\">(</span>ParquetDataset<span style=\"font-weight: bold\">)</span><span style=\"color: #808000; text-decoration-color: #808000\">...</span>                                                <span style=\"color: #7f7f7f; text-decoration-color: #7f7f7f\">                   </span>\n",
       "</pre>\n"
      ],
      "text/plain": [
       "\u001b[2;36m[03/14/24 11:11:30]\u001b[0m\u001b[2;36m \u001b[0m\u001b[34mINFO    \u001b[0m Loading data from \u001b[38;5;208moa.data_processing.depth.level.\u001b[0m\u001b[1;36m2.\u001b[0m\u001b[38;5;208mprimary\u001b[0m         \u001b]8;id=586893;file:///home/dampudia/miniconda3/envs/.igl_alphafold/lib/python3.11/site-packages/kedro/io/data_catalog.py\u001b\\\u001b[2mdata_catalog.py\u001b[0m\u001b]8;;\u001b\\\u001b[2m:\u001b[0m\u001b]8;id=2026;file:///home/dampudia/miniconda3/envs/.igl_alphafold/lib/python3.11/site-packages/kedro/io/data_catalog.py#482\u001b\\\u001b[2m482\u001b[0m\u001b]8;;\u001b\\\n",
       "\u001b[2;36m                    \u001b[0m         \u001b[1m(\u001b[0mParquetDataset\u001b[1m)\u001b[0m\u001b[33m...\u001b[0m                                                \u001b[2m                   \u001b[0m\n"
      ]
     },
     "metadata": {},
     "output_type": "display_data"
    },
    {
     "data": {
      "text/html": [
       "<pre style=\"white-space:pre;overflow-x:auto;line-height:normal;font-family:Menlo,'DejaVu Sans Mono',consolas,'Courier New',monospace\"><span style=\"color: #7fbfbf; text-decoration-color: #7fbfbf\">[03/14/24 11:11:31] </span><span style=\"color: #000080; text-decoration-color: #000080\">INFO    </span> Loading data from <span style=\"color: #ff8700; text-decoration-color: #ff8700\">oa.data_processing.depth.level.</span><span style=\"color: #008080; text-decoration-color: #008080; font-weight: bold\">3.</span><span style=\"color: #ff8700; text-decoration-color: #ff8700\">primary</span>         <a href=\"file:///home/dampudia/miniconda3/envs/.igl_alphafold/lib/python3.11/site-packages/kedro/io/data_catalog.py\" target=\"_blank\"><span style=\"color: #7f7f7f; text-decoration-color: #7f7f7f\">data_catalog.py</span></a><span style=\"color: #7f7f7f; text-decoration-color: #7f7f7f\">:</span><a href=\"file:///home/dampudia/miniconda3/envs/.igl_alphafold/lib/python3.11/site-packages/kedro/io/data_catalog.py#482\" target=\"_blank\"><span style=\"color: #7f7f7f; text-decoration-color: #7f7f7f\">482</span></a>\n",
       "<span style=\"color: #7fbfbf; text-decoration-color: #7fbfbf\">                    </span>         <span style=\"font-weight: bold\">(</span>ParquetDataset<span style=\"font-weight: bold\">)</span><span style=\"color: #808000; text-decoration-color: #808000\">...</span>                                                <span style=\"color: #7f7f7f; text-decoration-color: #7f7f7f\">                   </span>\n",
       "</pre>\n"
      ],
      "text/plain": [
       "\u001b[2;36m[03/14/24 11:11:31]\u001b[0m\u001b[2;36m \u001b[0m\u001b[34mINFO    \u001b[0m Loading data from \u001b[38;5;208moa.data_processing.depth.level.\u001b[0m\u001b[1;36m3.\u001b[0m\u001b[38;5;208mprimary\u001b[0m         \u001b]8;id=187450;file:///home/dampudia/miniconda3/envs/.igl_alphafold/lib/python3.11/site-packages/kedro/io/data_catalog.py\u001b\\\u001b[2mdata_catalog.py\u001b[0m\u001b]8;;\u001b\\\u001b[2m:\u001b[0m\u001b]8;id=185141;file:///home/dampudia/miniconda3/envs/.igl_alphafold/lib/python3.11/site-packages/kedro/io/data_catalog.py#482\u001b\\\u001b[2m482\u001b[0m\u001b]8;;\u001b\\\n",
       "\u001b[2;36m                    \u001b[0m         \u001b[1m(\u001b[0mParquetDataset\u001b[1m)\u001b[0m\u001b[33m...\u001b[0m                                                \u001b[2m                   \u001b[0m\n"
      ]
     },
     "metadata": {},
     "output_type": "display_data"
    }
   ],
   "source": [
    "level_0_primary = catalog.load(\"oa.data_processing.depth.level.0.primary\")\n",
    "level_1_primary = catalog.load(\"oa.data_processing.depth.level.1.primary\")\n",
    "level_2_primary = catalog.load(\"oa.data_processing.depth.level.2.primary\")\n",
    "level_3_primary = catalog.load(\"oa.data_processing.depth.level.3.primary\")"
   ]
  },
  {
   "cell_type": "code",
   "execution_count": 8,
   "metadata": {},
   "outputs": [],
   "source": [
    "# concat level data\n",
    "alphafold_oa_data = pd.concat([level_0_primary, level_1_primary, level_2_primary, level_3_primary], axis=0)"
   ]
  },
  {
   "cell_type": "code",
   "execution_count": 9,
   "metadata": {},
   "outputs": [
    {
     "data": {
      "text/html": [
       "<pre style=\"white-space:pre;overflow-x:auto;line-height:normal;font-family:Menlo,'DejaVu Sans Mono',consolas,'Courier New',monospace\"></pre>\n"
      ],
      "text/plain": []
     },
     "metadata": {},
     "output_type": "display_data"
    },
    {
     "data": {
      "text/html": [
       "\n",
       "<div id=\"altair-viz-301b93848b924282b0ec2a2bd79fb610\"></div>\n",
       "<script type=\"text/javascript\">\n",
       "  var VEGA_DEBUG = (typeof VEGA_DEBUG == \"undefined\") ? {} : VEGA_DEBUG;\n",
       "  (function(spec, embedOpt){\n",
       "    let outputDiv = document.currentScript.previousElementSibling;\n",
       "    if (outputDiv.id !== \"altair-viz-301b93848b924282b0ec2a2bd79fb610\") {\n",
       "      outputDiv = document.getElementById(\"altair-viz-301b93848b924282b0ec2a2bd79fb610\");\n",
       "    }\n",
       "    const paths = {\n",
       "      \"vega\": \"https://cdn.jsdelivr.net/npm//vega@5?noext\",\n",
       "      \"vega-lib\": \"https://cdn.jsdelivr.net/npm//vega-lib?noext\",\n",
       "      \"vega-lite\": \"https://cdn.jsdelivr.net/npm//vega-lite@4.17.0?noext\",\n",
       "      \"vega-embed\": \"https://cdn.jsdelivr.net/npm//vega-embed@6?noext\",\n",
       "    };\n",
       "\n",
       "    function maybeLoadScript(lib, version) {\n",
       "      var key = `${lib.replace(\"-\", \"\")}_version`;\n",
       "      return (VEGA_DEBUG[key] == version) ?\n",
       "        Promise.resolve(paths[lib]) :\n",
       "        new Promise(function(resolve, reject) {\n",
       "          var s = document.createElement('script');\n",
       "          document.getElementsByTagName(\"head\")[0].appendChild(s);\n",
       "          s.async = true;\n",
       "          s.onload = () => {\n",
       "            VEGA_DEBUG[key] = version;\n",
       "            return resolve(paths[lib]);\n",
       "          };\n",
       "          s.onerror = () => reject(`Error loading script: ${paths[lib]}`);\n",
       "          s.src = paths[lib];\n",
       "        });\n",
       "    }\n",
       "\n",
       "    function showError(err) {\n",
       "      outputDiv.innerHTML = `<div class=\"error\" style=\"color:red;\">${err}</div>`;\n",
       "      throw err;\n",
       "    }\n",
       "\n",
       "    function displayChart(vegaEmbed) {\n",
       "      vegaEmbed(outputDiv, spec, embedOpt)\n",
       "        .catch(err => showError(`Javascript Error: ${err.message}<br>This usually means there's a typo in your chart specification. See the javascript console for the full traceback.`));\n",
       "    }\n",
       "\n",
       "    if(typeof define === \"function\" && define.amd) {\n",
       "      requirejs.config({paths});\n",
       "      require([\"vega-embed\"], displayChart, err => showError(`Error loading script: ${err.message}`));\n",
       "    } else {\n",
       "      maybeLoadScript(\"vega\", \"5\")\n",
       "        .then(() => maybeLoadScript(\"vega-lite\", \"4.17.0\"))\n",
       "        .then(() => maybeLoadScript(\"vega-embed\", \"6\"))\n",
       "        .catch(showError)\n",
       "        .then(() => displayChart(vegaEmbed));\n",
       "    }\n",
       "  })({\"config\": {\"view\": {\"continuousWidth\": 400, \"continuousHeight\": 300, \"stroke\": null}, \"axis\": {\"labelFontSize\": 14, \"labelFontWeight\": 300, \"titleFontSize\": 16, \"titleFontWeight\": 400, \"titlePadding\": 10}, \"concat\": {\"spacing\": 0}, \"legend\": {\"labelFontSize\": 14, \"labelFontWeight\": 300, \"orient\": \"top\", \"padding\": 20, \"symbolSize\": 500.0, \"symbolType\": \"circle\", \"titleFontSize\": 16, \"titleFontWeight\": 400}, \"title\": {\"anchor\": \"start\", \"fontSize\": 18, \"fontWeight\": 400, \"subtitlePadding\": 10}}, \"vconcat\": [{\"layer\": [{\"mark\": {\"type\": \"bar\", \"color\": \"#3A3A3A\", \"size\": 30}, \"encoding\": {\"color\": {\"condition\": {\"value\": \"#3A3A3A\", \"selection\": {\"not\": \"selector002\"}}, \"value\": \"#EA4667\"}, \"tooltip\": [{\"aggregate\": \"max\", \"field\": \"count\", \"title\": \"Cardinality\", \"type\": \"quantitative\"}, {\"field\": \"degree\", \"title\": \"Degree\", \"type\": \"quantitative\"}], \"x\": {\"axis\": {\"domain\": true, \"grid\": false, \"labels\": false, \"ticks\": false}, \"field\": \"intersection_id\", \"sort\": null, \"title\": null, \"type\": \"nominal\"}, \"y\": {\"aggregate\": \"max\", \"axis\": {\"grid\": false, \"orient\": \"right\", \"tickCount\": 3}, \"field\": \"count\", \"title\": \"Intersection Size\", \"type\": \"quantitative\"}}, \"height\": 420.0, \"selection\": {\"selector002\": {\"type\": \"single\", \"fields\": [\"intersection_id\"], \"on\": \"mouseover\"}, \"selector001\": {\"type\": \"multi\", \"fields\": [\"set\"], \"bind\": \"legend\"}}, \"transform\": [{\"filter\": {\"selection\": \"selector001\"}}, {\"pivot\": \"set\", \"value\": \"is_intersect\", \"groupby\": [\"intersection_id\", \"count\"], \"op\": \"max\"}, {\"aggregate\": [{\"op\": \"sum\", \"field\": \"count\", \"as\": \"count\"}], \"groupby\": [\"level_0\", \"level_1\", \"level_2\", \"level_3\", \"mesh_terms\", \"strength\"]}, {\"calculate\": \"(isDefined(datum['level_0']) ? datum['level_0'] : 0)+(isDefined(datum['level_1']) ? datum['level_1'] : 0)+(isDefined(datum['level_2']) ? datum['level_2'] : 0)+(isDefined(datum['level_3']) ? datum['level_3'] : 0)+(isDefined(datum['mesh_terms']) ? datum['mesh_terms'] : 0)+(isDefined(datum['strength']) ? datum['strength'] : 0)\", \"as\": \"degree\"}, {\"filter\": \"(datum['degree'] !== 0)\"}, {\"window\": [{\"op\": \"row_number\", \"field\": \"\", \"as\": \"intersection_id\"}], \"frame\": [null, null]}, {\"fold\": [\"level_0\", \"level_1\", \"level_2\", \"level_3\", \"mesh_terms\", \"strength\"], \"as\": [\"set\", \"is_intersect\"]}, {\"lookup\": \"set\", \"from\": {\"data\": {\"name\": \"data-cd98e494a604585702c3ff36c20b4a88\"}, \"key\": \"set\", \"fields\": [\"set_abbre\"]}}, {\"lookup\": \"set\", \"from\": {\"data\": {\"name\": \"data-c273c50cad6334645634813a40d06cde\"}, \"key\": \"set\", \"fields\": [\"set_order\"]}}, {\"filter\": {\"selection\": \"selector001\"}}, {\"window\": [{\"op\": \"distinct\", \"field\": \"set\", \"as\": \"set_order\"}], \"frame\": [null, 0], \"sort\": [{\"field\": \"set_order\"}]}], \"width\": 900}, {\"mark\": {\"type\": \"text\", \"color\": \"#3A3A3A\", \"dy\": -10, \"size\": 16}, \"encoding\": {\"color\": {\"condition\": {\"value\": \"#3A3A3A\", \"selection\": {\"not\": \"selector002\"}}, \"value\": \"#EA4667\"}, \"text\": {\"field\": \"count\", \"format\": \".0f\", \"type\": \"quantitative\"}, \"tooltip\": [{\"aggregate\": \"max\", \"field\": \"count\", \"title\": \"Cardinality\", \"type\": \"quantitative\"}, {\"field\": \"degree\", \"title\": \"Degree\", \"type\": \"quantitative\"}], \"x\": {\"axis\": {\"domain\": true, \"grid\": false, \"labels\": false, \"ticks\": false}, \"field\": \"intersection_id\", \"sort\": null, \"title\": null, \"type\": \"nominal\"}, \"y\": {\"aggregate\": \"max\", \"axis\": {\"grid\": false, \"orient\": \"right\", \"tickCount\": 3}, \"field\": \"count\", \"title\": \"Intersection Size\", \"type\": \"quantitative\"}}, \"height\": 420.0, \"transform\": [{\"filter\": {\"selection\": \"selector001\"}}, {\"pivot\": \"set\", \"value\": \"is_intersect\", \"groupby\": [\"intersection_id\", \"count\"], \"op\": \"max\"}, {\"aggregate\": [{\"op\": \"sum\", \"field\": \"count\", \"as\": \"count\"}], \"groupby\": [\"level_0\", \"level_1\", \"level_2\", \"level_3\", \"mesh_terms\", \"strength\"]}, {\"calculate\": \"(isDefined(datum['level_0']) ? datum['level_0'] : 0)+(isDefined(datum['level_1']) ? datum['level_1'] : 0)+(isDefined(datum['level_2']) ? datum['level_2'] : 0)+(isDefined(datum['level_3']) ? datum['level_3'] : 0)+(isDefined(datum['mesh_terms']) ? datum['mesh_terms'] : 0)+(isDefined(datum['strength']) ? datum['strength'] : 0)\", \"as\": \"degree\"}, {\"filter\": \"(datum['degree'] !== 0)\"}, {\"window\": [{\"op\": \"row_number\", \"field\": \"\", \"as\": \"intersection_id\"}], \"frame\": [null, null]}, {\"fold\": [\"level_0\", \"level_1\", \"level_2\", \"level_3\", \"mesh_terms\", \"strength\"], \"as\": [\"set\", \"is_intersect\"]}, {\"lookup\": \"set\", \"from\": {\"data\": {\"name\": \"data-cd98e494a604585702c3ff36c20b4a88\"}, \"key\": \"set\", \"fields\": [\"set_abbre\"]}}, {\"lookup\": \"set\", \"from\": {\"data\": {\"name\": \"data-c273c50cad6334645634813a40d06cde\"}, \"key\": \"set\", \"fields\": [\"set_order\"]}}, {\"filter\": {\"selection\": \"selector001\"}}, {\"window\": [{\"op\": \"distinct\", \"field\": \"set\", \"as\": \"set_order\"}], \"frame\": [null, 0], \"sort\": [{\"field\": \"set_order\"}]}], \"width\": 900}]}, {\"hconcat\": [{\"layer\": [{\"mark\": {\"type\": \"circle\", \"opacity\": 1, \"size\": 200}, \"encoding\": {\"color\": {\"condition\": {\"value\": \"#3A3A3A\", \"selection\": {\"not\": \"selector002\"}}, \"value\": \"#EA4667\"}, \"tooltip\": [{\"aggregate\": \"max\", \"field\": \"count\", \"title\": \"Cardinality\", \"type\": \"quantitative\"}, {\"field\": \"degree\", \"title\": \"Degree\", \"type\": \"quantitative\"}], \"x\": {\"axis\": {\"domain\": false, \"grid\": false, \"labels\": false, \"ticks\": false}, \"field\": \"intersection_id\", \"sort\": null, \"title\": null, \"type\": \"nominal\"}, \"y\": {\"axis\": {\"domain\": false, \"grid\": false, \"labels\": false, \"ticks\": false}, \"field\": \"set_order\", \"title\": null, \"type\": \"nominal\"}}, \"height\": 280.0, \"selection\": {\"selector002\": {\"type\": \"single\", \"fields\": [\"intersection_id\"], \"on\": \"mouseover\"}, \"selector001\": {\"type\": \"multi\", \"fields\": [\"set\"], \"bind\": \"legend\"}}, \"transform\": [{\"filter\": {\"selection\": \"selector001\"}}, {\"pivot\": \"set\", \"value\": \"is_intersect\", \"groupby\": [\"intersection_id\", \"count\"], \"op\": \"max\"}, {\"aggregate\": [{\"op\": \"sum\", \"field\": \"count\", \"as\": \"count\"}], \"groupby\": [\"level_0\", \"level_1\", \"level_2\", \"level_3\", \"mesh_terms\", \"strength\"]}, {\"calculate\": \"(isDefined(datum['level_0']) ? datum['level_0'] : 0)+(isDefined(datum['level_1']) ? datum['level_1'] : 0)+(isDefined(datum['level_2']) ? datum['level_2'] : 0)+(isDefined(datum['level_3']) ? datum['level_3'] : 0)+(isDefined(datum['mesh_terms']) ? datum['mesh_terms'] : 0)+(isDefined(datum['strength']) ? datum['strength'] : 0)\", \"as\": \"degree\"}, {\"filter\": \"(datum['degree'] !== 0)\"}, {\"window\": [{\"op\": \"row_number\", \"field\": \"\", \"as\": \"intersection_id\"}], \"frame\": [null, null]}, {\"fold\": [\"level_0\", \"level_1\", \"level_2\", \"level_3\", \"mesh_terms\", \"strength\"], \"as\": [\"set\", \"is_intersect\"]}, {\"lookup\": \"set\", \"from\": {\"data\": {\"name\": \"data-cd98e494a604585702c3ff36c20b4a88\"}, \"key\": \"set\", \"fields\": [\"set_abbre\"]}}, {\"lookup\": \"set\", \"from\": {\"data\": {\"name\": \"data-c273c50cad6334645634813a40d06cde\"}, \"key\": \"set\", \"fields\": [\"set_order\"]}}, {\"filter\": {\"selection\": \"selector001\"}}, {\"window\": [{\"op\": \"distinct\", \"field\": \"set\", \"as\": \"set_order\"}], \"frame\": [null, 0], \"sort\": [{\"field\": \"set_order\"}]}, {\"filter\": \"(datum['is_intersect'] === 1)\"}], \"width\": 900}, {\"mark\": \"rect\", \"encoding\": {\"color\": {\"value\": \"#F7F7F7\"}, \"tooltip\": [{\"aggregate\": \"max\", \"field\": \"count\", \"title\": \"Cardinality\", \"type\": \"quantitative\"}, {\"field\": \"degree\", \"title\": \"Degree\", \"type\": \"quantitative\"}], \"x\": {\"axis\": {\"domain\": false, \"grid\": false, \"labels\": false, \"ticks\": false}, \"field\": \"intersection_id\", \"sort\": null, \"title\": null, \"type\": \"nominal\"}, \"y\": {\"axis\": {\"domain\": false, \"grid\": false, \"labels\": false, \"ticks\": false}, \"field\": \"set_order\", \"title\": null, \"type\": \"nominal\"}}, \"height\": 280.0, \"transform\": [{\"filter\": {\"selection\": \"selector001\"}}, {\"pivot\": \"set\", \"value\": \"is_intersect\", \"groupby\": [\"intersection_id\", \"count\"], \"op\": \"max\"}, {\"aggregate\": [{\"op\": \"sum\", \"field\": \"count\", \"as\": \"count\"}], \"groupby\": [\"level_0\", \"level_1\", \"level_2\", \"level_3\", \"mesh_terms\", \"strength\"]}, {\"calculate\": \"(isDefined(datum['level_0']) ? datum['level_0'] : 0)+(isDefined(datum['level_1']) ? datum['level_1'] : 0)+(isDefined(datum['level_2']) ? datum['level_2'] : 0)+(isDefined(datum['level_3']) ? datum['level_3'] : 0)+(isDefined(datum['mesh_terms']) ? datum['mesh_terms'] : 0)+(isDefined(datum['strength']) ? datum['strength'] : 0)\", \"as\": \"degree\"}, {\"filter\": \"(datum['degree'] !== 0)\"}, {\"window\": [{\"op\": \"row_number\", \"field\": \"\", \"as\": \"intersection_id\"}], \"frame\": [null, null]}, {\"fold\": [\"level_0\", \"level_1\", \"level_2\", \"level_3\", \"mesh_terms\", \"strength\"], \"as\": [\"set\", \"is_intersect\"]}, {\"lookup\": \"set\", \"from\": {\"data\": {\"name\": \"data-cd98e494a604585702c3ff36c20b4a88\"}, \"key\": \"set\", \"fields\": [\"set_abbre\"]}}, {\"lookup\": \"set\", \"from\": {\"data\": {\"name\": \"data-c273c50cad6334645634813a40d06cde\"}, \"key\": \"set\", \"fields\": [\"set_order\"]}}, {\"filter\": {\"selection\": \"selector001\"}}, {\"window\": [{\"op\": \"distinct\", \"field\": \"set\", \"as\": \"set_order\"}], \"frame\": [null, 0], \"sort\": [{\"field\": \"set_order\"}]}, {\"filter\": \"((datum['set_order'] % 2) === 1)\"}], \"width\": 900}, {\"mark\": {\"type\": \"circle\", \"opacity\": 1, \"size\": 200}, \"encoding\": {\"color\": {\"value\": \"#E6E6E6\"}, \"tooltip\": [{\"aggregate\": \"max\", \"field\": \"count\", \"title\": \"Cardinality\", \"type\": \"quantitative\"}, {\"field\": \"degree\", \"title\": \"Degree\", \"type\": \"quantitative\"}], \"x\": {\"axis\": {\"domain\": false, \"grid\": false, \"labels\": false, \"ticks\": false}, \"field\": \"intersection_id\", \"sort\": null, \"title\": null, \"type\": \"nominal\"}, \"y\": {\"axis\": {\"domain\": false, \"grid\": false, \"labels\": false, \"ticks\": false}, \"field\": \"set_order\", \"title\": null, \"type\": \"nominal\"}}, \"height\": 280.0, \"transform\": [{\"filter\": {\"selection\": \"selector001\"}}, {\"pivot\": \"set\", \"value\": \"is_intersect\", \"groupby\": [\"intersection_id\", \"count\"], \"op\": \"max\"}, {\"aggregate\": [{\"op\": \"sum\", \"field\": \"count\", \"as\": \"count\"}], \"groupby\": [\"level_0\", \"level_1\", \"level_2\", \"level_3\", \"mesh_terms\", \"strength\"]}, {\"calculate\": \"(isDefined(datum['level_0']) ? datum['level_0'] : 0)+(isDefined(datum['level_1']) ? datum['level_1'] : 0)+(isDefined(datum['level_2']) ? datum['level_2'] : 0)+(isDefined(datum['level_3']) ? datum['level_3'] : 0)+(isDefined(datum['mesh_terms']) ? datum['mesh_terms'] : 0)+(isDefined(datum['strength']) ? datum['strength'] : 0)\", \"as\": \"degree\"}, {\"filter\": \"(datum['degree'] !== 0)\"}, {\"window\": [{\"op\": \"row_number\", \"field\": \"\", \"as\": \"intersection_id\"}], \"frame\": [null, null]}, {\"fold\": [\"level_0\", \"level_1\", \"level_2\", \"level_3\", \"mesh_terms\", \"strength\"], \"as\": [\"set\", \"is_intersect\"]}, {\"lookup\": \"set\", \"from\": {\"data\": {\"name\": \"data-cd98e494a604585702c3ff36c20b4a88\"}, \"key\": \"set\", \"fields\": [\"set_abbre\"]}}, {\"lookup\": \"set\", \"from\": {\"data\": {\"name\": \"data-c273c50cad6334645634813a40d06cde\"}, \"key\": \"set\", \"fields\": [\"set_order\"]}}, {\"filter\": {\"selection\": \"selector001\"}}, {\"window\": [{\"op\": \"distinct\", \"field\": \"set\", \"as\": \"set_order\"}], \"frame\": [null, 0], \"sort\": [{\"field\": \"set_order\"}]}], \"width\": 900}, {\"mark\": {\"type\": \"bar\", \"color\": \"#3A3A3A\", \"size\": 2}, \"encoding\": {\"color\": {\"condition\": {\"value\": \"#3A3A3A\", \"selection\": {\"not\": \"selector002\"}}, \"value\": \"#EA4667\"}, \"tooltip\": [{\"aggregate\": \"max\", \"field\": \"count\", \"title\": \"Cardinality\", \"type\": \"quantitative\"}, {\"field\": \"degree\", \"title\": \"Degree\", \"type\": \"quantitative\"}], \"x\": {\"axis\": {\"domain\": true, \"grid\": false, \"labels\": false, \"ticks\": false}, \"field\": \"intersection_id\", \"sort\": null, \"title\": null, \"type\": \"nominal\"}, \"y\": {\"aggregate\": \"min\", \"field\": \"set_order\", \"type\": \"nominal\"}, \"y2\": {\"aggregate\": \"max\", \"field\": \"set_order\"}}, \"height\": 420.0, \"transform\": [{\"filter\": {\"selection\": \"selector001\"}}, {\"pivot\": \"set\", \"value\": \"is_intersect\", \"groupby\": [\"intersection_id\", \"count\"], \"op\": \"max\"}, {\"aggregate\": [{\"op\": \"sum\", \"field\": \"count\", \"as\": \"count\"}], \"groupby\": [\"level_0\", \"level_1\", \"level_2\", \"level_3\", \"mesh_terms\", \"strength\"]}, {\"calculate\": \"(isDefined(datum['level_0']) ? datum['level_0'] : 0)+(isDefined(datum['level_1']) ? datum['level_1'] : 0)+(isDefined(datum['level_2']) ? datum['level_2'] : 0)+(isDefined(datum['level_3']) ? datum['level_3'] : 0)+(isDefined(datum['mesh_terms']) ? datum['mesh_terms'] : 0)+(isDefined(datum['strength']) ? datum['strength'] : 0)\", \"as\": \"degree\"}, {\"filter\": \"(datum['degree'] !== 0)\"}, {\"window\": [{\"op\": \"row_number\", \"field\": \"\", \"as\": \"intersection_id\"}], \"frame\": [null, null]}, {\"fold\": [\"level_0\", \"level_1\", \"level_2\", \"level_3\", \"mesh_terms\", \"strength\"], \"as\": [\"set\", \"is_intersect\"]}, {\"lookup\": \"set\", \"from\": {\"data\": {\"name\": \"data-cd98e494a604585702c3ff36c20b4a88\"}, \"key\": \"set\", \"fields\": [\"set_abbre\"]}}, {\"lookup\": \"set\", \"from\": {\"data\": {\"name\": \"data-c273c50cad6334645634813a40d06cde\"}, \"key\": \"set\", \"fields\": [\"set_order\"]}}, {\"filter\": {\"selection\": \"selector001\"}}, {\"window\": [{\"op\": \"distinct\", \"field\": \"set\", \"as\": \"set_order\"}], \"frame\": [null, 0], \"sort\": [{\"field\": \"set_order\"}]}, {\"filter\": \"(datum['is_intersect'] === 1)\"}], \"width\": 900}, {\"mark\": {\"type\": \"circle\", \"opacity\": 1, \"size\": 200}, \"encoding\": {\"color\": {\"condition\": {\"value\": \"#3A3A3A\", \"selection\": {\"not\": \"selector002\"}}, \"value\": \"#EA4667\"}, \"tooltip\": [{\"aggregate\": \"max\", \"field\": \"count\", \"title\": \"Cardinality\", \"type\": \"quantitative\"}, {\"field\": \"degree\", \"title\": \"Degree\", \"type\": \"quantitative\"}], \"x\": {\"axis\": {\"domain\": false, \"grid\": false, \"labels\": false, \"ticks\": false}, \"field\": \"intersection_id\", \"sort\": null, \"title\": null, \"type\": \"nominal\"}, \"y\": {\"axis\": {\"domain\": false, \"grid\": false, \"labels\": false, \"ticks\": false}, \"field\": \"set_order\", \"title\": null, \"type\": \"nominal\"}}, \"height\": 280.0, \"transform\": [{\"filter\": {\"selection\": \"selector001\"}}, {\"pivot\": \"set\", \"value\": \"is_intersect\", \"groupby\": [\"intersection_id\", \"count\"], \"op\": \"max\"}, {\"aggregate\": [{\"op\": \"sum\", \"field\": \"count\", \"as\": \"count\"}], \"groupby\": [\"level_0\", \"level_1\", \"level_2\", \"level_3\", \"mesh_terms\", \"strength\"]}, {\"calculate\": \"(isDefined(datum['level_0']) ? datum['level_0'] : 0)+(isDefined(datum['level_1']) ? datum['level_1'] : 0)+(isDefined(datum['level_2']) ? datum['level_2'] : 0)+(isDefined(datum['level_3']) ? datum['level_3'] : 0)+(isDefined(datum['mesh_terms']) ? datum['mesh_terms'] : 0)+(isDefined(datum['strength']) ? datum['strength'] : 0)\", \"as\": \"degree\"}, {\"filter\": \"(datum['degree'] !== 0)\"}, {\"window\": [{\"op\": \"row_number\", \"field\": \"\", \"as\": \"intersection_id\"}], \"frame\": [null, null]}, {\"fold\": [\"level_0\", \"level_1\", \"level_2\", \"level_3\", \"mesh_terms\", \"strength\"], \"as\": [\"set\", \"is_intersect\"]}, {\"lookup\": \"set\", \"from\": {\"data\": {\"name\": \"data-cd98e494a604585702c3ff36c20b4a88\"}, \"key\": \"set\", \"fields\": [\"set_abbre\"]}}, {\"lookup\": \"set\", \"from\": {\"data\": {\"name\": \"data-c273c50cad6334645634813a40d06cde\"}, \"key\": \"set\", \"fields\": [\"set_order\"]}}, {\"filter\": {\"selection\": \"selector001\"}}, {\"window\": [{\"op\": \"distinct\", \"field\": \"set\", \"as\": \"set_order\"}], \"frame\": [null, 0], \"sort\": [{\"field\": \"set_order\"}]}, {\"filter\": \"(datum['is_intersect'] === 1)\"}], \"width\": 900}]}, {\"layer\": [{\"mark\": {\"type\": \"circle\", \"size\": 1000}, \"encoding\": {\"color\": {\"field\": \"set\", \"scale\": {\"domain\": [\"level_0\", \"level_1\", \"level_2\", \"level_3\", \"mesh_terms\", \"strength\"], \"range\": [\"#55A8DB\", \"#3070B5\", \"#30363F\", \"#F1AD60\", \"#DF6234\", \"#BDC6CA\"]}, \"title\": null, \"type\": \"nominal\"}, \"opacity\": {\"value\": 1}, \"y\": {\"axis\": {\"domain\": false, \"grid\": false, \"labels\": false, \"ticks\": false}, \"field\": \"set_order\", \"title\": null, \"type\": \"nominal\"}}, \"selection\": {\"selector001\": {\"type\": \"multi\", \"fields\": [\"set\"], \"bind\": \"legend\"}}, \"transform\": [{\"filter\": {\"selection\": \"selector001\"}}, {\"pivot\": \"set\", \"value\": \"is_intersect\", \"groupby\": [\"intersection_id\", \"count\"], \"op\": \"max\"}, {\"aggregate\": [{\"op\": \"sum\", \"field\": \"count\", \"as\": \"count\"}], \"groupby\": [\"level_0\", \"level_1\", \"level_2\", \"level_3\", \"mesh_terms\", \"strength\"]}, {\"calculate\": \"(isDefined(datum['level_0']) ? datum['level_0'] : 0)+(isDefined(datum['level_1']) ? datum['level_1'] : 0)+(isDefined(datum['level_2']) ? datum['level_2'] : 0)+(isDefined(datum['level_3']) ? datum['level_3'] : 0)+(isDefined(datum['mesh_terms']) ? datum['mesh_terms'] : 0)+(isDefined(datum['strength']) ? datum['strength'] : 0)\", \"as\": \"degree\"}, {\"filter\": \"(datum['degree'] !== 0)\"}, {\"window\": [{\"op\": \"row_number\", \"field\": \"\", \"as\": \"intersection_id\"}], \"frame\": [null, null]}, {\"fold\": [\"level_0\", \"level_1\", \"level_2\", \"level_3\", \"mesh_terms\", \"strength\"], \"as\": [\"set\", \"is_intersect\"]}, {\"lookup\": \"set\", \"from\": {\"data\": {\"name\": \"data-cd98e494a604585702c3ff36c20b4a88\"}, \"key\": \"set\", \"fields\": [\"set_abbre\"]}}, {\"lookup\": \"set\", \"from\": {\"data\": {\"name\": \"data-c273c50cad6334645634813a40d06cde\"}, \"key\": \"set\", \"fields\": [\"set_order\"]}}, {\"filter\": {\"selection\": \"selector001\"}}, {\"window\": [{\"op\": \"distinct\", \"field\": \"set\", \"as\": \"set_order\"}], \"frame\": [null, 0], \"sort\": [{\"field\": \"set_order\"}]}]}, {\"mark\": {\"type\": \"text\", \"align\": \"center\"}, \"encoding\": {\"color\": {\"value\": \"white\"}, \"opacity\": {\"value\": 1}, \"text\": {\"field\": \"set_abbre\", \"type\": \"nominal\"}, \"y\": {\"axis\": {\"domain\": false, \"grid\": false, \"labels\": false, \"ticks\": false}, \"field\": \"set_order\", \"title\": null, \"type\": \"nominal\"}}, \"transform\": [{\"filter\": {\"selection\": \"selector001\"}}, {\"pivot\": \"set\", \"value\": \"is_intersect\", \"groupby\": [\"intersection_id\", \"count\"], \"op\": \"max\"}, {\"aggregate\": [{\"op\": \"sum\", \"field\": \"count\", \"as\": \"count\"}], \"groupby\": [\"level_0\", \"level_1\", \"level_2\", \"level_3\", \"mesh_terms\", \"strength\"]}, {\"calculate\": \"(isDefined(datum['level_0']) ? datum['level_0'] : 0)+(isDefined(datum['level_1']) ? datum['level_1'] : 0)+(isDefined(datum['level_2']) ? datum['level_2'] : 0)+(isDefined(datum['level_3']) ? datum['level_3'] : 0)+(isDefined(datum['mesh_terms']) ? datum['mesh_terms'] : 0)+(isDefined(datum['strength']) ? datum['strength'] : 0)\", \"as\": \"degree\"}, {\"filter\": \"(datum['degree'] !== 0)\"}, {\"window\": [{\"op\": \"row_number\", \"field\": \"\", \"as\": \"intersection_id\"}], \"frame\": [null, null]}, {\"fold\": [\"level_0\", \"level_1\", \"level_2\", \"level_3\", \"mesh_terms\", \"strength\"], \"as\": [\"set\", \"is_intersect\"]}, {\"lookup\": \"set\", \"from\": {\"data\": {\"name\": \"data-cd98e494a604585702c3ff36c20b4a88\"}, \"key\": \"set\", \"fields\": [\"set_abbre\"]}}, {\"lookup\": \"set\", \"from\": {\"data\": {\"name\": \"data-c273c50cad6334645634813a40d06cde\"}, \"key\": \"set\", \"fields\": [\"set_order\"]}}, {\"filter\": {\"selection\": \"selector001\"}}, {\"window\": [{\"op\": \"distinct\", \"field\": \"set\", \"as\": \"set_order\"}], \"frame\": [null, 0], \"sort\": [{\"field\": \"set_order\"}]}]}]}, {\"mark\": {\"type\": \"bar\", \"size\": 20}, \"encoding\": {\"color\": {\"field\": \"set\", \"scale\": {\"domain\": [\"level_0\", \"level_1\", \"level_2\", \"level_3\", \"mesh_terms\", \"strength\"], \"range\": [\"#55A8DB\", \"#3070B5\", \"#30363F\", \"#F1AD60\", \"#DF6234\", \"#BDC6CA\"]}, \"title\": null, \"type\": \"nominal\"}, \"opacity\": {\"value\": 1}, \"x\": {\"aggregate\": \"sum\", \"axis\": {\"grid\": false, \"tickCount\": 3}, \"field\": \"count\", \"title\": \"Set Size\", \"type\": \"quantitative\"}, \"y\": {\"axis\": {\"domain\": false, \"grid\": false, \"labels\": false, \"ticks\": false}, \"field\": \"set_order\", \"title\": null, \"type\": \"nominal\"}}, \"selection\": {\"selector001\": {\"type\": \"multi\", \"fields\": [\"set\"], \"bind\": \"legend\"}}, \"transform\": [{\"filter\": {\"selection\": \"selector001\"}}, {\"pivot\": \"set\", \"value\": \"is_intersect\", \"groupby\": [\"intersection_id\", \"count\"], \"op\": \"max\"}, {\"aggregate\": [{\"op\": \"sum\", \"field\": \"count\", \"as\": \"count\"}], \"groupby\": [\"level_0\", \"level_1\", \"level_2\", \"level_3\", \"mesh_terms\", \"strength\"]}, {\"calculate\": \"(isDefined(datum['level_0']) ? datum['level_0'] : 0)+(isDefined(datum['level_1']) ? datum['level_1'] : 0)+(isDefined(datum['level_2']) ? datum['level_2'] : 0)+(isDefined(datum['level_3']) ? datum['level_3'] : 0)+(isDefined(datum['mesh_terms']) ? datum['mesh_terms'] : 0)+(isDefined(datum['strength']) ? datum['strength'] : 0)\", \"as\": \"degree\"}, {\"filter\": \"(datum['degree'] !== 0)\"}, {\"window\": [{\"op\": \"row_number\", \"field\": \"\", \"as\": \"intersection_id\"}], \"frame\": [null, null]}, {\"fold\": [\"level_0\", \"level_1\", \"level_2\", \"level_3\", \"mesh_terms\", \"strength\"], \"as\": [\"set\", \"is_intersect\"]}, {\"lookup\": \"set\", \"from\": {\"data\": {\"name\": \"data-cd98e494a604585702c3ff36c20b4a88\"}, \"key\": \"set\", \"fields\": [\"set_abbre\"]}}, {\"lookup\": \"set\", \"from\": {\"data\": {\"name\": \"data-c273c50cad6334645634813a40d06cde\"}, \"key\": \"set\", \"fields\": [\"set_order\"]}}, {\"filter\": {\"selection\": \"selector001\"}}, {\"window\": [{\"op\": \"distinct\", \"field\": \"set\", \"as\": \"set_order\"}], \"frame\": [null, 0], \"sort\": [{\"field\": \"set_order\"}]}, {\"filter\": \"(datum['is_intersect'] === 1)\"}], \"width\": 300}], \"resolve\": {\"scale\": {\"y\": \"shared\"}}, \"spacing\": 5}], \"data\": {\"name\": \"data-b383a4bb19ad47c49d0df8748add56d0\"}, \"spacing\": 20, \"title\": {\"text\": \"Counts of articles that leverage AlphaFold\", \"subtitle\": \"\", \"fontSize\": 20, \"fontWeight\": 500, \"subtitleColor\": \"#3A3A3A\", \"subtitleFontSize\": 14}, \"$schema\": \"https://vega.github.io/schema/vega-lite/v4.17.0.json\", \"datasets\": {\"data-b383a4bb19ad47c49d0df8748add56d0\": [{\"intersection_id\": 12, \"count\": 5841, \"degree\": 1, \"set\": \"level_0\", \"is_intersect\": 1}, {\"intersection_id\": 13, \"count\": 2655, \"degree\": 2, \"set\": \"level_0\", \"is_intersect\": 1}, {\"intersection_id\": 14, \"count\": 5330, \"degree\": 2, \"set\": \"level_0\", \"is_intersect\": 1}, {\"intersection_id\": 15, \"count\": 2942, \"degree\": 3, \"set\": \"level_0\", \"is_intersect\": 1}, {\"intersection_id\": 8, \"count\": 47527, \"degree\": 1, \"set\": \"level_0\", \"is_intersect\": 0}, {\"intersection_id\": 9, \"count\": 4469, \"degree\": 2, \"set\": \"level_0\", \"is_intersect\": 0}, {\"intersection_id\": 10, \"count\": 35968, \"degree\": 2, \"set\": \"level_0\", \"is_intersect\": 0}, {\"intersection_id\": 11, \"count\": 3686, \"degree\": 3, \"set\": \"level_0\", \"is_intersect\": 0}, {\"intersection_id\": 4, \"count\": 107889, \"degree\": 1, \"set\": \"level_0\", \"is_intersect\": 0}, {\"intersection_id\": 5, \"count\": 916, \"degree\": 2, \"set\": \"level_0\", \"is_intersect\": 0}, {\"intersection_id\": 6, \"count\": 72566, \"degree\": 2, \"set\": \"level_0\", \"is_intersect\": 0}, {\"intersection_id\": 7, \"count\": 694, \"degree\": 3, \"set\": \"level_0\", \"is_intersect\": 0}, {\"intersection_id\": 0, \"count\": 153064, \"degree\": 1, \"set\": \"level_0\", \"is_intersect\": 0}, {\"intersection_id\": 1, \"count\": 770, \"degree\": 2, \"set\": \"level_0\", \"is_intersect\": 0}, {\"intersection_id\": 2, \"count\": 98088, \"degree\": 2, \"set\": \"level_0\", \"is_intersect\": 0}, {\"intersection_id\": 3, \"count\": 689, \"degree\": 3, \"set\": \"level_0\", \"is_intersect\": 0}, {\"intersection_id\": 12, \"count\": 5841, \"degree\": 1, \"set\": \"level_1\", \"is_intersect\": 0}, {\"intersection_id\": 13, \"count\": 2655, \"degree\": 2, \"set\": \"level_1\", \"is_intersect\": 0}, {\"intersection_id\": 14, \"count\": 5330, \"degree\": 2, \"set\": \"level_1\", \"is_intersect\": 0}, {\"intersection_id\": 15, \"count\": 2942, \"degree\": 3, \"set\": \"level_1\", \"is_intersect\": 0}, {\"intersection_id\": 8, \"count\": 47527, \"degree\": 1, \"set\": \"level_1\", \"is_intersect\": 1}, {\"intersection_id\": 9, \"count\": 4469, \"degree\": 2, \"set\": \"level_1\", \"is_intersect\": 1}, {\"intersection_id\": 10, \"count\": 35968, \"degree\": 2, \"set\": \"level_1\", \"is_intersect\": 1}, {\"intersection_id\": 11, \"count\": 3686, \"degree\": 3, \"set\": \"level_1\", \"is_intersect\": 1}, {\"intersection_id\": 4, \"count\": 107889, \"degree\": 1, \"set\": \"level_1\", \"is_intersect\": 0}, {\"intersection_id\": 5, \"count\": 916, \"degree\": 2, \"set\": \"level_1\", \"is_intersect\": 0}, {\"intersection_id\": 6, \"count\": 72566, \"degree\": 2, \"set\": \"level_1\", \"is_intersect\": 0}, {\"intersection_id\": 7, \"count\": 694, \"degree\": 3, \"set\": \"level_1\", \"is_intersect\": 0}, {\"intersection_id\": 0, \"count\": 153064, \"degree\": 1, \"set\": \"level_1\", \"is_intersect\": 0}, {\"intersection_id\": 1, \"count\": 770, \"degree\": 2, \"set\": \"level_1\", \"is_intersect\": 0}, {\"intersection_id\": 2, \"count\": 98088, \"degree\": 2, \"set\": \"level_1\", \"is_intersect\": 0}, {\"intersection_id\": 3, \"count\": 689, \"degree\": 3, \"set\": \"level_1\", \"is_intersect\": 0}, {\"intersection_id\": 12, \"count\": 5841, \"degree\": 1, \"set\": \"level_2\", \"is_intersect\": 0}, {\"intersection_id\": 13, \"count\": 2655, \"degree\": 2, \"set\": \"level_2\", \"is_intersect\": 0}, {\"intersection_id\": 14, \"count\": 5330, \"degree\": 2, \"set\": \"level_2\", \"is_intersect\": 0}, {\"intersection_id\": 15, \"count\": 2942, \"degree\": 3, \"set\": \"level_2\", \"is_intersect\": 0}, {\"intersection_id\": 8, \"count\": 47527, \"degree\": 1, \"set\": \"level_2\", \"is_intersect\": 0}, {\"intersection_id\": 9, \"count\": 4469, \"degree\": 2, \"set\": \"level_2\", \"is_intersect\": 0}, {\"intersection_id\": 10, \"count\": 35968, \"degree\": 2, \"set\": \"level_2\", \"is_intersect\": 0}, {\"intersection_id\": 11, \"count\": 3686, \"degree\": 3, \"set\": \"level_2\", \"is_intersect\": 0}, {\"intersection_id\": 4, \"count\": 107889, \"degree\": 1, \"set\": \"level_2\", \"is_intersect\": 1}, {\"intersection_id\": 5, \"count\": 916, \"degree\": 2, \"set\": \"level_2\", \"is_intersect\": 1}, {\"intersection_id\": 6, \"count\": 72566, \"degree\": 2, \"set\": \"level_2\", \"is_intersect\": 1}, {\"intersection_id\": 7, \"count\": 694, \"degree\": 3, \"set\": \"level_2\", \"is_intersect\": 1}, {\"intersection_id\": 0, \"count\": 153064, \"degree\": 1, \"set\": \"level_2\", \"is_intersect\": 0}, {\"intersection_id\": 1, \"count\": 770, \"degree\": 2, \"set\": \"level_2\", \"is_intersect\": 0}, {\"intersection_id\": 2, \"count\": 98088, \"degree\": 2, \"set\": \"level_2\", \"is_intersect\": 0}, {\"intersection_id\": 3, \"count\": 689, \"degree\": 3, \"set\": \"level_2\", \"is_intersect\": 0}, {\"intersection_id\": 12, \"count\": 5841, \"degree\": 1, \"set\": \"level_3\", \"is_intersect\": 0}, {\"intersection_id\": 13, \"count\": 2655, \"degree\": 2, \"set\": \"level_3\", \"is_intersect\": 0}, {\"intersection_id\": 14, \"count\": 5330, \"degree\": 2, \"set\": \"level_3\", \"is_intersect\": 0}, {\"intersection_id\": 15, \"count\": 2942, \"degree\": 3, \"set\": \"level_3\", \"is_intersect\": 0}, {\"intersection_id\": 8, \"count\": 47527, \"degree\": 1, \"set\": \"level_3\", \"is_intersect\": 0}, {\"intersection_id\": 9, \"count\": 4469, \"degree\": 2, \"set\": \"level_3\", \"is_intersect\": 0}, {\"intersection_id\": 10, \"count\": 35968, \"degree\": 2, \"set\": \"level_3\", \"is_intersect\": 0}, {\"intersection_id\": 11, \"count\": 3686, \"degree\": 3, \"set\": \"level_3\", \"is_intersect\": 0}, {\"intersection_id\": 4, \"count\": 107889, \"degree\": 1, \"set\": \"level_3\", \"is_intersect\": 0}, {\"intersection_id\": 5, \"count\": 916, \"degree\": 2, \"set\": \"level_3\", \"is_intersect\": 0}, {\"intersection_id\": 6, \"count\": 72566, \"degree\": 2, \"set\": \"level_3\", \"is_intersect\": 0}, {\"intersection_id\": 7, \"count\": 694, \"degree\": 3, \"set\": \"level_3\", \"is_intersect\": 0}, {\"intersection_id\": 0, \"count\": 153064, \"degree\": 1, \"set\": \"level_3\", \"is_intersect\": 1}, {\"intersection_id\": 1, \"count\": 770, \"degree\": 2, \"set\": \"level_3\", \"is_intersect\": 1}, {\"intersection_id\": 2, \"count\": 98088, \"degree\": 2, \"set\": \"level_3\", \"is_intersect\": 1}, {\"intersection_id\": 3, \"count\": 689, \"degree\": 3, \"set\": \"level_3\", \"is_intersect\": 1}, {\"intersection_id\": 12, \"count\": 5841, \"degree\": 1, \"set\": \"mesh_terms\", \"is_intersect\": 0}, {\"intersection_id\": 13, \"count\": 2655, \"degree\": 2, \"set\": \"mesh_terms\", \"is_intersect\": 0}, {\"intersection_id\": 14, \"count\": 5330, \"degree\": 2, \"set\": \"mesh_terms\", \"is_intersect\": 1}, {\"intersection_id\": 15, \"count\": 2942, \"degree\": 3, \"set\": \"mesh_terms\", \"is_intersect\": 1}, {\"intersection_id\": 8, \"count\": 47527, \"degree\": 1, \"set\": \"mesh_terms\", \"is_intersect\": 0}, {\"intersection_id\": 9, \"count\": 4469, \"degree\": 2, \"set\": \"mesh_terms\", \"is_intersect\": 0}, {\"intersection_id\": 10, \"count\": 35968, \"degree\": 2, \"set\": \"mesh_terms\", \"is_intersect\": 1}, {\"intersection_id\": 11, \"count\": 3686, \"degree\": 3, \"set\": \"mesh_terms\", \"is_intersect\": 1}, {\"intersection_id\": 4, \"count\": 107889, \"degree\": 1, \"set\": \"mesh_terms\", \"is_intersect\": 0}, {\"intersection_id\": 5, \"count\": 916, \"degree\": 2, \"set\": \"mesh_terms\", \"is_intersect\": 0}, {\"intersection_id\": 6, \"count\": 72566, \"degree\": 2, \"set\": \"mesh_terms\", \"is_intersect\": 1}, {\"intersection_id\": 7, \"count\": 694, \"degree\": 3, \"set\": \"mesh_terms\", \"is_intersect\": 1}, {\"intersection_id\": 0, \"count\": 153064, \"degree\": 1, \"set\": \"mesh_terms\", \"is_intersect\": 0}, {\"intersection_id\": 1, \"count\": 770, \"degree\": 2, \"set\": \"mesh_terms\", \"is_intersect\": 0}, {\"intersection_id\": 2, \"count\": 98088, \"degree\": 2, \"set\": \"mesh_terms\", \"is_intersect\": 1}, {\"intersection_id\": 3, \"count\": 689, \"degree\": 3, \"set\": \"mesh_terms\", \"is_intersect\": 1}, {\"intersection_id\": 12, \"count\": 5841, \"degree\": 1, \"set\": \"strength\", \"is_intersect\": 0}, {\"intersection_id\": 13, \"count\": 2655, \"degree\": 2, \"set\": \"strength\", \"is_intersect\": 1}, {\"intersection_id\": 14, \"count\": 5330, \"degree\": 2, \"set\": \"strength\", \"is_intersect\": 0}, {\"intersection_id\": 15, \"count\": 2942, \"degree\": 3, \"set\": \"strength\", \"is_intersect\": 1}, {\"intersection_id\": 8, \"count\": 47527, \"degree\": 1, \"set\": \"strength\", \"is_intersect\": 0}, {\"intersection_id\": 9, \"count\": 4469, \"degree\": 2, \"set\": \"strength\", \"is_intersect\": 1}, {\"intersection_id\": 10, \"count\": 35968, \"degree\": 2, \"set\": \"strength\", \"is_intersect\": 0}, {\"intersection_id\": 11, \"count\": 3686, \"degree\": 3, \"set\": \"strength\", \"is_intersect\": 1}, {\"intersection_id\": 4, \"count\": 107889, \"degree\": 1, \"set\": \"strength\", \"is_intersect\": 0}, {\"intersection_id\": 5, \"count\": 916, \"degree\": 2, \"set\": \"strength\", \"is_intersect\": 1}, {\"intersection_id\": 6, \"count\": 72566, \"degree\": 2, \"set\": \"strength\", \"is_intersect\": 0}, {\"intersection_id\": 7, \"count\": 694, \"degree\": 3, \"set\": \"strength\", \"is_intersect\": 1}, {\"intersection_id\": 0, \"count\": 153064, \"degree\": 1, \"set\": \"strength\", \"is_intersect\": 0}, {\"intersection_id\": 1, \"count\": 770, \"degree\": 2, \"set\": \"strength\", \"is_intersect\": 1}, {\"intersection_id\": 2, \"count\": 98088, \"degree\": 2, \"set\": \"strength\", \"is_intersect\": 0}, {\"intersection_id\": 3, \"count\": 689, \"degree\": 3, \"set\": \"strength\", \"is_intersect\": 1}], \"data-cd98e494a604585702c3ff36c20b4a88\": [{\"set\": \"level_0\", \"set_abbre\": \"L0\"}, {\"set\": \"level_1\", \"set_abbre\": \"L1\"}, {\"set\": \"level_2\", \"set_abbre\": \"L2\"}, {\"set\": \"level_3\", \"set_abbre\": \"L3\"}, {\"set\": \"mesh_terms\", \"set_abbre\": \"Msh\"}, {\"set\": \"strength\", \"set_abbre\": \"Str\"}], \"data-c273c50cad6334645634813a40d06cde\": [{\"set\": \"level_0\", \"set_order\": 1}, {\"set\": \"level_1\", \"set_order\": 2}, {\"set\": \"level_2\", \"set_order\": 3}, {\"set\": \"level_3\", \"set_order\": 4}, {\"set\": \"mesh_terms\", \"set_order\": 5}, {\"set\": \"strength\", \"set_order\": 6}]}}, {\"mode\": \"vega-lite\"});\n",
       "</script>"
      ],
      "text/plain": [
       "\u001b[1;35malt.VConcatChart\u001b[0m\u001b[1m(\u001b[0m\u001b[33m...\u001b[0m\u001b[1m)\u001b[0m"
      ]
     },
     "execution_count": 9,
     "metadata": {},
     "output_type": "execute_result"
    }
   ],
   "source": [
    "from plot_utils import UpSetAltair\n",
    "\n",
    "af_upset_data = alphafold_oa_data.copy()\n",
    "\n",
    "#  transform the level column, which currently takes values between 0 and 3, to four binary columns\n",
    "#  for each level, where 1 indicates that the level is present in the row.\n",
    "for i in range(4):\n",
    "    af_upset_data[f\"level_{i}\"] = (af_upset_data[\"level\"] == i).astype(int)\n",
    "\n",
    "# also create 0 and 1 for whether mesh_terms are present\n",
    "af_upset_data[\"mesh_terms\"] = af_upset_data[\"mesh_terms\"].notnull().astype(int)\n",
    "\n",
    "# also do it for strength\n",
    "af_upset_data[\"strength\"] = af_upset_data[\"strength\"].notnull().astype(int)\n",
    "\n",
    "UpSetAltair(\n",
    "    data=af_upset_data,\n",
    "    title=\"Counts of articles that leverage AlphaFold\",\n",
    "    sets=[\"level_0\", \"level_1\", \"level_2\", \"level_3\", \"mesh_terms\", \"strength\"],\n",
    "    abbre=[\"L0\", \"L1\", \"L2\", \"L3\", \"Msh\", \"Str\"],\n",
    "    sort_by=\"degree\",\n",
    "    sort_order=\"levels\",\n",
    ")"
   ]
  },
  {
   "cell_type": "code",
   "execution_count": 10,
   "metadata": {},
   "outputs": [
    {
     "data": {
      "text/html": [
       "<pre style=\"white-space:pre;overflow-x:auto;line-height:normal;font-family:Menlo,'DejaVu Sans Mono',consolas,'Courier New',monospace\"></pre>\n"
      ],
      "text/plain": []
     },
     "metadata": {},
     "output_type": "display_data"
    },
    {
     "data": {
      "text/html": [
       "<div>\n",
       "<style scoped>\n",
       "    .dataframe tbody tr th:only-of-type {\n",
       "        vertical-align: middle;\n",
       "    }\n",
       "\n",
       "    .dataframe tbody tr th {\n",
       "        vertical-align: top;\n",
       "    }\n",
       "\n",
       "    .dataframe thead th {\n",
       "        text-align: right;\n",
       "    }\n",
       "</style>\n",
       "<table border=\"1\" class=\"dataframe\">\n",
       "  <thead>\n",
       "    <tr style=\"text-align: right;\">\n",
       "      <th></th>\n",
       "      <th>parent_id</th>\n",
       "      <th>id</th>\n",
       "      <th>parent_doi</th>\n",
       "      <th>doi</th>\n",
       "      <th>level</th>\n",
       "      <th>publication_date</th>\n",
       "      <th>mesh_terms</th>\n",
       "      <th>strength</th>\n",
       "      <th>cited_by_count</th>\n",
       "    </tr>\n",
       "  </thead>\n",
       "  <tbody>\n",
       "    <tr>\n",
       "      <th>0</th>\n",
       "      <td>W3177828909</td>\n",
       "      <td>W3211795435</td>\n",
       "      <td>10.1038/s41586-021-03819-2</td>\n",
       "      <td>10.1093/nar/gkab1061</td>\n",
       "      <td>0</td>\n",
       "      <td>2021-11-17</td>\n",
       "      <td>[[D030562, Databases, Protein], [D017510, Prot...</td>\n",
       "      <td>[{'context': 'The methodology of AlphaFold and...</td>\n",
       "      <td>3437</td>\n",
       "    </tr>\n",
       "    <tr>\n",
       "      <th>1</th>\n",
       "      <td>W3177828909</td>\n",
       "      <td>W4281790889</td>\n",
       "      <td>10.1038/s41586-021-03819-2</td>\n",
       "      <td>10.1038/s41592-022-01488-1</td>\n",
       "      <td>0</td>\n",
       "      <td>2022-05-30</td>\n",
       "      <td>[[D017510, Protein Folding], [D012984, Softwar...</td>\n",
       "      <td>None</td>\n",
       "      <td>3021</td>\n",
       "    </tr>\n",
       "  </tbody>\n",
       "</table>\n",
       "</div>"
      ],
      "text/plain": [
       "\n",
       "     parent_id           id                  parent_doi  \\\n",
       "\u001b[1;36m0\u001b[0m  W3177828909  W3211795435  \u001b[1;36m10.1038\u001b[0m/s41586-\u001b[1;36m021\u001b[0m-\u001b[1;36m03819\u001b[0m-\u001b[1;36m2\u001b[0m   \n",
       "\u001b[1;36m1\u001b[0m  W3177828909  W4281790889  \u001b[1;36m10.1038\u001b[0m/s41586-\u001b[1;36m021\u001b[0m-\u001b[1;36m03819\u001b[0m-\u001b[1;36m2\u001b[0m   \n",
       "\n",
       "                          doi  level publication_date  \\\n",
       "\u001b[1;36m0\u001b[0m        \u001b[1;36m10.1093\u001b[0m/nar/gkab1061      \u001b[1;36m0\u001b[0m       \u001b[1;36m2021\u001b[0m-\u001b[1;36m11\u001b[0m-\u001b[1;36m17\u001b[0m   \n",
       "\u001b[1;36m1\u001b[0m  \u001b[1;36m10.1038\u001b[0m/s41592-\u001b[1;36m022\u001b[0m-\u001b[1;36m01488\u001b[0m-\u001b[1;36m1\u001b[0m      \u001b[1;36m0\u001b[0m       \u001b[1;36m2022\u001b[0m-\u001b[1;36m05\u001b[0m-\u001b[1;36m30\u001b[0m   \n",
       "\n",
       "                                          mesh_terms  \\\n",
       "\u001b[1;36m0\u001b[0m  \u001b[1m[\u001b[0m\u001b[1m[\u001b[0mD030562, Databases, Protein\u001b[1m]\u001b[0m, \u001b[1m[\u001b[0mD017510, Prot\u001b[33m...\u001b[0m   \n",
       "\u001b[1;36m1\u001b[0m  \u001b[1m[\u001b[0m\u001b[1m[\u001b[0mD017510, Protein Folding\u001b[1m]\u001b[0m, \u001b[1m[\u001b[0mD012984, Softwar\u001b[33m...\u001b[0m   \n",
       "\n",
       "                                            strength  cited_by_count  \n",
       "\u001b[1;36m0\u001b[0m  \u001b[1m[\u001b[0m\u001b[1m{\u001b[0m\u001b[32m'context'\u001b[0m: 'The methodology of AlphaFold and\u001b[33m...\u001b[0m            \u001b[1;36m3437\u001b[0m  \n",
       "\u001b[1;36m1\u001b[0m                                               \u001b[3;35mNone\u001b[0m            \u001b[1;36m3021\u001b[0m  "
      ]
     },
     "execution_count": 10,
     "metadata": {},
     "output_type": "execute_result"
    }
   ],
   "source": [
    "alphafold_oa_data.head(2)"
   ]
  },
  {
   "cell_type": "code",
   "execution_count": 11,
   "metadata": {},
   "outputs": [],
   "source": [
    "def process_dataframe(df, mesh_terms_df, dup_cols):\n",
    "    # explode mesh_terms\n",
    "    df = df.explode(\"mesh_terms\")\n",
    "\n",
    "    # keep non-null values\n",
    "    df = df[df[\"mesh_terms\"].notnull()]\n",
    "\n",
    "    # create two columns from the two-item lists\n",
    "    df[\"mesh_terms_dui\"] = df[\"mesh_terms\"].apply(lambda x: x[0])\n",
    "    df[\"mesh_terms_label\"] = df[\"mesh_terms\"].apply(lambda x: x[1])\n",
    "\n",
    "    # drop the lists column\n",
    "    df.drop(columns=[\"mesh_terms\"], inplace=True)\n",
    "\n",
    "    # map the mesh_terms_dui of the df to the DUI column of the mesh_terms dataframe\n",
    "    df = df.merge(mesh_terms_df[[\"DUI\", \"tree_number\", \"mesh_tree_label\"]], left_on=\"mesh_terms_dui\", right_on=\"DUI\", how=\"left\")\n",
    "\n",
    "    # drop duplicates of id, mesh_terms_dui\n",
    "    df.drop_duplicates(subset=dup_cols, inplace=True)\n",
    "\n",
    "    # reset index\n",
    "    df.reset_index(drop=True, inplace=True)\n",
    "\n",
    "    return df"
   ]
  },
  {
   "cell_type": "code",
   "execution_count": 12,
   "metadata": {},
   "outputs": [],
   "source": [
    "alphafold_oa_mesh_data = process_dataframe(alphafold_oa_data, mesh_terms, dup_cols = [\"id\", \"level\", \"mesh_terms_dui\"])"
   ]
  },
  {
   "cell_type": "code",
   "execution_count": 13,
   "metadata": {},
   "outputs": [
    {
     "data": {
      "text/html": [
       "<pre style=\"white-space:pre;overflow-x:auto;line-height:normal;font-family:Menlo,'DejaVu Sans Mono',consolas,'Courier New',monospace\"></pre>\n"
      ],
      "text/plain": []
     },
     "metadata": {},
     "output_type": "display_data"
    },
    {
     "data": {
      "text/plain": [
       "\n",
       "mesh_tree_label\n",
       "Other                                                              \u001b[1;36m763682\u001b[0m\n",
       "Infections                                                          \u001b[1;36m34903\u001b[0m\n",
       "Neoplasms                                                           \u001b[1;36m17476\u001b[0m\n",
       "Nervous System Diseases                                              \u001b[1;36m8846\u001b[0m\n",
       "Pathological Conditions, Signs and Symptoms                          \u001b[1;36m7682\u001b[0m\n",
       "Nutritional and Metabolic Diseases                                   \u001b[1;36m3058\u001b[0m\n",
       "Cardiovascular Diseases                                              \u001b[1;36m3047\u001b[0m\n",
       "Digestive System Diseases                                            \u001b[1;36m2205\u001b[0m\n",
       "Musculoskeletal Diseases                                             \u001b[1;36m1918\u001b[0m\n",
       "Urogenital Diseases                                                  \u001b[1;36m1636\u001b[0m\n",
       "Animal Diseases                                                      \u001b[1;36m1451\u001b[0m\n",
       "Respiratory Tract Diseases                                           \u001b[1;36m1323\u001b[0m\n",
       "Immune System Diseases                                                \u001b[1;36m876\u001b[0m\n",
       "Hemic and Lymphatic Diseases                                          \u001b[1;36m870\u001b[0m\n",
       "Eye Diseases                                                          \u001b[1;36m851\u001b[0m\n",
       "Congenital, Hereditary, and Neonatal Diseases and Abnormalities       \u001b[1;36m781\u001b[0m\n",
       "Skin and Connective Tissue Diseases                                   \u001b[1;36m705\u001b[0m\n",
       "Substance-Related Disorders                                           \u001b[1;36m420\u001b[0m\n",
       "Otorhinolaryngologic Diseases                                         \u001b[1;36m304\u001b[0m\n",
       "Stomatognathic Diseases                                               \u001b[1;36m267\u001b[0m\n",
       "Endocrine System Diseases                                             \u001b[1;36m156\u001b[0m\n",
       "Wounds and Injuries                                                   \u001b[1;36m130\u001b[0m\n",
       "Occupational Diseases                                                  \u001b[1;36m20\u001b[0m\n",
       "Name: count, dtype: int64"
      ]
     },
     "execution_count": 13,
     "metadata": {},
     "output_type": "execute_result"
    }
   ],
   "source": [
    "alphafold_oa_mesh_data.mesh_tree_label.value_counts()"
   ]
  },
  {
   "cell_type": "code",
   "execution_count": 14,
   "metadata": {},
   "outputs": [
    {
     "data": {
      "text/html": [
       "<pre style=\"white-space:pre;overflow-x:auto;line-height:normal;font-family:Menlo,'DejaVu Sans Mono',consolas,'Courier New',monospace\"></pre>\n"
      ],
      "text/plain": []
     },
     "metadata": {},
     "output_type": "display_data"
    },
    {
     "data": {
      "text/html": [
       "<div>\n",
       "<style scoped>\n",
       "    .dataframe tbody tr th:only-of-type {\n",
       "        vertical-align: middle;\n",
       "    }\n",
       "\n",
       "    .dataframe tbody tr th {\n",
       "        vertical-align: top;\n",
       "    }\n",
       "\n",
       "    .dataframe thead th {\n",
       "        text-align: right;\n",
       "    }\n",
       "</style>\n",
       "<table border=\"1\" class=\"dataframe\">\n",
       "  <thead>\n",
       "    <tr style=\"text-align: right;\">\n",
       "      <th></th>\n",
       "      <th>parent_id</th>\n",
       "      <th>id</th>\n",
       "      <th>parent_doi</th>\n",
       "      <th>doi</th>\n",
       "      <th>level</th>\n",
       "      <th>publication_date</th>\n",
       "      <th>strength</th>\n",
       "      <th>cited_by_count</th>\n",
       "      <th>mesh_terms_dui</th>\n",
       "      <th>mesh_terms_label</th>\n",
       "      <th>DUI</th>\n",
       "      <th>tree_number</th>\n",
       "      <th>mesh_tree_label</th>\n",
       "    </tr>\n",
       "  </thead>\n",
       "  <tbody>\n",
       "    <tr>\n",
       "      <th>0</th>\n",
       "      <td>W3177828909</td>\n",
       "      <td>W3211795435</td>\n",
       "      <td>10.1038/s41586-021-03819-2</td>\n",
       "      <td>10.1093/nar/gkab1061</td>\n",
       "      <td>0</td>\n",
       "      <td>2021-11-17</td>\n",
       "      <td>[{'context': 'The methodology of AlphaFold and...</td>\n",
       "      <td>3437</td>\n",
       "      <td>D030562</td>\n",
       "      <td>Databases, Protein</td>\n",
       "      <td>D030562</td>\n",
       "      <td>L01.313.500.750.300.188.400.300.750</td>\n",
       "      <td>Other</td>\n",
       "    </tr>\n",
       "    <tr>\n",
       "      <th>1</th>\n",
       "      <td>W3177828909</td>\n",
       "      <td>W3211795435</td>\n",
       "      <td>10.1038/s41586-021-03819-2</td>\n",
       "      <td>10.1093/nar/gkab1061</td>\n",
       "      <td>0</td>\n",
       "      <td>2021-11-17</td>\n",
       "      <td>[{'context': 'The methodology of AlphaFold and...</td>\n",
       "      <td>3437</td>\n",
       "      <td>D017510</td>\n",
       "      <td>Protein Folding</td>\n",
       "      <td>D017510</td>\n",
       "      <td>G01.154.651</td>\n",
       "      <td>Other</td>\n",
       "    </tr>\n",
       "    <tr>\n",
       "      <th>2</th>\n",
       "      <td>W3177828909</td>\n",
       "      <td>W3211795435</td>\n",
       "      <td>10.1038/s41586-021-03819-2</td>\n",
       "      <td>10.1093/nar/gkab1061</td>\n",
       "      <td>0</td>\n",
       "      <td>2021-11-17</td>\n",
       "      <td>[{'context': 'The methodology of AlphaFold and...</td>\n",
       "      <td>3437</td>\n",
       "      <td>D011506</td>\n",
       "      <td>Proteins</td>\n",
       "      <td>D011506</td>\n",
       "      <td>D12.776</td>\n",
       "      <td>Other</td>\n",
       "    </tr>\n",
       "    <tr>\n",
       "      <th>3</th>\n",
       "      <td>W3177828909</td>\n",
       "      <td>W3211795435</td>\n",
       "      <td>10.1038/s41586-021-03819-2</td>\n",
       "      <td>10.1093/nar/gkab1061</td>\n",
       "      <td>0</td>\n",
       "      <td>2021-11-17</td>\n",
       "      <td>[{'context': 'The methodology of AlphaFold and...</td>\n",
       "      <td>3437</td>\n",
       "      <td>D012984</td>\n",
       "      <td>Software</td>\n",
       "      <td>D012984</td>\n",
       "      <td>L01.224.900</td>\n",
       "      <td>Other</td>\n",
       "    </tr>\n",
       "    <tr>\n",
       "      <th>4</th>\n",
       "      <td>W3177828909</td>\n",
       "      <td>W3211795435</td>\n",
       "      <td>10.1038/s41586-021-03819-2</td>\n",
       "      <td>10.1093/nar/gkab1061</td>\n",
       "      <td>0</td>\n",
       "      <td>2021-11-17</td>\n",
       "      <td>[{'context': 'The methodology of AlphaFold and...</td>\n",
       "      <td>3437</td>\n",
       "      <td>D000595</td>\n",
       "      <td>Amino Acid Sequence</td>\n",
       "      <td>D000595</td>\n",
       "      <td>G02.111.570.060</td>\n",
       "      <td>Other</td>\n",
       "    </tr>\n",
       "    <tr>\n",
       "      <th>...</th>\n",
       "      <td>...</td>\n",
       "      <td>...</td>\n",
       "      <td>...</td>\n",
       "      <td>...</td>\n",
       "      <td>...</td>\n",
       "      <td>...</td>\n",
       "      <td>...</td>\n",
       "      <td>...</td>\n",
       "      <td>...</td>\n",
       "      <td>...</td>\n",
       "      <td>...</td>\n",
       "      <td>...</td>\n",
       "      <td>...</td>\n",
       "    </tr>\n",
       "    <tr>\n",
       "      <th>857760</th>\n",
       "      <td>W4391174472</td>\n",
       "      <td>W4391174472</td>\n",
       "      <td>10.1002/ctm2.1545</td>\n",
       "      <td>10.1002/ctm2.1545</td>\n",
       "      <td>3</td>\n",
       "      <td>2024-01-01</td>\n",
       "      <td>None</td>\n",
       "      <td>1</td>\n",
       "      <td>D005347</td>\n",
       "      <td>Fibroblasts</td>\n",
       "      <td>D005347</td>\n",
       "      <td>A11.329.228</td>\n",
       "      <td>Other</td>\n",
       "    </tr>\n",
       "    <tr>\n",
       "      <th>857761</th>\n",
       "      <td>W4391174472</td>\n",
       "      <td>W4391174472</td>\n",
       "      <td>10.1002/ctm2.1545</td>\n",
       "      <td>10.1002/ctm2.1545</td>\n",
       "      <td>3</td>\n",
       "      <td>2024-01-01</td>\n",
       "      <td>None</td>\n",
       "      <td>1</td>\n",
       "      <td>D002455</td>\n",
       "      <td>Cell Division</td>\n",
       "      <td>D002455</td>\n",
       "      <td>G04.144.220</td>\n",
       "      <td>Other</td>\n",
       "    </tr>\n",
       "    <tr>\n",
       "      <th>857762</th>\n",
       "      <td>W4391174472</td>\n",
       "      <td>W4391174472</td>\n",
       "      <td>10.1002/ctm2.1545</td>\n",
       "      <td>10.1002/ctm2.1545</td>\n",
       "      <td>3</td>\n",
       "      <td>2024-01-01</td>\n",
       "      <td>None</td>\n",
       "      <td>1</td>\n",
       "      <td>D003429</td>\n",
       "      <td>Cross Reactions</td>\n",
       "      <td>D003429</td>\n",
       "      <td>G12.122.281</td>\n",
       "      <td>Other</td>\n",
       "    </tr>\n",
       "    <tr>\n",
       "      <th>857763</th>\n",
       "      <td>W4391174472</td>\n",
       "      <td>W4391174472</td>\n",
       "      <td>10.1002/ctm2.1545</td>\n",
       "      <td>10.1002/ctm2.1545</td>\n",
       "      <td>3</td>\n",
       "      <td>2024-01-01</td>\n",
       "      <td>None</td>\n",
       "      <td>1</td>\n",
       "      <td>D005355</td>\n",
       "      <td>Fibrosis</td>\n",
       "      <td>D005355</td>\n",
       "      <td>C23.550.355</td>\n",
       "      <td>Pathological Conditions, Signs and Symptoms</td>\n",
       "    </tr>\n",
       "    <tr>\n",
       "      <th>857764</th>\n",
       "      <td>W4391174472</td>\n",
       "      <td>W4391174472</td>\n",
       "      <td>10.1002/ctm2.1545</td>\n",
       "      <td>10.1002/ctm2.1545</td>\n",
       "      <td>3</td>\n",
       "      <td>2024-01-01</td>\n",
       "      <td>None</td>\n",
       "      <td>1</td>\n",
       "      <td>D006801</td>\n",
       "      <td>Humans</td>\n",
       "      <td>D006801</td>\n",
       "      <td>B01.050.150.900.649.313.988.400.112.400.400</td>\n",
       "      <td>Other</td>\n",
       "    </tr>\n",
       "  </tbody>\n",
       "</table>\n",
       "<p>857765 rows × 13 columns</p>\n",
       "</div>"
      ],
      "text/plain": [
       "\n",
       "          parent_id           id                  parent_doi  \\\n",
       "\u001b[1;36m0\u001b[0m       W3177828909  W3211795435  \u001b[1;36m10.1038\u001b[0m/s41586-\u001b[1;36m021\u001b[0m-\u001b[1;36m03819\u001b[0m-\u001b[1;36m2\u001b[0m   \n",
       "\u001b[1;36m1\u001b[0m       W3177828909  W3211795435  \u001b[1;36m10.1038\u001b[0m/s41586-\u001b[1;36m021\u001b[0m-\u001b[1;36m03819\u001b[0m-\u001b[1;36m2\u001b[0m   \n",
       "\u001b[1;36m2\u001b[0m       W3177828909  W3211795435  \u001b[1;36m10.1038\u001b[0m/s41586-\u001b[1;36m021\u001b[0m-\u001b[1;36m03819\u001b[0m-\u001b[1;36m2\u001b[0m   \n",
       "\u001b[1;36m3\u001b[0m       W3177828909  W3211795435  \u001b[1;36m10.1038\u001b[0m/s41586-\u001b[1;36m021\u001b[0m-\u001b[1;36m03819\u001b[0m-\u001b[1;36m2\u001b[0m   \n",
       "\u001b[1;36m4\u001b[0m       W3177828909  W3211795435  \u001b[1;36m10.1038\u001b[0m/s41586-\u001b[1;36m021\u001b[0m-\u001b[1;36m03819\u001b[0m-\u001b[1;36m2\u001b[0m   \n",
       "\u001b[33m...\u001b[0m             \u001b[33m...\u001b[0m          \u001b[33m...\u001b[0m                         \u001b[33m...\u001b[0m   \n",
       "\u001b[1;36m857760\u001b[0m  W4391174472  W4391174472           \u001b[1;36m10.1002\u001b[0m/ctm2.\u001b[1;36m1545\u001b[0m   \n",
       "\u001b[1;36m857761\u001b[0m  W4391174472  W4391174472           \u001b[1;36m10.1002\u001b[0m/ctm2.\u001b[1;36m1545\u001b[0m   \n",
       "\u001b[1;36m857762\u001b[0m  W4391174472  W4391174472           \u001b[1;36m10.1002\u001b[0m/ctm2.\u001b[1;36m1545\u001b[0m   \n",
       "\u001b[1;36m857763\u001b[0m  W4391174472  W4391174472           \u001b[1;36m10.1002\u001b[0m/ctm2.\u001b[1;36m1545\u001b[0m   \n",
       "\u001b[1;36m857764\u001b[0m  W4391174472  W4391174472           \u001b[1;36m10.1002\u001b[0m/ctm2.\u001b[1;36m1545\u001b[0m   \n",
       "\n",
       "                         doi  level publication_date  \\\n",
       "\u001b[1;36m0\u001b[0m       \u001b[1;36m10.1093\u001b[0m/nar/gkab1061      \u001b[1;36m0\u001b[0m       \u001b[1;36m2021\u001b[0m-\u001b[1;36m11\u001b[0m-\u001b[1;36m17\u001b[0m   \n",
       "\u001b[1;36m1\u001b[0m       \u001b[1;36m10.1093\u001b[0m/nar/gkab1061      \u001b[1;36m0\u001b[0m       \u001b[1;36m2021\u001b[0m-\u001b[1;36m11\u001b[0m-\u001b[1;36m17\u001b[0m   \n",
       "\u001b[1;36m2\u001b[0m       \u001b[1;36m10.1093\u001b[0m/nar/gkab1061      \u001b[1;36m0\u001b[0m       \u001b[1;36m2021\u001b[0m-\u001b[1;36m11\u001b[0m-\u001b[1;36m17\u001b[0m   \n",
       "\u001b[1;36m3\u001b[0m       \u001b[1;36m10.1093\u001b[0m/nar/gkab1061      \u001b[1;36m0\u001b[0m       \u001b[1;36m2021\u001b[0m-\u001b[1;36m11\u001b[0m-\u001b[1;36m17\u001b[0m   \n",
       "\u001b[1;36m4\u001b[0m       \u001b[1;36m10.1093\u001b[0m/nar/gkab1061      \u001b[1;36m0\u001b[0m       \u001b[1;36m2021\u001b[0m-\u001b[1;36m11\u001b[0m-\u001b[1;36m17\u001b[0m   \n",
       "\u001b[33m...\u001b[0m                      \u001b[33m...\u001b[0m    \u001b[33m...\u001b[0m              \u001b[33m...\u001b[0m   \n",
       "\u001b[1;36m857760\u001b[0m     \u001b[1;36m10.1002\u001b[0m/ctm2.\u001b[1;36m1545\u001b[0m      \u001b[1;36m3\u001b[0m       \u001b[1;36m2024\u001b[0m-\u001b[1;36m01\u001b[0m-\u001b[1;36m01\u001b[0m   \n",
       "\u001b[1;36m857761\u001b[0m     \u001b[1;36m10.1002\u001b[0m/ctm2.\u001b[1;36m1545\u001b[0m      \u001b[1;36m3\u001b[0m       \u001b[1;36m2024\u001b[0m-\u001b[1;36m01\u001b[0m-\u001b[1;36m01\u001b[0m   \n",
       "\u001b[1;36m857762\u001b[0m     \u001b[1;36m10.1002\u001b[0m/ctm2.\u001b[1;36m1545\u001b[0m      \u001b[1;36m3\u001b[0m       \u001b[1;36m2024\u001b[0m-\u001b[1;36m01\u001b[0m-\u001b[1;36m01\u001b[0m   \n",
       "\u001b[1;36m857763\u001b[0m     \u001b[1;36m10.1002\u001b[0m/ctm2.\u001b[1;36m1545\u001b[0m      \u001b[1;36m3\u001b[0m       \u001b[1;36m2024\u001b[0m-\u001b[1;36m01\u001b[0m-\u001b[1;36m01\u001b[0m   \n",
       "\u001b[1;36m857764\u001b[0m     \u001b[1;36m10.1002\u001b[0m/ctm2.\u001b[1;36m1545\u001b[0m      \u001b[1;36m3\u001b[0m       \u001b[1;36m2024\u001b[0m-\u001b[1;36m01\u001b[0m-\u001b[1;36m01\u001b[0m   \n",
       "\n",
       "                                                 strength  cited_by_count  \\\n",
       "\u001b[1;36m0\u001b[0m       \u001b[1m[\u001b[0m\u001b[1m{\u001b[0m\u001b[32m'context'\u001b[0m: 'The methodology of AlphaFold and\u001b[33m...\u001b[0m            \u001b[1;36m3437\u001b[0m   \n",
       "\u001b[1;36m1\u001b[0m       \u001b[1m[\u001b[0m\u001b[1m{\u001b[0m\u001b[32m'context'\u001b[0m: 'The methodology of AlphaFold and\u001b[33m...\u001b[0m            \u001b[1;36m3437\u001b[0m   \n",
       "\u001b[1;36m2\u001b[0m       \u001b[1m[\u001b[0m\u001b[1m{\u001b[0m\u001b[32m'context'\u001b[0m: 'The methodology of AlphaFold and\u001b[33m...\u001b[0m            \u001b[1;36m3437\u001b[0m   \n",
       "\u001b[1;36m3\u001b[0m       \u001b[1m[\u001b[0m\u001b[1m{\u001b[0m\u001b[32m'context'\u001b[0m: 'The methodology of AlphaFold and\u001b[33m...\u001b[0m            \u001b[1;36m3437\u001b[0m   \n",
       "\u001b[1;36m4\u001b[0m       \u001b[1m[\u001b[0m\u001b[1m{\u001b[0m\u001b[32m'context'\u001b[0m: 'The methodology of AlphaFold and\u001b[33m...\u001b[0m            \u001b[1;36m3437\u001b[0m   \n",
       "\u001b[33m...\u001b[0m                                                   \u001b[33m...\u001b[0m             \u001b[33m...\u001b[0m   \n",
       "\u001b[1;36m857760\u001b[0m                                               \u001b[3;35mNone\u001b[0m               \u001b[1;36m1\u001b[0m   \n",
       "\u001b[1;36m857761\u001b[0m                                               \u001b[3;35mNone\u001b[0m               \u001b[1;36m1\u001b[0m   \n",
       "\u001b[1;36m857762\u001b[0m                                               \u001b[3;35mNone\u001b[0m               \u001b[1;36m1\u001b[0m   \n",
       "\u001b[1;36m857763\u001b[0m                                               \u001b[3;35mNone\u001b[0m               \u001b[1;36m1\u001b[0m   \n",
       "\u001b[1;36m857764\u001b[0m                                               \u001b[3;35mNone\u001b[0m               \u001b[1;36m1\u001b[0m   \n",
       "\n",
       "       mesh_terms_dui     mesh_terms_label      DUI  \\\n",
       "\u001b[1;36m0\u001b[0m             D030562   Databases, Protein  D030562   \n",
       "\u001b[1;36m1\u001b[0m             D017510      Protein Folding  D017510   \n",
       "\u001b[1;36m2\u001b[0m             D011506             Proteins  D011506   \n",
       "\u001b[1;36m3\u001b[0m             D012984             Software  D012984   \n",
       "\u001b[1;36m4\u001b[0m             D000595  Amino Acid Sequence  D000595   \n",
       "\u001b[33m...\u001b[0m               \u001b[33m...\u001b[0m                  \u001b[33m...\u001b[0m      \u001b[33m...\u001b[0m   \n",
       "\u001b[1;36m857760\u001b[0m        D005347          Fibroblasts  D005347   \n",
       "\u001b[1;36m857761\u001b[0m        D002455        Cell Division  D002455   \n",
       "\u001b[1;36m857762\u001b[0m        D003429      Cross Reactions  D003429   \n",
       "\u001b[1;36m857763\u001b[0m        D005355             Fibrosis  D005355   \n",
       "\u001b[1;36m857764\u001b[0m        D006801               Humans  D006801   \n",
       "\n",
       "                                        tree_number  \\\n",
       "\u001b[1;36m0\u001b[0m               L\u001b[1;92m01.313.500.750\u001b[0m.\u001b[1;92m300.188.400.300\u001b[0m.\u001b[1;36m750\u001b[0m   \n",
       "\u001b[1;36m1\u001b[0m                                       G01.\u001b[1;36m154.651\u001b[0m   \n",
       "\u001b[1;36m2\u001b[0m                                           D12.\u001b[1;36m776\u001b[0m   \n",
       "\u001b[1;36m3\u001b[0m                                       L01.\u001b[1;36m224.900\u001b[0m   \n",
       "\u001b[1;36m4\u001b[0m                                   G\u001b[1;92m02.111.570.060\u001b[0m   \n",
       "\u001b[33m...\u001b[0m                                             \u001b[33m...\u001b[0m   \n",
       "\u001b[1;36m857760\u001b[0m                                  A11.\u001b[1;36m329.228\u001b[0m   \n",
       "\u001b[1;36m857761\u001b[0m                                  G04.\u001b[1;36m144.220\u001b[0m   \n",
       "\u001b[1;36m857762\u001b[0m                                  G12.\u001b[1;36m122.281\u001b[0m   \n",
       "\u001b[1;36m857763\u001b[0m                                  C23.\u001b[1;36m550.355\u001b[0m   \n",
       "\u001b[1;36m857764\u001b[0m  B\u001b[1;92m01.050.150.900\u001b[0m.\u001b[1;92m649.313.988.400\u001b[0m.\u001b[1;36m112.400\u001b[0m.\u001b[1;36m400\u001b[0m   \n",
       "\n",
       "                                    mesh_tree_label  \n",
       "\u001b[1;36m0\u001b[0m                                             Other  \n",
       "\u001b[1;36m1\u001b[0m                                             Other  \n",
       "\u001b[1;36m2\u001b[0m                                             Other  \n",
       "\u001b[1;36m3\u001b[0m                                             Other  \n",
       "\u001b[1;36m4\u001b[0m                                             Other  \n",
       "\u001b[33m...\u001b[0m                                             \u001b[33m...\u001b[0m  \n",
       "\u001b[1;36m857760\u001b[0m                                        Other  \n",
       "\u001b[1;36m857761\u001b[0m                                        Other  \n",
       "\u001b[1;36m857762\u001b[0m                                        Other  \n",
       "\u001b[1;36m857763\u001b[0m  Pathological Conditions, Signs and Symptoms  \n",
       "\u001b[1;36m857764\u001b[0m                                        Other  \n",
       "\n",
       "\u001b[1m[\u001b[0m\u001b[1;36m857765\u001b[0m rows x \u001b[1;36m13\u001b[0m columns\u001b[1m]\u001b[0m"
      ]
     },
     "execution_count": 14,
     "metadata": {},
     "output_type": "execute_result"
    }
   ],
   "source": [
    "alphafold_oa_mesh_data"
   ]
  },
  {
   "cell_type": "code",
   "execution_count": 15,
   "metadata": {},
   "outputs": [
    {
     "data": {
      "text/html": [
       "<pre style=\"white-space:pre;overflow-x:auto;line-height:normal;font-family:Menlo,'DejaVu Sans Mono',consolas,'Courier New',monospace\"></pre>\n"
      ],
      "text/plain": []
     },
     "metadata": {},
     "output_type": "display_data"
    },
    {
     "data": {
      "text/plain": [
       "\n",
       "mesh_terms_label\n",
       "COVID-\u001b[1;36m19\u001b[0m                                 \u001b[1;36m24410\u001b[0m\n",
       "Influenza, Human                           \u001b[1;36m560\u001b[0m\n",
       "HIV Infections                             \u001b[1;36m512\u001b[0m\n",
       "Mpox \u001b[1m(\u001b[0mmonkeypox\u001b[1m)\u001b[0m                           \u001b[1;36m509\u001b[0m\n",
       "Virus Diseases                             \u001b[1;36m506\u001b[0m\n",
       "                                         \u001b[33m...\u001b[0m  \n",
       "Bovine Virus Diarrhea-Mucosal Disease        \u001b[1;36m1\u001b[0m\n",
       "Syphilis, Congenital                         \u001b[1;36m1\u001b[0m\n",
       "Hepatitis, Viral, Animal                     \u001b[1;36m1\u001b[0m\n",
       "Proteus Infections                           \u001b[1;36m1\u001b[0m\n",
       "Corynebacterium Infections                   \u001b[1;36m1\u001b[0m\n",
       "Name: count, Length: \u001b[1;36m410\u001b[0m, dtype: int64"
      ]
     },
     "execution_count": 15,
     "metadata": {},
     "output_type": "execute_result"
    }
   ],
   "source": [
    "alphafold_oa_mesh_data.loc[alphafold_oa_mesh_data[\"mesh_tree_label\"] == \"Infections\", \"mesh_terms_label\"].value_counts()"
   ]
  },
  {
   "cell_type": "code",
   "execution_count": 16,
   "metadata": {},
   "outputs": [],
   "source": [
    "# for each mesh_tree_label and level, take the proportion\n",
    "af_mesh_tree_level_proportions = (\n",
    "    alphafold_oa_mesh_data.groupby([\"level\", \"mesh_tree_label\"])\n",
    "    .size()\n",
    "    .unstack()\n",
    "    .apply(lambda x: x / x.sum(), axis=1)\n",
    "    .melt(ignore_index=False)\n",
    "    .reset_index()\n",
    "    .fillna(0)\n",
    ")\n",
    "\n",
    "# remove Other\n",
    "af_mesh_tree_level_proportions = af_mesh_tree_level_proportions[\n",
    "    af_mesh_tree_level_proportions[\"mesh_tree_label\"] != \"Other\"\n",
    "]\n",
    "\n",
    "# Include the label identifier using the dictionary\n",
    "af_mesh_tree_level_proportions[\"mesh_tree_label_id\"] = af_mesh_tree_level_proportions[\n",
    "    \"mesh_tree_label\"\n",
    "].apply(lambda x: list(disease_labels.keys())[list(disease_labels.values()).index(x)])\n"
   ]
  },
  {
   "cell_type": "code",
   "execution_count": 17,
   "metadata": {},
   "outputs": [],
   "source": [
    "# extract year from publication date string, with format YYYY-MM-DD\n",
    "alphafold_oa_mesh_data[\"year\"] = alphafold_oa_mesh_data[\"publication_date\"].apply(\n",
    "    lambda x: x.split(\"-\")[0]\n",
    ")\n",
    "\n",
    "# for each mesh_tree_label and level, take the proportion\n",
    "af_mesh_tree_level_yearly_proportions = (\n",
    "    alphafold_oa_mesh_data.groupby([\"level\", \"year\", \"mesh_tree_label\"])\n",
    "    .size()\n",
    "    .unstack()\n",
    "    .apply(lambda x: x / x.sum(), axis=1)\n",
    "    .melt(ignore_index=False)\n",
    "    .reset_index()\n",
    "    .fillna(0)\n",
    ")\n",
    "\n",
    "# remove Other\n",
    "af_mesh_tree_level_yearly_proportions = af_mesh_tree_level_yearly_proportions[\n",
    "    af_mesh_tree_level_yearly_proportions[\"mesh_tree_label\"] != \"Other\"\n",
    "]\n",
    "\n",
    "# Include the label identifier using the dictionary\n",
    "af_mesh_tree_level_yearly_proportions[\"mesh_tree_label_id\"] = af_mesh_tree_level_yearly_proportions[\n",
    "    \"mesh_tree_label\"\n",
    "].apply(lambda x: list(disease_labels.keys())[list(disease_labels.values()).index(x)])\n"
   ]
  },
  {
   "cell_type": "code",
   "execution_count": 18,
   "metadata": {},
   "outputs": [],
   "source": [
    "def create_population_chart(df, filter1, filter2, label1, label2, color1, color2):\n",
    "\n",
    "    # check filter condition is a string\n",
    "    df['filter'] = df['filter'].astype(str)\n",
    "    \n",
    "    # make sure the mesh_tree_label_id are sorted for both groups\n",
    "    df.sort_values(by=['filter', 'mesh_tree_label_id'], inplace=True)\n",
    "\n",
    "    # Calculate the maximum value for the x-axis for both groups\n",
    "    max_value = df[(df['filter'] == filter1) | (df['filter'] == filter2)]['value'].max()\n",
    "\n",
    "    # Define the color scale manually\n",
    "    color_scale = alt.Scale(domain=[filter1, filter2], range=[color1, color2])\n",
    "\n",
    "\n",
    "    # Base chart for shared configurations\n",
    "    base = alt.Chart(df).encode(\n",
    "        y=alt.Y('mesh_tree_label:N', sort=alt.EncodingSortField(field='mesh_tree_label_id', order='ascending'), axis=None),\n",
    "    ).properties(\n",
    "        width=250,\n",
    "        height=alt.Step(20)  # Adjust step for bar thickness\n",
    "    )\n",
    "\n",
    "    # Left side of the chart (group1)\n",
    "    left = base.transform_filter(\n",
    "        alt.datum.filter == filter1\n",
    "    ).encode(\n",
    "        x=alt.X('sum(value):Q', title='Count', scale=alt.Scale(domain=(0, max_value)), sort=alt.SortOrder('descending')), color=alt.Color('filter:N', scale=color_scale, legend=None)\n",
    "    ).mark_bar().properties(title=label1)\n",
    "\n",
    "    # Right side of the chart (group2)\n",
    "    right = base.transform_filter(\n",
    "        alt.datum.filter == filter2\n",
    "    ).encode(\n",
    "        x=alt.X('sum(value):Q', title='Count', scale=alt.Scale(domain=(0, max_value))), color=alt.Color('filter:N', scale=color_scale, legend=None)\n",
    "    ).mark_bar().properties(title=label2)\n",
    "\n",
    "    # in the middle use mark_text on the base chart. Do not duplicate text, so use unique values\n",
    "    middle = base.mark_text().encode(\n",
    "        text='mesh_tree_label_id:N'\n",
    "    ).transform_filter(\n",
    "        alt.FieldOneOfPredicate(field='filter', oneOf=[filter1])\n",
    "    ).properties(width=30)\n",
    "\n",
    "    # Combine both sides\n",
    "    return alt.concat(left, middle, right, spacing=5)"
   ]
  },
  {
   "cell_type": "code",
   "execution_count": 19,
   "metadata": {},
   "outputs": [
    {
     "data": {
      "text/html": [
       "<pre style=\"white-space:pre;overflow-x:auto;line-height:normal;font-family:Menlo,'DejaVu Sans Mono',consolas,'Courier New',monospace\"></pre>\n"
      ],
      "text/plain": []
     },
     "metadata": {},
     "output_type": "display_data"
    },
    {
     "data": {
      "text/html": [
       "\n",
       "<div id=\"altair-viz-750d4b28f8a945349f63047ecdfee124\"></div>\n",
       "<script type=\"text/javascript\">\n",
       "  var VEGA_DEBUG = (typeof VEGA_DEBUG == \"undefined\") ? {} : VEGA_DEBUG;\n",
       "  (function(spec, embedOpt){\n",
       "    let outputDiv = document.currentScript.previousElementSibling;\n",
       "    if (outputDiv.id !== \"altair-viz-750d4b28f8a945349f63047ecdfee124\") {\n",
       "      outputDiv = document.getElementById(\"altair-viz-750d4b28f8a945349f63047ecdfee124\");\n",
       "    }\n",
       "    const paths = {\n",
       "      \"vega\": \"https://cdn.jsdelivr.net/npm//vega@5?noext\",\n",
       "      \"vega-lib\": \"https://cdn.jsdelivr.net/npm//vega-lib?noext\",\n",
       "      \"vega-lite\": \"https://cdn.jsdelivr.net/npm//vega-lite@4.17.0?noext\",\n",
       "      \"vega-embed\": \"https://cdn.jsdelivr.net/npm//vega-embed@6?noext\",\n",
       "    };\n",
       "\n",
       "    function maybeLoadScript(lib, version) {\n",
       "      var key = `${lib.replace(\"-\", \"\")}_version`;\n",
       "      return (VEGA_DEBUG[key] == version) ?\n",
       "        Promise.resolve(paths[lib]) :\n",
       "        new Promise(function(resolve, reject) {\n",
       "          var s = document.createElement('script');\n",
       "          document.getElementsByTagName(\"head\")[0].appendChild(s);\n",
       "          s.async = true;\n",
       "          s.onload = () => {\n",
       "            VEGA_DEBUG[key] = version;\n",
       "            return resolve(paths[lib]);\n",
       "          };\n",
       "          s.onerror = () => reject(`Error loading script: ${paths[lib]}`);\n",
       "          s.src = paths[lib];\n",
       "        });\n",
       "    }\n",
       "\n",
       "    function showError(err) {\n",
       "      outputDiv.innerHTML = `<div class=\"error\" style=\"color:red;\">${err}</div>`;\n",
       "      throw err;\n",
       "    }\n",
       "\n",
       "    function displayChart(vegaEmbed) {\n",
       "      vegaEmbed(outputDiv, spec, embedOpt)\n",
       "        .catch(err => showError(`Javascript Error: ${err.message}<br>This usually means there's a typo in your chart specification. See the javascript console for the full traceback.`));\n",
       "    }\n",
       "\n",
       "    if(typeof define === \"function\" && define.amd) {\n",
       "      requirejs.config({paths});\n",
       "      require([\"vega-embed\"], displayChart, err => showError(`Error loading script: ${err.message}`));\n",
       "    } else {\n",
       "      maybeLoadScript(\"vega\", \"5\")\n",
       "        .then(() => maybeLoadScript(\"vega-lite\", \"4.17.0\"))\n",
       "        .then(() => maybeLoadScript(\"vega-embed\", \"6\"))\n",
       "        .catch(showError)\n",
       "        .then(() => displayChart(vegaEmbed));\n",
       "    }\n",
       "  })({\"config\": {\"view\": {\"continuousWidth\": 400, \"continuousHeight\": 300}}, \"concat\": [{\"mark\": \"bar\", \"encoding\": {\"color\": {\"field\": \"filter\", \"legend\": null, \"scale\": {\"domain\": [\"0\", \"1\"], \"range\": [\"#1f77b4\", \"#ff7f0e\"]}, \"type\": \"nominal\"}, \"x\": {\"aggregate\": \"sum\", \"field\": \"value\", \"scale\": {\"domain\": [0, 0.021742014974883896]}, \"sort\": \"descending\", \"title\": \"Count\", \"type\": \"quantitative\"}, \"y\": {\"axis\": null, \"field\": \"mesh_tree_label\", \"sort\": {\"field\": \"mesh_tree_label_id\", \"order\": \"ascending\"}, \"type\": \"nominal\"}}, \"height\": {\"step\": 20}, \"title\": \"AF - Level 0\", \"transform\": [{\"filter\": \"(datum.filter === '0')\"}], \"width\": 250}, {\"mark\": \"text\", \"encoding\": {\"text\": {\"field\": \"mesh_tree_label_id\", \"type\": \"nominal\"}, \"y\": {\"axis\": null, \"field\": \"mesh_tree_label\", \"sort\": {\"field\": \"mesh_tree_label_id\", \"order\": \"ascending\"}, \"type\": \"nominal\"}}, \"height\": {\"step\": 20}, \"transform\": [{\"filter\": {\"field\": \"filter\", \"oneOf\": [\"0\"]}}], \"width\": 30}, {\"mark\": \"bar\", \"encoding\": {\"color\": {\"field\": \"filter\", \"legend\": null, \"scale\": {\"domain\": [\"0\", \"1\"], \"range\": [\"#1f77b4\", \"#ff7f0e\"]}, \"type\": \"nominal\"}, \"x\": {\"aggregate\": \"sum\", \"field\": \"value\", \"scale\": {\"domain\": [0, 0.021742014974883896]}, \"title\": \"Count\", \"type\": \"quantitative\"}, \"y\": {\"axis\": null, \"field\": \"mesh_tree_label\", \"sort\": {\"field\": \"mesh_tree_label_id\", \"order\": \"ascending\"}, \"type\": \"nominal\"}}, \"height\": {\"step\": 20}, \"title\": \"AF - Level 3\", \"transform\": [{\"filter\": \"(datum.filter === '1')\"}], \"width\": 250}], \"data\": {\"name\": \"data-2db4ca31b76cdf1881063902ac6f9245\"}, \"spacing\": 5, \"$schema\": \"https://vega.github.io/schema/vega-lite/v4.17.0.json\", \"datasets\": {\"data-2db4ca31b76cdf1881063902ac6f9245\": [{\"level\": 0, \"mesh_tree_label\": \"Infections\", \"value\": 0.012371589528333149, \"mesh_tree_label_id\": \"C01\", \"filter\": \"0\"}, {\"level\": 0, \"mesh_tree_label\": \"Neoplasms\", \"value\": 0.008560698111123385, \"mesh_tree_label_id\": \"C04\", \"filter\": \"0\"}, {\"level\": 0, \"mesh_tree_label\": \"Musculoskeletal Diseases\", \"value\": 0.00187783055340771, \"mesh_tree_label_id\": \"C05\", \"filter\": \"0\"}, {\"level\": 0, \"mesh_tree_label\": \"Digestive System Diseases\", \"value\": 0.001012555690562981, \"mesh_tree_label_id\": \"C06\", \"filter\": \"0\"}, {\"level\": 0, \"mesh_tree_label\": \"Stomatognathic Diseases\", \"value\": 0.00029456165543650356, \"mesh_tree_label_id\": \"C07\", \"filter\": \"0\"}, {\"level\": 0, \"mesh_tree_label\": \"Respiratory Tract Diseases\", \"value\": 0.00022092124157737766, \"mesh_tree_label_id\": \"C08\", \"filter\": \"0\"}, {\"level\": 0, \"mesh_tree_label\": \"Otorhinolaryngologic Diseases\", \"value\": 0.00062594351780257, \"mesh_tree_label_id\": \"C09\", \"filter\": \"0\"}, {\"level\": 0, \"mesh_tree_label\": \"Nervous System Diseases\", \"value\": 0.006553996833462204, \"mesh_tree_label_id\": \"C10\", \"filter\": \"0\"}, {\"level\": 0, \"mesh_tree_label\": \"Eye Diseases\", \"value\": 0.00125188703560514, \"mesh_tree_label_id\": \"C11\", \"filter\": \"0\"}, {\"level\": 0, \"mesh_tree_label\": \"Urogenital Diseases\", \"value\": 0.0014359880702529547, \"mesh_tree_label_id\": \"C12\", \"filter\": \"0\"}, {\"level\": 0, \"mesh_tree_label\": \"Cardiovascular Diseases\", \"value\": 0.001288707242534703, \"mesh_tree_label_id\": \"C14\", \"filter\": \"0\"}, {\"level\": 0, \"mesh_tree_label\": \"Hemic and Lymphatic Diseases\", \"value\": 0.0009020950697742921, \"mesh_tree_label_id\": \"C15\", \"filter\": \"0\"}, {\"level\": 0, \"mesh_tree_label\": \"Congenital, Hereditary, and Neonatal Diseases and Abnormalities\", \"value\": 0.0011782466217460142, \"mesh_tree_label_id\": \"C16\", \"filter\": \"0\"}, {\"level\": 0, \"mesh_tree_label\": \"Skin and Connective Tissue Diseases\", \"value\": 0.00036820206929562944, \"mesh_tree_label_id\": \"C17\", \"filter\": \"0\"}, {\"level\": 0, \"mesh_tree_label\": \"Nutritional and Metabolic Diseases\", \"value\": 0.0015464486910416436, \"mesh_tree_label_id\": \"C18\", \"filter\": \"0\"}, {\"level\": 0, \"mesh_tree_label\": \"Endocrine System Diseases\", \"value\": 0.00011046062078868883, \"mesh_tree_label_id\": \"C19\", \"filter\": \"0\"}, {\"level\": 0, \"mesh_tree_label\": \"Immune System Diseases\", \"value\": 0.0003866121727604109, \"mesh_tree_label_id\": \"C20\", \"filter\": \"0\"}, {\"level\": 0, \"mesh_tree_label\": \"Animal Diseases\", \"value\": 0.0008652748628447292, \"mesh_tree_label_id\": \"C22\", \"filter\": \"0\"}, {\"level\": 0, \"mesh_tree_label\": \"Pathological Conditions, Signs and Symptoms\", \"value\": 0.0036636105894915128, \"mesh_tree_label_id\": \"C23\", \"filter\": \"0\"}, {\"level\": 0, \"mesh_tree_label\": \"Occupational Diseases\", \"value\": 0.0, \"mesh_tree_label_id\": \"C24\", \"filter\": \"0\"}, {\"level\": 0, \"mesh_tree_label\": \"Substance-Related Disorders\", \"value\": 0.00023933134504215914, \"mesh_tree_label_id\": \"C25\", \"filter\": \"0\"}, {\"level\": 0, \"mesh_tree_label\": \"Wounds and Injuries\", \"value\": 9.205051732390736e-05, \"mesh_tree_label_id\": \"C26\", \"filter\": \"0\"}, {\"level\": 1, \"mesh_tree_label\": \"Infections\", \"value\": 0.021742014974883896, \"mesh_tree_label_id\": \"C01\", \"filter\": \"1\"}, {\"level\": 1, \"mesh_tree_label\": \"Neoplasms\", \"value\": 0.016693520361419138, \"mesh_tree_label_id\": \"C04\", \"filter\": \"1\"}, {\"level\": 1, \"mesh_tree_label\": \"Musculoskeletal Diseases\", \"value\": 0.002186206678671848, \"mesh_tree_label_id\": \"C05\", \"filter\": \"1\"}, {\"level\": 1, \"mesh_tree_label\": \"Digestive System Diseases\", \"value\": 0.0019018734401162606, \"mesh_tree_label_id\": \"C06\", \"filter\": \"1\"}, {\"level\": 1, \"mesh_tree_label\": \"Stomatognathic Diseases\", \"value\": 0.0002716962057308944, \"mesh_tree_label_id\": \"C07\", \"filter\": \"1\"}, {\"level\": 1, \"mesh_tree_label\": \"Respiratory Tract Diseases\", \"value\": 0.0008024515843679904, \"mesh_tree_label_id\": \"C08\", \"filter\": \"1\"}, {\"level\": 1, \"mesh_tree_label\": \"Otorhinolaryngologic Diseases\", \"value\": 0.0004928442801630178, \"mesh_tree_label_id\": \"C09\", \"filter\": \"1\"}, {\"level\": 1, \"mesh_tree_label\": \"Nervous System Diseases\", \"value\": 0.009484093134931919, \"mesh_tree_label_id\": \"C10\", \"filter\": \"1\"}, {\"level\": 1, \"mesh_tree_label\": \"Eye Diseases\", \"value\": 0.0012447477332322371, \"mesh_tree_label_id\": \"C11\", \"filter\": \"1\"}, {\"level\": 1, \"mesh_tree_label\": \"Urogenital Diseases\", \"value\": 0.0014911698733137458, \"mesh_tree_label_id\": \"C12\", \"filter\": \"1\"}, {\"level\": 1, \"mesh_tree_label\": \"Cardiovascular Diseases\", \"value\": 0.002432628818753357, \"mesh_tree_label_id\": \"C14\", \"filter\": \"1\"}, {\"level\": 1, \"mesh_tree_label\": \"Hemic and Lymphatic Diseases\", \"value\": 0.0008277256500173759, \"mesh_tree_label_id\": \"C15\", \"filter\": \"1\"}, {\"level\": 1, \"mesh_tree_label\": \"Congenital, Hereditary, and Neonatal Diseases and Abnormalities\", \"value\": 0.0010551922408618456, \"mesh_tree_label_id\": \"C16\", \"filter\": \"1\"}, {\"level\": 1, \"mesh_tree_label\": \"Skin and Connective Tissue Diseases\", \"value\": 0.0006255331248222918, \"mesh_tree_label_id\": \"C17\", \"filter\": \"1\"}, {\"level\": 1, \"mesh_tree_label\": \"Nutritional and Metabolic Diseases\", \"value\": 0.0029760212302151457, \"mesh_tree_label_id\": \"C18\", \"filter\": \"1\"}, {\"level\": 1, \"mesh_tree_label\": \"Endocrine System Diseases\", \"value\": 0.00012637032824692763, \"mesh_tree_label_id\": \"C19\", \"filter\": \"1\"}, {\"level\": 1, \"mesh_tree_label\": \"Immune System Diseases\", \"value\": 0.0006887182889457555, \"mesh_tree_label_id\": \"C20\", \"filter\": \"1\"}, {\"level\": 1, \"mesh_tree_label\": \"Animal Diseases\", \"value\": 0.0013647995450668184, \"mesh_tree_label_id\": \"C22\", \"filter\": \"1\"}, {\"level\": 1, \"mesh_tree_label\": \"Pathological Conditions, Signs and Symptoms\", \"value\": 0.0061479164692130285, \"mesh_tree_label_id\": \"C23\", \"filter\": \"1\"}, {\"level\": 1, \"mesh_tree_label\": \"Occupational Diseases\", \"value\": 0.0, \"mesh_tree_label_id\": \"C24\", \"filter\": \"1\"}, {\"level\": 1, \"mesh_tree_label\": \"Substance-Related Disorders\", \"value\": 0.0004549331816889394, \"mesh_tree_label_id\": \"C25\", \"filter\": \"1\"}, {\"level\": 1, \"mesh_tree_label\": \"Wounds and Injuries\", \"value\": 0.0001010962625975421, \"mesh_tree_label_id\": \"C26\", \"filter\": \"1\"}]}}, {\"mode\": \"vega-lite\"});\n",
       "</script>"
      ],
      "text/plain": [
       "\u001b[1;35malt.ConcatChart\u001b[0m\u001b[1m(\u001b[0m\u001b[33m...\u001b[0m\u001b[1m)\u001b[0m"
      ]
     },
     "execution_count": 19,
     "metadata": {},
     "output_type": "execute_result"
    }
   ],
   "source": [
    "# Filter the original dataframe for level 0 and add a 'filter' column\n",
    "df_level0 = af_mesh_tree_level_proportions[af_mesh_tree_level_proportions['level'] == 0].copy()\n",
    "df_level0['filter'] = '0'\n",
    "\n",
    "# Filter the original dataframe for level 3 and add a 'filter' column\n",
    "df_level3 = af_mesh_tree_level_proportions[af_mesh_tree_level_proportions['level'] == 1].copy()\n",
    "df_level3['filter'] = '1'\n",
    "\n",
    "df = pd.concat([df_level0, df_level3])\n",
    "\n",
    "# Call the function\n",
    "chart = create_population_chart(df, '0', '1', 'AF - Level 0', 'AF - Level 3', '#1f77b4', '#ff7f0e')\n",
    "chart"
   ]
  },
  {
   "cell_type": "markdown",
   "metadata": {},
   "source": [
    "### Baselines"
   ]
  },
  {
   "cell_type": "code",
   "execution_count": 20,
   "metadata": {},
   "outputs": [
    {
     "data": {
      "text/html": [
       "<pre style=\"white-space:pre;overflow-x:auto;line-height:normal;font-family:Menlo,'DejaVu Sans Mono',consolas,'Courier New',monospace\"><span style=\"color: #7fbfbf; text-decoration-color: #7fbfbf\">[03/14/24 11:11:36] </span><span style=\"color: #000080; text-decoration-color: #000080\">INFO    </span> Loading data from                                                  <a href=\"file:///home/dampudia/miniconda3/envs/.igl_alphafold/lib/python3.11/site-packages/kedro/io/data_catalog.py\" target=\"_blank\"><span style=\"color: #7f7f7f; text-decoration-color: #7f7f7f\">data_catalog.py</span></a><span style=\"color: #7f7f7f; text-decoration-color: #7f7f7f\">:</span><a href=\"file:///home/dampudia/miniconda3/envs/.igl_alphafold/lib/python3.11/site-packages/kedro/io/data_catalog.py#482\" target=\"_blank\"><span style=\"color: #7f7f7f; text-decoration-color: #7f7f7f\">482</span></a>\n",
       "<span style=\"color: #7fbfbf; text-decoration-color: #7fbfbf\">                    </span>         <span style=\"color: #ff8700; text-decoration-color: #ff8700\">oa.data_processing.subfield.structural_biology.primary</span>             <span style=\"color: #7f7f7f; text-decoration-color: #7f7f7f\">                   </span>\n",
       "<span style=\"color: #7fbfbf; text-decoration-color: #7fbfbf\">                    </span>         <span style=\"font-weight: bold\">(</span>ParquetDataset<span style=\"font-weight: bold\">)</span><span style=\"color: #808000; text-decoration-color: #808000\">...</span>                                                <span style=\"color: #7f7f7f; text-decoration-color: #7f7f7f\">                   </span>\n",
       "</pre>\n"
      ],
      "text/plain": [
       "\u001b[2;36m[03/14/24 11:11:36]\u001b[0m\u001b[2;36m \u001b[0m\u001b[34mINFO    \u001b[0m Loading data from                                                  \u001b]8;id=573033;file:///home/dampudia/miniconda3/envs/.igl_alphafold/lib/python3.11/site-packages/kedro/io/data_catalog.py\u001b\\\u001b[2mdata_catalog.py\u001b[0m\u001b]8;;\u001b\\\u001b[2m:\u001b[0m\u001b]8;id=431726;file:///home/dampudia/miniconda3/envs/.igl_alphafold/lib/python3.11/site-packages/kedro/io/data_catalog.py#482\u001b\\\u001b[2m482\u001b[0m\u001b]8;;\u001b\\\n",
       "\u001b[2;36m                    \u001b[0m         \u001b[38;5;208moa.data_processing.subfield.structural_biology.primary\u001b[0m             \u001b[2m                   \u001b[0m\n",
       "\u001b[2;36m                    \u001b[0m         \u001b[1m(\u001b[0mParquetDataset\u001b[1m)\u001b[0m\u001b[33m...\u001b[0m                                                \u001b[2m                   \u001b[0m\n"
      ]
     },
     "metadata": {},
     "output_type": "display_data"
    },
    {
     "data": {
      "text/html": [
       "<pre style=\"white-space:pre;overflow-x:auto;line-height:normal;font-family:Menlo,'DejaVu Sans Mono',consolas,'Courier New',monospace\"><span style=\"color: #7fbfbf; text-decoration-color: #7fbfbf\">[03/14/24 11:11:37] </span><span style=\"color: #000080; text-decoration-color: #000080\">INFO    </span> Loading data from                                                  <a href=\"file:///home/dampudia/miniconda3/envs/.igl_alphafold/lib/python3.11/site-packages/kedro/io/data_catalog.py\" target=\"_blank\"><span style=\"color: #7f7f7f; text-decoration-color: #7f7f7f\">data_catalog.py</span></a><span style=\"color: #7f7f7f; text-decoration-color: #7f7f7f\">:</span><a href=\"file:///home/dampudia/miniconda3/envs/.igl_alphafold/lib/python3.11/site-packages/kedro/io/data_catalog.py#482\" target=\"_blank\"><span style=\"color: #7f7f7f; text-decoration-color: #7f7f7f\">482</span></a>\n",
       "<span style=\"color: #7fbfbf; text-decoration-color: #7fbfbf\">                    </span>         <span style=\"color: #ff8700; text-decoration-color: #ff8700\">oa.data_processing.subfield.bioinformatics.primary</span>                 <span style=\"color: #7f7f7f; text-decoration-color: #7f7f7f\">                   </span>\n",
       "<span style=\"color: #7fbfbf; text-decoration-color: #7fbfbf\">                    </span>         <span style=\"font-weight: bold\">(</span>ParquetDataset<span style=\"font-weight: bold\">)</span><span style=\"color: #808000; text-decoration-color: #808000\">...</span>                                                <span style=\"color: #7f7f7f; text-decoration-color: #7f7f7f\">                   </span>\n",
       "</pre>\n"
      ],
      "text/plain": [
       "\u001b[2;36m[03/14/24 11:11:37]\u001b[0m\u001b[2;36m \u001b[0m\u001b[34mINFO    \u001b[0m Loading data from                                                  \u001b]8;id=157616;file:///home/dampudia/miniconda3/envs/.igl_alphafold/lib/python3.11/site-packages/kedro/io/data_catalog.py\u001b\\\u001b[2mdata_catalog.py\u001b[0m\u001b]8;;\u001b\\\u001b[2m:\u001b[0m\u001b]8;id=941836;file:///home/dampudia/miniconda3/envs/.igl_alphafold/lib/python3.11/site-packages/kedro/io/data_catalog.py#482\u001b\\\u001b[2m482\u001b[0m\u001b]8;;\u001b\\\n",
       "\u001b[2;36m                    \u001b[0m         \u001b[38;5;208moa.data_processing.subfield.bioinformatics.primary\u001b[0m                 \u001b[2m                   \u001b[0m\n",
       "\u001b[2;36m                    \u001b[0m         \u001b[1m(\u001b[0mParquetDataset\u001b[1m)\u001b[0m\u001b[33m...\u001b[0m                                                \u001b[2m                   \u001b[0m\n"
      ]
     },
     "metadata": {},
     "output_type": "display_data"
    },
    {
     "data": {
      "text/html": [
       "<pre style=\"white-space:pre;overflow-x:auto;line-height:normal;font-family:Menlo,'DejaVu Sans Mono',consolas,'Courier New',monospace\"><span style=\"color: #7fbfbf; text-decoration-color: #7fbfbf\">[03/14/24 11:11:40] </span><span style=\"color: #000080; text-decoration-color: #000080\">INFO    </span> Loading data from                                                  <a href=\"file:///home/dampudia/miniconda3/envs/.igl_alphafold/lib/python3.11/site-packages/kedro/io/data_catalog.py\" target=\"_blank\"><span style=\"color: #7f7f7f; text-decoration-color: #7f7f7f\">data_catalog.py</span></a><span style=\"color: #7f7f7f; text-decoration-color: #7f7f7f\">:</span><a href=\"file:///home/dampudia/miniconda3/envs/.igl_alphafold/lib/python3.11/site-packages/kedro/io/data_catalog.py#482\" target=\"_blank\"><span style=\"color: #7f7f7f; text-decoration-color: #7f7f7f\">482</span></a>\n",
       "<span style=\"color: #7fbfbf; text-decoration-color: #7fbfbf\">                    </span>         <span style=\"color: #ff8700; text-decoration-color: #ff8700\">oa.data_processing.subfield.protein_design.primary</span>                 <span style=\"color: #7f7f7f; text-decoration-color: #7f7f7f\">                   </span>\n",
       "<span style=\"color: #7fbfbf; text-decoration-color: #7fbfbf\">                    </span>         <span style=\"font-weight: bold\">(</span>ParquetDataset<span style=\"font-weight: bold\">)</span><span style=\"color: #808000; text-decoration-color: #808000\">...</span>                                                <span style=\"color: #7f7f7f; text-decoration-color: #7f7f7f\">                   </span>\n",
       "</pre>\n"
      ],
      "text/plain": [
       "\u001b[2;36m[03/14/24 11:11:40]\u001b[0m\u001b[2;36m \u001b[0m\u001b[34mINFO    \u001b[0m Loading data from                                                  \u001b]8;id=958606;file:///home/dampudia/miniconda3/envs/.igl_alphafold/lib/python3.11/site-packages/kedro/io/data_catalog.py\u001b\\\u001b[2mdata_catalog.py\u001b[0m\u001b]8;;\u001b\\\u001b[2m:\u001b[0m\u001b]8;id=711347;file:///home/dampudia/miniconda3/envs/.igl_alphafold/lib/python3.11/site-packages/kedro/io/data_catalog.py#482\u001b\\\u001b[2m482\u001b[0m\u001b]8;;\u001b\\\n",
       "\u001b[2;36m                    \u001b[0m         \u001b[38;5;208moa.data_processing.subfield.protein_design.primary\u001b[0m                 \u001b[2m                   \u001b[0m\n",
       "\u001b[2;36m                    \u001b[0m         \u001b[1m(\u001b[0mParquetDataset\u001b[1m)\u001b[0m\u001b[33m...\u001b[0m                                                \u001b[2m                   \u001b[0m\n"
      ]
     },
     "metadata": {},
     "output_type": "display_data"
    }
   ],
   "source": [
    "sb_sb = catalog.load(\"oa.data_processing.subfield.structural_biology.primary\")\n",
    "bi_sb = catalog.load(\"oa.data_processing.subfield.bioinformatics.primary\")\n",
    "pd_sb = catalog.load(\"oa.data_processing.subfield.protein_design.primary\")\n",
    "\n",
    "# remove papers that appear in oa_data too\n",
    "sb_sb = sb_sb[~sb_sb[\"doi\"].isin(alphafold_oa_data[\"doi\"])]\n",
    "bi_sb = bi_sb[~bi_sb[\"doi\"].isin(alphafold_oa_data[\"doi\"])]\n",
    "pd_sb = pd_sb[~pd_sb[\"doi\"].isin(alphafold_oa_data[\"doi\"])]"
   ]
  },
  {
   "cell_type": "code",
   "execution_count": 21,
   "metadata": {},
   "outputs": [],
   "source": [
    "sb_mesh_data = process_dataframe(sb_sb, mesh_terms, dup_cols = [\"id\", \"mesh_terms_dui\"])\n",
    "bi_mesh_data = process_dataframe(bi_sb, mesh_terms, dup_cols = [\"id\", \"mesh_terms_dui\"])\n",
    "pd_mesh_data = process_dataframe(pd_sb, mesh_terms, dup_cols = [\"id\", \"mesh_terms_dui\"])\n",
    "\n",
    "# get the year from the publication date, which is a string with format YYYY-MM-DD\n",
    "sb_mesh_data[\"year\"] = sb_mesh_data[\"publication_date\"].apply(lambda x: x.split(\"-\")[0])\n",
    "bi_mesh_data[\"year\"] = bi_mesh_data[\"publication_date\"].apply(lambda x: x.split(\"-\")[0])\n",
    "pd_mesh_data[\"year\"] = pd_mesh_data[\"publication_date\"].apply(lambda x: x.split(\"-\")[0])"
   ]
  },
  {
   "cell_type": "code",
   "execution_count": 22,
   "metadata": {},
   "outputs": [],
   "source": [
    "def get_proportions(df, subfield, disease_labels):\n",
    "    # get proportions\n",
    "    mesh_tree_level_proportions = (\n",
    "        df.groupby([\"mesh_tree_label\"])\n",
    "        .size() / df.groupby([\"mesh_tree_label\"]).size().sum()\n",
    "    )\n",
    "\n",
    "    # rename 0 to value\n",
    "    mesh_tree_level_proportions = mesh_tree_level_proportions.rename(\"value\")\n",
    "  \n",
    "\n",
    "    # remove Other\n",
    "    mesh_tree_level_proportions = mesh_tree_level_proportions[\n",
    "        mesh_tree_level_proportions.index != \"Other\"\n",
    "    ]\n",
    "\n",
    "    # Include the label identifier using the dictionary\n",
    "    mesh_tree_level_proportions = mesh_tree_level_proportions.reset_index()\n",
    "    mesh_tree_level_proportions[\"mesh_tree_label_id\"] = mesh_tree_level_proportions[\n",
    "        \"mesh_tree_label\"\n",
    "    ].apply(lambda x: list(disease_labels.keys())[list(disease_labels.values()).index(x)])\n",
    "\n",
    "\n",
    "    # make sure other disease tree groups exist, if not, add them with 0 value\n",
    "    for key, value in disease_labels.items():\n",
    "        if value not in mesh_tree_level_proportions[\"mesh_tree_label\"].values:\n",
    "            new_row = pd.DataFrame({\"mesh_tree_label\": [value], \"value\": [0], \"mesh_tree_label_id\": [key]})\n",
    "            mesh_tree_level_proportions = pd.concat([mesh_tree_level_proportions, new_row], ignore_index=True)\n",
    "    \n",
    "    # drop Occupational and Disorders of Environmental Origin\n",
    "    mesh_tree_level_proportions = mesh_tree_level_proportions[\n",
    "        mesh_tree_level_proportions[\"mesh_tree_label\"] != \"Occupational Diseases\"\n",
    "    ]\n",
    "    mesh_tree_level_proportions = mesh_tree_level_proportions[\n",
    "        mesh_tree_level_proportions[\"mesh_tree_label\"] != \"Disorders of Environmental Origin\"\n",
    "    ]\n",
    "    \n",
    "    # add a column to identify the subfield\n",
    "    mesh_tree_level_proportions[\"filter\"] = subfield\n",
    "\n",
    "    return mesh_tree_level_proportions"
   ]
  },
  {
   "cell_type": "code",
   "execution_count": 23,
   "metadata": {},
   "outputs": [],
   "source": [
    "def get_yearly_proportions(df, subfield, disease_labels):\n",
    "    # get proportions\n",
    "    mesh_tree_level_proportions = (\n",
    "        df.groupby([\"year\", \"mesh_tree_label\"]).size() / df.groupby([\"year\"]).size()\n",
    "    )\n",
    "\n",
    "    # rename 0 to value\n",
    "    mesh_tree_level_proportions = mesh_tree_level_proportions.rename(\"value\")\n",
    "\n",
    "    # reset index\n",
    "    mesh_tree_level_proportions = mesh_tree_level_proportions.reset_index()\n",
    "\n",
    "    # Create a MultiIndex with all combinations of year and mesh_tree_label\n",
    "    all_combinations = pd.MultiIndex.from_product(\n",
    "        [df[\"year\"].unique(), df[\"mesh_tree_label\"].unique()],\n",
    "        names=[\"year\", \"mesh_tree_label\"],\n",
    "    )\n",
    "\n",
    "    # Reindex the DataFrame with the MultiIndex and fill missing values with 0\n",
    "    mesh_tree_level_proportions.set_index([\"year\", \"mesh_tree_label\"], inplace=True)\n",
    "    mesh_tree_level_proportions = mesh_tree_level_proportions.reindex(\n",
    "        all_combinations\n",
    "    ).reset_index()\n",
    "\n",
    "    # drop Other\n",
    "    mesh_tree_level_proportions = mesh_tree_level_proportions[\n",
    "        mesh_tree_level_proportions[\"mesh_tree_label\"] != \"Other\"\n",
    "    ]\n",
    "\n",
    "    # fill value as nan\n",
    "    mesh_tree_level_proportions[\"value\"] = mesh_tree_level_proportions[\"value\"].fillna(\n",
    "        0\n",
    "    )\n",
    "\n",
    "    # drop mesh_tree_label nan rows\n",
    "    mesh_tree_level_proportions = mesh_tree_level_proportions[\n",
    "        mesh_tree_level_proportions[\"mesh_tree_label\"].notnull()\n",
    "    ]\n",
    "\n",
    "    # drop Occupational and Disorders of Environmental Origin\n",
    "    mesh_tree_level_proportions = mesh_tree_level_proportions[\n",
    "        mesh_tree_level_proportions[\"mesh_tree_label\"] != \"Occupational Diseases\"\n",
    "    ]\n",
    "    mesh_tree_level_proportions = mesh_tree_level_proportions[\n",
    "        mesh_tree_level_proportions[\"mesh_tree_label\"] != \"Disorders of Environmental Origin\"\n",
    "    ]\n",
    "\n",
    "    # fill the id by the dictionary match\n",
    "    mesh_tree_level_proportions[\"mesh_tree_label_id\"] = mesh_tree_level_proportions[\n",
    "        \"mesh_tree_label\"\n",
    "    ].apply(\n",
    "        lambda x: list(disease_labels.keys())[list(disease_labels.values()).index(x)]\n",
    "    )\n",
    "\n",
    "    # fill the subfield\n",
    "    mesh_tree_level_proportions[\"filter\"] = subfield\n",
    "\n",
    "    return mesh_tree_level_proportions"
   ]
  },
  {
   "cell_type": "code",
   "execution_count": 24,
   "metadata": {},
   "outputs": [],
   "source": [
    "sb_proportions = get_proportions(sb_mesh_data, \"Structural Biology\", disease_labels)\n",
    "pd_proportions = get_proportions(pd_mesh_data, \"Protein Design\", disease_labels)\n",
    "bi_proportions = get_proportions(bi_mesh_data, \"Bioinformatics\", disease_labels)"
   ]
  },
  {
   "cell_type": "code",
   "execution_count": 25,
   "metadata": {},
   "outputs": [],
   "source": [
    "# get sb from 2021 onwards\n",
    "sb_mesh_data_2021 = sb_mesh_data[sb_mesh_data[\"year\"] >= \"2021\"]\n",
    "pd_mesh_data_2021 = pd_mesh_data[pd_mesh_data[\"year\"] >= \"2021\"]\n",
    "bi_mesh_data_2021 = bi_mesh_data[bi_mesh_data[\"year\"] >= \"2021\"]\n",
    "\n",
    "sb_proportions_2021 = get_proportions(sb_mesh_data_2021, \"Structural Biology\", disease_labels)\n",
    "pd_proportions_2021 = get_proportions(pd_mesh_data_2021, \"Protein Design\", disease_labels)\n",
    "bi_proportions_2021 = get_proportions(bi_mesh_data_2021, \"Bioinformatics\", disease_labels)"
   ]
  },
  {
   "cell_type": "code",
   "execution_count": 26,
   "metadata": {},
   "outputs": [],
   "source": [
    "sb_yearly_proportions = get_yearly_proportions(sb_mesh_data, \"Structural Biology\", disease_labels)\n",
    "pd_yearly_proportions = get_yearly_proportions(pd_mesh_data, \"Protein Design\", disease_labels)\n",
    "bi_yearly_proportions = get_yearly_proportions(bi_mesh_data, \"Bioinformatics\", disease_labels)"
   ]
  },
  {
   "cell_type": "markdown",
   "metadata": {},
   "source": [
    "### Patents"
   ]
  },
  {
   "cell_type": "code",
   "execution_count": 27,
   "metadata": {},
   "outputs": [
    {
     "data": {
      "text/html": [
       "<pre style=\"white-space:pre;overflow-x:auto;line-height:normal;font-family:Menlo,'DejaVu Sans Mono',consolas,'Courier New',monospace\"><span style=\"color: #7fbfbf; text-decoration-color: #7fbfbf\">[03/14/24 11:11:46] </span><span style=\"color: #000080; text-decoration-color: #000080\">INFO    </span> Loading data from <span style=\"color: #ff8700; text-decoration-color: #ff8700\">lens.data_processing.primary</span> <span style=\"font-weight: bold\">(</span>ParquetDataset<span style=\"font-weight: bold\">)</span><span style=\"color: #808000; text-decoration-color: #808000\">...</span> <a href=\"file:///home/dampudia/miniconda3/envs/.igl_alphafold/lib/python3.11/site-packages/kedro/io/data_catalog.py\" target=\"_blank\"><span style=\"color: #7f7f7f; text-decoration-color: #7f7f7f\">data_catalog.py</span></a><span style=\"color: #7f7f7f; text-decoration-color: #7f7f7f\">:</span><a href=\"file:///home/dampudia/miniconda3/envs/.igl_alphafold/lib/python3.11/site-packages/kedro/io/data_catalog.py#482\" target=\"_blank\"><span style=\"color: #7f7f7f; text-decoration-color: #7f7f7f\">482</span></a>\n",
       "</pre>\n"
      ],
      "text/plain": [
       "\u001b[2;36m[03/14/24 11:11:46]\u001b[0m\u001b[2;36m \u001b[0m\u001b[34mINFO    \u001b[0m Loading data from \u001b[38;5;208mlens.data_processing.primary\u001b[0m \u001b[1m(\u001b[0mParquetDataset\u001b[1m)\u001b[0m\u001b[33m...\u001b[0m \u001b]8;id=502725;file:///home/dampudia/miniconda3/envs/.igl_alphafold/lib/python3.11/site-packages/kedro/io/data_catalog.py\u001b\\\u001b[2mdata_catalog.py\u001b[0m\u001b]8;;\u001b\\\u001b[2m:\u001b[0m\u001b]8;id=369122;file:///home/dampudia/miniconda3/envs/.igl_alphafold/lib/python3.11/site-packages/kedro/io/data_catalog.py#482\u001b\\\u001b[2m482\u001b[0m\u001b]8;;\u001b\\\n"
      ]
     },
     "metadata": {},
     "output_type": "display_data"
    }
   ],
   "source": [
    "patents = catalog.load(\"lens.data_processing.primary\")"
   ]
  },
  {
   "cell_type": "code",
   "execution_count": 28,
   "metadata": {},
   "outputs": [
    {
     "data": {
      "text/html": [
       "<pre style=\"white-space:pre;overflow-x:auto;line-height:normal;font-family:Menlo,'DejaVu Sans Mono',consolas,'Courier New',monospace\"></pre>\n"
      ],
      "text/plain": []
     },
     "metadata": {},
     "output_type": "display_data"
    },
    {
     "data": {
      "text/html": [
       "\n",
       "<div id=\"altair-viz-57c268c7e350466e94492839a3cd2f56\"></div>\n",
       "<script type=\"text/javascript\">\n",
       "  var VEGA_DEBUG = (typeof VEGA_DEBUG == \"undefined\") ? {} : VEGA_DEBUG;\n",
       "  (function(spec, embedOpt){\n",
       "    let outputDiv = document.currentScript.previousElementSibling;\n",
       "    if (outputDiv.id !== \"altair-viz-57c268c7e350466e94492839a3cd2f56\") {\n",
       "      outputDiv = document.getElementById(\"altair-viz-57c268c7e350466e94492839a3cd2f56\");\n",
       "    }\n",
       "    const paths = {\n",
       "      \"vega\": \"https://cdn.jsdelivr.net/npm//vega@5?noext\",\n",
       "      \"vega-lib\": \"https://cdn.jsdelivr.net/npm//vega-lib?noext\",\n",
       "      \"vega-lite\": \"https://cdn.jsdelivr.net/npm//vega-lite@4.17.0?noext\",\n",
       "      \"vega-embed\": \"https://cdn.jsdelivr.net/npm//vega-embed@6?noext\",\n",
       "    };\n",
       "\n",
       "    function maybeLoadScript(lib, version) {\n",
       "      var key = `${lib.replace(\"-\", \"\")}_version`;\n",
       "      return (VEGA_DEBUG[key] == version) ?\n",
       "        Promise.resolve(paths[lib]) :\n",
       "        new Promise(function(resolve, reject) {\n",
       "          var s = document.createElement('script');\n",
       "          document.getElementsByTagName(\"head\")[0].appendChild(s);\n",
       "          s.async = true;\n",
       "          s.onload = () => {\n",
       "            VEGA_DEBUG[key] = version;\n",
       "            return resolve(paths[lib]);\n",
       "          };\n",
       "          s.onerror = () => reject(`Error loading script: ${paths[lib]}`);\n",
       "          s.src = paths[lib];\n",
       "        });\n",
       "    }\n",
       "\n",
       "    function showError(err) {\n",
       "      outputDiv.innerHTML = `<div class=\"error\" style=\"color:red;\">${err}</div>`;\n",
       "      throw err;\n",
       "    }\n",
       "\n",
       "    function displayChart(vegaEmbed) {\n",
       "      vegaEmbed(outputDiv, spec, embedOpt)\n",
       "        .catch(err => showError(`Javascript Error: ${err.message}<br>This usually means there's a typo in your chart specification. See the javascript console for the full traceback.`));\n",
       "    }\n",
       "\n",
       "    if(typeof define === \"function\" && define.amd) {\n",
       "      requirejs.config({paths});\n",
       "      require([\"vega-embed\"], displayChart, err => showError(`Error loading script: ${err.message}`));\n",
       "    } else {\n",
       "      maybeLoadScript(\"vega\", \"5\")\n",
       "        .then(() => maybeLoadScript(\"vega-lite\", \"4.17.0\"))\n",
       "        .then(() => maybeLoadScript(\"vega-embed\", \"6\"))\n",
       "        .catch(showError)\n",
       "        .then(() => displayChart(vegaEmbed));\n",
       "    }\n",
       "  })({\"config\": {\"view\": {\"continuousWidth\": 400, \"continuousHeight\": 300}}, \"data\": {\"name\": \"data-87f3f7f93ee47eba2c58210faf56e570\"}, \"mark\": {\"type\": \"bar\", \"width\": 10}, \"encoding\": {\"tooltip\": [{\"field\": \"year_month\", \"type\": \"nominal\"}, {\"field\": \"count\", \"type\": \"quantitative\"}], \"x\": {\"field\": \"year_month\", \"type\": \"temporal\"}, \"y\": {\"field\": \"count\", \"type\": \"quantitative\"}}, \"height\": 400, \"title\": \"Number of Unique Patent Titles per Month\", \"width\": 500, \"$schema\": \"https://vega.github.io/schema/vega-lite/v4.17.0.json\", \"datasets\": {\"data-87f3f7f93ee47eba2c58210faf56e570\": [{\"year_month\": \"2021-01\", \"count\": 13826}, {\"year_month\": \"2021-02\", \"count\": 13471}, {\"year_month\": \"2021-03\", \"count\": 17517}, {\"year_month\": \"2021-04\", \"count\": 15204}, {\"year_month\": \"2021-05\", \"count\": 14256}, {\"year_month\": \"2021-06\", \"count\": 17902}, {\"year_month\": \"2021-07\", \"count\": 15091}, {\"year_month\": \"2021-08\", \"count\": 17356}, {\"year_month\": \"2021-09\", \"count\": 15449}, {\"year_month\": \"2021-10\", \"count\": 14680}, {\"year_month\": \"2021-11\", \"count\": 15786}, {\"year_month\": \"2021-12\", \"count\": 14296}, {\"year_month\": \"2022-01\", \"count\": 12070}, {\"year_month\": \"2022-02\", \"count\": 12479}, {\"year_month\": \"2022-03\", \"count\": 16621}, {\"year_month\": \"2022-04\", \"count\": 13337}, {\"year_month\": \"2022-05\", \"count\": 15002}, {\"year_month\": \"2022-06\", \"count\": 14648}, {\"year_month\": \"2022-07\", \"count\": 11803}, {\"year_month\": \"2022-08\", \"count\": 15548}, {\"year_month\": \"2022-09\", \"count\": 12582}, {\"year_month\": \"2022-10\", \"count\": 5861}, {\"year_month\": \"2022-11\", \"count\": 14605}, {\"year_month\": \"2022-12\", \"count\": 11589}, {\"year_month\": \"2023-01\", \"count\": 15190}, {\"year_month\": \"2023-02\", \"count\": 12824}, {\"year_month\": \"2023-03\", \"count\": 13470}, {\"year_month\": \"2023-04\", \"count\": 12191}, {\"year_month\": \"2023-05\", \"count\": 14220}, {\"year_month\": \"2023-06\", \"count\": 16033}, {\"year_month\": \"2023-07\", \"count\": 11759}, {\"year_month\": \"2023-08\", \"count\": 16952}, {\"year_month\": \"2023-09\", \"count\": 13205}, {\"year_month\": \"2023-10\", \"count\": 8033}, {\"year_month\": \"2023-11\", \"count\": 11208}, {\"year_month\": \"2023-12\", \"count\": 6826}]}}, {\"mode\": \"vega-lite\"});\n",
       "</script>"
      ],
      "text/plain": [
       "\u001b[1;35malt.Chart\u001b[0m\u001b[1m(\u001b[0m\u001b[33m...\u001b[0m\u001b[1m)\u001b[0m"
      ]
     },
     "execution_count": 28,
     "metadata": {},
     "output_type": "execute_result"
    }
   ],
   "source": [
    "# Convert 'date' to datetime\n",
    "patents['Publication Date'] = pd.to_datetime(patents['Publication Date'])\n",
    "\n",
    "# # Extract year and month\n",
    "# patents['year'] = patents['Publication Date'].dt.year\n",
    "# patents['month'] = patents['Publication Date'].dt.month\n",
    "\n",
    "# Create a new column 'year_month' for plotting\n",
    "patents['year_month'] = patents['Publication Date'].dt.to_period('M')\n",
    "\n",
    "# Group by 'year_month' and count the number of unique patent titles\n",
    "grouped_data = patents.groupby('year_month')['Title'].nunique().reset_index(name='count')\n",
    "\n",
    "# Convert 'year_month' to string\n",
    "grouped_data['year_month'] = grouped_data['year_month'].astype(str)\n",
    "\n",
    "# Create the histogram\n",
    "chart = alt.Chart(grouped_data).mark_bar(width=10).encode(\n",
    "    x='year_month:T',\n",
    "    y='count:Q',\n",
    "    tooltip=['year_month', 'count']\n",
    ").properties(\n",
    "    width=500,\n",
    "    height=400,\n",
    "    title='Number of Unique Patent Titles per Month'\n",
    ")\n",
    "\n",
    "chart"
   ]
  },
  {
   "cell_type": "code",
   "execution_count": 29,
   "metadata": {},
   "outputs": [],
   "source": [
    "# Subset all DOIs in alphafold_oa_mesh_data that are also in patents data\n",
    "subset = alphafold_oa_mesh_data[alphafold_oa_mesh_data['doi'].isin(patents['NPL Resolved External ID(s)'])]\n",
    "\n",
    "# Merge right on the patents\n",
    "alphafold_citation_patents = patents.merge(subset, how='left', left_on='NPL Resolved External ID(s)', right_on='doi')\n",
    "\n",
    "# also subset those with a link to the AlphaFold paper DOI\n",
    "alphafold_patents = patents[patents['NPL Resolved External ID(s)']==\"10.1038/s41586-021-03819-2\"]\n",
    "alphafold_patents[\"filter\"] = \"AlphaFold\"\n",
    "\n",
    "# merge also on each subfield\n",
    "sb_patents = sb_sb.merge(patents, how='right', left_on='doi', right_on=\"NPL Resolved External ID(s)\")\n",
    "bi_patents = bi_sb.merge(patents, how='right', left_on='doi', right_on=\"NPL Resolved External ID(s)\")\n",
    "pd_patents = pd_sb.merge(patents, how='right', left_on='doi', right_on=\"NPL Resolved External ID(s)\")\n",
    "\n",
    "# drop all doi nan in the subfields and af citations\n",
    "sb_patents = sb_patents[sb_patents['doi'].notnull()]\n",
    "bi_patents = bi_patents[bi_patents['doi'].notnull()]\n",
    "pd_patents = pd_patents[pd_patents['doi'].notnull()]\n",
    "alphafold_citation_patents = alphafold_citation_patents[alphafold_citation_patents['doi'].notnull()]\n",
    "\n",
    "# relabel af citation levels to filter\n",
    "alphafold_citation_patents['filter'] = alphafold_citation_patents['level'].astype(int).astype(str)\n",
    "\n",
    "# add filter for each subfield\n",
    "sb_patents['filter'] = \"Structural Biology\"\n",
    "bi_patents['filter'] = \"Bioinformatics\"\n",
    "pd_patents['filter'] = \"Protein Design\"\n",
    "\n",
    "# create a single dataframe of patents, with each patent either a subfield, a level, or alpha fold citation, and the rest are \"Other\"\n",
    "cited_patents_data = pd.concat([sb_patents, bi_patents, pd_patents, alphafold_citation_patents], ignore_index=True)\n",
    "\n",
    "# # to patents not in cited_patents_data, add a filter \"Other\"\n",
    "# patents_not_cited = patents[~patents['NPL Resolved External ID(s)'].isin(cited_patents_data['NPL Resolved External ID(s)'])]\n",
    "# patents_not_cited['filter'] = \"Other\"\n",
    "\n",
    "# concatenate the two dataframes, keeping the date, citation counts, and the filter\n",
    "# final_patents_data = pd.concat([cited_patents_data, patents_not_cited], ignore_index=True)\n",
    "cited_patents_data = cited_patents_data[['Title', 'NPL Resolved External ID(s)', 'filter', 'Publication Date', 'Cited by Patent Count']]\n",
    "\n",
    "alphafold_patents = alphafold_patents[['Title', 'NPL Resolved External ID(s)', 'filter', 'Publication Date', 'Cited by Patent Count']]\n",
    "\n",
    "# concat\n",
    "cited_patents_data = pd.concat([cited_patents_data, alphafold_patents], ignore_index=True)\n",
    "\n",
    "# rename columns\n",
    "cited_patents_data.columns = ['title', 'doi', 'filter', 'date', 'cited_by']"
   ]
  },
  {
   "cell_type": "code",
   "execution_count": 30,
   "metadata": {},
   "outputs": [],
   "source": [
    "def process_patents_data(df, drop_duplicates):\n",
    "    if drop_duplicates:\n",
    "        df = df.drop_duplicates(subset=['title', 'filter', 'date'])\n",
    "\n",
    "    # Convert 'date' to datetime\n",
    "    df['date'] = pd.to_datetime(df['date'])\n",
    "\n",
    "    # Extract year and month\n",
    "    df['year'] = df['date'].dt.year\n",
    "    df['month'] = df['date'].dt.month\n",
    "\n",
    "    # Filter data from 2021 onwards\n",
    "    df = df[df['year'] >= 2021]\n",
    "\n",
    "    # Create a new column 'year_month' for plotting\n",
    "    df['year_month'] = df['date'].dt.to_period('M')\n",
    "\n",
    "    # Group by 'year_month' and 'filter' and count the number of patents\n",
    "    grouped_data = df.groupby(['year_month', 'filter']).size().reset_index(name='count')\n",
    "\n",
    "    # Define the desired order of 'filter'\n",
    "    filter_order = [\"AlphaFold\", \"0\", \"1\", \"2\", \"3\", \"Structural Biology\", \"Bioinformatics\", \"Protein Design\"]\n",
    "\n",
    "    # Create an ordered categorical type with the desired order\n",
    "    grouped_data['filter'] = pd.Categorical(grouped_data['filter'], categories=filter_order, ordered=True)\n",
    "\n",
    "    # Convert 'year_month' to string\n",
    "    grouped_data['year_month'] = grouped_data['year_month'].astype(str)\n",
    "\n",
    "    # Sort by 'filter'\n",
    "    grouped_data.sort_values('filter', inplace=True)\n",
    "\n",
    "    return grouped_data"
   ]
  },
  {
   "cell_type": "code",
   "execution_count": 31,
   "metadata": {},
   "outputs": [],
   "source": [
    "grouped_data_unique = process_patents_data(cited_patents_data, True)\n",
    "grouped_data_counts = process_patents_data(cited_patents_data, False)"
   ]
  },
  {
   "cell_type": "markdown",
   "metadata": {},
   "source": [
    "### WP Questions"
   ]
  },
  {
   "cell_type": "markdown",
   "metadata": {},
   "source": [
    "Of all papers that cite AF, what percentage mention a disease area? How does this compare to the SB baseline?"
   ]
  },
  {
   "cell_type": "code",
   "execution_count": 32,
   "metadata": {},
   "outputs": [
    {
     "data": {
      "text/html": [
       "<pre style=\"white-space:pre;overflow-x:auto;line-height:normal;font-family:Menlo,'DejaVu Sans Mono',consolas,'Courier New',monospace\"></pre>\n"
      ],
      "text/plain": []
     },
     "metadata": {},
     "output_type": "display_data"
    },
    {
     "data": {
      "text/html": [
       "<div>\n",
       "<style scoped>\n",
       "    .dataframe tbody tr th:only-of-type {\n",
       "        vertical-align: middle;\n",
       "    }\n",
       "\n",
       "    .dataframe tbody tr th {\n",
       "        vertical-align: top;\n",
       "    }\n",
       "\n",
       "    .dataframe thead th {\n",
       "        text-align: right;\n",
       "    }\n",
       "</style>\n",
       "<table border=\"1\" class=\"dataframe\">\n",
       "  <thead>\n",
       "    <tr style=\"text-align: right;\">\n",
       "      <th></th>\n",
       "      <th>level</th>\n",
       "      <th>value</th>\n",
       "    </tr>\n",
       "  </thead>\n",
       "  <tbody>\n",
       "    <tr>\n",
       "      <th>0</th>\n",
       "      <td>0</td>\n",
       "      <td>0.044847</td>\n",
       "    </tr>\n",
       "    <tr>\n",
       "      <th>1</th>\n",
       "      <td>1</td>\n",
       "      <td>0.073112</td>\n",
       "    </tr>\n",
       "    <tr>\n",
       "      <th>2</th>\n",
       "      <td>2</td>\n",
       "      <td>0.104307</td>\n",
       "    </tr>\n",
       "    <tr>\n",
       "      <th>3</th>\n",
       "      <td>3</td>\n",
       "      <td>0.127779</td>\n",
       "    </tr>\n",
       "  </tbody>\n",
       "</table>\n",
       "</div>"
      ],
      "text/plain": [
       "\n",
       "   level     value\n",
       "\u001b[1;36m0\u001b[0m      \u001b[1;36m0\u001b[0m  \u001b[1;36m0.044847\u001b[0m\n",
       "\u001b[1;36m1\u001b[0m      \u001b[1;36m1\u001b[0m  \u001b[1;36m0.073112\u001b[0m\n",
       "\u001b[1;36m2\u001b[0m      \u001b[1;36m2\u001b[0m  \u001b[1;36m0.104307\u001b[0m\n",
       "\u001b[1;36m3\u001b[0m      \u001b[1;36m3\u001b[0m  \u001b[1;36m0.127779\u001b[0m"
      ]
     },
     "execution_count": 32,
     "metadata": {},
     "output_type": "execute_result"
    }
   ],
   "source": [
    "# sum all disease areas for each level\n",
    "af_proportions = af_mesh_tree_level_proportions.groupby(\"level\").sum().reset_index()\n",
    "af_proportions[[\"level\", \"value\"]]"
   ]
  },
  {
   "cell_type": "code",
   "execution_count": 33,
   "metadata": {},
   "outputs": [],
   "source": [
    "# harmonise datasets\n",
    "af_mesh_tree_level_yearly_proportions.rename(columns={\"level\": \"filter\"}, inplace=True)\n",
    "\n",
    "# add them together\n",
    "dta = pd.concat([af_mesh_tree_level_yearly_proportions, sb_yearly_proportions, pd_yearly_proportions, bi_yearly_proportions])\n",
    "\n",
    "# group sum at the filter, year level\n",
    "dta = dta.groupby([\"filter\", \"year\"]).sum().reset_index()"
   ]
  },
  {
   "cell_type": "code",
   "execution_count": 34,
   "metadata": {},
   "outputs": [
    {
     "data": {
      "text/html": [
       "<pre style=\"white-space:pre;overflow-x:auto;line-height:normal;font-family:Menlo,'DejaVu Sans Mono',consolas,'Courier New',monospace\"></pre>\n"
      ],
      "text/plain": []
     },
     "metadata": {},
     "output_type": "display_data"
    },
    {
     "data": {
      "text/html": [
       "\n",
       "<div id=\"altair-viz-6dad2a67de7d481b996fa0e745a74588\"></div>\n",
       "<script type=\"text/javascript\">\n",
       "  var VEGA_DEBUG = (typeof VEGA_DEBUG == \"undefined\") ? {} : VEGA_DEBUG;\n",
       "  (function(spec, embedOpt){\n",
       "    let outputDiv = document.currentScript.previousElementSibling;\n",
       "    if (outputDiv.id !== \"altair-viz-6dad2a67de7d481b996fa0e745a74588\") {\n",
       "      outputDiv = document.getElementById(\"altair-viz-6dad2a67de7d481b996fa0e745a74588\");\n",
       "    }\n",
       "    const paths = {\n",
       "      \"vega\": \"https://cdn.jsdelivr.net/npm//vega@5?noext\",\n",
       "      \"vega-lib\": \"https://cdn.jsdelivr.net/npm//vega-lib?noext\",\n",
       "      \"vega-lite\": \"https://cdn.jsdelivr.net/npm//vega-lite@4.17.0?noext\",\n",
       "      \"vega-embed\": \"https://cdn.jsdelivr.net/npm//vega-embed@6?noext\",\n",
       "    };\n",
       "\n",
       "    function maybeLoadScript(lib, version) {\n",
       "      var key = `${lib.replace(\"-\", \"\")}_version`;\n",
       "      return (VEGA_DEBUG[key] == version) ?\n",
       "        Promise.resolve(paths[lib]) :\n",
       "        new Promise(function(resolve, reject) {\n",
       "          var s = document.createElement('script');\n",
       "          document.getElementsByTagName(\"head\")[0].appendChild(s);\n",
       "          s.async = true;\n",
       "          s.onload = () => {\n",
       "            VEGA_DEBUG[key] = version;\n",
       "            return resolve(paths[lib]);\n",
       "          };\n",
       "          s.onerror = () => reject(`Error loading script: ${paths[lib]}`);\n",
       "          s.src = paths[lib];\n",
       "        });\n",
       "    }\n",
       "\n",
       "    function showError(err) {\n",
       "      outputDiv.innerHTML = `<div class=\"error\" style=\"color:red;\">${err}</div>`;\n",
       "      throw err;\n",
       "    }\n",
       "\n",
       "    function displayChart(vegaEmbed) {\n",
       "      vegaEmbed(outputDiv, spec, embedOpt)\n",
       "        .catch(err => showError(`Javascript Error: ${err.message}<br>This usually means there's a typo in your chart specification. See the javascript console for the full traceback.`));\n",
       "    }\n",
       "\n",
       "    if(typeof define === \"function\" && define.amd) {\n",
       "      requirejs.config({paths});\n",
       "      require([\"vega-embed\"], displayChart, err => showError(`Error loading script: ${err.message}`));\n",
       "    } else {\n",
       "      maybeLoadScript(\"vega\", \"5\")\n",
       "        .then(() => maybeLoadScript(\"vega-lite\", \"4.17.0\"))\n",
       "        .then(() => maybeLoadScript(\"vega-embed\", \"6\"))\n",
       "        .catch(showError)\n",
       "        .then(() => displayChart(vegaEmbed));\n",
       "    }\n",
       "  })({\"config\": {\"view\": {\"continuousWidth\": 400, \"continuousHeight\": 300}}, \"layer\": [{\"mark\": \"line\", \"encoding\": {\"color\": {\"field\": \"filter\", \"title\": \"Subfield\", \"type\": \"nominal\"}, \"strokeDash\": {\"field\": \"filter\", \"legend\": null, \"title\": \"Subfield\", \"type\": \"nominal\"}, \"x\": {\"field\": \"year\", \"title\": \"Year\", \"type\": \"temporal\"}, \"y\": {\"field\": \"value\", \"title\": \"Proportion\", \"type\": \"quantitative\"}}}, {\"mark\": \"circle\", \"encoding\": {\"color\": {\"field\": \"filter\", \"title\": \"Subfield\", \"type\": \"nominal\"}, \"x\": {\"field\": \"year\", \"title\": \"Year\", \"type\": \"temporal\"}, \"y\": {\"field\": \"value\", \"title\": \"Proportion\", \"type\": \"quantitative\"}}}], \"data\": {\"name\": \"data-f5e801276694f8f6cac46ddef0825489\"}, \"$schema\": \"https://vega.github.io/schema/vega-lite/v4.17.0.json\", \"datasets\": {\"data-f5e801276694f8f6cac46ddef0825489\": [{\"filter\": 0, \"year\": \"2021\", \"mesh_tree_label\": \"Animal DiseasesCardiovascular DiseasesCongenital, Hereditary, and Neonatal Diseases and AbnormalitiesDigestive System DiseasesEndocrine System DiseasesEye DiseasesHemic and Lymphatic DiseasesImmune System DiseasesInfectionsMusculoskeletal DiseasesNeoplasmsNervous System DiseasesNutritional and Metabolic DiseasesOccupational DiseasesOtorhinolaryngologic DiseasesPathological Conditions, Signs and SymptomsRespiratory Tract DiseasesSkin and Connective Tissue DiseasesStomatognathic DiseasesSubstance-Related DisordersUrogenital DiseasesWounds and Injuries\", \"value\": 0.03271349862258953, \"mesh_tree_label_id\": \"C22C14C16C06C19C11C15C20C01C05C04C10C18C24C09C23C08C17C07C25C12C26\"}, {\"filter\": 0, \"year\": \"2022\", \"mesh_tree_label\": \"Animal DiseasesCardiovascular DiseasesCongenital, Hereditary, and Neonatal Diseases and AbnormalitiesDigestive System DiseasesEndocrine System DiseasesEye DiseasesHemic and Lymphatic DiseasesImmune System DiseasesInfectionsMusculoskeletal DiseasesNeoplasmsNervous System DiseasesNutritional and Metabolic DiseasesOccupational DiseasesOtorhinolaryngologic DiseasesPathological Conditions, Signs and SymptomsRespiratory Tract DiseasesSkin and Connective Tissue DiseasesStomatognathic DiseasesSubstance-Related DisordersUrogenital DiseasesWounds and Injuries\", \"value\": 0.045341018251681076, \"mesh_tree_label_id\": \"C22C14C16C06C19C11C15C20C01C05C04C10C18C24C09C23C08C17C07C25C12C26\"}, {\"filter\": 0, \"year\": \"2023\", \"mesh_tree_label\": \"Animal DiseasesCardiovascular DiseasesCongenital, Hereditary, and Neonatal Diseases and AbnormalitiesDigestive System DiseasesEndocrine System DiseasesEye DiseasesHemic and Lymphatic DiseasesImmune System DiseasesInfectionsMusculoskeletal DiseasesNeoplasmsNervous System DiseasesNutritional and Metabolic DiseasesOccupational DiseasesOtorhinolaryngologic DiseasesPathological Conditions, Signs and SymptomsRespiratory Tract DiseasesSkin and Connective Tissue DiseasesStomatognathic DiseasesSubstance-Related DisordersUrogenital DiseasesWounds and Injuries\", \"value\": 0.045628556647697875, \"mesh_tree_label_id\": \"C22C14C16C06C19C11C15C20C01C05C04C10C18C24C09C23C08C17C07C25C12C26\"}, {\"filter\": 0, \"year\": \"2024\", \"mesh_tree_label\": \"Animal DiseasesCardiovascular DiseasesCongenital, Hereditary, and Neonatal Diseases and AbnormalitiesDigestive System DiseasesEndocrine System DiseasesEye DiseasesHemic and Lymphatic DiseasesImmune System DiseasesInfectionsMusculoskeletal DiseasesNeoplasmsNervous System DiseasesNutritional and Metabolic DiseasesOccupational DiseasesOtorhinolaryngologic DiseasesPathological Conditions, Signs and SymptomsRespiratory Tract DiseasesSkin and Connective Tissue DiseasesStomatognathic DiseasesSubstance-Related DisordersUrogenital DiseasesWounds and Injuries\", \"value\": 0.046278924327704814, \"mesh_tree_label_id\": \"C22C14C16C06C19C11C15C20C01C05C04C10C18C24C09C23C08C17C07C25C12C26\"}, {\"filter\": 1, \"year\": \"2021\", \"mesh_tree_label\": \"Animal DiseasesCardiovascular DiseasesCongenital, Hereditary, and Neonatal Diseases and AbnormalitiesDigestive System DiseasesEndocrine System DiseasesEye DiseasesHemic and Lymphatic DiseasesImmune System DiseasesInfectionsMusculoskeletal DiseasesNeoplasmsNervous System DiseasesNutritional and Metabolic DiseasesOccupational DiseasesOtorhinolaryngologic DiseasesPathological Conditions, Signs and SymptomsRespiratory Tract DiseasesSkin and Connective Tissue DiseasesStomatognathic DiseasesSubstance-Related DisordersUrogenital DiseasesWounds and Injuries\", \"value\": 0.03281622911694511, \"mesh_tree_label_id\": \"C22C14C16C06C19C11C15C20C01C05C04C10C18C24C09C23C08C17C07C25C12C26\"}, {\"filter\": 1, \"year\": \"2022\", \"mesh_tree_label\": \"Animal DiseasesCardiovascular DiseasesCongenital, Hereditary, and Neonatal Diseases and AbnormalitiesDigestive System DiseasesEndocrine System DiseasesEye DiseasesHemic and Lymphatic DiseasesImmune System DiseasesInfectionsMusculoskeletal DiseasesNeoplasmsNervous System DiseasesNutritional and Metabolic DiseasesOccupational DiseasesOtorhinolaryngologic DiseasesPathological Conditions, Signs and SymptomsRespiratory Tract DiseasesSkin and Connective Tissue DiseasesStomatognathic DiseasesSubstance-Related DisordersUrogenital DiseasesWounds and Injuries\", \"value\": 0.07003160806005532, \"mesh_tree_label_id\": \"C22C14C16C06C19C11C15C20C01C05C04C10C18C24C09C23C08C17C07C25C12C26\"}, {\"filter\": 1, \"year\": \"2023\", \"mesh_tree_label\": \"Animal DiseasesCardiovascular DiseasesCongenital, Hereditary, and Neonatal Diseases and AbnormalitiesDigestive System DiseasesEndocrine System DiseasesEye DiseasesHemic and Lymphatic DiseasesImmune System DiseasesInfectionsMusculoskeletal DiseasesNeoplasmsNervous System DiseasesNutritional and Metabolic DiseasesOccupational DiseasesOtorhinolaryngologic DiseasesPathological Conditions, Signs and SymptomsRespiratory Tract DiseasesSkin and Connective Tissue DiseasesStomatognathic DiseasesSubstance-Related DisordersUrogenital DiseasesWounds and Injuries\", \"value\": 0.07399696498630542, \"mesh_tree_label_id\": \"C22C14C16C06C19C11C15C20C01C05C04C10C18C24C09C23C08C17C07C25C12C26\"}, {\"filter\": 1, \"year\": \"2024\", \"mesh_tree_label\": \"Animal DiseasesCardiovascular DiseasesCongenital, Hereditary, and Neonatal Diseases and AbnormalitiesDigestive System DiseasesEndocrine System DiseasesEye DiseasesHemic and Lymphatic DiseasesImmune System DiseasesInfectionsMusculoskeletal DiseasesNeoplasmsNervous System DiseasesNutritional and Metabolic DiseasesOccupational DiseasesOtorhinolaryngologic DiseasesPathological Conditions, Signs and SymptomsRespiratory Tract DiseasesSkin and Connective Tissue DiseasesStomatognathic DiseasesSubstance-Related DisordersUrogenital DiseasesWounds and Injuries\", \"value\": 0.08515147737189876, \"mesh_tree_label_id\": \"C22C14C16C06C19C11C15C20C01C05C04C10C18C24C09C23C08C17C07C25C12C26\"}, {\"filter\": 2, \"year\": \"2021\", \"mesh_tree_label\": \"Animal DiseasesCardiovascular DiseasesCongenital, Hereditary, and Neonatal Diseases and AbnormalitiesDigestive System DiseasesEndocrine System DiseasesEye DiseasesHemic and Lymphatic DiseasesImmune System DiseasesInfectionsMusculoskeletal DiseasesNeoplasmsNervous System DiseasesNutritional and Metabolic DiseasesOccupational DiseasesOtorhinolaryngologic DiseasesPathological Conditions, Signs and SymptomsRespiratory Tract DiseasesSkin and Connective Tissue DiseasesStomatognathic DiseasesSubstance-Related DisordersUrogenital DiseasesWounds and Injuries\", \"value\": 0.041685753550160326, \"mesh_tree_label_id\": \"C22C14C16C06C19C11C15C20C01C05C04C10C18C24C09C23C08C17C07C25C12C26\"}, {\"filter\": 2, \"year\": \"2022\", \"mesh_tree_label\": \"Animal DiseasesCardiovascular DiseasesCongenital, Hereditary, and Neonatal Diseases and AbnormalitiesDigestive System DiseasesEndocrine System DiseasesEye DiseasesHemic and Lymphatic DiseasesImmune System DiseasesInfectionsMusculoskeletal DiseasesNeoplasmsNervous System DiseasesNutritional and Metabolic DiseasesOccupational DiseasesOtorhinolaryngologic DiseasesPathological Conditions, Signs and SymptomsRespiratory Tract DiseasesSkin and Connective Tissue DiseasesStomatognathic DiseasesSubstance-Related DisordersUrogenital DiseasesWounds and Injuries\", \"value\": 0.10043764794033003, \"mesh_tree_label_id\": \"C22C14C16C06C19C11C15C20C01C05C04C10C18C24C09C23C08C17C07C25C12C26\"}, {\"filter\": 2, \"year\": \"2023\", \"mesh_tree_label\": \"Animal DiseasesCardiovascular DiseasesCongenital, Hereditary, and Neonatal Diseases and AbnormalitiesDigestive System DiseasesEndocrine System DiseasesEye DiseasesHemic and Lymphatic DiseasesImmune System DiseasesInfectionsMusculoskeletal DiseasesNeoplasmsNervous System DiseasesNutritional and Metabolic DiseasesOccupational DiseasesOtorhinolaryngologic DiseasesPathological Conditions, Signs and SymptomsRespiratory Tract DiseasesSkin and Connective Tissue DiseasesStomatognathic DiseasesSubstance-Related DisordersUrogenital DiseasesWounds and Injuries\", \"value\": 0.10574737679457555, \"mesh_tree_label_id\": \"C22C14C16C06C19C11C15C20C01C05C04C10C18C24C09C23C08C17C07C25C12C26\"}, {\"filter\": 2, \"year\": \"2024\", \"mesh_tree_label\": \"Animal DiseasesCardiovascular DiseasesCongenital, Hereditary, and Neonatal Diseases and AbnormalitiesDigestive System DiseasesEndocrine System DiseasesEye DiseasesHemic and Lymphatic DiseasesImmune System DiseasesInfectionsMusculoskeletal DiseasesNeoplasmsNervous System DiseasesNutritional and Metabolic DiseasesOccupational DiseasesOtorhinolaryngologic DiseasesPathological Conditions, Signs and SymptomsRespiratory Tract DiseasesSkin and Connective Tissue DiseasesStomatognathic DiseasesSubstance-Related DisordersUrogenital DiseasesWounds and Injuries\", \"value\": 0.10724651940768436, \"mesh_tree_label_id\": \"C22C14C16C06C19C11C15C20C01C05C04C10C18C24C09C23C08C17C07C25C12C26\"}, {\"filter\": 3, \"year\": \"2021\", \"mesh_tree_label\": \"Animal DiseasesCardiovascular DiseasesCongenital, Hereditary, and Neonatal Diseases and AbnormalitiesDigestive System DiseasesEndocrine System DiseasesEye DiseasesHemic and Lymphatic DiseasesImmune System DiseasesInfectionsMusculoskeletal DiseasesNeoplasmsNervous System DiseasesNutritional and Metabolic DiseasesOccupational DiseasesOtorhinolaryngologic DiseasesPathological Conditions, Signs and SymptomsRespiratory Tract DiseasesSkin and Connective Tissue DiseasesStomatognathic DiseasesSubstance-Related DisordersUrogenital DiseasesWounds and Injuries\", \"value\": 0.08268202385849445, \"mesh_tree_label_id\": \"C22C14C16C06C19C11C15C20C01C05C04C10C18C24C09C23C08C17C07C25C12C26\"}, {\"filter\": 3, \"year\": \"2022\", \"mesh_tree_label\": \"Animal DiseasesCardiovascular DiseasesCongenital, Hereditary, and Neonatal Diseases and AbnormalitiesDigestive System DiseasesEndocrine System DiseasesEye DiseasesHemic and Lymphatic DiseasesImmune System DiseasesInfectionsMusculoskeletal DiseasesNeoplasmsNervous System DiseasesNutritional and Metabolic DiseasesOccupational DiseasesOtorhinolaryngologic DiseasesPathological Conditions, Signs and SymptomsRespiratory Tract DiseasesSkin and Connective Tissue DiseasesStomatognathic DiseasesSubstance-Related DisordersUrogenital DiseasesWounds and Injuries\", \"value\": 0.12846212576552576, \"mesh_tree_label_id\": \"C22C14C16C06C19C11C15C20C01C05C04C10C18C24C09C23C08C17C07C25C12C26\"}, {\"filter\": 3, \"year\": \"2023\", \"mesh_tree_label\": \"Animal DiseasesCardiovascular DiseasesCongenital, Hereditary, and Neonatal Diseases and AbnormalitiesDigestive System DiseasesEndocrine System DiseasesEye DiseasesHemic and Lymphatic DiseasesImmune System DiseasesInfectionsMusculoskeletal DiseasesNeoplasmsNervous System DiseasesNutritional and Metabolic DiseasesOccupational DiseasesOtorhinolaryngologic DiseasesPathological Conditions, Signs and SymptomsRespiratory Tract DiseasesSkin and Connective Tissue DiseasesStomatognathic DiseasesSubstance-Related DisordersUrogenital DiseasesWounds and Injuries\", \"value\": 0.12859084232107648, \"mesh_tree_label_id\": \"C22C14C16C06C19C11C15C20C01C05C04C10C18C24C09C23C08C17C07C25C12C26\"}, {\"filter\": 3, \"year\": \"2024\", \"mesh_tree_label\": \"Animal DiseasesCardiovascular DiseasesCongenital, Hereditary, and Neonatal Diseases and AbnormalitiesDigestive System DiseasesEndocrine System DiseasesEye DiseasesHemic and Lymphatic DiseasesImmune System DiseasesInfectionsMusculoskeletal DiseasesNeoplasmsNervous System DiseasesNutritional and Metabolic DiseasesOccupational DiseasesOtorhinolaryngologic DiseasesPathological Conditions, Signs and SymptomsRespiratory Tract DiseasesSkin and Connective Tissue DiseasesStomatognathic DiseasesSubstance-Related DisordersUrogenital DiseasesWounds and Injuries\", \"value\": 0.12298727717822294, \"mesh_tree_label_id\": \"C22C14C16C06C19C11C15C20C01C05C04C10C18C24C09C23C08C17C07C25C12C26\"}, {\"filter\": \"Bioinformatics\", \"year\": \"2010\", \"mesh_tree_label\": \"NeoplasmsPathological Conditions, Signs and SymptomsDigestive System DiseasesNutritional and Metabolic DiseasesNervous System DiseasesCardiovascular DiseasesInfectionsCongenital, Hereditary, and Neonatal Diseases and AbnormalitiesMusculoskeletal DiseasesSubstance-Related DisordersAnimal DiseasesWounds and InjuriesHemic and Lymphatic DiseasesEye DiseasesUrogenital DiseasesStomatognathic DiseasesImmune System DiseasesRespiratory Tract DiseasesSkin and Connective Tissue DiseasesEndocrine System DiseasesOtorhinolaryngologic Diseases\", \"value\": 0.06697384423014337, \"mesh_tree_label_id\": \"C04C23C06C18C10C14C01C16C05C25C22C26C15C11C12C07C20C08C17C19C09\"}, {\"filter\": \"Bioinformatics\", \"year\": \"2011\", \"mesh_tree_label\": \"NeoplasmsPathological Conditions, Signs and SymptomsDigestive System DiseasesNutritional and Metabolic DiseasesNervous System DiseasesCardiovascular DiseasesInfectionsCongenital, Hereditary, and Neonatal Diseases and AbnormalitiesMusculoskeletal DiseasesSubstance-Related DisordersAnimal DiseasesWounds and InjuriesHemic and Lymphatic DiseasesEye DiseasesUrogenital DiseasesStomatognathic DiseasesImmune System DiseasesRespiratory Tract DiseasesSkin and Connective Tissue DiseasesEndocrine System DiseasesOtorhinolaryngologic Diseases\", \"value\": 0.07156051173291372, \"mesh_tree_label_id\": \"C04C23C06C18C10C14C01C16C05C25C22C26C15C11C12C07C20C08C17C19C09\"}, {\"filter\": \"Bioinformatics\", \"year\": \"2012\", \"mesh_tree_label\": \"NeoplasmsPathological Conditions, Signs and SymptomsDigestive System DiseasesNutritional and Metabolic DiseasesNervous System DiseasesCardiovascular DiseasesInfectionsCongenital, Hereditary, and Neonatal Diseases and AbnormalitiesMusculoskeletal DiseasesSubstance-Related DisordersAnimal DiseasesWounds and InjuriesHemic and Lymphatic DiseasesEye DiseasesUrogenital DiseasesStomatognathic DiseasesImmune System DiseasesRespiratory Tract DiseasesSkin and Connective Tissue DiseasesEndocrine System DiseasesOtorhinolaryngologic Diseases\", \"value\": 0.07105782691410316, \"mesh_tree_label_id\": \"C04C23C06C18C10C14C01C16C05C25C22C26C15C11C12C07C20C08C17C19C09\"}, {\"filter\": \"Bioinformatics\", \"year\": \"2013\", \"mesh_tree_label\": \"NeoplasmsPathological Conditions, Signs and SymptomsDigestive System DiseasesNutritional and Metabolic DiseasesNervous System DiseasesCardiovascular DiseasesInfectionsCongenital, Hereditary, and Neonatal Diseases and AbnormalitiesMusculoskeletal DiseasesSubstance-Related DisordersAnimal DiseasesWounds and InjuriesHemic and Lymphatic DiseasesEye DiseasesUrogenital DiseasesStomatognathic DiseasesImmune System DiseasesRespiratory Tract DiseasesSkin and Connective Tissue DiseasesEndocrine System DiseasesOtorhinolaryngologic Diseases\", \"value\": 0.07460589979709692, \"mesh_tree_label_id\": \"C04C23C06C18C10C14C01C16C05C25C22C26C15C11C12C07C20C08C17C19C09\"}, {\"filter\": \"Bioinformatics\", \"year\": \"2014\", \"mesh_tree_label\": \"NeoplasmsPathological Conditions, Signs and SymptomsDigestive System DiseasesNutritional and Metabolic DiseasesNervous System DiseasesCardiovascular DiseasesInfectionsCongenital, Hereditary, and Neonatal Diseases and AbnormalitiesMusculoskeletal DiseasesSubstance-Related DisordersAnimal DiseasesWounds and InjuriesHemic and Lymphatic DiseasesEye DiseasesUrogenital DiseasesStomatognathic DiseasesImmune System DiseasesRespiratory Tract DiseasesSkin and Connective Tissue DiseasesEndocrine System DiseasesOtorhinolaryngologic Diseases\", \"value\": 0.08044124131649523, \"mesh_tree_label_id\": \"C04C23C06C18C10C14C01C16C05C25C22C26C15C11C12C07C20C08C17C19C09\"}, {\"filter\": \"Bioinformatics\", \"year\": \"2015\", \"mesh_tree_label\": \"NeoplasmsPathological Conditions, Signs and SymptomsDigestive System DiseasesNutritional and Metabolic DiseasesNervous System DiseasesCardiovascular DiseasesInfectionsCongenital, Hereditary, and Neonatal Diseases and AbnormalitiesMusculoskeletal DiseasesSubstance-Related DisordersAnimal DiseasesWounds and InjuriesHemic and Lymphatic DiseasesEye DiseasesUrogenital DiseasesStomatognathic DiseasesImmune System DiseasesRespiratory Tract DiseasesSkin and Connective Tissue DiseasesEndocrine System DiseasesOtorhinolaryngologic Diseases\", \"value\": 0.08184171778284868, \"mesh_tree_label_id\": \"C04C23C06C18C10C14C01C16C05C25C22C26C15C11C12C07C20C08C17C19C09\"}, {\"filter\": \"Bioinformatics\", \"year\": \"2016\", \"mesh_tree_label\": \"NeoplasmsPathological Conditions, Signs and SymptomsDigestive System DiseasesNutritional and Metabolic DiseasesNervous System DiseasesCardiovascular DiseasesInfectionsCongenital, Hereditary, and Neonatal Diseases and AbnormalitiesMusculoskeletal DiseasesSubstance-Related DisordersAnimal DiseasesWounds and InjuriesHemic and Lymphatic DiseasesEye DiseasesUrogenital DiseasesStomatognathic DiseasesImmune System DiseasesRespiratory Tract DiseasesSkin and Connective Tissue DiseasesEndocrine System DiseasesOtorhinolaryngologic Diseases\", \"value\": 0.08285583390323416, \"mesh_tree_label_id\": \"C04C23C06C18C10C14C01C16C05C25C22C26C15C11C12C07C20C08C17C19C09\"}, {\"filter\": \"Bioinformatics\", \"year\": \"2017\", \"mesh_tree_label\": \"NeoplasmsPathological Conditions, Signs and SymptomsDigestive System DiseasesNutritional and Metabolic DiseasesNervous System DiseasesCardiovascular DiseasesInfectionsCongenital, Hereditary, and Neonatal Diseases and AbnormalitiesMusculoskeletal DiseasesSubstance-Related DisordersAnimal DiseasesWounds and InjuriesHemic and Lymphatic DiseasesEye DiseasesUrogenital DiseasesStomatognathic DiseasesImmune System DiseasesRespiratory Tract DiseasesSkin and Connective Tissue DiseasesEndocrine System DiseasesOtorhinolaryngologic Diseases\", \"value\": 0.0861049194100231, \"mesh_tree_label_id\": \"C04C23C06C18C10C14C01C16C05C25C22C26C15C11C12C07C20C08C17C19C09\"}, {\"filter\": \"Bioinformatics\", \"year\": \"2018\", \"mesh_tree_label\": \"NeoplasmsPathological Conditions, Signs and SymptomsDigestive System DiseasesNutritional and Metabolic DiseasesNervous System DiseasesCardiovascular DiseasesInfectionsCongenital, Hereditary, and Neonatal Diseases and AbnormalitiesMusculoskeletal DiseasesSubstance-Related DisordersAnimal DiseasesWounds and InjuriesHemic and Lymphatic DiseasesEye DiseasesUrogenital DiseasesStomatognathic DiseasesImmune System DiseasesRespiratory Tract DiseasesSkin and Connective Tissue DiseasesEndocrine System DiseasesOtorhinolaryngologic Diseases\", \"value\": 0.08747039903863146, \"mesh_tree_label_id\": \"C04C23C06C18C10C14C01C16C05C25C22C26C15C11C12C07C20C08C17C19C09\"}, {\"filter\": \"Bioinformatics\", \"year\": \"2019\", \"mesh_tree_label\": \"NeoplasmsPathological Conditions, Signs and SymptomsDigestive System DiseasesNutritional and Metabolic DiseasesNervous System DiseasesCardiovascular DiseasesInfectionsCongenital, Hereditary, and Neonatal Diseases and AbnormalitiesMusculoskeletal DiseasesSubstance-Related DisordersAnimal DiseasesWounds and InjuriesHemic and Lymphatic DiseasesEye DiseasesUrogenital DiseasesStomatognathic DiseasesImmune System DiseasesRespiratory Tract DiseasesSkin and Connective Tissue DiseasesEndocrine System DiseasesOtorhinolaryngologic Diseases\", \"value\": 0.09318132153810217, \"mesh_tree_label_id\": \"C04C23C06C18C10C14C01C16C05C25C22C26C15C11C12C07C20C08C17C19C09\"}, {\"filter\": \"Bioinformatics\", \"year\": \"2020\", \"mesh_tree_label\": \"NeoplasmsPathological Conditions, Signs and SymptomsDigestive System DiseasesNutritional and Metabolic DiseasesNervous System DiseasesCardiovascular DiseasesInfectionsCongenital, Hereditary, and Neonatal Diseases and AbnormalitiesMusculoskeletal DiseasesSubstance-Related DisordersAnimal DiseasesWounds and InjuriesHemic and Lymphatic DiseasesEye DiseasesUrogenital DiseasesStomatognathic DiseasesImmune System DiseasesRespiratory Tract DiseasesSkin and Connective Tissue DiseasesEndocrine System DiseasesOtorhinolaryngologic Diseases\", \"value\": 0.10031499191236981, \"mesh_tree_label_id\": \"C04C23C06C18C10C14C01C16C05C25C22C26C15C11C12C07C20C08C17C19C09\"}, {\"filter\": \"Bioinformatics\", \"year\": \"2021\", \"mesh_tree_label\": \"NeoplasmsPathological Conditions, Signs and SymptomsDigestive System DiseasesNutritional and Metabolic DiseasesNervous System DiseasesCardiovascular DiseasesInfectionsCongenital, Hereditary, and Neonatal Diseases and AbnormalitiesMusculoskeletal DiseasesSubstance-Related DisordersAnimal DiseasesWounds and InjuriesHemic and Lymphatic DiseasesEye DiseasesUrogenital DiseasesStomatognathic DiseasesImmune System DiseasesRespiratory Tract DiseasesSkin and Connective Tissue DiseasesEndocrine System DiseasesOtorhinolaryngologic Diseases\", \"value\": 0.10367832672196177, \"mesh_tree_label_id\": \"C04C23C06C18C10C14C01C16C05C25C22C26C15C11C12C07C20C08C17C19C09\"}, {\"filter\": \"Bioinformatics\", \"year\": \"2022\", \"mesh_tree_label\": \"NeoplasmsPathological Conditions, Signs and SymptomsDigestive System DiseasesNutritional and Metabolic DiseasesNervous System DiseasesCardiovascular DiseasesInfectionsCongenital, Hereditary, and Neonatal Diseases and AbnormalitiesMusculoskeletal DiseasesSubstance-Related DisordersAnimal DiseasesWounds and InjuriesHemic and Lymphatic DiseasesEye DiseasesUrogenital DiseasesStomatognathic DiseasesImmune System DiseasesRespiratory Tract DiseasesSkin and Connective Tissue DiseasesEndocrine System DiseasesOtorhinolaryngologic Diseases\", \"value\": 0.13317119986040526, \"mesh_tree_label_id\": \"C04C23C06C18C10C14C01C16C05C25C22C26C15C11C12C07C20C08C17C19C09\"}, {\"filter\": \"Bioinformatics\", \"year\": \"2023\", \"mesh_tree_label\": \"NeoplasmsPathological Conditions, Signs and SymptomsDigestive System DiseasesNutritional and Metabolic DiseasesNervous System DiseasesCardiovascular DiseasesInfectionsCongenital, Hereditary, and Neonatal Diseases and AbnormalitiesMusculoskeletal DiseasesSubstance-Related DisordersAnimal DiseasesWounds and InjuriesHemic and Lymphatic DiseasesEye DiseasesUrogenital DiseasesStomatognathic DiseasesImmune System DiseasesRespiratory Tract DiseasesSkin and Connective Tissue DiseasesEndocrine System DiseasesOtorhinolaryngologic Diseases\", \"value\": 0.1471476970973354, \"mesh_tree_label_id\": \"C04C23C06C18C10C14C01C16C05C25C22C26C15C11C12C07C20C08C17C19C09\"}, {\"filter\": \"Bioinformatics\", \"year\": \"2024\", \"mesh_tree_label\": \"NeoplasmsPathological Conditions, Signs and SymptomsDigestive System DiseasesNutritional and Metabolic DiseasesNervous System DiseasesCardiovascular DiseasesInfectionsCongenital, Hereditary, and Neonatal Diseases and AbnormalitiesMusculoskeletal DiseasesSubstance-Related DisordersAnimal DiseasesWounds and InjuriesHemic and Lymphatic DiseasesEye DiseasesUrogenital DiseasesStomatognathic DiseasesImmune System DiseasesRespiratory Tract DiseasesSkin and Connective Tissue DiseasesEndocrine System DiseasesOtorhinolaryngologic Diseases\", \"value\": 0.14291217257318953, \"mesh_tree_label_id\": \"C04C23C06C18C10C14C01C16C05C25C22C26C15C11C12C07C20C08C17C19C09\"}, {\"filter\": \"Protein Design\", \"year\": \"2010\", \"mesh_tree_label\": \"InfectionsPathological Conditions, Signs and SymptomsNervous System DiseasesNeoplasmsMusculoskeletal DiseasesUrogenital DiseasesSubstance-Related DisordersNutritional and Metabolic DiseasesCongenital, Hereditary, and Neonatal Diseases and AbnormalitiesCardiovascular DiseasesEye DiseasesAnimal DiseasesImmune System DiseasesDigestive System DiseasesWounds and InjuriesEndocrine System DiseasesRespiratory Tract DiseasesHemic and Lymphatic DiseasesStomatognathic DiseasesSkin and Connective Tissue DiseasesOtorhinolaryngologic Diseases\", \"value\": 0.012902739002490003, \"mesh_tree_label_id\": \"C01C23C10C04C05C12C25C18C16C14C11C22C20C06C26C19C08C15C07C17C09\"}, {\"filter\": \"Protein Design\", \"year\": \"2011\", \"mesh_tree_label\": \"InfectionsPathological Conditions, Signs and SymptomsNervous System DiseasesNeoplasmsMusculoskeletal DiseasesUrogenital DiseasesSubstance-Related DisordersNutritional and Metabolic DiseasesCongenital, Hereditary, and Neonatal Diseases and AbnormalitiesCardiovascular DiseasesEye DiseasesAnimal DiseasesImmune System DiseasesDigestive System DiseasesWounds and InjuriesEndocrine System DiseasesRespiratory Tract DiseasesHemic and Lymphatic DiseasesStomatognathic DiseasesSkin and Connective Tissue DiseasesOtorhinolaryngologic Diseases\", \"value\": 0.01585880547384576, \"mesh_tree_label_id\": \"C01C23C10C04C05C12C25C18C16C14C11C22C20C06C26C19C08C15C07C17C09\"}, {\"filter\": \"Protein Design\", \"year\": \"2012\", \"mesh_tree_label\": \"InfectionsPathological Conditions, Signs and SymptomsNervous System DiseasesNeoplasmsMusculoskeletal DiseasesUrogenital DiseasesSubstance-Related DisordersNutritional and Metabolic DiseasesCongenital, Hereditary, and Neonatal Diseases and AbnormalitiesCardiovascular DiseasesEye DiseasesAnimal DiseasesImmune System DiseasesDigestive System DiseasesWounds and InjuriesEndocrine System DiseasesRespiratory Tract DiseasesHemic and Lymphatic DiseasesStomatognathic DiseasesSkin and Connective Tissue DiseasesOtorhinolaryngologic Diseases\", \"value\": 0.011329113924050633, \"mesh_tree_label_id\": \"C01C23C10C04C05C12C25C18C16C14C11C22C20C06C26C19C08C15C07C17C09\"}, {\"filter\": \"Protein Design\", \"year\": \"2013\", \"mesh_tree_label\": \"InfectionsPathological Conditions, Signs and SymptomsNervous System DiseasesNeoplasmsMusculoskeletal DiseasesUrogenital DiseasesSubstance-Related DisordersNutritional and Metabolic DiseasesCongenital, Hereditary, and Neonatal Diseases and AbnormalitiesCardiovascular DiseasesEye DiseasesAnimal DiseasesImmune System DiseasesDigestive System DiseasesWounds and InjuriesEndocrine System DiseasesRespiratory Tract DiseasesHemic and Lymphatic DiseasesStomatognathic DiseasesSkin and Connective Tissue DiseasesOtorhinolaryngologic Diseases\", \"value\": 0.013154597845151592, \"mesh_tree_label_id\": \"C01C23C10C04C05C12C25C18C16C14C11C22C20C06C26C19C08C15C07C17C09\"}, {\"filter\": \"Protein Design\", \"year\": \"2014\", \"mesh_tree_label\": \"InfectionsPathological Conditions, Signs and SymptomsNervous System DiseasesNeoplasmsMusculoskeletal DiseasesUrogenital DiseasesSubstance-Related DisordersNutritional and Metabolic DiseasesCongenital, Hereditary, and Neonatal Diseases and AbnormalitiesCardiovascular DiseasesEye DiseasesAnimal DiseasesImmune System DiseasesDigestive System DiseasesWounds and InjuriesEndocrine System DiseasesRespiratory Tract DiseasesHemic and Lymphatic DiseasesStomatognathic DiseasesSkin and Connective Tissue DiseasesOtorhinolaryngologic Diseases\", \"value\": 0.011452368558042686, \"mesh_tree_label_id\": \"C01C23C10C04C05C12C25C18C16C14C11C22C20C06C26C19C08C15C07C17C09\"}, {\"filter\": \"Protein Design\", \"year\": \"2015\", \"mesh_tree_label\": \"InfectionsPathological Conditions, Signs and SymptomsNervous System DiseasesNeoplasmsMusculoskeletal DiseasesUrogenital DiseasesSubstance-Related DisordersNutritional and Metabolic DiseasesCongenital, Hereditary, and Neonatal Diseases and AbnormalitiesCardiovascular DiseasesEye DiseasesAnimal DiseasesImmune System DiseasesDigestive System DiseasesWounds and InjuriesEndocrine System DiseasesRespiratory Tract DiseasesHemic and Lymphatic DiseasesStomatognathic DiseasesSkin and Connective Tissue DiseasesOtorhinolaryngologic Diseases\", \"value\": 0.011804065143289988, \"mesh_tree_label_id\": \"C01C23C10C04C05C12C25C18C16C14C11C22C20C06C26C19C08C15C07C17C09\"}, {\"filter\": \"Protein Design\", \"year\": \"2016\", \"mesh_tree_label\": \"InfectionsPathological Conditions, Signs and SymptomsNervous System DiseasesNeoplasmsMusculoskeletal DiseasesUrogenital DiseasesSubstance-Related DisordersNutritional and Metabolic DiseasesCongenital, Hereditary, and Neonatal Diseases and AbnormalitiesCardiovascular DiseasesEye DiseasesAnimal DiseasesImmune System DiseasesDigestive System DiseasesWounds and InjuriesEndocrine System DiseasesRespiratory Tract DiseasesHemic and Lymphatic DiseasesStomatognathic DiseasesSkin and Connective Tissue DiseasesOtorhinolaryngologic Diseases\", \"value\": 0.012571756601607347, \"mesh_tree_label_id\": \"C01C23C10C04C05C12C25C18C16C14C11C22C20C06C26C19C08C15C07C17C09\"}, {\"filter\": \"Protein Design\", \"year\": \"2017\", \"mesh_tree_label\": \"InfectionsPathological Conditions, Signs and SymptomsNervous System DiseasesNeoplasmsMusculoskeletal DiseasesUrogenital DiseasesSubstance-Related DisordersNutritional and Metabolic DiseasesCongenital, Hereditary, and Neonatal Diseases and AbnormalitiesCardiovascular DiseasesEye DiseasesAnimal DiseasesImmune System DiseasesDigestive System DiseasesWounds and InjuriesEndocrine System DiseasesRespiratory Tract DiseasesHemic and Lymphatic DiseasesStomatognathic DiseasesSkin and Connective Tissue DiseasesOtorhinolaryngologic Diseases\", \"value\": 0.013129770992366412, \"mesh_tree_label_id\": \"C01C23C10C04C05C12C25C18C16C14C11C22C20C06C26C19C08C15C07C17C09\"}, {\"filter\": \"Protein Design\", \"year\": \"2018\", \"mesh_tree_label\": \"InfectionsPathological Conditions, Signs and SymptomsNervous System DiseasesNeoplasmsMusculoskeletal DiseasesUrogenital DiseasesSubstance-Related DisordersNutritional and Metabolic DiseasesCongenital, Hereditary, and Neonatal Diseases and AbnormalitiesCardiovascular DiseasesEye DiseasesAnimal DiseasesImmune System DiseasesDigestive System DiseasesWounds and InjuriesEndocrine System DiseasesRespiratory Tract DiseasesHemic and Lymphatic DiseasesStomatognathic DiseasesSkin and Connective Tissue DiseasesOtorhinolaryngologic Diseases\", \"value\": 0.014454277286135693, \"mesh_tree_label_id\": \"C01C23C10C04C05C12C25C18C16C14C11C22C20C06C26C19C08C15C07C17C09\"}, {\"filter\": \"Protein Design\", \"year\": \"2019\", \"mesh_tree_label\": \"InfectionsPathological Conditions, Signs and SymptomsNervous System DiseasesNeoplasmsMusculoskeletal DiseasesUrogenital DiseasesSubstance-Related DisordersNutritional and Metabolic DiseasesCongenital, Hereditary, and Neonatal Diseases and AbnormalitiesCardiovascular DiseasesEye DiseasesAnimal DiseasesImmune System DiseasesDigestive System DiseasesWounds and InjuriesEndocrine System DiseasesRespiratory Tract DiseasesHemic and Lymphatic DiseasesStomatognathic DiseasesSkin and Connective Tissue DiseasesOtorhinolaryngologic Diseases\", \"value\": 0.016200480951778257, \"mesh_tree_label_id\": \"C01C23C10C04C05C12C25C18C16C14C11C22C20C06C26C19C08C15C07C17C09\"}, {\"filter\": \"Protein Design\", \"year\": \"2020\", \"mesh_tree_label\": \"InfectionsPathological Conditions, Signs and SymptomsNervous System DiseasesNeoplasmsMusculoskeletal DiseasesUrogenital DiseasesSubstance-Related DisordersNutritional and Metabolic DiseasesCongenital, Hereditary, and Neonatal Diseases and AbnormalitiesCardiovascular DiseasesEye DiseasesAnimal DiseasesImmune System DiseasesDigestive System DiseasesWounds and InjuriesEndocrine System DiseasesRespiratory Tract DiseasesHemic and Lymphatic DiseasesStomatognathic DiseasesSkin and Connective Tissue DiseasesOtorhinolaryngologic Diseases\", \"value\": 0.021528002589834897, \"mesh_tree_label_id\": \"C01C23C10C04C05C12C25C18C16C14C11C22C20C06C26C19C08C15C07C17C09\"}, {\"filter\": \"Protein Design\", \"year\": \"2021\", \"mesh_tree_label\": \"InfectionsPathological Conditions, Signs and SymptomsNervous System DiseasesNeoplasmsMusculoskeletal DiseasesUrogenital DiseasesSubstance-Related DisordersNutritional and Metabolic DiseasesCongenital, Hereditary, and Neonatal Diseases and AbnormalitiesCardiovascular DiseasesEye DiseasesAnimal DiseasesImmune System DiseasesDigestive System DiseasesWounds and InjuriesEndocrine System DiseasesRespiratory Tract DiseasesHemic and Lymphatic DiseasesStomatognathic DiseasesSkin and Connective Tissue DiseasesOtorhinolaryngologic Diseases\", \"value\": 0.020080321285140562, \"mesh_tree_label_id\": \"C01C23C10C04C05C12C25C18C16C14C11C22C20C06C26C19C08C15C07C17C09\"}, {\"filter\": \"Protein Design\", \"year\": \"2022\", \"mesh_tree_label\": \"InfectionsPathological Conditions, Signs and SymptomsNervous System DiseasesNeoplasmsMusculoskeletal DiseasesUrogenital DiseasesSubstance-Related DisordersNutritional and Metabolic DiseasesCongenital, Hereditary, and Neonatal Diseases and AbnormalitiesCardiovascular DiseasesEye DiseasesAnimal DiseasesImmune System DiseasesDigestive System DiseasesWounds and InjuriesEndocrine System DiseasesRespiratory Tract DiseasesHemic and Lymphatic DiseasesStomatognathic DiseasesSkin and Connective Tissue DiseasesOtorhinolaryngologic Diseases\", \"value\": 0.023348017621145377, \"mesh_tree_label_id\": \"C01C23C10C04C05C12C25C18C16C14C11C22C20C06C26C19C08C15C07C17C09\"}, {\"filter\": \"Protein Design\", \"year\": \"2023\", \"mesh_tree_label\": \"InfectionsPathological Conditions, Signs and SymptomsNervous System DiseasesNeoplasmsMusculoskeletal DiseasesUrogenital DiseasesSubstance-Related DisordersNutritional and Metabolic DiseasesCongenital, Hereditary, and Neonatal Diseases and AbnormalitiesCardiovascular DiseasesEye DiseasesAnimal DiseasesImmune System DiseasesDigestive System DiseasesWounds and InjuriesEndocrine System DiseasesRespiratory Tract DiseasesHemic and Lymphatic DiseasesStomatognathic DiseasesSkin and Connective Tissue DiseasesOtorhinolaryngologic Diseases\", \"value\": 0.02919825778351347, \"mesh_tree_label_id\": \"C01C23C10C04C05C12C25C18C16C14C11C22C20C06C26C19C08C15C07C17C09\"}, {\"filter\": \"Protein Design\", \"year\": \"2024\", \"mesh_tree_label\": \"InfectionsPathological Conditions, Signs and SymptomsNervous System DiseasesNeoplasmsMusculoskeletal DiseasesUrogenital DiseasesSubstance-Related DisordersNutritional and Metabolic DiseasesCongenital, Hereditary, and Neonatal Diseases and AbnormalitiesCardiovascular DiseasesEye DiseasesAnimal DiseasesImmune System DiseasesDigestive System DiseasesWounds and InjuriesEndocrine System DiseasesRespiratory Tract DiseasesHemic and Lymphatic DiseasesStomatognathic DiseasesSkin and Connective Tissue DiseasesOtorhinolaryngologic Diseases\", \"value\": 0.035830618892508145, \"mesh_tree_label_id\": \"C01C23C10C04C05C12C25C18C16C14C11C22C20C06C26C19C08C15C07C17C09\"}, {\"filter\": \"Structural Biology\", \"year\": \"2010\", \"mesh_tree_label\": \"Pathological Conditions, Signs and SymptomsNutritional and Metabolic DiseasesNeoplasmsInfectionsNervous System DiseasesAnimal DiseasesMusculoskeletal DiseasesCongenital, Hereditary, and Neonatal Diseases and AbnormalitiesSubstance-Related DisordersDigestive System DiseasesCardiovascular DiseasesImmune System DiseasesEye DiseasesHemic and Lymphatic DiseasesSkin and Connective Tissue DiseasesRespiratory Tract DiseasesUrogenital DiseasesOtorhinolaryngologic DiseasesStomatognathic DiseasesEndocrine System DiseasesWounds and Injuries\", \"value\": 0.016107558739147557, \"mesh_tree_label_id\": \"C23C18C04C01C10C22C05C16C25C06C14C20C11C15C17C08C12C09C07C19C26\"}, {\"filter\": \"Structural Biology\", \"year\": \"2011\", \"mesh_tree_label\": \"Pathological Conditions, Signs and SymptomsNutritional and Metabolic DiseasesNeoplasmsInfectionsNervous System DiseasesAnimal DiseasesMusculoskeletal DiseasesCongenital, Hereditary, and Neonatal Diseases and AbnormalitiesSubstance-Related DisordersDigestive System DiseasesCardiovascular DiseasesImmune System DiseasesEye DiseasesHemic and Lymphatic DiseasesSkin and Connective Tissue DiseasesRespiratory Tract DiseasesUrogenital DiseasesOtorhinolaryngologic DiseasesStomatognathic DiseasesEndocrine System DiseasesWounds and Injuries\", \"value\": 0.016121293541886576, \"mesh_tree_label_id\": \"C23C18C04C01C10C22C05C16C25C06C14C20C11C15C17C08C12C09C07C19C26\"}, {\"filter\": \"Structural Biology\", \"year\": \"2012\", \"mesh_tree_label\": \"Pathological Conditions, Signs and SymptomsNutritional and Metabolic DiseasesNeoplasmsInfectionsNervous System DiseasesAnimal DiseasesMusculoskeletal DiseasesCongenital, Hereditary, and Neonatal Diseases and AbnormalitiesSubstance-Related DisordersDigestive System DiseasesCardiovascular DiseasesImmune System DiseasesEye DiseasesHemic and Lymphatic DiseasesSkin and Connective Tissue DiseasesRespiratory Tract DiseasesUrogenital DiseasesOtorhinolaryngologic DiseasesStomatognathic DiseasesEndocrine System DiseasesWounds and Injuries\", \"value\": 0.016182228479950624, \"mesh_tree_label_id\": \"C23C18C04C01C10C22C05C16C25C06C14C20C11C15C17C08C12C09C07C19C26\"}, {\"filter\": \"Structural Biology\", \"year\": \"2013\", \"mesh_tree_label\": \"Pathological Conditions, Signs and SymptomsNutritional and Metabolic DiseasesNeoplasmsInfectionsNervous System DiseasesAnimal DiseasesMusculoskeletal DiseasesCongenital, Hereditary, and Neonatal Diseases and AbnormalitiesSubstance-Related DisordersDigestive System DiseasesCardiovascular DiseasesImmune System DiseasesEye DiseasesHemic and Lymphatic DiseasesSkin and Connective Tissue DiseasesRespiratory Tract DiseasesUrogenital DiseasesOtorhinolaryngologic DiseasesStomatognathic DiseasesEndocrine System DiseasesWounds and Injuries\", \"value\": 0.016919157542638223, \"mesh_tree_label_id\": \"C23C18C04C01C10C22C05C16C25C06C14C20C11C15C17C08C12C09C07C19C26\"}, {\"filter\": \"Structural Biology\", \"year\": \"2014\", \"mesh_tree_label\": \"Pathological Conditions, Signs and SymptomsNutritional and Metabolic DiseasesNeoplasmsInfectionsNervous System DiseasesAnimal DiseasesMusculoskeletal DiseasesCongenital, Hereditary, and Neonatal Diseases and AbnormalitiesSubstance-Related DisordersDigestive System DiseasesCardiovascular DiseasesImmune System DiseasesEye DiseasesHemic and Lymphatic DiseasesSkin and Connective Tissue DiseasesRespiratory Tract DiseasesUrogenital DiseasesOtorhinolaryngologic DiseasesStomatognathic DiseasesEndocrine System DiseasesWounds and Injuries\", \"value\": 0.021352389536256143, \"mesh_tree_label_id\": \"C23C18C04C01C10C22C05C16C25C06C14C20C11C15C17C08C12C09C07C19C26\"}, {\"filter\": \"Structural Biology\", \"year\": \"2015\", \"mesh_tree_label\": \"Pathological Conditions, Signs and SymptomsNutritional and Metabolic DiseasesNeoplasmsInfectionsNervous System DiseasesAnimal DiseasesMusculoskeletal DiseasesCongenital, Hereditary, and Neonatal Diseases and AbnormalitiesSubstance-Related DisordersDigestive System DiseasesCardiovascular DiseasesImmune System DiseasesEye DiseasesHemic and Lymphatic DiseasesSkin and Connective Tissue DiseasesRespiratory Tract DiseasesUrogenital DiseasesOtorhinolaryngologic DiseasesStomatognathic DiseasesEndocrine System DiseasesWounds and Injuries\", \"value\": 0.021184760038263223, \"mesh_tree_label_id\": \"C23C18C04C01C10C22C05C16C25C06C14C20C11C15C17C08C12C09C07C19C26\"}, {\"filter\": \"Structural Biology\", \"year\": \"2016\", \"mesh_tree_label\": \"Pathological Conditions, Signs and SymptomsNutritional and Metabolic DiseasesNeoplasmsInfectionsNervous System DiseasesAnimal DiseasesMusculoskeletal DiseasesCongenital, Hereditary, and Neonatal Diseases and AbnormalitiesSubstance-Related DisordersDigestive System DiseasesCardiovascular DiseasesImmune System DiseasesEye DiseasesHemic and Lymphatic DiseasesSkin and Connective Tissue DiseasesRespiratory Tract DiseasesUrogenital DiseasesOtorhinolaryngologic DiseasesStomatognathic DiseasesEndocrine System DiseasesWounds and Injuries\", \"value\": 0.021376933640815693, \"mesh_tree_label_id\": \"C23C18C04C01C10C22C05C16C25C06C14C20C11C15C17C08C12C09C07C19C26\"}, {\"filter\": \"Structural Biology\", \"year\": \"2017\", \"mesh_tree_label\": \"Pathological Conditions, Signs and SymptomsNutritional and Metabolic DiseasesNeoplasmsInfectionsNervous System DiseasesAnimal DiseasesMusculoskeletal DiseasesCongenital, Hereditary, and Neonatal Diseases and AbnormalitiesSubstance-Related DisordersDigestive System DiseasesCardiovascular DiseasesImmune System DiseasesEye DiseasesHemic and Lymphatic DiseasesSkin and Connective Tissue DiseasesRespiratory Tract DiseasesUrogenital DiseasesOtorhinolaryngologic DiseasesStomatognathic DiseasesEndocrine System DiseasesWounds and Injuries\", \"value\": 0.022063452957761902, \"mesh_tree_label_id\": \"C23C18C04C01C10C22C05C16C25C06C14C20C11C15C17C08C12C09C07C19C26\"}, {\"filter\": \"Structural Biology\", \"year\": \"2018\", \"mesh_tree_label\": \"Pathological Conditions, Signs and SymptomsNutritional and Metabolic DiseasesNeoplasmsInfectionsNervous System DiseasesAnimal DiseasesMusculoskeletal DiseasesCongenital, Hereditary, and Neonatal Diseases and AbnormalitiesSubstance-Related DisordersDigestive System DiseasesCardiovascular DiseasesImmune System DiseasesEye DiseasesHemic and Lymphatic DiseasesSkin and Connective Tissue DiseasesRespiratory Tract DiseasesUrogenital DiseasesOtorhinolaryngologic DiseasesStomatognathic DiseasesEndocrine System DiseasesWounds and Injuries\", \"value\": 0.02356384708630222, \"mesh_tree_label_id\": \"C23C18C04C01C10C22C05C16C25C06C14C20C11C15C17C08C12C09C07C19C26\"}, {\"filter\": \"Structural Biology\", \"year\": \"2019\", \"mesh_tree_label\": \"Pathological Conditions, Signs and SymptomsNutritional and Metabolic DiseasesNeoplasmsInfectionsNervous System DiseasesAnimal DiseasesMusculoskeletal DiseasesCongenital, Hereditary, and Neonatal Diseases and AbnormalitiesSubstance-Related DisordersDigestive System DiseasesCardiovascular DiseasesImmune System DiseasesEye DiseasesHemic and Lymphatic DiseasesSkin and Connective Tissue DiseasesRespiratory Tract DiseasesUrogenital DiseasesOtorhinolaryngologic DiseasesStomatognathic DiseasesEndocrine System DiseasesWounds and Injuries\", \"value\": 0.026263173946931444, \"mesh_tree_label_id\": \"C23C18C04C01C10C22C05C16C25C06C14C20C11C15C17C08C12C09C07C19C26\"}, {\"filter\": \"Structural Biology\", \"year\": \"2020\", \"mesh_tree_label\": \"Pathological Conditions, Signs and SymptomsNutritional and Metabolic DiseasesNeoplasmsInfectionsNervous System DiseasesAnimal DiseasesMusculoskeletal DiseasesCongenital, Hereditary, and Neonatal Diseases and AbnormalitiesSubstance-Related DisordersDigestive System DiseasesCardiovascular DiseasesImmune System DiseasesEye DiseasesHemic and Lymphatic DiseasesSkin and Connective Tissue DiseasesRespiratory Tract DiseasesUrogenital DiseasesOtorhinolaryngologic DiseasesStomatognathic DiseasesEndocrine System DiseasesWounds and Injuries\", \"value\": 0.03484050789718179, \"mesh_tree_label_id\": \"C23C18C04C01C10C22C05C16C25C06C14C20C11C15C17C08C12C09C07C19C26\"}, {\"filter\": \"Structural Biology\", \"year\": \"2021\", \"mesh_tree_label\": \"Pathological Conditions, Signs and SymptomsNutritional and Metabolic DiseasesNeoplasmsInfectionsNervous System DiseasesAnimal DiseasesMusculoskeletal DiseasesCongenital, Hereditary, and Neonatal Diseases and AbnormalitiesSubstance-Related DisordersDigestive System DiseasesCardiovascular DiseasesImmune System DiseasesEye DiseasesHemic and Lymphatic DiseasesSkin and Connective Tissue DiseasesRespiratory Tract DiseasesUrogenital DiseasesOtorhinolaryngologic DiseasesStomatognathic DiseasesEndocrine System DiseasesWounds and Injuries\", \"value\": 0.037541846006695356, \"mesh_tree_label_id\": \"C23C18C04C01C10C22C05C16C25C06C14C20C11C15C17C08C12C09C07C19C26\"}, {\"filter\": \"Structural Biology\", \"year\": \"2022\", \"mesh_tree_label\": \"Pathological Conditions, Signs and SymptomsNutritional and Metabolic DiseasesNeoplasmsInfectionsNervous System DiseasesAnimal DiseasesMusculoskeletal DiseasesCongenital, Hereditary, and Neonatal Diseases and AbnormalitiesSubstance-Related DisordersDigestive System DiseasesCardiovascular DiseasesImmune System DiseasesEye DiseasesHemic and Lymphatic DiseasesSkin and Connective Tissue DiseasesRespiratory Tract DiseasesUrogenital DiseasesOtorhinolaryngologic DiseasesStomatognathic DiseasesEndocrine System DiseasesWounds and Injuries\", \"value\": 0.04419693109781385, \"mesh_tree_label_id\": \"C23C18C04C01C10C22C05C16C25C06C14C20C11C15C17C08C12C09C07C19C26\"}, {\"filter\": \"Structural Biology\", \"year\": \"2023\", \"mesh_tree_label\": \"Pathological Conditions, Signs and SymptomsNutritional and Metabolic DiseasesNeoplasmsInfectionsNervous System DiseasesAnimal DiseasesMusculoskeletal DiseasesCongenital, Hereditary, and Neonatal Diseases and AbnormalitiesSubstance-Related DisordersDigestive System DiseasesCardiovascular DiseasesImmune System DiseasesEye DiseasesHemic and Lymphatic DiseasesSkin and Connective Tissue DiseasesRespiratory Tract DiseasesUrogenital DiseasesOtorhinolaryngologic DiseasesStomatognathic DiseasesEndocrine System DiseasesWounds and Injuries\", \"value\": 0.0535077288941736, \"mesh_tree_label_id\": \"C23C18C04C01C10C22C05C16C25C06C14C20C11C15C17C08C12C09C07C19C26\"}, {\"filter\": \"Structural Biology\", \"year\": \"2024\", \"mesh_tree_label\": \"Pathological Conditions, Signs and SymptomsNutritional and Metabolic DiseasesNeoplasmsInfectionsNervous System DiseasesAnimal DiseasesMusculoskeletal DiseasesCongenital, Hereditary, and Neonatal Diseases and AbnormalitiesSubstance-Related DisordersDigestive System DiseasesCardiovascular DiseasesImmune System DiseasesEye DiseasesHemic and Lymphatic DiseasesSkin and Connective Tissue DiseasesRespiratory Tract DiseasesUrogenital DiseasesOtorhinolaryngologic DiseasesStomatognathic DiseasesEndocrine System DiseasesWounds and Injuries\", \"value\": 0.04460966542750929, \"mesh_tree_label_id\": \"C23C18C04C01C10C22C05C16C25C06C14C20C11C15C17C08C12C09C07C19C26\"}]}}, {\"mode\": \"vega-lite\"});\n",
       "</script>"
      ],
      "text/plain": [
       "\u001b[1;35malt.LayerChart\u001b[0m\u001b[1m(\u001b[0m\u001b[33m...\u001b[0m\u001b[1m)\u001b[0m"
      ]
     },
     "execution_count": 34,
     "metadata": {},
     "output_type": "execute_result"
    }
   ],
   "source": [
    "# make an altair line and dot plot with the yearly proportions for each level and all three subfields. Aggreggate across disease areas\n",
    "line = (\n",
    "    alt.Chart(\n",
    "        dta\n",
    "    )\n",
    "    .mark_line()\n",
    "    .encode(\n",
    "        x=alt.X(\"year:T\", title=\"Year\"),\n",
    "        y=alt.Y(\"value:Q\", title=\"Proportion\"),\n",
    "        color=alt.Color(\"filter:N\", title=\"Subfield\"),\n",
    "        strokeDash=alt.StrokeDash(\"filter:N\", title=\"Subfield\", legend=None),\n",
    "    )\n",
    ")\n",
    "\n",
    "dot = (\n",
    "    alt.Chart(\n",
    "        dta\n",
    "    )\n",
    "    .mark_circle()\n",
    "    .encode(\n",
    "        x=alt.X(\"year:T\", title=\"Year\"),\n",
    "        y=alt.Y(\"value:Q\", title=\"Proportion\"),\n",
    "        color=alt.Color(\"filter:N\", title=\"Subfield\"),\n",
    "    )\n",
    ")\n",
    "\n",
    "line + dot"
   ]
  },
  {
   "cell_type": "markdown",
   "metadata": {},
   "source": [
    "How does publication activity of papers that cite or are influenced by AF vary by disease area in comparison to the SB baseline?"
   ]
  },
  {
   "cell_type": "code",
   "execution_count": 35,
   "metadata": {},
   "outputs": [
    {
     "data": {
      "text/html": [
       "<pre style=\"white-space:pre;overflow-x:auto;line-height:normal;font-family:Menlo,'DejaVu Sans Mono',consolas,'Courier New',monospace\"></pre>\n"
      ],
      "text/plain": []
     },
     "metadata": {},
     "output_type": "display_data"
    },
    {
     "data": {
      "text/html": [
       "\n",
       "<div id=\"altair-viz-34c5bfb128fd4d12a7e5d4d7056fa833\"></div>\n",
       "<script type=\"text/javascript\">\n",
       "  var VEGA_DEBUG = (typeof VEGA_DEBUG == \"undefined\") ? {} : VEGA_DEBUG;\n",
       "  (function(spec, embedOpt){\n",
       "    let outputDiv = document.currentScript.previousElementSibling;\n",
       "    if (outputDiv.id !== \"altair-viz-34c5bfb128fd4d12a7e5d4d7056fa833\") {\n",
       "      outputDiv = document.getElementById(\"altair-viz-34c5bfb128fd4d12a7e5d4d7056fa833\");\n",
       "    }\n",
       "    const paths = {\n",
       "      \"vega\": \"https://cdn.jsdelivr.net/npm//vega@5?noext\",\n",
       "      \"vega-lib\": \"https://cdn.jsdelivr.net/npm//vega-lib?noext\",\n",
       "      \"vega-lite\": \"https://cdn.jsdelivr.net/npm//vega-lite@4.17.0?noext\",\n",
       "      \"vega-embed\": \"https://cdn.jsdelivr.net/npm//vega-embed@6?noext\",\n",
       "    };\n",
       "\n",
       "    function maybeLoadScript(lib, version) {\n",
       "      var key = `${lib.replace(\"-\", \"\")}_version`;\n",
       "      return (VEGA_DEBUG[key] == version) ?\n",
       "        Promise.resolve(paths[lib]) :\n",
       "        new Promise(function(resolve, reject) {\n",
       "          var s = document.createElement('script');\n",
       "          document.getElementsByTagName(\"head\")[0].appendChild(s);\n",
       "          s.async = true;\n",
       "          s.onload = () => {\n",
       "            VEGA_DEBUG[key] = version;\n",
       "            return resolve(paths[lib]);\n",
       "          };\n",
       "          s.onerror = () => reject(`Error loading script: ${paths[lib]}`);\n",
       "          s.src = paths[lib];\n",
       "        });\n",
       "    }\n",
       "\n",
       "    function showError(err) {\n",
       "      outputDiv.innerHTML = `<div class=\"error\" style=\"color:red;\">${err}</div>`;\n",
       "      throw err;\n",
       "    }\n",
       "\n",
       "    function displayChart(vegaEmbed) {\n",
       "      vegaEmbed(outputDiv, spec, embedOpt)\n",
       "        .catch(err => showError(`Javascript Error: ${err.message}<br>This usually means there's a typo in your chart specification. See the javascript console for the full traceback.`));\n",
       "    }\n",
       "\n",
       "    if(typeof define === \"function\" && define.amd) {\n",
       "      requirejs.config({paths});\n",
       "      require([\"vega-embed\"], displayChart, err => showError(`Error loading script: ${err.message}`));\n",
       "    } else {\n",
       "      maybeLoadScript(\"vega\", \"5\")\n",
       "        .then(() => maybeLoadScript(\"vega-lite\", \"4.17.0\"))\n",
       "        .then(() => maybeLoadScript(\"vega-embed\", \"6\"))\n",
       "        .catch(showError)\n",
       "        .then(() => displayChart(vegaEmbed));\n",
       "    }\n",
       "  })({\"config\": {\"view\": {\"continuousWidth\": 400, \"continuousHeight\": 300}}, \"layer\": [{\"mark\": \"line\", \"encoding\": {\"color\": {\"field\": \"mesh_tree_label\", \"type\": \"nominal\"}, \"tooltip\": [{\"field\": \"level\", \"type\": \"quantitative\"}, {\"field\": \"mesh_tree_label\", \"type\": \"nominal\"}, {\"field\": \"value\", \"type\": \"quantitative\"}], \"x\": {\"axis\": {\"values\": [0, 1, 2, 3]}, \"field\": \"level\", \"type\": \"quantitative\"}, \"y\": {\"field\": \"value\", \"type\": \"quantitative\"}}}, {\"mark\": \"circle\", \"encoding\": {\"color\": {\"field\": \"mesh_tree_label\", \"type\": \"nominal\"}, \"tooltip\": [{\"field\": \"level\", \"type\": \"quantitative\"}, {\"field\": \"mesh_tree_label\", \"type\": \"nominal\"}, {\"field\": \"value\", \"type\": \"quantitative\"}], \"x\": {\"axis\": {\"values\": [0, 1, 2, 3]}, \"field\": \"level\", \"type\": \"quantitative\"}, \"y\": {\"field\": \"value\", \"type\": \"quantitative\"}}}], \"data\": {\"name\": \"data-56d1e2a4340483fd617f207b72d0caab\"}, \"title\": \"Proportion of each level for each mesh_tree_label\", \"$schema\": \"https://vega.github.io/schema/vega-lite/v4.17.0.json\", \"datasets\": {\"data-56d1e2a4340483fd617f207b72d0caab\": [{\"level\": 0, \"mesh_tree_label\": \"Animal Diseases\", \"value\": 0.0008652748628447292, \"mesh_tree_label_id\": \"C22\"}, {\"level\": 1, \"mesh_tree_label\": \"Animal Diseases\", \"value\": 0.0013647995450668184, \"mesh_tree_label_id\": \"C22\"}, {\"level\": 2, \"mesh_tree_label\": \"Animal Diseases\", \"value\": 0.0018500470206035736, \"mesh_tree_label_id\": \"C22\"}, {\"level\": 3, \"mesh_tree_label\": \"Animal Diseases\", \"value\": 0.0018613402224977632, \"mesh_tree_label_id\": \"C22\"}, {\"level\": 0, \"mesh_tree_label\": \"Cardiovascular Diseases\", \"value\": 0.001288707242534703, \"mesh_tree_label_id\": \"C14\"}, {\"level\": 1, \"mesh_tree_label\": \"Cardiovascular Diseases\", \"value\": 0.002432628818753357, \"mesh_tree_label_id\": \"C14\"}, {\"level\": 2, \"mesh_tree_label\": \"Cardiovascular Diseases\", \"value\": 0.003758228605625374, \"mesh_tree_label_id\": \"C14\"}, {\"level\": 3, \"mesh_tree_label\": \"Cardiovascular Diseases\", \"value\": 0.004295179215130078, \"mesh_tree_label_id\": \"C14\"}, {\"level\": 0, \"mesh_tree_label\": \"Congenital, Hereditary, and Neonatal Diseases and Abnormalities\", \"value\": 0.0011782466217460142, \"mesh_tree_label_id\": \"C16\"}, {\"level\": 1, \"mesh_tree_label\": \"Congenital, Hereditary, and Neonatal Diseases and Abnormalities\", \"value\": 0.0010551922408618456, \"mesh_tree_label_id\": \"C16\"}, {\"level\": 2, \"mesh_tree_label\": \"Congenital, Hereditary, and Neonatal Diseases and Abnormalities\", \"value\": 0.0009643498332905873, \"mesh_tree_label_id\": \"C16\"}, {\"level\": 3, \"mesh_tree_label\": \"Congenital, Hereditary, and Neonatal Diseases and Abnormalities\", \"value\": 0.0007710033688244212, \"mesh_tree_label_id\": \"C16\"}, {\"level\": 0, \"mesh_tree_label\": \"Digestive System Diseases\", \"value\": 0.001012555690562981, \"mesh_tree_label_id\": \"C06\"}, {\"level\": 1, \"mesh_tree_label\": \"Digestive System Diseases\", \"value\": 0.0019018734401162606, \"mesh_tree_label_id\": \"C06\"}, {\"level\": 2, \"mesh_tree_label\": \"Digestive System Diseases\", \"value\": 0.0026741899632384374, \"mesh_tree_label_id\": \"C06\"}, {\"level\": 3, \"mesh_tree_label\": \"Digestive System Diseases\", \"value\": 0.003069629084088274, \"mesh_tree_label_id\": \"C06\"}, {\"level\": 0, \"mesh_tree_label\": \"Endocrine System Diseases\", \"value\": 0.00011046062078868883, \"mesh_tree_label_id\": \"C19\"}, {\"level\": 1, \"mesh_tree_label\": \"Endocrine System Diseases\", \"value\": 0.00012637032824692763, \"mesh_tree_label_id\": \"C19\"}, {\"level\": 2, \"mesh_tree_label\": \"Endocrine System Diseases\", \"value\": 0.0001778233735145764, \"mesh_tree_label_id\": \"C19\"}, {\"level\": 3, \"mesh_tree_label\": \"Endocrine System Diseases\", \"value\": 0.00022439650286680917, \"mesh_tree_label_id\": \"C19\"}, {\"level\": 0, \"mesh_tree_label\": \"Eye Diseases\", \"value\": 0.00125188703560514, \"mesh_tree_label_id\": \"C11\"}, {\"level\": 1, \"mesh_tree_label\": \"Eye Diseases\", \"value\": 0.0012447477332322371, \"mesh_tree_label_id\": \"C11\"}, {\"level\": 2, \"mesh_tree_label\": \"Eye Diseases\", \"value\": 0.0010224843977088142, \"mesh_tree_label_id\": \"C11\"}, {\"level\": 3, \"mesh_tree_label\": \"Eye Diseases\", \"value\": 0.0008256640554201825, \"mesh_tree_label_id\": \"C11\"}, {\"level\": 0, \"mesh_tree_label\": \"Hemic and Lymphatic Diseases\", \"value\": 0.0009020950697742921, \"mesh_tree_label_id\": \"C15\"}, {\"level\": 1, \"mesh_tree_label\": \"Hemic and Lymphatic Diseases\", \"value\": 0.0008277256500173759, \"mesh_tree_label_id\": \"C15\"}, {\"level\": 2, \"mesh_tree_label\": \"Hemic and Lymphatic Diseases\", \"value\": 0.0010259040779687098, \"mesh_tree_label_id\": \"C15\"}, {\"level\": 3, \"mesh_tree_label\": \"Hemic and Lymphatic Diseases\", \"value\": 0.001121982514334046, \"mesh_tree_label_id\": \"C15\"}, {\"level\": 0, \"mesh_tree_label\": \"Immune System Diseases\", \"value\": 0.0003866121727604109, \"mesh_tree_label_id\": \"C20\"}, {\"level\": 1, \"mesh_tree_label\": \"Immune System Diseases\", \"value\": 0.0006887182889457555, \"mesh_tree_label_id\": \"C20\"}, {\"level\": 2, \"mesh_tree_label\": \"Immune System Diseases\", \"value\": 0.0010737796016072497, \"mesh_tree_label_id\": \"C20\"}, {\"level\": 3, \"mesh_tree_label\": \"Immune System Diseases\", \"value\": 0.001242811400493097, \"mesh_tree_label_id\": \"C20\"}, {\"level\": 0, \"mesh_tree_label\": \"Infections\", \"value\": 0.012371589528333149, \"mesh_tree_label_id\": \"C01\"}, {\"level\": 1, \"mesh_tree_label\": \"Infections\", \"value\": 0.021742014974883896, \"mesh_tree_label_id\": \"C01\"}, {\"level\": 2, \"mesh_tree_label\": \"Infections\", \"value\": 0.03901513208515004, \"mesh_tree_label_id\": \"C01\"}, {\"level\": 3, \"mesh_tree_label\": \"Infections\", \"value\": 0.05575677720591831, \"mesh_tree_label_id\": \"C01\"}, {\"level\": 0, \"mesh_tree_label\": \"Musculoskeletal Diseases\", \"value\": 0.00187783055340771, \"mesh_tree_label_id\": \"C05\"}, {\"level\": 1, \"mesh_tree_label\": \"Musculoskeletal Diseases\", \"value\": 0.002186206678671848, \"mesh_tree_label_id\": \"C05\"}, {\"level\": 2, \"mesh_tree_label\": \"Musculoskeletal Diseases\", \"value\": 0.0022877660938702233, \"mesh_tree_label_id\": \"C05\"}, {\"level\": 3, \"mesh_tree_label\": \"Musculoskeletal Diseases\", \"value\": 0.002304379471747617, \"mesh_tree_label_id\": \"C05\"}, {\"level\": 0, \"mesh_tree_label\": \"Neoplasms\", \"value\": 0.008560698111123385, \"mesh_tree_label_id\": \"C04\"}, {\"level\": 1, \"mesh_tree_label\": \"Neoplasms\", \"value\": 0.016693520361419138, \"mesh_tree_label_id\": \"C04\"}, {\"level\": 2, \"mesh_tree_label\": \"Neoplasms\", \"value\": 0.02145507395058562, \"mesh_tree_label_id\": \"C04\"}, {\"level\": 3, \"mesh_tree_label\": \"Neoplasms\", \"value\": 0.023288329368036157, \"mesh_tree_label_id\": \"C04\"}, {\"level\": 0, \"mesh_tree_label\": \"Nervous System Diseases\", \"value\": 0.006553996833462204, \"mesh_tree_label_id\": \"C10\"}, {\"level\": 1, \"mesh_tree_label\": \"Nervous System Diseases\", \"value\": 0.009484093134931919, \"mesh_tree_label_id\": \"C10\"}, {\"level\": 2, \"mesh_tree_label\": \"Nervous System Diseases\", \"value\": 0.010878002906728221, \"mesh_tree_label_id\": \"C10\"}, {\"level\": 3, \"mesh_tree_label\": \"Nervous System Diseases\", \"value\": 0.010955152345087298, \"mesh_tree_label_id\": \"C10\"}, {\"level\": 0, \"mesh_tree_label\": \"Nutritional and Metabolic Diseases\", \"value\": 0.0015464486910416436, \"mesh_tree_label_id\": \"C18\"}, {\"level\": 1, \"mesh_tree_label\": \"Nutritional and Metabolic Diseases\", \"value\": 0.0029760212302151457, \"mesh_tree_label_id\": \"C18\"}, {\"level\": 2, \"mesh_tree_label\": \"Nutritional and Metabolic Diseases\", \"value\": 0.0036282807557493375, \"mesh_tree_label_id\": \"C18\"}, {\"level\": 3, \"mesh_tree_label\": \"Nutritional and Metabolic Diseases\", \"value\": 0.004148458424794088, \"mesh_tree_label_id\": \"C18\"}, {\"level\": 0, \"mesh_tree_label\": \"Occupational Diseases\", \"value\": 0.0, \"mesh_tree_label_id\": \"C24\"}, {\"level\": 1, \"mesh_tree_label\": \"Occupational Diseases\", \"value\": 0.0, \"mesh_tree_label_id\": \"C24\"}, {\"level\": 2, \"mesh_tree_label\": \"Occupational Diseases\", \"value\": 1.3678721039582799e-05, \"mesh_tree_label_id\": \"C24\"}, {\"level\": 3, \"mesh_tree_label\": \"Occupational Diseases\", \"value\": 4.60300518701147e-05, \"mesh_tree_label_id\": \"C24\"}, {\"level\": 0, \"mesh_tree_label\": \"Otorhinolaryngologic Diseases\", \"value\": 0.00062594351780257, \"mesh_tree_label_id\": \"C09\"}, {\"level\": 1, \"mesh_tree_label\": \"Otorhinolaryngologic Diseases\", \"value\": 0.0004928442801630178, \"mesh_tree_label_id\": \"C09\"}, {\"level\": 2, \"mesh_tree_label\": \"Otorhinolaryngologic Diseases\", \"value\": 0.00041378131144737966, \"mesh_tree_label_id\": \"C09\"}, {\"level\": 3, \"mesh_tree_label\": \"Otorhinolaryngologic Diseases\", \"value\": 0.000204258355173634, \"mesh_tree_label_id\": \"C09\"}, {\"level\": 0, \"mesh_tree_label\": \"Pathological Conditions, Signs and Symptoms\", \"value\": 0.0036636105894915128, \"mesh_tree_label_id\": \"C23\"}, {\"level\": 1, \"mesh_tree_label\": \"Pathological Conditions, Signs and Symptoms\", \"value\": 0.0061479164692130285, \"mesh_tree_label_id\": \"C23\"}, {\"level\": 2, \"mesh_tree_label\": \"Pathological Conditions, Signs and Symptoms\", \"value\": 0.009058733008463708, \"mesh_tree_label_id\": \"C23\"}, {\"level\": 3, \"mesh_tree_label\": \"Pathological Conditions, Signs and Symptoms\", \"value\": 0.011107626891907054, \"mesh_tree_label_id\": \"C23\"}, {\"level\": 0, \"mesh_tree_label\": \"Respiratory Tract Diseases\", \"value\": 0.00022092124157737766, \"mesh_tree_label_id\": \"C08\"}, {\"level\": 1, \"mesh_tree_label\": \"Respiratory Tract Diseases\", \"value\": 0.0008024515843679904, \"mesh_tree_label_id\": \"C08\"}, {\"level\": 2, \"mesh_tree_label\": \"Respiratory Tract Diseases\", \"value\": 0.0013165769000598444, \"mesh_tree_label_id\": \"C08\"}, {\"level\": 3, \"mesh_tree_label\": \"Respiratory Tract Diseases\", \"value\": 0.002298625715263853, \"mesh_tree_label_id\": \"C08\"}, {\"level\": 0, \"mesh_tree_label\": \"Skin and Connective Tissue Diseases\", \"value\": 0.00036820206929562944, \"mesh_tree_label_id\": \"C17\"}, {\"level\": 1, \"mesh_tree_label\": \"Skin and Connective Tissue Diseases\", \"value\": 0.0006255331248222918, \"mesh_tree_label_id\": \"C17\"}, {\"level\": 2, \"mesh_tree_label\": \"Skin and Connective Tissue Diseases\", \"value\": 0.0007899461400359066, \"mesh_tree_label_id\": \"C17\"}, {\"level\": 3, \"mesh_tree_label\": \"Skin and Connective Tissue Diseases\", \"value\": 0.00102129177586817, \"mesh_tree_label_id\": \"C17\"}, {\"level\": 0, \"mesh_tree_label\": \"Stomatognathic Diseases\", \"value\": 0.00029456165543650356, \"mesh_tree_label_id\": \"C07\"}, {\"level\": 1, \"mesh_tree_label\": \"Stomatognathic Diseases\", \"value\": 0.0002716962057308944, \"mesh_tree_label_id\": \"C07\"}, {\"level\": 2, \"mesh_tree_label\": \"Stomatognathic Diseases\", \"value\": 0.0002975121826109259, \"mesh_tree_label_id\": \"C07\"}, {\"level\": 3, \"mesh_tree_label\": \"Stomatognathic Diseases\", \"value\": 0.0003481022672677424, \"mesh_tree_label_id\": \"C07\"}, {\"level\": 0, \"mesh_tree_label\": \"Substance-Related Disorders\", \"value\": 0.00023933134504215914, \"mesh_tree_label_id\": \"C25\"}, {\"level\": 1, \"mesh_tree_label\": \"Substance-Related Disorders\", \"value\": 0.0004549331816889394, \"mesh_tree_label_id\": \"C25\"}, {\"level\": 2, \"mesh_tree_label\": \"Substance-Related Disorders\", \"value\": 0.0004924339574249808, \"mesh_tree_label_id\": \"C25\"}, {\"level\": 3, \"mesh_tree_label\": \"Substance-Related Disorders\", \"value\": 0.0005494837441994943, \"mesh_tree_label_id\": \"C25\"}, {\"level\": 0, \"mesh_tree_label\": \"Urogenital Diseases\", \"value\": 0.0014359880702529547, \"mesh_tree_label_id\": \"C12\"}, {\"level\": 1, \"mesh_tree_label\": \"Urogenital Diseases\", \"value\": 0.0014911698733137458, \"mesh_tree_label_id\": \"C12\"}, {\"level\": 2, \"mesh_tree_label\": \"Urogenital Diseases\", \"value\": 0.001959476788920236, \"mesh_tree_label_id\": \"C12\"}, {\"level\": 3, \"mesh_tree_label\": \"Urogenital Diseases\", \"value\": 0.0021547818031697444, \"mesh_tree_label_id\": \"C12\"}, {\"level\": 0, \"mesh_tree_label\": \"Wounds and Injuries\", \"value\": 9.205051732390736e-05, \"mesh_tree_label_id\": \"C26\"}, {\"level\": 1, \"mesh_tree_label\": \"Wounds and Injuries\", \"value\": 0.0001010962625975421, \"mesh_tree_label_id\": \"C26\"}, {\"level\": 2, \"mesh_tree_label\": \"Wounds and Injuries\", \"value\": 0.00015388561169530648, \"mesh_tree_label_id\": \"C26\"}, {\"level\": 3, \"mesh_tree_label\": \"Wounds and Injuries\", \"value\": 0.0001841202074804588, \"mesh_tree_label_id\": \"C26\"}]}}, {\"mode\": \"vega-lite\"});\n",
       "</script>"
      ],
      "text/plain": [
       "\u001b[1;35malt.LayerChart\u001b[0m\u001b[1m(\u001b[0m\u001b[33m...\u001b[0m\u001b[1m)\u001b[0m"
      ]
     },
     "execution_count": 35,
     "metadata": {},
     "output_type": "execute_result"
    }
   ],
   "source": [
    "# draw an altair plot that shows the proportion of each level for each mesh_tree_label, where the x axis is the level, and each colour line corresponds to a mesh_tree_label\n",
    "import altair as alt\n",
    "\n",
    "lines = alt.Chart(af_mesh_tree_level_proportions).mark_line().encode(\n",
    "    x=alt.X(\"level\", axis=alt.Axis(values=[0, 1, 2, 3])),\n",
    "    y=\"value\",\n",
    "    color=\"mesh_tree_label\",\n",
    "    tooltip=[\"level\", \"mesh_tree_label\", \"value\"]\n",
    ")\n",
    "\n",
    "points = alt.Chart(af_mesh_tree_level_proportions).mark_circle().encode(\n",
    "    x=alt.X(\"level\", axis=alt.Axis(values=[0, 1, 2, 3])),\n",
    "    y=\"value\",\n",
    "    color=\"mesh_tree_label\",\n",
    "    tooltip=[\"level\", \"mesh_tree_label\", \"value\"]\n",
    ")\n",
    "\n",
    "chart = lines + points\n",
    "\n",
    "chart.properties(\n",
    "    title=\"Proportion of each level for each mesh_tree_label\"\n",
    ")"
   ]
  },
  {
   "cell_type": "code",
   "execution_count": 36,
   "metadata": {},
   "outputs": [],
   "source": [
    "af_mesh_tree_level_proportions_plot = af_mesh_tree_level_proportions.copy()\n",
    "\n",
    "# rename level as filter and make it string. Make sure there is no level column.\n",
    "af_mesh_tree_level_proportions_plot = af_mesh_tree_level_proportions_plot.rename(columns={\"level\": \"filter\"})"
   ]
  },
  {
   "cell_type": "code",
   "execution_count": 37,
   "metadata": {},
   "outputs": [],
   "source": [
    "# concatenate the dataframes\n",
    "all_proportions = pd.concat([af_mesh_tree_level_proportions_plot, sb_proportions_2021, pd_proportions_2021, bi_proportions_2021])\n",
    "\n",
    "# drop Occupational Diseases\n",
    "all_proportions = all_proportions[all_proportions[\"mesh_tree_label\"] != \"Occupational Diseases\"]"
   ]
  },
  {
   "cell_type": "code",
   "execution_count": 38,
   "metadata": {},
   "outputs": [],
   "source": [
    "# create chart, compare level 0 to each of the three subfields\n",
    "c1a = create_population_chart(\n",
    "    all_proportions, \"0\", \"Protein Design\", \"AlphaFold - Level 0\", \"Protein Design\", \"#AFA6A5\", \"#AFA6A5\"\n",
    ")\n",
    "\n",
    "c2a = create_population_chart(\n",
    "    all_proportions, \"0\", \"Structural Biology\", \"AlphaFold - Level 0\", \"Structural Biology\", \"#AFA6A5\", \"#AFA6A5\"\n",
    ")\n",
    "\n",
    "c3a = create_population_chart(\n",
    "    all_proportions, \"0\", \"Bioinformatics\", \"AlphaFold - Level 0\", \"Bioinformatics\", \"#AFA6A5\", \"#AFA6A5\"\n",
    ")"
   ]
  },
  {
   "cell_type": "code",
   "execution_count": 39,
   "metadata": {},
   "outputs": [],
   "source": [
    "# do the same level 1\n",
    "c1b = create_population_chart(\n",
    "    all_proportions, \"1\", \"Protein Design\", \"AlphaFold - Level 1\", \"Protein Design\", \"#1f77b4\", \"#1f77b4\"\n",
    ")\n",
    "c2b = create_population_chart(\n",
    "    all_proportions, \"1\", \"Structural Biology\", \"AlphaFold - Level 1\", \"Structural Biology\", \"#1f77b4\", \"#1f77b4\"\n",
    ")\n",
    "c3b = create_population_chart(\n",
    "    all_proportions, \"1\", \"Bioinformatics\", \"AlphaFold - Level 1\", \"Bioinformatics\", \"#1f77b4\", \"#ff7f0e\"\n",
    ")"
   ]
  },
  {
   "cell_type": "code",
   "execution_count": 40,
   "metadata": {},
   "outputs": [],
   "source": [
    "# do the same level 2\n",
    "c1c = create_population_chart(\n",
    "    all_proportions, \"2\", \"Protein Design\", \"AlphaFold - Level 2\", \"Protein Design\", \"#1f77b4\", \"#ff7f0e\"\n",
    ")\n",
    "c2c = create_population_chart(\n",
    "    all_proportions, \"2\", \"Structural Biology\", \"AlphaFold - Level 2\", \"Structural Biology\", \"#1f77b4\", \"#ff7f0e\"\n",
    ")\n",
    "c3c = create_population_chart(\n",
    "    all_proportions, \"2\", \"Bioinformatics\", \"AlphaFold - Level 2\", \"Bioinformatics\", \"#1f77b4\", \"#ff7f0e\"\n",
    ")"
   ]
  },
  {
   "cell_type": "code",
   "execution_count": 41,
   "metadata": {},
   "outputs": [],
   "source": [
    "# do the same level 3\n",
    "c1d = create_population_chart(\n",
    "    all_proportions, \"3\", \"Protein Design\", \"AlphaFold - Level 3\", \"Protein Design\", \"#1f77b4\", \"#ff7f0e\"\n",
    ")\n",
    "c2d = create_population_chart(\n",
    "    all_proportions, \"3\", \"Structural Biology\", \"AlphaFold - Level 3\", \"Structural Biology\", \"#1f77b4\", \"#ff7f0e\"\n",
    ")\n",
    "c3d = create_population_chart(\n",
    "    all_proportions, \"3\", \"Bioinformatics\", \"AlphaFold - Level 3\", \"Bioinformatics\", \"#1f77b4\", \"#ff7f0e\"\n",
    ")"
   ]
  },
  {
   "cell_type": "code",
   "execution_count": 42,
   "metadata": {},
   "outputs": [
    {
     "data": {
      "text/html": [
       "<pre style=\"white-space:pre;overflow-x:auto;line-height:normal;font-family:Menlo,'DejaVu Sans Mono',consolas,'Courier New',monospace\"></pre>\n"
      ],
      "text/plain": []
     },
     "metadata": {},
     "output_type": "display_data"
    },
    {
     "data": {
      "text/html": [
       "\n",
       "<div id=\"altair-viz-c6c76d4a54bd4532870bd4503e9a969a\"></div>\n",
       "<script type=\"text/javascript\">\n",
       "  var VEGA_DEBUG = (typeof VEGA_DEBUG == \"undefined\") ? {} : VEGA_DEBUG;\n",
       "  (function(spec, embedOpt){\n",
       "    let outputDiv = document.currentScript.previousElementSibling;\n",
       "    if (outputDiv.id !== \"altair-viz-c6c76d4a54bd4532870bd4503e9a969a\") {\n",
       "      outputDiv = document.getElementById(\"altair-viz-c6c76d4a54bd4532870bd4503e9a969a\");\n",
       "    }\n",
       "    const paths = {\n",
       "      \"vega\": \"https://cdn.jsdelivr.net/npm//vega@5?noext\",\n",
       "      \"vega-lib\": \"https://cdn.jsdelivr.net/npm//vega-lib?noext\",\n",
       "      \"vega-lite\": \"https://cdn.jsdelivr.net/npm//vega-lite@4.17.0?noext\",\n",
       "      \"vega-embed\": \"https://cdn.jsdelivr.net/npm//vega-embed@6?noext\",\n",
       "    };\n",
       "\n",
       "    function maybeLoadScript(lib, version) {\n",
       "      var key = `${lib.replace(\"-\", \"\")}_version`;\n",
       "      return (VEGA_DEBUG[key] == version) ?\n",
       "        Promise.resolve(paths[lib]) :\n",
       "        new Promise(function(resolve, reject) {\n",
       "          var s = document.createElement('script');\n",
       "          document.getElementsByTagName(\"head\")[0].appendChild(s);\n",
       "          s.async = true;\n",
       "          s.onload = () => {\n",
       "            VEGA_DEBUG[key] = version;\n",
       "            return resolve(paths[lib]);\n",
       "          };\n",
       "          s.onerror = () => reject(`Error loading script: ${paths[lib]}`);\n",
       "          s.src = paths[lib];\n",
       "        });\n",
       "    }\n",
       "\n",
       "    function showError(err) {\n",
       "      outputDiv.innerHTML = `<div class=\"error\" style=\"color:red;\">${err}</div>`;\n",
       "      throw err;\n",
       "    }\n",
       "\n",
       "    function displayChart(vegaEmbed) {\n",
       "      vegaEmbed(outputDiv, spec, embedOpt)\n",
       "        .catch(err => showError(`Javascript Error: ${err.message}<br>This usually means there's a typo in your chart specification. See the javascript console for the full traceback.`));\n",
       "    }\n",
       "\n",
       "    if(typeof define === \"function\" && define.amd) {\n",
       "      requirejs.config({paths});\n",
       "      require([\"vega-embed\"], displayChart, err => showError(`Error loading script: ${err.message}`));\n",
       "    } else {\n",
       "      maybeLoadScript(\"vega\", \"5\")\n",
       "        .then(() => maybeLoadScript(\"vega-lite\", \"4.17.0\"))\n",
       "        .then(() => maybeLoadScript(\"vega-embed\", \"6\"))\n",
       "        .catch(showError)\n",
       "        .then(() => displayChart(vegaEmbed));\n",
       "    }\n",
       "  })({\"config\": {\"view\": {\"continuousWidth\": 400, \"continuousHeight\": 300}}, \"vconcat\": [{\"hconcat\": [{\"concat\": [{\"mark\": \"bar\", \"encoding\": {\"color\": {\"field\": \"filter\", \"legend\": null, \"scale\": {\"domain\": [\"0\", \"Protein Design\"], \"range\": [\"#AFA6A5\", \"#AFA6A5\"]}, \"type\": \"nominal\"}, \"x\": {\"aggregate\": \"sum\", \"field\": \"value\", \"scale\": {\"domain\": [0, 0.012371589528333149]}, \"sort\": \"descending\", \"title\": \"Count\", \"type\": \"quantitative\"}, \"y\": {\"axis\": null, \"field\": \"mesh_tree_label\", \"sort\": {\"field\": \"mesh_tree_label_id\", \"order\": \"ascending\"}, \"type\": \"nominal\"}}, \"height\": {\"step\": 20}, \"title\": \"AlphaFold - Level 0\", \"transform\": [{\"filter\": \"(datum.filter === '0')\"}], \"width\": 250}, {\"mark\": \"text\", \"encoding\": {\"text\": {\"field\": \"mesh_tree_label_id\", \"type\": \"nominal\"}, \"y\": {\"axis\": null, \"field\": \"mesh_tree_label\", \"sort\": {\"field\": \"mesh_tree_label_id\", \"order\": \"ascending\"}, \"type\": \"nominal\"}}, \"height\": {\"step\": 20}, \"transform\": [{\"filter\": {\"field\": \"filter\", \"oneOf\": [\"0\"]}}], \"width\": 30}, {\"mark\": \"bar\", \"encoding\": {\"color\": {\"field\": \"filter\", \"legend\": null, \"scale\": {\"domain\": [\"0\", \"Protein Design\"], \"range\": [\"#AFA6A5\", \"#AFA6A5\"]}, \"type\": \"nominal\"}, \"x\": {\"aggregate\": \"sum\", \"field\": \"value\", \"scale\": {\"domain\": [0, 0.012371589528333149]}, \"title\": \"Count\", \"type\": \"quantitative\"}, \"y\": {\"axis\": null, \"field\": \"mesh_tree_label\", \"sort\": {\"field\": \"mesh_tree_label_id\", \"order\": \"ascending\"}, \"type\": \"nominal\"}}, \"height\": {\"step\": 20}, \"title\": \"Protein Design\", \"transform\": [{\"filter\": \"(datum.filter === 'Protein Design')\"}], \"width\": 250}], \"spacing\": 5}, {\"concat\": [{\"mark\": \"bar\", \"encoding\": {\"color\": {\"field\": \"filter\", \"legend\": null, \"scale\": {\"domain\": [\"0\", \"Structural Biology\"], \"range\": [\"#AFA6A5\", \"#AFA6A5\"]}, \"type\": \"nominal\"}, \"x\": {\"aggregate\": \"sum\", \"field\": \"value\", \"scale\": {\"domain\": [0, 0.012371589528333149]}, \"sort\": \"descending\", \"title\": \"Count\", \"type\": \"quantitative\"}, \"y\": {\"axis\": null, \"field\": \"mesh_tree_label\", \"sort\": {\"field\": \"mesh_tree_label_id\", \"order\": \"ascending\"}, \"type\": \"nominal\"}}, \"height\": {\"step\": 20}, \"title\": \"AlphaFold - Level 0\", \"transform\": [{\"filter\": \"(datum.filter === '0')\"}], \"width\": 250}, {\"mark\": \"text\", \"encoding\": {\"text\": {\"field\": \"mesh_tree_label_id\", \"type\": \"nominal\"}, \"y\": {\"axis\": null, \"field\": \"mesh_tree_label\", \"sort\": {\"field\": \"mesh_tree_label_id\", \"order\": \"ascending\"}, \"type\": \"nominal\"}}, \"height\": {\"step\": 20}, \"transform\": [{\"filter\": {\"field\": \"filter\", \"oneOf\": [\"0\"]}}], \"width\": 30}, {\"mark\": \"bar\", \"encoding\": {\"color\": {\"field\": \"filter\", \"legend\": null, \"scale\": {\"domain\": [\"0\", \"Structural Biology\"], \"range\": [\"#AFA6A5\", \"#AFA6A5\"]}, \"type\": \"nominal\"}, \"x\": {\"aggregate\": \"sum\", \"field\": \"value\", \"scale\": {\"domain\": [0, 0.012371589528333149]}, \"title\": \"Count\", \"type\": \"quantitative\"}, \"y\": {\"axis\": null, \"field\": \"mesh_tree_label\", \"sort\": {\"field\": \"mesh_tree_label_id\", \"order\": \"ascending\"}, \"type\": \"nominal\"}}, \"height\": {\"step\": 20}, \"title\": \"Structural Biology\", \"transform\": [{\"filter\": \"(datum.filter === 'Structural Biology')\"}], \"width\": 250}], \"spacing\": 5}, {\"concat\": [{\"mark\": \"bar\", \"encoding\": {\"color\": {\"field\": \"filter\", \"legend\": null, \"scale\": {\"domain\": [\"0\", \"Bioinformatics\"], \"range\": [\"#AFA6A5\", \"#AFA6A5\"]}, \"type\": \"nominal\"}, \"x\": {\"aggregate\": \"sum\", \"field\": \"value\", \"scale\": {\"domain\": [0, 0.03659430055157177]}, \"sort\": \"descending\", \"title\": \"Count\", \"type\": \"quantitative\"}, \"y\": {\"axis\": null, \"field\": \"mesh_tree_label\", \"sort\": {\"field\": \"mesh_tree_label_id\", \"order\": \"ascending\"}, \"type\": \"nominal\"}}, \"height\": {\"step\": 20}, \"title\": \"AlphaFold - Level 0\", \"transform\": [{\"filter\": \"(datum.filter === '0')\"}], \"width\": 250}, {\"mark\": \"text\", \"encoding\": {\"text\": {\"field\": \"mesh_tree_label_id\", \"type\": \"nominal\"}, \"y\": {\"axis\": null, \"field\": \"mesh_tree_label\", \"sort\": {\"field\": \"mesh_tree_label_id\", \"order\": \"ascending\"}, \"type\": \"nominal\"}}, \"height\": {\"step\": 20}, \"transform\": [{\"filter\": {\"field\": \"filter\", \"oneOf\": [\"0\"]}}], \"width\": 30}, {\"mark\": \"bar\", \"encoding\": {\"color\": {\"field\": \"filter\", \"legend\": null, \"scale\": {\"domain\": [\"0\", \"Bioinformatics\"], \"range\": [\"#AFA6A5\", \"#AFA6A5\"]}, \"type\": \"nominal\"}, \"x\": {\"aggregate\": \"sum\", \"field\": \"value\", \"scale\": {\"domain\": [0, 0.03659430055157177]}, \"title\": \"Count\", \"type\": \"quantitative\"}, \"y\": {\"axis\": null, \"field\": \"mesh_tree_label\", \"sort\": {\"field\": \"mesh_tree_label_id\", \"order\": \"ascending\"}, \"type\": \"nominal\"}}, \"height\": {\"step\": 20}, \"title\": \"Bioinformatics\", \"transform\": [{\"filter\": \"(datum.filter === 'Bioinformatics')\"}], \"width\": 250}], \"spacing\": 5}]}, {\"hconcat\": [{\"concat\": [{\"mark\": \"bar\", \"encoding\": {\"color\": {\"field\": \"filter\", \"legend\": null, \"scale\": {\"domain\": [\"1\", \"Protein Design\"], \"range\": [\"#1f77b4\", \"#1f77b4\"]}, \"type\": \"nominal\"}, \"x\": {\"aggregate\": \"sum\", \"field\": \"value\", \"scale\": {\"domain\": [0, 0.021742014974883896]}, \"sort\": \"descending\", \"title\": \"Count\", \"type\": \"quantitative\"}, \"y\": {\"axis\": null, \"field\": \"mesh_tree_label\", \"sort\": {\"field\": \"mesh_tree_label_id\", \"order\": \"ascending\"}, \"type\": \"nominal\"}}, \"height\": {\"step\": 20}, \"title\": \"AlphaFold - Level 1\", \"transform\": [{\"filter\": \"(datum.filter === '1')\"}], \"width\": 250}, {\"mark\": \"text\", \"encoding\": {\"text\": {\"field\": \"mesh_tree_label_id\", \"type\": \"nominal\"}, \"y\": {\"axis\": null, \"field\": \"mesh_tree_label\", \"sort\": {\"field\": \"mesh_tree_label_id\", \"order\": \"ascending\"}, \"type\": \"nominal\"}}, \"height\": {\"step\": 20}, \"transform\": [{\"filter\": {\"field\": \"filter\", \"oneOf\": [\"1\"]}}], \"width\": 30}, {\"mark\": \"bar\", \"encoding\": {\"color\": {\"field\": \"filter\", \"legend\": null, \"scale\": {\"domain\": [\"1\", \"Protein Design\"], \"range\": [\"#1f77b4\", \"#1f77b4\"]}, \"type\": \"nominal\"}, \"x\": {\"aggregate\": \"sum\", \"field\": \"value\", \"scale\": {\"domain\": [0, 0.021742014974883896]}, \"title\": \"Count\", \"type\": \"quantitative\"}, \"y\": {\"axis\": null, \"field\": \"mesh_tree_label\", \"sort\": {\"field\": \"mesh_tree_label_id\", \"order\": \"ascending\"}, \"type\": \"nominal\"}}, \"height\": {\"step\": 20}, \"title\": \"Protein Design\", \"transform\": [{\"filter\": \"(datum.filter === 'Protein Design')\"}], \"width\": 250}], \"spacing\": 5}, {\"concat\": [{\"mark\": \"bar\", \"encoding\": {\"color\": {\"field\": \"filter\", \"legend\": null, \"scale\": {\"domain\": [\"1\", \"Structural Biology\"], \"range\": [\"#1f77b4\", \"#1f77b4\"]}, \"type\": \"nominal\"}, \"x\": {\"aggregate\": \"sum\", \"field\": \"value\", \"scale\": {\"domain\": [0, 0.021742014974883896]}, \"sort\": \"descending\", \"title\": \"Count\", \"type\": \"quantitative\"}, \"y\": {\"axis\": null, \"field\": \"mesh_tree_label\", \"sort\": {\"field\": \"mesh_tree_label_id\", \"order\": \"ascending\"}, \"type\": \"nominal\"}}, \"height\": {\"step\": 20}, \"title\": \"AlphaFold - Level 1\", \"transform\": [{\"filter\": \"(datum.filter === '1')\"}], \"width\": 250}, {\"mark\": \"text\", \"encoding\": {\"text\": {\"field\": \"mesh_tree_label_id\", \"type\": \"nominal\"}, \"y\": {\"axis\": null, \"field\": \"mesh_tree_label\", \"sort\": {\"field\": \"mesh_tree_label_id\", \"order\": \"ascending\"}, \"type\": \"nominal\"}}, \"height\": {\"step\": 20}, \"transform\": [{\"filter\": {\"field\": \"filter\", \"oneOf\": [\"1\"]}}], \"width\": 30}, {\"mark\": \"bar\", \"encoding\": {\"color\": {\"field\": \"filter\", \"legend\": null, \"scale\": {\"domain\": [\"1\", \"Structural Biology\"], \"range\": [\"#1f77b4\", \"#1f77b4\"]}, \"type\": \"nominal\"}, \"x\": {\"aggregate\": \"sum\", \"field\": \"value\", \"scale\": {\"domain\": [0, 0.021742014974883896]}, \"title\": \"Count\", \"type\": \"quantitative\"}, \"y\": {\"axis\": null, \"field\": \"mesh_tree_label\", \"sort\": {\"field\": \"mesh_tree_label_id\", \"order\": \"ascending\"}, \"type\": \"nominal\"}}, \"height\": {\"step\": 20}, \"title\": \"Structural Biology\", \"transform\": [{\"filter\": \"(datum.filter === 'Structural Biology')\"}], \"width\": 250}], \"spacing\": 5}, {\"concat\": [{\"mark\": \"bar\", \"encoding\": {\"color\": {\"field\": \"filter\", \"legend\": null, \"scale\": {\"domain\": [\"1\", \"Bioinformatics\"], \"range\": [\"#1f77b4\", \"#ff7f0e\"]}, \"type\": \"nominal\"}, \"x\": {\"aggregate\": \"sum\", \"field\": \"value\", \"scale\": {\"domain\": [0, 0.03659430055157177]}, \"sort\": \"descending\", \"title\": \"Count\", \"type\": \"quantitative\"}, \"y\": {\"axis\": null, \"field\": \"mesh_tree_label\", \"sort\": {\"field\": \"mesh_tree_label_id\", \"order\": \"ascending\"}, \"type\": \"nominal\"}}, \"height\": {\"step\": 20}, \"title\": \"AlphaFold - Level 1\", \"transform\": [{\"filter\": \"(datum.filter === '1')\"}], \"width\": 250}, {\"mark\": \"text\", \"encoding\": {\"text\": {\"field\": \"mesh_tree_label_id\", \"type\": \"nominal\"}, \"y\": {\"axis\": null, \"field\": \"mesh_tree_label\", \"sort\": {\"field\": \"mesh_tree_label_id\", \"order\": \"ascending\"}, \"type\": \"nominal\"}}, \"height\": {\"step\": 20}, \"transform\": [{\"filter\": {\"field\": \"filter\", \"oneOf\": [\"1\"]}}], \"width\": 30}, {\"mark\": \"bar\", \"encoding\": {\"color\": {\"field\": \"filter\", \"legend\": null, \"scale\": {\"domain\": [\"1\", \"Bioinformatics\"], \"range\": [\"#1f77b4\", \"#ff7f0e\"]}, \"type\": \"nominal\"}, \"x\": {\"aggregate\": \"sum\", \"field\": \"value\", \"scale\": {\"domain\": [0, 0.03659430055157177]}, \"title\": \"Count\", \"type\": \"quantitative\"}, \"y\": {\"axis\": null, \"field\": \"mesh_tree_label\", \"sort\": {\"field\": \"mesh_tree_label_id\", \"order\": \"ascending\"}, \"type\": \"nominal\"}}, \"height\": {\"step\": 20}, \"title\": \"Bioinformatics\", \"transform\": [{\"filter\": \"(datum.filter === 'Bioinformatics')\"}], \"width\": 250}], \"spacing\": 5}]}, {\"hconcat\": [{\"concat\": [{\"mark\": \"bar\", \"encoding\": {\"color\": {\"field\": \"filter\", \"legend\": null, \"scale\": {\"domain\": [\"2\", \"Protein Design\"], \"range\": [\"#1f77b4\", \"#ff7f0e\"]}, \"type\": \"nominal\"}, \"x\": {\"aggregate\": \"sum\", \"field\": \"value\", \"scale\": {\"domain\": [0, 0.03901513208515004]}, \"sort\": \"descending\", \"title\": \"Count\", \"type\": \"quantitative\"}, \"y\": {\"axis\": null, \"field\": \"mesh_tree_label\", \"sort\": {\"field\": \"mesh_tree_label_id\", \"order\": \"ascending\"}, \"type\": \"nominal\"}}, \"height\": {\"step\": 20}, \"title\": \"AlphaFold - Level 2\", \"transform\": [{\"filter\": \"(datum.filter === '2')\"}], \"width\": 250}, {\"mark\": \"text\", \"encoding\": {\"text\": {\"field\": \"mesh_tree_label_id\", \"type\": \"nominal\"}, \"y\": {\"axis\": null, \"field\": \"mesh_tree_label\", \"sort\": {\"field\": \"mesh_tree_label_id\", \"order\": \"ascending\"}, \"type\": \"nominal\"}}, \"height\": {\"step\": 20}, \"transform\": [{\"filter\": {\"field\": \"filter\", \"oneOf\": [\"2\"]}}], \"width\": 30}, {\"mark\": \"bar\", \"encoding\": {\"color\": {\"field\": \"filter\", \"legend\": null, \"scale\": {\"domain\": [\"2\", \"Protein Design\"], \"range\": [\"#1f77b4\", \"#ff7f0e\"]}, \"type\": \"nominal\"}, \"x\": {\"aggregate\": \"sum\", \"field\": \"value\", \"scale\": {\"domain\": [0, 0.03901513208515004]}, \"title\": \"Count\", \"type\": \"quantitative\"}, \"y\": {\"axis\": null, \"field\": \"mesh_tree_label\", \"sort\": {\"field\": \"mesh_tree_label_id\", \"order\": \"ascending\"}, \"type\": \"nominal\"}}, \"height\": {\"step\": 20}, \"title\": \"Protein Design\", \"transform\": [{\"filter\": \"(datum.filter === 'Protein Design')\"}], \"width\": 250}], \"spacing\": 5}, {\"concat\": [{\"mark\": \"bar\", \"encoding\": {\"color\": {\"field\": \"filter\", \"legend\": null, \"scale\": {\"domain\": [\"2\", \"Structural Biology\"], \"range\": [\"#1f77b4\", \"#ff7f0e\"]}, \"type\": \"nominal\"}, \"x\": {\"aggregate\": \"sum\", \"field\": \"value\", \"scale\": {\"domain\": [0, 0.03901513208515004]}, \"sort\": \"descending\", \"title\": \"Count\", \"type\": \"quantitative\"}, \"y\": {\"axis\": null, \"field\": \"mesh_tree_label\", \"sort\": {\"field\": \"mesh_tree_label_id\", \"order\": \"ascending\"}, \"type\": \"nominal\"}}, \"height\": {\"step\": 20}, \"title\": \"AlphaFold - Level 2\", \"transform\": [{\"filter\": \"(datum.filter === '2')\"}], \"width\": 250}, {\"mark\": \"text\", \"encoding\": {\"text\": {\"field\": \"mesh_tree_label_id\", \"type\": \"nominal\"}, \"y\": {\"axis\": null, \"field\": \"mesh_tree_label\", \"sort\": {\"field\": \"mesh_tree_label_id\", \"order\": \"ascending\"}, \"type\": \"nominal\"}}, \"height\": {\"step\": 20}, \"transform\": [{\"filter\": {\"field\": \"filter\", \"oneOf\": [\"2\"]}}], \"width\": 30}, {\"mark\": \"bar\", \"encoding\": {\"color\": {\"field\": \"filter\", \"legend\": null, \"scale\": {\"domain\": [\"2\", \"Structural Biology\"], \"range\": [\"#1f77b4\", \"#ff7f0e\"]}, \"type\": \"nominal\"}, \"x\": {\"aggregate\": \"sum\", \"field\": \"value\", \"scale\": {\"domain\": [0, 0.03901513208515004]}, \"title\": \"Count\", \"type\": \"quantitative\"}, \"y\": {\"axis\": null, \"field\": \"mesh_tree_label\", \"sort\": {\"field\": \"mesh_tree_label_id\", \"order\": \"ascending\"}, \"type\": \"nominal\"}}, \"height\": {\"step\": 20}, \"title\": \"Structural Biology\", \"transform\": [{\"filter\": \"(datum.filter === 'Structural Biology')\"}], \"width\": 250}], \"spacing\": 5}, {\"concat\": [{\"mark\": \"bar\", \"encoding\": {\"color\": {\"field\": \"filter\", \"legend\": null, \"scale\": {\"domain\": [\"2\", \"Bioinformatics\"], \"range\": [\"#1f77b4\", \"#ff7f0e\"]}, \"type\": \"nominal\"}, \"x\": {\"aggregate\": \"sum\", \"field\": \"value\", \"scale\": {\"domain\": [0, 0.03901513208515004]}, \"sort\": \"descending\", \"title\": \"Count\", \"type\": \"quantitative\"}, \"y\": {\"axis\": null, \"field\": \"mesh_tree_label\", \"sort\": {\"field\": \"mesh_tree_label_id\", \"order\": \"ascending\"}, \"type\": \"nominal\"}}, \"height\": {\"step\": 20}, \"title\": \"AlphaFold - Level 2\", \"transform\": [{\"filter\": \"(datum.filter === '2')\"}], \"width\": 250}, {\"mark\": \"text\", \"encoding\": {\"text\": {\"field\": \"mesh_tree_label_id\", \"type\": \"nominal\"}, \"y\": {\"axis\": null, \"field\": \"mesh_tree_label\", \"sort\": {\"field\": \"mesh_tree_label_id\", \"order\": \"ascending\"}, \"type\": \"nominal\"}}, \"height\": {\"step\": 20}, \"transform\": [{\"filter\": {\"field\": \"filter\", \"oneOf\": [\"2\"]}}], \"width\": 30}, {\"mark\": \"bar\", \"encoding\": {\"color\": {\"field\": \"filter\", \"legend\": null, \"scale\": {\"domain\": [\"2\", \"Bioinformatics\"], \"range\": [\"#1f77b4\", \"#ff7f0e\"]}, \"type\": \"nominal\"}, \"x\": {\"aggregate\": \"sum\", \"field\": \"value\", \"scale\": {\"domain\": [0, 0.03901513208515004]}, \"title\": \"Count\", \"type\": \"quantitative\"}, \"y\": {\"axis\": null, \"field\": \"mesh_tree_label\", \"sort\": {\"field\": \"mesh_tree_label_id\", \"order\": \"ascending\"}, \"type\": \"nominal\"}}, \"height\": {\"step\": 20}, \"title\": \"Bioinformatics\", \"transform\": [{\"filter\": \"(datum.filter === 'Bioinformatics')\"}], \"width\": 250}], \"spacing\": 5}]}, {\"hconcat\": [{\"concat\": [{\"mark\": \"bar\", \"encoding\": {\"color\": {\"field\": \"filter\", \"legend\": null, \"scale\": {\"domain\": [\"3\", \"Protein Design\"], \"range\": [\"#1f77b4\", \"#ff7f0e\"]}, \"type\": \"nominal\"}, \"x\": {\"aggregate\": \"sum\", \"field\": \"value\", \"scale\": {\"domain\": [0, 0.05575677720591831]}, \"sort\": \"descending\", \"title\": \"Count\", \"type\": \"quantitative\"}, \"y\": {\"axis\": null, \"field\": \"mesh_tree_label\", \"sort\": {\"field\": \"mesh_tree_label_id\", \"order\": \"ascending\"}, \"type\": \"nominal\"}}, \"height\": {\"step\": 20}, \"title\": \"AlphaFold - Level 3\", \"transform\": [{\"filter\": \"(datum.filter === '3')\"}], \"width\": 250}, {\"mark\": \"text\", \"encoding\": {\"text\": {\"field\": \"mesh_tree_label_id\", \"type\": \"nominal\"}, \"y\": {\"axis\": null, \"field\": \"mesh_tree_label\", \"sort\": {\"field\": \"mesh_tree_label_id\", \"order\": \"ascending\"}, \"type\": \"nominal\"}}, \"height\": {\"step\": 20}, \"transform\": [{\"filter\": {\"field\": \"filter\", \"oneOf\": [\"3\"]}}], \"width\": 30}, {\"mark\": \"bar\", \"encoding\": {\"color\": {\"field\": \"filter\", \"legend\": null, \"scale\": {\"domain\": [\"3\", \"Protein Design\"], \"range\": [\"#1f77b4\", \"#ff7f0e\"]}, \"type\": \"nominal\"}, \"x\": {\"aggregate\": \"sum\", \"field\": \"value\", \"scale\": {\"domain\": [0, 0.05575677720591831]}, \"title\": \"Count\", \"type\": \"quantitative\"}, \"y\": {\"axis\": null, \"field\": \"mesh_tree_label\", \"sort\": {\"field\": \"mesh_tree_label_id\", \"order\": \"ascending\"}, \"type\": \"nominal\"}}, \"height\": {\"step\": 20}, \"title\": \"Protein Design\", \"transform\": [{\"filter\": \"(datum.filter === 'Protein Design')\"}], \"width\": 250}], \"spacing\": 5}, {\"concat\": [{\"mark\": \"bar\", \"encoding\": {\"color\": {\"field\": \"filter\", \"legend\": null, \"scale\": {\"domain\": [\"3\", \"Structural Biology\"], \"range\": [\"#1f77b4\", \"#ff7f0e\"]}, \"type\": \"nominal\"}, \"x\": {\"aggregate\": \"sum\", \"field\": \"value\", \"scale\": {\"domain\": [0, 0.05575677720591831]}, \"sort\": \"descending\", \"title\": \"Count\", \"type\": \"quantitative\"}, \"y\": {\"axis\": null, \"field\": \"mesh_tree_label\", \"sort\": {\"field\": \"mesh_tree_label_id\", \"order\": \"ascending\"}, \"type\": \"nominal\"}}, \"height\": {\"step\": 20}, \"title\": \"AlphaFold - Level 3\", \"transform\": [{\"filter\": \"(datum.filter === '3')\"}], \"width\": 250}, {\"mark\": \"text\", \"encoding\": {\"text\": {\"field\": \"mesh_tree_label_id\", \"type\": \"nominal\"}, \"y\": {\"axis\": null, \"field\": \"mesh_tree_label\", \"sort\": {\"field\": \"mesh_tree_label_id\", \"order\": \"ascending\"}, \"type\": \"nominal\"}}, \"height\": {\"step\": 20}, \"transform\": [{\"filter\": {\"field\": \"filter\", \"oneOf\": [\"3\"]}}], \"width\": 30}, {\"mark\": \"bar\", \"encoding\": {\"color\": {\"field\": \"filter\", \"legend\": null, \"scale\": {\"domain\": [\"3\", \"Structural Biology\"], \"range\": [\"#1f77b4\", \"#ff7f0e\"]}, \"type\": \"nominal\"}, \"x\": {\"aggregate\": \"sum\", \"field\": \"value\", \"scale\": {\"domain\": [0, 0.05575677720591831]}, \"title\": \"Count\", \"type\": \"quantitative\"}, \"y\": {\"axis\": null, \"field\": \"mesh_tree_label\", \"sort\": {\"field\": \"mesh_tree_label_id\", \"order\": \"ascending\"}, \"type\": \"nominal\"}}, \"height\": {\"step\": 20}, \"title\": \"Structural Biology\", \"transform\": [{\"filter\": \"(datum.filter === 'Structural Biology')\"}], \"width\": 250}], \"spacing\": 5}, {\"concat\": [{\"mark\": \"bar\", \"encoding\": {\"color\": {\"field\": \"filter\", \"legend\": null, \"scale\": {\"domain\": [\"3\", \"Bioinformatics\"], \"range\": [\"#1f77b4\", \"#ff7f0e\"]}, \"type\": \"nominal\"}, \"x\": {\"aggregate\": \"sum\", \"field\": \"value\", \"scale\": {\"domain\": [0, 0.05575677720591831]}, \"sort\": \"descending\", \"title\": \"Count\", \"type\": \"quantitative\"}, \"y\": {\"axis\": null, \"field\": \"mesh_tree_label\", \"sort\": {\"field\": \"mesh_tree_label_id\", \"order\": \"ascending\"}, \"type\": \"nominal\"}}, \"height\": {\"step\": 20}, \"title\": \"AlphaFold - Level 3\", \"transform\": [{\"filter\": \"(datum.filter === '3')\"}], \"width\": 250}, {\"mark\": \"text\", \"encoding\": {\"text\": {\"field\": \"mesh_tree_label_id\", \"type\": \"nominal\"}, \"y\": {\"axis\": null, \"field\": \"mesh_tree_label\", \"sort\": {\"field\": \"mesh_tree_label_id\", \"order\": \"ascending\"}, \"type\": \"nominal\"}}, \"height\": {\"step\": 20}, \"transform\": [{\"filter\": {\"field\": \"filter\", \"oneOf\": [\"3\"]}}], \"width\": 30}, {\"mark\": \"bar\", \"encoding\": {\"color\": {\"field\": \"filter\", \"legend\": null, \"scale\": {\"domain\": [\"3\", \"Bioinformatics\"], \"range\": [\"#1f77b4\", \"#ff7f0e\"]}, \"type\": \"nominal\"}, \"x\": {\"aggregate\": \"sum\", \"field\": \"value\", \"scale\": {\"domain\": [0, 0.05575677720591831]}, \"title\": \"Count\", \"type\": \"quantitative\"}, \"y\": {\"axis\": null, \"field\": \"mesh_tree_label\", \"sort\": {\"field\": \"mesh_tree_label_id\", \"order\": \"ascending\"}, \"type\": \"nominal\"}}, \"height\": {\"step\": 20}, \"title\": \"Bioinformatics\", \"transform\": [{\"filter\": \"(datum.filter === 'Bioinformatics')\"}], \"width\": 250}], \"spacing\": 5}]}], \"data\": {\"name\": \"data-c9ad7c1edf40d151da4b6aa0848cbfb0\"}, \"$schema\": \"https://vega.github.io/schema/vega-lite/v4.17.0.json\", \"datasets\": {\"data-c9ad7c1edf40d151da4b6aa0848cbfb0\": [{\"filter\": \"0\", \"mesh_tree_label\": \"Infections\", \"value\": 0.012371589528333149, \"mesh_tree_label_id\": \"C01\"}, {\"filter\": \"0\", \"mesh_tree_label\": \"Neoplasms\", \"value\": 0.008560698111123385, \"mesh_tree_label_id\": \"C04\"}, {\"filter\": \"0\", \"mesh_tree_label\": \"Musculoskeletal Diseases\", \"value\": 0.00187783055340771, \"mesh_tree_label_id\": \"C05\"}, {\"filter\": \"0\", \"mesh_tree_label\": \"Digestive System Diseases\", \"value\": 0.001012555690562981, \"mesh_tree_label_id\": \"C06\"}, {\"filter\": \"0\", \"mesh_tree_label\": \"Stomatognathic Diseases\", \"value\": 0.00029456165543650356, \"mesh_tree_label_id\": \"C07\"}, {\"filter\": \"0\", \"mesh_tree_label\": \"Respiratory Tract Diseases\", \"value\": 0.00022092124157737766, \"mesh_tree_label_id\": \"C08\"}, {\"filter\": \"0\", \"mesh_tree_label\": \"Otorhinolaryngologic Diseases\", \"value\": 0.00062594351780257, \"mesh_tree_label_id\": \"C09\"}, {\"filter\": \"0\", \"mesh_tree_label\": \"Nervous System Diseases\", \"value\": 0.006553996833462204, \"mesh_tree_label_id\": \"C10\"}, {\"filter\": \"0\", \"mesh_tree_label\": \"Eye Diseases\", \"value\": 0.00125188703560514, \"mesh_tree_label_id\": \"C11\"}, {\"filter\": \"0\", \"mesh_tree_label\": \"Urogenital Diseases\", \"value\": 0.0014359880702529547, \"mesh_tree_label_id\": \"C12\"}, {\"filter\": \"0\", \"mesh_tree_label\": \"Cardiovascular Diseases\", \"value\": 0.001288707242534703, \"mesh_tree_label_id\": \"C14\"}, {\"filter\": \"0\", \"mesh_tree_label\": \"Hemic and Lymphatic Diseases\", \"value\": 0.0009020950697742921, \"mesh_tree_label_id\": \"C15\"}, {\"filter\": \"0\", \"mesh_tree_label\": \"Congenital, Hereditary, and Neonatal Diseases and Abnormalities\", \"value\": 0.0011782466217460142, \"mesh_tree_label_id\": \"C16\"}, {\"filter\": \"0\", \"mesh_tree_label\": \"Skin and Connective Tissue Diseases\", \"value\": 0.00036820206929562944, \"mesh_tree_label_id\": \"C17\"}, {\"filter\": \"0\", \"mesh_tree_label\": \"Nutritional and Metabolic Diseases\", \"value\": 0.0015464486910416436, \"mesh_tree_label_id\": \"C18\"}, {\"filter\": \"0\", \"mesh_tree_label\": \"Endocrine System Diseases\", \"value\": 0.00011046062078868883, \"mesh_tree_label_id\": \"C19\"}, {\"filter\": \"0\", \"mesh_tree_label\": \"Immune System Diseases\", \"value\": 0.0003866121727604109, \"mesh_tree_label_id\": \"C20\"}, {\"filter\": \"0\", \"mesh_tree_label\": \"Animal Diseases\", \"value\": 0.0008652748628447292, \"mesh_tree_label_id\": \"C22\"}, {\"filter\": \"0\", \"mesh_tree_label\": \"Pathological Conditions, Signs and Symptoms\", \"value\": 0.0036636105894915128, \"mesh_tree_label_id\": \"C23\"}, {\"filter\": \"0\", \"mesh_tree_label\": \"Substance-Related Disorders\", \"value\": 0.00023933134504215914, \"mesh_tree_label_id\": \"C25\"}, {\"filter\": \"0\", \"mesh_tree_label\": \"Wounds and Injuries\", \"value\": 9.205051732390736e-05, \"mesh_tree_label_id\": \"C26\"}, {\"filter\": \"1\", \"mesh_tree_label\": \"Infections\", \"value\": 0.021742014974883896, \"mesh_tree_label_id\": \"C01\"}, {\"filter\": \"1\", \"mesh_tree_label\": \"Neoplasms\", \"value\": 0.016693520361419138, \"mesh_tree_label_id\": \"C04\"}, {\"filter\": \"1\", \"mesh_tree_label\": \"Musculoskeletal Diseases\", \"value\": 0.002186206678671848, \"mesh_tree_label_id\": \"C05\"}, {\"filter\": \"1\", \"mesh_tree_label\": \"Digestive System Diseases\", \"value\": 0.0019018734401162606, \"mesh_tree_label_id\": \"C06\"}, {\"filter\": \"1\", \"mesh_tree_label\": \"Stomatognathic Diseases\", \"value\": 0.0002716962057308944, \"mesh_tree_label_id\": \"C07\"}, {\"filter\": \"1\", \"mesh_tree_label\": \"Respiratory Tract Diseases\", \"value\": 0.0008024515843679904, \"mesh_tree_label_id\": \"C08\"}, {\"filter\": \"1\", \"mesh_tree_label\": \"Otorhinolaryngologic Diseases\", \"value\": 0.0004928442801630178, \"mesh_tree_label_id\": \"C09\"}, {\"filter\": \"1\", \"mesh_tree_label\": \"Nervous System Diseases\", \"value\": 0.009484093134931919, \"mesh_tree_label_id\": \"C10\"}, {\"filter\": \"1\", \"mesh_tree_label\": \"Eye Diseases\", \"value\": 0.0012447477332322371, \"mesh_tree_label_id\": \"C11\"}, {\"filter\": \"1\", \"mesh_tree_label\": \"Urogenital Diseases\", \"value\": 0.0014911698733137458, \"mesh_tree_label_id\": \"C12\"}, {\"filter\": \"1\", \"mesh_tree_label\": \"Cardiovascular Diseases\", \"value\": 0.002432628818753357, \"mesh_tree_label_id\": \"C14\"}, {\"filter\": \"1\", \"mesh_tree_label\": \"Hemic and Lymphatic Diseases\", \"value\": 0.0008277256500173759, \"mesh_tree_label_id\": \"C15\"}, {\"filter\": \"1\", \"mesh_tree_label\": \"Congenital, Hereditary, and Neonatal Diseases and Abnormalities\", \"value\": 0.0010551922408618456, \"mesh_tree_label_id\": \"C16\"}, {\"filter\": \"1\", \"mesh_tree_label\": \"Skin and Connective Tissue Diseases\", \"value\": 0.0006255331248222918, \"mesh_tree_label_id\": \"C17\"}, {\"filter\": \"1\", \"mesh_tree_label\": \"Nutritional and Metabolic Diseases\", \"value\": 0.0029760212302151457, \"mesh_tree_label_id\": \"C18\"}, {\"filter\": \"1\", \"mesh_tree_label\": \"Endocrine System Diseases\", \"value\": 0.00012637032824692763, \"mesh_tree_label_id\": \"C19\"}, {\"filter\": \"1\", \"mesh_tree_label\": \"Immune System Diseases\", \"value\": 0.0006887182889457555, \"mesh_tree_label_id\": \"C20\"}, {\"filter\": \"1\", \"mesh_tree_label\": \"Animal Diseases\", \"value\": 0.0013647995450668184, \"mesh_tree_label_id\": \"C22\"}, {\"filter\": \"1\", \"mesh_tree_label\": \"Pathological Conditions, Signs and Symptoms\", \"value\": 0.0061479164692130285, \"mesh_tree_label_id\": \"C23\"}, {\"filter\": \"1\", \"mesh_tree_label\": \"Substance-Related Disorders\", \"value\": 0.0004549331816889394, \"mesh_tree_label_id\": \"C25\"}, {\"filter\": \"1\", \"mesh_tree_label\": \"Wounds and Injuries\", \"value\": 0.0001010962625975421, \"mesh_tree_label_id\": \"C26\"}, {\"filter\": \"2\", \"mesh_tree_label\": \"Infections\", \"value\": 0.03901513208515004, \"mesh_tree_label_id\": \"C01\"}, {\"filter\": \"2\", \"mesh_tree_label\": \"Neoplasms\", \"value\": 0.02145507395058562, \"mesh_tree_label_id\": \"C04\"}, {\"filter\": \"2\", \"mesh_tree_label\": \"Musculoskeletal Diseases\", \"value\": 0.0022877660938702233, \"mesh_tree_label_id\": \"C05\"}, {\"filter\": \"2\", \"mesh_tree_label\": \"Digestive System Diseases\", \"value\": 0.0026741899632384374, \"mesh_tree_label_id\": \"C06\"}, {\"filter\": \"2\", \"mesh_tree_label\": \"Stomatognathic Diseases\", \"value\": 0.0002975121826109259, \"mesh_tree_label_id\": \"C07\"}, {\"filter\": \"2\", \"mesh_tree_label\": \"Respiratory Tract Diseases\", \"value\": 0.0013165769000598444, \"mesh_tree_label_id\": \"C08\"}, {\"filter\": \"2\", \"mesh_tree_label\": \"Otorhinolaryngologic Diseases\", \"value\": 0.00041378131144737966, \"mesh_tree_label_id\": \"C09\"}, {\"filter\": \"2\", \"mesh_tree_label\": \"Nervous System Diseases\", \"value\": 0.010878002906728221, \"mesh_tree_label_id\": \"C10\"}, {\"filter\": \"2\", \"mesh_tree_label\": \"Eye Diseases\", \"value\": 0.0010224843977088142, \"mesh_tree_label_id\": \"C11\"}, {\"filter\": \"2\", \"mesh_tree_label\": \"Urogenital Diseases\", \"value\": 0.001959476788920236, \"mesh_tree_label_id\": \"C12\"}, {\"filter\": \"2\", \"mesh_tree_label\": \"Cardiovascular Diseases\", \"value\": 0.003758228605625374, \"mesh_tree_label_id\": \"C14\"}, {\"filter\": \"2\", \"mesh_tree_label\": \"Hemic and Lymphatic Diseases\", \"value\": 0.0010259040779687098, \"mesh_tree_label_id\": \"C15\"}, {\"filter\": \"2\", \"mesh_tree_label\": \"Congenital, Hereditary, and Neonatal Diseases and Abnormalities\", \"value\": 0.0009643498332905873, \"mesh_tree_label_id\": \"C16\"}, {\"filter\": \"2\", \"mesh_tree_label\": \"Skin and Connective Tissue Diseases\", \"value\": 0.0007899461400359066, \"mesh_tree_label_id\": \"C17\"}, {\"filter\": \"2\", \"mesh_tree_label\": \"Nutritional and Metabolic Diseases\", \"value\": 0.0036282807557493375, \"mesh_tree_label_id\": \"C18\"}, {\"filter\": \"2\", \"mesh_tree_label\": \"Endocrine System Diseases\", \"value\": 0.0001778233735145764, \"mesh_tree_label_id\": \"C19\"}, {\"filter\": \"2\", \"mesh_tree_label\": \"Immune System Diseases\", \"value\": 0.0010737796016072497, \"mesh_tree_label_id\": \"C20\"}, {\"filter\": \"2\", \"mesh_tree_label\": \"Animal Diseases\", \"value\": 0.0018500470206035736, \"mesh_tree_label_id\": \"C22\"}, {\"filter\": \"2\", \"mesh_tree_label\": \"Pathological Conditions, Signs and Symptoms\", \"value\": 0.009058733008463708, \"mesh_tree_label_id\": \"C23\"}, {\"filter\": \"2\", \"mesh_tree_label\": \"Substance-Related Disorders\", \"value\": 0.0004924339574249808, \"mesh_tree_label_id\": \"C25\"}, {\"filter\": \"2\", \"mesh_tree_label\": \"Wounds and Injuries\", \"value\": 0.00015388561169530648, \"mesh_tree_label_id\": \"C26\"}, {\"filter\": \"3\", \"mesh_tree_label\": \"Infections\", \"value\": 0.05575677720591831, \"mesh_tree_label_id\": \"C01\"}, {\"filter\": \"3\", \"mesh_tree_label\": \"Neoplasms\", \"value\": 0.023288329368036157, \"mesh_tree_label_id\": \"C04\"}, {\"filter\": \"3\", \"mesh_tree_label\": \"Musculoskeletal Diseases\", \"value\": 0.002304379471747617, \"mesh_tree_label_id\": \"C05\"}, {\"filter\": \"3\", \"mesh_tree_label\": \"Digestive System Diseases\", \"value\": 0.003069629084088274, \"mesh_tree_label_id\": \"C06\"}, {\"filter\": \"3\", \"mesh_tree_label\": \"Stomatognathic Diseases\", \"value\": 0.0003481022672677424, \"mesh_tree_label_id\": \"C07\"}, {\"filter\": \"3\", \"mesh_tree_label\": \"Respiratory Tract Diseases\", \"value\": 0.002298625715263853, \"mesh_tree_label_id\": \"C08\"}, {\"filter\": \"3\", \"mesh_tree_label\": \"Otorhinolaryngologic Diseases\", \"value\": 0.000204258355173634, \"mesh_tree_label_id\": \"C09\"}, {\"filter\": \"3\", \"mesh_tree_label\": \"Nervous System Diseases\", \"value\": 0.010955152345087298, \"mesh_tree_label_id\": \"C10\"}, {\"filter\": \"3\", \"mesh_tree_label\": \"Eye Diseases\", \"value\": 0.0008256640554201825, \"mesh_tree_label_id\": \"C11\"}, {\"filter\": \"3\", \"mesh_tree_label\": \"Urogenital Diseases\", \"value\": 0.0021547818031697444, \"mesh_tree_label_id\": \"C12\"}, {\"filter\": \"3\", \"mesh_tree_label\": \"Cardiovascular Diseases\", \"value\": 0.004295179215130078, \"mesh_tree_label_id\": \"C14\"}, {\"filter\": \"3\", \"mesh_tree_label\": \"Hemic and Lymphatic Diseases\", \"value\": 0.001121982514334046, \"mesh_tree_label_id\": \"C15\"}, {\"filter\": \"3\", \"mesh_tree_label\": \"Congenital, Hereditary, and Neonatal Diseases and Abnormalities\", \"value\": 0.0007710033688244212, \"mesh_tree_label_id\": \"C16\"}, {\"filter\": \"3\", \"mesh_tree_label\": \"Skin and Connective Tissue Diseases\", \"value\": 0.00102129177586817, \"mesh_tree_label_id\": \"C17\"}, {\"filter\": \"3\", \"mesh_tree_label\": \"Nutritional and Metabolic Diseases\", \"value\": 0.004148458424794088, \"mesh_tree_label_id\": \"C18\"}, {\"filter\": \"3\", \"mesh_tree_label\": \"Endocrine System Diseases\", \"value\": 0.00022439650286680917, \"mesh_tree_label_id\": \"C19\"}, {\"filter\": \"3\", \"mesh_tree_label\": \"Immune System Diseases\", \"value\": 0.001242811400493097, \"mesh_tree_label_id\": \"C20\"}, {\"filter\": \"3\", \"mesh_tree_label\": \"Animal Diseases\", \"value\": 0.0018613402224977632, \"mesh_tree_label_id\": \"C22\"}, {\"filter\": \"3\", \"mesh_tree_label\": \"Pathological Conditions, Signs and Symptoms\", \"value\": 0.011107626891907054, \"mesh_tree_label_id\": \"C23\"}, {\"filter\": \"3\", \"mesh_tree_label\": \"Substance-Related Disorders\", \"value\": 0.0005494837441994943, \"mesh_tree_label_id\": \"C25\"}, {\"filter\": \"3\", \"mesh_tree_label\": \"Wounds and Injuries\", \"value\": 0.0001841202074804588, \"mesh_tree_label_id\": \"C26\"}, {\"filter\": \"Bioinformatics\", \"mesh_tree_label\": \"Infections\", \"value\": 0.013050954906255576, \"mesh_tree_label_id\": \"C01\"}, {\"filter\": \"Bioinformatics\", \"mesh_tree_label\": \"Neoplasms\", \"value\": 0.03659430055157177, \"mesh_tree_label_id\": \"C04\"}, {\"filter\": \"Bioinformatics\", \"mesh_tree_label\": \"Musculoskeletal Diseases\", \"value\": 0.00386441887567428, \"mesh_tree_label_id\": \"C05\"}, {\"filter\": \"Bioinformatics\", \"mesh_tree_label\": \"Digestive System Diseases\", \"value\": 0.005845977474006279, \"mesh_tree_label_id\": \"C06\"}, {\"filter\": \"Bioinformatics\", \"mesh_tree_label\": \"Stomatognathic Diseases\", \"value\": 0.0006605195327773328, \"mesh_tree_label_id\": \"C07\"}, {\"filter\": \"Bioinformatics\", \"mesh_tree_label\": \"Respiratory Tract Diseases\", \"value\": 0.0019360055271059754, \"mesh_tree_label_id\": \"C08\"}, {\"filter\": \"Bioinformatics\", \"mesh_tree_label\": \"Otorhinolaryngologic Diseases\", \"value\": 0.00012527094587156312, \"mesh_tree_label_id\": \"C09\"}, {\"filter\": \"Bioinformatics\", \"mesh_tree_label\": \"Nervous System Diseases\", \"value\": 0.014015161580539727, \"mesh_tree_label_id\": \"C10\"}, {\"filter\": \"Bioinformatics\", \"mesh_tree_label\": \"Eye Diseases\", \"value\": 0.0013817764938560296, \"mesh_tree_label_id\": \"C11\"}, {\"filter\": \"Bioinformatics\", \"mesh_tree_label\": \"Urogenital Diseases\", \"value\": 0.0046122484616348235, \"mesh_tree_label_id\": \"C12\"}, {\"filter\": \"Bioinformatics\", \"mesh_tree_label\": \"Cardiovascular Diseases\", \"value\": 0.008385561194857059, \"mesh_tree_label_id\": \"C14\"}, {\"filter\": \"Bioinformatics\", \"mesh_tree_label\": \"Hemic and Lymphatic Diseases\", \"value\": 0.0008161591927995778, \"mesh_tree_label_id\": \"C15\"}, {\"filter\": \"Bioinformatics\", \"mesh_tree_label\": \"Congenital, Hereditary, and Neonatal Diseases and Abnormalities\", \"value\": 0.0010135558347790106, \"mesh_tree_label_id\": \"C16\"}, {\"filter\": \"Bioinformatics\", \"mesh_tree_label\": \"Skin and Connective Tissue Diseases\", \"value\": 0.0009034692459827886, \"mesh_tree_label_id\": \"C17\"}, {\"filter\": \"Bioinformatics\", \"mesh_tree_label\": \"Nutritional and Metabolic Diseases\", \"value\": 0.011365491270892727, \"mesh_tree_label_id\": \"C18\"}, {\"filter\": \"Bioinformatics\", \"mesh_tree_label\": \"Endocrine System Diseases\", \"value\": 0.0005428407654434401, \"mesh_tree_label_id\": \"C19\"}, {\"filter\": \"Bioinformatics\", \"mesh_tree_label\": \"Immune System Diseases\", \"value\": 0.0009642066742841525, \"mesh_tree_label_id\": \"C20\"}, {\"filter\": \"Bioinformatics\", \"mesh_tree_label\": \"Animal Diseases\", \"value\": 0.0022017317759244425, \"mesh_tree_label_id\": \"C22\"}, {\"filter\": \"Bioinformatics\", \"mesh_tree_label\": \"Pathological Conditions, Signs and Symptoms\", \"value\": 0.01787198827767634, \"mesh_tree_label_id\": \"C23\"}, {\"filter\": \"Bioinformatics\", \"mesh_tree_label\": \"Substance-Related Disorders\", \"value\": 0.0005618212117876164, \"mesh_tree_label_id\": \"C25\"}, {\"filter\": \"Bioinformatics\", \"mesh_tree_label\": \"Wounds and Injuries\", \"value\": 0.00039099719469003034, \"mesh_tree_label_id\": \"C26\"}, {\"filter\": \"Protein Design\", \"mesh_tree_label\": \"Infections\", \"value\": 0.0040369483407458094, \"mesh_tree_label_id\": \"C01\"}, {\"filter\": \"Protein Design\", \"mesh_tree_label\": \"Neoplasms\", \"value\": 0.009373930892918235, \"mesh_tree_label_id\": \"C04\"}, {\"filter\": \"Protein Design\", \"mesh_tree_label\": \"Musculoskeletal Diseases\", \"value\": 0.0005473828258638385, \"mesh_tree_label_id\": \"C05\"}, {\"filter\": \"Protein Design\", \"mesh_tree_label\": \"Digestive System Diseases\", \"value\": 0.0006158056790968184, \"mesh_tree_label_id\": \"C06\"}, {\"filter\": \"Protein Design\", \"mesh_tree_label\": \"Stomatognathic Diseases\", \"value\": 0.0, \"mesh_tree_label_id\": \"C07\"}, {\"filter\": \"Protein Design\", \"mesh_tree_label\": \"Respiratory Tract Diseases\", \"value\": 6.842285323297981e-05, \"mesh_tree_label_id\": \"C08\"}, {\"filter\": \"Protein Design\", \"mesh_tree_label\": \"Otorhinolaryngologic Diseases\", \"value\": 0.00010263427984946972, \"mesh_tree_label_id\": \"C09\"}, {\"filter\": \"Protein Design\", \"mesh_tree_label\": \"Nervous System Diseases\", \"value\": 0.003386931235032501, \"mesh_tree_label_id\": \"C10\"}, {\"filter\": \"Protein Design\", \"mesh_tree_label\": \"Eye Diseases\", \"value\": 6.842285323297981e-05, \"mesh_tree_label_id\": \"C11\"}, {\"filter\": \"Protein Design\", \"mesh_tree_label\": \"Urogenital Diseases\", \"value\": 0.0006158056790968184, \"mesh_tree_label_id\": \"C12\"}, {\"filter\": \"Protein Design\", \"mesh_tree_label\": \"Cardiovascular Diseases\", \"value\": 0.000376325692781389, \"mesh_tree_label_id\": \"C14\"}, {\"filter\": \"Protein Design\", \"mesh_tree_label\": \"Hemic and Lymphatic Diseases\", \"value\": 0.00020526855969893944, \"mesh_tree_label_id\": \"C15\"}, {\"filter\": \"Protein Design\", \"mesh_tree_label\": \"Congenital, Hereditary, and Neonatal Diseases and Abnormalities\", \"value\": 0.0, \"mesh_tree_label_id\": \"C16\"}, {\"filter\": \"Protein Design\", \"mesh_tree_label\": \"Skin and Connective Tissue Diseases\", \"value\": 0.00013684570646595962, \"mesh_tree_label_id\": \"C17\"}, {\"filter\": \"Protein Design\", \"mesh_tree_label\": \"Nutritional and Metabolic Diseases\", \"value\": 0.0011973999315771468, \"mesh_tree_label_id\": \"C18\"}, {\"filter\": \"Protein Design\", \"mesh_tree_label\": \"Endocrine System Diseases\", \"value\": 0.0, \"mesh_tree_label_id\": \"C19\"}, {\"filter\": \"Protein Design\", \"mesh_tree_label\": \"Immune System Diseases\", \"value\": 6.842285323297981e-05, \"mesh_tree_label_id\": \"C20\"}, {\"filter\": \"Protein Design\", \"mesh_tree_label\": \"Animal Diseases\", \"value\": 0.0008894970920287375, \"mesh_tree_label_id\": \"C22\"}, {\"filter\": \"Protein Design\", \"mesh_tree_label\": \"Pathological Conditions, Signs and Symptoms\", \"value\": 0.0017447827574409852, \"mesh_tree_label_id\": \"C23\"}, {\"filter\": \"Protein Design\", \"mesh_tree_label\": \"Substance-Related Disorders\", \"value\": 3.4211426616489905e-05, \"mesh_tree_label_id\": \"C25\"}, {\"filter\": \"Protein Design\", \"mesh_tree_label\": \"Wounds and Injuries\", \"value\": 3.4211426616489905e-05, \"mesh_tree_label_id\": \"C26\"}, {\"filter\": \"Structural Biology\", \"mesh_tree_label\": \"Infections\", \"value\": 0.010665312341289994, \"mesh_tree_label_id\": \"C01\"}, {\"filter\": \"Structural Biology\", \"mesh_tree_label\": \"Neoplasms\", \"value\": 0.007575757575757576, \"mesh_tree_label_id\": \"C04\"}, {\"filter\": \"Structural Biology\", \"mesh_tree_label\": \"Musculoskeletal Diseases\", \"value\": 0.0008041306923988488, \"mesh_tree_label_id\": \"C05\"}, {\"filter\": \"Structural Biology\", \"mesh_tree_label\": \"Digestive System Diseases\", \"value\": 0.0008887760284408329, \"mesh_tree_label_id\": \"C06\"}, {\"filter\": \"Structural Biology\", \"mesh_tree_label\": \"Stomatognathic Diseases\", \"value\": 8.464533604198409e-05, \"mesh_tree_label_id\": \"C07\"}, {\"filter\": \"Structural Biology\", \"mesh_tree_label\": \"Respiratory Tract Diseases\", \"value\": 0.00027509734213644827, \"mesh_tree_label_id\": \"C08\"}, {\"filter\": \"Structural Biology\", \"mesh_tree_label\": \"Otorhinolaryngologic Diseases\", \"value\": 6.348400203148806e-05, \"mesh_tree_label_id\": \"C09\"}, {\"filter\": \"Structural Biology\", \"mesh_tree_label\": \"Nervous System Diseases\", \"value\": 0.009691890976807178, \"mesh_tree_label_id\": \"C10\"}, {\"filter\": \"Structural Biology\", \"mesh_tree_label\": \"Eye Diseases\", \"value\": 0.0006771626883358727, \"mesh_tree_label_id\": \"C11\"}, {\"filter\": \"Structural Biology\", \"mesh_tree_label\": \"Urogenital Diseases\", \"value\": 0.0004232266802099204, \"mesh_tree_label_id\": \"C12\"}, {\"filter\": \"Structural Biology\", \"mesh_tree_label\": \"Cardiovascular Diseases\", \"value\": 0.0016082613847976975, \"mesh_tree_label_id\": \"C14\"}, {\"filter\": \"Structural Biology\", \"mesh_tree_label\": \"Hemic and Lymphatic Diseases\", \"value\": 0.0005925173522938886, \"mesh_tree_label_id\": \"C15\"}, {\"filter\": \"Structural Biology\", \"mesh_tree_label\": \"Congenital, Hereditary, and Neonatal Diseases and Abnormalities\", \"value\": 0.0004655493482309125, \"mesh_tree_label_id\": \"C16\"}, {\"filter\": \"Structural Biology\", \"mesh_tree_label\": \"Skin and Connective Tissue Diseases\", \"value\": 0.00025393600812595224, \"mesh_tree_label_id\": \"C17\"}, {\"filter\": \"Structural Biology\", \"mesh_tree_label\": \"Nutritional and Metabolic Diseases\", \"value\": 0.003195361435584899, \"mesh_tree_label_id\": \"C18\"}, {\"filter\": \"Structural Biology\", \"mesh_tree_label\": \"Endocrine System Diseases\", \"value\": 8.464533604198409e-05, \"mesh_tree_label_id\": \"C19\"}, {\"filter\": \"Structural Biology\", \"mesh_tree_label\": \"Immune System Diseases\", \"value\": 0.0004232266802099204, \"mesh_tree_label_id\": \"C20\"}, {\"filter\": \"Structural Biology\", \"mesh_tree_label\": \"Animal Diseases\", \"value\": 0.0013120027086507534, \"mesh_tree_label_id\": \"C22\"}, {\"filter\": \"Structural Biology\", \"mesh_tree_label\": \"Pathological Conditions, Signs and Symptoms\", \"value\": 0.003893685457931268, \"mesh_tree_label_id\": \"C23\"}, {\"filter\": \"Structural Biology\", \"mesh_tree_label\": \"Substance-Related Disorders\", \"value\": 0.00012696800406297612, \"mesh_tree_label_id\": \"C25\"}, {\"filter\": \"Structural Biology\", \"mesh_tree_label\": \"Wounds and Injuries\", \"value\": 2.1161334010496022e-05, \"mesh_tree_label_id\": \"C26\"}]}}, {\"mode\": \"vega-lite\"});\n",
       "</script>"
      ],
      "text/plain": [
       "\u001b[1;35malt.VConcatChart\u001b[0m\u001b[1m(\u001b[0m\u001b[33m...\u001b[0m\u001b[1m)\u001b[0m"
      ]
     },
     "execution_count": 42,
     "metadata": {},
     "output_type": "execute_result"
    }
   ],
   "source": [
    "# hconcat each a, b, c, d group, and vconcat each of these in turn\n",
    "a = alt.hconcat(c1a, c2a, c3a)\n",
    "b = alt.hconcat(c1b, c2b, c3b)\n",
    "c = alt.hconcat(c1c, c2c, c3c)\n",
    "d = alt.hconcat(c1d, c2d, c3d)\n",
    "\n",
    "alt.vconcat(a, b, c, d)"
   ]
  },
  {
   "cell_type": "markdown",
   "metadata": {},
   "source": [
    "What specific disease areas are advancing most significantly due to AF? How has the rate of SB activity in these areas changed since the advent of AF?"
   ]
  },
  {
   "cell_type": "code",
   "execution_count": 43,
   "metadata": {},
   "outputs": [],
   "source": [
    "def calculate_relative_frequency(df):\n",
    "    # Calculate counts\n",
    "    counts = df.groupby([\"level\", \"year\", \"mesh_tree_label\", \"mesh_terms_label\"]).size().reset_index(name='counts')\n",
    "\n",
    "    # Calculate total counts for each year and level\n",
    "    total_counts = df.groupby([\"level\", \"year\"]).size().reset_index(name='total_counts')\n",
    "\n",
    "    # Merge counts with total counts\n",
    "    merged = pd.merge(counts, total_counts, on=[\"level\", \"year\"])\n",
    "\n",
    "    # Calculate relative frequency\n",
    "    merged['relative_frequency'] = merged['counts'] / merged['total_counts']\n",
    "\n",
    "    # Pivot the table\n",
    "    relative_frequency = merged.pivot_table(index=[\"level\", \"year\", \"mesh_tree_label\"], columns=\"mesh_terms_label\", values=\"relative_frequency\").reset_index().fillna(0)\n",
    "\n",
    "    # Melt the DataFrame back into a long format\n",
    "    relative_frequency = relative_frequency.melt(id_vars=[\"level\", \"year\", \"mesh_tree_label\"], value_vars=relative_frequency.columns[3:])\n",
    "\n",
    "    # Filter out rows where relative_frequency is 0\n",
    "    relative_frequency = relative_frequency[relative_frequency[\"value\"] != 0.].reset_index(drop=True)\n",
    "\n",
    "\n",
    "    # Add total counts\n",
    "    total_counts_level_year = df.groupby([\"level\", \"year\"]).size().reset_index(name='yearly_counts')\n",
    "    relative_frequency = pd.merge(relative_frequency, total_counts_level_year, on=[\"level\", \"year\"])\n",
    "\n",
    "    # Rename 'level' column to 'filter'\n",
    "    relative_frequency = relative_frequency.rename(columns={\"level\": \"filter\"})\n",
    "\n",
    "    return relative_frequency\n",
    "\n",
    "# Use the function on your DataFrame\n",
    "af_mesh_label_level_yearly_counts = calculate_relative_frequency(alphafold_oa_mesh_data)\n",
    "\n",
    "# drop other\n",
    "af_mesh_label_level_yearly_counts = af_mesh_label_level_yearly_counts[af_mesh_label_level_yearly_counts[\"mesh_tree_label\"] != \"Other\"]"
   ]
  },
  {
   "cell_type": "code",
   "execution_count": 44,
   "metadata": {},
   "outputs": [],
   "source": [
    "def process_mesh_label_yearly_counts(df, subfield):\n",
    "    # Calculate counts\n",
    "    counts = (\n",
    "        df.groupby([\"year\", \"mesh_tree_label\", \"mesh_terms_label\"])\n",
    "        .size()\n",
    "        .reset_index(name=\"counts\")\n",
    "    )\n",
    "\n",
    "    # Calculate total counts for each year\n",
    "    total_counts = df.groupby([\"year\"]).size().reset_index(name=\"total_counts\")\n",
    "\n",
    "    # Merge counts with total counts\n",
    "    merged = pd.merge(counts, total_counts, on=[\"year\"])\n",
    "\n",
    "    # Calculate relative frequency\n",
    "    merged[\"relative_frequency\"] = merged[\"counts\"] / merged[\"total_counts\"]\n",
    "\n",
    "    # Pivot the table\n",
    "    relative_frequency = (\n",
    "        merged.pivot_table(\n",
    "            index=[\"year\", \"mesh_tree_label\"],\n",
    "            columns=\"mesh_terms_label\",\n",
    "            values=\"relative_frequency\",\n",
    "        )\n",
    "        .reset_index()\n",
    "        .fillna(0)\n",
    "    )\n",
    "\n",
    "    # Melt the DataFrame back into a long format\n",
    "    relative_frequency = relative_frequency.melt(\n",
    "        id_vars=[\"year\", \"mesh_tree_label\"], value_vars=relative_frequency.columns[2:]\n",
    "    )\n",
    "\n",
    "    # Filter out rows where relative_frequency is 0\n",
    "    relative_frequency = relative_frequency[\n",
    "        relative_frequency[\"value\"] != 0.0\n",
    "    ].reset_index(drop=True)\n",
    "\n",
    "    # Add the subfield as a filter\n",
    "    relative_frequency[\"filter\"] = subfield\n",
    "\n",
    "    # Add yearly counts\n",
    "    yearly_counts = df.groupby([\"year\"]).size().reset_index(name=\"yearly_counts\")\n",
    "    relative_frequency = pd.merge(relative_frequency, yearly_counts, on=[\"year\"])\n",
    "\n",
    "    return relative_frequency\n",
    "\n",
    "\n",
    "# Run the function for each subfield\n",
    "subfields = [\"Structural Biology\", \"Protein Design\", \"Bioinformatics\"]\n",
    "mesh_data_list = [\n",
    "    sb_mesh_data_2021,\n",
    "    pd_mesh_data_2021,\n",
    "    bi_mesh_data_2021,\n",
    "]  # replace with your actual dataframes\n",
    "\n",
    "results = []\n",
    "for subfield, df in zip(subfields, mesh_data_list):\n",
    "    result = process_mesh_label_yearly_counts(df, subfield)\n",
    "    results.append(result)\n",
    "\n",
    "# Concatenate the results\n",
    "subfields_relative_frequency = pd.concat(results)\n",
    "\n",
    "# drop Other\n",
    "subfields_relative_frequency = subfields_relative_frequency[\n",
    "    subfields_relative_frequency[\"mesh_tree_label\"] != \"Other\"\n",
    "]"
   ]
  },
  {
   "cell_type": "code",
   "execution_count": 45,
   "metadata": {},
   "outputs": [],
   "source": [
    "def process_mesh_label_yearly_counts_combined(df_list, subfields):\n",
    "    # Combine all dataframes\n",
    "    combined_df = pd.concat(df_list)\n",
    "\n",
    "    # Calculate counts\n",
    "    counts = combined_df.groupby([\"year\", \"mesh_tree_label\", \"mesh_terms_label\"]).size().reset_index(name='counts')\n",
    "\n",
    "    # Calculate total counts for each year\n",
    "    total_counts = combined_df.groupby([\"year\"]).size().reset_index(name='total_counts')\n",
    "\n",
    "    # Merge counts with total counts\n",
    "    merged = pd.merge(counts, total_counts, on=[\"year\"])\n",
    "\n",
    "    # Calculate relative frequency\n",
    "    merged['relative_frequency'] = merged['counts'] / merged['total_counts']\n",
    "\n",
    "    # Pivot the table\n",
    "    relative_frequency = merged.pivot_table(index=[\"year\", \"mesh_tree_label\"], columns=\"mesh_terms_label\", values=\"relative_frequency\").reset_index().fillna(0)\n",
    "\n",
    "    # Melt the DataFrame back into a long format\n",
    "    relative_frequency = relative_frequency.melt(id_vars=[\"year\", \"mesh_tree_label\"], value_vars=relative_frequency.columns[2:])\n",
    "\n",
    "    # Filter out rows where relative_frequency is 0\n",
    "    relative_frequency = relative_frequency[relative_frequency[\"value\"] != 0.].reset_index(drop=True)\n",
    "\n",
    "    # Add the subfield as a filter\n",
    "    for subfield in subfields:\n",
    "        relative_frequency.loc[relative_frequency['mesh_tree_label'].str.contains(subfield), 'filter'] = subfield\n",
    "\n",
    "    # Add yearly counts\n",
    "    yearly_counts = combined_df.groupby([\"year\"]).size().reset_index(name='yearly_counts')\n",
    "    relative_frequency = pd.merge(relative_frequency, yearly_counts, on=[\"year\"])\n",
    "\n",
    "    return relative_frequency\n",
    "\n",
    "# Run the function for all subfields combined\n",
    "subfields = ['Structural Biology', 'Protein Design', 'Bioinformatics']\n",
    "mesh_data_list = [sb_mesh_data_2021, pd_mesh_data_2021, bi_mesh_data_2021]  # replace with your actual dataframes\n",
    "\n",
    "combined_relative_frequency = process_mesh_label_yearly_counts_combined(mesh_data_list, subfields)\n",
    "\n",
    "# drop Other\n",
    "combined_relative_frequency = combined_relative_frequency[combined_relative_frequency[\"mesh_tree_label\"] != \"Other\"]"
   ]
  },
  {
   "cell_type": "code",
   "execution_count": 46,
   "metadata": {},
   "outputs": [],
   "source": [
    "def compute_relative_frequency_ratio(af_df, subfields_df):\n",
    "    # Merge the two DataFrames\n",
    "    merged = pd.merge(af_df, subfields_df, how='outer', on=['year', 'mesh_tree_label', 'mesh_terms_label'], suffixes=('_af', '_subfields'))\n",
    "\n",
    "    # Calculate the ratio of relative frequency in AF papers against all subfields\n",
    "    merged['relative_frequency_ratio'] = merged['value_af'] / merged['value_subfields']\n",
    "\n",
    "    return merged\n",
    "\n",
    "# Use the function on your DataFrames\n",
    "relative_frequency_ratio = compute_relative_frequency_ratio(af_mesh_label_level_yearly_counts, combined_relative_frequency)\n",
    "\n",
    "# drop anything with filter_af nan\n",
    "relative_frequency_ratio = relative_frequency_ratio[relative_frequency_ratio[\"filter_af\"].notnull()]\n",
    "\n",
    "# make it again a string of value \"0\", \"1\", \"2\", \"3\"\n",
    "relative_frequency_ratio[\"filter_af\"] = relative_frequency_ratio[\"filter_af\"].astype(int).astype(str)"
   ]
  },
  {
   "cell_type": "code",
   "execution_count": 47,
   "metadata": {},
   "outputs": [],
   "source": [
    "def get_top_bottom_ratio_words(df, n=5, level=0):\n",
    "\n",
    "    # Filter the DataFrame for the level\n",
    "    df = df[df['filter_af'] == str(level)]\n",
    "\n",
    "    # Get top n ratio words for each year and disease group\n",
    "    top_n = df.groupby(['year', 'mesh_tree_label']).apply(lambda x: x.nlargest(n, 'relative_frequency_ratio')).reset_index(drop=True)\n",
    "\n",
    "    # Get bottom n ratio words for each year and disease group\n",
    "    bottom_n = df.groupby(['year', 'mesh_tree_label']).apply(lambda x: x.nsmallest(n, 'relative_frequency_ratio')).reset_index(drop=True)\n",
    "\n",
    "    return top_n, bottom_n\n",
    "\n",
    "# Use the function on your DataFrame\n",
    "top_20_l0, bottom_20_l0 = get_top_bottom_ratio_words(relative_frequency_ratio, n=20, level=0)"
   ]
  },
  {
   "cell_type": "code",
   "execution_count": 48,
   "metadata": {},
   "outputs": [
    {
     "data": {
      "text/html": [
       "<pre style=\"white-space:pre;overflow-x:auto;line-height:normal;font-family:Menlo,'DejaVu Sans Mono',consolas,'Courier New',monospace\"></pre>\n"
      ],
      "text/plain": []
     },
     "metadata": {},
     "output_type": "display_data"
    },
    {
     "data": {
      "text/html": [
       "<div>\n",
       "<style scoped>\n",
       "    .dataframe tbody tr th:only-of-type {\n",
       "        vertical-align: middle;\n",
       "    }\n",
       "\n",
       "    .dataframe tbody tr th {\n",
       "        vertical-align: top;\n",
       "    }\n",
       "\n",
       "    .dataframe thead th {\n",
       "        text-align: right;\n",
       "    }\n",
       "</style>\n",
       "<table border=\"1\" class=\"dataframe\">\n",
       "  <thead>\n",
       "    <tr style=\"text-align: right;\">\n",
       "      <th></th>\n",
       "      <th>filter_af</th>\n",
       "      <th>year</th>\n",
       "      <th>mesh_tree_label</th>\n",
       "      <th>mesh_terms_label</th>\n",
       "      <th>value_af</th>\n",
       "      <th>yearly_counts_af</th>\n",
       "      <th>value_subfields</th>\n",
       "      <th>filter_subfields</th>\n",
       "      <th>yearly_counts_subfields</th>\n",
       "      <th>relative_frequency_ratio</th>\n",
       "    </tr>\n",
       "  </thead>\n",
       "  <tbody>\n",
       "    <tr>\n",
       "      <th>817</th>\n",
       "      <td>2</td>\n",
       "      <td>2022</td>\n",
       "      <td>Otorhinolaryngologic Diseases</td>\n",
       "      <td>Hearing Loss, Sensorineural</td>\n",
       "      <td>0.000068</td>\n",
       "      <td>59016.0</td>\n",
       "      <td>NaN</td>\n",
       "      <td>NaN</td>\n",
       "      <td>NaN</td>\n",
       "      <td>NaN</td>\n",
       "    </tr>\n",
       "    <tr>\n",
       "      <th>818</th>\n",
       "      <td>1</td>\n",
       "      <td>2022</td>\n",
       "      <td>Otorhinolaryngologic Diseases</td>\n",
       "      <td>Hearing Loss, Sensorineural</td>\n",
       "      <td>0.000221</td>\n",
       "      <td>40635.0</td>\n",
       "      <td>NaN</td>\n",
       "      <td>NaN</td>\n",
       "      <td>NaN</td>\n",
       "      <td>NaN</td>\n",
       "    </tr>\n",
       "    <tr>\n",
       "      <th>819</th>\n",
       "      <td>0</td>\n",
       "      <td>2022</td>\n",
       "      <td>Otorhinolaryngologic Diseases</td>\n",
       "      <td>Hearing Loss, Sensorineural</td>\n",
       "      <td>0.000240</td>\n",
       "      <td>20848.0</td>\n",
       "      <td>NaN</td>\n",
       "      <td>NaN</td>\n",
       "      <td>NaN</td>\n",
       "      <td>NaN</td>\n",
       "    </tr>\n",
       "    <tr>\n",
       "      <th>2861</th>\n",
       "      <td>2</td>\n",
       "      <td>2024</td>\n",
       "      <td>Otorhinolaryngologic Diseases</td>\n",
       "      <td>Hearing Loss, Sensorineural</td>\n",
       "      <td>0.000049</td>\n",
       "      <td>20473.0</td>\n",
       "      <td>0.000074</td>\n",
       "      <td>nan</td>\n",
       "      <td>13556.0</td>\n",
       "      <td>0.662140</td>\n",
       "    </tr>\n",
       "    <tr>\n",
       "      <th>2862</th>\n",
       "      <td>1</td>\n",
       "      <td>2024</td>\n",
       "      <td>Otorhinolaryngologic Diseases</td>\n",
       "      <td>Hearing Loss, Sensorineural</td>\n",
       "      <td>0.000124</td>\n",
       "      <td>8069.0</td>\n",
       "      <td>0.000074</td>\n",
       "      <td>nan</td>\n",
       "      <td>13556.0</td>\n",
       "      <td>1.680010</td>\n",
       "    </tr>\n",
       "    <tr>\n",
       "      <th>2863</th>\n",
       "      <td>3</td>\n",
       "      <td>2024</td>\n",
       "      <td>Otorhinolaryngologic Diseases</td>\n",
       "      <td>Hearing Loss, Sensorineural</td>\n",
       "      <td>0.000034</td>\n",
       "      <td>29246.0</td>\n",
       "      <td>0.000074</td>\n",
       "      <td>nan</td>\n",
       "      <td>13556.0</td>\n",
       "      <td>0.463516</td>\n",
       "    </tr>\n",
       "    <tr>\n",
       "      <th>5428</th>\n",
       "      <td>3</td>\n",
       "      <td>2023</td>\n",
       "      <td>Otorhinolaryngologic Diseases</td>\n",
       "      <td>Hearing Loss, Sensorineural</td>\n",
       "      <td>0.000027</td>\n",
       "      <td>256582.0</td>\n",
       "      <td>0.000025</td>\n",
       "      <td>nan</td>\n",
       "      <td>80976.0</td>\n",
       "      <td>1.104583</td>\n",
       "    </tr>\n",
       "    <tr>\n",
       "      <th>5429</th>\n",
       "      <td>1</td>\n",
       "      <td>2023</td>\n",
       "      <td>Otorhinolaryngologic Diseases</td>\n",
       "      <td>Hearing Loss, Sensorineural</td>\n",
       "      <td>0.000092</td>\n",
       "      <td>108534.0</td>\n",
       "      <td>0.000025</td>\n",
       "      <td>nan</td>\n",
       "      <td>80976.0</td>\n",
       "      <td>3.730444</td>\n",
       "    </tr>\n",
       "    <tr>\n",
       "      <th>5430</th>\n",
       "      <td>2</td>\n",
       "      <td>2023</td>\n",
       "      <td>Otorhinolaryngologic Diseases</td>\n",
       "      <td>Hearing Loss, Sensorineural</td>\n",
       "      <td>0.000066</td>\n",
       "      <td>212445.0</td>\n",
       "      <td>0.000025</td>\n",
       "      <td>nan</td>\n",
       "      <td>80976.0</td>\n",
       "      <td>2.668135</td>\n",
       "    </tr>\n",
       "    <tr>\n",
       "      <th>5431</th>\n",
       "      <td>0</td>\n",
       "      <td>2023</td>\n",
       "      <td>Otorhinolaryngologic Diseases</td>\n",
       "      <td>Hearing Loss, Sensorineural</td>\n",
       "      <td>0.000138</td>\n",
       "      <td>29088.0</td>\n",
       "      <td>0.000025</td>\n",
       "      <td>nan</td>\n",
       "      <td>80976.0</td>\n",
       "      <td>5.567657</td>\n",
       "    </tr>\n",
       "    <tr>\n",
       "      <th>9332</th>\n",
       "      <td>0</td>\n",
       "      <td>2021</td>\n",
       "      <td>Otorhinolaryngologic Diseases</td>\n",
       "      <td>Hearing Loss, Sensorineural</td>\n",
       "      <td>0.000344</td>\n",
       "      <td>2909.0</td>\n",
       "      <td>0.000008</td>\n",
       "      <td>nan</td>\n",
       "      <td>126646.0</td>\n",
       "      <td>43.535923</td>\n",
       "    </tr>\n",
       "  </tbody>\n",
       "</table>\n",
       "</div>"
      ],
      "text/plain": [
       "\n",
       "     filter_af  year                mesh_tree_label  \\\n",
       "\u001b[1;36m817\u001b[0m          \u001b[1;36m2\u001b[0m  \u001b[1;36m2022\u001b[0m  Otorhinolaryngologic Diseases   \n",
       "\u001b[1;36m818\u001b[0m          \u001b[1;36m1\u001b[0m  \u001b[1;36m2022\u001b[0m  Otorhinolaryngologic Diseases   \n",
       "\u001b[1;36m819\u001b[0m          \u001b[1;36m0\u001b[0m  \u001b[1;36m2022\u001b[0m  Otorhinolaryngologic Diseases   \n",
       "\u001b[1;36m2861\u001b[0m         \u001b[1;36m2\u001b[0m  \u001b[1;36m2024\u001b[0m  Otorhinolaryngologic Diseases   \n",
       "\u001b[1;36m2862\u001b[0m         \u001b[1;36m1\u001b[0m  \u001b[1;36m2024\u001b[0m  Otorhinolaryngologic Diseases   \n",
       "\u001b[1;36m2863\u001b[0m         \u001b[1;36m3\u001b[0m  \u001b[1;36m2024\u001b[0m  Otorhinolaryngologic Diseases   \n",
       "\u001b[1;36m5428\u001b[0m         \u001b[1;36m3\u001b[0m  \u001b[1;36m2023\u001b[0m  Otorhinolaryngologic Diseases   \n",
       "\u001b[1;36m5429\u001b[0m         \u001b[1;36m1\u001b[0m  \u001b[1;36m2023\u001b[0m  Otorhinolaryngologic Diseases   \n",
       "\u001b[1;36m5430\u001b[0m         \u001b[1;36m2\u001b[0m  \u001b[1;36m2023\u001b[0m  Otorhinolaryngologic Diseases   \n",
       "\u001b[1;36m5431\u001b[0m         \u001b[1;36m0\u001b[0m  \u001b[1;36m2023\u001b[0m  Otorhinolaryngologic Diseases   \n",
       "\u001b[1;36m9332\u001b[0m         \u001b[1;36m0\u001b[0m  \u001b[1;36m2021\u001b[0m  Otorhinolaryngologic Diseases   \n",
       "\n",
       "                 mesh_terms_label  value_af  yearly_counts_af  \\\n",
       "\u001b[1;36m817\u001b[0m   Hearing Loss, Sensorineural  \u001b[1;36m0.000068\u001b[0m           \u001b[1;36m59016.0\u001b[0m   \n",
       "\u001b[1;36m818\u001b[0m   Hearing Loss, Sensorineural  \u001b[1;36m0.000221\u001b[0m           \u001b[1;36m40635.0\u001b[0m   \n",
       "\u001b[1;36m819\u001b[0m   Hearing Loss, Sensorineural  \u001b[1;36m0.000240\u001b[0m           \u001b[1;36m20848.0\u001b[0m   \n",
       "\u001b[1;36m2861\u001b[0m  Hearing Loss, Sensorineural  \u001b[1;36m0.000049\u001b[0m           \u001b[1;36m20473.0\u001b[0m   \n",
       "\u001b[1;36m2862\u001b[0m  Hearing Loss, Sensorineural  \u001b[1;36m0.000124\u001b[0m            \u001b[1;36m8069.0\u001b[0m   \n",
       "\u001b[1;36m2863\u001b[0m  Hearing Loss, Sensorineural  \u001b[1;36m0.000034\u001b[0m           \u001b[1;36m29246.0\u001b[0m   \n",
       "\u001b[1;36m5428\u001b[0m  Hearing Loss, Sensorineural  \u001b[1;36m0.000027\u001b[0m          \u001b[1;36m256582.0\u001b[0m   \n",
       "\u001b[1;36m5429\u001b[0m  Hearing Loss, Sensorineural  \u001b[1;36m0.000092\u001b[0m          \u001b[1;36m108534.0\u001b[0m   \n",
       "\u001b[1;36m5430\u001b[0m  Hearing Loss, Sensorineural  \u001b[1;36m0.000066\u001b[0m          \u001b[1;36m212445.0\u001b[0m   \n",
       "\u001b[1;36m5431\u001b[0m  Hearing Loss, Sensorineural  \u001b[1;36m0.000138\u001b[0m           \u001b[1;36m29088.0\u001b[0m   \n",
       "\u001b[1;36m9332\u001b[0m  Hearing Loss, Sensorineural  \u001b[1;36m0.000344\u001b[0m            \u001b[1;36m2909.0\u001b[0m   \n",
       "\n",
       "      value_subfields filter_subfields  yearly_counts_subfields  \\\n",
       "\u001b[1;36m817\u001b[0m               NaN              NaN                      NaN   \n",
       "\u001b[1;36m818\u001b[0m               NaN              NaN                      NaN   \n",
       "\u001b[1;36m819\u001b[0m               NaN              NaN                      NaN   \n",
       "\u001b[1;36m2861\u001b[0m         \u001b[1;36m0.000074\u001b[0m              nan                  \u001b[1;36m13556.0\u001b[0m   \n",
       "\u001b[1;36m2862\u001b[0m         \u001b[1;36m0.000074\u001b[0m              nan                  \u001b[1;36m13556.0\u001b[0m   \n",
       "\u001b[1;36m2863\u001b[0m         \u001b[1;36m0.000074\u001b[0m              nan                  \u001b[1;36m13556.0\u001b[0m   \n",
       "\u001b[1;36m5428\u001b[0m         \u001b[1;36m0.000025\u001b[0m              nan                  \u001b[1;36m80976.0\u001b[0m   \n",
       "\u001b[1;36m5429\u001b[0m         \u001b[1;36m0.000025\u001b[0m              nan                  \u001b[1;36m80976.0\u001b[0m   \n",
       "\u001b[1;36m5430\u001b[0m         \u001b[1;36m0.000025\u001b[0m              nan                  \u001b[1;36m80976.0\u001b[0m   \n",
       "\u001b[1;36m5431\u001b[0m         \u001b[1;36m0.000025\u001b[0m              nan                  \u001b[1;36m80976.0\u001b[0m   \n",
       "\u001b[1;36m9332\u001b[0m         \u001b[1;36m0.000008\u001b[0m              nan                 \u001b[1;36m126646.0\u001b[0m   \n",
       "\n",
       "      relative_frequency_ratio  \n",
       "\u001b[1;36m817\u001b[0m                        NaN  \n",
       "\u001b[1;36m818\u001b[0m                        NaN  \n",
       "\u001b[1;36m819\u001b[0m                        NaN  \n",
       "\u001b[1;36m2861\u001b[0m                  \u001b[1;36m0.662140\u001b[0m  \n",
       "\u001b[1;36m2862\u001b[0m                  \u001b[1;36m1.680010\u001b[0m  \n",
       "\u001b[1;36m2863\u001b[0m                  \u001b[1;36m0.463516\u001b[0m  \n",
       "\u001b[1;36m5428\u001b[0m                  \u001b[1;36m1.104583\u001b[0m  \n",
       "\u001b[1;36m5429\u001b[0m                  \u001b[1;36m3.730444\u001b[0m  \n",
       "\u001b[1;36m5430\u001b[0m                  \u001b[1;36m2.668135\u001b[0m  \n",
       "\u001b[1;36m5431\u001b[0m                  \u001b[1;36m5.567657\u001b[0m  \n",
       "\u001b[1;36m9332\u001b[0m                 \u001b[1;36m43.535923\u001b[0m  "
      ]
     },
     "execution_count": 48,
     "metadata": {},
     "output_type": "execute_result"
    }
   ],
   "source": [
    "relative_frequency_ratio.loc[relative_frequency_ratio[\"mesh_terms_label\"].str.contains(\"Hearing Loss, Sensorineural\")]"
   ]
  },
  {
   "cell_type": "code",
   "execution_count": 49,
   "metadata": {},
   "outputs": [
    {
     "data": {
      "text/html": [
       "<pre style=\"white-space:pre;overflow-x:auto;line-height:normal;font-family:Menlo,'DejaVu Sans Mono',consolas,'Courier New',monospace\"></pre>\n"
      ],
      "text/plain": []
     },
     "metadata": {},
     "output_type": "display_data"
    },
    {
     "data": {
      "text/html": [
       "\n",
       "<div id=\"altair-viz-357063fa40cd4fb18e2eb9b19c9876cc\"></div>\n",
       "<script type=\"text/javascript\">\n",
       "  var VEGA_DEBUG = (typeof VEGA_DEBUG == \"undefined\") ? {} : VEGA_DEBUG;\n",
       "  (function(spec, embedOpt){\n",
       "    let outputDiv = document.currentScript.previousElementSibling;\n",
       "    if (outputDiv.id !== \"altair-viz-357063fa40cd4fb18e2eb9b19c9876cc\") {\n",
       "      outputDiv = document.getElementById(\"altair-viz-357063fa40cd4fb18e2eb9b19c9876cc\");\n",
       "    }\n",
       "    const paths = {\n",
       "      \"vega\": \"https://cdn.jsdelivr.net/npm//vega@5?noext\",\n",
       "      \"vega-lib\": \"https://cdn.jsdelivr.net/npm//vega-lib?noext\",\n",
       "      \"vega-lite\": \"https://cdn.jsdelivr.net/npm//vega-lite@4.17.0?noext\",\n",
       "      \"vega-embed\": \"https://cdn.jsdelivr.net/npm//vega-embed@6?noext\",\n",
       "    };\n",
       "\n",
       "    function maybeLoadScript(lib, version) {\n",
       "      var key = `${lib.replace(\"-\", \"\")}_version`;\n",
       "      return (VEGA_DEBUG[key] == version) ?\n",
       "        Promise.resolve(paths[lib]) :\n",
       "        new Promise(function(resolve, reject) {\n",
       "          var s = document.createElement('script');\n",
       "          document.getElementsByTagName(\"head\")[0].appendChild(s);\n",
       "          s.async = true;\n",
       "          s.onload = () => {\n",
       "            VEGA_DEBUG[key] = version;\n",
       "            return resolve(paths[lib]);\n",
       "          };\n",
       "          s.onerror = () => reject(`Error loading script: ${paths[lib]}`);\n",
       "          s.src = paths[lib];\n",
       "        });\n",
       "    }\n",
       "\n",
       "    function showError(err) {\n",
       "      outputDiv.innerHTML = `<div class=\"error\" style=\"color:red;\">${err}</div>`;\n",
       "      throw err;\n",
       "    }\n",
       "\n",
       "    function displayChart(vegaEmbed) {\n",
       "      vegaEmbed(outputDiv, spec, embedOpt)\n",
       "        .catch(err => showError(`Javascript Error: ${err.message}<br>This usually means there's a typo in your chart specification. See the javascript console for the full traceback.`));\n",
       "    }\n",
       "\n",
       "    if(typeof define === \"function\" && define.amd) {\n",
       "      requirejs.config({paths});\n",
       "      require([\"vega-embed\"], displayChart, err => showError(`Error loading script: ${err.message}`));\n",
       "    } else {\n",
       "      maybeLoadScript(\"vega\", \"5\")\n",
       "        .then(() => maybeLoadScript(\"vega-lite\", \"4.17.0\"))\n",
       "        .then(() => maybeLoadScript(\"vega-embed\", \"6\"))\n",
       "        .catch(showError)\n",
       "        .then(() => displayChart(vegaEmbed));\n",
       "    }\n",
       "  })({\"config\": {\"view\": {\"continuousWidth\": 400, \"continuousHeight\": 300}}, \"data\": {\"name\": \"data-90eb58c2242e80509532122abd0efc87\"}, \"mark\": \"bar\", \"encoding\": {\"color\": {\"field\": \"mesh_tree_label\", \"type\": \"nominal\"}, \"tooltip\": [{\"field\": \"mesh_terms_label\", \"type\": \"nominal\"}, {\"field\": \"relative_frequency_ratio\", \"type\": \"quantitative\"}, {\"field\": \"mesh_tree_label\", \"type\": \"nominal\"}], \"x\": {\"field\": \"relative_frequency_ratio\", \"type\": \"quantitative\"}, \"y\": {\"field\": \"mesh_terms_label\", \"sort\": \"-x\", \"type\": \"nominal\"}}, \"title\": \"Top Ratio Words for AF Level 0\", \"$schema\": \"https://vega.github.io/schema/vega-lite/v4.17.0.json\", \"datasets\": {\"data-90eb58c2242e80509532122abd0efc87\": [{\"filter_af\": \"0\", \"year\": \"2021\", \"mesh_tree_label\": \"Nervous System Diseases\", \"mesh_terms_label\": \"Williams Syndrome\", \"value_af\": 0.00034376074252320387, \"yearly_counts_af\": 2909.0, \"value_subfields\": 7.896025140944048e-06, \"filter_subfields\": \"nan\", \"yearly_counts_subfields\": 126646.0, \"relative_frequency_ratio\": 43.53592299759368}, {\"filter_af\": \"0\", \"year\": \"2021\", \"mesh_tree_label\": \"Nervous System Diseases\", \"mesh_terms_label\": \"Hallucinations\", \"value_af\": 0.00034376074252320387, \"yearly_counts_af\": 2909.0, \"value_subfields\": 7.896025140944048e-06, \"filter_subfields\": \"nan\", \"yearly_counts_subfields\": 126646.0, \"relative_frequency_ratio\": 43.53592299759368}, {\"filter_af\": \"0\", \"year\": \"2021\", \"mesh_tree_label\": \"Otorhinolaryngologic Diseases\", \"mesh_terms_label\": \"Hearing Loss, Sensorineural\", \"value_af\": 0.00034376074252320387, \"yearly_counts_af\": 2909.0, \"value_subfields\": 7.896025140944048e-06, \"filter_subfields\": \"nan\", \"yearly_counts_subfields\": 126646.0, \"relative_frequency_ratio\": 43.53592299759368}, {\"filter_af\": \"0\", \"year\": \"2021\", \"mesh_tree_label\": \"Musculoskeletal Diseases\", \"mesh_terms_label\": \"Muscular Dystrophies\", \"value_af\": 0.00034376074252320387, \"yearly_counts_af\": 2909.0, \"value_subfields\": 7.896025140944048e-06, \"filter_subfields\": \"nan\", \"yearly_counts_subfields\": 126646.0, \"relative_frequency_ratio\": 43.53592299759368}, {\"filter_af\": \"0\", \"year\": \"2021\", \"mesh_tree_label\": \"Hemic and Lymphatic Diseases\", \"mesh_terms_label\": \"Neutropenia\", \"value_af\": 0.00034376074252320387, \"yearly_counts_af\": 2909.0, \"value_subfields\": 7.896025140944048e-06, \"filter_subfields\": \"nan\", \"yearly_counts_subfields\": 126646.0, \"relative_frequency_ratio\": 43.53592299759368}, {\"filter_af\": \"0\", \"year\": \"2021\", \"mesh_tree_label\": \"Infections\", \"mesh_terms_label\": \"Candidiasis\", \"value_af\": 0.00034376074252320387, \"yearly_counts_af\": 2909.0, \"value_subfields\": 7.896025140944048e-06, \"filter_subfields\": \"nan\", \"yearly_counts_subfields\": 126646.0, \"relative_frequency_ratio\": 43.53592299759368}, {\"filter_af\": \"0\", \"year\": \"2021\", \"mesh_tree_label\": \"Infections\", \"mesh_terms_label\": \"Leishmaniasis\", \"value_af\": 0.00034376074252320387, \"yearly_counts_af\": 2909.0, \"value_subfields\": 7.896025140944048e-06, \"filter_subfields\": \"nan\", \"yearly_counts_subfields\": 126646.0, \"relative_frequency_ratio\": 43.53592299759368}, {\"filter_af\": \"0\", \"year\": \"2022\", \"mesh_tree_label\": \"Otorhinolaryngologic Diseases\", \"mesh_terms_label\": \"Hearing Loss\", \"value_af\": 0.00023983115886415962, \"yearly_counts_af\": 20848.0, \"value_subfields\": 8.338683988892874e-06, \"filter_subfields\": \"nan\", \"yearly_counts_subfields\": 119923.0, \"relative_frequency_ratio\": 28.76127206446661}, {\"filter_af\": \"0\", \"year\": \"2021\", \"mesh_tree_label\": \"Pathological Conditions, Signs and Symptoms\", \"mesh_terms_label\": \"Tetraploidy\", \"value_af\": 0.00034376074252320387, \"yearly_counts_af\": 2909.0, \"value_subfields\": 1.5792050281888097e-05, \"filter_subfields\": \"nan\", \"yearly_counts_subfields\": 126646.0, \"relative_frequency_ratio\": 21.76796149879684}, {\"filter_af\": \"0\", \"year\": \"2021\", \"mesh_tree_label\": \"Infections\", \"mesh_terms_label\": \"Zoonoses\", \"value_af\": 0.00034376074252320387, \"yearly_counts_af\": 2909.0, \"value_subfields\": 1.5792050281888097e-05, \"filter_subfields\": \"nan\", \"yearly_counts_subfields\": 126646.0, \"relative_frequency_ratio\": 21.76796149879684}, {\"filter_af\": \"0\", \"year\": \"2021\", \"mesh_tree_label\": \"Nervous System Diseases\", \"mesh_terms_label\": \"Lewy Body Disease\", \"value_af\": 0.00034376074252320387, \"yearly_counts_af\": 2909.0, \"value_subfields\": 1.5792050281888097e-05, \"filter_subfields\": \"nan\", \"yearly_counts_subfields\": 126646.0, \"relative_frequency_ratio\": 21.76796149879684}, {\"filter_af\": \"0\", \"year\": \"2021\", \"mesh_tree_label\": \"Otorhinolaryngologic Diseases\", \"mesh_terms_label\": \"Wolfram Syndrome\", \"value_af\": 0.00034376074252320387, \"yearly_counts_af\": 2909.0, \"value_subfields\": 1.5792050281888097e-05, \"filter_subfields\": \"nan\", \"yearly_counts_subfields\": 126646.0, \"relative_frequency_ratio\": 21.76796149879684}, {\"filter_af\": \"0\", \"year\": \"2022\", \"mesh_tree_label\": \"Otorhinolaryngologic Diseases\", \"mesh_terms_label\": \"Deafness\", \"value_af\": 0.00014389869531849578, \"yearly_counts_af\": 20848.0, \"value_subfields\": 8.338683988892874e-06, \"filter_subfields\": \"nan\", \"yearly_counts_subfields\": 119923.0, \"relative_frequency_ratio\": 17.25676323867997}, {\"filter_af\": \"0\", \"year\": \"2022\", \"mesh_tree_label\": \"Congenital, Hereditary, and Neonatal Diseases and Abnormalities\", \"mesh_terms_label\": \"Glycogen Storage Disease Type I\", \"value_af\": 0.00014389869531849578, \"yearly_counts_af\": 20848.0, \"value_subfields\": 8.338683988892874e-06, \"filter_subfields\": \"nan\", \"yearly_counts_subfields\": 119923.0, \"relative_frequency_ratio\": 17.25676323867997}, {\"filter_af\": \"0\", \"year\": \"2022\", \"mesh_tree_label\": \"Nervous System Diseases\", \"mesh_terms_label\": \"Muscle Hypotonia\", \"value_af\": 0.00014389869531849578, \"yearly_counts_af\": 20848.0, \"value_subfields\": 8.338683988892874e-06, \"filter_subfields\": \"nan\", \"yearly_counts_subfields\": 119923.0, \"relative_frequency_ratio\": 17.25676323867997}, {\"filter_af\": \"0\", \"year\": \"2024\", \"mesh_tree_label\": \"Infections\", \"mesh_terms_label\": \"Zika Virus Infection\", \"value_af\": 0.001243008079552517, \"yearly_counts_af\": 1609.0, \"value_subfields\": 7.376807317792859e-05, \"filter_subfields\": \"nan\", \"yearly_counts_subfields\": 13556.0, \"relative_frequency_ratio\": 16.85021752641392}, {\"filter_af\": \"0\", \"year\": \"2024\", \"mesh_tree_label\": \"Eye Diseases\", \"mesh_terms_label\": \"Retinal Diseases\", \"value_af\": 0.001243008079552517, \"yearly_counts_af\": 1609.0, \"value_subfields\": 7.376807317792859e-05, \"filter_subfields\": \"nan\", \"yearly_counts_subfields\": 13556.0, \"relative_frequency_ratio\": 16.85021752641392}, {\"filter_af\": \"0\", \"year\": \"2021\", \"mesh_tree_label\": \"Nervous System Diseases\", \"mesh_terms_label\": \"Synucleinopathies\", \"value_af\": 0.00034376074252320387, \"yearly_counts_af\": 2909.0, \"value_subfields\": 2.3688075422832145e-05, \"filter_subfields\": \"nan\", \"yearly_counts_subfields\": 126646.0, \"relative_frequency_ratio\": 14.511974332531226}, {\"filter_af\": \"0\", \"year\": \"2021\", \"mesh_tree_label\": \"Congenital, Hereditary, and Neonatal Diseases and Abnormalities\", \"mesh_terms_label\": \"Genetic Diseases, X-Linked\", \"value_af\": 0.00034376074252320387, \"yearly_counts_af\": 2909.0, \"value_subfields\": 2.3688075422832145e-05, \"filter_subfields\": \"nan\", \"yearly_counts_subfields\": 126646.0, \"relative_frequency_ratio\": 14.511974332531226}, {\"filter_af\": \"0\", \"year\": \"2021\", \"mesh_tree_label\": \"Eye Diseases\", \"mesh_terms_label\": \"Retinitis Pigmentosa\", \"value_af\": 0.00034376074252320387, \"yearly_counts_af\": 2909.0, \"value_subfields\": 2.3688075422832145e-05, \"filter_subfields\": \"nan\", \"yearly_counts_subfields\": 126646.0, \"relative_frequency_ratio\": 14.511974332531226}, {\"filter_af\": \"0\", \"year\": \"2021\", \"mesh_tree_label\": \"Neoplasms\", \"mesh_terms_label\": \"Neurofibromatosis 1\", \"value_af\": 0.00034376074252320387, \"yearly_counts_af\": 2909.0, \"value_subfields\": 2.3688075422832145e-05, \"filter_subfields\": \"nan\", \"yearly_counts_subfields\": 126646.0, \"relative_frequency_ratio\": 14.511974332531226}, {\"filter_af\": \"0\", \"year\": \"2023\", \"mesh_tree_label\": \"Otorhinolaryngologic Diseases\", \"mesh_terms_label\": \"Hearing Loss\", \"value_af\": 0.0001718921892189219, \"yearly_counts_af\": 29088.0, \"value_subfields\": 1.2349338075479154e-05, \"filter_subfields\": \"nan\", \"yearly_counts_subfields\": 80976.0, \"relative_frequency_ratio\": 13.91914191419142}, {\"filter_af\": \"0\", \"year\": \"2023\", \"mesh_tree_label\": \"Infections\", \"mesh_terms_label\": \"Lyme Disease\", \"value_af\": 0.0003437843784378438, \"yearly_counts_af\": 29088.0, \"value_subfields\": 2.469867615095831e-05, \"filter_subfields\": \"nan\", \"yearly_counts_subfields\": 80976.0, \"relative_frequency_ratio\": 13.91914191419142}, {\"filter_af\": \"0\", \"year\": \"2022\", \"mesh_tree_label\": \"Nervous System Diseases\", \"mesh_terms_label\": \"Dystonia\", \"value_af\": 9.593246354566385e-05, \"yearly_counts_af\": 20848.0, \"value_subfields\": 8.338683988892874e-06, \"filter_subfields\": \"nan\", \"yearly_counts_subfields\": 119923.0, \"relative_frequency_ratio\": 11.504508825786646}, {\"filter_af\": \"0\", \"year\": \"2022\", \"mesh_tree_label\": \"Nervous System Diseases\", \"mesh_terms_label\": \"Cerebellar Ataxia\", \"value_af\": 9.593246354566385e-05, \"yearly_counts_af\": 20848.0, \"value_subfields\": 8.338683988892874e-06, \"filter_subfields\": \"nan\", \"yearly_counts_subfields\": 119923.0, \"relative_frequency_ratio\": 11.504508825786646}, {\"filter_af\": \"0\", \"year\": \"2022\", \"mesh_tree_label\": \"Pathological Conditions, Signs and Symptoms\", \"mesh_terms_label\": \"Growth Disorders\", \"value_af\": 9.593246354566385e-05, \"yearly_counts_af\": 20848.0, \"value_subfields\": 8.338683988892874e-06, \"filter_subfields\": \"nan\", \"yearly_counts_subfields\": 119923.0, \"relative_frequency_ratio\": 11.504508825786646}, {\"filter_af\": \"0\", \"year\": \"2022\", \"mesh_tree_label\": \"Infections\", \"mesh_terms_label\": \"Pseudomonas Infections\", \"value_af\": 0.0001918649270913277, \"yearly_counts_af\": 20848.0, \"value_subfields\": 1.6677367977785748e-05, \"filter_subfields\": \"nan\", \"yearly_counts_subfields\": 119923.0, \"relative_frequency_ratio\": 11.504508825786646}, {\"filter_af\": \"0\", \"year\": \"2022\", \"mesh_tree_label\": \"Nervous System Diseases\", \"mesh_terms_label\": \"Ataxia\", \"value_af\": 0.0003837298541826554, \"yearly_counts_af\": 20848.0, \"value_subfields\": 3.3354735955571495e-05, \"filter_subfields\": \"nan\", \"yearly_counts_subfields\": 119923.0, \"relative_frequency_ratio\": 11.504508825786646}, {\"filter_af\": \"0\", \"year\": \"2022\", \"mesh_tree_label\": \"Congenital, Hereditary, and Neonatal Diseases and Abnormalities\", \"mesh_terms_label\": \"Primary Immunodeficiency Diseases\", \"value_af\": 9.593246354566385e-05, \"yearly_counts_af\": 20848.0, \"value_subfields\": 8.338683988892874e-06, \"filter_subfields\": \"nan\", \"yearly_counts_subfields\": 119923.0, \"relative_frequency_ratio\": 11.504508825786646}, {\"filter_af\": \"0\", \"year\": \"2022\", \"mesh_tree_label\": \"Infections\", \"mesh_terms_label\": \"Streptococcal Infections\", \"value_af\": 9.593246354566385e-05, \"yearly_counts_af\": 20848.0, \"value_subfields\": 8.338683988892874e-06, \"filter_subfields\": \"nan\", \"yearly_counts_subfields\": 119923.0, \"relative_frequency_ratio\": 11.504508825786646}, {\"filter_af\": \"0\", \"year\": \"2023\", \"mesh_tree_label\": \"Infections\", \"mesh_terms_label\": \"Bacteremia\", \"value_af\": 0.0001375137513751375, \"yearly_counts_af\": 29088.0, \"value_subfields\": 1.2349338075479154e-05, \"filter_subfields\": \"nan\", \"yearly_counts_subfields\": 80976.0, \"relative_frequency_ratio\": 11.135313531353134}, {\"filter_af\": \"0\", \"year\": \"2023\", \"mesh_tree_label\": \"Infections\", \"mesh_terms_label\": \"Gonorrhea\", \"value_af\": 0.0001375137513751375, \"yearly_counts_af\": 29088.0, \"value_subfields\": 1.2349338075479154e-05, \"filter_subfields\": \"nan\", \"yearly_counts_subfields\": 80976.0, \"relative_frequency_ratio\": 11.135313531353134}, {\"filter_af\": \"0\", \"year\": \"2021\", \"mesh_tree_label\": \"Musculoskeletal Diseases\", \"mesh_terms_label\": \"Gout\", \"value_af\": 0.00034376074252320387, \"yearly_counts_af\": 2909.0, \"value_subfields\": 3.158410056377619e-05, \"filter_subfields\": \"nan\", \"yearly_counts_subfields\": 126646.0, \"relative_frequency_ratio\": 10.88398074939842}, {\"filter_af\": \"0\", \"year\": \"2021\", \"mesh_tree_label\": \"Eye Diseases\", \"mesh_terms_label\": \"Retinal Dystrophies\", \"value_af\": 0.00034376074252320387, \"yearly_counts_af\": 2909.0, \"value_subfields\": 3.158410056377619e-05, \"filter_subfields\": \"nan\", \"yearly_counts_subfields\": 126646.0, \"relative_frequency_ratio\": 10.88398074939842}, {\"filter_af\": \"0\", \"year\": \"2021\", \"mesh_tree_label\": \"Musculoskeletal Diseases\", \"mesh_terms_label\": \"Bone Resorption\", \"value_af\": 0.00034376074252320387, \"yearly_counts_af\": 2909.0, \"value_subfields\": 3.158410056377619e-05, \"filter_subfields\": \"nan\", \"yearly_counts_subfields\": 126646.0, \"relative_frequency_ratio\": 10.88398074939842}, {\"filter_af\": \"0\", \"year\": \"2021\", \"mesh_tree_label\": \"Congenital, Hereditary, and Neonatal Diseases and Abnormalities\", \"mesh_terms_label\": \"Chromosome Disorders\", \"value_af\": 0.00034376074252320387, \"yearly_counts_af\": 2909.0, \"value_subfields\": 3.158410056377619e-05, \"filter_subfields\": \"nan\", \"yearly_counts_subfields\": 126646.0, \"relative_frequency_ratio\": 10.88398074939842}, {\"filter_af\": \"0\", \"year\": \"2021\", \"mesh_tree_label\": \"Musculoskeletal Diseases\", \"mesh_terms_label\": \"Muscular Dystrophy, Facioscapulohumeral\", \"value_af\": 0.00034376074252320387, \"yearly_counts_af\": 2909.0, \"value_subfields\": 3.158410056377619e-05, \"filter_subfields\": \"nan\", \"yearly_counts_subfields\": 126646.0, \"relative_frequency_ratio\": 10.88398074939842}, {\"filter_af\": \"0\", \"year\": \"2021\", \"mesh_tree_label\": \"Pathological Conditions, Signs and Symptoms\", \"mesh_terms_label\": \"Chromosome Deletion\", \"value_af\": 0.00034376074252320387, \"yearly_counts_af\": 2909.0, \"value_subfields\": 3.158410056377619e-05, \"filter_subfields\": \"nan\", \"yearly_counts_subfields\": 126646.0, \"relative_frequency_ratio\": 10.88398074939842}, {\"filter_af\": \"0\", \"year\": \"2023\", \"mesh_tree_label\": \"Musculoskeletal Diseases\", \"mesh_terms_label\": \"Microcephaly\", \"value_af\": 0.00037816281628162815, \"yearly_counts_af\": 29088.0, \"value_subfields\": 3.704801422643746e-05, \"filter_subfields\": \"nan\", \"yearly_counts_subfields\": 80976.0, \"relative_frequency_ratio\": 10.207370737073708}, {\"filter_af\": \"0\", \"year\": \"2021\", \"mesh_tree_label\": \"Eye Diseases\", \"mesh_terms_label\": \"Cataract\", \"value_af\": 0.00034376074252320387, \"yearly_counts_af\": 2909.0, \"value_subfields\": 3.948012570472024e-05, \"filter_subfields\": \"nan\", \"yearly_counts_subfields\": 126646.0, \"relative_frequency_ratio\": 8.707184599518737}, {\"filter_af\": \"0\", \"year\": \"2021\", \"mesh_tree_label\": \"Musculoskeletal Diseases\", \"mesh_terms_label\": \"Microcephaly\", \"value_af\": 0.00034376074252320387, \"yearly_counts_af\": 2909.0, \"value_subfields\": 3.948012570472024e-05, \"filter_subfields\": \"nan\", \"yearly_counts_subfields\": 126646.0, \"relative_frequency_ratio\": 8.707184599518737}, {\"filter_af\": \"0\", \"year\": \"2021\", \"mesh_tree_label\": \"Cardiovascular Diseases\", \"mesh_terms_label\": \"Vascular Diseases\", \"value_af\": 0.00034376074252320387, \"yearly_counts_af\": 2909.0, \"value_subfields\": 3.948012570472024e-05, \"filter_subfields\": \"nan\", \"yearly_counts_subfields\": 126646.0, \"relative_frequency_ratio\": 8.707184599518737}, {\"filter_af\": \"0\", \"year\": \"2022\", \"mesh_tree_label\": \"Infections\", \"mesh_terms_label\": \"Leptospirosis\", \"value_af\": 0.00014389869531849578, \"yearly_counts_af\": 20848.0, \"value_subfields\": 1.6677367977785748e-05, \"filter_subfields\": \"nan\", \"yearly_counts_subfields\": 119923.0, \"relative_frequency_ratio\": 8.628381619339985}, {\"filter_af\": \"0\", \"year\": \"2022\", \"mesh_tree_label\": \"Nervous System Diseases\", \"mesh_terms_label\": \"Spastic Paraplegia, Hereditary\", \"value_af\": 0.00028779739063699157, \"yearly_counts_af\": 20848.0, \"value_subfields\": 3.3354735955571495e-05, \"filter_subfields\": \"nan\", \"yearly_counts_subfields\": 119923.0, \"relative_frequency_ratio\": 8.628381619339985}, {\"filter_af\": \"0\", \"year\": \"2024\", \"mesh_tree_label\": \"Infections\", \"mesh_terms_label\": \"Dengue\", \"value_af\": 0.0006215040397762585, \"yearly_counts_af\": 1609.0, \"value_subfields\": 7.376807317792859e-05, \"filter_subfields\": \"nan\", \"yearly_counts_subfields\": 13556.0, \"relative_frequency_ratio\": 8.42510876320696}, {\"filter_af\": \"0\", \"year\": \"2024\", \"mesh_tree_label\": \"Infections\", \"mesh_terms_label\": \"Staphylococcal Infections\", \"value_af\": 0.0006215040397762585, \"yearly_counts_af\": 1609.0, \"value_subfields\": 7.376807317792859e-05, \"filter_subfields\": \"nan\", \"yearly_counts_subfields\": 13556.0, \"relative_frequency_ratio\": 8.42510876320696}, {\"filter_af\": \"0\", \"year\": \"2024\", \"mesh_tree_label\": \"Infections\", \"mesh_terms_label\": \"African Swine Fever\", \"value_af\": 0.0006215040397762585, \"yearly_counts_af\": 1609.0, \"value_subfields\": 7.376807317792859e-05, \"filter_subfields\": \"nan\", \"yearly_counts_subfields\": 13556.0, \"relative_frequency_ratio\": 8.42510876320696}, {\"filter_af\": \"0\", \"year\": \"2024\", \"mesh_tree_label\": \"Infections\", \"mesh_terms_label\": \"Campylobacter Infections\", \"value_af\": 0.0006215040397762585, \"yearly_counts_af\": 1609.0, \"value_subfields\": 7.376807317792859e-05, \"filter_subfields\": \"nan\", \"yearly_counts_subfields\": 13556.0, \"relative_frequency_ratio\": 8.42510876320696}, {\"filter_af\": \"0\", \"year\": \"2024\", \"mesh_tree_label\": \"Nervous System Diseases\", \"mesh_terms_label\": \"Spinal Dysraphism\", \"value_af\": 0.0006215040397762585, \"yearly_counts_af\": 1609.0, \"value_subfields\": 7.376807317792859e-05, \"filter_subfields\": \"nan\", \"yearly_counts_subfields\": 13556.0, \"relative_frequency_ratio\": 8.42510876320696}, {\"filter_af\": \"0\", \"year\": \"2024\", \"mesh_tree_label\": \"Nervous System Diseases\", \"mesh_terms_label\": \"Nervous System Diseases\", \"value_af\": 0.0006215040397762585, \"yearly_counts_af\": 1609.0, \"value_subfields\": 7.376807317792859e-05, \"filter_subfields\": \"nan\", \"yearly_counts_subfields\": 13556.0, \"relative_frequency_ratio\": 8.42510876320696}, {\"filter_af\": \"0\", \"year\": \"2024\", \"mesh_tree_label\": \"Eye Diseases\", \"mesh_terms_label\": \"Macular Degeneration\", \"value_af\": 0.0006215040397762585, \"yearly_counts_af\": 1609.0, \"value_subfields\": 7.376807317792859e-05, \"filter_subfields\": \"nan\", \"yearly_counts_subfields\": 13556.0, \"relative_frequency_ratio\": 8.42510876320696}, {\"filter_af\": \"0\", \"year\": \"2024\", \"mesh_tree_label\": \"Pathological Conditions, Signs and Symptoms\", \"mesh_terms_label\": \"Neovascularization, Pathologic\", \"value_af\": 0.0006215040397762585, \"yearly_counts_af\": 1609.0, \"value_subfields\": 7.376807317792859e-05, \"filter_subfields\": \"nan\", \"yearly_counts_subfields\": 13556.0, \"relative_frequency_ratio\": 8.42510876320696}, {\"filter_af\": \"0\", \"year\": \"2024\", \"mesh_tree_label\": \"Digestive System Diseases\", \"mesh_terms_label\": \"Gastroenteritis\", \"value_af\": 0.0006215040397762585, \"yearly_counts_af\": 1609.0, \"value_subfields\": 7.376807317792859e-05, \"filter_subfields\": \"nan\", \"yearly_counts_subfields\": 13556.0, \"relative_frequency_ratio\": 8.42510876320696}, {\"filter_af\": \"0\", \"year\": \"2023\", \"mesh_tree_label\": \"Animal Diseases\", \"mesh_terms_label\": \"Fish Diseases\", \"value_af\": 0.00020627062706270627, \"yearly_counts_af\": 29088.0, \"value_subfields\": 2.469867615095831e-05, \"filter_subfields\": \"nan\", \"yearly_counts_subfields\": 80976.0, \"relative_frequency_ratio\": 8.351485148514852}, {\"filter_af\": \"0\", \"year\": \"2023\", \"mesh_tree_label\": \"Infections\", \"mesh_terms_label\": \"Legionnaires' Disease\", \"value_af\": 0.00010313531353135314, \"yearly_counts_af\": 29088.0, \"value_subfields\": 1.2349338075479154e-05, \"filter_subfields\": \"nan\", \"yearly_counts_subfields\": 80976.0, \"relative_frequency_ratio\": 8.351485148514852}, {\"filter_af\": \"0\", \"year\": \"2023\", \"mesh_tree_label\": \"Infections\", \"mesh_terms_label\": \"Streptococcal Infections\", \"value_af\": 0.00010313531353135314, \"yearly_counts_af\": 29088.0, \"value_subfields\": 1.2349338075479154e-05, \"filter_subfields\": \"nan\", \"yearly_counts_subfields\": 80976.0, \"relative_frequency_ratio\": 8.351485148514852}, {\"filter_af\": \"0\", \"year\": \"2023\", \"mesh_tree_label\": \"Infections\", \"mesh_terms_label\": \"Mycobacterium Infections, Nontuberculous\", \"value_af\": 0.00010313531353135314, \"yearly_counts_af\": 29088.0, \"value_subfields\": 1.2349338075479154e-05, \"filter_subfields\": \"nan\", \"yearly_counts_subfields\": 80976.0, \"relative_frequency_ratio\": 8.351485148514852}, {\"filter_af\": \"0\", \"year\": \"2023\", \"mesh_tree_label\": \"Infections\", \"mesh_terms_label\": \"Cryptococcosis\", \"value_af\": 0.00010313531353135314, \"yearly_counts_af\": 29088.0, \"value_subfields\": 1.2349338075479154e-05, \"filter_subfields\": \"nan\", \"yearly_counts_subfields\": 80976.0, \"relative_frequency_ratio\": 8.351485148514852}, {\"filter_af\": \"0\", \"year\": \"2023\", \"mesh_tree_label\": \"Musculoskeletal Diseases\", \"mesh_terms_label\": \"Muscular Dystrophies, Limb-Girdle\", \"value_af\": 0.00010313531353135314, \"yearly_counts_af\": 29088.0, \"value_subfields\": 1.2349338075479154e-05, \"filter_subfields\": \"nan\", \"yearly_counts_subfields\": 80976.0, \"relative_frequency_ratio\": 8.351485148514852}, {\"filter_af\": \"0\", \"year\": \"2023\", \"mesh_tree_label\": \"Digestive System Diseases\", \"mesh_terms_label\": \"Gastroenteritis\", \"value_af\": 0.00010313531353135314, \"yearly_counts_af\": 29088.0, \"value_subfields\": 1.2349338075479154e-05, \"filter_subfields\": \"nan\", \"yearly_counts_subfields\": 80976.0, \"relative_frequency_ratio\": 8.351485148514852}, {\"filter_af\": \"0\", \"year\": \"2023\", \"mesh_tree_label\": \"Hemic and Lymphatic Diseases\", \"mesh_terms_label\": \"Myeloproliferative Disorders\", \"value_af\": 0.00010313531353135314, \"yearly_counts_af\": 29088.0, \"value_subfields\": 1.2349338075479154e-05, \"filter_subfields\": \"nan\", \"yearly_counts_subfields\": 80976.0, \"relative_frequency_ratio\": 8.351485148514852}, {\"filter_af\": \"0\", \"year\": \"2023\", \"mesh_tree_label\": \"Hemic and Lymphatic Diseases\", \"mesh_terms_label\": \"Thrombocytopenia\", \"value_af\": 0.00010313531353135314, \"yearly_counts_af\": 29088.0, \"value_subfields\": 1.2349338075479154e-05, \"filter_subfields\": \"nan\", \"yearly_counts_subfields\": 80976.0, \"relative_frequency_ratio\": 8.351485148514852}, {\"filter_af\": \"0\", \"year\": \"2022\", \"mesh_tree_label\": \"Eye Diseases\", \"mesh_terms_label\": \"Retinal Degeneration\", \"value_af\": 0.0001918649270913277, \"yearly_counts_af\": 20848.0, \"value_subfields\": 2.501605196667862e-05, \"filter_subfields\": \"nan\", \"yearly_counts_subfields\": 119923.0, \"relative_frequency_ratio\": 7.669672550524431}, {\"filter_af\": \"0\", \"year\": \"2022\", \"mesh_tree_label\": \"Congenital, Hereditary, and Neonatal Diseases and Abnormalities\", \"mesh_terms_label\": \"Congenital Disorders of Glycosylation\", \"value_af\": 0.0001918649270913277, \"yearly_counts_af\": 20848.0, \"value_subfields\": 2.501605196667862e-05, \"filter_subfields\": \"nan\", \"yearly_counts_subfields\": 119923.0, \"relative_frequency_ratio\": 7.669672550524431}, {\"filter_af\": \"0\", \"year\": \"2021\", \"mesh_tree_label\": \"Urogenital Diseases\", \"mesh_terms_label\": \"Prenatal Exposure Delayed Effects\", \"value_af\": 0.00034376074252320387, \"yearly_counts_af\": 2909.0, \"value_subfields\": 4.737615084566429e-05, \"filter_subfields\": \"nan\", \"yearly_counts_subfields\": 126646.0, \"relative_frequency_ratio\": 7.255987166265613}, {\"filter_af\": \"0\", \"year\": \"2021\", \"mesh_tree_label\": \"Hemic and Lymphatic Diseases\", \"mesh_terms_label\": \"Myelodysplastic Syndromes\", \"value_af\": 0.00034376074252320387, \"yearly_counts_af\": 2909.0, \"value_subfields\": 4.737615084566429e-05, \"filter_subfields\": \"nan\", \"yearly_counts_subfields\": 126646.0, \"relative_frequency_ratio\": 7.255987166265613}, {\"filter_af\": \"0\", \"year\": \"2023\", \"mesh_tree_label\": \"Nervous System Diseases\", \"mesh_terms_label\": \"Movement Disorders\", \"value_af\": 0.0001718921892189219, \"yearly_counts_af\": 29088.0, \"value_subfields\": 2.469867615095831e-05, \"filter_subfields\": \"nan\", \"yearly_counts_subfields\": 80976.0, \"relative_frequency_ratio\": 6.95957095709571}, {\"filter_af\": \"0\", \"year\": \"2022\", \"mesh_tree_label\": \"Infections\", \"mesh_terms_label\": \"Malaria, Falciparum\", \"value_af\": 0.0006235610130468151, \"yearly_counts_af\": 20848.0, \"value_subfields\": 9.17255238778216e-05, \"filter_subfields\": \"nan\", \"yearly_counts_subfields\": 119923.0, \"relative_frequency_ratio\": 6.798118851601201}, {\"filter_af\": \"0\", \"year\": \"2022\", \"mesh_tree_label\": \"Eye Diseases\", \"mesh_terms_label\": \"Microphthalmos\", \"value_af\": 4.7966231772831926e-05, \"yearly_counts_af\": 20848.0, \"value_subfields\": 8.338683988892874e-06, \"filter_subfields\": \"nan\", \"yearly_counts_subfields\": 119923.0, \"relative_frequency_ratio\": 5.752254412893323}, {\"filter_af\": \"0\", \"year\": \"2022\", \"mesh_tree_label\": \"Eye Diseases\", \"mesh_terms_label\": \"Ectopia Lentis\", \"value_af\": 4.7966231772831926e-05, \"yearly_counts_af\": 20848.0, \"value_subfields\": 8.338683988892874e-06, \"filter_subfields\": \"nan\", \"yearly_counts_subfields\": 119923.0, \"relative_frequency_ratio\": 5.752254412893323}, {\"filter_af\": \"0\", \"year\": \"2022\", \"mesh_tree_label\": \"Eye Diseases\", \"mesh_terms_label\": \"Eye Diseases, Hereditary\", \"value_af\": 4.7966231772831926e-05, \"yearly_counts_af\": 20848.0, \"value_subfields\": 8.338683988892874e-06, \"filter_subfields\": \"nan\", \"yearly_counts_subfields\": 119923.0, \"relative_frequency_ratio\": 5.752254412893323}, {\"filter_af\": \"0\", \"year\": \"2022\", \"mesh_tree_label\": \"Eye Diseases\", \"mesh_terms_label\": \"Corneal Dystrophies, Hereditary\", \"value_af\": 4.7966231772831926e-05, \"yearly_counts_af\": 20848.0, \"value_subfields\": 8.338683988892874e-06, \"filter_subfields\": \"nan\", \"yearly_counts_subfields\": 119923.0, \"relative_frequency_ratio\": 5.752254412893323}, {\"filter_af\": \"0\", \"year\": \"2022\", \"mesh_tree_label\": \"Eye Diseases\", \"mesh_terms_label\": \"Night Blindness\", \"value_af\": 4.7966231772831926e-05, \"yearly_counts_af\": 20848.0, \"value_subfields\": 8.338683988892874e-06, \"filter_subfields\": \"nan\", \"yearly_counts_subfields\": 119923.0, \"relative_frequency_ratio\": 5.752254412893323}, {\"filter_af\": \"0\", \"year\": \"2022\", \"mesh_tree_label\": \"Neoplasms\", \"mesh_terms_label\": \"Retinal Neoplasms\", \"value_af\": 4.7966231772831926e-05, \"yearly_counts_af\": 20848.0, \"value_subfields\": 8.338683988892874e-06, \"filter_subfields\": \"nan\", \"yearly_counts_subfields\": 119923.0, \"relative_frequency_ratio\": 5.752254412893323}, {\"filter_af\": \"0\", \"year\": \"2022\", \"mesh_tree_label\": \"Musculoskeletal Diseases\", \"mesh_terms_label\": \"Cleft Palate\", \"value_af\": 9.593246354566385e-05, \"yearly_counts_af\": 20848.0, \"value_subfields\": 1.6677367977785748e-05, \"filter_subfields\": \"nan\", \"yearly_counts_subfields\": 119923.0, \"relative_frequency_ratio\": 5.752254412893323}, {\"filter_af\": \"0\", \"year\": \"2022\", \"mesh_tree_label\": \"Eye Diseases\", \"mesh_terms_label\": \"Hermanski-Pudlak Syndrome\", \"value_af\": 4.7966231772831926e-05, \"yearly_counts_af\": 20848.0, \"value_subfields\": 8.338683988892874e-06, \"filter_subfields\": \"nan\", \"yearly_counts_subfields\": 119923.0, \"relative_frequency_ratio\": 5.752254412893323}, {\"filter_af\": \"0\", \"year\": \"2022\", \"mesh_tree_label\": \"Neoplasms\", \"mesh_terms_label\": \"Digestive System Neoplasms\", \"value_af\": 4.7966231772831926e-05, \"yearly_counts_af\": 20848.0, \"value_subfields\": 8.338683988892874e-06, \"filter_subfields\": \"nan\", \"yearly_counts_subfields\": 119923.0, \"relative_frequency_ratio\": 5.752254412893323}, {\"filter_af\": \"0\", \"year\": \"2022\", \"mesh_tree_label\": \"Eye Diseases\", \"mesh_terms_label\": \"Eye Abnormalities\", \"value_af\": 9.593246354566385e-05, \"yearly_counts_af\": 20848.0, \"value_subfields\": 1.6677367977785748e-05, \"filter_subfields\": \"nan\", \"yearly_counts_subfields\": 119923.0, \"relative_frequency_ratio\": 5.752254412893323}, {\"filter_af\": \"0\", \"year\": \"2022\", \"mesh_tree_label\": \"Musculoskeletal Diseases\", \"mesh_terms_label\": \"Mucolipidoses\", \"value_af\": 4.7966231772831926e-05, \"yearly_counts_af\": 20848.0, \"value_subfields\": 8.338683988892874e-06, \"filter_subfields\": \"nan\", \"yearly_counts_subfields\": 119923.0, \"relative_frequency_ratio\": 5.752254412893323}, {\"filter_af\": \"0\", \"year\": \"2022\", \"mesh_tree_label\": \"Infections\", \"mesh_terms_label\": \"African Swine Fever\", \"value_af\": 9.593246354566385e-05, \"yearly_counts_af\": 20848.0, \"value_subfields\": 1.6677367977785748e-05, \"filter_subfields\": \"nan\", \"yearly_counts_subfields\": 119923.0, \"relative_frequency_ratio\": 5.752254412893323}]}}, {\"mode\": \"vega-lite\"});\n",
       "</script>"
      ],
      "text/plain": [
       "\u001b[1;35malt.Chart\u001b[0m\u001b[1m(\u001b[0m\u001b[33m...\u001b[0m\u001b[1m)\u001b[0m"
      ]
     },
     "execution_count": 49,
     "metadata": {},
     "output_type": "execute_result"
    }
   ],
   "source": [
    "import altair as alt\n",
    "\n",
    "# Sort the data by 'relative_frequency_ratio' and take the top 5\n",
    "data = top_20_l0.sort_values('relative_frequency_ratio', ascending=False)[:80]\n",
    "\n",
    "# keep the ones that have a rfr of > 1\n",
    "data = data[data['relative_frequency_ratio'] > 1]\n",
    "\n",
    "# Create the chart\n",
    "chart = alt.Chart(data).mark_bar().encode(\n",
    "    x='relative_frequency_ratio:Q',\n",
    "    y=alt.Y('mesh_terms_label:N', sort='-x'),\n",
    "    color='mesh_tree_label:N',\n",
    "    tooltip=['mesh_terms_label', 'relative_frequency_ratio', 'mesh_tree_label']\n",
    ").properties(\n",
    "    title='Top Ratio Words for AF Level 0'\n",
    ")\n",
    "\n",
    "chart"
   ]
  },
  {
   "cell_type": "code",
   "execution_count": 50,
   "metadata": {},
   "outputs": [
    {
     "data": {
      "text/html": [
       "<pre style=\"white-space:pre;overflow-x:auto;line-height:normal;font-family:Menlo,'DejaVu Sans Mono',consolas,'Courier New',monospace\"></pre>\n"
      ],
      "text/plain": []
     },
     "metadata": {},
     "output_type": "display_data"
    },
    {
     "data": {
      "text/html": [
       "\n",
       "<div id=\"altair-viz-c57b8968eae3425cb6634b16c7ba3a1f\"></div>\n",
       "<script type=\"text/javascript\">\n",
       "  var VEGA_DEBUG = (typeof VEGA_DEBUG == \"undefined\") ? {} : VEGA_DEBUG;\n",
       "  (function(spec, embedOpt){\n",
       "    let outputDiv = document.currentScript.previousElementSibling;\n",
       "    if (outputDiv.id !== \"altair-viz-c57b8968eae3425cb6634b16c7ba3a1f\") {\n",
       "      outputDiv = document.getElementById(\"altair-viz-c57b8968eae3425cb6634b16c7ba3a1f\");\n",
       "    }\n",
       "    const paths = {\n",
       "      \"vega\": \"https://cdn.jsdelivr.net/npm//vega@5?noext\",\n",
       "      \"vega-lib\": \"https://cdn.jsdelivr.net/npm//vega-lib?noext\",\n",
       "      \"vega-lite\": \"https://cdn.jsdelivr.net/npm//vega-lite@4.17.0?noext\",\n",
       "      \"vega-embed\": \"https://cdn.jsdelivr.net/npm//vega-embed@6?noext\",\n",
       "    };\n",
       "\n",
       "    function maybeLoadScript(lib, version) {\n",
       "      var key = `${lib.replace(\"-\", \"\")}_version`;\n",
       "      return (VEGA_DEBUG[key] == version) ?\n",
       "        Promise.resolve(paths[lib]) :\n",
       "        new Promise(function(resolve, reject) {\n",
       "          var s = document.createElement('script');\n",
       "          document.getElementsByTagName(\"head\")[0].appendChild(s);\n",
       "          s.async = true;\n",
       "          s.onload = () => {\n",
       "            VEGA_DEBUG[key] = version;\n",
       "            return resolve(paths[lib]);\n",
       "          };\n",
       "          s.onerror = () => reject(`Error loading script: ${paths[lib]}`);\n",
       "          s.src = paths[lib];\n",
       "        });\n",
       "    }\n",
       "\n",
       "    function showError(err) {\n",
       "      outputDiv.innerHTML = `<div class=\"error\" style=\"color:red;\">${err}</div>`;\n",
       "      throw err;\n",
       "    }\n",
       "\n",
       "    function displayChart(vegaEmbed) {\n",
       "      vegaEmbed(outputDiv, spec, embedOpt)\n",
       "        .catch(err => showError(`Javascript Error: ${err.message}<br>This usually means there's a typo in your chart specification. See the javascript console for the full traceback.`));\n",
       "    }\n",
       "\n",
       "    if(typeof define === \"function\" && define.amd) {\n",
       "      requirejs.config({paths});\n",
       "      require([\"vega-embed\"], displayChart, err => showError(`Error loading script: ${err.message}`));\n",
       "    } else {\n",
       "      maybeLoadScript(\"vega\", \"5\")\n",
       "        .then(() => maybeLoadScript(\"vega-lite\", \"4.17.0\"))\n",
       "        .then(() => maybeLoadScript(\"vega-embed\", \"6\"))\n",
       "        .catch(showError)\n",
       "        .then(() => displayChart(vegaEmbed));\n",
       "    }\n",
       "  })({\"config\": {\"view\": {\"continuousWidth\": 400, \"continuousHeight\": 300}}, \"data\": {\"name\": \"data-027e9f8cace157b84ae778ce9413c49d\"}, \"mark\": \"bar\", \"encoding\": {\"color\": {\"field\": \"mesh_tree_label\", \"type\": \"nominal\"}, \"tooltip\": [{\"field\": \"mesh_terms_label\", \"type\": \"nominal\"}, {\"field\": \"relative_frequency_ratio\", \"type\": \"quantitative\"}, {\"field\": \"mesh_tree_label\", \"type\": \"nominal\"}], \"x\": {\"field\": \"relative_frequency_ratio\", \"type\": \"quantitative\"}, \"y\": {\"field\": \"mesh_terms_label\", \"sort\": \"-x\", \"type\": \"nominal\"}}, \"title\": \"Top Ratio Words for AF Level 0 - 4th Quantile\", \"$schema\": \"https://vega.github.io/schema/vega-lite/v4.17.0.json\", \"datasets\": {\"data-027e9f8cace157b84ae778ce9413c49d\": [{\"filter_af\": \"0\", \"year\": \"2021\", \"mesh_tree_label\": \"Nervous System Diseases\", \"mesh_terms_label\": \"Williams Syndrome\", \"value_af\": 0.00034376074252320387, \"yearly_counts_af\": 2909.0, \"value_subfields\": 7.896025140944048e-06, \"filter_subfields\": \"nan\", \"yearly_counts_subfields\": 126646.0, \"relative_frequency_ratio\": 43.53592299759368}, {\"filter_af\": \"0\", \"year\": \"2021\", \"mesh_tree_label\": \"Hemic and Lymphatic Diseases\", \"mesh_terms_label\": \"Neutropenia\", \"value_af\": 0.00034376074252320387, \"yearly_counts_af\": 2909.0, \"value_subfields\": 7.896025140944048e-06, \"filter_subfields\": \"nan\", \"yearly_counts_subfields\": 126646.0, \"relative_frequency_ratio\": 43.53592299759368}, {\"filter_af\": \"0\", \"year\": \"2021\", \"mesh_tree_label\": \"Nervous System Diseases\", \"mesh_terms_label\": \"Hallucinations\", \"value_af\": 0.00034376074252320387, \"yearly_counts_af\": 2909.0, \"value_subfields\": 7.896025140944048e-06, \"filter_subfields\": \"nan\", \"yearly_counts_subfields\": 126646.0, \"relative_frequency_ratio\": 43.53592299759368}, {\"filter_af\": \"0\", \"year\": \"2021\", \"mesh_tree_label\": \"Musculoskeletal Diseases\", \"mesh_terms_label\": \"Muscular Dystrophies\", \"value_af\": 0.00034376074252320387, \"yearly_counts_af\": 2909.0, \"value_subfields\": 7.896025140944048e-06, \"filter_subfields\": \"nan\", \"yearly_counts_subfields\": 126646.0, \"relative_frequency_ratio\": 43.53592299759368}, {\"filter_af\": \"0\", \"year\": \"2021\", \"mesh_tree_label\": \"Otorhinolaryngologic Diseases\", \"mesh_terms_label\": \"Hearing Loss, Sensorineural\", \"value_af\": 0.00034376074252320387, \"yearly_counts_af\": 2909.0, \"value_subfields\": 7.896025140944048e-06, \"filter_subfields\": \"nan\", \"yearly_counts_subfields\": 126646.0, \"relative_frequency_ratio\": 43.53592299759368}, {\"filter_af\": \"0\", \"year\": \"2021\", \"mesh_tree_label\": \"Infections\", \"mesh_terms_label\": \"Leishmaniasis\", \"value_af\": 0.00034376074252320387, \"yearly_counts_af\": 2909.0, \"value_subfields\": 7.896025140944048e-06, \"filter_subfields\": \"nan\", \"yearly_counts_subfields\": 126646.0, \"relative_frequency_ratio\": 43.53592299759368}, {\"filter_af\": \"0\", \"year\": \"2021\", \"mesh_tree_label\": \"Infections\", \"mesh_terms_label\": \"Candidiasis\", \"value_af\": 0.00034376074252320387, \"yearly_counts_af\": 2909.0, \"value_subfields\": 7.896025140944048e-06, \"filter_subfields\": \"nan\", \"yearly_counts_subfields\": 126646.0, \"relative_frequency_ratio\": 43.53592299759368}, {\"filter_af\": \"0\", \"year\": \"2022\", \"mesh_tree_label\": \"Otorhinolaryngologic Diseases\", \"mesh_terms_label\": \"Hearing Loss\", \"value_af\": 0.00023983115886415962, \"yearly_counts_af\": 20848.0, \"value_subfields\": 8.338683988892874e-06, \"filter_subfields\": \"nan\", \"yearly_counts_subfields\": 119923.0, \"relative_frequency_ratio\": 28.76127206446661}, {\"filter_af\": \"0\", \"year\": \"2021\", \"mesh_tree_label\": \"Otorhinolaryngologic Diseases\", \"mesh_terms_label\": \"Wolfram Syndrome\", \"value_af\": 0.00034376074252320387, \"yearly_counts_af\": 2909.0, \"value_subfields\": 1.5792050281888097e-05, \"filter_subfields\": \"nan\", \"yearly_counts_subfields\": 126646.0, \"relative_frequency_ratio\": 21.76796149879684}, {\"filter_af\": \"0\", \"year\": \"2021\", \"mesh_tree_label\": \"Infections\", \"mesh_terms_label\": \"Zoonoses\", \"value_af\": 0.00034376074252320387, \"yearly_counts_af\": 2909.0, \"value_subfields\": 1.5792050281888097e-05, \"filter_subfields\": \"nan\", \"yearly_counts_subfields\": 126646.0, \"relative_frequency_ratio\": 21.76796149879684}, {\"filter_af\": \"0\", \"year\": \"2021\", \"mesh_tree_label\": \"Nervous System Diseases\", \"mesh_terms_label\": \"Lewy Body Disease\", \"value_af\": 0.00034376074252320387, \"yearly_counts_af\": 2909.0, \"value_subfields\": 1.5792050281888097e-05, \"filter_subfields\": \"nan\", \"yearly_counts_subfields\": 126646.0, \"relative_frequency_ratio\": 21.76796149879684}, {\"filter_af\": \"0\", \"year\": \"2021\", \"mesh_tree_label\": \"Pathological Conditions, Signs and Symptoms\", \"mesh_terms_label\": \"Tetraploidy\", \"value_af\": 0.00034376074252320387, \"yearly_counts_af\": 2909.0, \"value_subfields\": 1.5792050281888097e-05, \"filter_subfields\": \"nan\", \"yearly_counts_subfields\": 126646.0, \"relative_frequency_ratio\": 21.76796149879684}, {\"filter_af\": \"0\", \"year\": \"2022\", \"mesh_tree_label\": \"Congenital, Hereditary, and Neonatal Diseases and Abnormalities\", \"mesh_terms_label\": \"Glycogen Storage Disease Type I\", \"value_af\": 0.00014389869531849578, \"yearly_counts_af\": 20848.0, \"value_subfields\": 8.338683988892874e-06, \"filter_subfields\": \"nan\", \"yearly_counts_subfields\": 119923.0, \"relative_frequency_ratio\": 17.25676323867997}, {\"filter_af\": \"0\", \"year\": \"2022\", \"mesh_tree_label\": \"Otorhinolaryngologic Diseases\", \"mesh_terms_label\": \"Deafness\", \"value_af\": 0.00014389869531849578, \"yearly_counts_af\": 20848.0, \"value_subfields\": 8.338683988892874e-06, \"filter_subfields\": \"nan\", \"yearly_counts_subfields\": 119923.0, \"relative_frequency_ratio\": 17.25676323867997}, {\"filter_af\": \"0\", \"year\": \"2022\", \"mesh_tree_label\": \"Nervous System Diseases\", \"mesh_terms_label\": \"Muscle Hypotonia\", \"value_af\": 0.00014389869531849578, \"yearly_counts_af\": 20848.0, \"value_subfields\": 8.338683988892874e-06, \"filter_subfields\": \"nan\", \"yearly_counts_subfields\": 119923.0, \"relative_frequency_ratio\": 17.25676323867997}, {\"filter_af\": \"0\", \"year\": \"2024\", \"mesh_tree_label\": \"Infections\", \"mesh_terms_label\": \"Zika Virus Infection\", \"value_af\": 0.001243008079552517, \"yearly_counts_af\": 1609.0, \"value_subfields\": 7.376807317792859e-05, \"filter_subfields\": \"nan\", \"yearly_counts_subfields\": 13556.0, \"relative_frequency_ratio\": 16.85021752641392}, {\"filter_af\": \"0\", \"year\": \"2024\", \"mesh_tree_label\": \"Eye Diseases\", \"mesh_terms_label\": \"Retinal Diseases\", \"value_af\": 0.001243008079552517, \"yearly_counts_af\": 1609.0, \"value_subfields\": 7.376807317792859e-05, \"filter_subfields\": \"nan\", \"yearly_counts_subfields\": 13556.0, \"relative_frequency_ratio\": 16.85021752641392}, {\"filter_af\": \"0\", \"year\": \"2021\", \"mesh_tree_label\": \"Congenital, Hereditary, and Neonatal Diseases and Abnormalities\", \"mesh_terms_label\": \"Genetic Diseases, X-Linked\", \"value_af\": 0.00034376074252320387, \"yearly_counts_af\": 2909.0, \"value_subfields\": 2.3688075422832145e-05, \"filter_subfields\": \"nan\", \"yearly_counts_subfields\": 126646.0, \"relative_frequency_ratio\": 14.511974332531226}, {\"filter_af\": \"0\", \"year\": \"2021\", \"mesh_tree_label\": \"Nervous System Diseases\", \"mesh_terms_label\": \"Synucleinopathies\", \"value_af\": 0.00034376074252320387, \"yearly_counts_af\": 2909.0, \"value_subfields\": 2.3688075422832145e-05, \"filter_subfields\": \"nan\", \"yearly_counts_subfields\": 126646.0, \"relative_frequency_ratio\": 14.511974332531226}, {\"filter_af\": \"0\", \"year\": \"2021\", \"mesh_tree_label\": \"Neoplasms\", \"mesh_terms_label\": \"Neurofibromatosis 1\", \"value_af\": 0.00034376074252320387, \"yearly_counts_af\": 2909.0, \"value_subfields\": 2.3688075422832145e-05, \"filter_subfields\": \"nan\", \"yearly_counts_subfields\": 126646.0, \"relative_frequency_ratio\": 14.511974332531226}, {\"filter_af\": \"0\", \"year\": \"2021\", \"mesh_tree_label\": \"Eye Diseases\", \"mesh_terms_label\": \"Retinitis Pigmentosa\", \"value_af\": 0.00034376074252320387, \"yearly_counts_af\": 2909.0, \"value_subfields\": 2.3688075422832145e-05, \"filter_subfields\": \"nan\", \"yearly_counts_subfields\": 126646.0, \"relative_frequency_ratio\": 14.511974332531226}, {\"filter_af\": \"0\", \"year\": \"2023\", \"mesh_tree_label\": \"Otorhinolaryngologic Diseases\", \"mesh_terms_label\": \"Hearing Loss\", \"value_af\": 0.0001718921892189219, \"yearly_counts_af\": 29088.0, \"value_subfields\": 1.2349338075479154e-05, \"filter_subfields\": \"nan\", \"yearly_counts_subfields\": 80976.0, \"relative_frequency_ratio\": 13.91914191419142}, {\"filter_af\": \"0\", \"year\": \"2023\", \"mesh_tree_label\": \"Infections\", \"mesh_terms_label\": \"Lyme Disease\", \"value_af\": 0.0003437843784378438, \"yearly_counts_af\": 29088.0, \"value_subfields\": 2.469867615095831e-05, \"filter_subfields\": \"nan\", \"yearly_counts_subfields\": 80976.0, \"relative_frequency_ratio\": 13.91914191419142}, {\"filter_af\": \"0\", \"year\": \"2022\", \"mesh_tree_label\": \"Nervous System Diseases\", \"mesh_terms_label\": \"Cerebellar Ataxia\", \"value_af\": 9.593246354566385e-05, \"yearly_counts_af\": 20848.0, \"value_subfields\": 8.338683988892874e-06, \"filter_subfields\": \"nan\", \"yearly_counts_subfields\": 119923.0, \"relative_frequency_ratio\": 11.504508825786646}, {\"filter_af\": \"0\", \"year\": \"2022\", \"mesh_tree_label\": \"Infections\", \"mesh_terms_label\": \"Streptococcal Infections\", \"value_af\": 9.593246354566385e-05, \"yearly_counts_af\": 20848.0, \"value_subfields\": 8.338683988892874e-06, \"filter_subfields\": \"nan\", \"yearly_counts_subfields\": 119923.0, \"relative_frequency_ratio\": 11.504508825786646}, {\"filter_af\": \"0\", \"year\": \"2022\", \"mesh_tree_label\": \"Pathological Conditions, Signs and Symptoms\", \"mesh_terms_label\": \"Growth Disorders\", \"value_af\": 9.593246354566385e-05, \"yearly_counts_af\": 20848.0, \"value_subfields\": 8.338683988892874e-06, \"filter_subfields\": \"nan\", \"yearly_counts_subfields\": 119923.0, \"relative_frequency_ratio\": 11.504508825786646}, {\"filter_af\": \"0\", \"year\": \"2022\", \"mesh_tree_label\": \"Infections\", \"mesh_terms_label\": \"Pseudomonas Infections\", \"value_af\": 0.0001918649270913277, \"yearly_counts_af\": 20848.0, \"value_subfields\": 1.6677367977785748e-05, \"filter_subfields\": \"nan\", \"yearly_counts_subfields\": 119923.0, \"relative_frequency_ratio\": 11.504508825786646}, {\"filter_af\": \"0\", \"year\": \"2022\", \"mesh_tree_label\": \"Nervous System Diseases\", \"mesh_terms_label\": \"Dystonia\", \"value_af\": 9.593246354566385e-05, \"yearly_counts_af\": 20848.0, \"value_subfields\": 8.338683988892874e-06, \"filter_subfields\": \"nan\", \"yearly_counts_subfields\": 119923.0, \"relative_frequency_ratio\": 11.504508825786646}, {\"filter_af\": \"0\", \"year\": \"2022\", \"mesh_tree_label\": \"Congenital, Hereditary, and Neonatal Diseases and Abnormalities\", \"mesh_terms_label\": \"Primary Immunodeficiency Diseases\", \"value_af\": 9.593246354566385e-05, \"yearly_counts_af\": 20848.0, \"value_subfields\": 8.338683988892874e-06, \"filter_subfields\": \"nan\", \"yearly_counts_subfields\": 119923.0, \"relative_frequency_ratio\": 11.504508825786646}, {\"filter_af\": \"0\", \"year\": \"2022\", \"mesh_tree_label\": \"Nervous System Diseases\", \"mesh_terms_label\": \"Ataxia\", \"value_af\": 0.0003837298541826554, \"yearly_counts_af\": 20848.0, \"value_subfields\": 3.3354735955571495e-05, \"filter_subfields\": \"nan\", \"yearly_counts_subfields\": 119923.0, \"relative_frequency_ratio\": 11.504508825786646}, {\"filter_af\": \"0\", \"year\": \"2023\", \"mesh_tree_label\": \"Infections\", \"mesh_terms_label\": \"Bacteremia\", \"value_af\": 0.0001375137513751375, \"yearly_counts_af\": 29088.0, \"value_subfields\": 1.2349338075479154e-05, \"filter_subfields\": \"nan\", \"yearly_counts_subfields\": 80976.0, \"relative_frequency_ratio\": 11.135313531353134}, {\"filter_af\": \"0\", \"year\": \"2023\", \"mesh_tree_label\": \"Infections\", \"mesh_terms_label\": \"Gonorrhea\", \"value_af\": 0.0001375137513751375, \"yearly_counts_af\": 29088.0, \"value_subfields\": 1.2349338075479154e-05, \"filter_subfields\": \"nan\", \"yearly_counts_subfields\": 80976.0, \"relative_frequency_ratio\": 11.135313531353134}, {\"filter_af\": \"0\", \"year\": \"2021\", \"mesh_tree_label\": \"Musculoskeletal Diseases\", \"mesh_terms_label\": \"Muscular Dystrophy, Facioscapulohumeral\", \"value_af\": 0.00034376074252320387, \"yearly_counts_af\": 2909.0, \"value_subfields\": 3.158410056377619e-05, \"filter_subfields\": \"nan\", \"yearly_counts_subfields\": 126646.0, \"relative_frequency_ratio\": 10.88398074939842}, {\"filter_af\": \"0\", \"year\": \"2021\", \"mesh_tree_label\": \"Eye Diseases\", \"mesh_terms_label\": \"Retinal Dystrophies\", \"value_af\": 0.00034376074252320387, \"yearly_counts_af\": 2909.0, \"value_subfields\": 3.158410056377619e-05, \"filter_subfields\": \"nan\", \"yearly_counts_subfields\": 126646.0, \"relative_frequency_ratio\": 10.88398074939842}, {\"filter_af\": \"0\", \"year\": \"2021\", \"mesh_tree_label\": \"Congenital, Hereditary, and Neonatal Diseases and Abnormalities\", \"mesh_terms_label\": \"Chromosome Disorders\", \"value_af\": 0.00034376074252320387, \"yearly_counts_af\": 2909.0, \"value_subfields\": 3.158410056377619e-05, \"filter_subfields\": \"nan\", \"yearly_counts_subfields\": 126646.0, \"relative_frequency_ratio\": 10.88398074939842}, {\"filter_af\": \"0\", \"year\": \"2021\", \"mesh_tree_label\": \"Pathological Conditions, Signs and Symptoms\", \"mesh_terms_label\": \"Chromosome Deletion\", \"value_af\": 0.00034376074252320387, \"yearly_counts_af\": 2909.0, \"value_subfields\": 3.158410056377619e-05, \"filter_subfields\": \"nan\", \"yearly_counts_subfields\": 126646.0, \"relative_frequency_ratio\": 10.88398074939842}, {\"filter_af\": \"0\", \"year\": \"2021\", \"mesh_tree_label\": \"Musculoskeletal Diseases\", \"mesh_terms_label\": \"Bone Resorption\", \"value_af\": 0.00034376074252320387, \"yearly_counts_af\": 2909.0, \"value_subfields\": 3.158410056377619e-05, \"filter_subfields\": \"nan\", \"yearly_counts_subfields\": 126646.0, \"relative_frequency_ratio\": 10.88398074939842}, {\"filter_af\": \"0\", \"year\": \"2021\", \"mesh_tree_label\": \"Musculoskeletal Diseases\", \"mesh_terms_label\": \"Gout\", \"value_af\": 0.00034376074252320387, \"yearly_counts_af\": 2909.0, \"value_subfields\": 3.158410056377619e-05, \"filter_subfields\": \"nan\", \"yearly_counts_subfields\": 126646.0, \"relative_frequency_ratio\": 10.88398074939842}, {\"filter_af\": \"0\", \"year\": \"2023\", \"mesh_tree_label\": \"Musculoskeletal Diseases\", \"mesh_terms_label\": \"Microcephaly\", \"value_af\": 0.00037816281628162815, \"yearly_counts_af\": 29088.0, \"value_subfields\": 3.704801422643746e-05, \"filter_subfields\": \"nan\", \"yearly_counts_subfields\": 80976.0, \"relative_frequency_ratio\": 10.207370737073708}, {\"filter_af\": \"0\", \"year\": \"2021\", \"mesh_tree_label\": \"Eye Diseases\", \"mesh_terms_label\": \"Cataract\", \"value_af\": 0.00034376074252320387, \"yearly_counts_af\": 2909.0, \"value_subfields\": 3.948012570472024e-05, \"filter_subfields\": \"nan\", \"yearly_counts_subfields\": 126646.0, \"relative_frequency_ratio\": 8.707184599518737}, {\"filter_af\": \"0\", \"year\": \"2021\", \"mesh_tree_label\": \"Musculoskeletal Diseases\", \"mesh_terms_label\": \"Microcephaly\", \"value_af\": 0.00034376074252320387, \"yearly_counts_af\": 2909.0, \"value_subfields\": 3.948012570472024e-05, \"filter_subfields\": \"nan\", \"yearly_counts_subfields\": 126646.0, \"relative_frequency_ratio\": 8.707184599518737}, {\"filter_af\": \"0\", \"year\": \"2021\", \"mesh_tree_label\": \"Cardiovascular Diseases\", \"mesh_terms_label\": \"Vascular Diseases\", \"value_af\": 0.00034376074252320387, \"yearly_counts_af\": 2909.0, \"value_subfields\": 3.948012570472024e-05, \"filter_subfields\": \"nan\", \"yearly_counts_subfields\": 126646.0, \"relative_frequency_ratio\": 8.707184599518737}, {\"filter_af\": \"0\", \"year\": \"2022\", \"mesh_tree_label\": \"Infections\", \"mesh_terms_label\": \"Leptospirosis\", \"value_af\": 0.00014389869531849578, \"yearly_counts_af\": 20848.0, \"value_subfields\": 1.6677367977785748e-05, \"filter_subfields\": \"nan\", \"yearly_counts_subfields\": 119923.0, \"relative_frequency_ratio\": 8.628381619339985}, {\"filter_af\": \"0\", \"year\": \"2022\", \"mesh_tree_label\": \"Nervous System Diseases\", \"mesh_terms_label\": \"Spastic Paraplegia, Hereditary\", \"value_af\": 0.00028779739063699157, \"yearly_counts_af\": 20848.0, \"value_subfields\": 3.3354735955571495e-05, \"filter_subfields\": \"nan\", \"yearly_counts_subfields\": 119923.0, \"relative_frequency_ratio\": 8.628381619339985}, {\"filter_af\": \"0\", \"year\": \"2024\", \"mesh_tree_label\": \"Nervous System Diseases\", \"mesh_terms_label\": \"Spinal Dysraphism\", \"value_af\": 0.0006215040397762585, \"yearly_counts_af\": 1609.0, \"value_subfields\": 7.376807317792859e-05, \"filter_subfields\": \"nan\", \"yearly_counts_subfields\": 13556.0, \"relative_frequency_ratio\": 8.42510876320696}, {\"filter_af\": \"0\", \"year\": \"2024\", \"mesh_tree_label\": \"Nervous System Diseases\", \"mesh_terms_label\": \"Nervous System Diseases\", \"value_af\": 0.0006215040397762585, \"yearly_counts_af\": 1609.0, \"value_subfields\": 7.376807317792859e-05, \"filter_subfields\": \"nan\", \"yearly_counts_subfields\": 13556.0, \"relative_frequency_ratio\": 8.42510876320696}, {\"filter_af\": \"0\", \"year\": \"2024\", \"mesh_tree_label\": \"Infections\", \"mesh_terms_label\": \"Dengue\", \"value_af\": 0.0006215040397762585, \"yearly_counts_af\": 1609.0, \"value_subfields\": 7.376807317792859e-05, \"filter_subfields\": \"nan\", \"yearly_counts_subfields\": 13556.0, \"relative_frequency_ratio\": 8.42510876320696}, {\"filter_af\": \"0\", \"year\": \"2024\", \"mesh_tree_label\": \"Infections\", \"mesh_terms_label\": \"Staphylococcal Infections\", \"value_af\": 0.0006215040397762585, \"yearly_counts_af\": 1609.0, \"value_subfields\": 7.376807317792859e-05, \"filter_subfields\": \"nan\", \"yearly_counts_subfields\": 13556.0, \"relative_frequency_ratio\": 8.42510876320696}, {\"filter_af\": \"0\", \"year\": \"2024\", \"mesh_tree_label\": \"Infections\", \"mesh_terms_label\": \"Campylobacter Infections\", \"value_af\": 0.0006215040397762585, \"yearly_counts_af\": 1609.0, \"value_subfields\": 7.376807317792859e-05, \"filter_subfields\": \"nan\", \"yearly_counts_subfields\": 13556.0, \"relative_frequency_ratio\": 8.42510876320696}, {\"filter_af\": \"0\", \"year\": \"2024\", \"mesh_tree_label\": \"Digestive System Diseases\", \"mesh_terms_label\": \"Gastroenteritis\", \"value_af\": 0.0006215040397762585, \"yearly_counts_af\": 1609.0, \"value_subfields\": 7.376807317792859e-05, \"filter_subfields\": \"nan\", \"yearly_counts_subfields\": 13556.0, \"relative_frequency_ratio\": 8.42510876320696}, {\"filter_af\": \"0\", \"year\": \"2024\", \"mesh_tree_label\": \"Infections\", \"mesh_terms_label\": \"African Swine Fever\", \"value_af\": 0.0006215040397762585, \"yearly_counts_af\": 1609.0, \"value_subfields\": 7.376807317792859e-05, \"filter_subfields\": \"nan\", \"yearly_counts_subfields\": 13556.0, \"relative_frequency_ratio\": 8.42510876320696}, {\"filter_af\": \"0\", \"year\": \"2024\", \"mesh_tree_label\": \"Pathological Conditions, Signs and Symptoms\", \"mesh_terms_label\": \"Neovascularization, Pathologic\", \"value_af\": 0.0006215040397762585, \"yearly_counts_af\": 1609.0, \"value_subfields\": 7.376807317792859e-05, \"filter_subfields\": \"nan\", \"yearly_counts_subfields\": 13556.0, \"relative_frequency_ratio\": 8.42510876320696}, {\"filter_af\": \"0\", \"year\": \"2024\", \"mesh_tree_label\": \"Eye Diseases\", \"mesh_terms_label\": \"Macular Degeneration\", \"value_af\": 0.0006215040397762585, \"yearly_counts_af\": 1609.0, \"value_subfields\": 7.376807317792859e-05, \"filter_subfields\": \"nan\", \"yearly_counts_subfields\": 13556.0, \"relative_frequency_ratio\": 8.42510876320696}, {\"filter_af\": \"0\", \"year\": \"2023\", \"mesh_tree_label\": \"Infections\", \"mesh_terms_label\": \"Mycobacterium Infections, Nontuberculous\", \"value_af\": 0.00010313531353135314, \"yearly_counts_af\": 29088.0, \"value_subfields\": 1.2349338075479154e-05, \"filter_subfields\": \"nan\", \"yearly_counts_subfields\": 80976.0, \"relative_frequency_ratio\": 8.351485148514852}, {\"filter_af\": \"0\", \"year\": \"2023\", \"mesh_tree_label\": \"Infections\", \"mesh_terms_label\": \"Legionnaires' Disease\", \"value_af\": 0.00010313531353135314, \"yearly_counts_af\": 29088.0, \"value_subfields\": 1.2349338075479154e-05, \"filter_subfields\": \"nan\", \"yearly_counts_subfields\": 80976.0, \"relative_frequency_ratio\": 8.351485148514852}, {\"filter_af\": \"0\", \"year\": \"2023\", \"mesh_tree_label\": \"Animal Diseases\", \"mesh_terms_label\": \"Fish Diseases\", \"value_af\": 0.00020627062706270627, \"yearly_counts_af\": 29088.0, \"value_subfields\": 2.469867615095831e-05, \"filter_subfields\": \"nan\", \"yearly_counts_subfields\": 80976.0, \"relative_frequency_ratio\": 8.351485148514852}, {\"filter_af\": \"0\", \"year\": \"2023\", \"mesh_tree_label\": \"Infections\", \"mesh_terms_label\": \"Streptococcal Infections\", \"value_af\": 0.00010313531353135314, \"yearly_counts_af\": 29088.0, \"value_subfields\": 1.2349338075479154e-05, \"filter_subfields\": \"nan\", \"yearly_counts_subfields\": 80976.0, \"relative_frequency_ratio\": 8.351485148514852}, {\"filter_af\": \"0\", \"year\": \"2023\", \"mesh_tree_label\": \"Digestive System Diseases\", \"mesh_terms_label\": \"Gastroenteritis\", \"value_af\": 0.00010313531353135314, \"yearly_counts_af\": 29088.0, \"value_subfields\": 1.2349338075479154e-05, \"filter_subfields\": \"nan\", \"yearly_counts_subfields\": 80976.0, \"relative_frequency_ratio\": 8.351485148514852}, {\"filter_af\": \"0\", \"year\": \"2023\", \"mesh_tree_label\": \"Infections\", \"mesh_terms_label\": \"Cryptococcosis\", \"value_af\": 0.00010313531353135314, \"yearly_counts_af\": 29088.0, \"value_subfields\": 1.2349338075479154e-05, \"filter_subfields\": \"nan\", \"yearly_counts_subfields\": 80976.0, \"relative_frequency_ratio\": 8.351485148514852}, {\"filter_af\": \"0\", \"year\": \"2023\", \"mesh_tree_label\": \"Hemic and Lymphatic Diseases\", \"mesh_terms_label\": \"Myeloproliferative Disorders\", \"value_af\": 0.00010313531353135314, \"yearly_counts_af\": 29088.0, \"value_subfields\": 1.2349338075479154e-05, \"filter_subfields\": \"nan\", \"yearly_counts_subfields\": 80976.0, \"relative_frequency_ratio\": 8.351485148514852}, {\"filter_af\": \"0\", \"year\": \"2023\", \"mesh_tree_label\": \"Hemic and Lymphatic Diseases\", \"mesh_terms_label\": \"Thrombocytopenia\", \"value_af\": 0.00010313531353135314, \"yearly_counts_af\": 29088.0, \"value_subfields\": 1.2349338075479154e-05, \"filter_subfields\": \"nan\", \"yearly_counts_subfields\": 80976.0, \"relative_frequency_ratio\": 8.351485148514852}, {\"filter_af\": \"0\", \"year\": \"2023\", \"mesh_tree_label\": \"Musculoskeletal Diseases\", \"mesh_terms_label\": \"Muscular Dystrophies, Limb-Girdle\", \"value_af\": 0.00010313531353135314, \"yearly_counts_af\": 29088.0, \"value_subfields\": 1.2349338075479154e-05, \"filter_subfields\": \"nan\", \"yearly_counts_subfields\": 80976.0, \"relative_frequency_ratio\": 8.351485148514852}, {\"filter_af\": \"0\", \"year\": \"2022\", \"mesh_tree_label\": \"Eye Diseases\", \"mesh_terms_label\": \"Retinal Degeneration\", \"value_af\": 0.0001918649270913277, \"yearly_counts_af\": 20848.0, \"value_subfields\": 2.501605196667862e-05, \"filter_subfields\": \"nan\", \"yearly_counts_subfields\": 119923.0, \"relative_frequency_ratio\": 7.669672550524431}, {\"filter_af\": \"0\", \"year\": \"2022\", \"mesh_tree_label\": \"Congenital, Hereditary, and Neonatal Diseases and Abnormalities\", \"mesh_terms_label\": \"Congenital Disorders of Glycosylation\", \"value_af\": 0.0001918649270913277, \"yearly_counts_af\": 20848.0, \"value_subfields\": 2.501605196667862e-05, \"filter_subfields\": \"nan\", \"yearly_counts_subfields\": 119923.0, \"relative_frequency_ratio\": 7.669672550524431}, {\"filter_af\": \"0\", \"year\": \"2021\", \"mesh_tree_label\": \"Urogenital Diseases\", \"mesh_terms_label\": \"Prenatal Exposure Delayed Effects\", \"value_af\": 0.00034376074252320387, \"yearly_counts_af\": 2909.0, \"value_subfields\": 4.737615084566429e-05, \"filter_subfields\": \"nan\", \"yearly_counts_subfields\": 126646.0, \"relative_frequency_ratio\": 7.255987166265613}, {\"filter_af\": \"0\", \"year\": \"2021\", \"mesh_tree_label\": \"Hemic and Lymphatic Diseases\", \"mesh_terms_label\": \"Myelodysplastic Syndromes\", \"value_af\": 0.00034376074252320387, \"yearly_counts_af\": 2909.0, \"value_subfields\": 4.737615084566429e-05, \"filter_subfields\": \"nan\", \"yearly_counts_subfields\": 126646.0, \"relative_frequency_ratio\": 7.255987166265613}, {\"filter_af\": \"0\", \"year\": \"2023\", \"mesh_tree_label\": \"Nervous System Diseases\", \"mesh_terms_label\": \"Movement Disorders\", \"value_af\": 0.0001718921892189219, \"yearly_counts_af\": 29088.0, \"value_subfields\": 2.469867615095831e-05, \"filter_subfields\": \"nan\", \"yearly_counts_subfields\": 80976.0, \"relative_frequency_ratio\": 6.95957095709571}, {\"filter_af\": \"0\", \"year\": \"2022\", \"mesh_tree_label\": \"Infections\", \"mesh_terms_label\": \"Malaria, Falciparum\", \"value_af\": 0.0006235610130468151, \"yearly_counts_af\": 20848.0, \"value_subfields\": 9.17255238778216e-05, \"filter_subfields\": \"nan\", \"yearly_counts_subfields\": 119923.0, \"relative_frequency_ratio\": 6.798118851601201}, {\"filter_af\": \"0\", \"year\": \"2022\", \"mesh_tree_label\": \"Infections\", \"mesh_terms_label\": \"Cryptosporidiosis\", \"value_af\": 9.593246354566385e-05, \"yearly_counts_af\": 20848.0, \"value_subfields\": 1.6677367977785748e-05, \"filter_subfields\": \"nan\", \"yearly_counts_subfields\": 119923.0, \"relative_frequency_ratio\": 5.752254412893323}, {\"filter_af\": \"0\", \"year\": \"2022\", \"mesh_tree_label\": \"Infections\", \"mesh_terms_label\": \"African Swine Fever\", \"value_af\": 9.593246354566385e-05, \"yearly_counts_af\": 20848.0, \"value_subfields\": 1.6677367977785748e-05, \"filter_subfields\": \"nan\", \"yearly_counts_subfields\": 119923.0, \"relative_frequency_ratio\": 5.752254412893323}, {\"filter_af\": \"0\", \"year\": \"2022\", \"mesh_tree_label\": \"Infections\", \"mesh_terms_label\": \"Dysentery, Bacillary\", \"value_af\": 9.593246354566385e-05, \"yearly_counts_af\": 20848.0, \"value_subfields\": 1.6677367977785748e-05, \"filter_subfields\": \"nan\", \"yearly_counts_subfields\": 119923.0, \"relative_frequency_ratio\": 5.752254412893323}, {\"filter_af\": \"0\", \"year\": \"2022\", \"mesh_tree_label\": \"Infections\", \"mesh_terms_label\": \"Toxoplasmosis\", \"value_af\": 9.593246354566385e-05, \"yearly_counts_af\": 20848.0, \"value_subfields\": 1.6677367977785748e-05, \"filter_subfields\": \"nan\", \"yearly_counts_subfields\": 119923.0, \"relative_frequency_ratio\": 5.752254412893323}, {\"filter_af\": \"0\", \"year\": \"2022\", \"mesh_tree_label\": \"Infections\", \"mesh_terms_label\": \"Zika Virus Infection\", \"value_af\": 0.00023983115886415962, \"yearly_counts_af\": 20848.0, \"value_subfields\": 4.1693419944464364e-05, \"filter_subfields\": \"nan\", \"yearly_counts_subfields\": 119923.0, \"relative_frequency_ratio\": 5.752254412893323}, {\"filter_af\": \"0\", \"year\": \"2022\", \"mesh_tree_label\": \"Eye Diseases\", \"mesh_terms_label\": \"Eye Abnormalities\", \"value_af\": 9.593246354566385e-05, \"yearly_counts_af\": 20848.0, \"value_subfields\": 1.6677367977785748e-05, \"filter_subfields\": \"nan\", \"yearly_counts_subfields\": 119923.0, \"relative_frequency_ratio\": 5.752254412893323}, {\"filter_af\": \"0\", \"year\": \"2022\", \"mesh_tree_label\": \"Musculoskeletal Diseases\", \"mesh_terms_label\": \"Cleft Palate\", \"value_af\": 9.593246354566385e-05, \"yearly_counts_af\": 20848.0, \"value_subfields\": 1.6677367977785748e-05, \"filter_subfields\": \"nan\", \"yearly_counts_subfields\": 119923.0, \"relative_frequency_ratio\": 5.752254412893323}, {\"filter_af\": \"0\", \"year\": \"2022\", \"mesh_tree_label\": \"Congenital, Hereditary, and Neonatal Diseases and Abnormalities\", \"mesh_terms_label\": \"Ciliopathies\", \"value_af\": 0.00014389869531849578, \"yearly_counts_af\": 20848.0, \"value_subfields\": 2.501605196667862e-05, \"filter_subfields\": \"nan\", \"yearly_counts_subfields\": 119923.0, \"relative_frequency_ratio\": 5.752254412893323}, {\"filter_af\": \"0\", \"year\": \"2022\", \"mesh_tree_label\": \"Stomatognathic Diseases\", \"mesh_terms_label\": \"Cleft Lip\", \"value_af\": 9.593246354566385e-05, \"yearly_counts_af\": 20848.0, \"value_subfields\": 1.6677367977785748e-05, \"filter_subfields\": \"nan\", \"yearly_counts_subfields\": 119923.0, \"relative_frequency_ratio\": 5.752254412893323}, {\"filter_af\": \"0\", \"year\": \"2022\", \"mesh_tree_label\": \"Urogenital Diseases\", \"mesh_terms_label\": \"Urogenital Abnormalities\", \"value_af\": 9.593246354566385e-05, \"yearly_counts_af\": 20848.0, \"value_subfields\": 1.6677367977785748e-05, \"filter_subfields\": \"nan\", \"yearly_counts_subfields\": 119923.0, \"relative_frequency_ratio\": 5.752254412893323}, {\"filter_af\": \"0\", \"year\": \"2022\", \"mesh_tree_label\": \"Musculoskeletal Diseases\", \"mesh_terms_label\": \"Muscle Weakness\", \"value_af\": 9.593246354566385e-05, \"yearly_counts_af\": 20848.0, \"value_subfields\": 1.6677367977785748e-05, \"filter_subfields\": \"nan\", \"yearly_counts_subfields\": 119923.0, \"relative_frequency_ratio\": 5.752254412893323}, {\"filter_af\": \"0\", \"year\": \"2023\", \"mesh_tree_label\": \"Infections\", \"mesh_terms_label\": \"African Swine Fever\", \"value_af\": 0.00020627062706270627, \"yearly_counts_af\": 29088.0, \"value_subfields\": 3.704801422643746e-05, \"filter_subfields\": \"nan\", \"yearly_counts_subfields\": 80976.0, \"relative_frequency_ratio\": 5.567656765676568}]}}, {\"mode\": \"vega-lite\"});\n",
       "</script>"
      ],
      "text/plain": [
       "\u001b[1;35malt.Chart\u001b[0m\u001b[1m(\u001b[0m\u001b[33m...\u001b[0m\u001b[1m)\u001b[0m"
      ]
     },
     "execution_count": 50,
     "metadata": {},
     "output_type": "execute_result"
    }
   ],
   "source": [
    "import altair as alt\n",
    "\n",
    "# compute the quantile for the value_af\n",
    "quantiles = relative_frequency_ratio[\"value_af\"].quantile([0.25, 0.5, 0.75]).values\n",
    "\n",
    "# filter the data to keep 4th quantile\n",
    "qt_relative_frequency_ratio = relative_frequency_ratio[relative_frequency_ratio[\"value_af\"] > quantiles[2]]\n",
    "\n",
    "top_20_l0, bottom_20_l0 = get_top_bottom_ratio_words(qt_relative_frequency_ratio, n=20, level=0)\n",
    "\n",
    "# Sort the data by 'relative_frequency_ratio' and take the top 5\n",
    "data = top_20_l0.sort_values(\"relative_frequency_ratio\", ascending=False)[:80]\n",
    "\n",
    "# keep the ones that have a rfr of > 1\n",
    "data = data[data[\"relative_frequency_ratio\"] > 1]\n",
    "\n",
    "# Create the chart\n",
    "chart = (\n",
    "    alt.Chart(data)\n",
    "    .mark_bar()\n",
    "    .encode(\n",
    "        x=\"relative_frequency_ratio:Q\",\n",
    "        y=alt.Y(\"mesh_terms_label:N\", sort=\"-x\"),\n",
    "        color=\"mesh_tree_label:N\",\n",
    "        tooltip=[\"mesh_terms_label\", \"relative_frequency_ratio\", \"mesh_tree_label\"],\n",
    "    )\n",
    "    .properties(title=\"Top Ratio Words for AF Level 0 - 4th Quantile\")\n",
    ")\n",
    "\n",
    "chart"
   ]
  },
  {
   "cell_type": "code",
   "execution_count": 53,
   "metadata": {},
   "outputs": [
    {
     "data": {
      "text/html": [
       "<pre style=\"white-space:pre;overflow-x:auto;line-height:normal;font-family:Menlo,'DejaVu Sans Mono',consolas,'Courier New',monospace\"></pre>\n"
      ],
      "text/plain": []
     },
     "metadata": {},
     "output_type": "display_data"
    },
    {
     "data": {
      "text/html": [
       "\n",
       "<div id=\"altair-viz-10513aa600884a87801056561dfcc7ec\"></div>\n",
       "<script type=\"text/javascript\">\n",
       "  var VEGA_DEBUG = (typeof VEGA_DEBUG == \"undefined\") ? {} : VEGA_DEBUG;\n",
       "  (function(spec, embedOpt){\n",
       "    let outputDiv = document.currentScript.previousElementSibling;\n",
       "    if (outputDiv.id !== \"altair-viz-10513aa600884a87801056561dfcc7ec\") {\n",
       "      outputDiv = document.getElementById(\"altair-viz-10513aa600884a87801056561dfcc7ec\");\n",
       "    }\n",
       "    const paths = {\n",
       "      \"vega\": \"https://cdn.jsdelivr.net/npm//vega@5?noext\",\n",
       "      \"vega-lib\": \"https://cdn.jsdelivr.net/npm//vega-lib?noext\",\n",
       "      \"vega-lite\": \"https://cdn.jsdelivr.net/npm//vega-lite@4.17.0?noext\",\n",
       "      \"vega-embed\": \"https://cdn.jsdelivr.net/npm//vega-embed@6?noext\",\n",
       "    };\n",
       "\n",
       "    function maybeLoadScript(lib, version) {\n",
       "      var key = `${lib.replace(\"-\", \"\")}_version`;\n",
       "      return (VEGA_DEBUG[key] == version) ?\n",
       "        Promise.resolve(paths[lib]) :\n",
       "        new Promise(function(resolve, reject) {\n",
       "          var s = document.createElement('script');\n",
       "          document.getElementsByTagName(\"head\")[0].appendChild(s);\n",
       "          s.async = true;\n",
       "          s.onload = () => {\n",
       "            VEGA_DEBUG[key] = version;\n",
       "            return resolve(paths[lib]);\n",
       "          };\n",
       "          s.onerror = () => reject(`Error loading script: ${paths[lib]}`);\n",
       "          s.src = paths[lib];\n",
       "        });\n",
       "    }\n",
       "\n",
       "    function showError(err) {\n",
       "      outputDiv.innerHTML = `<div class=\"error\" style=\"color:red;\">${err}</div>`;\n",
       "      throw err;\n",
       "    }\n",
       "\n",
       "    function displayChart(vegaEmbed) {\n",
       "      vegaEmbed(outputDiv, spec, embedOpt)\n",
       "        .catch(err => showError(`Javascript Error: ${err.message}<br>This usually means there's a typo in your chart specification. See the javascript console for the full traceback.`));\n",
       "    }\n",
       "\n",
       "    if(typeof define === \"function\" && define.amd) {\n",
       "      requirejs.config({paths});\n",
       "      require([\"vega-embed\"], displayChart, err => showError(`Error loading script: ${err.message}`));\n",
       "    } else {\n",
       "      maybeLoadScript(\"vega\", \"5\")\n",
       "        .then(() => maybeLoadScript(\"vega-lite\", \"4.17.0\"))\n",
       "        .then(() => maybeLoadScript(\"vega-embed\", \"6\"))\n",
       "        .catch(showError)\n",
       "        .then(() => displayChart(vegaEmbed));\n",
       "    }\n",
       "  })({\"config\": {\"view\": {\"continuousWidth\": 400, \"continuousHeight\": 300}}, \"hconcat\": [{\"data\": {\"name\": \"data-9a8f7adbed72af176f287010fc613349\"}, \"mark\": \"bar\", \"encoding\": {\"color\": {\"field\": \"mesh_tree_label\", \"type\": \"nominal\"}, \"tooltip\": [{\"field\": \"mesh_terms_label\", \"type\": \"nominal\"}, {\"field\": \"relative_frequency_ratio\", \"type\": \"quantitative\"}, {\"field\": \"mesh_tree_label\", \"type\": \"nominal\"}], \"x\": {\"field\": \"relative_frequency_ratio\", \"type\": \"quantitative\"}, \"y\": {\"field\": \"mesh_terms_label\", \"sort\": \"-x\", \"type\": \"nominal\"}}, \"title\": \"Top 5 Ratio Words for AF Level 0 in 2021\"}, {\"data\": {\"name\": \"data-3cd9c5e40c8b6fad071b4a67ae7a9db8\"}, \"mark\": \"bar\", \"encoding\": {\"color\": {\"field\": \"mesh_tree_label\", \"type\": \"nominal\"}, \"tooltip\": [{\"field\": \"mesh_terms_label\", \"type\": \"nominal\"}, {\"field\": \"relative_frequency_ratio\", \"type\": \"quantitative\"}, {\"field\": \"mesh_tree_label\", \"type\": \"nominal\"}], \"x\": {\"field\": \"relative_frequency_ratio\", \"type\": \"quantitative\"}, \"y\": {\"field\": \"mesh_terms_label\", \"sort\": \"-x\", \"type\": \"nominal\"}}, \"title\": \"Top 5 Ratio Words for AF Level 0 in 2022\"}, {\"data\": {\"name\": \"data-bf5c90990436906cdfdc4c4328c7f9a1\"}, \"mark\": \"bar\", \"encoding\": {\"color\": {\"field\": \"mesh_tree_label\", \"type\": \"nominal\"}, \"tooltip\": [{\"field\": \"mesh_terms_label\", \"type\": \"nominal\"}, {\"field\": \"relative_frequency_ratio\", \"type\": \"quantitative\"}, {\"field\": \"mesh_tree_label\", \"type\": \"nominal\"}], \"x\": {\"field\": \"relative_frequency_ratio\", \"type\": \"quantitative\"}, \"y\": {\"field\": \"mesh_terms_label\", \"sort\": \"-x\", \"type\": \"nominal\"}}, \"title\": \"Top 5 Ratio Words for AF Level 0 in 2023\"}, {\"data\": {\"name\": \"data-36ad0d3516b7baf07a0d32992acf98ab\"}, \"mark\": \"bar\", \"encoding\": {\"color\": {\"field\": \"mesh_tree_label\", \"type\": \"nominal\"}, \"tooltip\": [{\"field\": \"mesh_terms_label\", \"type\": \"nominal\"}, {\"field\": \"relative_frequency_ratio\", \"type\": \"quantitative\"}, {\"field\": \"mesh_tree_label\", \"type\": \"nominal\"}], \"x\": {\"field\": \"relative_frequency_ratio\", \"type\": \"quantitative\"}, \"y\": {\"field\": \"mesh_terms_label\", \"sort\": \"-x\", \"type\": \"nominal\"}}, \"title\": \"Top 5 Ratio Words for AF Level 0 in 2024\"}], \"$schema\": \"https://vega.github.io/schema/vega-lite/v4.17.0.json\", \"datasets\": {\"data-9a8f7adbed72af176f287010fc613349\": [{\"filter_af\": \"0\", \"year\": \"2021\", \"mesh_tree_label\": \"Nervous System Diseases\", \"mesh_terms_label\": \"Williams Syndrome\", \"value_af\": 0.00034376074252320387, \"yearly_counts_af\": 2909.0, \"value_subfields\": 7.896025140944048e-06, \"filter_subfields\": \"nan\", \"yearly_counts_subfields\": 126646.0, \"relative_frequency_ratio\": 43.53592299759368}, {\"filter_af\": \"0\", \"year\": \"2021\", \"mesh_tree_label\": \"Hemic and Lymphatic Diseases\", \"mesh_terms_label\": \"Neutropenia\", \"value_af\": 0.00034376074252320387, \"yearly_counts_af\": 2909.0, \"value_subfields\": 7.896025140944048e-06, \"filter_subfields\": \"nan\", \"yearly_counts_subfields\": 126646.0, \"relative_frequency_ratio\": 43.53592299759368}, {\"filter_af\": \"0\", \"year\": \"2021\", \"mesh_tree_label\": \"Nervous System Diseases\", \"mesh_terms_label\": \"Hallucinations\", \"value_af\": 0.00034376074252320387, \"yearly_counts_af\": 2909.0, \"value_subfields\": 7.896025140944048e-06, \"filter_subfields\": \"nan\", \"yearly_counts_subfields\": 126646.0, \"relative_frequency_ratio\": 43.53592299759368}, {\"filter_af\": \"0\", \"year\": \"2021\", \"mesh_tree_label\": \"Musculoskeletal Diseases\", \"mesh_terms_label\": \"Muscular Dystrophies\", \"value_af\": 0.00034376074252320387, \"yearly_counts_af\": 2909.0, \"value_subfields\": 7.896025140944048e-06, \"filter_subfields\": \"nan\", \"yearly_counts_subfields\": 126646.0, \"relative_frequency_ratio\": 43.53592299759368}, {\"filter_af\": \"0\", \"year\": \"2021\", \"mesh_tree_label\": \"Otorhinolaryngologic Diseases\", \"mesh_terms_label\": \"Hearing Loss, Sensorineural\", \"value_af\": 0.00034376074252320387, \"yearly_counts_af\": 2909.0, \"value_subfields\": 7.896025140944048e-06, \"filter_subfields\": \"nan\", \"yearly_counts_subfields\": 126646.0, \"relative_frequency_ratio\": 43.53592299759368}, {\"filter_af\": \"0\", \"year\": \"2021\", \"mesh_tree_label\": \"Infections\", \"mesh_terms_label\": \"Leishmaniasis\", \"value_af\": 0.00034376074252320387, \"yearly_counts_af\": 2909.0, \"value_subfields\": 7.896025140944048e-06, \"filter_subfields\": \"nan\", \"yearly_counts_subfields\": 126646.0, \"relative_frequency_ratio\": 43.53592299759368}, {\"filter_af\": \"0\", \"year\": \"2021\", \"mesh_tree_label\": \"Infections\", \"mesh_terms_label\": \"Candidiasis\", \"value_af\": 0.00034376074252320387, \"yearly_counts_af\": 2909.0, \"value_subfields\": 7.896025140944048e-06, \"filter_subfields\": \"nan\", \"yearly_counts_subfields\": 126646.0, \"relative_frequency_ratio\": 43.53592299759368}, {\"filter_af\": \"0\", \"year\": \"2021\", \"mesh_tree_label\": \"Otorhinolaryngologic Diseases\", \"mesh_terms_label\": \"Wolfram Syndrome\", \"value_af\": 0.00034376074252320387, \"yearly_counts_af\": 2909.0, \"value_subfields\": 1.5792050281888097e-05, \"filter_subfields\": \"nan\", \"yearly_counts_subfields\": 126646.0, \"relative_frequency_ratio\": 21.76796149879684}, {\"filter_af\": \"0\", \"year\": \"2021\", \"mesh_tree_label\": \"Infections\", \"mesh_terms_label\": \"Zoonoses\", \"value_af\": 0.00034376074252320387, \"yearly_counts_af\": 2909.0, \"value_subfields\": 1.5792050281888097e-05, \"filter_subfields\": \"nan\", \"yearly_counts_subfields\": 126646.0, \"relative_frequency_ratio\": 21.76796149879684}, {\"filter_af\": \"0\", \"year\": \"2021\", \"mesh_tree_label\": \"Nervous System Diseases\", \"mesh_terms_label\": \"Lewy Body Disease\", \"value_af\": 0.00034376074252320387, \"yearly_counts_af\": 2909.0, \"value_subfields\": 1.5792050281888097e-05, \"filter_subfields\": \"nan\", \"yearly_counts_subfields\": 126646.0, \"relative_frequency_ratio\": 21.76796149879684}, {\"filter_af\": \"0\", \"year\": \"2021\", \"mesh_tree_label\": \"Pathological Conditions, Signs and Symptoms\", \"mesh_terms_label\": \"Tetraploidy\", \"value_af\": 0.00034376074252320387, \"yearly_counts_af\": 2909.0, \"value_subfields\": 1.5792050281888097e-05, \"filter_subfields\": \"nan\", \"yearly_counts_subfields\": 126646.0, \"relative_frequency_ratio\": 21.76796149879684}, {\"filter_af\": \"0\", \"year\": \"2021\", \"mesh_tree_label\": \"Congenital, Hereditary, and Neonatal Diseases and Abnormalities\", \"mesh_terms_label\": \"Genetic Diseases, X-Linked\", \"value_af\": 0.00034376074252320387, \"yearly_counts_af\": 2909.0, \"value_subfields\": 2.3688075422832145e-05, \"filter_subfields\": \"nan\", \"yearly_counts_subfields\": 126646.0, \"relative_frequency_ratio\": 14.511974332531226}, {\"filter_af\": \"0\", \"year\": \"2021\", \"mesh_tree_label\": \"Nervous System Diseases\", \"mesh_terms_label\": \"Synucleinopathies\", \"value_af\": 0.00034376074252320387, \"yearly_counts_af\": 2909.0, \"value_subfields\": 2.3688075422832145e-05, \"filter_subfields\": \"nan\", \"yearly_counts_subfields\": 126646.0, \"relative_frequency_ratio\": 14.511974332531226}, {\"filter_af\": \"0\", \"year\": \"2021\", \"mesh_tree_label\": \"Neoplasms\", \"mesh_terms_label\": \"Neurofibromatosis 1\", \"value_af\": 0.00034376074252320387, \"yearly_counts_af\": 2909.0, \"value_subfields\": 2.3688075422832145e-05, \"filter_subfields\": \"nan\", \"yearly_counts_subfields\": 126646.0, \"relative_frequency_ratio\": 14.511974332531226}, {\"filter_af\": \"0\", \"year\": \"2021\", \"mesh_tree_label\": \"Eye Diseases\", \"mesh_terms_label\": \"Retinitis Pigmentosa\", \"value_af\": 0.00034376074252320387, \"yearly_counts_af\": 2909.0, \"value_subfields\": 2.3688075422832145e-05, \"filter_subfields\": \"nan\", \"yearly_counts_subfields\": 126646.0, \"relative_frequency_ratio\": 14.511974332531226}, {\"filter_af\": \"0\", \"year\": \"2021\", \"mesh_tree_label\": \"Musculoskeletal Diseases\", \"mesh_terms_label\": \"Muscular Dystrophy, Facioscapulohumeral\", \"value_af\": 0.00034376074252320387, \"yearly_counts_af\": 2909.0, \"value_subfields\": 3.158410056377619e-05, \"filter_subfields\": \"nan\", \"yearly_counts_subfields\": 126646.0, \"relative_frequency_ratio\": 10.88398074939842}, {\"filter_af\": \"0\", \"year\": \"2021\", \"mesh_tree_label\": \"Eye Diseases\", \"mesh_terms_label\": \"Retinal Dystrophies\", \"value_af\": 0.00034376074252320387, \"yearly_counts_af\": 2909.0, \"value_subfields\": 3.158410056377619e-05, \"filter_subfields\": \"nan\", \"yearly_counts_subfields\": 126646.0, \"relative_frequency_ratio\": 10.88398074939842}, {\"filter_af\": \"0\", \"year\": \"2021\", \"mesh_tree_label\": \"Congenital, Hereditary, and Neonatal Diseases and Abnormalities\", \"mesh_terms_label\": \"Chromosome Disorders\", \"value_af\": 0.00034376074252320387, \"yearly_counts_af\": 2909.0, \"value_subfields\": 3.158410056377619e-05, \"filter_subfields\": \"nan\", \"yearly_counts_subfields\": 126646.0, \"relative_frequency_ratio\": 10.88398074939842}, {\"filter_af\": \"0\", \"year\": \"2021\", \"mesh_tree_label\": \"Pathological Conditions, Signs and Symptoms\", \"mesh_terms_label\": \"Chromosome Deletion\", \"value_af\": 0.00034376074252320387, \"yearly_counts_af\": 2909.0, \"value_subfields\": 3.158410056377619e-05, \"filter_subfields\": \"nan\", \"yearly_counts_subfields\": 126646.0, \"relative_frequency_ratio\": 10.88398074939842}, {\"filter_af\": \"0\", \"year\": \"2021\", \"mesh_tree_label\": \"Musculoskeletal Diseases\", \"mesh_terms_label\": \"Bone Resorption\", \"value_af\": 0.00034376074252320387, \"yearly_counts_af\": 2909.0, \"value_subfields\": 3.158410056377619e-05, \"filter_subfields\": \"nan\", \"yearly_counts_subfields\": 126646.0, \"relative_frequency_ratio\": 10.88398074939842}, {\"filter_af\": \"0\", \"year\": \"2021\", \"mesh_tree_label\": \"Musculoskeletal Diseases\", \"mesh_terms_label\": \"Gout\", \"value_af\": 0.00034376074252320387, \"yearly_counts_af\": 2909.0, \"value_subfields\": 3.158410056377619e-05, \"filter_subfields\": \"nan\", \"yearly_counts_subfields\": 126646.0, \"relative_frequency_ratio\": 10.88398074939842}, {\"filter_af\": \"0\", \"year\": \"2021\", \"mesh_tree_label\": \"Eye Diseases\", \"mesh_terms_label\": \"Cataract\", \"value_af\": 0.00034376074252320387, \"yearly_counts_af\": 2909.0, \"value_subfields\": 3.948012570472024e-05, \"filter_subfields\": \"nan\", \"yearly_counts_subfields\": 126646.0, \"relative_frequency_ratio\": 8.707184599518737}, {\"filter_af\": \"0\", \"year\": \"2021\", \"mesh_tree_label\": \"Musculoskeletal Diseases\", \"mesh_terms_label\": \"Microcephaly\", \"value_af\": 0.00034376074252320387, \"yearly_counts_af\": 2909.0, \"value_subfields\": 3.948012570472024e-05, \"filter_subfields\": \"nan\", \"yearly_counts_subfields\": 126646.0, \"relative_frequency_ratio\": 8.707184599518737}, {\"filter_af\": \"0\", \"year\": \"2021\", \"mesh_tree_label\": \"Cardiovascular Diseases\", \"mesh_terms_label\": \"Vascular Diseases\", \"value_af\": 0.00034376074252320387, \"yearly_counts_af\": 2909.0, \"value_subfields\": 3.948012570472024e-05, \"filter_subfields\": \"nan\", \"yearly_counts_subfields\": 126646.0, \"relative_frequency_ratio\": 8.707184599518737}, {\"filter_af\": \"0\", \"year\": \"2021\", \"mesh_tree_label\": \"Urogenital Diseases\", \"mesh_terms_label\": \"Prenatal Exposure Delayed Effects\", \"value_af\": 0.00034376074252320387, \"yearly_counts_af\": 2909.0, \"value_subfields\": 4.737615084566429e-05, \"filter_subfields\": \"nan\", \"yearly_counts_subfields\": 126646.0, \"relative_frequency_ratio\": 7.255987166265613}, {\"filter_af\": \"0\", \"year\": \"2021\", \"mesh_tree_label\": \"Hemic and Lymphatic Diseases\", \"mesh_terms_label\": \"Myelodysplastic Syndromes\", \"value_af\": 0.00034376074252320387, \"yearly_counts_af\": 2909.0, \"value_subfields\": 4.737615084566429e-05, \"filter_subfields\": \"nan\", \"yearly_counts_subfields\": 126646.0, \"relative_frequency_ratio\": 7.255987166265613}], \"data-3cd9c5e40c8b6fad071b4a67ae7a9db8\": [{\"filter_af\": \"0\", \"year\": \"2022\", \"mesh_tree_label\": \"Otorhinolaryngologic Diseases\", \"mesh_terms_label\": \"Hearing Loss\", \"value_af\": 0.00023983115886415962, \"yearly_counts_af\": 20848.0, \"value_subfields\": 8.338683988892874e-06, \"filter_subfields\": \"nan\", \"yearly_counts_subfields\": 119923.0, \"relative_frequency_ratio\": 28.76127206446661}, {\"filter_af\": \"0\", \"year\": \"2022\", \"mesh_tree_label\": \"Congenital, Hereditary, and Neonatal Diseases and Abnormalities\", \"mesh_terms_label\": \"Glycogen Storage Disease Type I\", \"value_af\": 0.00014389869531849578, \"yearly_counts_af\": 20848.0, \"value_subfields\": 8.338683988892874e-06, \"filter_subfields\": \"nan\", \"yearly_counts_subfields\": 119923.0, \"relative_frequency_ratio\": 17.25676323867997}, {\"filter_af\": \"0\", \"year\": \"2022\", \"mesh_tree_label\": \"Otorhinolaryngologic Diseases\", \"mesh_terms_label\": \"Deafness\", \"value_af\": 0.00014389869531849578, \"yearly_counts_af\": 20848.0, \"value_subfields\": 8.338683988892874e-06, \"filter_subfields\": \"nan\", \"yearly_counts_subfields\": 119923.0, \"relative_frequency_ratio\": 17.25676323867997}, {\"filter_af\": \"0\", \"year\": \"2022\", \"mesh_tree_label\": \"Nervous System Diseases\", \"mesh_terms_label\": \"Muscle Hypotonia\", \"value_af\": 0.00014389869531849578, \"yearly_counts_af\": 20848.0, \"value_subfields\": 8.338683988892874e-06, \"filter_subfields\": \"nan\", \"yearly_counts_subfields\": 119923.0, \"relative_frequency_ratio\": 17.25676323867997}, {\"filter_af\": \"0\", \"year\": \"2022\", \"mesh_tree_label\": \"Nervous System Diseases\", \"mesh_terms_label\": \"Cerebellar Ataxia\", \"value_af\": 9.593246354566385e-05, \"yearly_counts_af\": 20848.0, \"value_subfields\": 8.338683988892874e-06, \"filter_subfields\": \"nan\", \"yearly_counts_subfields\": 119923.0, \"relative_frequency_ratio\": 11.504508825786646}, {\"filter_af\": \"0\", \"year\": \"2022\", \"mesh_tree_label\": \"Infections\", \"mesh_terms_label\": \"Streptococcal Infections\", \"value_af\": 9.593246354566385e-05, \"yearly_counts_af\": 20848.0, \"value_subfields\": 8.338683988892874e-06, \"filter_subfields\": \"nan\", \"yearly_counts_subfields\": 119923.0, \"relative_frequency_ratio\": 11.504508825786646}, {\"filter_af\": \"0\", \"year\": \"2022\", \"mesh_tree_label\": \"Pathological Conditions, Signs and Symptoms\", \"mesh_terms_label\": \"Growth Disorders\", \"value_af\": 9.593246354566385e-05, \"yearly_counts_af\": 20848.0, \"value_subfields\": 8.338683988892874e-06, \"filter_subfields\": \"nan\", \"yearly_counts_subfields\": 119923.0, \"relative_frequency_ratio\": 11.504508825786646}, {\"filter_af\": \"0\", \"year\": \"2022\", \"mesh_tree_label\": \"Infections\", \"mesh_terms_label\": \"Pseudomonas Infections\", \"value_af\": 0.0001918649270913277, \"yearly_counts_af\": 20848.0, \"value_subfields\": 1.6677367977785748e-05, \"filter_subfields\": \"nan\", \"yearly_counts_subfields\": 119923.0, \"relative_frequency_ratio\": 11.504508825786646}, {\"filter_af\": \"0\", \"year\": \"2022\", \"mesh_tree_label\": \"Nervous System Diseases\", \"mesh_terms_label\": \"Dystonia\", \"value_af\": 9.593246354566385e-05, \"yearly_counts_af\": 20848.0, \"value_subfields\": 8.338683988892874e-06, \"filter_subfields\": \"nan\", \"yearly_counts_subfields\": 119923.0, \"relative_frequency_ratio\": 11.504508825786646}, {\"filter_af\": \"0\", \"year\": \"2022\", \"mesh_tree_label\": \"Congenital, Hereditary, and Neonatal Diseases and Abnormalities\", \"mesh_terms_label\": \"Primary Immunodeficiency Diseases\", \"value_af\": 9.593246354566385e-05, \"yearly_counts_af\": 20848.0, \"value_subfields\": 8.338683988892874e-06, \"filter_subfields\": \"nan\", \"yearly_counts_subfields\": 119923.0, \"relative_frequency_ratio\": 11.504508825786646}, {\"filter_af\": \"0\", \"year\": \"2022\", \"mesh_tree_label\": \"Nervous System Diseases\", \"mesh_terms_label\": \"Ataxia\", \"value_af\": 0.0003837298541826554, \"yearly_counts_af\": 20848.0, \"value_subfields\": 3.3354735955571495e-05, \"filter_subfields\": \"nan\", \"yearly_counts_subfields\": 119923.0, \"relative_frequency_ratio\": 11.504508825786646}, {\"filter_af\": \"0\", \"year\": \"2022\", \"mesh_tree_label\": \"Infections\", \"mesh_terms_label\": \"Leptospirosis\", \"value_af\": 0.00014389869531849578, \"yearly_counts_af\": 20848.0, \"value_subfields\": 1.6677367977785748e-05, \"filter_subfields\": \"nan\", \"yearly_counts_subfields\": 119923.0, \"relative_frequency_ratio\": 8.628381619339985}, {\"filter_af\": \"0\", \"year\": \"2022\", \"mesh_tree_label\": \"Nervous System Diseases\", \"mesh_terms_label\": \"Spastic Paraplegia, Hereditary\", \"value_af\": 0.00028779739063699157, \"yearly_counts_af\": 20848.0, \"value_subfields\": 3.3354735955571495e-05, \"filter_subfields\": \"nan\", \"yearly_counts_subfields\": 119923.0, \"relative_frequency_ratio\": 8.628381619339985}, {\"filter_af\": \"0\", \"year\": \"2022\", \"mesh_tree_label\": \"Eye Diseases\", \"mesh_terms_label\": \"Retinal Degeneration\", \"value_af\": 0.0001918649270913277, \"yearly_counts_af\": 20848.0, \"value_subfields\": 2.501605196667862e-05, \"filter_subfields\": \"nan\", \"yearly_counts_subfields\": 119923.0, \"relative_frequency_ratio\": 7.669672550524431}, {\"filter_af\": \"0\", \"year\": \"2022\", \"mesh_tree_label\": \"Congenital, Hereditary, and Neonatal Diseases and Abnormalities\", \"mesh_terms_label\": \"Congenital Disorders of Glycosylation\", \"value_af\": 0.0001918649270913277, \"yearly_counts_af\": 20848.0, \"value_subfields\": 2.501605196667862e-05, \"filter_subfields\": \"nan\", \"yearly_counts_subfields\": 119923.0, \"relative_frequency_ratio\": 7.669672550524431}, {\"filter_af\": \"0\", \"year\": \"2022\", \"mesh_tree_label\": \"Infections\", \"mesh_terms_label\": \"Malaria, Falciparum\", \"value_af\": 0.0006235610130468151, \"yearly_counts_af\": 20848.0, \"value_subfields\": 9.17255238778216e-05, \"filter_subfields\": \"nan\", \"yearly_counts_subfields\": 119923.0, \"relative_frequency_ratio\": 6.798118851601201}, {\"filter_af\": \"0\", \"year\": \"2022\", \"mesh_tree_label\": \"Infections\", \"mesh_terms_label\": \"Cryptosporidiosis\", \"value_af\": 9.593246354566385e-05, \"yearly_counts_af\": 20848.0, \"value_subfields\": 1.6677367977785748e-05, \"filter_subfields\": \"nan\", \"yearly_counts_subfields\": 119923.0, \"relative_frequency_ratio\": 5.752254412893323}, {\"filter_af\": \"0\", \"year\": \"2022\", \"mesh_tree_label\": \"Infections\", \"mesh_terms_label\": \"African Swine Fever\", \"value_af\": 9.593246354566385e-05, \"yearly_counts_af\": 20848.0, \"value_subfields\": 1.6677367977785748e-05, \"filter_subfields\": \"nan\", \"yearly_counts_subfields\": 119923.0, \"relative_frequency_ratio\": 5.752254412893323}, {\"filter_af\": \"0\", \"year\": \"2022\", \"mesh_tree_label\": \"Infections\", \"mesh_terms_label\": \"Dysentery, Bacillary\", \"value_af\": 9.593246354566385e-05, \"yearly_counts_af\": 20848.0, \"value_subfields\": 1.6677367977785748e-05, \"filter_subfields\": \"nan\", \"yearly_counts_subfields\": 119923.0, \"relative_frequency_ratio\": 5.752254412893323}, {\"filter_af\": \"0\", \"year\": \"2022\", \"mesh_tree_label\": \"Infections\", \"mesh_terms_label\": \"Toxoplasmosis\", \"value_af\": 9.593246354566385e-05, \"yearly_counts_af\": 20848.0, \"value_subfields\": 1.6677367977785748e-05, \"filter_subfields\": \"nan\", \"yearly_counts_subfields\": 119923.0, \"relative_frequency_ratio\": 5.752254412893323}, {\"filter_af\": \"0\", \"year\": \"2022\", \"mesh_tree_label\": \"Infections\", \"mesh_terms_label\": \"Zika Virus Infection\", \"value_af\": 0.00023983115886415962, \"yearly_counts_af\": 20848.0, \"value_subfields\": 4.1693419944464364e-05, \"filter_subfields\": \"nan\", \"yearly_counts_subfields\": 119923.0, \"relative_frequency_ratio\": 5.752254412893323}, {\"filter_af\": \"0\", \"year\": \"2022\", \"mesh_tree_label\": \"Eye Diseases\", \"mesh_terms_label\": \"Eye Abnormalities\", \"value_af\": 9.593246354566385e-05, \"yearly_counts_af\": 20848.0, \"value_subfields\": 1.6677367977785748e-05, \"filter_subfields\": \"nan\", \"yearly_counts_subfields\": 119923.0, \"relative_frequency_ratio\": 5.752254412893323}, {\"filter_af\": \"0\", \"year\": \"2022\", \"mesh_tree_label\": \"Musculoskeletal Diseases\", \"mesh_terms_label\": \"Cleft Palate\", \"value_af\": 9.593246354566385e-05, \"yearly_counts_af\": 20848.0, \"value_subfields\": 1.6677367977785748e-05, \"filter_subfields\": \"nan\", \"yearly_counts_subfields\": 119923.0, \"relative_frequency_ratio\": 5.752254412893323}, {\"filter_af\": \"0\", \"year\": \"2022\", \"mesh_tree_label\": \"Congenital, Hereditary, and Neonatal Diseases and Abnormalities\", \"mesh_terms_label\": \"Ciliopathies\", \"value_af\": 0.00014389869531849578, \"yearly_counts_af\": 20848.0, \"value_subfields\": 2.501605196667862e-05, \"filter_subfields\": \"nan\", \"yearly_counts_subfields\": 119923.0, \"relative_frequency_ratio\": 5.752254412893323}, {\"filter_af\": \"0\", \"year\": \"2022\", \"mesh_tree_label\": \"Stomatognathic Diseases\", \"mesh_terms_label\": \"Cleft Lip\", \"value_af\": 9.593246354566385e-05, \"yearly_counts_af\": 20848.0, \"value_subfields\": 1.6677367977785748e-05, \"filter_subfields\": \"nan\", \"yearly_counts_subfields\": 119923.0, \"relative_frequency_ratio\": 5.752254412893323}, {\"filter_af\": \"0\", \"year\": \"2022\", \"mesh_tree_label\": \"Urogenital Diseases\", \"mesh_terms_label\": \"Urogenital Abnormalities\", \"value_af\": 9.593246354566385e-05, \"yearly_counts_af\": 20848.0, \"value_subfields\": 1.6677367977785748e-05, \"filter_subfields\": \"nan\", \"yearly_counts_subfields\": 119923.0, \"relative_frequency_ratio\": 5.752254412893323}, {\"filter_af\": \"0\", \"year\": \"2022\", \"mesh_tree_label\": \"Musculoskeletal Diseases\", \"mesh_terms_label\": \"Muscle Weakness\", \"value_af\": 9.593246354566385e-05, \"yearly_counts_af\": 20848.0, \"value_subfields\": 1.6677367977785748e-05, \"filter_subfields\": \"nan\", \"yearly_counts_subfields\": 119923.0, \"relative_frequency_ratio\": 5.752254412893323}], \"data-bf5c90990436906cdfdc4c4328c7f9a1\": [{\"filter_af\": \"0\", \"year\": \"2023\", \"mesh_tree_label\": \"Otorhinolaryngologic Diseases\", \"mesh_terms_label\": \"Hearing Loss\", \"value_af\": 0.0001718921892189219, \"yearly_counts_af\": 29088.0, \"value_subfields\": 1.2349338075479154e-05, \"filter_subfields\": \"nan\", \"yearly_counts_subfields\": 80976.0, \"relative_frequency_ratio\": 13.91914191419142}, {\"filter_af\": \"0\", \"year\": \"2023\", \"mesh_tree_label\": \"Infections\", \"mesh_terms_label\": \"Lyme Disease\", \"value_af\": 0.0003437843784378438, \"yearly_counts_af\": 29088.0, \"value_subfields\": 2.469867615095831e-05, \"filter_subfields\": \"nan\", \"yearly_counts_subfields\": 80976.0, \"relative_frequency_ratio\": 13.91914191419142}, {\"filter_af\": \"0\", \"year\": \"2023\", \"mesh_tree_label\": \"Infections\", \"mesh_terms_label\": \"Bacteremia\", \"value_af\": 0.0001375137513751375, \"yearly_counts_af\": 29088.0, \"value_subfields\": 1.2349338075479154e-05, \"filter_subfields\": \"nan\", \"yearly_counts_subfields\": 80976.0, \"relative_frequency_ratio\": 11.135313531353134}, {\"filter_af\": \"0\", \"year\": \"2023\", \"mesh_tree_label\": \"Infections\", \"mesh_terms_label\": \"Gonorrhea\", \"value_af\": 0.0001375137513751375, \"yearly_counts_af\": 29088.0, \"value_subfields\": 1.2349338075479154e-05, \"filter_subfields\": \"nan\", \"yearly_counts_subfields\": 80976.0, \"relative_frequency_ratio\": 11.135313531353134}, {\"filter_af\": \"0\", \"year\": \"2023\", \"mesh_tree_label\": \"Musculoskeletal Diseases\", \"mesh_terms_label\": \"Microcephaly\", \"value_af\": 0.00037816281628162815, \"yearly_counts_af\": 29088.0, \"value_subfields\": 3.704801422643746e-05, \"filter_subfields\": \"nan\", \"yearly_counts_subfields\": 80976.0, \"relative_frequency_ratio\": 10.207370737073708}, {\"filter_af\": \"0\", \"year\": \"2023\", \"mesh_tree_label\": \"Infections\", \"mesh_terms_label\": \"Mycobacterium Infections, Nontuberculous\", \"value_af\": 0.00010313531353135314, \"yearly_counts_af\": 29088.0, \"value_subfields\": 1.2349338075479154e-05, \"filter_subfields\": \"nan\", \"yearly_counts_subfields\": 80976.0, \"relative_frequency_ratio\": 8.351485148514852}, {\"filter_af\": \"0\", \"year\": \"2023\", \"mesh_tree_label\": \"Infections\", \"mesh_terms_label\": \"Legionnaires' Disease\", \"value_af\": 0.00010313531353135314, \"yearly_counts_af\": 29088.0, \"value_subfields\": 1.2349338075479154e-05, \"filter_subfields\": \"nan\", \"yearly_counts_subfields\": 80976.0, \"relative_frequency_ratio\": 8.351485148514852}, {\"filter_af\": \"0\", \"year\": \"2023\", \"mesh_tree_label\": \"Animal Diseases\", \"mesh_terms_label\": \"Fish Diseases\", \"value_af\": 0.00020627062706270627, \"yearly_counts_af\": 29088.0, \"value_subfields\": 2.469867615095831e-05, \"filter_subfields\": \"nan\", \"yearly_counts_subfields\": 80976.0, \"relative_frequency_ratio\": 8.351485148514852}, {\"filter_af\": \"0\", \"year\": \"2023\", \"mesh_tree_label\": \"Infections\", \"mesh_terms_label\": \"Streptococcal Infections\", \"value_af\": 0.00010313531353135314, \"yearly_counts_af\": 29088.0, \"value_subfields\": 1.2349338075479154e-05, \"filter_subfields\": \"nan\", \"yearly_counts_subfields\": 80976.0, \"relative_frequency_ratio\": 8.351485148514852}, {\"filter_af\": \"0\", \"year\": \"2023\", \"mesh_tree_label\": \"Digestive System Diseases\", \"mesh_terms_label\": \"Gastroenteritis\", \"value_af\": 0.00010313531353135314, \"yearly_counts_af\": 29088.0, \"value_subfields\": 1.2349338075479154e-05, \"filter_subfields\": \"nan\", \"yearly_counts_subfields\": 80976.0, \"relative_frequency_ratio\": 8.351485148514852}, {\"filter_af\": \"0\", \"year\": \"2023\", \"mesh_tree_label\": \"Infections\", \"mesh_terms_label\": \"Cryptococcosis\", \"value_af\": 0.00010313531353135314, \"yearly_counts_af\": 29088.0, \"value_subfields\": 1.2349338075479154e-05, \"filter_subfields\": \"nan\", \"yearly_counts_subfields\": 80976.0, \"relative_frequency_ratio\": 8.351485148514852}, {\"filter_af\": \"0\", \"year\": \"2023\", \"mesh_tree_label\": \"Hemic and Lymphatic Diseases\", \"mesh_terms_label\": \"Myeloproliferative Disorders\", \"value_af\": 0.00010313531353135314, \"yearly_counts_af\": 29088.0, \"value_subfields\": 1.2349338075479154e-05, \"filter_subfields\": \"nan\", \"yearly_counts_subfields\": 80976.0, \"relative_frequency_ratio\": 8.351485148514852}, {\"filter_af\": \"0\", \"year\": \"2023\", \"mesh_tree_label\": \"Hemic and Lymphatic Diseases\", \"mesh_terms_label\": \"Thrombocytopenia\", \"value_af\": 0.00010313531353135314, \"yearly_counts_af\": 29088.0, \"value_subfields\": 1.2349338075479154e-05, \"filter_subfields\": \"nan\", \"yearly_counts_subfields\": 80976.0, \"relative_frequency_ratio\": 8.351485148514852}, {\"filter_af\": \"0\", \"year\": \"2023\", \"mesh_tree_label\": \"Musculoskeletal Diseases\", \"mesh_terms_label\": \"Muscular Dystrophies, Limb-Girdle\", \"value_af\": 0.00010313531353135314, \"yearly_counts_af\": 29088.0, \"value_subfields\": 1.2349338075479154e-05, \"filter_subfields\": \"nan\", \"yearly_counts_subfields\": 80976.0, \"relative_frequency_ratio\": 8.351485148514852}, {\"filter_af\": \"0\", \"year\": \"2023\", \"mesh_tree_label\": \"Nervous System Diseases\", \"mesh_terms_label\": \"Movement Disorders\", \"value_af\": 0.0001718921892189219, \"yearly_counts_af\": 29088.0, \"value_subfields\": 2.469867615095831e-05, \"filter_subfields\": \"nan\", \"yearly_counts_subfields\": 80976.0, \"relative_frequency_ratio\": 6.95957095709571}, {\"filter_af\": \"0\", \"year\": \"2023\", \"mesh_tree_label\": \"Infections\", \"mesh_terms_label\": \"African Swine Fever\", \"value_af\": 0.00020627062706270627, \"yearly_counts_af\": 29088.0, \"value_subfields\": 3.704801422643746e-05, \"filter_subfields\": \"nan\", \"yearly_counts_subfields\": 80976.0, \"relative_frequency_ratio\": 5.567656765676568}], \"data-36ad0d3516b7baf07a0d32992acf98ab\": [{\"filter_af\": \"0\", \"year\": \"2024\", \"mesh_tree_label\": \"Infections\", \"mesh_terms_label\": \"Zika Virus Infection\", \"value_af\": 0.001243008079552517, \"yearly_counts_af\": 1609.0, \"value_subfields\": 7.376807317792859e-05, \"filter_subfields\": \"nan\", \"yearly_counts_subfields\": 13556.0, \"relative_frequency_ratio\": 16.85021752641392}, {\"filter_af\": \"0\", \"year\": \"2024\", \"mesh_tree_label\": \"Eye Diseases\", \"mesh_terms_label\": \"Retinal Diseases\", \"value_af\": 0.001243008079552517, \"yearly_counts_af\": 1609.0, \"value_subfields\": 7.376807317792859e-05, \"filter_subfields\": \"nan\", \"yearly_counts_subfields\": 13556.0, \"relative_frequency_ratio\": 16.85021752641392}, {\"filter_af\": \"0\", \"year\": \"2024\", \"mesh_tree_label\": \"Nervous System Diseases\", \"mesh_terms_label\": \"Spinal Dysraphism\", \"value_af\": 0.0006215040397762585, \"yearly_counts_af\": 1609.0, \"value_subfields\": 7.376807317792859e-05, \"filter_subfields\": \"nan\", \"yearly_counts_subfields\": 13556.0, \"relative_frequency_ratio\": 8.42510876320696}, {\"filter_af\": \"0\", \"year\": \"2024\", \"mesh_tree_label\": \"Nervous System Diseases\", \"mesh_terms_label\": \"Nervous System Diseases\", \"value_af\": 0.0006215040397762585, \"yearly_counts_af\": 1609.0, \"value_subfields\": 7.376807317792859e-05, \"filter_subfields\": \"nan\", \"yearly_counts_subfields\": 13556.0, \"relative_frequency_ratio\": 8.42510876320696}, {\"filter_af\": \"0\", \"year\": \"2024\", \"mesh_tree_label\": \"Infections\", \"mesh_terms_label\": \"Dengue\", \"value_af\": 0.0006215040397762585, \"yearly_counts_af\": 1609.0, \"value_subfields\": 7.376807317792859e-05, \"filter_subfields\": \"nan\", \"yearly_counts_subfields\": 13556.0, \"relative_frequency_ratio\": 8.42510876320696}, {\"filter_af\": \"0\", \"year\": \"2024\", \"mesh_tree_label\": \"Infections\", \"mesh_terms_label\": \"Staphylococcal Infections\", \"value_af\": 0.0006215040397762585, \"yearly_counts_af\": 1609.0, \"value_subfields\": 7.376807317792859e-05, \"filter_subfields\": \"nan\", \"yearly_counts_subfields\": 13556.0, \"relative_frequency_ratio\": 8.42510876320696}, {\"filter_af\": \"0\", \"year\": \"2024\", \"mesh_tree_label\": \"Infections\", \"mesh_terms_label\": \"Campylobacter Infections\", \"value_af\": 0.0006215040397762585, \"yearly_counts_af\": 1609.0, \"value_subfields\": 7.376807317792859e-05, \"filter_subfields\": \"nan\", \"yearly_counts_subfields\": 13556.0, \"relative_frequency_ratio\": 8.42510876320696}, {\"filter_af\": \"0\", \"year\": \"2024\", \"mesh_tree_label\": \"Digestive System Diseases\", \"mesh_terms_label\": \"Gastroenteritis\", \"value_af\": 0.0006215040397762585, \"yearly_counts_af\": 1609.0, \"value_subfields\": 7.376807317792859e-05, \"filter_subfields\": \"nan\", \"yearly_counts_subfields\": 13556.0, \"relative_frequency_ratio\": 8.42510876320696}, {\"filter_af\": \"0\", \"year\": \"2024\", \"mesh_tree_label\": \"Infections\", \"mesh_terms_label\": \"African Swine Fever\", \"value_af\": 0.0006215040397762585, \"yearly_counts_af\": 1609.0, \"value_subfields\": 7.376807317792859e-05, \"filter_subfields\": \"nan\", \"yearly_counts_subfields\": 13556.0, \"relative_frequency_ratio\": 8.42510876320696}, {\"filter_af\": \"0\", \"year\": \"2024\", \"mesh_tree_label\": \"Pathological Conditions, Signs and Symptoms\", \"mesh_terms_label\": \"Neovascularization, Pathologic\", \"value_af\": 0.0006215040397762585, \"yearly_counts_af\": 1609.0, \"value_subfields\": 7.376807317792859e-05, \"filter_subfields\": \"nan\", \"yearly_counts_subfields\": 13556.0, \"relative_frequency_ratio\": 8.42510876320696}, {\"filter_af\": \"0\", \"year\": \"2024\", \"mesh_tree_label\": \"Eye Diseases\", \"mesh_terms_label\": \"Macular Degeneration\", \"value_af\": 0.0006215040397762585, \"yearly_counts_af\": 1609.0, \"value_subfields\": 7.376807317792859e-05, \"filter_subfields\": \"nan\", \"yearly_counts_subfields\": 13556.0, \"relative_frequency_ratio\": 8.42510876320696}]}}, {\"mode\": \"vega-lite\"});\n",
       "</script>"
      ],
      "text/plain": [
       "\u001b[1;35malt.HConcatChart\u001b[0m\u001b[1m(\u001b[0m\u001b[33m...\u001b[0m\u001b[1m)\u001b[0m"
      ]
     },
     "execution_count": 53,
     "metadata": {},
     "output_type": "execute_result"
    }
   ],
   "source": [
    "# Get the unique years\n",
    "years = sorted(data['year'].unique())\n",
    "\n",
    "# Create a chart for each year and store them in a list\n",
    "charts = []\n",
    "for year in years:\n",
    "    yearly_data = data[data['year'] == year][:30]\n",
    "    chart = alt.Chart(yearly_data).mark_bar().encode(\n",
    "        x='relative_frequency_ratio:Q',\n",
    "        y=alt.Y('mesh_terms_label:N', sort='-x'),\n",
    "        color='mesh_tree_label:N',\n",
    "        tooltip=['mesh_terms_label', 'relative_frequency_ratio', 'mesh_tree_label']\n",
    "    ).properties(\n",
    "        title=f'Top 5 Ratio Words for AF Level 0 in {year}'\n",
    "    )\n",
    "    charts.append(chart)\n",
    "\n",
    "# Concatenate the charts\n",
    "final_chart = alt.hconcat(*charts)\n",
    "\n",
    "final_chart"
   ]
  },
  {
   "cell_type": "code",
   "execution_count": 54,
   "metadata": {},
   "outputs": [
    {
     "data": {
      "text/html": [
       "<pre style=\"white-space:pre;overflow-x:auto;line-height:normal;font-family:Menlo,'DejaVu Sans Mono',consolas,'Courier New',monospace\"></pre>\n"
      ],
      "text/plain": []
     },
     "metadata": {},
     "output_type": "display_data"
    },
    {
     "data": {
      "text/html": [
       "\n",
       "<div id=\"altair-viz-7350c46b5250488ead4259449a74c7d1\"></div>\n",
       "<script type=\"text/javascript\">\n",
       "  var VEGA_DEBUG = (typeof VEGA_DEBUG == \"undefined\") ? {} : VEGA_DEBUG;\n",
       "  (function(spec, embedOpt){\n",
       "    let outputDiv = document.currentScript.previousElementSibling;\n",
       "    if (outputDiv.id !== \"altair-viz-7350c46b5250488ead4259449a74c7d1\") {\n",
       "      outputDiv = document.getElementById(\"altair-viz-7350c46b5250488ead4259449a74c7d1\");\n",
       "    }\n",
       "    const paths = {\n",
       "      \"vega\": \"https://cdn.jsdelivr.net/npm//vega@5?noext\",\n",
       "      \"vega-lib\": \"https://cdn.jsdelivr.net/npm//vega-lib?noext\",\n",
       "      \"vega-lite\": \"https://cdn.jsdelivr.net/npm//vega-lite@4.17.0?noext\",\n",
       "      \"vega-embed\": \"https://cdn.jsdelivr.net/npm//vega-embed@6?noext\",\n",
       "    };\n",
       "\n",
       "    function maybeLoadScript(lib, version) {\n",
       "      var key = `${lib.replace(\"-\", \"\")}_version`;\n",
       "      return (VEGA_DEBUG[key] == version) ?\n",
       "        Promise.resolve(paths[lib]) :\n",
       "        new Promise(function(resolve, reject) {\n",
       "          var s = document.createElement('script');\n",
       "          document.getElementsByTagName(\"head\")[0].appendChild(s);\n",
       "          s.async = true;\n",
       "          s.onload = () => {\n",
       "            VEGA_DEBUG[key] = version;\n",
       "            return resolve(paths[lib]);\n",
       "          };\n",
       "          s.onerror = () => reject(`Error loading script: ${paths[lib]}`);\n",
       "          s.src = paths[lib];\n",
       "        });\n",
       "    }\n",
       "\n",
       "    function showError(err) {\n",
       "      outputDiv.innerHTML = `<div class=\"error\" style=\"color:red;\">${err}</div>`;\n",
       "      throw err;\n",
       "    }\n",
       "\n",
       "    function displayChart(vegaEmbed) {\n",
       "      vegaEmbed(outputDiv, spec, embedOpt)\n",
       "        .catch(err => showError(`Javascript Error: ${err.message}<br>This usually means there's a typo in your chart specification. See the javascript console for the full traceback.`));\n",
       "    }\n",
       "\n",
       "    if(typeof define === \"function\" && define.amd) {\n",
       "      requirejs.config({paths});\n",
       "      require([\"vega-embed\"], displayChart, err => showError(`Error loading script: ${err.message}`));\n",
       "    } else {\n",
       "      maybeLoadScript(\"vega\", \"5\")\n",
       "        .then(() => maybeLoadScript(\"vega-lite\", \"4.17.0\"))\n",
       "        .then(() => maybeLoadScript(\"vega-embed\", \"6\"))\n",
       "        .catch(showError)\n",
       "        .then(() => displayChart(vegaEmbed));\n",
       "    }\n",
       "  })({\"config\": {\"view\": {\"continuousWidth\": 400, \"continuousHeight\": 300}}, \"data\": {\"name\": \"data-7a71970858fdc0bc353f615c959797a8\"}, \"mark\": \"bar\", \"encoding\": {\"color\": {\"field\": \"year\", \"scale\": {\"scheme\": \"oranges\"}, \"type\": \"ordinal\"}, \"column\": {\"field\": \"level\", \"type\": \"ordinal\"}, \"tooltip\": [{\"field\": \"year\", \"type\": \"nominal\"}, {\"field\": \"level\", \"type\": \"quantitative\"}, {\"field\": \"mesh_terms_label\", \"type\": \"nominal\"}, {\"field\": \"proportion\", \"type\": \"quantitative\"}], \"x\": {\"field\": \"proportion\", \"type\": \"quantitative\"}, \"y\": {\"field\": \"mesh_terms_label\", \"type\": \"nominal\"}}, \"title\": \"Annual Proportion of Top 50 Labels\", \"$schema\": \"https://vega.github.io/schema/vega-lite/v4.17.0.json\", \"datasets\": {\"data-7a71970858fdc0bc353f615c959797a8\": [{\"year\": \"2021\", \"level\": 0, \"mesh_terms_label\": \"Humans\", \"count\": 151, \"total_count\": 2809, \"proportion\": 0.053755784976860094}, {\"year\": \"2021\", \"level\": 0, \"mesh_terms_label\": \"Animals\", \"count\": 80, \"total_count\": 2809, \"proportion\": 0.02847988608045568}, {\"year\": \"2021\", \"level\": 0, \"mesh_terms_label\": \"Protein Conformation\", \"count\": 70, \"total_count\": 2809, \"proportion\": 0.02491990032039872}, {\"year\": \"2021\", \"level\": 0, \"mesh_terms_label\": \"Proteins\", \"count\": 66, \"total_count\": 2809, \"proportion\": 0.023495906016375936}, {\"year\": \"2021\", \"level\": 0, \"mesh_terms_label\": \"Models, Molecular\", \"count\": 63, \"total_count\": 2809, \"proportion\": 0.022427910288358846}, {\"year\": \"2021\", \"level\": 0, \"mesh_terms_label\": \"Computational Biology\", \"count\": 53, \"total_count\": 2809, \"proportion\": 0.018867924528301886}, {\"year\": \"2021\", \"level\": 0, \"mesh_terms_label\": \"Amino Acid Sequence\", \"count\": 40, \"total_count\": 2809, \"proportion\": 0.01423994304022784}, {\"year\": \"2021\", \"level\": 0, \"mesh_terms_label\": \"Protein Binding\", \"count\": 40, \"total_count\": 2809, \"proportion\": 0.01423994304022784}, {\"year\": \"2021\", \"level\": 0, \"mesh_terms_label\": \"Software\", \"count\": 33, \"total_count\": 2809, \"proportion\": 0.011747953008187968}, {\"year\": \"2021\", \"level\": 0, \"mesh_terms_label\": \"Cryoelectron Microscopy\", \"count\": 28, \"total_count\": 2809, \"proportion\": 0.009967960128159488}, {\"year\": \"2021\", \"level\": 0, \"mesh_terms_label\": \"Databases, Protein\", \"count\": 28, \"total_count\": 2809, \"proportion\": 0.009967960128159488}, {\"year\": \"2021\", \"level\": 0, \"mesh_terms_label\": \"Algorithms\", \"count\": 26, \"total_count\": 2809, \"proportion\": 0.009255962976148096}, {\"year\": \"2021\", \"level\": 0, \"mesh_terms_label\": \"Mutation\", \"count\": 26, \"total_count\": 2809, \"proportion\": 0.009255962976148096}, {\"year\": \"2021\", \"level\": 0, \"mesh_terms_label\": \"Protein Folding\", \"count\": 24, \"total_count\": 2809, \"proportion\": 0.008543965824136704}, {\"year\": \"2021\", \"level\": 0, \"mesh_terms_label\": \"Deep Learning\", \"count\": 23, \"total_count\": 2809, \"proportion\": 0.008187967248131008}, {\"year\": \"2021\", \"level\": 0, \"mesh_terms_label\": \"Binding Sites\", \"count\": 21, \"total_count\": 2809, \"proportion\": 0.007475970096119616}, {\"year\": \"2021\", \"level\": 0, \"mesh_terms_label\": \"Machine Learning\", \"count\": 19, \"total_count\": 2809, \"proportion\": 0.006763972944108224}, {\"year\": \"2021\", \"level\": 0, \"mesh_terms_label\": \"Protein Domains\", \"count\": 19, \"total_count\": 2809, \"proportion\": 0.006763972944108224}, {\"year\": \"2021\", \"level\": 0, \"mesh_terms_label\": \"Neural Networks, Computer\", \"count\": 18, \"total_count\": 2809, \"proportion\": 0.006407974368102528}, {\"year\": \"2021\", \"level\": 0, \"mesh_terms_label\": \"Signal Transduction\", \"count\": 18, \"total_count\": 2809, \"proportion\": 0.006407974368102528}, {\"year\": \"2021\", \"level\": 0, \"mesh_terms_label\": \"Membrane Proteins\", \"count\": 17, \"total_count\": 2809, \"proportion\": 0.006051975792096832}, {\"year\": \"2021\", \"level\": 0, \"mesh_terms_label\": \"Mice\", \"count\": 17, \"total_count\": 2809, \"proportion\": 0.006051975792096832}, {\"year\": \"2021\", \"level\": 0, \"mesh_terms_label\": \"Molecular Dynamics Simulation\", \"count\": 17, \"total_count\": 2809, \"proportion\": 0.006051975792096832}, {\"year\": \"2021\", \"level\": 0, \"mesh_terms_label\": \"Ligands\", \"count\": 16, \"total_count\": 2809, \"proportion\": 0.005695977216091136}, {\"year\": \"2021\", \"level\": 0, \"mesh_terms_label\": \"Phylogeny\", \"count\": 16, \"total_count\": 2809, \"proportion\": 0.005695977216091136}, {\"year\": \"2021\", \"level\": 0, \"mesh_terms_label\": \"SARS-CoV-2\", \"count\": 16, \"total_count\": 2809, \"proportion\": 0.005695977216091136}, {\"year\": \"2021\", \"level\": 0, \"mesh_terms_label\": \"Artificial Intelligence\", \"count\": 15, \"total_count\": 2809, \"proportion\": 0.00533997864008544}, {\"year\": \"2021\", \"level\": 0, \"mesh_terms_label\": \"Molecular Docking Simulation\", \"count\": 15, \"total_count\": 2809, \"proportion\": 0.00533997864008544}, {\"year\": \"2021\", \"level\": 0, \"mesh_terms_label\": \"Bacterial Proteins\", \"count\": 14, \"total_count\": 2809, \"proportion\": 0.004983980064079744}, {\"year\": \"2021\", \"level\": 0, \"mesh_terms_label\": \"Evolution, Molecular\", \"count\": 13, \"total_count\": 2809, \"proportion\": 0.004627981488074048}, {\"year\": \"2021\", \"level\": 0, \"mesh_terms_label\": \"HEK293 Cells\", \"count\": 13, \"total_count\": 2809, \"proportion\": 0.004627981488074048}, {\"year\": \"2021\", \"level\": 0, \"mesh_terms_label\": \"Sequence Alignment\", \"count\": 13, \"total_count\": 2809, \"proportion\": 0.004627981488074048}, {\"year\": \"2021\", \"level\": 0, \"mesh_terms_label\": \"Transcription Factors\", \"count\": 13, \"total_count\": 2809, \"proportion\": 0.004627981488074048}, {\"year\": \"2021\", \"level\": 0, \"mesh_terms_label\": \"Gene Expression Regulation\", \"count\": 12, \"total_count\": 2809, \"proportion\": 0.004271982912068352}, {\"year\": \"2021\", \"level\": 0, \"mesh_terms_label\": \"Sequence Analysis, Protein\", \"count\": 12, \"total_count\": 2809, \"proportion\": 0.004271982912068352}, {\"year\": \"2021\", \"level\": 0, \"mesh_terms_label\": \"Structure-Activity Relationship\", \"count\": 12, \"total_count\": 2809, \"proportion\": 0.004271982912068352}, {\"year\": \"2021\", \"level\": 0, \"mesh_terms_label\": \"Crystallography, X-Ray\", \"count\": 11, \"total_count\": 2809, \"proportion\": 0.003915984336062656}, {\"year\": \"2021\", \"level\": 0, \"mesh_terms_label\": \"Escherichia coli\", \"count\": 11, \"total_count\": 2809, \"proportion\": 0.003915984336062656}, {\"year\": \"2021\", \"level\": 0, \"mesh_terms_label\": \"Drug Discovery\", \"count\": 10, \"total_count\": 2809, \"proportion\": 0.00355998576005696}, {\"year\": \"2021\", \"level\": 0, \"mesh_terms_label\": \"Amino Acids\", \"count\": 9, \"total_count\": 2809, \"proportion\": 0.003203987184051264}, {\"year\": \"2021\", \"level\": 0, \"mesh_terms_label\": \"Catalytic Domain\", \"count\": 9, \"total_count\": 2809, \"proportion\": 0.003203987184051264}, {\"year\": \"2021\", \"level\": 0, \"mesh_terms_label\": \"Cell Membrane\", \"count\": 9, \"total_count\": 2809, \"proportion\": 0.003203987184051264}, {\"year\": \"2021\", \"level\": 0, \"mesh_terms_label\": \"Female\", \"count\": 9, \"total_count\": 2809, \"proportion\": 0.003203987184051264}, {\"year\": \"2021\", \"level\": 0, \"mesh_terms_label\": \"Protein Interaction Domains and Motifs\", \"count\": 9, \"total_count\": 2809, \"proportion\": 0.003203987184051264}, {\"year\": \"2021\", \"level\": 0, \"mesh_terms_label\": \"Protein Multimerization\", \"count\": 9, \"total_count\": 2809, \"proportion\": 0.003203987184051264}, {\"year\": \"2021\", \"level\": 0, \"mesh_terms_label\": \"Proteome\", \"count\": 9, \"total_count\": 2809, \"proportion\": 0.003203987184051264}, {\"year\": \"2021\", \"level\": 0, \"mesh_terms_label\": \"Computer Simulation\", \"count\": 8, \"total_count\": 2809, \"proportion\": 0.002847988608045568}, {\"year\": \"2021\", \"level\": 0, \"mesh_terms_label\": \"Drug Design\", \"count\": 8, \"total_count\": 2809, \"proportion\": 0.002847988608045568}, {\"year\": \"2021\", \"level\": 0, \"mesh_terms_label\": \"Escherichia coli Proteins\", \"count\": 8, \"total_count\": 2809, \"proportion\": 0.002847988608045568}, {\"year\": \"2021\", \"level\": 0, \"mesh_terms_label\": \"Fungal Proteins\", \"count\": 8, \"total_count\": 2809, \"proportion\": 0.002847988608045568}, {\"year\": \"2021\", \"level\": 1, \"mesh_terms_label\": \"Humans\", \"count\": 83, \"total_count\": 1621, \"proportion\": 0.05120296113510179}, {\"year\": \"2021\", \"level\": 1, \"mesh_terms_label\": \"Proteins\", \"count\": 57, \"total_count\": 1621, \"proportion\": 0.0351634793337446}, {\"year\": \"2021\", \"level\": 1, \"mesh_terms_label\": \"Protein Conformation\", \"count\": 56, \"total_count\": 1621, \"proportion\": 0.03454657618753856}, {\"year\": \"2021\", \"level\": 1, \"mesh_terms_label\": \"Animals\", \"count\": 45, \"total_count\": 1621, \"proportion\": 0.027760641579272053}, {\"year\": \"2021\", \"level\": 1, \"mesh_terms_label\": \"Computational Biology\", \"count\": 45, \"total_count\": 1621, \"proportion\": 0.027760641579272053}, {\"year\": \"2021\", \"level\": 1, \"mesh_terms_label\": \"Models, Molecular\", \"count\": 43, \"total_count\": 1621, \"proportion\": 0.02652683528685996}, {\"year\": \"2021\", \"level\": 1, \"mesh_terms_label\": \"Software\", \"count\": 37, \"total_count\": 1621, \"proportion\": 0.02282541640962369}, {\"year\": \"2021\", \"level\": 1, \"mesh_terms_label\": \"Databases, Protein\", \"count\": 33, \"total_count\": 1621, \"proportion\": 0.020357803824799507}, {\"year\": \"2021\", \"level\": 1, \"mesh_terms_label\": \"Amino Acid Sequence\", \"count\": 28, \"total_count\": 1621, \"proportion\": 0.01727328809376928}, {\"year\": \"2021\", \"level\": 1, \"mesh_terms_label\": \"Protein Folding\", \"count\": 21, \"total_count\": 1621, \"proportion\": 0.012954966070326958}, {\"year\": \"2021\", \"level\": 1, \"mesh_terms_label\": \"Sequence Analysis, Protein\", \"count\": 21, \"total_count\": 1621, \"proportion\": 0.012954966070326958}, {\"year\": \"2021\", \"level\": 1, \"mesh_terms_label\": \"Cryoelectron Microscopy\", \"count\": 20, \"total_count\": 1621, \"proportion\": 0.012338062924120914}, {\"year\": \"2021\", \"level\": 1, \"mesh_terms_label\": \"Protein Binding\", \"count\": 20, \"total_count\": 1621, \"proportion\": 0.012338062924120914}, {\"year\": \"2021\", \"level\": 1, \"mesh_terms_label\": \"SARS-CoV-2\", \"count\": 20, \"total_count\": 1621, \"proportion\": 0.012338062924120914}, {\"year\": \"2021\", \"level\": 1, \"mesh_terms_label\": \"Deep Learning\", \"count\": 18, \"total_count\": 1621, \"proportion\": 0.011104256631708822}, {\"year\": \"2021\", \"level\": 1, \"mesh_terms_label\": \"Algorithms\", \"count\": 16, \"total_count\": 1621, \"proportion\": 0.00987045033929673}, {\"year\": \"2021\", \"level\": 1, \"mesh_terms_label\": \"Molecular Dynamics Simulation\", \"count\": 16, \"total_count\": 1621, \"proportion\": 0.00987045033929673}, {\"year\": \"2021\", \"level\": 1, \"mesh_terms_label\": \"Neural Networks, Computer\", \"count\": 13, \"total_count\": 1621, \"proportion\": 0.008019740900678593}, {\"year\": \"2021\", \"level\": 1, \"mesh_terms_label\": \"Binding Sites\", \"count\": 12, \"total_count\": 1621, \"proportion\": 0.007402837754472548}, {\"year\": \"2021\", \"level\": 1, \"mesh_terms_label\": \"Mutation\", \"count\": 12, \"total_count\": 1621, \"proportion\": 0.007402837754472548}, {\"year\": \"2021\", \"level\": 1, \"mesh_terms_label\": \"Protein Domains\", \"count\": 12, \"total_count\": 1621, \"proportion\": 0.007402837754472548}, {\"year\": \"2021\", \"level\": 1, \"mesh_terms_label\": \"Crystallography, X-Ray\", \"count\": 11, \"total_count\": 1621, \"proportion\": 0.006785934608266502}, {\"year\": \"2021\", \"level\": 1, \"mesh_terms_label\": \"Machine Learning\", \"count\": 11, \"total_count\": 1621, \"proportion\": 0.006785934608266502}, {\"year\": \"2021\", \"level\": 1, \"mesh_terms_label\": \"Mice\", \"count\": 11, \"total_count\": 1621, \"proportion\": 0.006785934608266502}, {\"year\": \"2021\", \"level\": 1, \"mesh_terms_label\": \"Signal Transduction\", \"count\": 11, \"total_count\": 1621, \"proportion\": 0.006785934608266502}, {\"year\": \"2021\", \"level\": 1, \"mesh_terms_label\": \"Phylogeny\", \"count\": 10, \"total_count\": 1621, \"proportion\": 0.006169031462060457}, {\"year\": \"2021\", \"level\": 1, \"mesh_terms_label\": \"Structure-Activity Relationship\", \"count\": 10, \"total_count\": 1621, \"proportion\": 0.006169031462060457}, {\"year\": \"2021\", \"level\": 1, \"mesh_terms_label\": \"Sequence Alignment\", \"count\": 9, \"total_count\": 1621, \"proportion\": 0.005552128315854411}, {\"year\": \"2021\", \"level\": 1, \"mesh_terms_label\": \"Evolution, Molecular\", \"count\": 8, \"total_count\": 1621, \"proportion\": 0.004935225169648365}, {\"year\": \"2021\", \"level\": 1, \"mesh_terms_label\": \"Ligands\", \"count\": 8, \"total_count\": 1621, \"proportion\": 0.004935225169648365}, {\"year\": \"2021\", \"level\": 1, \"mesh_terms_label\": \"Membrane Proteins\", \"count\": 8, \"total_count\": 1621, \"proportion\": 0.004935225169648365}, {\"year\": \"2021\", \"level\": 1, \"mesh_terms_label\": \"Molecular Docking Simulation\", \"count\": 8, \"total_count\": 1621, \"proportion\": 0.004935225169648365}, {\"year\": \"2021\", \"level\": 1, \"mesh_terms_label\": \"Artificial Intelligence\", \"count\": 7, \"total_count\": 1621, \"proportion\": 0.00431832202344232}, {\"year\": \"2021\", \"level\": 1, \"mesh_terms_label\": \"Spike Glycoprotein, Coronavirus\", \"count\": 7, \"total_count\": 1621, \"proportion\": 0.00431832202344232}, {\"year\": \"2021\", \"level\": 1, \"mesh_terms_label\": \"Bacteria\", \"count\": 6, \"total_count\": 1621, \"proportion\": 0.003701418877236274}, {\"year\": \"2021\", \"level\": 1, \"mesh_terms_label\": \"Bacterial Proteins\", \"count\": 6, \"total_count\": 1621, \"proportion\": 0.003701418877236274}, {\"year\": \"2021\", \"level\": 1, \"mesh_terms_label\": \"Cell Membrane\", \"count\": 6, \"total_count\": 1621, \"proportion\": 0.003701418877236274}, {\"year\": \"2021\", \"level\": 1, \"mesh_terms_label\": \"Drug Discovery\", \"count\": 6, \"total_count\": 1621, \"proportion\": 0.003701418877236274}, {\"year\": \"2021\", \"level\": 1, \"mesh_terms_label\": \"Genome, Viral\", \"count\": 6, \"total_count\": 1621, \"proportion\": 0.003701418877236274}, {\"year\": \"2021\", \"level\": 1, \"mesh_terms_label\": \"Intrinsically Disordered Proteins\", \"count\": 6, \"total_count\": 1621, \"proportion\": 0.003701418877236274}, {\"year\": \"2021\", \"level\": 1, \"mesh_terms_label\": \"Proteome\", \"count\": 6, \"total_count\": 1621, \"proportion\": 0.003701418877236274}, {\"year\": \"2021\", \"level\": 1, \"mesh_terms_label\": \"Proteomics\", \"count\": 6, \"total_count\": 1621, \"proportion\": 0.003701418877236274}, {\"year\": \"2021\", \"level\": 1, \"mesh_terms_label\": \"Reproducibility of Results\", \"count\": 6, \"total_count\": 1621, \"proportion\": 0.003701418877236274}, {\"year\": \"2021\", \"level\": 1, \"mesh_terms_label\": \"Angiotensin-Converting Enzyme 2\", \"count\": 5, \"total_count\": 1621, \"proportion\": 0.0030845157310302285}, {\"year\": \"2021\", \"level\": 1, \"mesh_terms_label\": \"Computer Simulation\", \"count\": 5, \"total_count\": 1621, \"proportion\": 0.0030845157310302285}, {\"year\": \"2021\", \"level\": 1, \"mesh_terms_label\": \"Drug Design\", \"count\": 5, \"total_count\": 1621, \"proportion\": 0.0030845157310302285}, {\"year\": \"2021\", \"level\": 1, \"mesh_terms_label\": \"Internet\", \"count\": 5, \"total_count\": 1621, \"proportion\": 0.0030845157310302285}, {\"year\": \"2021\", \"level\": 1, \"mesh_terms_label\": \"Protein Interaction Domains and Motifs\", \"count\": 5, \"total_count\": 1621, \"proportion\": 0.0030845157310302285}, {\"year\": \"2021\", \"level\": 1, \"mesh_terms_label\": \"RNA, Messenger\", \"count\": 5, \"total_count\": 1621, \"proportion\": 0.0030845157310302285}, {\"year\": \"2021\", \"level\": 1, \"mesh_terms_label\": \"Ubiquitin-Protein Ligases\", \"count\": 5, \"total_count\": 1621, \"proportion\": 0.0030845157310302285}, {\"year\": \"2021\", \"level\": 2, \"mesh_terms_label\": \"Humans\", \"count\": 124, \"total_count\": 2092, \"proportion\": 0.05927342256214149}, {\"year\": \"2021\", \"level\": 2, \"mesh_terms_label\": \"Proteins\", \"count\": 63, \"total_count\": 2092, \"proportion\": 0.03011472275334608}, {\"year\": \"2021\", \"level\": 2, \"mesh_terms_label\": \"Protein Conformation\", \"count\": 57, \"total_count\": 2092, \"proportion\": 0.027246653919694074}, {\"year\": \"2021\", \"level\": 2, \"mesh_terms_label\": \"Computational Biology\", \"count\": 54, \"total_count\": 2092, \"proportion\": 0.02581261950286807}, {\"year\": \"2021\", \"level\": 2, \"mesh_terms_label\": \"SARS-CoV-2\", \"count\": 51, \"total_count\": 2092, \"proportion\": 0.024378585086042064}, {\"year\": \"2021\", \"level\": 2, \"mesh_terms_label\": \"Animals\", \"count\": 48, \"total_count\": 2092, \"proportion\": 0.022944550669216062}, {\"year\": \"2021\", \"level\": 2, \"mesh_terms_label\": \"Models, Molecular\", \"count\": 44, \"total_count\": 2092, \"proportion\": 0.021032504780114723}, {\"year\": \"2021\", \"level\": 2, \"mesh_terms_label\": \"Software\", \"count\": 39, \"total_count\": 2092, \"proportion\": 0.01864244741873805}, {\"year\": \"2021\", \"level\": 2, \"mesh_terms_label\": \"Amino Acid Sequence\", \"count\": 31, \"total_count\": 2092, \"proportion\": 0.014818355640535373}, {\"year\": \"2021\", \"level\": 2, \"mesh_terms_label\": \"Databases, Protein\", \"count\": 26, \"total_count\": 2092, \"proportion\": 0.0124282982791587}, {\"year\": \"2021\", \"level\": 2, \"mesh_terms_label\": \"Mutation\", \"count\": 23, \"total_count\": 2092, \"proportion\": 0.010994263862332695}, {\"year\": \"2021\", \"level\": 2, \"mesh_terms_label\": \"Protein Binding\", \"count\": 22, \"total_count\": 2092, \"proportion\": 0.010516252390057362}, {\"year\": \"2021\", \"level\": 2, \"mesh_terms_label\": \"Deep Learning\", \"count\": 21, \"total_count\": 2092, \"proportion\": 0.010038240917782026}, {\"year\": \"2021\", \"level\": 2, \"mesh_terms_label\": \"Molecular Dynamics Simulation\", \"count\": 21, \"total_count\": 2092, \"proportion\": 0.010038240917782026}, {\"year\": \"2021\", \"level\": 2, \"mesh_terms_label\": \"Protein Folding\", \"count\": 21, \"total_count\": 2092, \"proportion\": 0.010038240917782026}, {\"year\": \"2021\", \"level\": 2, \"mesh_terms_label\": \"Sequence Analysis, Protein\", \"count\": 21, \"total_count\": 2092, \"proportion\": 0.010038240917782026}, {\"year\": \"2021\", \"level\": 2, \"mesh_terms_label\": \"Spike Glycoprotein, Coronavirus\", \"count\": 21, \"total_count\": 2092, \"proportion\": 0.010038240917782026}, {\"year\": \"2021\", \"level\": 2, \"mesh_terms_label\": \"Algorithms\", \"count\": 18, \"total_count\": 2092, \"proportion\": 0.008604206500956023}, {\"year\": \"2021\", \"level\": 2, \"mesh_terms_label\": \"Binding Sites\", \"count\": 16, \"total_count\": 2092, \"proportion\": 0.0076481835564053535}, {\"year\": \"2021\", \"level\": 2, \"mesh_terms_label\": \"Neural Networks, Computer\", \"count\": 14, \"total_count\": 2092, \"proportion\": 0.006692160611854685}, {\"year\": \"2021\", \"level\": 2, \"mesh_terms_label\": \"Cryoelectron Microscopy\", \"count\": 13, \"total_count\": 2092, \"proportion\": 0.00621414913957935}, {\"year\": \"2021\", \"level\": 2, \"mesh_terms_label\": \"Machine Learning\", \"count\": 13, \"total_count\": 2092, \"proportion\": 0.00621414913957935}, {\"year\": \"2021\", \"level\": 2, \"mesh_terms_label\": \"Sequence Alignment\", \"count\": 12, \"total_count\": 2092, \"proportion\": 0.0057361376673040155}, {\"year\": \"2021\", \"level\": 2, \"mesh_terms_label\": \"Antibodies, Neutralizing\", \"count\": 11, \"total_count\": 2092, \"proportion\": 0.005258126195028681}, {\"year\": \"2021\", \"level\": 2, \"mesh_terms_label\": \"Antiviral Agents\", \"count\": 11, \"total_count\": 2092, \"proportion\": 0.005258126195028681}, {\"year\": \"2021\", \"level\": 2, \"mesh_terms_label\": \"Membrane Proteins\", \"count\": 11, \"total_count\": 2092, \"proportion\": 0.005258126195028681}, {\"year\": \"2021\", \"level\": 2, \"mesh_terms_label\": \"Protein Domains\", \"count\": 11, \"total_count\": 2092, \"proportion\": 0.005258126195028681}, {\"year\": \"2021\", \"level\": 2, \"mesh_terms_label\": \"Antibodies, Viral\", \"count\": 10, \"total_count\": 2092, \"proportion\": 0.004780114722753346}, {\"year\": \"2021\", \"level\": 2, \"mesh_terms_label\": \"Artificial Intelligence\", \"count\": 10, \"total_count\": 2092, \"proportion\": 0.004780114722753346}, {\"year\": \"2021\", \"level\": 2, \"mesh_terms_label\": \"Intrinsically Disordered Proteins\", \"count\": 10, \"total_count\": 2092, \"proportion\": 0.004780114722753346}, {\"year\": \"2021\", \"level\": 2, \"mesh_terms_label\": \"Mice\", \"count\": 10, \"total_count\": 2092, \"proportion\": 0.004780114722753346}, {\"year\": \"2021\", \"level\": 2, \"mesh_terms_label\": \"Molecular Docking Simulation\", \"count\": 10, \"total_count\": 2092, \"proportion\": 0.004780114722753346}, {\"year\": \"2021\", \"level\": 2, \"mesh_terms_label\": \"Phylogeny\", \"count\": 10, \"total_count\": 2092, \"proportion\": 0.004780114722753346}, {\"year\": \"2021\", \"level\": 2, \"mesh_terms_label\": \"Proteomics\", \"count\": 10, \"total_count\": 2092, \"proportion\": 0.004780114722753346}, {\"year\": \"2021\", \"level\": 2, \"mesh_terms_label\": \"Angiotensin-Converting Enzyme 2\", \"count\": 9, \"total_count\": 2092, \"proportion\": 0.004302103250478011}, {\"year\": \"2021\", \"level\": 2, \"mesh_terms_label\": \"Bacterial Proteins\", \"count\": 9, \"total_count\": 2092, \"proportion\": 0.004302103250478011}, {\"year\": \"2021\", \"level\": 2, \"mesh_terms_label\": \"COVID-19 Vaccines\", \"count\": 9, \"total_count\": 2092, \"proportion\": 0.004302103250478011}, {\"year\": \"2021\", \"level\": 2, \"mesh_terms_label\": \"Crystallography, X-Ray\", \"count\": 9, \"total_count\": 2092, \"proportion\": 0.004302103250478011}, {\"year\": \"2021\", \"level\": 2, \"mesh_terms_label\": \"Drug Discovery\", \"count\": 9, \"total_count\": 2092, \"proportion\": 0.004302103250478011}, {\"year\": \"2021\", \"level\": 2, \"mesh_terms_label\": \"Fungal Proteins\", \"count\": 9, \"total_count\": 2092, \"proportion\": 0.004302103250478011}, {\"year\": \"2021\", \"level\": 2, \"mesh_terms_label\": \"Genome, Viral\", \"count\": 9, \"total_count\": 2092, \"proportion\": 0.004302103250478011}, {\"year\": \"2021\", \"level\": 2, \"mesh_terms_label\": \"Proteome\", \"count\": 9, \"total_count\": 2092, \"proportion\": 0.004302103250478011}, {\"year\": \"2021\", \"level\": 2, \"mesh_terms_label\": \"Signal Transduction\", \"count\": 9, \"total_count\": 2092, \"proportion\": 0.004302103250478011}, {\"year\": \"2021\", \"level\": 2, \"mesh_terms_label\": \"Computer Simulation\", \"count\": 8, \"total_count\": 2092, \"proportion\": 0.0038240917782026767}, {\"year\": \"2021\", \"level\": 2, \"mesh_terms_label\": \"Male\", \"count\": 8, \"total_count\": 2092, \"proportion\": 0.0038240917782026767}, {\"year\": \"2021\", \"level\": 2, \"mesh_terms_label\": \"Pandemics\", \"count\": 8, \"total_count\": 2092, \"proportion\": 0.0038240917782026767}, {\"year\": \"2021\", \"level\": 2, \"mesh_terms_label\": \"Protein Engineering\", \"count\": 8, \"total_count\": 2092, \"proportion\": 0.0038240917782026767}, {\"year\": \"2021\", \"level\": 2, \"mesh_terms_label\": \"Reproducibility of Results\", \"count\": 8, \"total_count\": 2092, \"proportion\": 0.0038240917782026767}, {\"year\": \"2021\", \"level\": 2, \"mesh_terms_label\": \"Amino Acids\", \"count\": 7, \"total_count\": 2092, \"proportion\": 0.0033460803059273425}, {\"year\": \"2021\", \"level\": 2, \"mesh_terms_label\": \"Biological Evolution\", \"count\": 7, \"total_count\": 2092, \"proportion\": 0.0033460803059273425}, {\"year\": \"2021\", \"level\": 3, \"mesh_terms_label\": \"Humans\", \"count\": 180, \"total_count\": 2230, \"proportion\": 0.08071748878923767}, {\"year\": \"2021\", \"level\": 3, \"mesh_terms_label\": \"SARS-CoV-2\", \"count\": 151, \"total_count\": 2230, \"proportion\": 0.06771300448430494}, {\"year\": \"2021\", \"level\": 3, \"mesh_terms_label\": \"Animals\", \"count\": 60, \"total_count\": 2230, \"proportion\": 0.026905829596412557}, {\"year\": \"2021\", \"level\": 3, \"mesh_terms_label\": \"Spike Glycoprotein, Coronavirus\", \"count\": 58, \"total_count\": 2230, \"proportion\": 0.02600896860986547}, {\"year\": \"2021\", \"level\": 3, \"mesh_terms_label\": \"COVID-19 Vaccines\", \"count\": 41, \"total_count\": 2230, \"proportion\": 0.018385650224215247}, {\"year\": \"2021\", \"level\": 3, \"mesh_terms_label\": \"Antibodies, Neutralizing\", \"count\": 40, \"total_count\": 2230, \"proportion\": 0.017937219730941704}, {\"year\": \"2021\", \"level\": 3, \"mesh_terms_label\": \"Antibodies, Viral\", \"count\": 40, \"total_count\": 2230, \"proportion\": 0.017937219730941704}, {\"year\": \"2021\", \"level\": 3, \"mesh_terms_label\": \"Mutation\", \"count\": 39, \"total_count\": 2230, \"proportion\": 0.01748878923766816}, {\"year\": \"2021\", \"level\": 3, \"mesh_terms_label\": \"Models, Molecular\", \"count\": 32, \"total_count\": 2230, \"proportion\": 0.014349775784753363}, {\"year\": \"2021\", \"level\": 3, \"mesh_terms_label\": \"Protein Conformation\", \"count\": 30, \"total_count\": 2230, \"proportion\": 0.013452914798206279}, {\"year\": \"2021\", \"level\": 3, \"mesh_terms_label\": \"Computational Biology\", \"count\": 27, \"total_count\": 2230, \"proportion\": 0.01210762331838565}, {\"year\": \"2021\", \"level\": 3, \"mesh_terms_label\": \"Proteins\", \"count\": 26, \"total_count\": 2230, \"proportion\": 0.011659192825112108}, {\"year\": \"2021\", \"level\": 3, \"mesh_terms_label\": \"Female\", \"count\": 21, \"total_count\": 2230, \"proportion\": 0.009417040358744395}, {\"year\": \"2021\", \"level\": 3, \"mesh_terms_label\": \"Immune Evasion\", \"count\": 21, \"total_count\": 2230, \"proportion\": 0.009417040358744395}, {\"year\": \"2021\", \"level\": 3, \"mesh_terms_label\": \"Software\", \"count\": 21, \"total_count\": 2230, \"proportion\": 0.009417040358744395}, {\"year\": \"2021\", \"level\": 3, \"mesh_terms_label\": \"Protein Binding\", \"count\": 18, \"total_count\": 2230, \"proportion\": 0.008071748878923767}, {\"year\": \"2021\", \"level\": 3, \"mesh_terms_label\": \"Angiotensin-Converting Enzyme 2\", \"count\": 17, \"total_count\": 2230, \"proportion\": 0.007623318385650224}, {\"year\": \"2021\", \"level\": 3, \"mesh_terms_label\": \"Antibodies, Monoclonal\", \"count\": 17, \"total_count\": 2230, \"proportion\": 0.007623318385650224}, {\"year\": \"2021\", \"level\": 3, \"mesh_terms_label\": \"Antiviral Agents\", \"count\": 17, \"total_count\": 2230, \"proportion\": 0.007623318385650224}, {\"year\": \"2021\", \"level\": 3, \"mesh_terms_label\": \"Pandemics\", \"count\": 17, \"total_count\": 2230, \"proportion\": 0.007623318385650224}, {\"year\": \"2021\", \"level\": 3, \"mesh_terms_label\": \"Male\", \"count\": 16, \"total_count\": 2230, \"proportion\": 0.007174887892376682}, {\"year\": \"2021\", \"level\": 3, \"mesh_terms_label\": \"Amino Acid Sequence\", \"count\": 15, \"total_count\": 2230, \"proportion\": 0.006726457399103139}, {\"year\": \"2021\", \"level\": 3, \"mesh_terms_label\": \"Sequence Analysis, Protein\", \"count\": 15, \"total_count\": 2230, \"proportion\": 0.006726457399103139}, {\"year\": \"2021\", \"level\": 3, \"mesh_terms_label\": \"Protein Domains\", \"count\": 14, \"total_count\": 2230, \"proportion\": 0.006278026905829596}, {\"year\": \"2021\", \"level\": 3, \"mesh_terms_label\": \"Phylogeny\", \"count\": 13, \"total_count\": 2230, \"proportion\": 0.005829596412556054}, {\"year\": \"2021\", \"level\": 3, \"mesh_terms_label\": \"BNT162 Vaccine\", \"count\": 12, \"total_count\": 2230, \"proportion\": 0.0053811659192825115}, {\"year\": \"2021\", \"level\": 3, \"mesh_terms_label\": \"Evolution, Molecular\", \"count\": 12, \"total_count\": 2230, \"proportion\": 0.0053811659192825115}, {\"year\": \"2021\", \"level\": 3, \"mesh_terms_label\": \"Genome, Viral\", \"count\": 12, \"total_count\": 2230, \"proportion\": 0.0053811659192825115}, {\"year\": \"2021\", \"level\": 3, \"mesh_terms_label\": \"Mice\", \"count\": 12, \"total_count\": 2230, \"proportion\": 0.0053811659192825115}, {\"year\": \"2021\", \"level\": 3, \"mesh_terms_label\": \"Neutralization Tests\", \"count\": 12, \"total_count\": 2230, \"proportion\": 0.0053811659192825115}, {\"year\": \"2021\", \"level\": 3, \"mesh_terms_label\": \"Cell Line\", \"count\": 11, \"total_count\": 2230, \"proportion\": 0.004932735426008968}, {\"year\": \"2021\", \"level\": 3, \"mesh_terms_label\": \"Molecular Dynamics Simulation\", \"count\": 11, \"total_count\": 2230, \"proportion\": 0.004932735426008968}, {\"year\": \"2021\", \"level\": 3, \"mesh_terms_label\": \"Databases, Protein\", \"count\": 10, \"total_count\": 2230, \"proportion\": 0.004484304932735426}, {\"year\": \"2021\", \"level\": 3, \"mesh_terms_label\": \"Deep Learning\", \"count\": 10, \"total_count\": 2230, \"proportion\": 0.004484304932735426}, {\"year\": \"2021\", \"level\": 3, \"mesh_terms_label\": \"HEK293 Cells\", \"count\": 10, \"total_count\": 2230, \"proportion\": 0.004484304932735426}, {\"year\": \"2021\", \"level\": 3, \"mesh_terms_label\": \"Adult\", \"count\": 9, \"total_count\": 2230, \"proportion\": 0.004035874439461884}, {\"year\": \"2021\", \"level\": 3, \"mesh_terms_label\": \"Cryoelectron Microscopy\", \"count\": 9, \"total_count\": 2230, \"proportion\": 0.004035874439461884}, {\"year\": \"2021\", \"level\": 3, \"mesh_terms_label\": \"Vaccination\", \"count\": 9, \"total_count\": 2230, \"proportion\": 0.004035874439461884}, {\"year\": \"2021\", \"level\": 3, \"mesh_terms_label\": \"Algorithms\", \"count\": 8, \"total_count\": 2230, \"proportion\": 0.003587443946188341}, {\"year\": \"2021\", \"level\": 3, \"mesh_terms_label\": \"Binding Sites\", \"count\": 8, \"total_count\": 2230, \"proportion\": 0.003587443946188341}, {\"year\": \"2021\", \"level\": 3, \"mesh_terms_label\": \"Middle Aged\", \"count\": 8, \"total_count\": 2230, \"proportion\": 0.003587443946188341}, {\"year\": \"2021\", \"level\": 3, \"mesh_terms_label\": \"RNA, Viral\", \"count\": 8, \"total_count\": 2230, \"proportion\": 0.003587443946188341}, {\"year\": \"2021\", \"level\": 3, \"mesh_terms_label\": \"Treatment Outcome\", \"count\": 8, \"total_count\": 2230, \"proportion\": 0.003587443946188341}, {\"year\": \"2021\", \"level\": 3, \"mesh_terms_label\": \"Chromatin\", \"count\": 7, \"total_count\": 2230, \"proportion\": 0.003139013452914798}, {\"year\": \"2021\", \"level\": 3, \"mesh_terms_label\": \"Host-Pathogen Interactions\", \"count\": 7, \"total_count\": 2230, \"proportion\": 0.003139013452914798}, {\"year\": \"2021\", \"level\": 3, \"mesh_terms_label\": \"Protein Folding\", \"count\": 7, \"total_count\": 2230, \"proportion\": 0.003139013452914798}, {\"year\": \"2021\", \"level\": 3, \"mesh_terms_label\": \"Proteomics\", \"count\": 7, \"total_count\": 2230, \"proportion\": 0.003139013452914798}, {\"year\": \"2021\", \"level\": 3, \"mesh_terms_label\": \"Aged\", \"count\": 6, \"total_count\": 2230, \"proportion\": 0.0026905829596412557}, {\"year\": \"2021\", \"level\": 3, \"mesh_terms_label\": \"Antibodies, Monoclonal, Humanized\", \"count\": 6, \"total_count\": 2230, \"proportion\": 0.0026905829596412557}, {\"year\": \"2021\", \"level\": 3, \"mesh_terms_label\": \"DNA-Binding Proteins\", \"count\": 6, \"total_count\": 2230, \"proportion\": 0.0026905829596412557}, {\"year\": \"2022\", \"level\": 0, \"mesh_terms_label\": \"Humans\", \"count\": 1124, \"total_count\": 19876, \"proportion\": 0.05655061380559469}, {\"year\": \"2022\", \"level\": 0, \"mesh_terms_label\": \"Animals\", \"count\": 573, \"total_count\": 19876, \"proportion\": 0.028828738176695512}, {\"year\": \"2022\", \"level\": 0, \"mesh_terms_label\": \"Proteins\", \"count\": 392, \"total_count\": 19876, \"proportion\": 0.0197222781243711}, {\"year\": \"2022\", \"level\": 0, \"mesh_terms_label\": \"Bacterial Proteins\", \"count\": 206, \"total_count\": 19876, \"proportion\": 0.010364258402092976}, {\"year\": \"2022\", \"level\": 0, \"mesh_terms_label\": \"Cryoelectron Microscopy\", \"count\": 202, \"total_count\": 19876, \"proportion\": 0.010163010666130005}, {\"year\": \"2022\", \"level\": 0, \"mesh_terms_label\": \"Protein Conformation\", \"count\": 197, \"total_count\": 19876, \"proportion\": 0.009911450996176293}, {\"year\": \"2022\", \"level\": 0, \"mesh_terms_label\": \"Mutation\", \"count\": 181, \"total_count\": 19876, \"proportion\": 0.00910646005232441}, {\"year\": \"2022\", \"level\": 0, \"mesh_terms_label\": \"Mice\", \"count\": 176, \"total_count\": 19876, \"proportion\": 0.008854900382370698}, {\"year\": \"2022\", \"level\": 0, \"mesh_terms_label\": \"Protein Binding\", \"count\": 174, \"total_count\": 19876, \"proportion\": 0.008754276514389214}, {\"year\": \"2022\", \"level\": 0, \"mesh_terms_label\": \"Amino Acid Sequence\", \"count\": 163, \"total_count\": 19876, \"proportion\": 0.008200845240491044}, {\"year\": \"2022\", \"level\": 0, \"mesh_terms_label\": \"Ligands\", \"count\": 157, \"total_count\": 19876, \"proportion\": 0.007898973636546588}, {\"year\": \"2022\", \"level\": 0, \"mesh_terms_label\": \"Computational Biology\", \"count\": 138, \"total_count\": 19876, \"proportion\": 0.00694304689072248}, {\"year\": \"2022\", \"level\": 0, \"mesh_terms_label\": \"Models, Molecular\", \"count\": 124, \"total_count\": 19876, \"proportion\": 0.006238679814852083}, {\"year\": \"2022\", \"level\": 0, \"mesh_terms_label\": \"Algorithms\", \"count\": 122, \"total_count\": 19876, \"proportion\": 0.0061380559468705975}, {\"year\": \"2022\", \"level\": 0, \"mesh_terms_label\": \"Escherichia coli\", \"count\": 122, \"total_count\": 19876, \"proportion\": 0.0061380559468705975}, {\"year\": \"2022\", \"level\": 0, \"mesh_terms_label\": \"Membrane Proteins\", \"count\": 121, \"total_count\": 19876, \"proportion\": 0.006087744012879855}, {\"year\": \"2022\", \"level\": 0, \"mesh_terms_label\": \"Molecular Docking Simulation\", \"count\": 115, \"total_count\": 19876, \"proportion\": 0.0057858724089353995}, {\"year\": \"2022\", \"level\": 0, \"mesh_terms_label\": \"Phylogeny\", \"count\": 114, \"total_count\": 19876, \"proportion\": 0.005735560474944657}, {\"year\": \"2022\", \"level\": 0, \"mesh_terms_label\": \"Peptides\", \"count\": 113, \"total_count\": 19876, \"proportion\": 0.005685248540953914}, {\"year\": \"2022\", \"level\": 0, \"mesh_terms_label\": \"DNA\", \"count\": 112, \"total_count\": 19876, \"proportion\": 0.005634936606963172}, {\"year\": \"2022\", \"level\": 0, \"mesh_terms_label\": \"Machine Learning\", \"count\": 108, \"total_count\": 19876, \"proportion\": 0.0054336888710002015}, {\"year\": \"2022\", \"level\": 0, \"mesh_terms_label\": \"Artificial Intelligence\", \"count\": 105, \"total_count\": 19876, \"proportion\": 0.005282753069027974}, {\"year\": \"2022\", \"level\": 0, \"mesh_terms_label\": \"Binding Sites\", \"count\": 103, \"total_count\": 19876, \"proportion\": 0.005182129201046488}, {\"year\": \"2022\", \"level\": 0, \"mesh_terms_label\": \"Amino Acids\", \"count\": 101, \"total_count\": 19876, \"proportion\": 0.005081505333065003}, {\"year\": \"2022\", \"level\": 0, \"mesh_terms_label\": \"Software\", \"count\": 101, \"total_count\": 19876, \"proportion\": 0.005081505333065003}, {\"year\": \"2022\", \"level\": 0, \"mesh_terms_label\": \"Saccharomyces cerevisiae\", \"count\": 93, \"total_count\": 19876, \"proportion\": 0.0046790098611390624}, {\"year\": \"2022\", \"level\": 0, \"mesh_terms_label\": \"SARS-CoV-2\", \"count\": 92, \"total_count\": 19876, \"proportion\": 0.004628697927148319}, {\"year\": \"2022\", \"level\": 0, \"mesh_terms_label\": \"Mammals\", \"count\": 91, \"total_count\": 19876, \"proportion\": 0.004578385993157577}, {\"year\": \"2022\", \"level\": 0, \"mesh_terms_label\": \"Transcription Factors\", \"count\": 91, \"total_count\": 19876, \"proportion\": 0.004578385993157577}, {\"year\": \"2022\", \"level\": 0, \"mesh_terms_label\": \"Bacteria\", \"count\": 88, \"total_count\": 19876, \"proportion\": 0.004427450191185349}, {\"year\": \"2022\", \"level\": 0, \"mesh_terms_label\": \"Molecular Dynamics Simulation\", \"count\": 85, \"total_count\": 19876, \"proportion\": 0.004276514389213121}, {\"year\": \"2022\", \"level\": 0, \"mesh_terms_label\": \"Deep Learning\", \"count\": 84, \"total_count\": 19876, \"proportion\": 0.004226202455222379}, {\"year\": \"2022\", \"level\": 0, \"mesh_terms_label\": \"Protein Domains\", \"count\": 83, \"total_count\": 19876, \"proportion\": 0.004175890521231636}, {\"year\": \"2022\", \"level\": 0, \"mesh_terms_label\": \"Protein Folding\", \"count\": 81, \"total_count\": 19876, \"proportion\": 0.004075266653250151}, {\"year\": \"2022\", \"level\": 0, \"mesh_terms_label\": \"Signal Transduction\", \"count\": 81, \"total_count\": 19876, \"proportion\": 0.004075266653250151}, {\"year\": \"2022\", \"level\": 0, \"mesh_terms_label\": \"Neural Networks, Computer\", \"count\": 80, \"total_count\": 19876, \"proportion\": 0.004024954719259408}, {\"year\": \"2022\", \"level\": 0, \"mesh_terms_label\": \"Databases, Protein\", \"count\": 77, \"total_count\": 19876, \"proportion\": 0.0038740189172871806}, {\"year\": \"2022\", \"level\": 0, \"mesh_terms_label\": \"Proteome\", \"count\": 76, \"total_count\": 19876, \"proportion\": 0.003823706983296438}, {\"year\": \"2022\", \"level\": 0, \"mesh_terms_label\": \"Female\", \"count\": 72, \"total_count\": 19876, \"proportion\": 0.0036224592473334677}, {\"year\": \"2022\", \"level\": 0, \"mesh_terms_label\": \"Drug Discovery\", \"count\": 67, \"total_count\": 19876, \"proportion\": 0.0033708995773797544}, {\"year\": \"2022\", \"level\": 0, \"mesh_terms_label\": \"RNA\", \"count\": 67, \"total_count\": 19876, \"proportion\": 0.0033708995773797544}, {\"year\": \"2022\", \"level\": 0, \"mesh_terms_label\": \"Male\", \"count\": 65, \"total_count\": 19876, \"proportion\": 0.0032702757093982693}, {\"year\": \"2022\", \"level\": 0, \"mesh_terms_label\": \"Arabidopsis\", \"count\": 63, \"total_count\": 19876, \"proportion\": 0.0031696518414167842}, {\"year\": \"2022\", \"level\": 0, \"mesh_terms_label\": \"Proteomics\", \"count\": 61, \"total_count\": 19876, \"proportion\": 0.0030690279734352987}, {\"year\": \"2022\", \"level\": 0, \"mesh_terms_label\": \"Saccharomyces cerevisiae Proteins\", \"count\": 59, \"total_count\": 19876, \"proportion\": 0.0029684041054538137}, {\"year\": \"2022\", \"level\": 0, \"mesh_terms_label\": \"Carrier Proteins\", \"count\": 55, \"total_count\": 19876, \"proportion\": 0.002767156369490843}, {\"year\": \"2022\", \"level\": 0, \"mesh_terms_label\": \"Substrate Specificity\", \"count\": 55, \"total_count\": 19876, \"proportion\": 0.002767156369490843}, {\"year\": \"2022\", \"level\": 0, \"mesh_terms_label\": \"Escherichia coli Proteins\", \"count\": 54, \"total_count\": 19876, \"proportion\": 0.0027168444355001008}, {\"year\": \"2022\", \"level\": 0, \"mesh_terms_label\": \"Anti-Bacterial Agents\", \"count\": 51, \"total_count\": 19876, \"proportion\": 0.002565908633527873}, {\"year\": \"2022\", \"level\": 0, \"mesh_terms_label\": \"DNA-Binding Proteins\", \"count\": 51, \"total_count\": 19876, \"proportion\": 0.002565908633527873}, {\"year\": \"2022\", \"level\": 1, \"mesh_terms_label\": \"Humans\", \"count\": 2771, \"total_count\": 37660, \"proportion\": 0.07357939458311205}, {\"year\": \"2022\", \"level\": 1, \"mesh_terms_label\": \"Animals\", \"count\": 1144, \"total_count\": 37660, \"proportion\": 0.030377057886351568}, {\"year\": \"2022\", \"level\": 1, \"mesh_terms_label\": \"SARS-CoV-2\", \"count\": 730, \"total_count\": 37660, \"proportion\": 0.019383961763143918}, {\"year\": \"2022\", \"level\": 1, \"mesh_terms_label\": \"Proteins\", \"count\": 520, \"total_count\": 37660, \"proportion\": 0.013807753584705257}, {\"year\": \"2022\", \"level\": 1, \"mesh_terms_label\": \"Mice\", \"count\": 405, \"total_count\": 37660, \"proportion\": 0.010754115772703134}, {\"year\": \"2022\", \"level\": 1, \"mesh_terms_label\": \"Mutation\", \"count\": 302, \"total_count\": 37660, \"proportion\": 0.00801911842804036}, {\"year\": \"2022\", \"level\": 1, \"mesh_terms_label\": \"Spike Glycoprotein, Coronavirus\", \"count\": 268, \"total_count\": 37660, \"proportion\": 0.007116303770578864}, {\"year\": \"2022\", \"level\": 1, \"mesh_terms_label\": \"Protein Binding\", \"count\": 261, \"total_count\": 37660, \"proportion\": 0.006930430164630908}, {\"year\": \"2022\", \"level\": 1, \"mesh_terms_label\": \"Ligands\", \"count\": 245, \"total_count\": 37660, \"proportion\": 0.006505576208178439}, {\"year\": \"2022\", \"level\": 1, \"mesh_terms_label\": \"Protein Conformation\", \"count\": 242, \"total_count\": 37660, \"proportion\": 0.0064259160913436005}, {\"year\": \"2022\", \"level\": 1, \"mesh_terms_label\": \"Cryoelectron Microscopy\", \"count\": 238, \"total_count\": 37660, \"proportion\": 0.006319702602230483}, {\"year\": \"2022\", \"level\": 1, \"mesh_terms_label\": \"Antibodies, Viral\", \"count\": 211, \"total_count\": 37660, \"proportion\": 0.005602761550716941}, {\"year\": \"2022\", \"level\": 1, \"mesh_terms_label\": \"Bacterial Proteins\", \"count\": 202, \"total_count\": 37660, \"proportion\": 0.005363781200212427}, {\"year\": \"2022\", \"level\": 1, \"mesh_terms_label\": \"Molecular Docking Simulation\", \"count\": 195, \"total_count\": 37660, \"proportion\": 0.005177907594264472}, {\"year\": \"2022\", \"level\": 1, \"mesh_terms_label\": \"Antibodies, Neutralizing\", \"count\": 188, \"total_count\": 37660, \"proportion\": 0.004992033988316516}, {\"year\": \"2022\", \"level\": 1, \"mesh_terms_label\": \"Computational Biology\", \"count\": 183, \"total_count\": 37660, \"proportion\": 0.004859267126925119}, {\"year\": \"2022\", \"level\": 1, \"mesh_terms_label\": \"DNA\", \"count\": 182, \"total_count\": 37660, \"proportion\": 0.0048327137546468404}, {\"year\": \"2022\", \"level\": 1, \"mesh_terms_label\": \"Molecular Dynamics Simulation\", \"count\": 180, \"total_count\": 37660, \"proportion\": 0.004779607010090282}, {\"year\": \"2022\", \"level\": 1, \"mesh_terms_label\": \"Machine Learning\", \"count\": 177, \"total_count\": 37660, \"proportion\": 0.0046999468932554436}, {\"year\": \"2022\", \"level\": 1, \"mesh_terms_label\": \"Amino Acid Sequence\", \"count\": 176, \"total_count\": 37660, \"proportion\": 0.004673393520977164}, {\"year\": \"2022\", \"level\": 1, \"mesh_terms_label\": \"Mammals\", \"count\": 176, \"total_count\": 37660, \"proportion\": 0.004673393520977164}, {\"year\": \"2022\", \"level\": 1, \"mesh_terms_label\": \"Membrane Proteins\", \"count\": 176, \"total_count\": 37660, \"proportion\": 0.004673393520977164}, {\"year\": \"2022\", \"level\": 1, \"mesh_terms_label\": \"Peptides\", \"count\": 171, \"total_count\": 37660, \"proportion\": 0.004540626659585768}, {\"year\": \"2022\", \"level\": 1, \"mesh_terms_label\": \"Phylogeny\", \"count\": 171, \"total_count\": 37660, \"proportion\": 0.004540626659585768}, {\"year\": \"2022\", \"level\": 1, \"mesh_terms_label\": \"Female\", \"count\": 156, \"total_count\": 37660, \"proportion\": 0.004142326075411577}, {\"year\": \"2022\", \"level\": 1, \"mesh_terms_label\": \"Signal Transduction\", \"count\": 155, \"total_count\": 37660, \"proportion\": 0.004115772703133298}, {\"year\": \"2022\", \"level\": 1, \"mesh_terms_label\": \"Amino Acids\", \"count\": 154, \"total_count\": 37660, \"proportion\": 0.004089219330855019}, {\"year\": \"2022\", \"level\": 1, \"mesh_terms_label\": \"Transcription Factors\", \"count\": 153, \"total_count\": 37660, \"proportion\": 0.004062665958576739}, {\"year\": \"2022\", \"level\": 1, \"mesh_terms_label\": \"Bacteria\", \"count\": 150, \"total_count\": 37660, \"proportion\": 0.003983005841741901}, {\"year\": \"2022\", \"level\": 1, \"mesh_terms_label\": \"Escherichia coli\", \"count\": 148, \"total_count\": 37660, \"proportion\": 0.003929899097185343}, {\"year\": \"2022\", \"level\": 1, \"mesh_terms_label\": \"Algorithms\", \"count\": 145, \"total_count\": 37660, \"proportion\": 0.0038502389803505045}, {\"year\": \"2022\", \"level\": 1, \"mesh_terms_label\": \"Male\", \"count\": 138, \"total_count\": 37660, \"proportion\": 0.003664365374402549}, {\"year\": \"2022\", \"level\": 1, \"mesh_terms_label\": \"Models, Molecular\", \"count\": 135, \"total_count\": 37660, \"proportion\": 0.003584705257567711}, {\"year\": \"2022\", \"level\": 1, \"mesh_terms_label\": \"Software\", \"count\": 134, \"total_count\": 37660, \"proportion\": 0.003558151885289432}, {\"year\": \"2022\", \"level\": 1, \"mesh_terms_label\": \"RNA\", \"count\": 132, \"total_count\": 37660, \"proportion\": 0.003505045140732873}, {\"year\": \"2022\", \"level\": 1, \"mesh_terms_label\": \"COVID-19 Vaccines\", \"count\": 130, \"total_count\": 37660, \"proportion\": 0.0034519383961763143}, {\"year\": \"2022\", \"level\": 1, \"mesh_terms_label\": \"Binding Sites\", \"count\": 129, \"total_count\": 37660, \"proportion\": 0.003425385023898035}, {\"year\": \"2022\", \"level\": 1, \"mesh_terms_label\": \"Pandemics\", \"count\": 126, \"total_count\": 37660, \"proportion\": 0.003345724907063197}, {\"year\": \"2022\", \"level\": 1, \"mesh_terms_label\": \"Proteomics\", \"count\": 125, \"total_count\": 37660, \"proportion\": 0.003319171534784918}, {\"year\": \"2022\", \"level\": 1, \"mesh_terms_label\": \"Saccharomyces cerevisiae\", \"count\": 124, \"total_count\": 37660, \"proportion\": 0.0032926181625066385}, {\"year\": \"2022\", \"level\": 1, \"mesh_terms_label\": \"Proteome\", \"count\": 122, \"total_count\": 37660, \"proportion\": 0.0032395114179500795}, {\"year\": \"2022\", \"level\": 1, \"mesh_terms_label\": \"Artificial Intelligence\", \"count\": 120, \"total_count\": 37660, \"proportion\": 0.003186404673393521}, {\"year\": \"2022\", \"level\": 1, \"mesh_terms_label\": \"Antiviral Agents\", \"count\": 114, \"total_count\": 37660, \"proportion\": 0.0030270844397238448}, {\"year\": \"2022\", \"level\": 1, \"mesh_terms_label\": \"Anti-Bacterial Agents\", \"count\": 111, \"total_count\": 37660, \"proportion\": 0.002947424322889007}, {\"year\": \"2022\", \"level\": 1, \"mesh_terms_label\": \"RNA, Messenger\", \"count\": 106, \"total_count\": 37660, \"proportion\": 0.00281465746149761}, {\"year\": \"2022\", \"level\": 1, \"mesh_terms_label\": \"Drug Discovery\", \"count\": 105, \"total_count\": 37660, \"proportion\": 0.0027881040892193307}, {\"year\": \"2022\", \"level\": 1, \"mesh_terms_label\": \"Angiotensin-Converting Enzyme 2\", \"count\": 104, \"total_count\": 37660, \"proportion\": 0.0027615507169410514}, {\"year\": \"2022\", \"level\": 1, \"mesh_terms_label\": \"Antibodies, Monoclonal\", \"count\": 104, \"total_count\": 37660, \"proportion\": 0.0027615507169410514}, {\"year\": \"2022\", \"level\": 1, \"mesh_terms_label\": \"Genomics\", \"count\": 102, \"total_count\": 37660, \"proportion\": 0.002708443972384493}, {\"year\": \"2022\", \"level\": 1, \"mesh_terms_label\": \"Neural Networks, Computer\", \"count\": 97, \"total_count\": 37660, \"proportion\": 0.002575677110993096}, {\"year\": \"2022\", \"level\": 2, \"mesh_terms_label\": \"Humans\", \"count\": 5089, \"total_count\": 52825, \"proportion\": 0.0963369616658779}, {\"year\": \"2022\", \"level\": 2, \"mesh_terms_label\": \"SARS-CoV-2\", \"count\": 2627, \"total_count\": 52825, \"proportion\": 0.04973024136299101}, {\"year\": \"2022\", \"level\": 2, \"mesh_terms_label\": \"Animals\", \"count\": 1355, \"total_count\": 52825, \"proportion\": 0.025650733554188357}, {\"year\": \"2022\", \"level\": 2, \"mesh_terms_label\": \"Antibodies, Viral\", \"count\": 771, \"total_count\": 52825, \"proportion\": 0.014595362044486512}, {\"year\": \"2022\", \"level\": 2, \"mesh_terms_label\": \"COVID-19 Vaccines\", \"count\": 762, \"total_count\": 52825, \"proportion\": 0.014424988168480833}, {\"year\": \"2022\", \"level\": 2, \"mesh_terms_label\": \"Spike Glycoprotein, Coronavirus\", \"count\": 674, \"total_count\": 52825, \"proportion\": 0.012759110269758636}, {\"year\": \"2022\", \"level\": 2, \"mesh_terms_label\": \"Antibodies, Neutralizing\", \"count\": 588, \"total_count\": 52825, \"proportion\": 0.011131093232371037}, {\"year\": \"2022\", \"level\": 2, \"mesh_terms_label\": \"Proteins\", \"count\": 532, \"total_count\": 52825, \"proportion\": 0.010070989115002366}, {\"year\": \"2022\", \"level\": 2, \"mesh_terms_label\": \"Pandemics\", \"count\": 517, \"total_count\": 52825, \"proportion\": 0.009787032654992901}, {\"year\": \"2022\", \"level\": 2, \"mesh_terms_label\": \"Mice\", \"count\": 508, \"total_count\": 52825, \"proportion\": 0.009616658778987222}, {\"year\": \"2022\", \"level\": 2, \"mesh_terms_label\": \"Vaccination\", \"count\": 457, \"total_count\": 52825, \"proportion\": 0.00865120681495504}, {\"year\": \"2022\", \"level\": 2, \"mesh_terms_label\": \"Mutation\", \"count\": 410, \"total_count\": 52825, \"proportion\": 0.0077614765735920495}, {\"year\": \"2022\", \"level\": 2, \"mesh_terms_label\": \"Female\", \"count\": 304, \"total_count\": 52825, \"proportion\": 0.005754850922858495}, {\"year\": \"2022\", \"level\": 2, \"mesh_terms_label\": \"Protein Binding\", \"count\": 303, \"total_count\": 52825, \"proportion\": 0.005735920492191198}, {\"year\": \"2022\", \"level\": 2, \"mesh_terms_label\": \"Antiviral Agents\", \"count\": 297, \"total_count\": 52825, \"proportion\": 0.005622337908187411}, {\"year\": \"2022\", \"level\": 2, \"mesh_terms_label\": \"Male\", \"count\": 258, \"total_count\": 52825, \"proportion\": 0.004884051112162802}, {\"year\": \"2022\", \"level\": 2, \"mesh_terms_label\": \"BNT162 Vaccine\", \"count\": 247, \"total_count\": 52825, \"proportion\": 0.004675816374822527}, {\"year\": \"2022\", \"level\": 2, \"mesh_terms_label\": \"Adult\", \"count\": 241, \"total_count\": 52825, \"proportion\": 0.004562233790818741}, {\"year\": \"2022\", \"level\": 2, \"mesh_terms_label\": \"Antibodies, Monoclonal\", \"count\": 232, \"total_count\": 52825, \"proportion\": 0.004391859914813062}, {\"year\": \"2022\", \"level\": 2, \"mesh_terms_label\": \"Ligands\", \"count\": 230, \"total_count\": 52825, \"proportion\": 0.004353999053478466}, {\"year\": \"2022\", \"level\": 2, \"mesh_terms_label\": \"Angiotensin-Converting Enzyme 2\", \"count\": 224, \"total_count\": 52825, \"proportion\": 0.004240416469474681}, {\"year\": \"2022\", \"level\": 2, \"mesh_terms_label\": \"Phylogeny\", \"count\": 220, \"total_count\": 52825, \"proportion\": 0.00416469474680549}, {\"year\": \"2022\", \"level\": 2, \"mesh_terms_label\": \"Peptides\", \"count\": 217, \"total_count\": 52825, \"proportion\": 0.004107903454803597}, {\"year\": \"2022\", \"level\": 2, \"mesh_terms_label\": \"Protein Conformation\", \"count\": 214, \"total_count\": 52825, \"proportion\": 0.0040511121628017035}, {\"year\": \"2022\", \"level\": 2, \"mesh_terms_label\": \"Molecular Dynamics Simulation\", \"count\": 213, \"total_count\": 52825, \"proportion\": 0.004032181732134406}, {\"year\": \"2022\", \"level\": 2, \"mesh_terms_label\": \"Cryoelectron Microscopy\", \"count\": 211, \"total_count\": 52825, \"proportion\": 0.003994320870799811}, {\"year\": \"2022\", \"level\": 2, \"mesh_terms_label\": \"Molecular Docking Simulation\", \"count\": 211, \"total_count\": 52825, \"proportion\": 0.003994320870799811}, {\"year\": \"2022\", \"level\": 2, \"mesh_terms_label\": \"RNA, Messenger\", \"count\": 211, \"total_count\": 52825, \"proportion\": 0.003994320870799811}, {\"year\": \"2022\", \"level\": 2, \"mesh_terms_label\": \"Computational Biology\", \"count\": 199, \"total_count\": 52825, \"proportion\": 0.0037671557027922384}, {\"year\": \"2022\", \"level\": 2, \"mesh_terms_label\": \"Viral Vaccines\", \"count\": 195, \"total_count\": 52825, \"proportion\": 0.003691433980123048}, {\"year\": \"2022\", \"level\": 2, \"mesh_terms_label\": \"DNA\", \"count\": 172, \"total_count\": 52825, \"proportion\": 0.0032560340747752013}, {\"year\": \"2022\", \"level\": 2, \"mesh_terms_label\": \"Bacterial Proteins\", \"count\": 171, \"total_count\": 52825, \"proportion\": 0.0032371036441079036}, {\"year\": \"2022\", \"level\": 2, \"mesh_terms_label\": \"Child\", \"count\": 170, \"total_count\": 52825, \"proportion\": 0.003218173213440606}, {\"year\": \"2022\", \"level\": 2, \"mesh_terms_label\": \"RNA\", \"count\": 165, \"total_count\": 52825, \"proportion\": 0.003123521060104117}, {\"year\": \"2022\", \"level\": 2, \"mesh_terms_label\": \"Mammals\", \"count\": 161, \"total_count\": 52825, \"proportion\": 0.0030477993374349267}, {\"year\": \"2022\", \"level\": 2, \"mesh_terms_label\": \"Retrospective Studies\", \"count\": 160, \"total_count\": 52825, \"proportion\": 0.003028868906767629}, {\"year\": \"2022\", \"level\": 2, \"mesh_terms_label\": \"Amino Acids\", \"count\": 159, \"total_count\": 52825, \"proportion\": 0.0030099384761003312}, {\"year\": \"2022\", \"level\": 2, \"mesh_terms_label\": \"Machine Learning\", \"count\": 159, \"total_count\": 52825, \"proportion\": 0.0030099384761003312}, {\"year\": \"2022\", \"level\": 2, \"mesh_terms_label\": \"Bacteria\", \"count\": 158, \"total_count\": 52825, \"proportion\": 0.0029910080454330335}, {\"year\": \"2022\", \"level\": 2, \"mesh_terms_label\": \"Immunoglobulin G\", \"count\": 158, \"total_count\": 52825, \"proportion\": 0.0029910080454330335}, {\"year\": \"2022\", \"level\": 2, \"mesh_terms_label\": \"Signal Transduction\", \"count\": 158, \"total_count\": 52825, \"proportion\": 0.0029910080454330335}, {\"year\": \"2022\", \"level\": 2, \"mesh_terms_label\": \"Vaccines\", \"count\": 157, \"total_count\": 52825, \"proportion\": 0.0029720776147657358}, {\"year\": \"2022\", \"level\": 2, \"mesh_terms_label\": \"Algorithms\", \"count\": 152, \"total_count\": 52825, \"proportion\": 0.0028774254614292475}, {\"year\": \"2022\", \"level\": 2, \"mesh_terms_label\": \"Membrane Proteins\", \"count\": 152, \"total_count\": 52825, \"proportion\": 0.0028774254614292475}, {\"year\": \"2022\", \"level\": 2, \"mesh_terms_label\": \"Amino Acid Sequence\", \"count\": 150, \"total_count\": 52825, \"proportion\": 0.002839564600094652}, {\"year\": \"2022\", \"level\": 2, \"mesh_terms_label\": \"mRNA Vaccines\", \"count\": 148, \"total_count\": 52825, \"proportion\": 0.0028017037387600566}, {\"year\": \"2022\", \"level\": 2, \"mesh_terms_label\": \"Genomics\", \"count\": 142, \"total_count\": 52825, \"proportion\": 0.0026881211547562706}, {\"year\": \"2022\", \"level\": 2, \"mesh_terms_label\": \"Aged\", \"count\": 135, \"total_count\": 52825, \"proportion\": 0.002555608140085187}, {\"year\": \"2022\", \"level\": 2, \"mesh_terms_label\": \"Software\", \"count\": 131, \"total_count\": 52825, \"proportion\": 0.002479886417415996}, {\"year\": \"2022\", \"level\": 2, \"mesh_terms_label\": \"Transcription Factors\", \"count\": 130, \"total_count\": 52825, \"proportion\": 0.0024609559867486987}, {\"year\": \"2022\", \"level\": 3, \"mesh_terms_label\": \"Humans\", \"count\": 6369, \"total_count\": 53651, \"proportion\": 0.11871167359415481}, {\"year\": \"2022\", \"level\": 3, \"mesh_terms_label\": \"SARS-CoV-2\", \"count\": 4255, \"total_count\": 53651, \"proportion\": 0.07930886656353096}, {\"year\": \"2022\", \"level\": 3, \"mesh_terms_label\": \"COVID-19 Vaccines\", \"count\": 1321, \"total_count\": 53651, \"proportion\": 0.024622094648748392}, {\"year\": \"2022\", \"level\": 3, \"mesh_terms_label\": \"Antibodies, Viral\", \"count\": 1186, \"total_count\": 53651, \"proportion\": 0.022105832137332016}, {\"year\": \"2022\", \"level\": 3, \"mesh_terms_label\": \"Animals\", \"count\": 1147, \"total_count\": 53651, \"proportion\": 0.021378911856256174}, {\"year\": \"2022\", \"level\": 3, \"mesh_terms_label\": \"Pandemics\", \"count\": 927, \"total_count\": 53651, \"proportion\": 0.017278335911725784}, {\"year\": \"2022\", \"level\": 3, \"mesh_terms_label\": \"Spike Glycoprotein, Coronavirus\", \"count\": 904, \"total_count\": 53651, \"proportion\": 0.016849639335706698}, {\"year\": \"2022\", \"level\": 3, \"mesh_terms_label\": \"Vaccination\", \"count\": 814, \"total_count\": 53651, \"proportion\": 0.015172130994762447}, {\"year\": \"2022\", \"level\": 3, \"mesh_terms_label\": \"Antibodies, Neutralizing\", \"count\": 807, \"total_count\": 53651, \"proportion\": 0.015041658123800115}, {\"year\": \"2022\", \"level\": 3, \"mesh_terms_label\": \"Female\", \"count\": 457, \"total_count\": 53651, \"proportion\": 0.008518014575683585}, {\"year\": \"2022\", \"level\": 3, \"mesh_terms_label\": \"Mice\", \"count\": 447, \"total_count\": 53651, \"proportion\": 0.008331624760023113}, {\"year\": \"2022\", \"level\": 3, \"mesh_terms_label\": \"Adult\", \"count\": 442, \"total_count\": 53651, \"proportion\": 0.008238429852192876}, {\"year\": \"2022\", \"level\": 3, \"mesh_terms_label\": \"Antiviral Agents\", \"count\": 420, \"total_count\": 53651, \"proportion\": 0.007828372257739837}, {\"year\": \"2022\", \"level\": 3, \"mesh_terms_label\": \"Mutation\", \"count\": 416, \"total_count\": 53651, \"proportion\": 0.007753816331475648}, {\"year\": \"2022\", \"level\": 3, \"mesh_terms_label\": \"BNT162 Vaccine\", \"count\": 403, \"total_count\": 53651, \"proportion\": 0.007511509571117034}, {\"year\": \"2022\", \"level\": 3, \"mesh_terms_label\": \"Male\", \"count\": 360, \"total_count\": 53651, \"proportion\": 0.006710033363777003}, {\"year\": \"2022\", \"level\": 3, \"mesh_terms_label\": \"Angiotensin-Converting Enzyme 2\", \"count\": 307, \"total_count\": 53651, \"proportion\": 0.0057221673407765}, {\"year\": \"2022\", \"level\": 3, \"mesh_terms_label\": \"RNA, Messenger\", \"count\": 300, \"total_count\": 53651, \"proportion\": 0.00559169446981417}, {\"year\": \"2022\", \"level\": 3, \"mesh_terms_label\": \"Immunoglobulin G\", \"count\": 298, \"total_count\": 53651, \"proportion\": 0.005554416506682075}, {\"year\": \"2022\", \"level\": 3, \"mesh_terms_label\": \"Child\", \"count\": 295, \"total_count\": 53651, \"proportion\": 0.005498499561983933}, {\"year\": \"2022\", \"level\": 3, \"mesh_terms_label\": \"Retrospective Studies\", \"count\": 288, \"total_count\": 53651, \"proportion\": 0.0053680266910216025}, {\"year\": \"2022\", \"level\": 3, \"mesh_terms_label\": \"Viral Vaccines\", \"count\": 283, \"total_count\": 53651, \"proportion\": 0.005274831783191367}, {\"year\": \"2022\", \"level\": 3, \"mesh_terms_label\": \"Vaccines\", \"count\": 259, \"total_count\": 53651, \"proportion\": 0.004827496225606233}, {\"year\": \"2022\", \"level\": 3, \"mesh_terms_label\": \"Antibodies, Monoclonal\", \"count\": 252, \"total_count\": 53651, \"proportion\": 0.004697023354643903}, {\"year\": \"2022\", \"level\": 3, \"mesh_terms_label\": \"Aged\", \"count\": 250, \"total_count\": 53651, \"proportion\": 0.004659745391511808}, {\"year\": \"2022\", \"level\": 3, \"mesh_terms_label\": \"Protein Binding\", \"count\": 238, \"total_count\": 53651, \"proportion\": 0.004436077612719241}, {\"year\": \"2022\", \"level\": 3, \"mesh_terms_label\": \"mRNA Vaccines\", \"count\": 237, \"total_count\": 53651, \"proportion\": 0.004417438631153194}, {\"year\": \"2022\", \"level\": 3, \"mesh_terms_label\": \"Proteins\", \"count\": 228, \"total_count\": 53651, \"proportion\": 0.004249687797058769}, {\"year\": \"2022\", \"level\": 3, \"mesh_terms_label\": \"Prospective Studies\", \"count\": 185, \"total_count\": 53651, \"proportion\": 0.003448211589718738}, {\"year\": \"2022\", \"level\": 3, \"mesh_terms_label\": \"Phylogeny\", \"count\": 177, \"total_count\": 53651, \"proportion\": 0.0032990997371903598}, {\"year\": \"2022\", \"level\": 3, \"mesh_terms_label\": \"RNA, Viral\", \"count\": 175, \"total_count\": 53651, \"proportion\": 0.0032618217740582657}, {\"year\": \"2022\", \"level\": 3, \"mesh_terms_label\": \"Vaccines, Synthetic\", \"count\": 172, \"total_count\": 53651, \"proportion\": 0.003205904829360124}, {\"year\": \"2022\", \"level\": 3, \"mesh_terms_label\": \"Middle Aged\", \"count\": 169, \"total_count\": 53651, \"proportion\": 0.003149987884661982}, {\"year\": \"2022\", \"level\": 3, \"mesh_terms_label\": \"Molecular Dynamics Simulation\", \"count\": 169, \"total_count\": 53651, \"proportion\": 0.003149987884661982}, {\"year\": \"2022\", \"level\": 3, \"mesh_terms_label\": \"Molecular Docking Simulation\", \"count\": 168, \"total_count\": 53651, \"proportion\": 0.003131348903095935}, {\"year\": \"2022\", \"level\": 3, \"mesh_terms_label\": \"Adolescent\", \"count\": 151, \"total_count\": 53651, \"proportion\": 0.002814486216473132}, {\"year\": \"2022\", \"level\": 3, \"mesh_terms_label\": \"COVID-19 Testing\", \"count\": 150, \"total_count\": 53651, \"proportion\": 0.002795847234907085}, {\"year\": \"2022\", \"level\": 3, \"mesh_terms_label\": \"Peptides\", \"count\": 148, \"total_count\": 53651, \"proportion\": 0.0027585692717749903}, {\"year\": \"2022\", \"level\": 3, \"mesh_terms_label\": \"Cross-Sectional Studies\", \"count\": 147, \"total_count\": 53651, \"proportion\": 0.002739930290208943}, {\"year\": \"2022\", \"level\": 3, \"mesh_terms_label\": \"Neutralization Tests\", \"count\": 142, \"total_count\": 53651, \"proportion\": 0.0026467353823787067}, {\"year\": \"2022\", \"level\": 3, \"mesh_terms_label\": \"Genomics\", \"count\": 140, \"total_count\": 53651, \"proportion\": 0.002609457419246612}, {\"year\": \"2022\", \"level\": 3, \"mesh_terms_label\": \"Hospitalization\", \"count\": 136, \"total_count\": 53651, \"proportion\": 0.0025349014929824235}, {\"year\": \"2022\", \"level\": 3, \"mesh_terms_label\": \"Ligands\", \"count\": 133, \"total_count\": 53651, \"proportion\": 0.0024789845482842817}, {\"year\": \"2022\", \"level\": 3, \"mesh_terms_label\": \"RNA\", \"count\": 129, \"total_count\": 53651, \"proportion\": 0.0024044286220200927}, {\"year\": \"2022\", \"level\": 3, \"mesh_terms_label\": \"Cohort Studies\", \"count\": 128, \"total_count\": 53651, \"proportion\": 0.0023857896404540454}, {\"year\": \"2022\", \"level\": 3, \"mesh_terms_label\": \"China\", \"count\": 122, \"total_count\": 53651, \"proportion\": 0.0022739557510577622}, {\"year\": \"2022\", \"level\": 3, \"mesh_terms_label\": \"Peptidyl-Dipeptidase A\", \"count\": 113, \"total_count\": 53651, \"proportion\": 0.0021062049169633373}, {\"year\": \"2022\", \"level\": 3, \"mesh_terms_label\": \"DNA\", \"count\": 111, \"total_count\": 53651, \"proportion\": 0.0020689269538312427}, {\"year\": \"2022\", \"level\": 3, \"mesh_terms_label\": \"Mammals\", \"count\": 111, \"total_count\": 53651, \"proportion\": 0.0020689269538312427}, {\"year\": \"2022\", \"level\": 3, \"mesh_terms_label\": \"Antibody Formation\", \"count\": 108, \"total_count\": 53651, \"proportion\": 0.002013010009133101}, {\"year\": \"2023\", \"level\": 0, \"mesh_terms_label\": \"Humans\", \"count\": 1687, \"total_count\": 27672, \"proportion\": 0.06096415148886961}, {\"year\": \"2023\", \"level\": 0, \"mesh_terms_label\": \"Animals\", \"count\": 874, \"total_count\": 27672, \"proportion\": 0.03158427291124603}, {\"year\": \"2023\", \"level\": 0, \"mesh_terms_label\": \"Proteins\", \"count\": 527, \"total_count\": 27672, \"proportion\": 0.01904452153801677}, {\"year\": \"2023\", \"level\": 0, \"mesh_terms_label\": \"Cryoelectron Microscopy\", \"count\": 296, \"total_count\": 27672, \"proportion\": 0.010696733159872795}, {\"year\": \"2023\", \"level\": 0, \"mesh_terms_label\": \"Mice\", \"count\": 268, \"total_count\": 27672, \"proportion\": 0.009684880023128072}, {\"year\": \"2023\", \"level\": 0, \"mesh_terms_label\": \"Mutation\", \"count\": 247, \"total_count\": 27672, \"proportion\": 0.008925990170569529}, {\"year\": \"2023\", \"level\": 0, \"mesh_terms_label\": \"Bacterial Proteins\", \"count\": 241, \"total_count\": 27672, \"proportion\": 0.008709164498409945}, {\"year\": \"2023\", \"level\": 0, \"mesh_terms_label\": \"Protein Conformation\", \"count\": 221, \"total_count\": 27672, \"proportion\": 0.007986412257878}, {\"year\": \"2023\", \"level\": 0, \"mesh_terms_label\": \"Protein Binding\", \"count\": 201, \"total_count\": 27672, \"proportion\": 0.007263660017346054}, {\"year\": \"2023\", \"level\": 0, \"mesh_terms_label\": \"Molecular Docking Simulation\", \"count\": 196, \"total_count\": 27672, \"proportion\": 0.007082971957213067}, {\"year\": \"2023\", \"level\": 0, \"mesh_terms_label\": \"Ligands\", \"count\": 192, \"total_count\": 27672, \"proportion\": 0.006938421509106678}, {\"year\": \"2023\", \"level\": 0, \"mesh_terms_label\": \"Amino Acid Sequence\", \"count\": 186, \"total_count\": 27672, \"proportion\": 0.0067215958369470944}, {\"year\": \"2023\", \"level\": 0, \"mesh_terms_label\": \"Peptides\", \"count\": 179, \"total_count\": 27672, \"proportion\": 0.006468632552760914}, {\"year\": \"2023\", \"level\": 0, \"mesh_terms_label\": \"Phylogeny\", \"count\": 173, \"total_count\": 27672, \"proportion\": 0.00625180688060133}, {\"year\": \"2023\", \"level\": 0, \"mesh_terms_label\": \"Saccharomyces cerevisiae\", \"count\": 171, \"total_count\": 27672, \"proportion\": 0.0061795316565481356}, {\"year\": \"2023\", \"level\": 0, \"mesh_terms_label\": \"Membrane Proteins\", \"count\": 162, \"total_count\": 27672, \"proportion\": 0.005854293148308759}, {\"year\": \"2023\", \"level\": 0, \"mesh_terms_label\": \"Artificial Intelligence\", \"count\": 158, \"total_count\": 27672, \"proportion\": 0.00570974270020237}, {\"year\": \"2023\", \"level\": 0, \"mesh_terms_label\": \"Molecular Dynamics Simulation\", \"count\": 157, \"total_count\": 27672, \"proportion\": 0.005673605088175773}, {\"year\": \"2023\", \"level\": 0, \"mesh_terms_label\": \"Algorithms\", \"count\": 156, \"total_count\": 27672, \"proportion\": 0.005637467476149176}, {\"year\": \"2023\", \"level\": 0, \"mesh_terms_label\": \"Escherichia coli\", \"count\": 154, \"total_count\": 27672, \"proportion\": 0.005565192252095981}, {\"year\": \"2023\", \"level\": 0, \"mesh_terms_label\": \"Amino Acids\", \"count\": 150, \"total_count\": 27672, \"proportion\": 0.005420641803989592}, {\"year\": \"2023\", \"level\": 0, \"mesh_terms_label\": \"DNA\", \"count\": 146, \"total_count\": 27672, \"proportion\": 0.005276091355883203}, {\"year\": \"2023\", \"level\": 0, \"mesh_terms_label\": \"Bacteria\", \"count\": 145, \"total_count\": 27672, \"proportion\": 0.005239953743856606}, {\"year\": \"2023\", \"level\": 0, \"mesh_terms_label\": \"Machine Learning\", \"count\": 144, \"total_count\": 27672, \"proportion\": 0.005203816131830009}, {\"year\": \"2023\", \"level\": 0, \"mesh_terms_label\": \"Binding Sites\", \"count\": 140, \"total_count\": 27672, \"proportion\": 0.00505926568372362}, {\"year\": \"2023\", \"level\": 0, \"mesh_terms_label\": \"Signal Transduction\", \"count\": 138, \"total_count\": 27672, \"proportion\": 0.004986990459670425}, {\"year\": \"2023\", \"level\": 0, \"mesh_terms_label\": \"Software\", \"count\": 133, \"total_count\": 27672, \"proportion\": 0.004806302399537439}, {\"year\": \"2023\", \"level\": 0, \"mesh_terms_label\": \"Computational Biology\", \"count\": 130, \"total_count\": 27672, \"proportion\": 0.004697889563457647}, {\"year\": \"2023\", \"level\": 0, \"mesh_terms_label\": \"Mammals\", \"count\": 128, \"total_count\": 27672, \"proportion\": 0.004625614339404453}, {\"year\": \"2023\", \"level\": 0, \"mesh_terms_label\": \"Protein Domains\", \"count\": 117, \"total_count\": 27672, \"proportion\": 0.004228100607111882}, {\"year\": \"2023\", \"level\": 0, \"mesh_terms_label\": \"Models, Molecular\", \"count\": 115, \"total_count\": 27672, \"proportion\": 0.004155825383058687}, {\"year\": \"2023\", \"level\": 0, \"mesh_terms_label\": \"RNA\", \"count\": 108, \"total_count\": 27672, \"proportion\": 0.0039028620988725065}, {\"year\": \"2023\", \"level\": 0, \"mesh_terms_label\": \"Saccharomyces cerevisiae Proteins\", \"count\": 108, \"total_count\": 27672, \"proportion\": 0.0039028620988725065}, {\"year\": \"2023\", \"level\": 0, \"mesh_terms_label\": \"Transcription Factors\", \"count\": 108, \"total_count\": 27672, \"proportion\": 0.0039028620988725065}, {\"year\": \"2023\", \"level\": 0, \"mesh_terms_label\": \"Deep Learning\", \"count\": 105, \"total_count\": 27672, \"proportion\": 0.0037944492627927148}, {\"year\": \"2023\", \"level\": 0, \"mesh_terms_label\": \"Drug Discovery\", \"count\": 103, \"total_count\": 27672, \"proportion\": 0.0037221740387395202}, {\"year\": \"2023\", \"level\": 0, \"mesh_terms_label\": \"SARS-CoV-2\", \"count\": 102, \"total_count\": 27672, \"proportion\": 0.003686036426712923}, {\"year\": \"2023\", \"level\": 0, \"mesh_terms_label\": \"Cell Membrane\", \"count\": 99, \"total_count\": 27672, \"proportion\": 0.0035776235906331308}, {\"year\": \"2023\", \"level\": 0, \"mesh_terms_label\": \"Neural Networks, Computer\", \"count\": 97, \"total_count\": 27672, \"proportion\": 0.0035053483665799363}, {\"year\": \"2023\", \"level\": 0, \"mesh_terms_label\": \"Arabidopsis\", \"count\": 94, \"total_count\": 27672, \"proportion\": 0.0033969355305001445}, {\"year\": \"2023\", \"level\": 0, \"mesh_terms_label\": \"Male\", \"count\": 93, \"total_count\": 27672, \"proportion\": 0.0033607979184735472}, {\"year\": \"2023\", \"level\": 0, \"mesh_terms_label\": \"Female\", \"count\": 88, \"total_count\": 27672, \"proportion\": 0.003180109858340561}, {\"year\": \"2023\", \"level\": 0, \"mesh_terms_label\": \"Proteome\", \"count\": 88, \"total_count\": 27672, \"proportion\": 0.003180109858340561}, {\"year\": \"2023\", \"level\": 0, \"mesh_terms_label\": \"Protein Folding\", \"count\": 84, \"total_count\": 27672, \"proportion\": 0.003035559410234172}, {\"year\": \"2023\", \"level\": 0, \"mesh_terms_label\": \"Anti-Bacterial Agents\", \"count\": 83, \"total_count\": 27672, \"proportion\": 0.0029994217982075746}, {\"year\": \"2023\", \"level\": 0, \"mesh_terms_label\": \"Proteomics\", \"count\": 80, \"total_count\": 27672, \"proportion\": 0.0028910089621277824}, {\"year\": \"2023\", \"level\": 0, \"mesh_terms_label\": \"Escherichia coli Proteins\", \"count\": 77, \"total_count\": 27672, \"proportion\": 0.0027825961260479906}, {\"year\": \"2023\", \"level\": 0, \"mesh_terms_label\": \"Bacteriophages\", \"count\": 75, \"total_count\": 27672, \"proportion\": 0.002710320901994796}, {\"year\": \"2023\", \"level\": 0, \"mesh_terms_label\": \"Genomics\", \"count\": 75, \"total_count\": 27672, \"proportion\": 0.002710320901994796}, {\"year\": \"2023\", \"level\": 0, \"mesh_terms_label\": \"Carrier Proteins\", \"count\": 72, \"total_count\": 27672, \"proportion\": 0.0026019080659150044}, {\"year\": \"2023\", \"level\": 1, \"mesh_terms_label\": \"Humans\", \"count\": 7565, \"total_count\": 100075, \"proportion\": 0.07559330502123407}, {\"year\": \"2023\", \"level\": 1, \"mesh_terms_label\": \"Animals\", \"count\": 3456, \"total_count\": 100075, \"proportion\": 0.034534099425430925}, {\"year\": \"2023\", \"level\": 1, \"mesh_terms_label\": \"Mice\", \"count\": 1208, \"total_count\": 100075, \"proportion\": 0.012070946789907569}, {\"year\": \"2023\", \"level\": 1, \"mesh_terms_label\": \"Proteins\", \"count\": 1034, \"total_count\": 100075, \"proportion\": 0.010332250811891082}, {\"year\": \"2023\", \"level\": 1, \"mesh_terms_label\": \"SARS-CoV-2\", \"count\": 887, \"total_count\": 100075, \"proportion\": 0.008863352485635773}, {\"year\": \"2023\", \"level\": 1, \"mesh_terms_label\": \"Mutation\", \"count\": 728, \"total_count\": 100075, \"proportion\": 0.007274544091931051}, {\"year\": \"2023\", \"level\": 1, \"mesh_terms_label\": \"Signal Transduction\", \"count\": 626, \"total_count\": 100075, \"proportion\": 0.0062553085186110415}, {\"year\": \"2023\", \"level\": 1, \"mesh_terms_label\": \"Bacteria\", \"count\": 560, \"total_count\": 100075, \"proportion\": 0.0055958031476392705}, {\"year\": \"2023\", \"level\": 1, \"mesh_terms_label\": \"Peptides\", \"count\": 552, \"total_count\": 100075, \"proportion\": 0.005515863102672995}, {\"year\": \"2023\", \"level\": 1, \"mesh_terms_label\": \"Bacterial Proteins\", \"count\": 546, \"total_count\": 100075, \"proportion\": 0.005455908068948289}, {\"year\": \"2023\", \"level\": 1, \"mesh_terms_label\": \"Molecular Docking Simulation\", \"count\": 540, \"total_count\": 100075, \"proportion\": 0.005395953035223582}, {\"year\": \"2023\", \"level\": 1, \"mesh_terms_label\": \"Phylogeny\", \"count\": 529, \"total_count\": 100075, \"proportion\": 0.005286035473394954}, {\"year\": \"2023\", \"level\": 1, \"mesh_terms_label\": \"Female\", \"count\": 525, \"total_count\": 100075, \"proportion\": 0.005246065450911816}, {\"year\": \"2023\", \"level\": 1, \"mesh_terms_label\": \"Mammals\", \"count\": 518, \"total_count\": 100075, \"proportion\": 0.005176117911566325}, {\"year\": \"2023\", \"level\": 1, \"mesh_terms_label\": \"Ligands\", \"count\": 498, \"total_count\": 100075, \"proportion\": 0.004976267799150637}, {\"year\": \"2023\", \"level\": 1, \"mesh_terms_label\": \"DNA\", \"count\": 492, \"total_count\": 100075, \"proportion\": 0.004916312765425931}, {\"year\": \"2023\", \"level\": 1, \"mesh_terms_label\": \"Cryoelectron Microscopy\", \"count\": 465, \"total_count\": 100075, \"proportion\": 0.004646515113664752}, {\"year\": \"2023\", \"level\": 1, \"mesh_terms_label\": \"Protein Binding\", \"count\": 425, \"total_count\": 100075, \"proportion\": 0.004246814888833375}, {\"year\": \"2023\", \"level\": 1, \"mesh_terms_label\": \"Artificial Intelligence\", \"count\": 424, \"total_count\": 100075, \"proportion\": 0.0042368223832125905}, {\"year\": \"2023\", \"level\": 1, \"mesh_terms_label\": \"Molecular Dynamics Simulation\", \"count\": 419, \"total_count\": 100075, \"proportion\": 0.004186859855108668}, {\"year\": \"2023\", \"level\": 1, \"mesh_terms_label\": \"Membrane Proteins\", \"count\": 418, \"total_count\": 100075, \"proportion\": 0.004176867349487884}, {\"year\": \"2023\", \"level\": 1, \"mesh_terms_label\": \"Escherichia coli\", \"count\": 410, \"total_count\": 100075, \"proportion\": 0.004096927304521609}, {\"year\": \"2023\", \"level\": 1, \"mesh_terms_label\": \"Machine Learning\", \"count\": 402, \"total_count\": 100075, \"proportion\": 0.0040169872595553335}, {\"year\": \"2023\", \"level\": 1, \"mesh_terms_label\": \"Transcription Factors\", \"count\": 400, \"total_count\": 100075, \"proportion\": 0.003997002248313765}, {\"year\": \"2023\", \"level\": 1, \"mesh_terms_label\": \"RNA\", \"count\": 386, \"total_count\": 100075, \"proportion\": 0.003857107169622783}, {\"year\": \"2023\", \"level\": 1, \"mesh_terms_label\": \"Male\", \"count\": 383, \"total_count\": 100075, \"proportion\": 0.0038271296527604298}, {\"year\": \"2023\", \"level\": 1, \"mesh_terms_label\": \"Algorithms\", \"count\": 378, \"total_count\": 100075, \"proportion\": 0.0037771671246565074}, {\"year\": \"2023\", \"level\": 1, \"mesh_terms_label\": \"Saccharomyces cerevisiae\", \"count\": 369, \"total_count\": 100075, \"proportion\": 0.003687234574069448}, {\"year\": \"2023\", \"level\": 1, \"mesh_terms_label\": \"Anti-Bacterial Agents\", \"count\": 364, \"total_count\": 100075, \"proportion\": 0.0036372720459655256}, {\"year\": \"2023\", \"level\": 1, \"mesh_terms_label\": \"Genomics\", \"count\": 336, \"total_count\": 100075, \"proportion\": 0.0033574818885835625}, {\"year\": \"2023\", \"level\": 1, \"mesh_terms_label\": \"Protein Conformation\", \"count\": 330, \"total_count\": 100075, \"proportion\": 0.003297526854858856}, {\"year\": \"2023\", \"level\": 1, \"mesh_terms_label\": \"Proteomics\", \"count\": 328, \"total_count\": 100075, \"proportion\": 0.003277541843617287}, {\"year\": \"2023\", \"level\": 1, \"mesh_terms_label\": \"Amino Acids\", \"count\": 324, \"total_count\": 100075, \"proportion\": 0.0032375718211341492}, {\"year\": \"2023\", \"level\": 1, \"mesh_terms_label\": \"Amino Acid Sequence\", \"count\": 316, \"total_count\": 100075, \"proportion\": 0.003157631776167874}, {\"year\": \"2023\", \"level\": 1, \"mesh_terms_label\": \"Computational Biology\", \"count\": 307, \"total_count\": 100075, \"proportion\": 0.0030676992255808146}, {\"year\": \"2023\", \"level\": 1, \"mesh_terms_label\": \"Arabidopsis\", \"count\": 299, \"total_count\": 100075, \"proportion\": 0.002987759180614539}, {\"year\": \"2023\", \"level\": 1, \"mesh_terms_label\": \"Plants\", \"count\": 299, \"total_count\": 100075, \"proportion\": 0.002987759180614539}, {\"year\": \"2023\", \"level\": 1, \"mesh_terms_label\": \"Drug Discovery\", \"count\": 290, \"total_count\": 100075, \"proportion\": 0.0028978266300274795}, {\"year\": \"2023\", \"level\": 1, \"mesh_terms_label\": \"Binding Sites\", \"count\": 277, \"total_count\": 100075, \"proportion\": 0.002767924056957282}, {\"year\": \"2023\", \"level\": 1, \"mesh_terms_label\": \"Bacteriophages\", \"count\": 274, \"total_count\": 100075, \"proportion\": 0.0027379465400949286}, {\"year\": \"2023\", \"level\": 1, \"mesh_terms_label\": \"Software\", \"count\": 272, \"total_count\": 100075, \"proportion\": 0.00271796152885336}, {\"year\": \"2023\", \"level\": 1, \"mesh_terms_label\": \"Cell Membrane\", \"count\": 271, \"total_count\": 100075, \"proportion\": 0.0027079690232325758}, {\"year\": \"2023\", \"level\": 1, \"mesh_terms_label\": \"Mitochondria\", \"count\": 258, \"total_count\": 100075, \"proportion\": 0.0025780664501623782}, {\"year\": \"2023\", \"level\": 1, \"mesh_terms_label\": \"RNA, Messenger\", \"count\": 244, \"total_count\": 100075, \"proportion\": 0.0024381713714713964}, {\"year\": \"2023\", \"level\": 1, \"mesh_terms_label\": \"Phenotype\", \"count\": 243, \"total_count\": 100075, \"proportion\": 0.002428178865850612}, {\"year\": \"2023\", \"level\": 1, \"mesh_terms_label\": \"CRISPR-Cas Systems\", \"count\": 237, \"total_count\": 100075, \"proportion\": 0.0023682238321259055}, {\"year\": \"2023\", \"level\": 1, \"mesh_terms_label\": \"Gene Expression Regulation, Plant\", \"count\": 236, \"total_count\": 100075, \"proportion\": 0.0023582313265051212}, {\"year\": \"2023\", \"level\": 1, \"mesh_terms_label\": \"Neural Networks, Computer\", \"count\": 232, \"total_count\": 100075, \"proportion\": 0.0023182613040219836}, {\"year\": \"2023\", \"level\": 1, \"mesh_terms_label\": \"Antiviral Agents\", \"count\": 229, \"total_count\": 100075, \"proportion\": 0.0022882837871596303}, {\"year\": \"2023\", \"level\": 1, \"mesh_terms_label\": \"Proteome\", \"count\": 227, \"total_count\": 100075, \"proportion\": 0.0022682987759180613}, {\"year\": \"2023\", \"level\": 2, \"mesh_terms_label\": \"Humans\", \"count\": 17486, \"total_count\": 188859, \"proportion\": 0.0925875918012909}, {\"year\": \"2023\", \"level\": 2, \"mesh_terms_label\": \"Animals\", \"count\": 6551, \"total_count\": 188859, \"proportion\": 0.03468725345363472}, {\"year\": \"2023\", \"level\": 2, \"mesh_terms_label\": \"SARS-CoV-2\", \"count\": 3929, \"total_count\": 188859, \"proportion\": 0.020803880143387396}, {\"year\": \"2023\", \"level\": 2, \"mesh_terms_label\": \"Mice\", \"count\": 2520, \"total_count\": 188859, \"proportion\": 0.013343287849665623}, {\"year\": \"2023\", \"level\": 2, \"mesh_terms_label\": \"Female\", \"count\": 1533, \"total_count\": 188859, \"proportion\": 0.008117166775213255}, {\"year\": \"2023\", \"level\": 2, \"mesh_terms_label\": \"Proteins\", \"count\": 1272, \"total_count\": 188859, \"proportion\": 0.0067351833907836}, {\"year\": \"2023\", \"level\": 2, \"mesh_terms_label\": \"Male\", \"count\": 1117, \"total_count\": 188859, \"proportion\": 0.005914465288919247}, {\"year\": \"2023\", \"level\": 2, \"mesh_terms_label\": \"Mutation\", \"count\": 1116, \"total_count\": 188859, \"proportion\": 0.005909170333423348}, {\"year\": \"2023\", \"level\": 2, \"mesh_terms_label\": \"COVID-19 Vaccines\", \"count\": 1043, \"total_count\": 188859, \"proportion\": 0.005522638582222716}, {\"year\": \"2023\", \"level\": 2, \"mesh_terms_label\": \"Signal Transduction\", \"count\": 970, \"total_count\": 188859, \"proportion\": 0.005136106831022085}, {\"year\": \"2023\", \"level\": 2, \"mesh_terms_label\": \"Antibodies, Viral\", \"count\": 961, \"total_count\": 188859, \"proportion\": 0.005088452231558994}, {\"year\": \"2023\", \"level\": 2, \"mesh_terms_label\": \"Phylogeny\", \"count\": 823, \"total_count\": 188859, \"proportion\": 0.004357748373124924}, {\"year\": \"2023\", \"level\": 2, \"mesh_terms_label\": \"Pandemics\", \"count\": 820, \"total_count\": 188859, \"proportion\": 0.004341863506637227}, {\"year\": \"2023\", \"level\": 2, \"mesh_terms_label\": \"Molecular Docking Simulation\", \"count\": 808, \"total_count\": 188859, \"proportion\": 0.004278324040686438}, {\"year\": \"2023\", \"level\": 2, \"mesh_terms_label\": \"Bacteria\", \"count\": 807, \"total_count\": 188859, \"proportion\": 0.004273029085190539}, {\"year\": \"2023\", \"level\": 2, \"mesh_terms_label\": \"Peptides\", \"count\": 800, \"total_count\": 188859, \"proportion\": 0.004235964396719245}, {\"year\": \"2023\", \"level\": 2, \"mesh_terms_label\": \"Mammals\", \"count\": 745, \"total_count\": 188859, \"proportion\": 0.003944741844444798}, {\"year\": \"2023\", \"level\": 2, \"mesh_terms_label\": \"Antibodies, Neutralizing\", \"count\": 734, \"total_count\": 188859, \"proportion\": 0.003886497333989908}, {\"year\": \"2023\", \"level\": 2, \"mesh_terms_label\": \"Adult\", \"count\": 733, \"total_count\": 188859, \"proportion\": 0.003881202378494009}, {\"year\": \"2023\", \"level\": 2, \"mesh_terms_label\": \"DNA\", \"count\": 706, \"total_count\": 188859, \"proportion\": 0.0037382385801047343}, {\"year\": \"2023\", \"level\": 2, \"mesh_terms_label\": \"Anti-Bacterial Agents\", \"count\": 701, \"total_count\": 188859, \"proportion\": 0.003711763802625239}, {\"year\": \"2023\", \"level\": 2, \"mesh_terms_label\": \"Vaccination\", \"count\": 658, \"total_count\": 188859, \"proportion\": 0.0034840807163015793}, {\"year\": \"2023\", \"level\": 2, \"mesh_terms_label\": \"Antiviral Agents\", \"count\": 645, \"total_count\": 188859, \"proportion\": 0.0034152462948548916}, {\"year\": \"2023\", \"level\": 2, \"mesh_terms_label\": \"Ligands\", \"count\": 634, \"total_count\": 188859, \"proportion\": 0.003357001784400002}, {\"year\": \"2023\", \"level\": 2, \"mesh_terms_label\": \"Transcription Factors\", \"count\": 633, \"total_count\": 188859, \"proportion\": 0.003351706828904103}, {\"year\": \"2023\", \"level\": 2, \"mesh_terms_label\": \"RNA\", \"count\": 624, \"total_count\": 188859, \"proportion\": 0.0033040522294410114}, {\"year\": \"2023\", \"level\": 2, \"mesh_terms_label\": \"Artificial Intelligence\", \"count\": 613, \"total_count\": 188859, \"proportion\": 0.003245807718986122}, {\"year\": \"2023\", \"level\": 2, \"mesh_terms_label\": \"Genomics\", \"count\": 602, \"total_count\": 188859, \"proportion\": 0.0031875632085312322}, {\"year\": \"2023\", \"level\": 2, \"mesh_terms_label\": \"Molecular Dynamics Simulation\", \"count\": 591, \"total_count\": 188859, \"proportion\": 0.0031293186980763427}, {\"year\": \"2023\", \"level\": 2, \"mesh_terms_label\": \"RNA, Messenger\", \"count\": 584, \"total_count\": 188859, \"proportion\": 0.0030922540096050494}, {\"year\": \"2023\", \"level\": 2, \"mesh_terms_label\": \"Proteomics\", \"count\": 582, \"total_count\": 188859, \"proportion\": 0.0030816640986132513}, {\"year\": \"2023\", \"level\": 2, \"mesh_terms_label\": \"Protein Binding\", \"count\": 571, \"total_count\": 188859, \"proportion\": 0.0030234195881583617}, {\"year\": \"2023\", \"level\": 2, \"mesh_terms_label\": \"Bacterial Proteins\", \"count\": 554, \"total_count\": 188859, \"proportion\": 0.0029334053447280777}, {\"year\": \"2023\", \"level\": 2, \"mesh_terms_label\": \"Tumor Microenvironment\", \"count\": 547, \"total_count\": 188859, \"proportion\": 0.002896340656256784}, {\"year\": \"2023\", \"level\": 2, \"mesh_terms_label\": \"Algorithms\", \"count\": 544, \"total_count\": 188859, \"proportion\": 0.002880455789769087}, {\"year\": \"2023\", \"level\": 2, \"mesh_terms_label\": \"Escherichia coli\", \"count\": 538, \"total_count\": 188859, \"proportion\": 0.0028486860567936926}, {\"year\": \"2023\", \"level\": 2, \"mesh_terms_label\": \"Child\", \"count\": 528, \"total_count\": 188859, \"proportion\": 0.002795736501834702}, {\"year\": \"2023\", \"level\": 2, \"mesh_terms_label\": \"Retrospective Studies\", \"count\": 523, \"total_count\": 188859, \"proportion\": 0.0027692617243552068}, {\"year\": \"2023\", \"level\": 2, \"mesh_terms_label\": \"Machine Learning\", \"count\": 512, \"total_count\": 188859, \"proportion\": 0.002711017213900317}, {\"year\": \"2023\", \"level\": 2, \"mesh_terms_label\": \"Spike Glycoprotein, Coronavirus\", \"count\": 495, \"total_count\": 188859, \"proportion\": 0.002621002970470033}, {\"year\": \"2023\", \"level\": 2, \"mesh_terms_label\": \"Cell Line, Tumor\", \"count\": 483, \"total_count\": 188859, \"proportion\": 0.0025574635045192444}, {\"year\": \"2023\", \"level\": 2, \"mesh_terms_label\": \"Mitochondria\", \"count\": 475, \"total_count\": 188859, \"proportion\": 0.0025151038605520522}, {\"year\": \"2023\", \"level\": 2, \"mesh_terms_label\": \"Aged\", \"count\": 463, \"total_count\": 188859, \"proportion\": 0.0024515643946012634}, {\"year\": \"2023\", \"level\": 2, \"mesh_terms_label\": \"Cryoelectron Microscopy\", \"count\": 461, \"total_count\": 188859, \"proportion\": 0.0024409744836094652}, {\"year\": \"2023\", \"level\": 2, \"mesh_terms_label\": \"Brain\", \"count\": 458, \"total_count\": 188859, \"proportion\": 0.0024250896171217682}, {\"year\": \"2023\", \"level\": 2, \"mesh_terms_label\": \"Plants\", \"count\": 450, \"total_count\": 188859, \"proportion\": 0.0023827299731545757}, {\"year\": \"2023\", \"level\": 2, \"mesh_terms_label\": \"Saccharomyces cerevisiae\", \"count\": 449, \"total_count\": 188859, \"proportion\": 0.0023774350176586764}, {\"year\": \"2023\", \"level\": 2, \"mesh_terms_label\": \"Membrane Proteins\", \"count\": 445, \"total_count\": 188859, \"proportion\": 0.0023562551956750805}, {\"year\": \"2023\", \"level\": 2, \"mesh_terms_label\": \"Computational Biology\", \"count\": 433, \"total_count\": 188859, \"proportion\": 0.0022927157297242917}, {\"year\": \"2023\", \"level\": 2, \"mesh_terms_label\": \"Apoptosis\", \"count\": 430, \"total_count\": 188859, \"proportion\": 0.0022768308632365947}, {\"year\": \"2023\", \"level\": 3, \"mesh_terms_label\": \"Humans\", \"count\": 23681, \"total_count\": 221866, \"proportion\": 0.10673559716225109}, {\"year\": \"2023\", \"level\": 3, \"mesh_terms_label\": \"Animals\", \"count\": 7043, \"total_count\": 221866, \"proportion\": 0.03174438625116061}, {\"year\": \"2023\", \"level\": 3, \"mesh_terms_label\": \"SARS-CoV-2\", \"count\": 6677, \"total_count\": 221866, \"proportion\": 0.030094741871219566}, {\"year\": \"2023\", \"level\": 3, \"mesh_terms_label\": \"Mice\", \"count\": 2879, \"total_count\": 221866, \"proportion\": 0.012976301010519864}, {\"year\": \"2023\", \"level\": 3, \"mesh_terms_label\": \"Female\", \"count\": 2389, \"total_count\": 221866, \"proportion\": 0.010767760720434857}, {\"year\": \"2023\", \"level\": 3, \"mesh_terms_label\": \"COVID-19 Vaccines\", \"count\": 2058, \"total_count\": 221866, \"proportion\": 0.009275869218357026}, {\"year\": \"2023\", \"level\": 3, \"mesh_terms_label\": \"Pandemics\", \"count\": 1668, \"total_count\": 221866, \"proportion\": 0.007518051436452634}, {\"year\": \"2023\", \"level\": 3, \"mesh_terms_label\": \"Male\", \"count\": 1634, \"total_count\": 221866, \"proportion\": 0.007364805783671225}, {\"year\": \"2023\", \"level\": 3, \"mesh_terms_label\": \"Antibodies, Viral\", \"count\": 1519, \"total_count\": 221866, \"proportion\": 0.0068464748992635195}, {\"year\": \"2023\", \"level\": 3, \"mesh_terms_label\": \"Vaccination\", \"count\": 1441, \"total_count\": 221866, \"proportion\": 0.006494911342882641}, {\"year\": \"2023\", \"level\": 3, \"mesh_terms_label\": \"Adult\", \"count\": 1371, \"total_count\": 221866, \"proportion\": 0.0061794055871562115}, {\"year\": \"2023\", \"level\": 3, \"mesh_terms_label\": \"Antibodies, Neutralizing\", \"count\": 1001, \"total_count\": 221866, \"proportion\": 0.004511732306887941}, {\"year\": \"2023\", \"level\": 3, \"mesh_terms_label\": \"Retrospective Studies\", \"count\": 971, \"total_count\": 221866, \"proportion\": 0.004376515554433758}, {\"year\": \"2023\", \"level\": 3, \"mesh_terms_label\": \"Antiviral Agents\", \"count\": 956, \"total_count\": 221866, \"proportion\": 0.004308907178206665}, {\"year\": \"2023\", \"level\": 3, \"mesh_terms_label\": \"Signal Transduction\", \"count\": 939, \"total_count\": 221866, \"proportion\": 0.004232284351815961}, {\"year\": \"2023\", \"level\": 3, \"mesh_terms_label\": \"Mutation\", \"count\": 935, \"total_count\": 221866, \"proportion\": 0.004214255451488736}, {\"year\": \"2023\", \"level\": 3, \"mesh_terms_label\": \"Child\", \"count\": 898, \"total_count\": 221866, \"proportion\": 0.004047488123461909}, {\"year\": \"2023\", \"level\": 3, \"mesh_terms_label\": \"Proteins\", \"count\": 869, \"total_count\": 221866, \"proportion\": 0.003916778596089531}, {\"year\": \"2023\", \"level\": 3, \"mesh_terms_label\": \"Aged\", \"count\": 841, \"total_count\": 221866, \"proportion\": 0.00379057629379896}, {\"year\": \"2023\", \"level\": 3, \"mesh_terms_label\": \"Tumor Microenvironment\", \"count\": 819, \"total_count\": 221866, \"proportion\": 0.0036914173419992247}, {\"year\": \"2023\", \"level\": 3, \"mesh_terms_label\": \"Molecular Docking Simulation\", \"count\": 812, \"total_count\": 221866, \"proportion\": 0.003659866766426582}, {\"year\": \"2023\", \"level\": 3, \"mesh_terms_label\": \"Anti-Bacterial Agents\", \"count\": 796, \"total_count\": 221866, \"proportion\": 0.0035877511651176835}, {\"year\": \"2023\", \"level\": 3, \"mesh_terms_label\": \"Phylogeny\", \"count\": 752, \"total_count\": 221866, \"proportion\": 0.0033894332615182136}, {\"year\": \"2023\", \"level\": 3, \"mesh_terms_label\": \"Bacteria\", \"count\": 749, \"total_count\": 221866, \"proportion\": 0.003375911586272795}, {\"year\": \"2023\", \"level\": 3, \"mesh_terms_label\": \"DNA\", \"count\": 727, \"total_count\": 221866, \"proportion\": 0.0032767526344730604}, {\"year\": \"2023\", \"level\": 3, \"mesh_terms_label\": \"Peptides\", \"count\": 725, \"total_count\": 221866, \"proportion\": 0.003267738184309448}, {\"year\": \"2023\", \"level\": 3, \"mesh_terms_label\": \"RNA, Messenger\", \"count\": 695, \"total_count\": 221866, \"proportion\": 0.003132521431855264}, {\"year\": \"2023\", \"level\": 3, \"mesh_terms_label\": \"Biomarkers\", \"count\": 663, \"total_count\": 221866, \"proportion\": 0.0029882902292374678}, {\"year\": \"2023\", \"level\": 3, \"mesh_terms_label\": \"Cell Line, Tumor\", \"count\": 660, \"total_count\": 221866, \"proportion\": 0.0029747685539920493}, {\"year\": \"2023\", \"level\": 3, \"mesh_terms_label\": \"Genomics\", \"count\": 654, \"total_count\": 221866, \"proportion\": 0.0029477252035012124}, {\"year\": \"2023\", \"level\": 3, \"mesh_terms_label\": \"Mammals\", \"count\": 654, \"total_count\": 221866, \"proportion\": 0.0029477252035012124}, {\"year\": \"2023\", \"level\": 3, \"mesh_terms_label\": \"Artificial Intelligence\", \"count\": 637, \"total_count\": 221866, \"proportion\": 0.002871102377110508}, {\"year\": \"2023\", \"level\": 3, \"mesh_terms_label\": \"RNA\", \"count\": 632, \"total_count\": 221866, \"proportion\": 0.0028485662517014777}, {\"year\": \"2023\", \"level\": 3, \"mesh_terms_label\": \"MicroRNAs\", \"count\": 626, \"total_count\": 221866, \"proportion\": 0.0028215229012106408}, {\"year\": \"2023\", \"level\": 3, \"mesh_terms_label\": \"Brain\", \"count\": 623, \"total_count\": 221866, \"proportion\": 0.0028080012259652223}, {\"year\": \"2023\", \"level\": 3, \"mesh_terms_label\": \"Spike Glycoprotein, Coronavirus\", \"count\": 616, \"total_count\": 221866, \"proportion\": 0.0027764506503925794}, {\"year\": \"2023\", \"level\": 3, \"mesh_terms_label\": \"Prospective Studies\", \"count\": 605, \"total_count\": 221866, \"proportion\": 0.002726871174492712}, {\"year\": \"2023\", \"level\": 3, \"mesh_terms_label\": \"Proteomics\", \"count\": 554, \"total_count\": 221866, \"proportion\": 0.0024970026953205987}, {\"year\": \"2023\", \"level\": 3, \"mesh_terms_label\": \"Vaccines\", \"count\": 545, \"total_count\": 221866, \"proportion\": 0.002456437669584344}, {\"year\": \"2023\", \"level\": 3, \"mesh_terms_label\": \"Nanoparticles\", \"count\": 535, \"total_count\": 221866, \"proportion\": 0.0024113654187662825}, {\"year\": \"2023\", \"level\": 3, \"mesh_terms_label\": \"Middle Aged\", \"count\": 531, \"total_count\": 221866, \"proportion\": 0.002393336518439058}, {\"year\": \"2023\", \"level\": 3, \"mesh_terms_label\": \"Apoptosis\", \"count\": 530, \"total_count\": 221866, \"proportion\": 0.0023888292933572516}, {\"year\": \"2023\", \"level\": 3, \"mesh_terms_label\": \"Cross-Sectional Studies\", \"count\": 528, \"total_count\": 221866, \"proportion\": 0.0023798148431936395}, {\"year\": \"2023\", \"level\": 3, \"mesh_terms_label\": \"Immunoglobulin G\", \"count\": 528, \"total_count\": 221866, \"proportion\": 0.0023798148431936395}, {\"year\": \"2023\", \"level\": 3, \"mesh_terms_label\": \"Molecular Dynamics Simulation\", \"count\": 525, \"total_count\": 221866, \"proportion\": 0.002366293167948221}, {\"year\": \"2023\", \"level\": 3, \"mesh_terms_label\": \"Transcription Factors\", \"count\": 521, \"total_count\": 221866, \"proportion\": 0.0023482642676209966}, {\"year\": \"2023\", \"level\": 3, \"mesh_terms_label\": \"Rats\", \"count\": 518, \"total_count\": 221866, \"proportion\": 0.002334742592375578}, {\"year\": \"2023\", \"level\": 3, \"mesh_terms_label\": \"Immunotherapy\", \"count\": 510, \"total_count\": 221866, \"proportion\": 0.002298684791721129}, {\"year\": \"2023\", \"level\": 3, \"mesh_terms_label\": \"Ligands\", \"count\": 508, \"total_count\": 221866, \"proportion\": 0.002289670341557517}, {\"year\": \"2023\", \"level\": 3, \"mesh_terms_label\": \"Algorithms\", \"count\": 483, \"total_count\": 221866, \"proportion\": 0.002176989714512363}, {\"year\": \"2024\", \"level\": 0, \"mesh_terms_label\": \"Humans\", \"count\": 89, \"total_count\": 1525, \"proportion\": 0.058360655737704915}, {\"year\": \"2024\", \"level\": 0, \"mesh_terms_label\": \"Animals\", \"count\": 57, \"total_count\": 1525, \"proportion\": 0.037377049180327866}, {\"year\": \"2024\", \"level\": 0, \"mesh_terms_label\": \"Mice\", \"count\": 22, \"total_count\": 1525, \"proportion\": 0.014426229508196721}, {\"year\": \"2024\", \"level\": 0, \"mesh_terms_label\": \"Proteins\", \"count\": 19, \"total_count\": 1525, \"proportion\": 0.012459016393442624}, {\"year\": \"2024\", \"level\": 0, \"mesh_terms_label\": \"Molecular Docking Simulation\", \"count\": 15, \"total_count\": 1525, \"proportion\": 0.009836065573770493}, {\"year\": \"2024\", \"level\": 0, \"mesh_terms_label\": \"Bacterial Proteins\", \"count\": 13, \"total_count\": 1525, \"proportion\": 0.008524590163934427}, {\"year\": \"2024\", \"level\": 0, \"mesh_terms_label\": \"Cryoelectron Microscopy\", \"count\": 12, \"total_count\": 1525, \"proportion\": 0.007868852459016393}, {\"year\": \"2024\", \"level\": 0, \"mesh_terms_label\": \"Mutation\", \"count\": 11, \"total_count\": 1525, \"proportion\": 0.007213114754098361}, {\"year\": \"2024\", \"level\": 0, \"mesh_terms_label\": \"Amino Acid Sequence\", \"count\": 10, \"total_count\": 1525, \"proportion\": 0.006557377049180328}, {\"year\": \"2024\", \"level\": 0, \"mesh_terms_label\": \"Bacteria\", \"count\": 10, \"total_count\": 1525, \"proportion\": 0.006557377049180328}, {\"year\": \"2024\", \"level\": 0, \"mesh_terms_label\": \"Escherichia coli\", \"count\": 10, \"total_count\": 1525, \"proportion\": 0.006557377049180328}, {\"year\": \"2024\", \"level\": 0, \"mesh_terms_label\": \"Membrane Proteins\", \"count\": 10, \"total_count\": 1525, \"proportion\": 0.006557377049180328}, {\"year\": \"2024\", \"level\": 0, \"mesh_terms_label\": \"Molecular Dynamics Simulation\", \"count\": 10, \"total_count\": 1525, \"proportion\": 0.006557377049180328}, {\"year\": \"2024\", \"level\": 0, \"mesh_terms_label\": \"Mammals\", \"count\": 9, \"total_count\": 1525, \"proportion\": 0.005901639344262295}, {\"year\": \"2024\", \"level\": 0, \"mesh_terms_label\": \"Artificial Intelligence\", \"count\": 8, \"total_count\": 1525, \"proportion\": 0.005245901639344262}, {\"year\": \"2024\", \"level\": 0, \"mesh_terms_label\": \"Computational Biology\", \"count\": 8, \"total_count\": 1525, \"proportion\": 0.005245901639344262}, {\"year\": \"2024\", \"level\": 0, \"mesh_terms_label\": \"Peptides\", \"count\": 8, \"total_count\": 1525, \"proportion\": 0.005245901639344262}, {\"year\": \"2024\", \"level\": 0, \"mesh_terms_label\": \"Signal Transduction\", \"count\": 8, \"total_count\": 1525, \"proportion\": 0.005245901639344262}, {\"year\": \"2024\", \"level\": 0, \"mesh_terms_label\": \"Arabidopsis\", \"count\": 7, \"total_count\": 1525, \"proportion\": 0.0045901639344262295}, {\"year\": \"2024\", \"level\": 0, \"mesh_terms_label\": \"Phosphorylation\", \"count\": 7, \"total_count\": 1525, \"proportion\": 0.0045901639344262295}, {\"year\": \"2024\", \"level\": 0, \"mesh_terms_label\": \"RNA\", \"count\": 7, \"total_count\": 1525, \"proportion\": 0.0045901639344262295}, {\"year\": \"2024\", \"level\": 0, \"mesh_terms_label\": \"Arabidopsis Proteins\", \"count\": 6, \"total_count\": 1525, \"proportion\": 0.003934426229508197}, {\"year\": \"2024\", \"level\": 0, \"mesh_terms_label\": \"Bacteriophages\", \"count\": 6, \"total_count\": 1525, \"proportion\": 0.003934426229508197}, {\"year\": \"2024\", \"level\": 0, \"mesh_terms_label\": \"Binding Sites\", \"count\": 6, \"total_count\": 1525, \"proportion\": 0.003934426229508197}, {\"year\": \"2024\", \"level\": 0, \"mesh_terms_label\": \"Female\", \"count\": 6, \"total_count\": 1525, \"proportion\": 0.003934426229508197}, {\"year\": \"2024\", \"level\": 0, \"mesh_terms_label\": \"Machine Learning\", \"count\": 6, \"total_count\": 1525, \"proportion\": 0.003934426229508197}, {\"year\": \"2024\", \"level\": 0, \"mesh_terms_label\": \"Male\", \"count\": 6, \"total_count\": 1525, \"proportion\": 0.003934426229508197}, {\"year\": \"2024\", \"level\": 0, \"mesh_terms_label\": \"Nucleotides\", \"count\": 6, \"total_count\": 1525, \"proportion\": 0.003934426229508197}, {\"year\": \"2024\", \"level\": 0, \"mesh_terms_label\": \"Protein Binding\", \"count\": 6, \"total_count\": 1525, \"proportion\": 0.003934426229508197}, {\"year\": \"2024\", \"level\": 0, \"mesh_terms_label\": \"Saccharomyces cerevisiae\", \"count\": 6, \"total_count\": 1525, \"proportion\": 0.003934426229508197}, {\"year\": \"2024\", \"level\": 0, \"mesh_terms_label\": \"Adenosine Triphosphatases\", \"count\": 5, \"total_count\": 1525, \"proportion\": 0.003278688524590164}, {\"year\": \"2024\", \"level\": 0, \"mesh_terms_label\": \"Amino Acids\", \"count\": 5, \"total_count\": 1525, \"proportion\": 0.003278688524590164}, {\"year\": \"2024\", \"level\": 0, \"mesh_terms_label\": \"CRISPR-Cas Systems\", \"count\": 5, \"total_count\": 1525, \"proportion\": 0.003278688524590164}, {\"year\": \"2024\", \"level\": 0, \"mesh_terms_label\": \"Cell Membrane\", \"count\": 5, \"total_count\": 1525, \"proportion\": 0.003278688524590164}, {\"year\": \"2024\", \"level\": 0, \"mesh_terms_label\": \"Computer Simulation\", \"count\": 5, \"total_count\": 1525, \"proportion\": 0.003278688524590164}, {\"year\": \"2024\", \"level\": 0, \"mesh_terms_label\": \"Drosophila\", \"count\": 5, \"total_count\": 1525, \"proportion\": 0.003278688524590164}, {\"year\": \"2024\", \"level\": 0, \"mesh_terms_label\": \"Ligands\", \"count\": 5, \"total_count\": 1525, \"proportion\": 0.003278688524590164}, {\"year\": \"2024\", \"level\": 0, \"mesh_terms_label\": \"Membrane Transport Proteins\", \"count\": 5, \"total_count\": 1525, \"proportion\": 0.003278688524590164}, {\"year\": \"2024\", \"level\": 0, \"mesh_terms_label\": \"Mitochondria\", \"count\": 5, \"total_count\": 1525, \"proportion\": 0.003278688524590164}, {\"year\": \"2024\", \"level\": 0, \"mesh_terms_label\": \"Rats\", \"count\": 5, \"total_count\": 1525, \"proportion\": 0.003278688524590164}, {\"year\": \"2024\", \"level\": 0, \"mesh_terms_label\": \"Receptors, G-Protein-Coupled\", \"count\": 5, \"total_count\": 1525, \"proportion\": 0.003278688524590164}, {\"year\": \"2024\", \"level\": 0, \"mesh_terms_label\": \"Viral Proteins\", \"count\": 5, \"total_count\": 1525, \"proportion\": 0.003278688524590164}, {\"year\": \"2024\", \"level\": 0, \"mesh_terms_label\": \"Virulence\", \"count\": 5, \"total_count\": 1525, \"proportion\": 0.003278688524590164}, {\"year\": \"2024\", \"level\": 0, \"mesh_terms_label\": \"Adenosine Triphosphate\", \"count\": 4, \"total_count\": 1525, \"proportion\": 0.002622950819672131}, {\"year\": \"2024\", \"level\": 0, \"mesh_terms_label\": \"Algorithms\", \"count\": 4, \"total_count\": 1525, \"proportion\": 0.002622950819672131}, {\"year\": \"2024\", \"level\": 0, \"mesh_terms_label\": \"Anti-Bacterial Agents\", \"count\": 4, \"total_count\": 1525, \"proportion\": 0.002622950819672131}, {\"year\": \"2024\", \"level\": 0, \"mesh_terms_label\": \"Biological Evolution\", \"count\": 4, \"total_count\": 1525, \"proportion\": 0.002622950819672131}, {\"year\": \"2024\", \"level\": 0, \"mesh_terms_label\": \"Cell Cycle Proteins\", \"count\": 4, \"total_count\": 1525, \"proportion\": 0.002622950819672131}, {\"year\": \"2024\", \"level\": 0, \"mesh_terms_label\": \"Cytoskeleton\", \"count\": 4, \"total_count\": 1525, \"proportion\": 0.002622950819672131}, {\"year\": \"2024\", \"level\": 0, \"mesh_terms_label\": \"DNA\", \"count\": 4, \"total_count\": 1525, \"proportion\": 0.002622950819672131}, {\"year\": \"2024\", \"level\": 1, \"mesh_terms_label\": \"Humans\", \"count\": 580, \"total_count\": 7338, \"proportion\": 0.07904061052057781}, {\"year\": \"2024\", \"level\": 1, \"mesh_terms_label\": \"Animals\", \"count\": 314, \"total_count\": 7338, \"proportion\": 0.04279095121286454}, {\"year\": \"2024\", \"level\": 1, \"mesh_terms_label\": \"Mice\", \"count\": 110, \"total_count\": 7338, \"proportion\": 0.014990460615971654}, {\"year\": \"2024\", \"level\": 1, \"mesh_terms_label\": \"Female\", \"count\": 54, \"total_count\": 7338, \"proportion\": 0.007358953393295176}, {\"year\": \"2024\", \"level\": 1, \"mesh_terms_label\": \"Molecular Docking Simulation\", \"count\": 48, \"total_count\": 7338, \"proportion\": 0.006541291905151268}, {\"year\": \"2024\", \"level\": 1, \"mesh_terms_label\": \"Mammals\", \"count\": 45, \"total_count\": 7338, \"proportion\": 0.006132461161079314}, {\"year\": \"2024\", \"level\": 1, \"mesh_terms_label\": \"Bacteria\", \"count\": 42, \"total_count\": 7338, \"proportion\": 0.005723630417007359}, {\"year\": \"2024\", \"level\": 1, \"mesh_terms_label\": \"SARS-CoV-2\", \"count\": 42, \"total_count\": 7338, \"proportion\": 0.005723630417007359}, {\"year\": \"2024\", \"level\": 1, \"mesh_terms_label\": \"Signal Transduction\", \"count\": 42, \"total_count\": 7338, \"proportion\": 0.005723630417007359}, {\"year\": \"2024\", \"level\": 1, \"mesh_terms_label\": \"Proteins\", \"count\": 41, \"total_count\": 7338, \"proportion\": 0.005587353502316708}, {\"year\": \"2024\", \"level\": 1, \"mesh_terms_label\": \"Machine Learning\", \"count\": 39, \"total_count\": 7338, \"proportion\": 0.005314799672935405}, {\"year\": \"2024\", \"level\": 1, \"mesh_terms_label\": \"Mutation\", \"count\": 36, \"total_count\": 7338, \"proportion\": 0.004905968928863451}, {\"year\": \"2024\", \"level\": 1, \"mesh_terms_label\": \"Male\", \"count\": 35, \"total_count\": 7338, \"proportion\": 0.004769692014172799}, {\"year\": \"2024\", \"level\": 1, \"mesh_terms_label\": \"Phylogeny\", \"count\": 34, \"total_count\": 7338, \"proportion\": 0.0046334150994821474}, {\"year\": \"2024\", \"level\": 1, \"mesh_terms_label\": \"Escherichia coli\", \"count\": 33, \"total_count\": 7338, \"proportion\": 0.004497138184791497}, {\"year\": \"2024\", \"level\": 1, \"mesh_terms_label\": \"Apoptosis\", \"count\": 32, \"total_count\": 7338, \"proportion\": 0.004360861270100845}, {\"year\": \"2024\", \"level\": 1, \"mesh_terms_label\": \"Peptides\", \"count\": 30, \"total_count\": 7338, \"proportion\": 0.004088307440719542}, {\"year\": \"2024\", \"level\": 1, \"mesh_terms_label\": \"Proteomics\", \"count\": 30, \"total_count\": 7338, \"proportion\": 0.004088307440719542}, {\"year\": \"2024\", \"level\": 1, \"mesh_terms_label\": \"Molecular Dynamics Simulation\", \"count\": 29, \"total_count\": 7338, \"proportion\": 0.003952030526028891}, {\"year\": \"2024\", \"level\": 1, \"mesh_terms_label\": \"Anti-Bacterial Agents\", \"count\": 28, \"total_count\": 7338, \"proportion\": 0.0038157536113382394}, {\"year\": \"2024\", \"level\": 1, \"mesh_terms_label\": \"Membrane Proteins\", \"count\": 27, \"total_count\": 7338, \"proportion\": 0.003679476696647588}, {\"year\": \"2024\", \"level\": 1, \"mesh_terms_label\": \"Mitochondria\", \"count\": 27, \"total_count\": 7338, \"proportion\": 0.003679476696647588}, {\"year\": \"2024\", \"level\": 1, \"mesh_terms_label\": \"Rats\", \"count\": 26, \"total_count\": 7338, \"proportion\": 0.0035431997819569366}, {\"year\": \"2024\", \"level\": 1, \"mesh_terms_label\": \"Saccharomyces cerevisiae\", \"count\": 26, \"total_count\": 7338, \"proportion\": 0.0035431997819569366}, {\"year\": \"2024\", \"level\": 1, \"mesh_terms_label\": \"DNA\", \"count\": 25, \"total_count\": 7338, \"proportion\": 0.003406922867266285}, {\"year\": \"2024\", \"level\": 1, \"mesh_terms_label\": \"Ecosystem\", \"count\": 24, \"total_count\": 7338, \"proportion\": 0.003270645952575634}, {\"year\": \"2024\", \"level\": 1, \"mesh_terms_label\": \"Artificial Intelligence\", \"count\": 23, \"total_count\": 7338, \"proportion\": 0.003134369037884982}, {\"year\": \"2024\", \"level\": 1, \"mesh_terms_label\": \"Cell Line, Tumor\", \"count\": 23, \"total_count\": 7338, \"proportion\": 0.003134369037884982}, {\"year\": \"2024\", \"level\": 1, \"mesh_terms_label\": \"RNA\", \"count\": 23, \"total_count\": 7338, \"proportion\": 0.003134369037884982}, {\"year\": \"2024\", \"level\": 1, \"mesh_terms_label\": \"Bacteriophages\", \"count\": 22, \"total_count\": 7338, \"proportion\": 0.002998092123194331}, {\"year\": \"2024\", \"level\": 1, \"mesh_terms_label\": \"Computational Biology\", \"count\": 22, \"total_count\": 7338, \"proportion\": 0.002998092123194331}, {\"year\": \"2024\", \"level\": 1, \"mesh_terms_label\": \"Cryoelectron Microscopy\", \"count\": 22, \"total_count\": 7338, \"proportion\": 0.002998092123194331}, {\"year\": \"2024\", \"level\": 1, \"mesh_terms_label\": \"Antiviral Agents\", \"count\": 21, \"total_count\": 7338, \"proportion\": 0.0028618152085036794}, {\"year\": \"2024\", \"level\": 1, \"mesh_terms_label\": \"Bacterial Proteins\", \"count\": 21, \"total_count\": 7338, \"proportion\": 0.0028618152085036794}, {\"year\": \"2024\", \"level\": 1, \"mesh_terms_label\": \"Cell Proliferation\", \"count\": 21, \"total_count\": 7338, \"proportion\": 0.0028618152085036794}, {\"year\": \"2024\", \"level\": 1, \"mesh_terms_label\": \"Drug Discovery\", \"count\": 21, \"total_count\": 7338, \"proportion\": 0.0028618152085036794}, {\"year\": \"2024\", \"level\": 1, \"mesh_terms_label\": \"Transcription Factors\", \"count\": 21, \"total_count\": 7338, \"proportion\": 0.0028618152085036794}, {\"year\": \"2024\", \"level\": 1, \"mesh_terms_label\": \"Arabidopsis\", \"count\": 20, \"total_count\": 7338, \"proportion\": 0.002725538293813028}, {\"year\": \"2024\", \"level\": 1, \"mesh_terms_label\": \"Algorithms\", \"count\": 19, \"total_count\": 7338, \"proportion\": 0.0025892613791223765}, {\"year\": \"2024\", \"level\": 1, \"mesh_terms_label\": \"Oxidative Stress\", \"count\": 19, \"total_count\": 7338, \"proportion\": 0.0025892613791223765}, {\"year\": \"2024\", \"level\": 1, \"mesh_terms_label\": \"RNA, Messenger\", \"count\": 19, \"total_count\": 7338, \"proportion\": 0.0025892613791223765}, {\"year\": \"2024\", \"level\": 1, \"mesh_terms_label\": \"Biomarkers\", \"count\": 18, \"total_count\": 7338, \"proportion\": 0.0024529844644317253}, {\"year\": \"2024\", \"level\": 1, \"mesh_terms_label\": \"Polysaccharides\", \"count\": 17, \"total_count\": 7338, \"proportion\": 0.0023167075497410737}, {\"year\": \"2024\", \"level\": 1, \"mesh_terms_label\": \"Amino Acids\", \"count\": 16, \"total_count\": 7338, \"proportion\": 0.0021804306350504225}, {\"year\": \"2024\", \"level\": 1, \"mesh_terms_label\": \"Brain\", \"count\": 16, \"total_count\": 7338, \"proportion\": 0.0021804306350504225}, {\"year\": \"2024\", \"level\": 1, \"mesh_terms_label\": \"Calcium\", \"count\": 16, \"total_count\": 7338, \"proportion\": 0.0021804306350504225}, {\"year\": \"2024\", \"level\": 1, \"mesh_terms_label\": \"Cell Membrane\", \"count\": 16, \"total_count\": 7338, \"proportion\": 0.0021804306350504225}, {\"year\": \"2024\", \"level\": 1, \"mesh_terms_label\": \"Nanoparticles\", \"count\": 16, \"total_count\": 7338, \"proportion\": 0.0021804306350504225}, {\"year\": \"2024\", \"level\": 1, \"mesh_terms_label\": \"Antineoplastic Agents\", \"count\": 15, \"total_count\": 7338, \"proportion\": 0.002044153720359771}, {\"year\": \"2024\", \"level\": 1, \"mesh_terms_label\": \"Biological Transport\", \"count\": 15, \"total_count\": 7338, \"proportion\": 0.002044153720359771}, {\"year\": \"2024\", \"level\": 2, \"mesh_terms_label\": \"Humans\", \"count\": 1604, \"total_count\": 18147, \"proportion\": 0.08838926544332397}, {\"year\": \"2024\", \"level\": 2, \"mesh_terms_label\": \"Animals\", \"count\": 746, \"total_count\": 18147, \"proportion\": 0.041108723204937456}, {\"year\": \"2024\", \"level\": 2, \"mesh_terms_label\": \"Mice\", \"count\": 290, \"total_count\": 18147, \"proportion\": 0.015980602854466303}, {\"year\": \"2024\", \"level\": 2, \"mesh_terms_label\": \"SARS-CoV-2\", \"count\": 211, \"total_count\": 18147, \"proportion\": 0.011627266214801344}, {\"year\": \"2024\", \"level\": 2, \"mesh_terms_label\": \"Female\", \"count\": 173, \"total_count\": 18147, \"proportion\": 0.009533256185595414}, {\"year\": \"2024\", \"level\": 2, \"mesh_terms_label\": \"Male\", \"count\": 104, \"total_count\": 18147, \"proportion\": 0.005730974816774122}, {\"year\": \"2024\", \"level\": 2, \"mesh_terms_label\": \"Anti-Bacterial Agents\", \"count\": 103, \"total_count\": 18147, \"proportion\": 0.005675869289689756}, {\"year\": \"2024\", \"level\": 2, \"mesh_terms_label\": \"Signal Transduction\", \"count\": 100, \"total_count\": 18147, \"proportion\": 0.005510552708436656}, {\"year\": \"2024\", \"level\": 2, \"mesh_terms_label\": \"Molecular Docking Simulation\", \"count\": 91, \"total_count\": 18147, \"proportion\": 0.005014602964677357}, {\"year\": \"2024\", \"level\": 2, \"mesh_terms_label\": \"Mammals\", \"count\": 78, \"total_count\": 18147, \"proportion\": 0.004298231112580592}, {\"year\": \"2024\", \"level\": 2, \"mesh_terms_label\": \"Apoptosis\", \"count\": 75, \"total_count\": 18147, \"proportion\": 0.004132914531327492}, {\"year\": \"2024\", \"level\": 2, \"mesh_terms_label\": \"Bacteria\", \"count\": 75, \"total_count\": 18147, \"proportion\": 0.004132914531327492}, {\"year\": \"2024\", \"level\": 2, \"mesh_terms_label\": \"Mutation\", \"count\": 74, \"total_count\": 18147, \"proportion\": 0.004077809004243126}, {\"year\": \"2024\", \"level\": 2, \"mesh_terms_label\": \"Rats\", \"count\": 71, \"total_count\": 18147, \"proportion\": 0.003912492422990026}, {\"year\": \"2024\", \"level\": 2, \"mesh_terms_label\": \"Escherichia coli\", \"count\": 70, \"total_count\": 18147, \"proportion\": 0.0038573868959056595}, {\"year\": \"2024\", \"level\": 2, \"mesh_terms_label\": \"Phylogeny\", \"count\": 66, \"total_count\": 18147, \"proportion\": 0.0036369647875681933}, {\"year\": \"2024\", \"level\": 2, \"mesh_terms_label\": \"MicroRNAs\", \"count\": 65, \"total_count\": 18147, \"proportion\": 0.0035818592604838265}, {\"year\": \"2024\", \"level\": 2, \"mesh_terms_label\": \"Cell Line, Tumor\", \"count\": 63, \"total_count\": 18147, \"proportion\": 0.0034716482063150934}, {\"year\": \"2024\", \"level\": 2, \"mesh_terms_label\": \"Tumor Microenvironment\", \"count\": 63, \"total_count\": 18147, \"proportion\": 0.0034716482063150934}, {\"year\": \"2024\", \"level\": 2, \"mesh_terms_label\": \"Peptides\", \"count\": 62, \"total_count\": 18147, \"proportion\": 0.0034165426792307266}, {\"year\": \"2024\", \"level\": 2, \"mesh_terms_label\": \"Proteins\", \"count\": 62, \"total_count\": 18147, \"proportion\": 0.0034165426792307266}, {\"year\": \"2024\", \"level\": 2, \"mesh_terms_label\": \"Antiviral Agents\", \"count\": 60, \"total_count\": 18147, \"proportion\": 0.0033063316250619935}, {\"year\": \"2024\", \"level\": 2, \"mesh_terms_label\": \"Pandemics\", \"count\": 60, \"total_count\": 18147, \"proportion\": 0.0033063316250619935}, {\"year\": \"2024\", \"level\": 2, \"mesh_terms_label\": \"Adult\", \"count\": 55, \"total_count\": 18147, \"proportion\": 0.003030803989640161}, {\"year\": \"2024\", \"level\": 2, \"mesh_terms_label\": \"Biomarkers\", \"count\": 55, \"total_count\": 18147, \"proportion\": 0.003030803989640161}, {\"year\": \"2024\", \"level\": 2, \"mesh_terms_label\": \"Cell Proliferation\", \"count\": 55, \"total_count\": 18147, \"proportion\": 0.003030803989640161}, {\"year\": \"2024\", \"level\": 2, \"mesh_terms_label\": \"Artificial Intelligence\", \"count\": 54, \"total_count\": 18147, \"proportion\": 0.002975698462555794}, {\"year\": \"2024\", \"level\": 2, \"mesh_terms_label\": \"Genomics\", \"count\": 53, \"total_count\": 18147, \"proportion\": 0.002920592935471428}, {\"year\": \"2024\", \"level\": 2, \"mesh_terms_label\": \"Antineoplastic Agents\", \"count\": 51, \"total_count\": 18147, \"proportion\": 0.0028103818813026947}, {\"year\": \"2024\", \"level\": 2, \"mesh_terms_label\": \"RNA, Messenger\", \"count\": 51, \"total_count\": 18147, \"proportion\": 0.0028103818813026947}, {\"year\": \"2024\", \"level\": 2, \"mesh_terms_label\": \"Nanoparticles\", \"count\": 50, \"total_count\": 18147, \"proportion\": 0.002755276354218328}, {\"year\": \"2024\", \"level\": 2, \"mesh_terms_label\": \"DNA\", \"count\": 49, \"total_count\": 18147, \"proportion\": 0.0027001708271339616}, {\"year\": \"2024\", \"level\": 2, \"mesh_terms_label\": \"RNA\", \"count\": 49, \"total_count\": 18147, \"proportion\": 0.0027001708271339616}, {\"year\": \"2024\", \"level\": 2, \"mesh_terms_label\": \"Proteomics\", \"count\": 46, \"total_count\": 18147, \"proportion\": 0.0025348542458808617}, {\"year\": \"2024\", \"level\": 2, \"mesh_terms_label\": \"Mitochondria\", \"count\": 45, \"total_count\": 18147, \"proportion\": 0.0024797487187964953}, {\"year\": \"2024\", \"level\": 2, \"mesh_terms_label\": \"Child\", \"count\": 44, \"total_count\": 18147, \"proportion\": 0.0024246431917121286}, {\"year\": \"2024\", \"level\": 2, \"mesh_terms_label\": \"Ecosystem\", \"count\": 43, \"total_count\": 18147, \"proportion\": 0.0023695376646277622}, {\"year\": \"2024\", \"level\": 2, \"mesh_terms_label\": \"Transcription Factors\", \"count\": 43, \"total_count\": 18147, \"proportion\": 0.0023695376646277622}, {\"year\": \"2024\", \"level\": 2, \"mesh_terms_label\": \"Bacteriophages\", \"count\": 42, \"total_count\": 18147, \"proportion\": 0.0023144321375433955}, {\"year\": \"2024\", \"level\": 2, \"mesh_terms_label\": \"COVID-19 Vaccines\", \"count\": 42, \"total_count\": 18147, \"proportion\": 0.0023144321375433955}, {\"year\": \"2024\", \"level\": 2, \"mesh_terms_label\": \"Gene Expression Profiling\", \"count\": 42, \"total_count\": 18147, \"proportion\": 0.0023144321375433955}, {\"year\": \"2024\", \"level\": 2, \"mesh_terms_label\": \"Prognosis\", \"count\": 42, \"total_count\": 18147, \"proportion\": 0.0023144321375433955}, {\"year\": \"2024\", \"level\": 2, \"mesh_terms_label\": \"Antibodies, Viral\", \"count\": 41, \"total_count\": 18147, \"proportion\": 0.002259326610459029}, {\"year\": \"2024\", \"level\": 2, \"mesh_terms_label\": \"Antioxidants\", \"count\": 41, \"total_count\": 18147, \"proportion\": 0.002259326610459029}, {\"year\": \"2024\", \"level\": 2, \"mesh_terms_label\": \"Plants\", \"count\": 41, \"total_count\": 18147, \"proportion\": 0.002259326610459029}, {\"year\": \"2024\", \"level\": 2, \"mesh_terms_label\": \"Brain\", \"count\": 40, \"total_count\": 18147, \"proportion\": 0.0022042210833746623}, {\"year\": \"2024\", \"level\": 2, \"mesh_terms_label\": \"Retrospective Studies\", \"count\": 40, \"total_count\": 18147, \"proportion\": 0.0022042210833746623}, {\"year\": \"2024\", \"level\": 2, \"mesh_terms_label\": \"Water\", \"count\": 40, \"total_count\": 18147, \"proportion\": 0.0022042210833746623}, {\"year\": \"2024\", \"level\": 2, \"mesh_terms_label\": \"Membrane Proteins\", \"count\": 39, \"total_count\": 18147, \"proportion\": 0.002149115556290296}, {\"year\": \"2024\", \"level\": 2, \"mesh_terms_label\": \"Reproducibility of Results\", \"count\": 39, \"total_count\": 18147, \"proportion\": 0.002149115556290296}, {\"year\": \"2024\", \"level\": 3, \"mesh_terms_label\": \"Humans\", \"count\": 2395, \"total_count\": 25436, \"proportion\": 0.09415788646013525}, {\"year\": \"2024\", \"level\": 3, \"mesh_terms_label\": \"Animals\", \"count\": 986, \"total_count\": 25436, \"proportion\": 0.03876395659694921}, {\"year\": \"2024\", \"level\": 3, \"mesh_terms_label\": \"Mice\", \"count\": 404, \"total_count\": 25436, \"proportion\": 0.015883000471772293}, {\"year\": \"2024\", \"level\": 3, \"mesh_terms_label\": \"SARS-CoV-2\", \"count\": 339, \"total_count\": 25436, \"proportion\": 0.013327567227551502}, {\"year\": \"2024\", \"level\": 3, \"mesh_terms_label\": \"Female\", \"count\": 287, \"total_count\": 25436, \"proportion\": 0.01128322063217487}, {\"year\": \"2024\", \"level\": 3, \"mesh_terms_label\": \"Male\", \"count\": 191, \"total_count\": 25436, \"proportion\": 0.007509042302248781}, {\"year\": \"2024\", \"level\": 3, \"mesh_terms_label\": \"Anti-Bacterial Agents\", \"count\": 140, \"total_count\": 25436, \"proportion\": 0.005504010064475547}, {\"year\": \"2024\", \"level\": 3, \"mesh_terms_label\": \"Molecular Docking Simulation\", \"count\": 113, \"total_count\": 25436, \"proportion\": 0.004442522409183834}, {\"year\": \"2024\", \"level\": 3, \"mesh_terms_label\": \"Adult\", \"count\": 111, \"total_count\": 25436, \"proportion\": 0.0043638936939770405}, {\"year\": \"2024\", \"level\": 3, \"mesh_terms_label\": \"Signal Transduction\", \"count\": 111, \"total_count\": 25436, \"proportion\": 0.0043638936939770405}, {\"year\": \"2024\", \"level\": 3, \"mesh_terms_label\": \"Pandemics\", \"count\": 108, \"total_count\": 25436, \"proportion\": 0.00424595062116685}, {\"year\": \"2024\", \"level\": 3, \"mesh_terms_label\": \"Rats\", \"count\": 105, \"total_count\": 25436, \"proportion\": 0.00412800754835666}, {\"year\": \"2024\", \"level\": 3, \"mesh_terms_label\": \"Tumor Microenvironment\", \"count\": 104, \"total_count\": 25436, \"proportion\": 0.004088693190753263}, {\"year\": \"2024\", \"level\": 3, \"mesh_terms_label\": \"Apoptosis\", \"count\": 100, \"total_count\": 25436, \"proportion\": 0.003931435760339676}, {\"year\": \"2024\", \"level\": 3, \"mesh_terms_label\": \"Cell Line, Tumor\", \"count\": 100, \"total_count\": 25436, \"proportion\": 0.003931435760339676}, {\"year\": \"2024\", \"level\": 3, \"mesh_terms_label\": \"Mutation\", \"count\": 96, \"total_count\": 25436, \"proportion\": 0.003774178329926089}, {\"year\": \"2024\", \"level\": 3, \"mesh_terms_label\": \"MicroRNAs\", \"count\": 93, \"total_count\": 25436, \"proportion\": 0.0036562352571158988}, {\"year\": \"2024\", \"level\": 3, \"mesh_terms_label\": \"Nanoparticles\", \"count\": 93, \"total_count\": 25436, \"proportion\": 0.0036562352571158988}, {\"year\": \"2024\", \"level\": 3, \"mesh_terms_label\": \"COVID-19 Vaccines\", \"count\": 89, \"total_count\": 25436, \"proportion\": 0.0034989778267023115}, {\"year\": \"2024\", \"level\": 3, \"mesh_terms_label\": \"Antiviral Agents\", \"count\": 88, \"total_count\": 25436, \"proportion\": 0.003459663469098915}, {\"year\": \"2024\", \"level\": 3, \"mesh_terms_label\": \"Biomarkers\", \"count\": 86, \"total_count\": 25436, \"proportion\": 0.0033810347538921212}, {\"year\": \"2024\", \"level\": 3, \"mesh_terms_label\": \"Retrospective Studies\", \"count\": 84, \"total_count\": 25436, \"proportion\": 0.003302406038685328}, {\"year\": \"2024\", \"level\": 3, \"mesh_terms_label\": \"Bacteria\", \"count\": 81, \"total_count\": 25436, \"proportion\": 0.0031844629658751376}, {\"year\": \"2024\", \"level\": 3, \"mesh_terms_label\": \"Child\", \"count\": 80, \"total_count\": 25436, \"proportion\": 0.0031451486082717407}, {\"year\": \"2024\", \"level\": 3, \"mesh_terms_label\": \"Peptides\", \"count\": 79, \"total_count\": 25436, \"proportion\": 0.003105834250668344}, {\"year\": \"2024\", \"level\": 3, \"mesh_terms_label\": \"Antioxidants\", \"count\": 78, \"total_count\": 25436, \"proportion\": 0.0030665198930649473}, {\"year\": \"2024\", \"level\": 3, \"mesh_terms_label\": \"Ecosystem\", \"count\": 78, \"total_count\": 25436, \"proportion\": 0.0030665198930649473}, {\"year\": \"2024\", \"level\": 3, \"mesh_terms_label\": \"Mammals\", \"count\": 78, \"total_count\": 25436, \"proportion\": 0.0030665198930649473}, {\"year\": \"2024\", \"level\": 3, \"mesh_terms_label\": \"Phylogeny\", \"count\": 77, \"total_count\": 25436, \"proportion\": 0.0030272055354615504}, {\"year\": \"2024\", \"level\": 3, \"mesh_terms_label\": \"Brain\", \"count\": 76, \"total_count\": 25436, \"proportion\": 0.002987891177858154}, {\"year\": \"2024\", \"level\": 3, \"mesh_terms_label\": \"Biosensing Techniques\", \"count\": 75, \"total_count\": 25436, \"proportion\": 0.002948576820254757}, {\"year\": \"2024\", \"level\": 3, \"mesh_terms_label\": \"Vaccination\", \"count\": 75, \"total_count\": 25436, \"proportion\": 0.002948576820254757}, {\"year\": \"2024\", \"level\": 3, \"mesh_terms_label\": \"Aged\", \"count\": 74, \"total_count\": 25436, \"proportion\": 0.00290926246265136}, {\"year\": \"2024\", \"level\": 3, \"mesh_terms_label\": \"Cell Proliferation\", \"count\": 69, \"total_count\": 25436, \"proportion\": 0.0027126906746343764}, {\"year\": \"2024\", \"level\": 3, \"mesh_terms_label\": \"RNA, Messenger\", \"count\": 69, \"total_count\": 25436, \"proportion\": 0.0027126906746343764}, {\"year\": \"2024\", \"level\": 3, \"mesh_terms_label\": \"Soil\", \"count\": 69, \"total_count\": 25436, \"proportion\": 0.0027126906746343764}, {\"year\": \"2024\", \"level\": 3, \"mesh_terms_label\": \"Antibodies, Viral\", \"count\": 68, \"total_count\": 25436, \"proportion\": 0.00267337631703098}, {\"year\": \"2024\", \"level\": 3, \"mesh_terms_label\": \"DNA\", \"count\": 67, \"total_count\": 25436, \"proportion\": 0.002634061959427583}, {\"year\": \"2024\", \"level\": 3, \"mesh_terms_label\": \"Immunotherapy\", \"count\": 67, \"total_count\": 25436, \"proportion\": 0.002634061959427583}, {\"year\": \"2024\", \"level\": 3, \"mesh_terms_label\": \"Pregnancy\", \"count\": 66, \"total_count\": 25436, \"proportion\": 0.002594747601824186}, {\"year\": \"2024\", \"level\": 3, \"mesh_terms_label\": \"Prospective Studies\", \"count\": 66, \"total_count\": 25436, \"proportion\": 0.002594747601824186}, {\"year\": \"2024\", \"level\": 3, \"mesh_terms_label\": \"China\", \"count\": 63, \"total_count\": 25436, \"proportion\": 0.002476804529013996}, {\"year\": \"2024\", \"level\": 3, \"mesh_terms_label\": \"RNA\", \"count\": 63, \"total_count\": 25436, \"proportion\": 0.002476804529013996}, {\"year\": \"2024\", \"level\": 3, \"mesh_terms_label\": \"Artificial Intelligence\", \"count\": 62, \"total_count\": 25436, \"proportion\": 0.0024374901714105993}, {\"year\": \"2024\", \"level\": 3, \"mesh_terms_label\": \"Mitochondria\", \"count\": 61, \"total_count\": 25436, \"proportion\": 0.0023981758138072024}, {\"year\": \"2024\", \"level\": 3, \"mesh_terms_label\": \"Cytokines\", \"count\": 60, \"total_count\": 25436, \"proportion\": 0.0023588614562038055}, {\"year\": \"2024\", \"level\": 3, \"mesh_terms_label\": \"Oxidative Stress\", \"count\": 59, \"total_count\": 25436, \"proportion\": 0.002319547098600409}, {\"year\": \"2024\", \"level\": 3, \"mesh_terms_label\": \"Machine Learning\", \"count\": 57, \"total_count\": 25436, \"proportion\": 0.002240918383393615}, {\"year\": \"2024\", \"level\": 3, \"mesh_terms_label\": \"Reproducibility of Results\", \"count\": 57, \"total_count\": 25436, \"proportion\": 0.002240918383393615}, {\"year\": \"2024\", \"level\": 3, \"mesh_terms_label\": \"Gene Expression Profiling\", \"count\": 54, \"total_count\": 25436, \"proportion\": 0.002122975310583425}]}}, {\"mode\": \"vega-lite\"});\n",
       "</script>"
      ],
      "text/plain": [
       "\u001b[1;35malt.Chart\u001b[0m\u001b[1m(\u001b[0m\u001b[33m...\u001b[0m\u001b[1m)\u001b[0m"
      ]
     },
     "execution_count": 54,
     "metadata": {},
     "output_type": "execute_result"
    }
   ],
   "source": [
    "# Filter the data for 'mesh_tree_label' == 'Other'\n",
    "other_data = alphafold_oa_mesh_data[alphafold_oa_mesh_data['mesh_tree_label'] == 'Other']\n",
    "\n",
    "# Group by 'year', 'level', 'mesh_terms_label' and get the count\n",
    "yearly_counts = other_data.groupby(['year', 'level', 'mesh_terms_label']).size().reset_index(name='count')\n",
    "\n",
    "# Calculate the total count for each year and level\n",
    "total_counts = other_data.groupby(['year', 'level']).size().reset_index(name='total_count')\n",
    "\n",
    "# Merge the yearly counts with the total counts\n",
    "merged = pd.merge(yearly_counts, total_counts, on=['year', 'level'])\n",
    "\n",
    "# Calculate the proportion\n",
    "merged['proportion'] = merged['count'] / merged['total_count']\n",
    "\n",
    "# Get the top 50 labels by proportion for each year and level\n",
    "top_50_labels = merged.groupby(['year', 'level']).apply(lambda x: x.nlargest(50, 'proportion')).reset_index(drop=True)\n",
    "\n",
    "# Plot the proportions in Altair with vertical bars and a warmer color scheme\n",
    "chart = alt.Chart(top_50_labels).mark_bar().encode(\n",
    "    y='mesh_terms_label:N',\n",
    "    x='proportion:Q',\n",
    "    color=alt.Color('year:O', scale=alt.Scale(scheme='oranges')),\n",
    "    column='level:O',\n",
    "    tooltip=['year', 'level', 'mesh_terms_label', 'proportion']\n",
    ").properties(\n",
    "    title='Annual Proportion of Top 50 Labels'\n",
    ")\n",
    "\n",
    "chart"
   ]
  },
  {
   "cell_type": "markdown",
   "metadata": {},
   "source": [
    "Translational impact for clinical trials with medical sciences literature and patents"
   ]
  },
  {
   "cell_type": "code",
   "execution_count": 55,
   "metadata": {},
   "outputs": [
    {
     "data": {
      "text/html": [
       "<pre style=\"white-space:pre;overflow-x:auto;line-height:normal;font-family:Menlo,'DejaVu Sans Mono',consolas,'Courier New',monospace\"></pre>\n"
      ],
      "text/plain": []
     },
     "metadata": {},
     "output_type": "display_data"
    },
    {
     "data": {
      "text/html": [
       "\n",
       "<div id=\"altair-viz-b41ecf943fc041ba880cffd8afbefa23\"></div>\n",
       "<script type=\"text/javascript\">\n",
       "  var VEGA_DEBUG = (typeof VEGA_DEBUG == \"undefined\") ? {} : VEGA_DEBUG;\n",
       "  (function(spec, embedOpt){\n",
       "    let outputDiv = document.currentScript.previousElementSibling;\n",
       "    if (outputDiv.id !== \"altair-viz-b41ecf943fc041ba880cffd8afbefa23\") {\n",
       "      outputDiv = document.getElementById(\"altair-viz-b41ecf943fc041ba880cffd8afbefa23\");\n",
       "    }\n",
       "    const paths = {\n",
       "      \"vega\": \"https://cdn.jsdelivr.net/npm//vega@5?noext\",\n",
       "      \"vega-lib\": \"https://cdn.jsdelivr.net/npm//vega-lib?noext\",\n",
       "      \"vega-lite\": \"https://cdn.jsdelivr.net/npm//vega-lite@4.17.0?noext\",\n",
       "      \"vega-embed\": \"https://cdn.jsdelivr.net/npm//vega-embed@6?noext\",\n",
       "    };\n",
       "\n",
       "    function maybeLoadScript(lib, version) {\n",
       "      var key = `${lib.replace(\"-\", \"\")}_version`;\n",
       "      return (VEGA_DEBUG[key] == version) ?\n",
       "        Promise.resolve(paths[lib]) :\n",
       "        new Promise(function(resolve, reject) {\n",
       "          var s = document.createElement('script');\n",
       "          document.getElementsByTagName(\"head\")[0].appendChild(s);\n",
       "          s.async = true;\n",
       "          s.onload = () => {\n",
       "            VEGA_DEBUG[key] = version;\n",
       "            return resolve(paths[lib]);\n",
       "          };\n",
       "          s.onerror = () => reject(`Error loading script: ${paths[lib]}`);\n",
       "          s.src = paths[lib];\n",
       "        });\n",
       "    }\n",
       "\n",
       "    function showError(err) {\n",
       "      outputDiv.innerHTML = `<div class=\"error\" style=\"color:red;\">${err}</div>`;\n",
       "      throw err;\n",
       "    }\n",
       "\n",
       "    function displayChart(vegaEmbed) {\n",
       "      vegaEmbed(outputDiv, spec, embedOpt)\n",
       "        .catch(err => showError(`Javascript Error: ${err.message}<br>This usually means there's a typo in your chart specification. See the javascript console for the full traceback.`));\n",
       "    }\n",
       "\n",
       "    if(typeof define === \"function\" && define.amd) {\n",
       "      requirejs.config({paths});\n",
       "      require([\"vega-embed\"], displayChart, err => showError(`Error loading script: ${err.message}`));\n",
       "    } else {\n",
       "      maybeLoadScript(\"vega\", \"5\")\n",
       "        .then(() => maybeLoadScript(\"vega-lite\", \"4.17.0\"))\n",
       "        .then(() => maybeLoadScript(\"vega-embed\", \"6\"))\n",
       "        .catch(showError)\n",
       "        .then(() => displayChart(vegaEmbed));\n",
       "    }\n",
       "  })({\"config\": {\"view\": {\"continuousWidth\": 400, \"continuousHeight\": 300}}, \"data\": {\"name\": \"data-eff377c4288b26aa4fecab8d782c42fa\"}, \"mark\": {\"type\": \"bar\", \"width\": 10}, \"encoding\": {\"color\": {\"field\": \"filter\", \"scale\": {\"scheme\": \"category10\"}, \"type\": \"nominal\"}, \"order\": {\"field\": \"filter\", \"sort\": \"ascending\", \"type\": \"nominal\"}, \"tooltip\": [{\"field\": \"year_month\", \"type\": \"nominal\"}, {\"field\": \"filter\", \"type\": \"nominal\"}, {\"field\": \"count\", \"title\": \"Count\", \"type\": \"quantitative\"}], \"x\": {\"field\": \"year_month\", \"title\": \"Year-Month\", \"type\": \"temporal\"}, \"y\": {\"field\": \"count\", \"title\": \"Count\", \"type\": \"quantitative\"}}, \"height\": 400, \"title\": \"Patent counts per month and relevant citation\", \"width\": 500, \"$schema\": \"https://vega.github.io/schema/vega-lite/v4.17.0.json\", \"datasets\": {\"data-eff377c4288b26aa4fecab8d782c42fa\": [{\"year_month\": \"2022-09\", \"filter\": \"AlphaFold\", \"count\": 1}, {\"year_month\": \"2023-09\", \"filter\": \"AlphaFold\", \"count\": 9}, {\"year_month\": \"2023-10\", \"filter\": \"AlphaFold\", \"count\": 3}, {\"year_month\": \"2023-08\", \"filter\": \"AlphaFold\", \"count\": 4}, {\"year_month\": \"2023-01\", \"filter\": \"AlphaFold\", \"count\": 3}, {\"year_month\": \"2023-04\", \"filter\": \"AlphaFold\", \"count\": 1}, {\"year_month\": \"2022-06\", \"filter\": \"AlphaFold\", \"count\": 2}, {\"year_month\": \"2023-11\", \"filter\": \"AlphaFold\", \"count\": 3}, {\"year_month\": \"2022-12\", \"filter\": \"AlphaFold\", \"count\": 1}, {\"year_month\": \"2023-06\", \"filter\": \"AlphaFold\", \"count\": 7}, {\"year_month\": \"2023-05\", \"filter\": \"AlphaFold\", \"count\": 2}, {\"year_month\": \"2022-08\", \"filter\": \"AlphaFold\", \"count\": 1}, {\"year_month\": \"2022-07\", \"filter\": \"AlphaFold\", \"count\": 1}, {\"year_month\": \"2023-12\", \"filter\": \"AlphaFold\", \"count\": 1}, {\"year_month\": \"2023-07\", \"filter\": \"0\", \"count\": 5}, {\"year_month\": \"2023-06\", \"filter\": \"0\", \"count\": 11}, {\"year_month\": \"2023-04\", \"filter\": \"0\", \"count\": 2}, {\"year_month\": \"2023-08\", \"filter\": \"0\", \"count\": 12}, {\"year_month\": \"2021-08\", \"filter\": \"0\", \"count\": 1}, {\"year_month\": \"2023-03\", \"filter\": \"0\", \"count\": 7}, {\"year_month\": \"2023-01\", \"filter\": \"0\", \"count\": 3}, {\"year_month\": \"2021-09\", \"filter\": \"0\", \"count\": 2}, {\"year_month\": \"2021-11\", \"filter\": \"0\", \"count\": 1}, {\"year_month\": \"2023-10\", \"filter\": \"0\", \"count\": 11}, {\"year_month\": \"2022-10\", \"filter\": \"0\", \"count\": 1}, {\"year_month\": \"2022-12\", \"filter\": \"0\", \"count\": 3}, {\"year_month\": \"2022-09\", \"filter\": \"0\", \"count\": 2}, {\"year_month\": \"2021-04\", \"filter\": \"0\", \"count\": 1}, {\"year_month\": \"2023-11\", \"filter\": \"0\", \"count\": 13}, {\"year_month\": \"2023-12\", \"filter\": \"0\", \"count\": 10}, {\"year_month\": \"2021-03\", \"filter\": \"0\", \"count\": 1}, {\"year_month\": \"2022-07\", \"filter\": \"1\", \"count\": 1}, {\"year_month\": \"2022-09\", \"filter\": \"1\", \"count\": 7}, {\"year_month\": \"2021-11\", \"filter\": \"1\", \"count\": 2}, {\"year_month\": \"2023-05\", \"filter\": \"1\", \"count\": 9}, {\"year_month\": \"2023-04\", \"filter\": \"1\", \"count\": 4}, {\"year_month\": \"2022-12\", \"filter\": \"1\", \"count\": 4}, {\"year_month\": \"2022-04\", \"filter\": \"1\", \"count\": 1}, {\"year_month\": \"2022-01\", \"filter\": \"1\", \"count\": 1}, {\"year_month\": \"2023-03\", \"filter\": \"1\", \"count\": 9}, {\"year_month\": \"2022-11\", \"filter\": \"1\", \"count\": 4}, {\"year_month\": \"2023-02\", \"filter\": \"1\", \"count\": 4}, {\"year_month\": \"2022-05\", \"filter\": \"1\", \"count\": 1}, {\"year_month\": \"2022-03\", \"filter\": \"1\", \"count\": 1}, {\"year_month\": \"2023-01\", \"filter\": \"1\", \"count\": 7}, {\"year_month\": \"2022-06\", \"filter\": \"1\", \"count\": 4}, {\"year_month\": \"2023-06\", \"filter\": \"1\", \"count\": 21}, {\"year_month\": \"2022-08\", \"filter\": \"1\", \"count\": 3}, {\"year_month\": \"2023-11\", \"filter\": \"1\", \"count\": 29}, {\"year_month\": \"2021-10\", \"filter\": \"1\", \"count\": 1}, {\"year_month\": \"2023-10\", \"filter\": \"1\", \"count\": 22}, {\"year_month\": \"2021-02\", \"filter\": \"1\", \"count\": 1}, {\"year_month\": \"2023-12\", \"filter\": \"1\", \"count\": 8}, {\"year_month\": \"2021-03\", \"filter\": \"1\", \"count\": 1}, {\"year_month\": \"2021-09\", \"filter\": \"1\", \"count\": 3}, {\"year_month\": \"2023-07\", \"filter\": \"1\", \"count\": 8}, {\"year_month\": \"2023-08\", \"filter\": \"1\", \"count\": 19}, {\"year_month\": \"2023-09\", \"filter\": \"1\", \"count\": 19}, {\"year_month\": \"2021-08\", \"filter\": \"1\", \"count\": 1}, {\"year_month\": \"2021-04\", \"filter\": \"1\", \"count\": 2}, {\"year_month\": \"2023-10\", \"filter\": \"2\", \"count\": 21}, {\"year_month\": \"2022-04\", \"filter\": \"2\", \"count\": 1}, {\"year_month\": \"2022-12\", \"filter\": \"2\", \"count\": 4}, {\"year_month\": \"2021-04\", \"filter\": \"2\", \"count\": 2}, {\"year_month\": \"2023-06\", \"filter\": \"2\", \"count\": 25}, {\"year_month\": \"2022-11\", \"filter\": \"2\", \"count\": 3}, {\"year_month\": \"2023-11\", \"filter\": \"2\", \"count\": 34}, {\"year_month\": \"2021-03\", \"filter\": \"2\", \"count\": 1}, {\"year_month\": \"2022-06\", \"filter\": \"2\", \"count\": 4}, {\"year_month\": \"2021-02\", \"filter\": \"2\", \"count\": 1}, {\"year_month\": \"2022-07\", \"filter\": \"2\", \"count\": 1}, {\"year_month\": \"2023-12\", \"filter\": \"2\", \"count\": 10}, {\"year_month\": \"2022-05\", \"filter\": \"2\", \"count\": 1}, {\"year_month\": \"2023-09\", \"filter\": \"2\", \"count\": 26}, {\"year_month\": \"2022-09\", \"filter\": \"2\", \"count\": 6}, {\"year_month\": \"2023-04\", \"filter\": \"2\", \"count\": 7}, {\"year_month\": \"2021-12\", \"filter\": \"2\", \"count\": 1}, {\"year_month\": \"2023-01\", \"filter\": \"2\", \"count\": 10}, {\"year_month\": \"2023-07\", \"filter\": \"2\", \"count\": 9}, {\"year_month\": \"2021-11\", \"filter\": \"2\", \"count\": 1}, {\"year_month\": \"2021-09\", \"filter\": \"2\", \"count\": 2}, {\"year_month\": \"2022-08\", \"filter\": \"2\", \"count\": 1}, {\"year_month\": \"2021-08\", \"filter\": \"2\", \"count\": 2}, {\"year_month\": \"2023-02\", \"filter\": \"2\", \"count\": 6}, {\"year_month\": \"2023-08\", \"filter\": \"2\", \"count\": 19}, {\"year_month\": \"2023-03\", \"filter\": \"2\", \"count\": 14}, {\"year_month\": \"2023-05\", \"filter\": \"2\", \"count\": 13}, {\"year_month\": \"2022-09\", \"filter\": \"3\", \"count\": 4}, {\"year_month\": \"2023-05\", \"filter\": \"3\", \"count\": 12}, {\"year_month\": \"2023-06\", \"filter\": \"3\", \"count\": 13}, {\"year_month\": \"2023-12\", \"filter\": \"3\", \"count\": 9}, {\"year_month\": \"2022-08\", \"filter\": \"3\", \"count\": 5}, {\"year_month\": \"2023-01\", \"filter\": \"3\", \"count\": 8}, {\"year_month\": \"2023-04\", \"filter\": \"3\", \"count\": 7}, {\"year_month\": \"2023-07\", \"filter\": \"3\", \"count\": 10}, {\"year_month\": \"2022-11\", \"filter\": \"3\", \"count\": 4}, {\"year_month\": \"2023-03\", \"filter\": \"3\", \"count\": 19}, {\"year_month\": \"2023-10\", \"filter\": \"3\", \"count\": 15}, {\"year_month\": \"2023-02\", \"filter\": \"3\", \"count\": 9}, {\"year_month\": \"2022-12\", \"filter\": \"3\", \"count\": 5}, {\"year_month\": \"2023-08\", \"filter\": \"3\", \"count\": 16}, {\"year_month\": \"2023-11\", \"filter\": \"3\", \"count\": 28}, {\"year_month\": \"2023-09\", \"filter\": \"3\", \"count\": 21}, {\"year_month\": \"2021-01\", \"filter\": \"3\", \"count\": 1}, {\"year_month\": \"2021-09\", \"filter\": \"3\", \"count\": 2}, {\"year_month\": \"2022-02\", \"filter\": \"3\", \"count\": 1}, {\"year_month\": \"2021-08\", \"filter\": \"3\", \"count\": 3}, {\"year_month\": \"2021-11\", \"filter\": \"3\", \"count\": 1}, {\"year_month\": \"2021-07\", \"filter\": \"3\", \"count\": 1}, {\"year_month\": \"2022-04\", \"filter\": \"3\", \"count\": 2}, {\"year_month\": \"2022-05\", \"filter\": \"3\", \"count\": 3}, {\"year_month\": \"2021-12\", \"filter\": \"3\", \"count\": 2}, {\"year_month\": \"2022-06\", \"filter\": \"3\", \"count\": 2}, {\"year_month\": \"2022-01\", \"filter\": \"3\", \"count\": 1}, {\"year_month\": \"2022-03\", \"filter\": \"3\", \"count\": 1}, {\"year_month\": \"2021-02\", \"filter\": \"3\", \"count\": 1}, {\"year_month\": \"2022-07\", \"filter\": \"3\", \"count\": 2}, {\"year_month\": \"2021-10\", \"filter\": \"3\", \"count\": 2}, {\"year_month\": \"2021-12\", \"filter\": \"Structural Biology\", \"count\": 184}, {\"year_month\": \"2021-11\", \"filter\": \"Structural Biology\", \"count\": 259}, {\"year_month\": \"2022-07\", \"filter\": \"Structural Biology\", \"count\": 159}, {\"year_month\": \"2023-02\", \"filter\": \"Structural Biology\", \"count\": 209}, {\"year_month\": \"2021-10\", \"filter\": \"Structural Biology\", \"count\": 208}, {\"year_month\": \"2023-05\", \"filter\": \"Structural Biology\", \"count\": 232}, {\"year_month\": \"2022-01\", \"filter\": \"Structural Biology\", \"count\": 161}, {\"year_month\": \"2023-03\", \"filter\": \"Structural Biology\", \"count\": 221}, {\"year_month\": \"2023-04\", \"filter\": \"Structural Biology\", \"count\": 215}, {\"year_month\": \"2023-06\", \"filter\": \"Structural Biology\", \"count\": 265}, {\"year_month\": \"2021-08\", \"filter\": \"Structural Biology\", \"count\": 230}, {\"year_month\": \"2023-07\", \"filter\": \"Structural Biology\", \"count\": 180}, {\"year_month\": \"2021-07\", \"filter\": \"Structural Biology\", \"count\": 172}, {\"year_month\": \"2023-08\", \"filter\": \"Structural Biology\", \"count\": 280}, {\"year_month\": \"2021-06\", \"filter\": \"Structural Biology\", \"count\": 215}, {\"year_month\": \"2021-05\", \"filter\": \"Structural Biology\", \"count\": 163}, {\"year_month\": \"2023-09\", \"filter\": \"Structural Biology\", \"count\": 224}, {\"year_month\": \"2021-04\", \"filter\": \"Structural Biology\", \"count\": 184}, {\"year_month\": \"2023-10\", \"filter\": \"Structural Biology\", \"count\": 119}, {\"year_month\": \"2021-03\", \"filter\": \"Structural Biology\", \"count\": 213}, {\"year_month\": \"2021-02\", \"filter\": \"Structural Biology\", \"count\": 149}, {\"year_month\": \"2023-11\", \"filter\": \"Structural Biology\", \"count\": 206}, {\"year_month\": \"2021-01\", \"filter\": \"Structural Biology\", \"count\": 164}, {\"year_month\": \"2021-09\", \"filter\": \"Structural Biology\", \"count\": 218}, {\"year_month\": \"2023-01\", \"filter\": \"Structural Biology\", \"count\": 259}, {\"year_month\": \"2023-12\", \"filter\": \"Structural Biology\", \"count\": 122}, {\"year_month\": \"2022-08\", \"filter\": \"Structural Biology\", \"count\": 201}, {\"year_month\": \"2022-11\", \"filter\": \"Structural Biology\", \"count\": 193}, {\"year_month\": \"2022-03\", \"filter\": \"Structural Biology\", \"count\": 206}, {\"year_month\": \"2022-04\", \"filter\": \"Structural Biology\", \"count\": 175}, {\"year_month\": \"2022-02\", \"filter\": \"Structural Biology\", \"count\": 182}, {\"year_month\": \"2022-10\", \"filter\": \"Structural Biology\", \"count\": 87}, {\"year_month\": \"2022-12\", \"filter\": \"Structural Biology\", \"count\": 176}, {\"year_month\": \"2022-09\", \"filter\": \"Structural Biology\", \"count\": 170}, {\"year_month\": \"2022-05\", \"filter\": \"Structural Biology\", \"count\": 229}, {\"year_month\": \"2022-06\", \"filter\": \"Structural Biology\", \"count\": 219}, {\"year_month\": \"2023-08\", \"filter\": \"Bioinformatics\", \"count\": 1783}, {\"year_month\": \"2022-02\", \"filter\": \"Bioinformatics\", \"count\": 1064}, {\"year_month\": \"2022-10\", \"filter\": \"Bioinformatics\", \"count\": 514}, {\"year_month\": \"2021-08\", \"filter\": \"Bioinformatics\", \"count\": 1358}, {\"year_month\": \"2022-05\", \"filter\": \"Bioinformatics\", \"count\": 1282}, {\"year_month\": \"2021-07\", \"filter\": \"Bioinformatics\", \"count\": 1202}, {\"year_month\": \"2021-06\", \"filter\": \"Bioinformatics\", \"count\": 1481}, {\"year_month\": \"2022-06\", \"filter\": \"Bioinformatics\", \"count\": 1365}, {\"year_month\": \"2023-09\", \"filter\": \"Bioinformatics\", \"count\": 1351}, {\"year_month\": \"2022-11\", \"filter\": \"Bioinformatics\", \"count\": 1223}, {\"year_month\": \"2021-05\", \"filter\": \"Bioinformatics\", \"count\": 1142}, {\"year_month\": \"2021-04\", \"filter\": \"Bioinformatics\", \"count\": 1310}, {\"year_month\": \"2023-10\", \"filter\": \"Bioinformatics\", \"count\": 895}, {\"year_month\": \"2021-03\", \"filter\": \"Bioinformatics\", \"count\": 1362}, {\"year_month\": \"2023-11\", \"filter\": \"Bioinformatics\", \"count\": 1331}, {\"year_month\": \"2021-02\", \"filter\": \"Bioinformatics\", \"count\": 1045}, {\"year_month\": \"2022-08\", \"filter\": \"Bioinformatics\", \"count\": 1305}, {\"year_month\": \"2022-07\", \"filter\": \"Bioinformatics\", \"count\": 957}, {\"year_month\": \"2021-01\", \"filter\": \"Bioinformatics\", \"count\": 1057}, {\"year_month\": \"2023-12\", \"filter\": \"Bioinformatics\", \"count\": 793}, {\"year_month\": \"2022-09\", \"filter\": \"Bioinformatics\", \"count\": 1085}, {\"year_month\": \"2023-06\", \"filter\": \"Bioinformatics\", \"count\": 1604}, {\"year_month\": \"2023-07\", \"filter\": \"Bioinformatics\", \"count\": 1148}, {\"year_month\": \"2022-03\", \"filter\": \"Bioinformatics\", \"count\": 1403}, {\"year_month\": \"2022-04\", \"filter\": \"Bioinformatics\", \"count\": 1094}, {\"year_month\": \"2021-12\", \"filter\": \"Bioinformatics\", \"count\": 1220}, {\"year_month\": \"2022-01\", \"filter\": \"Bioinformatics\", \"count\": 965}, {\"year_month\": \"2023-04\", \"filter\": \"Bioinformatics\", \"count\": 1227}, {\"year_month\": \"2023-05\", \"filter\": \"Bioinformatics\", \"count\": 1400}, {\"year_month\": \"2021-11\", \"filter\": \"Bioinformatics\", \"count\": 1394}, {\"year_month\": \"2023-03\", \"filter\": \"Bioinformatics\", \"count\": 1338}, {\"year_month\": \"2023-02\", \"filter\": \"Bioinformatics\", \"count\": 1333}, {\"year_month\": \"2021-09\", \"filter\": \"Bioinformatics\", \"count\": 1315}, {\"year_month\": \"2021-10\", \"filter\": \"Bioinformatics\", \"count\": 1282}, {\"year_month\": \"2023-01\", \"filter\": \"Bioinformatics\", \"count\": 1466}, {\"year_month\": \"2022-12\", \"filter\": \"Bioinformatics\", \"count\": 1022}, {\"year_month\": \"2023-03\", \"filter\": \"Protein Design\", \"count\": 318}, {\"year_month\": \"2022-06\", \"filter\": \"Protein Design\", \"count\": 305}, {\"year_month\": \"2021-12\", \"filter\": \"Protein Design\", \"count\": 266}, {\"year_month\": \"2023-10\", \"filter\": \"Protein Design\", \"count\": 202}, {\"year_month\": \"2021-09\", \"filter\": \"Protein Design\", \"count\": 263}, {\"year_month\": \"2022-03\", \"filter\": \"Protein Design\", \"count\": 289}, {\"year_month\": \"2021-02\", \"filter\": \"Protein Design\", \"count\": 217}, {\"year_month\": \"2023-11\", \"filter\": \"Protein Design\", \"count\": 311}, {\"year_month\": \"2022-08\", \"filter\": \"Protein Design\", \"count\": 297}, {\"year_month\": \"2022-01\", \"filter\": \"Protein Design\", \"count\": 227}, {\"year_month\": \"2023-02\", \"filter\": \"Protein Design\", \"count\": 298}, {\"year_month\": \"2021-01\", \"filter\": \"Protein Design\", \"count\": 225}, {\"year_month\": \"2022-02\", \"filter\": \"Protein Design\", \"count\": 239}, {\"year_month\": \"2021-03\", \"filter\": \"Protein Design\", \"count\": 274}, {\"year_month\": \"2021-04\", \"filter\": \"Protein Design\", \"count\": 257}, {\"year_month\": \"2022-12\", \"filter\": \"Protein Design\", \"count\": 228}, {\"year_month\": \"2021-05\", \"filter\": \"Protein Design\", \"count\": 219}, {\"year_month\": \"2023-06\", \"filter\": \"Protein Design\", \"count\": 372}, {\"year_month\": \"2022-11\", \"filter\": \"Protein Design\", \"count\": 274}, {\"year_month\": \"2022-05\", \"filter\": \"Protein Design\", \"count\": 284}, {\"year_month\": \"2021-08\", \"filter\": \"Protein Design\", \"count\": 296}, {\"year_month\": \"2023-05\", \"filter\": \"Protein Design\", \"count\": 312}, {\"year_month\": \"2023-01\", \"filter\": \"Protein Design\", \"count\": 344}, {\"year_month\": \"2023-07\", \"filter\": \"Protein Design\", \"count\": 250}, {\"year_month\": \"2022-10\", \"filter\": \"Protein Design\", \"count\": 129}, {\"year_month\": \"2021-10\", \"filter\": \"Protein Design\", \"count\": 260}, {\"year_month\": \"2021-07\", \"filter\": \"Protein Design\", \"count\": 246}, {\"year_month\": \"2022-04\", \"filter\": \"Protein Design\", \"count\": 241}, {\"year_month\": \"2023-08\", \"filter\": \"Protein Design\", \"count\": 395}, {\"year_month\": \"2023-04\", \"filter\": \"Protein Design\", \"count\": 287}, {\"year_month\": \"2022-09\", \"filter\": \"Protein Design\", \"count\": 233}, {\"year_month\": \"2021-06\", \"filter\": \"Protein Design\", \"count\": 266}, {\"year_month\": \"2021-11\", \"filter\": \"Protein Design\", \"count\": 318}, {\"year_month\": \"2023-09\", \"filter\": \"Protein Design\", \"count\": 328}, {\"year_month\": \"2023-12\", \"filter\": \"Protein Design\", \"count\": 187}, {\"year_month\": \"2022-07\", \"filter\": \"Protein Design\", \"count\": 222}]}}, {\"mode\": \"vega-lite\"});\n",
       "</script>"
      ],
      "text/plain": [
       "\u001b[1;35malt.Chart\u001b[0m\u001b[1m(\u001b[0m\u001b[33m...\u001b[0m\u001b[1m)\u001b[0m"
      ]
     },
     "execution_count": 55,
     "metadata": {},
     "output_type": "execute_result"
    }
   ],
   "source": [
    "# Create the stacked bar chart\n",
    "chart = alt.Chart(grouped_data_unique).mark_bar(width=10).encode(\n",
    "    x=alt.X('year_month:T', title='Year-Month'),\n",
    "    y=alt.Y('count:Q', title='Count'),\n",
    "    color=alt.Color('filter:N', scale=alt.Scale(scheme='category10')),\n",
    "    order=alt.Order('filter:N', sort='ascending'),\n",
    "    tooltip=['year_month', 'filter', alt.Tooltip('count', title='Count')]\n",
    ").properties(\n",
    "    width=500,  # Decrease the width to make the bars fatter\n",
    "    height=400,\n",
    "    title='Patent counts per month and relevant citation'\n",
    ")\n",
    "\n",
    "chart"
   ]
  },
  {
   "cell_type": "code",
   "execution_count": 59,
   "metadata": {},
   "outputs": [
    {
     "data": {
      "text/html": [
       "<pre style=\"white-space:pre;overflow-x:auto;line-height:normal;font-family:Menlo,'DejaVu Sans Mono',consolas,'Courier New',monospace\"></pre>\n"
      ],
      "text/plain": []
     },
     "metadata": {},
     "output_type": "display_data"
    },
    {
     "data": {
      "text/html": [
       "<div>\n",
       "<style scoped>\n",
       "    .dataframe tbody tr th:only-of-type {\n",
       "        vertical-align: middle;\n",
       "    }\n",
       "\n",
       "    .dataframe tbody tr th {\n",
       "        vertical-align: top;\n",
       "    }\n",
       "\n",
       "    .dataframe thead th {\n",
       "        text-align: right;\n",
       "    }\n",
       "</style>\n",
       "<table border=\"1\" class=\"dataframe\">\n",
       "  <thead>\n",
       "    <tr style=\"text-align: right;\">\n",
       "      <th></th>\n",
       "      <th>year_month</th>\n",
       "      <th>filter</th>\n",
       "      <th>count</th>\n",
       "    </tr>\n",
       "  </thead>\n",
       "  <tbody>\n",
       "    <tr>\n",
       "      <th>114</th>\n",
       "      <td>2022-09</td>\n",
       "      <td>AlphaFold</td>\n",
       "      <td>1</td>\n",
       "    </tr>\n",
       "    <tr>\n",
       "      <th>198</th>\n",
       "      <td>2023-09</td>\n",
       "      <td>AlphaFold</td>\n",
       "      <td>10</td>\n",
       "    </tr>\n",
       "    <tr>\n",
       "      <th>206</th>\n",
       "      <td>2023-10</td>\n",
       "      <td>AlphaFold</td>\n",
       "      <td>3</td>\n",
       "    </tr>\n",
       "    <tr>\n",
       "      <th>191</th>\n",
       "      <td>2023-08</td>\n",
       "      <td>AlphaFold</td>\n",
       "      <td>4</td>\n",
       "    </tr>\n",
       "    <tr>\n",
       "      <th>140</th>\n",
       "      <td>2023-01</td>\n",
       "      <td>AlphaFold</td>\n",
       "      <td>4</td>\n",
       "    </tr>\n",
       "    <tr>\n",
       "      <th>...</th>\n",
       "      <td>...</td>\n",
       "      <td>...</td>\n",
       "      <td>...</td>\n",
       "    </tr>\n",
       "    <tr>\n",
       "      <th>26</th>\n",
       "      <td>2021-06</td>\n",
       "      <td>Protein Design</td>\n",
       "      <td>517</td>\n",
       "    </tr>\n",
       "    <tr>\n",
       "      <th>56</th>\n",
       "      <td>2021-11</td>\n",
       "      <td>Protein Design</td>\n",
       "      <td>613</td>\n",
       "    </tr>\n",
       "    <tr>\n",
       "      <th>200</th>\n",
       "      <td>2023-09</td>\n",
       "      <td>Protein Design</td>\n",
       "      <td>756</td>\n",
       "    </tr>\n",
       "    <tr>\n",
       "      <th>224</th>\n",
       "      <td>2023-12</td>\n",
       "      <td>Protein Design</td>\n",
       "      <td>357</td>\n",
       "    </tr>\n",
       "    <tr>\n",
       "      <th>101</th>\n",
       "      <td>2022-07</td>\n",
       "      <td>Protein Design</td>\n",
       "      <td>405</td>\n",
       "    </tr>\n",
       "  </tbody>\n",
       "</table>\n",
       "<p>226 rows × 3 columns</p>\n",
       "</div>"
      ],
      "text/plain": [
       "\n",
       "    year_month          filter  count\n",
       "\u001b[1;36m114\u001b[0m    \u001b[1;36m2022\u001b[0m-\u001b[1;36m09\u001b[0m       AlphaFold      \u001b[1;36m1\u001b[0m\n",
       "\u001b[1;36m198\u001b[0m    \u001b[1;36m2023\u001b[0m-\u001b[1;36m09\u001b[0m       AlphaFold     \u001b[1;36m10\u001b[0m\n",
       "\u001b[1;36m206\u001b[0m    \u001b[1;36m2023\u001b[0m-\u001b[1;36m10\u001b[0m       AlphaFold      \u001b[1;36m3\u001b[0m\n",
       "\u001b[1;36m191\u001b[0m    \u001b[1;36m2023\u001b[0m-\u001b[1;36m08\u001b[0m       AlphaFold      \u001b[1;36m4\u001b[0m\n",
       "\u001b[1;36m140\u001b[0m    \u001b[1;36m2023\u001b[0m-\u001b[1;36m01\u001b[0m       AlphaFold      \u001b[1;36m4\u001b[0m\n",
       "..         \u001b[33m...\u001b[0m             \u001b[33m...\u001b[0m    \u001b[33m...\u001b[0m\n",
       "\u001b[1;36m26\u001b[0m     \u001b[1;36m2021\u001b[0m-\u001b[1;36m06\u001b[0m  Protein Design    \u001b[1;36m517\u001b[0m\n",
       "\u001b[1;36m56\u001b[0m     \u001b[1;36m2021\u001b[0m-\u001b[1;36m11\u001b[0m  Protein Design    \u001b[1;36m613\u001b[0m\n",
       "\u001b[1;36m200\u001b[0m    \u001b[1;36m2023\u001b[0m-\u001b[1;36m09\u001b[0m  Protein Design    \u001b[1;36m756\u001b[0m\n",
       "\u001b[1;36m224\u001b[0m    \u001b[1;36m2023\u001b[0m-\u001b[1;36m12\u001b[0m  Protein Design    \u001b[1;36m357\u001b[0m\n",
       "\u001b[1;36m101\u001b[0m    \u001b[1;36m2022\u001b[0m-\u001b[1;36m07\u001b[0m  Protein Design    \u001b[1;36m405\u001b[0m\n",
       "\n",
       "\u001b[1m[\u001b[0m\u001b[1;36m226\u001b[0m rows x \u001b[1;36m3\u001b[0m columns\u001b[1m]\u001b[0m"
      ]
     },
     "execution_count": 59,
     "metadata": {},
     "output_type": "execute_result"
    }
   ],
   "source": [
    "grouped_data_counts"
   ]
  },
  {
   "cell_type": "code",
   "execution_count": 61,
   "metadata": {},
   "outputs": [
    {
     "data": {
      "text/html": [
       "<pre style=\"white-space:pre;overflow-x:auto;line-height:normal;font-family:Menlo,'DejaVu Sans Mono',consolas,'Courier New',monospace\"></pre>\n"
      ],
      "text/plain": []
     },
     "metadata": {},
     "output_type": "display_data"
    },
    {
     "data": {
      "text/html": [
       "\n",
       "<div id=\"altair-viz-fb7fe3b2f6a04b4799e83840bde49828\"></div>\n",
       "<script type=\"text/javascript\">\n",
       "  var VEGA_DEBUG = (typeof VEGA_DEBUG == \"undefined\") ? {} : VEGA_DEBUG;\n",
       "  (function(spec, embedOpt){\n",
       "    let outputDiv = document.currentScript.previousElementSibling;\n",
       "    if (outputDiv.id !== \"altair-viz-fb7fe3b2f6a04b4799e83840bde49828\") {\n",
       "      outputDiv = document.getElementById(\"altair-viz-fb7fe3b2f6a04b4799e83840bde49828\");\n",
       "    }\n",
       "    const paths = {\n",
       "      \"vega\": \"https://cdn.jsdelivr.net/npm//vega@5?noext\",\n",
       "      \"vega-lib\": \"https://cdn.jsdelivr.net/npm//vega-lib?noext\",\n",
       "      \"vega-lite\": \"https://cdn.jsdelivr.net/npm//vega-lite@4.17.0?noext\",\n",
       "      \"vega-embed\": \"https://cdn.jsdelivr.net/npm//vega-embed@6?noext\",\n",
       "    };\n",
       "\n",
       "    function maybeLoadScript(lib, version) {\n",
       "      var key = `${lib.replace(\"-\", \"\")}_version`;\n",
       "      return (VEGA_DEBUG[key] == version) ?\n",
       "        Promise.resolve(paths[lib]) :\n",
       "        new Promise(function(resolve, reject) {\n",
       "          var s = document.createElement('script');\n",
       "          document.getElementsByTagName(\"head\")[0].appendChild(s);\n",
       "          s.async = true;\n",
       "          s.onload = () => {\n",
       "            VEGA_DEBUG[key] = version;\n",
       "            return resolve(paths[lib]);\n",
       "          };\n",
       "          s.onerror = () => reject(`Error loading script: ${paths[lib]}`);\n",
       "          s.src = paths[lib];\n",
       "        });\n",
       "    }\n",
       "\n",
       "    function showError(err) {\n",
       "      outputDiv.innerHTML = `<div class=\"error\" style=\"color:red;\">${err}</div>`;\n",
       "      throw err;\n",
       "    }\n",
       "\n",
       "    function displayChart(vegaEmbed) {\n",
       "      vegaEmbed(outputDiv, spec, embedOpt)\n",
       "        .catch(err => showError(`Javascript Error: ${err.message}<br>This usually means there's a typo in your chart specification. See the javascript console for the full traceback.`));\n",
       "    }\n",
       "\n",
       "    if(typeof define === \"function\" && define.amd) {\n",
       "      requirejs.config({paths});\n",
       "      require([\"vega-embed\"], displayChart, err => showError(`Error loading script: ${err.message}`));\n",
       "    } else {\n",
       "      maybeLoadScript(\"vega\", \"5\")\n",
       "        .then(() => maybeLoadScript(\"vega-lite\", \"4.17.0\"))\n",
       "        .then(() => maybeLoadScript(\"vega-embed\", \"6\"))\n",
       "        .catch(showError)\n",
       "        .then(() => displayChart(vegaEmbed));\n",
       "    }\n",
       "  })({\"config\": {\"view\": {\"continuousWidth\": 400, \"continuousHeight\": 300}}, \"data\": {\"name\": \"data-3cf93fa604aa089e50c17010fcc5aaae\"}, \"mark\": {\"type\": \"bar\", \"width\": 10}, \"encoding\": {\"color\": {\"field\": \"filter\", \"scale\": {\"scheme\": \"category10\"}, \"type\": \"nominal\"}, \"order\": {\"field\": \"filter\", \"sort\": \"ascending\", \"type\": \"nominal\"}, \"tooltip\": [{\"field\": \"year_month\", \"type\": \"nominal\"}, {\"field\": \"filter\", \"type\": \"nominal\"}, {\"field\": \"count\", \"title\": \"Count\", \"type\": \"quantitative\"}], \"x\": {\"field\": \"year_month\", \"title\": \"Year-Month\", \"type\": \"temporal\"}, \"y\": {\"field\": \"count\", \"title\": \"Count\", \"type\": \"quantitative\"}}, \"height\": 400, \"title\": \"Total citation counts per month and relevant citation field\", \"width\": 500, \"$schema\": \"https://vega.github.io/schema/vega-lite/v4.17.0.json\", \"datasets\": {\"data-3cf93fa604aa089e50c17010fcc5aaae\": [{\"year_month\": \"2022-09\", \"filter\": \"AlphaFold\", \"count\": 1}, {\"year_month\": \"2023-09\", \"filter\": \"AlphaFold\", \"count\": 10}, {\"year_month\": \"2023-10\", \"filter\": \"AlphaFold\", \"count\": 3}, {\"year_month\": \"2023-08\", \"filter\": \"AlphaFold\", \"count\": 4}, {\"year_month\": \"2023-01\", \"filter\": \"AlphaFold\", \"count\": 4}, {\"year_month\": \"2023-04\", \"filter\": \"AlphaFold\", \"count\": 4}, {\"year_month\": \"2022-06\", \"filter\": \"AlphaFold\", \"count\": 4}, {\"year_month\": \"2023-11\", \"filter\": \"AlphaFold\", \"count\": 3}, {\"year_month\": \"2022-12\", \"filter\": \"AlphaFold\", \"count\": 1}, {\"year_month\": \"2023-06\", \"filter\": \"AlphaFold\", \"count\": 11}, {\"year_month\": \"2023-05\", \"filter\": \"AlphaFold\", \"count\": 2}, {\"year_month\": \"2022-08\", \"filter\": \"AlphaFold\", \"count\": 1}, {\"year_month\": \"2022-07\", \"filter\": \"AlphaFold\", \"count\": 1}, {\"year_month\": \"2023-12\", \"filter\": \"AlphaFold\", \"count\": 1}, {\"year_month\": \"2023-07\", \"filter\": \"0\", \"count\": 45}, {\"year_month\": \"2023-06\", \"filter\": \"0\", \"count\": 85}, {\"year_month\": \"2023-04\", \"filter\": \"0\", \"count\": 18}, {\"year_month\": \"2023-08\", \"filter\": \"0\", \"count\": 227}, {\"year_month\": \"2021-08\", \"filter\": \"0\", \"count\": 8}, {\"year_month\": \"2023-03\", \"filter\": \"0\", \"count\": 105}, {\"year_month\": \"2023-01\", \"filter\": \"0\", \"count\": 32}, {\"year_month\": \"2021-09\", \"filter\": \"0\", \"count\": 8}, {\"year_month\": \"2021-11\", \"filter\": \"0\", \"count\": 7}, {\"year_month\": \"2023-10\", \"filter\": \"0\", \"count\": 113}, {\"year_month\": \"2022-10\", \"filter\": \"0\", \"count\": 8}, {\"year_month\": \"2022-12\", \"filter\": \"0\", \"count\": 33}, {\"year_month\": \"2022-09\", \"filter\": \"0\", \"count\": 9}, {\"year_month\": \"2021-04\", \"filter\": \"0\", \"count\": 4}, {\"year_month\": \"2023-11\", \"filter\": \"0\", \"count\": 143}, {\"year_month\": \"2023-12\", \"filter\": \"0\", \"count\": 116}, {\"year_month\": \"2021-03\", \"filter\": \"0\", \"count\": 4}, {\"year_month\": \"2022-07\", \"filter\": \"1\", \"count\": 11}, {\"year_month\": \"2022-09\", \"filter\": \"1\", \"count\": 91}, {\"year_month\": \"2021-11\", \"filter\": \"1\", \"count\": 10}, {\"year_month\": \"2023-05\", \"filter\": \"1\", \"count\": 72}, {\"year_month\": \"2023-04\", \"filter\": \"1\", \"count\": 62}, {\"year_month\": \"2022-12\", \"filter\": \"1\", \"count\": 67}, {\"year_month\": \"2022-04\", \"filter\": \"1\", \"count\": 8}, {\"year_month\": \"2022-01\", \"filter\": \"1\", \"count\": 6}, {\"year_month\": \"2023-03\", \"filter\": \"1\", \"count\": 84}, {\"year_month\": \"2022-11\", \"filter\": \"1\", \"count\": 37}, {\"year_month\": \"2023-02\", \"filter\": \"1\", \"count\": 58}, {\"year_month\": \"2022-05\", \"filter\": \"1\", \"count\": 6}, {\"year_month\": \"2022-03\", \"filter\": \"1\", \"count\": 7}, {\"year_month\": \"2023-01\", \"filter\": \"1\", \"count\": 70}, {\"year_month\": \"2022-06\", \"filter\": \"1\", \"count\": 57}, {\"year_month\": \"2023-06\", \"filter\": \"1\", \"count\": 289}, {\"year_month\": \"2022-08\", \"filter\": \"1\", \"count\": 25}, {\"year_month\": \"2023-11\", \"filter\": \"1\", \"count\": 307}, {\"year_month\": \"2021-10\", \"filter\": \"1\", \"count\": 8}, {\"year_month\": \"2023-10\", \"filter\": \"1\", \"count\": 259}, {\"year_month\": \"2021-02\", \"filter\": \"1\", \"count\": 5}, {\"year_month\": \"2023-12\", \"filter\": \"1\", \"count\": 94}, {\"year_month\": \"2021-03\", \"filter\": \"1\", \"count\": 4}, {\"year_month\": \"2021-09\", \"filter\": \"1\", \"count\": 17}, {\"year_month\": \"2023-07\", \"filter\": \"1\", \"count\": 110}, {\"year_month\": \"2023-08\", \"filter\": \"1\", \"count\": 445}, {\"year_month\": \"2023-09\", \"filter\": \"1\", \"count\": 243}, {\"year_month\": \"2021-08\", \"filter\": \"1\", \"count\": 3}, {\"year_month\": \"2021-04\", \"filter\": \"1\", \"count\": 14}, {\"year_month\": \"2023-10\", \"filter\": \"2\", \"count\": 244}, {\"year_month\": \"2022-04\", \"filter\": \"2\", \"count\": 6}, {\"year_month\": \"2022-12\", \"filter\": \"2\", \"count\": 66}, {\"year_month\": \"2021-04\", \"filter\": \"2\", \"count\": 9}, {\"year_month\": \"2023-06\", \"filter\": \"2\", \"count\": 359}, {\"year_month\": \"2022-11\", \"filter\": \"2\", \"count\": 46}, {\"year_month\": \"2023-11\", \"filter\": \"2\", \"count\": 410}, {\"year_month\": \"2021-03\", \"filter\": \"2\", \"count\": 4}, {\"year_month\": \"2022-06\", \"filter\": \"2\", \"count\": 57}, {\"year_month\": \"2021-02\", \"filter\": \"2\", \"count\": 5}, {\"year_month\": \"2022-07\", \"filter\": \"2\", \"count\": 11}, {\"year_month\": \"2023-12\", \"filter\": \"2\", \"count\": 118}, {\"year_month\": \"2022-05\", \"filter\": \"2\", \"count\": 8}, {\"year_month\": \"2023-09\", \"filter\": \"2\", \"count\": 378}, {\"year_month\": \"2022-09\", \"filter\": \"2\", \"count\": 86}, {\"year_month\": \"2023-04\", \"filter\": \"2\", \"count\": 110}, {\"year_month\": \"2021-12\", \"filter\": \"2\", \"count\": 5}, {\"year_month\": \"2023-01\", \"filter\": \"2\", \"count\": 110}, {\"year_month\": \"2023-07\", \"filter\": \"2\", \"count\": 112}, {\"year_month\": \"2021-11\", \"filter\": \"2\", \"count\": 7}, {\"year_month\": \"2021-09\", \"filter\": \"2\", \"count\": 8}, {\"year_month\": \"2022-08\", \"filter\": \"2\", \"count\": 11}, {\"year_month\": \"2021-08\", \"filter\": \"2\", \"count\": 11}, {\"year_month\": \"2023-02\", \"filter\": \"2\", \"count\": 117}, {\"year_month\": \"2023-08\", \"filter\": \"2\", \"count\": 527}, {\"year_month\": \"2023-03\", \"filter\": \"2\", \"count\": 194}, {\"year_month\": \"2023-05\", \"filter\": \"2\", \"count\": 92}, {\"year_month\": \"2022-09\", \"filter\": \"3\", \"count\": 180}, {\"year_month\": \"2023-05\", \"filter\": \"3\", \"count\": 156}, {\"year_month\": \"2023-06\", \"filter\": \"3\", \"count\": 254}, {\"year_month\": \"2023-12\", \"filter\": \"3\", \"count\": 139}, {\"year_month\": \"2022-08\", \"filter\": \"3\", \"count\": 34}, {\"year_month\": \"2023-01\", \"filter\": \"3\", \"count\": 137}, {\"year_month\": \"2023-04\", \"filter\": \"3\", \"count\": 74}, {\"year_month\": \"2023-07\", \"filter\": \"3\", \"count\": 206}, {\"year_month\": \"2022-11\", \"filter\": \"3\", \"count\": 69}, {\"year_month\": \"2023-03\", \"filter\": \"3\", \"count\": 413}, {\"year_month\": \"2023-10\", \"filter\": \"3\", \"count\": 210}, {\"year_month\": \"2023-02\", \"filter\": \"3\", \"count\": 182}, {\"year_month\": \"2022-12\", \"filter\": \"3\", \"count\": 82}, {\"year_month\": \"2023-08\", \"filter\": \"3\", \"count\": 537}, {\"year_month\": \"2023-11\", \"filter\": \"3\", \"count\": 500}, {\"year_month\": \"2023-09\", \"filter\": \"3\", \"count\": 414}, {\"year_month\": \"2021-01\", \"filter\": \"3\", \"count\": 6}, {\"year_month\": \"2021-09\", \"filter\": \"3\", \"count\": 21}, {\"year_month\": \"2022-02\", \"filter\": \"3\", \"count\": 9}, {\"year_month\": \"2021-08\", \"filter\": \"3\", \"count\": 15}, {\"year_month\": \"2021-11\", \"filter\": \"3\", \"count\": 7}, {\"year_month\": \"2021-07\", \"filter\": \"3\", \"count\": 5}, {\"year_month\": \"2022-04\", \"filter\": \"3\", \"count\": 11}, {\"year_month\": \"2022-05\", \"filter\": \"3\", \"count\": 37}, {\"year_month\": \"2021-12\", \"filter\": \"3\", \"count\": 20}, {\"year_month\": \"2022-06\", \"filter\": \"3\", \"count\": 77}, {\"year_month\": \"2022-01\", \"filter\": \"3\", \"count\": 6}, {\"year_month\": \"2022-03\", \"filter\": \"3\", \"count\": 24}, {\"year_month\": \"2021-02\", \"filter\": \"3\", \"count\": 5}, {\"year_month\": \"2022-07\", \"filter\": \"3\", \"count\": 28}, {\"year_month\": \"2021-10\", \"filter\": \"3\", \"count\": 11}, {\"year_month\": \"2021-12\", \"filter\": \"Structural Biology\", \"count\": 393}, {\"year_month\": \"2021-11\", \"filter\": \"Structural Biology\", \"count\": 460}, {\"year_month\": \"2022-07\", \"filter\": \"Structural Biology\", \"count\": 273}, {\"year_month\": \"2023-02\", \"filter\": \"Structural Biology\", \"count\": 416}, {\"year_month\": \"2021-10\", \"filter\": \"Structural Biology\", \"count\": 392}, {\"year_month\": \"2023-05\", \"filter\": \"Structural Biology\", \"count\": 470}, {\"year_month\": \"2022-01\", \"filter\": \"Structural Biology\", \"count\": 273}, {\"year_month\": \"2023-03\", \"filter\": \"Structural Biology\", \"count\": 388}, {\"year_month\": \"2023-04\", \"filter\": \"Structural Biology\", \"count\": 396}, {\"year_month\": \"2023-06\", \"filter\": \"Structural Biology\", \"count\": 493}, {\"year_month\": \"2021-08\", \"filter\": \"Structural Biology\", \"count\": 395}, {\"year_month\": \"2023-07\", \"filter\": \"Structural Biology\", \"count\": 315}, {\"year_month\": \"2021-07\", \"filter\": \"Structural Biology\", \"count\": 264}, {\"year_month\": \"2023-08\", \"filter\": \"Structural Biology\", \"count\": 556}, {\"year_month\": \"2021-06\", \"filter\": \"Structural Biology\", \"count\": 309}, {\"year_month\": \"2021-05\", \"filter\": \"Structural Biology\", \"count\": 264}, {\"year_month\": \"2023-09\", \"filter\": \"Structural Biology\", \"count\": 440}, {\"year_month\": \"2021-04\", \"filter\": \"Structural Biology\", \"count\": 333}, {\"year_month\": \"2023-10\", \"filter\": \"Structural Biology\", \"count\": 255}, {\"year_month\": \"2021-03\", \"filter\": \"Structural Biology\", \"count\": 313}, {\"year_month\": \"2021-02\", \"filter\": \"Structural Biology\", \"count\": 228}, {\"year_month\": \"2023-11\", \"filter\": \"Structural Biology\", \"count\": 381}, {\"year_month\": \"2021-01\", \"filter\": \"Structural Biology\", \"count\": 241}, {\"year_month\": \"2021-09\", \"filter\": \"Structural Biology\", \"count\": 374}, {\"year_month\": \"2023-01\", \"filter\": \"Structural Biology\", \"count\": 561}, {\"year_month\": \"2023-12\", \"filter\": \"Structural Biology\", \"count\": 190}, {\"year_month\": \"2022-08\", \"filter\": \"Structural Biology\", \"count\": 343}, {\"year_month\": \"2022-11\", \"filter\": \"Structural Biology\", \"count\": 441}, {\"year_month\": \"2022-03\", \"filter\": \"Structural Biology\", \"count\": 365}, {\"year_month\": \"2022-04\", \"filter\": \"Structural Biology\", \"count\": 308}, {\"year_month\": \"2022-02\", \"filter\": \"Structural Biology\", \"count\": 282}, {\"year_month\": \"2022-10\", \"filter\": \"Structural Biology\", \"count\": 137}, {\"year_month\": \"2022-12\", \"filter\": \"Structural Biology\", \"count\": 510}, {\"year_month\": \"2022-09\", \"filter\": \"Structural Biology\", \"count\": 298}, {\"year_month\": \"2022-05\", \"filter\": \"Structural Biology\", \"count\": 444}, {\"year_month\": \"2022-06\", \"filter\": \"Structural Biology\", \"count\": 368}, {\"year_month\": \"2023-08\", \"filter\": \"Bioinformatics\", \"count\": 9176}, {\"year_month\": \"2022-02\", \"filter\": \"Bioinformatics\", \"count\": 4590}, {\"year_month\": \"2022-10\", \"filter\": \"Bioinformatics\", \"count\": 2610}, {\"year_month\": \"2021-08\", \"filter\": \"Bioinformatics\", \"count\": 5907}, {\"year_month\": \"2022-05\", \"filter\": \"Bioinformatics\", \"count\": 7222}, {\"year_month\": \"2021-07\", \"filter\": \"Bioinformatics\", \"count\": 4782}, {\"year_month\": \"2021-06\", \"filter\": \"Bioinformatics\", \"count\": 6774}, {\"year_month\": \"2022-06\", \"filter\": \"Bioinformatics\", \"count\": 5652}, {\"year_month\": \"2023-09\", \"filter\": \"Bioinformatics\", \"count\": 7425}, {\"year_month\": \"2022-11\", \"filter\": \"Bioinformatics\", \"count\": 6643}, {\"year_month\": \"2021-05\", \"filter\": \"Bioinformatics\", \"count\": 5341}, {\"year_month\": \"2021-04\", \"filter\": \"Bioinformatics\", \"count\": 6471}, {\"year_month\": \"2023-10\", \"filter\": \"Bioinformatics\", \"count\": 4585}, {\"year_month\": \"2021-03\", \"filter\": \"Bioinformatics\", \"count\": 6227}, {\"year_month\": \"2023-11\", \"filter\": \"Bioinformatics\", \"count\": 6646}, {\"year_month\": \"2021-02\", \"filter\": \"Bioinformatics\", \"count\": 4512}, {\"year_month\": \"2022-08\", \"filter\": \"Bioinformatics\", \"count\": 6843}, {\"year_month\": \"2022-07\", \"filter\": \"Bioinformatics\", \"count\": 4237}, {\"year_month\": \"2021-01\", \"filter\": \"Bioinformatics\", \"count\": 4422}, {\"year_month\": \"2023-12\", \"filter\": \"Bioinformatics\", \"count\": 3994}, {\"year_month\": \"2022-09\", \"filter\": \"Bioinformatics\", \"count\": 5789}, {\"year_month\": \"2023-06\", \"filter\": \"Bioinformatics\", \"count\": 7796}, {\"year_month\": \"2023-07\", \"filter\": \"Bioinformatics\", \"count\": 6238}, {\"year_month\": \"2022-03\", \"filter\": \"Bioinformatics\", \"count\": 7122}, {\"year_month\": \"2022-04\", \"filter\": \"Bioinformatics\", \"count\": 6408}, {\"year_month\": \"2021-12\", \"filter\": \"Bioinformatics\", \"count\": 4887}, {\"year_month\": \"2022-01\", \"filter\": \"Bioinformatics\", \"count\": 3850}, {\"year_month\": \"2023-04\", \"filter\": \"Bioinformatics\", \"count\": 7366}, {\"year_month\": \"2023-05\", \"filter\": \"Bioinformatics\", \"count\": 8753}, {\"year_month\": \"2021-11\", \"filter\": \"Bioinformatics\", \"count\": 6428}, {\"year_month\": \"2023-03\", \"filter\": \"Bioinformatics\", \"count\": 6422}, {\"year_month\": \"2023-02\", \"filter\": \"Bioinformatics\", \"count\": 6661}, {\"year_month\": \"2021-09\", \"filter\": \"Bioinformatics\", \"count\": 5543}, {\"year_month\": \"2021-10\", \"filter\": \"Bioinformatics\", \"count\": 6019}, {\"year_month\": \"2023-01\", \"filter\": \"Bioinformatics\", \"count\": 9439}, {\"year_month\": \"2022-12\", \"filter\": \"Bioinformatics\", \"count\": 8635}, {\"year_month\": \"2023-03\", \"filter\": \"Protein Design\", \"count\": 681}, {\"year_month\": \"2022-06\", \"filter\": \"Protein Design\", \"count\": 607}, {\"year_month\": \"2021-12\", \"filter\": \"Protein Design\", \"count\": 538}, {\"year_month\": \"2023-10\", \"filter\": \"Protein Design\", \"count\": 462}, {\"year_month\": \"2021-09\", \"filter\": \"Protein Design\", \"count\": 624}, {\"year_month\": \"2022-03\", \"filter\": \"Protein Design\", \"count\": 681}, {\"year_month\": \"2021-02\", \"filter\": \"Protein Design\", \"count\": 462}, {\"year_month\": \"2023-11\", \"filter\": \"Protein Design\", \"count\": 733}, {\"year_month\": \"2022-08\", \"filter\": \"Protein Design\", \"count\": 642}, {\"year_month\": \"2022-01\", \"filter\": \"Protein Design\", \"count\": 465}, {\"year_month\": \"2023-02\", \"filter\": \"Protein Design\", \"count\": 763}, {\"year_month\": \"2021-01\", \"filter\": \"Protein Design\", \"count\": 487}, {\"year_month\": \"2022-02\", \"filter\": \"Protein Design\", \"count\": 445}, {\"year_month\": \"2021-03\", \"filter\": \"Protein Design\", \"count\": 619}, {\"year_month\": \"2021-04\", \"filter\": \"Protein Design\", \"count\": 602}, {\"year_month\": \"2022-12\", \"filter\": \"Protein Design\", \"count\": 857}, {\"year_month\": \"2021-05\", \"filter\": \"Protein Design\", \"count\": 442}, {\"year_month\": \"2023-06\", \"filter\": \"Protein Design\", \"count\": 902}, {\"year_month\": \"2022-11\", \"filter\": \"Protein Design\", \"count\": 720}, {\"year_month\": \"2022-05\", \"filter\": \"Protein Design\", \"count\": 668}, {\"year_month\": \"2021-08\", \"filter\": \"Protein Design\", \"count\": 670}, {\"year_month\": \"2023-05\", \"filter\": \"Protein Design\", \"count\": 851}, {\"year_month\": \"2023-01\", \"filter\": \"Protein Design\", \"count\": 999}, {\"year_month\": \"2023-07\", \"filter\": \"Protein Design\", \"count\": 637}, {\"year_month\": \"2022-10\", \"filter\": \"Protein Design\", \"count\": 272}, {\"year_month\": \"2021-10\", \"filter\": \"Protein Design\", \"count\": 621}, {\"year_month\": \"2021-07\", \"filter\": \"Protein Design\", \"count\": 513}, {\"year_month\": \"2022-04\", \"filter\": \"Protein Design\", \"count\": 602}, {\"year_month\": \"2023-08\", \"filter\": \"Protein Design\", \"count\": 1020}, {\"year_month\": \"2023-04\", \"filter\": \"Protein Design\", \"count\": 752}, {\"year_month\": \"2022-09\", \"filter\": \"Protein Design\", \"count\": 555}, {\"year_month\": \"2021-06\", \"filter\": \"Protein Design\", \"count\": 517}, {\"year_month\": \"2021-11\", \"filter\": \"Protein Design\", \"count\": 613}, {\"year_month\": \"2023-09\", \"filter\": \"Protein Design\", \"count\": 756}, {\"year_month\": \"2023-12\", \"filter\": \"Protein Design\", \"count\": 357}, {\"year_month\": \"2022-07\", \"filter\": \"Protein Design\", \"count\": 405}]}}, {\"mode\": \"vega-lite\"});\n",
       "</script>"
      ],
      "text/plain": [
       "\u001b[1;35malt.Chart\u001b[0m\u001b[1m(\u001b[0m\u001b[33m...\u001b[0m\u001b[1m)\u001b[0m"
      ]
     },
     "execution_count": 61,
     "metadata": {},
     "output_type": "execute_result"
    }
   ],
   "source": [
    "# Create the stacked bar chart\n",
    "chart = alt.Chart(grouped_data_counts).mark_bar(width=10).encode(\n",
    "    x=alt.X('year_month:T', title='Year-Month'),\n",
    "    y=alt.Y('count:Q', title='Count'),\n",
    "    color=alt.Color('filter:N', scale=alt.Scale(scheme='category10')),\n",
    "    order=alt.Order('filter:N', sort='ascending'),\n",
    "    tooltip=['year_month', 'filter', alt.Tooltip('count', title='Count')]\n",
    ").properties(\n",
    "    width=500,  # Decrease the width to make the bars fatter\n",
    "    height=400,\n",
    "    title='Total citation counts per month and relevant citation field'\n",
    ")\n",
    "\n",
    "chart"
   ]
  },
  {
   "cell_type": "code",
   "execution_count": 57,
   "metadata": {},
   "outputs": [
    {
     "data": {
      "text/html": [
       "<pre style=\"white-space:pre;overflow-x:auto;line-height:normal;font-family:Menlo,'DejaVu Sans Mono',consolas,'Courier New',monospace\"></pre>\n"
      ],
      "text/plain": []
     },
     "metadata": {},
     "output_type": "display_data"
    },
    {
     "data": {
      "text/html": [
       "\n",
       "<div id=\"altair-viz-d726ab667aa946eda8ba234666acffc2\"></div>\n",
       "<script type=\"text/javascript\">\n",
       "  var VEGA_DEBUG = (typeof VEGA_DEBUG == \"undefined\") ? {} : VEGA_DEBUG;\n",
       "  (function(spec, embedOpt){\n",
       "    let outputDiv = document.currentScript.previousElementSibling;\n",
       "    if (outputDiv.id !== \"altair-viz-d726ab667aa946eda8ba234666acffc2\") {\n",
       "      outputDiv = document.getElementById(\"altair-viz-d726ab667aa946eda8ba234666acffc2\");\n",
       "    }\n",
       "    const paths = {\n",
       "      \"vega\": \"https://cdn.jsdelivr.net/npm//vega@5?noext\",\n",
       "      \"vega-lib\": \"https://cdn.jsdelivr.net/npm//vega-lib?noext\",\n",
       "      \"vega-lite\": \"https://cdn.jsdelivr.net/npm//vega-lite@4.17.0?noext\",\n",
       "      \"vega-embed\": \"https://cdn.jsdelivr.net/npm//vega-embed@6?noext\",\n",
       "    };\n",
       "\n",
       "    function maybeLoadScript(lib, version) {\n",
       "      var key = `${lib.replace(\"-\", \"\")}_version`;\n",
       "      return (VEGA_DEBUG[key] == version) ?\n",
       "        Promise.resolve(paths[lib]) :\n",
       "        new Promise(function(resolve, reject) {\n",
       "          var s = document.createElement('script');\n",
       "          document.getElementsByTagName(\"head\")[0].appendChild(s);\n",
       "          s.async = true;\n",
       "          s.onload = () => {\n",
       "            VEGA_DEBUG[key] = version;\n",
       "            return resolve(paths[lib]);\n",
       "          };\n",
       "          s.onerror = () => reject(`Error loading script: ${paths[lib]}`);\n",
       "          s.src = paths[lib];\n",
       "        });\n",
       "    }\n",
       "\n",
       "    function showError(err) {\n",
       "      outputDiv.innerHTML = `<div class=\"error\" style=\"color:red;\">${err}</div>`;\n",
       "      throw err;\n",
       "    }\n",
       "\n",
       "    function displayChart(vegaEmbed) {\n",
       "      vegaEmbed(outputDiv, spec, embedOpt)\n",
       "        .catch(err => showError(`Javascript Error: ${err.message}<br>This usually means there's a typo in your chart specification. See the javascript console for the full traceback.`));\n",
       "    }\n",
       "\n",
       "    if(typeof define === \"function\" && define.amd) {\n",
       "      requirejs.config({paths});\n",
       "      require([\"vega-embed\"], displayChart, err => showError(`Error loading script: ${err.message}`));\n",
       "    } else {\n",
       "      maybeLoadScript(\"vega\", \"5\")\n",
       "        .then(() => maybeLoadScript(\"vega-lite\", \"4.17.0\"))\n",
       "        .then(() => maybeLoadScript(\"vega-embed\", \"6\"))\n",
       "        .catch(showError)\n",
       "        .then(() => displayChart(vegaEmbed));\n",
       "    }\n",
       "  })({\"config\": {\"view\": {\"continuousWidth\": 400, \"continuousHeight\": 300}}, \"data\": {\"name\": \"data-eff377c4288b26aa4fecab8d782c42fa\"}, \"mark\": {\"type\": \"bar\", \"width\": 10}, \"encoding\": {\"color\": {\"field\": \"filter\", \"scale\": {\"scheme\": \"category10\"}, \"type\": \"nominal\"}, \"order\": {\"field\": \"filter\", \"sort\": \"ascending\", \"type\": \"nominal\"}, \"tooltip\": [{\"field\": \"year_month\", \"type\": \"nominal\"}, {\"field\": \"filter\", \"type\": \"nominal\"}, {\"field\": \"count\", \"title\": \"Count\", \"type\": \"quantitative\"}], \"x\": {\"field\": \"year_month\", \"title\": \"Year-Month\", \"type\": \"temporal\"}, \"y\": {\"field\": \"count\", \"stack\": \"normalize\", \"title\": \"Count\", \"type\": \"quantitative\"}}, \"height\": 400, \"title\": \"Number of Patents per Month Since 2021\", \"width\": 600, \"$schema\": \"https://vega.github.io/schema/vega-lite/v4.17.0.json\", \"datasets\": {\"data-eff377c4288b26aa4fecab8d782c42fa\": [{\"year_month\": \"2022-09\", \"filter\": \"AlphaFold\", \"count\": 1}, {\"year_month\": \"2023-09\", \"filter\": \"AlphaFold\", \"count\": 9}, {\"year_month\": \"2023-10\", \"filter\": \"AlphaFold\", \"count\": 3}, {\"year_month\": \"2023-08\", \"filter\": \"AlphaFold\", \"count\": 4}, {\"year_month\": \"2023-01\", \"filter\": \"AlphaFold\", \"count\": 3}, {\"year_month\": \"2023-04\", \"filter\": \"AlphaFold\", \"count\": 1}, {\"year_month\": \"2022-06\", \"filter\": \"AlphaFold\", \"count\": 2}, {\"year_month\": \"2023-11\", \"filter\": \"AlphaFold\", \"count\": 3}, {\"year_month\": \"2022-12\", \"filter\": \"AlphaFold\", \"count\": 1}, {\"year_month\": \"2023-06\", \"filter\": \"AlphaFold\", \"count\": 7}, {\"year_month\": \"2023-05\", \"filter\": \"AlphaFold\", \"count\": 2}, {\"year_month\": \"2022-08\", \"filter\": \"AlphaFold\", \"count\": 1}, {\"year_month\": \"2022-07\", \"filter\": \"AlphaFold\", \"count\": 1}, {\"year_month\": \"2023-12\", \"filter\": \"AlphaFold\", \"count\": 1}, {\"year_month\": \"2023-07\", \"filter\": \"0\", \"count\": 5}, {\"year_month\": \"2023-06\", \"filter\": \"0\", \"count\": 11}, {\"year_month\": \"2023-04\", \"filter\": \"0\", \"count\": 2}, {\"year_month\": \"2023-08\", \"filter\": \"0\", \"count\": 12}, {\"year_month\": \"2021-08\", \"filter\": \"0\", \"count\": 1}, {\"year_month\": \"2023-03\", \"filter\": \"0\", \"count\": 7}, {\"year_month\": \"2023-01\", \"filter\": \"0\", \"count\": 3}, {\"year_month\": \"2021-09\", \"filter\": \"0\", \"count\": 2}, {\"year_month\": \"2021-11\", \"filter\": \"0\", \"count\": 1}, {\"year_month\": \"2023-10\", \"filter\": \"0\", \"count\": 11}, {\"year_month\": \"2022-10\", \"filter\": \"0\", \"count\": 1}, {\"year_month\": \"2022-12\", \"filter\": \"0\", \"count\": 3}, {\"year_month\": \"2022-09\", \"filter\": \"0\", \"count\": 2}, {\"year_month\": \"2021-04\", \"filter\": \"0\", \"count\": 1}, {\"year_month\": \"2023-11\", \"filter\": \"0\", \"count\": 13}, {\"year_month\": \"2023-12\", \"filter\": \"0\", \"count\": 10}, {\"year_month\": \"2021-03\", \"filter\": \"0\", \"count\": 1}, {\"year_month\": \"2022-07\", \"filter\": \"1\", \"count\": 1}, {\"year_month\": \"2022-09\", \"filter\": \"1\", \"count\": 7}, {\"year_month\": \"2021-11\", \"filter\": \"1\", \"count\": 2}, {\"year_month\": \"2023-05\", \"filter\": \"1\", \"count\": 9}, {\"year_month\": \"2023-04\", \"filter\": \"1\", \"count\": 4}, {\"year_month\": \"2022-12\", \"filter\": \"1\", \"count\": 4}, {\"year_month\": \"2022-04\", \"filter\": \"1\", \"count\": 1}, {\"year_month\": \"2022-01\", \"filter\": \"1\", \"count\": 1}, {\"year_month\": \"2023-03\", \"filter\": \"1\", \"count\": 9}, {\"year_month\": \"2022-11\", \"filter\": \"1\", \"count\": 4}, {\"year_month\": \"2023-02\", \"filter\": \"1\", \"count\": 4}, {\"year_month\": \"2022-05\", \"filter\": \"1\", \"count\": 1}, {\"year_month\": \"2022-03\", \"filter\": \"1\", \"count\": 1}, {\"year_month\": \"2023-01\", \"filter\": \"1\", \"count\": 7}, {\"year_month\": \"2022-06\", \"filter\": \"1\", \"count\": 4}, {\"year_month\": \"2023-06\", \"filter\": \"1\", \"count\": 21}, {\"year_month\": \"2022-08\", \"filter\": \"1\", \"count\": 3}, {\"year_month\": \"2023-11\", \"filter\": \"1\", \"count\": 29}, {\"year_month\": \"2021-10\", \"filter\": \"1\", \"count\": 1}, {\"year_month\": \"2023-10\", \"filter\": \"1\", \"count\": 22}, {\"year_month\": \"2021-02\", \"filter\": \"1\", \"count\": 1}, {\"year_month\": \"2023-12\", \"filter\": \"1\", \"count\": 8}, {\"year_month\": \"2021-03\", \"filter\": \"1\", \"count\": 1}, {\"year_month\": \"2021-09\", \"filter\": \"1\", \"count\": 3}, {\"year_month\": \"2023-07\", \"filter\": \"1\", \"count\": 8}, {\"year_month\": \"2023-08\", \"filter\": \"1\", \"count\": 19}, {\"year_month\": \"2023-09\", \"filter\": \"1\", \"count\": 19}, {\"year_month\": \"2021-08\", \"filter\": \"1\", \"count\": 1}, {\"year_month\": \"2021-04\", \"filter\": \"1\", \"count\": 2}, {\"year_month\": \"2023-10\", \"filter\": \"2\", \"count\": 21}, {\"year_month\": \"2022-04\", \"filter\": \"2\", \"count\": 1}, {\"year_month\": \"2022-12\", \"filter\": \"2\", \"count\": 4}, {\"year_month\": \"2021-04\", \"filter\": \"2\", \"count\": 2}, {\"year_month\": \"2023-06\", \"filter\": \"2\", \"count\": 25}, {\"year_month\": \"2022-11\", \"filter\": \"2\", \"count\": 3}, {\"year_month\": \"2023-11\", \"filter\": \"2\", \"count\": 34}, {\"year_month\": \"2021-03\", \"filter\": \"2\", \"count\": 1}, {\"year_month\": \"2022-06\", \"filter\": \"2\", \"count\": 4}, {\"year_month\": \"2021-02\", \"filter\": \"2\", \"count\": 1}, {\"year_month\": \"2022-07\", \"filter\": \"2\", \"count\": 1}, {\"year_month\": \"2023-12\", \"filter\": \"2\", \"count\": 10}, {\"year_month\": \"2022-05\", \"filter\": \"2\", \"count\": 1}, {\"year_month\": \"2023-09\", \"filter\": \"2\", \"count\": 26}, {\"year_month\": \"2022-09\", \"filter\": \"2\", \"count\": 6}, {\"year_month\": \"2023-04\", \"filter\": \"2\", \"count\": 7}, {\"year_month\": \"2021-12\", \"filter\": \"2\", \"count\": 1}, {\"year_month\": \"2023-01\", \"filter\": \"2\", \"count\": 10}, {\"year_month\": \"2023-07\", \"filter\": \"2\", \"count\": 9}, {\"year_month\": \"2021-11\", \"filter\": \"2\", \"count\": 1}, {\"year_month\": \"2021-09\", \"filter\": \"2\", \"count\": 2}, {\"year_month\": \"2022-08\", \"filter\": \"2\", \"count\": 1}, {\"year_month\": \"2021-08\", \"filter\": \"2\", \"count\": 2}, {\"year_month\": \"2023-02\", \"filter\": \"2\", \"count\": 6}, {\"year_month\": \"2023-08\", \"filter\": \"2\", \"count\": 19}, {\"year_month\": \"2023-03\", \"filter\": \"2\", \"count\": 14}, {\"year_month\": \"2023-05\", \"filter\": \"2\", \"count\": 13}, {\"year_month\": \"2022-09\", \"filter\": \"3\", \"count\": 4}, {\"year_month\": \"2023-05\", \"filter\": \"3\", \"count\": 12}, {\"year_month\": \"2023-06\", \"filter\": \"3\", \"count\": 13}, {\"year_month\": \"2023-12\", \"filter\": \"3\", \"count\": 9}, {\"year_month\": \"2022-08\", \"filter\": \"3\", \"count\": 5}, {\"year_month\": \"2023-01\", \"filter\": \"3\", \"count\": 8}, {\"year_month\": \"2023-04\", \"filter\": \"3\", \"count\": 7}, {\"year_month\": \"2023-07\", \"filter\": \"3\", \"count\": 10}, {\"year_month\": \"2022-11\", \"filter\": \"3\", \"count\": 4}, {\"year_month\": \"2023-03\", \"filter\": \"3\", \"count\": 19}, {\"year_month\": \"2023-10\", \"filter\": \"3\", \"count\": 15}, {\"year_month\": \"2023-02\", \"filter\": \"3\", \"count\": 9}, {\"year_month\": \"2022-12\", \"filter\": \"3\", \"count\": 5}, {\"year_month\": \"2023-08\", \"filter\": \"3\", \"count\": 16}, {\"year_month\": \"2023-11\", \"filter\": \"3\", \"count\": 28}, {\"year_month\": \"2023-09\", \"filter\": \"3\", \"count\": 21}, {\"year_month\": \"2021-01\", \"filter\": \"3\", \"count\": 1}, {\"year_month\": \"2021-09\", \"filter\": \"3\", \"count\": 2}, {\"year_month\": \"2022-02\", \"filter\": \"3\", \"count\": 1}, {\"year_month\": \"2021-08\", \"filter\": \"3\", \"count\": 3}, {\"year_month\": \"2021-11\", \"filter\": \"3\", \"count\": 1}, {\"year_month\": \"2021-07\", \"filter\": \"3\", \"count\": 1}, {\"year_month\": \"2022-04\", \"filter\": \"3\", \"count\": 2}, {\"year_month\": \"2022-05\", \"filter\": \"3\", \"count\": 3}, {\"year_month\": \"2021-12\", \"filter\": \"3\", \"count\": 2}, {\"year_month\": \"2022-06\", \"filter\": \"3\", \"count\": 2}, {\"year_month\": \"2022-01\", \"filter\": \"3\", \"count\": 1}, {\"year_month\": \"2022-03\", \"filter\": \"3\", \"count\": 1}, {\"year_month\": \"2021-02\", \"filter\": \"3\", \"count\": 1}, {\"year_month\": \"2022-07\", \"filter\": \"3\", \"count\": 2}, {\"year_month\": \"2021-10\", \"filter\": \"3\", \"count\": 2}, {\"year_month\": \"2021-12\", \"filter\": \"Structural Biology\", \"count\": 184}, {\"year_month\": \"2021-11\", \"filter\": \"Structural Biology\", \"count\": 259}, {\"year_month\": \"2022-07\", \"filter\": \"Structural Biology\", \"count\": 159}, {\"year_month\": \"2023-02\", \"filter\": \"Structural Biology\", \"count\": 209}, {\"year_month\": \"2021-10\", \"filter\": \"Structural Biology\", \"count\": 208}, {\"year_month\": \"2023-05\", \"filter\": \"Structural Biology\", \"count\": 232}, {\"year_month\": \"2022-01\", \"filter\": \"Structural Biology\", \"count\": 161}, {\"year_month\": \"2023-03\", \"filter\": \"Structural Biology\", \"count\": 221}, {\"year_month\": \"2023-04\", \"filter\": \"Structural Biology\", \"count\": 215}, {\"year_month\": \"2023-06\", \"filter\": \"Structural Biology\", \"count\": 265}, {\"year_month\": \"2021-08\", \"filter\": \"Structural Biology\", \"count\": 230}, {\"year_month\": \"2023-07\", \"filter\": \"Structural Biology\", \"count\": 180}, {\"year_month\": \"2021-07\", \"filter\": \"Structural Biology\", \"count\": 172}, {\"year_month\": \"2023-08\", \"filter\": \"Structural Biology\", \"count\": 280}, {\"year_month\": \"2021-06\", \"filter\": \"Structural Biology\", \"count\": 215}, {\"year_month\": \"2021-05\", \"filter\": \"Structural Biology\", \"count\": 163}, {\"year_month\": \"2023-09\", \"filter\": \"Structural Biology\", \"count\": 224}, {\"year_month\": \"2021-04\", \"filter\": \"Structural Biology\", \"count\": 184}, {\"year_month\": \"2023-10\", \"filter\": \"Structural Biology\", \"count\": 119}, {\"year_month\": \"2021-03\", \"filter\": \"Structural Biology\", \"count\": 213}, {\"year_month\": \"2021-02\", \"filter\": \"Structural Biology\", \"count\": 149}, {\"year_month\": \"2023-11\", \"filter\": \"Structural Biology\", \"count\": 206}, {\"year_month\": \"2021-01\", \"filter\": \"Structural Biology\", \"count\": 164}, {\"year_month\": \"2021-09\", \"filter\": \"Structural Biology\", \"count\": 218}, {\"year_month\": \"2023-01\", \"filter\": \"Structural Biology\", \"count\": 259}, {\"year_month\": \"2023-12\", \"filter\": \"Structural Biology\", \"count\": 122}, {\"year_month\": \"2022-08\", \"filter\": \"Structural Biology\", \"count\": 201}, {\"year_month\": \"2022-11\", \"filter\": \"Structural Biology\", \"count\": 193}, {\"year_month\": \"2022-03\", \"filter\": \"Structural Biology\", \"count\": 206}, {\"year_month\": \"2022-04\", \"filter\": \"Structural Biology\", \"count\": 175}, {\"year_month\": \"2022-02\", \"filter\": \"Structural Biology\", \"count\": 182}, {\"year_month\": \"2022-10\", \"filter\": \"Structural Biology\", \"count\": 87}, {\"year_month\": \"2022-12\", \"filter\": \"Structural Biology\", \"count\": 176}, {\"year_month\": \"2022-09\", \"filter\": \"Structural Biology\", \"count\": 170}, {\"year_month\": \"2022-05\", \"filter\": \"Structural Biology\", \"count\": 229}, {\"year_month\": \"2022-06\", \"filter\": \"Structural Biology\", \"count\": 219}, {\"year_month\": \"2023-08\", \"filter\": \"Bioinformatics\", \"count\": 1783}, {\"year_month\": \"2022-02\", \"filter\": \"Bioinformatics\", \"count\": 1064}, {\"year_month\": \"2022-10\", \"filter\": \"Bioinformatics\", \"count\": 514}, {\"year_month\": \"2021-08\", \"filter\": \"Bioinformatics\", \"count\": 1358}, {\"year_month\": \"2022-05\", \"filter\": \"Bioinformatics\", \"count\": 1282}, {\"year_month\": \"2021-07\", \"filter\": \"Bioinformatics\", \"count\": 1202}, {\"year_month\": \"2021-06\", \"filter\": \"Bioinformatics\", \"count\": 1481}, {\"year_month\": \"2022-06\", \"filter\": \"Bioinformatics\", \"count\": 1365}, {\"year_month\": \"2023-09\", \"filter\": \"Bioinformatics\", \"count\": 1351}, {\"year_month\": \"2022-11\", \"filter\": \"Bioinformatics\", \"count\": 1223}, {\"year_month\": \"2021-05\", \"filter\": \"Bioinformatics\", \"count\": 1142}, {\"year_month\": \"2021-04\", \"filter\": \"Bioinformatics\", \"count\": 1310}, {\"year_month\": \"2023-10\", \"filter\": \"Bioinformatics\", \"count\": 895}, {\"year_month\": \"2021-03\", \"filter\": \"Bioinformatics\", \"count\": 1362}, {\"year_month\": \"2023-11\", \"filter\": \"Bioinformatics\", \"count\": 1331}, {\"year_month\": \"2021-02\", \"filter\": \"Bioinformatics\", \"count\": 1045}, {\"year_month\": \"2022-08\", \"filter\": \"Bioinformatics\", \"count\": 1305}, {\"year_month\": \"2022-07\", \"filter\": \"Bioinformatics\", \"count\": 957}, {\"year_month\": \"2021-01\", \"filter\": \"Bioinformatics\", \"count\": 1057}, {\"year_month\": \"2023-12\", \"filter\": \"Bioinformatics\", \"count\": 793}, {\"year_month\": \"2022-09\", \"filter\": \"Bioinformatics\", \"count\": 1085}, {\"year_month\": \"2023-06\", \"filter\": \"Bioinformatics\", \"count\": 1604}, {\"year_month\": \"2023-07\", \"filter\": \"Bioinformatics\", \"count\": 1148}, {\"year_month\": \"2022-03\", \"filter\": \"Bioinformatics\", \"count\": 1403}, {\"year_month\": \"2022-04\", \"filter\": \"Bioinformatics\", \"count\": 1094}, {\"year_month\": \"2021-12\", \"filter\": \"Bioinformatics\", \"count\": 1220}, {\"year_month\": \"2022-01\", \"filter\": \"Bioinformatics\", \"count\": 965}, {\"year_month\": \"2023-04\", \"filter\": \"Bioinformatics\", \"count\": 1227}, {\"year_month\": \"2023-05\", \"filter\": \"Bioinformatics\", \"count\": 1400}, {\"year_month\": \"2021-11\", \"filter\": \"Bioinformatics\", \"count\": 1394}, {\"year_month\": \"2023-03\", \"filter\": \"Bioinformatics\", \"count\": 1338}, {\"year_month\": \"2023-02\", \"filter\": \"Bioinformatics\", \"count\": 1333}, {\"year_month\": \"2021-09\", \"filter\": \"Bioinformatics\", \"count\": 1315}, {\"year_month\": \"2021-10\", \"filter\": \"Bioinformatics\", \"count\": 1282}, {\"year_month\": \"2023-01\", \"filter\": \"Bioinformatics\", \"count\": 1466}, {\"year_month\": \"2022-12\", \"filter\": \"Bioinformatics\", \"count\": 1022}, {\"year_month\": \"2023-03\", \"filter\": \"Protein Design\", \"count\": 318}, {\"year_month\": \"2022-06\", \"filter\": \"Protein Design\", \"count\": 305}, {\"year_month\": \"2021-12\", \"filter\": \"Protein Design\", \"count\": 266}, {\"year_month\": \"2023-10\", \"filter\": \"Protein Design\", \"count\": 202}, {\"year_month\": \"2021-09\", \"filter\": \"Protein Design\", \"count\": 263}, {\"year_month\": \"2022-03\", \"filter\": \"Protein Design\", \"count\": 289}, {\"year_month\": \"2021-02\", \"filter\": \"Protein Design\", \"count\": 217}, {\"year_month\": \"2023-11\", \"filter\": \"Protein Design\", \"count\": 311}, {\"year_month\": \"2022-08\", \"filter\": \"Protein Design\", \"count\": 297}, {\"year_month\": \"2022-01\", \"filter\": \"Protein Design\", \"count\": 227}, {\"year_month\": \"2023-02\", \"filter\": \"Protein Design\", \"count\": 298}, {\"year_month\": \"2021-01\", \"filter\": \"Protein Design\", \"count\": 225}, {\"year_month\": \"2022-02\", \"filter\": \"Protein Design\", \"count\": 239}, {\"year_month\": \"2021-03\", \"filter\": \"Protein Design\", \"count\": 274}, {\"year_month\": \"2021-04\", \"filter\": \"Protein Design\", \"count\": 257}, {\"year_month\": \"2022-12\", \"filter\": \"Protein Design\", \"count\": 228}, {\"year_month\": \"2021-05\", \"filter\": \"Protein Design\", \"count\": 219}, {\"year_month\": \"2023-06\", \"filter\": \"Protein Design\", \"count\": 372}, {\"year_month\": \"2022-11\", \"filter\": \"Protein Design\", \"count\": 274}, {\"year_month\": \"2022-05\", \"filter\": \"Protein Design\", \"count\": 284}, {\"year_month\": \"2021-08\", \"filter\": \"Protein Design\", \"count\": 296}, {\"year_month\": \"2023-05\", \"filter\": \"Protein Design\", \"count\": 312}, {\"year_month\": \"2023-01\", \"filter\": \"Protein Design\", \"count\": 344}, {\"year_month\": \"2023-07\", \"filter\": \"Protein Design\", \"count\": 250}, {\"year_month\": \"2022-10\", \"filter\": \"Protein Design\", \"count\": 129}, {\"year_month\": \"2021-10\", \"filter\": \"Protein Design\", \"count\": 260}, {\"year_month\": \"2021-07\", \"filter\": \"Protein Design\", \"count\": 246}, {\"year_month\": \"2022-04\", \"filter\": \"Protein Design\", \"count\": 241}, {\"year_month\": \"2023-08\", \"filter\": \"Protein Design\", \"count\": 395}, {\"year_month\": \"2023-04\", \"filter\": \"Protein Design\", \"count\": 287}, {\"year_month\": \"2022-09\", \"filter\": \"Protein Design\", \"count\": 233}, {\"year_month\": \"2021-06\", \"filter\": \"Protein Design\", \"count\": 266}, {\"year_month\": \"2021-11\", \"filter\": \"Protein Design\", \"count\": 318}, {\"year_month\": \"2023-09\", \"filter\": \"Protein Design\", \"count\": 328}, {\"year_month\": \"2023-12\", \"filter\": \"Protein Design\", \"count\": 187}, {\"year_month\": \"2022-07\", \"filter\": \"Protein Design\", \"count\": 222}]}}, {\"mode\": \"vega-lite\"});\n",
       "</script>"
      ],
      "text/plain": [
       "\u001b[1;35malt.Chart\u001b[0m\u001b[1m(\u001b[0m\u001b[33m...\u001b[0m\u001b[1m)\u001b[0m"
      ]
     },
     "execution_count": 57,
     "metadata": {},
     "output_type": "execute_result"
    }
   ],
   "source": [
    "# Create the stacked bar chart\n",
    "chart = alt.Chart(grouped_data_unique).mark_bar(width=10).encode(\n",
    "    x=alt.X('year_month:T', title='Year-Month'),\n",
    "    y=alt.Y('count:Q', stack='normalize', title='Count'),\n",
    "    color=alt.Color('filter:N', scale=alt.Scale(scheme='category10')),\n",
    "    order=alt.Order('filter:N', sort='ascending'),\n",
    "    tooltip=['year_month', 'filter', alt.Tooltip('count', title='Count')]\n",
    ").properties(\n",
    "    width=600,\n",
    "    height=400,\n",
    "    title='Number of Patents per Month Since 2021'\n",
    ")\n",
    "\n",
    "chart"
   ]
  },
  {
   "cell_type": "code",
   "execution_count": 58,
   "metadata": {},
   "outputs": [
    {
     "data": {
      "text/html": [
       "<pre style=\"white-space:pre;overflow-x:auto;line-height:normal;font-family:Menlo,'DejaVu Sans Mono',consolas,'Courier New',monospace\"></pre>\n"
      ],
      "text/plain": []
     },
     "metadata": {},
     "output_type": "display_data"
    },
    {
     "data": {
      "text/html": [
       "\n",
       "<div id=\"altair-viz-97cb0fd7fd454c9aa044a721ec3a0778\"></div>\n",
       "<script type=\"text/javascript\">\n",
       "  var VEGA_DEBUG = (typeof VEGA_DEBUG == \"undefined\") ? {} : VEGA_DEBUG;\n",
       "  (function(spec, embedOpt){\n",
       "    let outputDiv = document.currentScript.previousElementSibling;\n",
       "    if (outputDiv.id !== \"altair-viz-97cb0fd7fd454c9aa044a721ec3a0778\") {\n",
       "      outputDiv = document.getElementById(\"altair-viz-97cb0fd7fd454c9aa044a721ec3a0778\");\n",
       "    }\n",
       "    const paths = {\n",
       "      \"vega\": \"https://cdn.jsdelivr.net/npm//vega@5?noext\",\n",
       "      \"vega-lib\": \"https://cdn.jsdelivr.net/npm//vega-lib?noext\",\n",
       "      \"vega-lite\": \"https://cdn.jsdelivr.net/npm//vega-lite@4.17.0?noext\",\n",
       "      \"vega-embed\": \"https://cdn.jsdelivr.net/npm//vega-embed@6?noext\",\n",
       "    };\n",
       "\n",
       "    function maybeLoadScript(lib, version) {\n",
       "      var key = `${lib.replace(\"-\", \"\")}_version`;\n",
       "      return (VEGA_DEBUG[key] == version) ?\n",
       "        Promise.resolve(paths[lib]) :\n",
       "        new Promise(function(resolve, reject) {\n",
       "          var s = document.createElement('script');\n",
       "          document.getElementsByTagName(\"head\")[0].appendChild(s);\n",
       "          s.async = true;\n",
       "          s.onload = () => {\n",
       "            VEGA_DEBUG[key] = version;\n",
       "            return resolve(paths[lib]);\n",
       "          };\n",
       "          s.onerror = () => reject(`Error loading script: ${paths[lib]}`);\n",
       "          s.src = paths[lib];\n",
       "        });\n",
       "    }\n",
       "\n",
       "    function showError(err) {\n",
       "      outputDiv.innerHTML = `<div class=\"error\" style=\"color:red;\">${err}</div>`;\n",
       "      throw err;\n",
       "    }\n",
       "\n",
       "    function displayChart(vegaEmbed) {\n",
       "      vegaEmbed(outputDiv, spec, embedOpt)\n",
       "        .catch(err => showError(`Javascript Error: ${err.message}<br>This usually means there's a typo in your chart specification. See the javascript console for the full traceback.`));\n",
       "    }\n",
       "\n",
       "    if(typeof define === \"function\" && define.amd) {\n",
       "      requirejs.config({paths});\n",
       "      require([\"vega-embed\"], displayChart, err => showError(`Error loading script: ${err.message}`));\n",
       "    } else {\n",
       "      maybeLoadScript(\"vega\", \"5\")\n",
       "        .then(() => maybeLoadScript(\"vega-lite\", \"4.17.0\"))\n",
       "        .then(() => maybeLoadScript(\"vega-embed\", \"6\"))\n",
       "        .catch(showError)\n",
       "        .then(() => displayChart(vegaEmbed));\n",
       "    }\n",
       "  })({\"config\": {\"view\": {\"continuousWidth\": 400, \"continuousHeight\": 300}}, \"data\": {\"name\": \"data-3cf93fa604aa089e50c17010fcc5aaae\"}, \"mark\": {\"type\": \"bar\", \"width\": 10}, \"encoding\": {\"color\": {\"field\": \"filter\", \"scale\": {\"scheme\": \"category10\"}, \"type\": \"nominal\"}, \"order\": {\"field\": \"filter\", \"sort\": \"ascending\", \"type\": \"nominal\"}, \"tooltip\": [{\"field\": \"year_month\", \"type\": \"nominal\"}, {\"field\": \"filter\", \"type\": \"nominal\"}, {\"field\": \"count\", \"title\": \"Count\", \"type\": \"quantitative\"}], \"x\": {\"field\": \"year_month\", \"title\": \"Year-Month\", \"type\": \"temporal\"}, \"y\": {\"field\": \"count\", \"stack\": \"normalize\", \"title\": \"Count\", \"type\": \"quantitative\"}}, \"height\": 400, \"title\": \"Number of Citations by Patents per Month Since 2021\", \"width\": 600, \"$schema\": \"https://vega.github.io/schema/vega-lite/v4.17.0.json\", \"datasets\": {\"data-3cf93fa604aa089e50c17010fcc5aaae\": [{\"year_month\": \"2022-09\", \"filter\": \"AlphaFold\", \"count\": 1}, {\"year_month\": \"2023-09\", \"filter\": \"AlphaFold\", \"count\": 10}, {\"year_month\": \"2023-10\", \"filter\": \"AlphaFold\", \"count\": 3}, {\"year_month\": \"2023-08\", \"filter\": \"AlphaFold\", \"count\": 4}, {\"year_month\": \"2023-01\", \"filter\": \"AlphaFold\", \"count\": 4}, {\"year_month\": \"2023-04\", \"filter\": \"AlphaFold\", \"count\": 4}, {\"year_month\": \"2022-06\", \"filter\": \"AlphaFold\", \"count\": 4}, {\"year_month\": \"2023-11\", \"filter\": \"AlphaFold\", \"count\": 3}, {\"year_month\": \"2022-12\", \"filter\": \"AlphaFold\", \"count\": 1}, {\"year_month\": \"2023-06\", \"filter\": \"AlphaFold\", \"count\": 11}, {\"year_month\": \"2023-05\", \"filter\": \"AlphaFold\", \"count\": 2}, {\"year_month\": \"2022-08\", \"filter\": \"AlphaFold\", \"count\": 1}, {\"year_month\": \"2022-07\", \"filter\": \"AlphaFold\", \"count\": 1}, {\"year_month\": \"2023-12\", \"filter\": \"AlphaFold\", \"count\": 1}, {\"year_month\": \"2023-07\", \"filter\": \"0\", \"count\": 45}, {\"year_month\": \"2023-06\", \"filter\": \"0\", \"count\": 85}, {\"year_month\": \"2023-04\", \"filter\": \"0\", \"count\": 18}, {\"year_month\": \"2023-08\", \"filter\": \"0\", \"count\": 227}, {\"year_month\": \"2021-08\", \"filter\": \"0\", \"count\": 8}, {\"year_month\": \"2023-03\", \"filter\": \"0\", \"count\": 105}, {\"year_month\": \"2023-01\", \"filter\": \"0\", \"count\": 32}, {\"year_month\": \"2021-09\", \"filter\": \"0\", \"count\": 8}, {\"year_month\": \"2021-11\", \"filter\": \"0\", \"count\": 7}, {\"year_month\": \"2023-10\", \"filter\": \"0\", \"count\": 113}, {\"year_month\": \"2022-10\", \"filter\": \"0\", \"count\": 8}, {\"year_month\": \"2022-12\", \"filter\": \"0\", \"count\": 33}, {\"year_month\": \"2022-09\", \"filter\": \"0\", \"count\": 9}, {\"year_month\": \"2021-04\", \"filter\": \"0\", \"count\": 4}, {\"year_month\": \"2023-11\", \"filter\": \"0\", \"count\": 143}, {\"year_month\": \"2023-12\", \"filter\": \"0\", \"count\": 116}, {\"year_month\": \"2021-03\", \"filter\": \"0\", \"count\": 4}, {\"year_month\": \"2022-07\", \"filter\": \"1\", \"count\": 11}, {\"year_month\": \"2022-09\", \"filter\": \"1\", \"count\": 91}, {\"year_month\": \"2021-11\", \"filter\": \"1\", \"count\": 10}, {\"year_month\": \"2023-05\", \"filter\": \"1\", \"count\": 72}, {\"year_month\": \"2023-04\", \"filter\": \"1\", \"count\": 62}, {\"year_month\": \"2022-12\", \"filter\": \"1\", \"count\": 67}, {\"year_month\": \"2022-04\", \"filter\": \"1\", \"count\": 8}, {\"year_month\": \"2022-01\", \"filter\": \"1\", \"count\": 6}, {\"year_month\": \"2023-03\", \"filter\": \"1\", \"count\": 84}, {\"year_month\": \"2022-11\", \"filter\": \"1\", \"count\": 37}, {\"year_month\": \"2023-02\", \"filter\": \"1\", \"count\": 58}, {\"year_month\": \"2022-05\", \"filter\": \"1\", \"count\": 6}, {\"year_month\": \"2022-03\", \"filter\": \"1\", \"count\": 7}, {\"year_month\": \"2023-01\", \"filter\": \"1\", \"count\": 70}, {\"year_month\": \"2022-06\", \"filter\": \"1\", \"count\": 57}, {\"year_month\": \"2023-06\", \"filter\": \"1\", \"count\": 289}, {\"year_month\": \"2022-08\", \"filter\": \"1\", \"count\": 25}, {\"year_month\": \"2023-11\", \"filter\": \"1\", \"count\": 307}, {\"year_month\": \"2021-10\", \"filter\": \"1\", \"count\": 8}, {\"year_month\": \"2023-10\", \"filter\": \"1\", \"count\": 259}, {\"year_month\": \"2021-02\", \"filter\": \"1\", \"count\": 5}, {\"year_month\": \"2023-12\", \"filter\": \"1\", \"count\": 94}, {\"year_month\": \"2021-03\", \"filter\": \"1\", \"count\": 4}, {\"year_month\": \"2021-09\", \"filter\": \"1\", \"count\": 17}, {\"year_month\": \"2023-07\", \"filter\": \"1\", \"count\": 110}, {\"year_month\": \"2023-08\", \"filter\": \"1\", \"count\": 445}, {\"year_month\": \"2023-09\", \"filter\": \"1\", \"count\": 243}, {\"year_month\": \"2021-08\", \"filter\": \"1\", \"count\": 3}, {\"year_month\": \"2021-04\", \"filter\": \"1\", \"count\": 14}, {\"year_month\": \"2023-10\", \"filter\": \"2\", \"count\": 244}, {\"year_month\": \"2022-04\", \"filter\": \"2\", \"count\": 6}, {\"year_month\": \"2022-12\", \"filter\": \"2\", \"count\": 66}, {\"year_month\": \"2021-04\", \"filter\": \"2\", \"count\": 9}, {\"year_month\": \"2023-06\", \"filter\": \"2\", \"count\": 359}, {\"year_month\": \"2022-11\", \"filter\": \"2\", \"count\": 46}, {\"year_month\": \"2023-11\", \"filter\": \"2\", \"count\": 410}, {\"year_month\": \"2021-03\", \"filter\": \"2\", \"count\": 4}, {\"year_month\": \"2022-06\", \"filter\": \"2\", \"count\": 57}, {\"year_month\": \"2021-02\", \"filter\": \"2\", \"count\": 5}, {\"year_month\": \"2022-07\", \"filter\": \"2\", \"count\": 11}, {\"year_month\": \"2023-12\", \"filter\": \"2\", \"count\": 118}, {\"year_month\": \"2022-05\", \"filter\": \"2\", \"count\": 8}, {\"year_month\": \"2023-09\", \"filter\": \"2\", \"count\": 378}, {\"year_month\": \"2022-09\", \"filter\": \"2\", \"count\": 86}, {\"year_month\": \"2023-04\", \"filter\": \"2\", \"count\": 110}, {\"year_month\": \"2021-12\", \"filter\": \"2\", \"count\": 5}, {\"year_month\": \"2023-01\", \"filter\": \"2\", \"count\": 110}, {\"year_month\": \"2023-07\", \"filter\": \"2\", \"count\": 112}, {\"year_month\": \"2021-11\", \"filter\": \"2\", \"count\": 7}, {\"year_month\": \"2021-09\", \"filter\": \"2\", \"count\": 8}, {\"year_month\": \"2022-08\", \"filter\": \"2\", \"count\": 11}, {\"year_month\": \"2021-08\", \"filter\": \"2\", \"count\": 11}, {\"year_month\": \"2023-02\", \"filter\": \"2\", \"count\": 117}, {\"year_month\": \"2023-08\", \"filter\": \"2\", \"count\": 527}, {\"year_month\": \"2023-03\", \"filter\": \"2\", \"count\": 194}, {\"year_month\": \"2023-05\", \"filter\": \"2\", \"count\": 92}, {\"year_month\": \"2022-09\", \"filter\": \"3\", \"count\": 180}, {\"year_month\": \"2023-05\", \"filter\": \"3\", \"count\": 156}, {\"year_month\": \"2023-06\", \"filter\": \"3\", \"count\": 254}, {\"year_month\": \"2023-12\", \"filter\": \"3\", \"count\": 139}, {\"year_month\": \"2022-08\", \"filter\": \"3\", \"count\": 34}, {\"year_month\": \"2023-01\", \"filter\": \"3\", \"count\": 137}, {\"year_month\": \"2023-04\", \"filter\": \"3\", \"count\": 74}, {\"year_month\": \"2023-07\", \"filter\": \"3\", \"count\": 206}, {\"year_month\": \"2022-11\", \"filter\": \"3\", \"count\": 69}, {\"year_month\": \"2023-03\", \"filter\": \"3\", \"count\": 413}, {\"year_month\": \"2023-10\", \"filter\": \"3\", \"count\": 210}, {\"year_month\": \"2023-02\", \"filter\": \"3\", \"count\": 182}, {\"year_month\": \"2022-12\", \"filter\": \"3\", \"count\": 82}, {\"year_month\": \"2023-08\", \"filter\": \"3\", \"count\": 537}, {\"year_month\": \"2023-11\", \"filter\": \"3\", \"count\": 500}, {\"year_month\": \"2023-09\", \"filter\": \"3\", \"count\": 414}, {\"year_month\": \"2021-01\", \"filter\": \"3\", \"count\": 6}, {\"year_month\": \"2021-09\", \"filter\": \"3\", \"count\": 21}, {\"year_month\": \"2022-02\", \"filter\": \"3\", \"count\": 9}, {\"year_month\": \"2021-08\", \"filter\": \"3\", \"count\": 15}, {\"year_month\": \"2021-11\", \"filter\": \"3\", \"count\": 7}, {\"year_month\": \"2021-07\", \"filter\": \"3\", \"count\": 5}, {\"year_month\": \"2022-04\", \"filter\": \"3\", \"count\": 11}, {\"year_month\": \"2022-05\", \"filter\": \"3\", \"count\": 37}, {\"year_month\": \"2021-12\", \"filter\": \"3\", \"count\": 20}, {\"year_month\": \"2022-06\", \"filter\": \"3\", \"count\": 77}, {\"year_month\": \"2022-01\", \"filter\": \"3\", \"count\": 6}, {\"year_month\": \"2022-03\", \"filter\": \"3\", \"count\": 24}, {\"year_month\": \"2021-02\", \"filter\": \"3\", \"count\": 5}, {\"year_month\": \"2022-07\", \"filter\": \"3\", \"count\": 28}, {\"year_month\": \"2021-10\", \"filter\": \"3\", \"count\": 11}, {\"year_month\": \"2021-12\", \"filter\": \"Structural Biology\", \"count\": 393}, {\"year_month\": \"2021-11\", \"filter\": \"Structural Biology\", \"count\": 460}, {\"year_month\": \"2022-07\", \"filter\": \"Structural Biology\", \"count\": 273}, {\"year_month\": \"2023-02\", \"filter\": \"Structural Biology\", \"count\": 416}, {\"year_month\": \"2021-10\", \"filter\": \"Structural Biology\", \"count\": 392}, {\"year_month\": \"2023-05\", \"filter\": \"Structural Biology\", \"count\": 470}, {\"year_month\": \"2022-01\", \"filter\": \"Structural Biology\", \"count\": 273}, {\"year_month\": \"2023-03\", \"filter\": \"Structural Biology\", \"count\": 388}, {\"year_month\": \"2023-04\", \"filter\": \"Structural Biology\", \"count\": 396}, {\"year_month\": \"2023-06\", \"filter\": \"Structural Biology\", \"count\": 493}, {\"year_month\": \"2021-08\", \"filter\": \"Structural Biology\", \"count\": 395}, {\"year_month\": \"2023-07\", \"filter\": \"Structural Biology\", \"count\": 315}, {\"year_month\": \"2021-07\", \"filter\": \"Structural Biology\", \"count\": 264}, {\"year_month\": \"2023-08\", \"filter\": \"Structural Biology\", \"count\": 556}, {\"year_month\": \"2021-06\", \"filter\": \"Structural Biology\", \"count\": 309}, {\"year_month\": \"2021-05\", \"filter\": \"Structural Biology\", \"count\": 264}, {\"year_month\": \"2023-09\", \"filter\": \"Structural Biology\", \"count\": 440}, {\"year_month\": \"2021-04\", \"filter\": \"Structural Biology\", \"count\": 333}, {\"year_month\": \"2023-10\", \"filter\": \"Structural Biology\", \"count\": 255}, {\"year_month\": \"2021-03\", \"filter\": \"Structural Biology\", \"count\": 313}, {\"year_month\": \"2021-02\", \"filter\": \"Structural Biology\", \"count\": 228}, {\"year_month\": \"2023-11\", \"filter\": \"Structural Biology\", \"count\": 381}, {\"year_month\": \"2021-01\", \"filter\": \"Structural Biology\", \"count\": 241}, {\"year_month\": \"2021-09\", \"filter\": \"Structural Biology\", \"count\": 374}, {\"year_month\": \"2023-01\", \"filter\": \"Structural Biology\", \"count\": 561}, {\"year_month\": \"2023-12\", \"filter\": \"Structural Biology\", \"count\": 190}, {\"year_month\": \"2022-08\", \"filter\": \"Structural Biology\", \"count\": 343}, {\"year_month\": \"2022-11\", \"filter\": \"Structural Biology\", \"count\": 441}, {\"year_month\": \"2022-03\", \"filter\": \"Structural Biology\", \"count\": 365}, {\"year_month\": \"2022-04\", \"filter\": \"Structural Biology\", \"count\": 308}, {\"year_month\": \"2022-02\", \"filter\": \"Structural Biology\", \"count\": 282}, {\"year_month\": \"2022-10\", \"filter\": \"Structural Biology\", \"count\": 137}, {\"year_month\": \"2022-12\", \"filter\": \"Structural Biology\", \"count\": 510}, {\"year_month\": \"2022-09\", \"filter\": \"Structural Biology\", \"count\": 298}, {\"year_month\": \"2022-05\", \"filter\": \"Structural Biology\", \"count\": 444}, {\"year_month\": \"2022-06\", \"filter\": \"Structural Biology\", \"count\": 368}, {\"year_month\": \"2023-08\", \"filter\": \"Bioinformatics\", \"count\": 9176}, {\"year_month\": \"2022-02\", \"filter\": \"Bioinformatics\", \"count\": 4590}, {\"year_month\": \"2022-10\", \"filter\": \"Bioinformatics\", \"count\": 2610}, {\"year_month\": \"2021-08\", \"filter\": \"Bioinformatics\", \"count\": 5907}, {\"year_month\": \"2022-05\", \"filter\": \"Bioinformatics\", \"count\": 7222}, {\"year_month\": \"2021-07\", \"filter\": \"Bioinformatics\", \"count\": 4782}, {\"year_month\": \"2021-06\", \"filter\": \"Bioinformatics\", \"count\": 6774}, {\"year_month\": \"2022-06\", \"filter\": \"Bioinformatics\", \"count\": 5652}, {\"year_month\": \"2023-09\", \"filter\": \"Bioinformatics\", \"count\": 7425}, {\"year_month\": \"2022-11\", \"filter\": \"Bioinformatics\", \"count\": 6643}, {\"year_month\": \"2021-05\", \"filter\": \"Bioinformatics\", \"count\": 5341}, {\"year_month\": \"2021-04\", \"filter\": \"Bioinformatics\", \"count\": 6471}, {\"year_month\": \"2023-10\", \"filter\": \"Bioinformatics\", \"count\": 4585}, {\"year_month\": \"2021-03\", \"filter\": \"Bioinformatics\", \"count\": 6227}, {\"year_month\": \"2023-11\", \"filter\": \"Bioinformatics\", \"count\": 6646}, {\"year_month\": \"2021-02\", \"filter\": \"Bioinformatics\", \"count\": 4512}, {\"year_month\": \"2022-08\", \"filter\": \"Bioinformatics\", \"count\": 6843}, {\"year_month\": \"2022-07\", \"filter\": \"Bioinformatics\", \"count\": 4237}, {\"year_month\": \"2021-01\", \"filter\": \"Bioinformatics\", \"count\": 4422}, {\"year_month\": \"2023-12\", \"filter\": \"Bioinformatics\", \"count\": 3994}, {\"year_month\": \"2022-09\", \"filter\": \"Bioinformatics\", \"count\": 5789}, {\"year_month\": \"2023-06\", \"filter\": \"Bioinformatics\", \"count\": 7796}, {\"year_month\": \"2023-07\", \"filter\": \"Bioinformatics\", \"count\": 6238}, {\"year_month\": \"2022-03\", \"filter\": \"Bioinformatics\", \"count\": 7122}, {\"year_month\": \"2022-04\", \"filter\": \"Bioinformatics\", \"count\": 6408}, {\"year_month\": \"2021-12\", \"filter\": \"Bioinformatics\", \"count\": 4887}, {\"year_month\": \"2022-01\", \"filter\": \"Bioinformatics\", \"count\": 3850}, {\"year_month\": \"2023-04\", \"filter\": \"Bioinformatics\", \"count\": 7366}, {\"year_month\": \"2023-05\", \"filter\": \"Bioinformatics\", \"count\": 8753}, {\"year_month\": \"2021-11\", \"filter\": \"Bioinformatics\", \"count\": 6428}, {\"year_month\": \"2023-03\", \"filter\": \"Bioinformatics\", \"count\": 6422}, {\"year_month\": \"2023-02\", \"filter\": \"Bioinformatics\", \"count\": 6661}, {\"year_month\": \"2021-09\", \"filter\": \"Bioinformatics\", \"count\": 5543}, {\"year_month\": \"2021-10\", \"filter\": \"Bioinformatics\", \"count\": 6019}, {\"year_month\": \"2023-01\", \"filter\": \"Bioinformatics\", \"count\": 9439}, {\"year_month\": \"2022-12\", \"filter\": \"Bioinformatics\", \"count\": 8635}, {\"year_month\": \"2023-03\", \"filter\": \"Protein Design\", \"count\": 681}, {\"year_month\": \"2022-06\", \"filter\": \"Protein Design\", \"count\": 607}, {\"year_month\": \"2021-12\", \"filter\": \"Protein Design\", \"count\": 538}, {\"year_month\": \"2023-10\", \"filter\": \"Protein Design\", \"count\": 462}, {\"year_month\": \"2021-09\", \"filter\": \"Protein Design\", \"count\": 624}, {\"year_month\": \"2022-03\", \"filter\": \"Protein Design\", \"count\": 681}, {\"year_month\": \"2021-02\", \"filter\": \"Protein Design\", \"count\": 462}, {\"year_month\": \"2023-11\", \"filter\": \"Protein Design\", \"count\": 733}, {\"year_month\": \"2022-08\", \"filter\": \"Protein Design\", \"count\": 642}, {\"year_month\": \"2022-01\", \"filter\": \"Protein Design\", \"count\": 465}, {\"year_month\": \"2023-02\", \"filter\": \"Protein Design\", \"count\": 763}, {\"year_month\": \"2021-01\", \"filter\": \"Protein Design\", \"count\": 487}, {\"year_month\": \"2022-02\", \"filter\": \"Protein Design\", \"count\": 445}, {\"year_month\": \"2021-03\", \"filter\": \"Protein Design\", \"count\": 619}, {\"year_month\": \"2021-04\", \"filter\": \"Protein Design\", \"count\": 602}, {\"year_month\": \"2022-12\", \"filter\": \"Protein Design\", \"count\": 857}, {\"year_month\": \"2021-05\", \"filter\": \"Protein Design\", \"count\": 442}, {\"year_month\": \"2023-06\", \"filter\": \"Protein Design\", \"count\": 902}, {\"year_month\": \"2022-11\", \"filter\": \"Protein Design\", \"count\": 720}, {\"year_month\": \"2022-05\", \"filter\": \"Protein Design\", \"count\": 668}, {\"year_month\": \"2021-08\", \"filter\": \"Protein Design\", \"count\": 670}, {\"year_month\": \"2023-05\", \"filter\": \"Protein Design\", \"count\": 851}, {\"year_month\": \"2023-01\", \"filter\": \"Protein Design\", \"count\": 999}, {\"year_month\": \"2023-07\", \"filter\": \"Protein Design\", \"count\": 637}, {\"year_month\": \"2022-10\", \"filter\": \"Protein Design\", \"count\": 272}, {\"year_month\": \"2021-10\", \"filter\": \"Protein Design\", \"count\": 621}, {\"year_month\": \"2021-07\", \"filter\": \"Protein Design\", \"count\": 513}, {\"year_month\": \"2022-04\", \"filter\": \"Protein Design\", \"count\": 602}, {\"year_month\": \"2023-08\", \"filter\": \"Protein Design\", \"count\": 1020}, {\"year_month\": \"2023-04\", \"filter\": \"Protein Design\", \"count\": 752}, {\"year_month\": \"2022-09\", \"filter\": \"Protein Design\", \"count\": 555}, {\"year_month\": \"2021-06\", \"filter\": \"Protein Design\", \"count\": 517}, {\"year_month\": \"2021-11\", \"filter\": \"Protein Design\", \"count\": 613}, {\"year_month\": \"2023-09\", \"filter\": \"Protein Design\", \"count\": 756}, {\"year_month\": \"2023-12\", \"filter\": \"Protein Design\", \"count\": 357}, {\"year_month\": \"2022-07\", \"filter\": \"Protein Design\", \"count\": 405}]}}, {\"mode\": \"vega-lite\"});\n",
       "</script>"
      ],
      "text/plain": [
       "\u001b[1;35malt.Chart\u001b[0m\u001b[1m(\u001b[0m\u001b[33m...\u001b[0m\u001b[1m)\u001b[0m"
      ]
     },
     "execution_count": 58,
     "metadata": {},
     "output_type": "execute_result"
    }
   ],
   "source": [
    "# Create the stacked bar chart\n",
    "chart = alt.Chart(grouped_data_counts).mark_bar(width=10).encode(\n",
    "    x=alt.X('year_month:T', title='Year-Month'),\n",
    "    y=alt.Y('count:Q', stack='normalize', title='Count'),\n",
    "    color=alt.Color('filter:N', scale=alt.Scale(scheme='category10')),\n",
    "    order=alt.Order('filter:N', sort='ascending'),\n",
    "    tooltip=['year_month', 'filter', alt.Tooltip('count', title='Count')]\n",
    ").properties(\n",
    "    width=600,\n",
    "    height=400,\n",
    "    title='Number of Citations by Patents per Month Since 2021'\n",
    ")\n",
    "\n",
    "chart"
   ]
  },
  {
   "cell_type": "code",
   "execution_count": null,
   "metadata": {},
   "outputs": [],
   "source": []
  }
 ],
 "metadata": {
  "kernelspec": {
   "display_name": ".igl_alphafold",
   "language": "python",
   "name": "python3"
  },
  "language_info": {
   "codemirror_mode": {
    "name": "ipython",
    "version": 3
   },
   "file_extension": ".py",
   "mimetype": "text/x-python",
   "name": "python",
   "nbconvert_exporter": "python",
   "pygments_lexer": "ipython3",
   "version": "3.11.5"
  }
 },
 "nbformat": 4,
 "nbformat_minor": 2
}
