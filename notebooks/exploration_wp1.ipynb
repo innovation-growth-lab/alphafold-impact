{
 "cells": [
  {
   "cell_type": "markdown",
   "metadata": {},
   "source": [
    "# Data Analysis WP1"
   ]
  },
  {
   "cell_type": "code",
   "execution_count": 1,
   "metadata": {},
   "outputs": [
    {
     "data": {
      "text/html": [
       "<pre style=\"white-space:pre;overflow-x:auto;line-height:normal;font-family:Menlo,'DejaVu Sans Mono',consolas,'Courier New',monospace\"><span style=\"color: #7fbfbf; text-decoration-color: #7fbfbf\">[04/05/24 10:08:36] </span><span style=\"color: #000080; text-decoration-color: #000080\">INFO    </span> Resolved project path as: <span style=\"color: #800080; text-decoration-color: #800080\">/home/dampudia/projects/</span><span style=\"color: #ff00ff; text-decoration-color: #ff00ff\">alphafold-impact.</span>    <a href=\"file:///home/dampudia/miniconda3/envs/.igl_alphafold/lib/python3.11/site-packages/kedro/ipython/__init__.py\" target=\"_blank\"><span style=\"color: #7f7f7f; text-decoration-color: #7f7f7f\">__init__.py</span></a><span style=\"color: #7f7f7f; text-decoration-color: #7f7f7f\">:</span><a href=\"file:///home/dampudia/miniconda3/envs/.igl_alphafold/lib/python3.11/site-packages/kedro/ipython/__init__.py#146\" target=\"_blank\"><span style=\"color: #7f7f7f; text-decoration-color: #7f7f7f\">146</span></a>\n",
       "<span style=\"color: #7fbfbf; text-decoration-color: #7fbfbf\">                    </span>         To set a different path, run <span style=\"color: #008000; text-decoration-color: #008000\">'%reload_kedro &lt;project_root&gt;'</span>            <span style=\"color: #7f7f7f; text-decoration-color: #7f7f7f\">               </span>\n",
       "</pre>\n"
      ],
      "text/plain": [
       "\u001b[2;36m[04/05/24 10:08:36]\u001b[0m\u001b[2;36m \u001b[0m\u001b[34mINFO    \u001b[0m Resolved project path as: \u001b[35m/home/dampudia/projects/\u001b[0m\u001b[95malphafold-impact.\u001b[0m    \u001b]8;id=18565;file:///home/dampudia/miniconda3/envs/.igl_alphafold/lib/python3.11/site-packages/kedro/ipython/__init__.py\u001b\\\u001b[2m__init__.py\u001b[0m\u001b]8;;\u001b\\\u001b[2m:\u001b[0m\u001b]8;id=944590;file:///home/dampudia/miniconda3/envs/.igl_alphafold/lib/python3.11/site-packages/kedro/ipython/__init__.py#146\u001b\\\u001b[2m146\u001b[0m\u001b]8;;\u001b\\\n",
       "\u001b[2;36m                    \u001b[0m         To set a different path, run \u001b[32m'%reload_kedro \u001b[0m\u001b[32m<\u001b[0m\u001b[32mproject_root\u001b[0m\u001b[32m>\u001b[0m\u001b[32m'\u001b[0m            \u001b[2m               \u001b[0m\n"
      ]
     },
     "metadata": {},
     "output_type": "display_data"
    },
    {
     "data": {
      "text/html": [
       "<pre style=\"white-space:pre;overflow-x:auto;line-height:normal;font-family:Menlo,'DejaVu Sans Mono',consolas,'Courier New',monospace\"><span style=\"color: #7fbfbf; text-decoration-color: #7fbfbf\">[04/05/24 10:08:37] </span><span style=\"color: #000080; text-decoration-color: #000080\">INFO    </span> Kedro project alphafold-impact                                         <a href=\"file:///home/dampudia/miniconda3/envs/.igl_alphafold/lib/python3.11/site-packages/kedro/ipython/__init__.py\" target=\"_blank\"><span style=\"color: #7f7f7f; text-decoration-color: #7f7f7f\">__init__.py</span></a><span style=\"color: #7f7f7f; text-decoration-color: #7f7f7f\">:</span><a href=\"file:///home/dampudia/miniconda3/envs/.igl_alphafold/lib/python3.11/site-packages/kedro/ipython/__init__.py#115\" target=\"_blank\"><span style=\"color: #7f7f7f; text-decoration-color: #7f7f7f\">115</span></a>\n",
       "</pre>\n"
      ],
      "text/plain": [
       "\u001b[2;36m[04/05/24 10:08:37]\u001b[0m\u001b[2;36m \u001b[0m\u001b[34mINFO    \u001b[0m Kedro project alphafold-impact                                         \u001b]8;id=941626;file:///home/dampudia/miniconda3/envs/.igl_alphafold/lib/python3.11/site-packages/kedro/ipython/__init__.py\u001b\\\u001b[2m__init__.py\u001b[0m\u001b]8;;\u001b\\\u001b[2m:\u001b[0m\u001b]8;id=306462;file:///home/dampudia/miniconda3/envs/.igl_alphafold/lib/python3.11/site-packages/kedro/ipython/__init__.py#115\u001b\\\u001b[2m115\u001b[0m\u001b]8;;\u001b\\\n"
      ]
     },
     "metadata": {},
     "output_type": "display_data"
    },
    {
     "data": {
      "text/html": [
       "<pre style=\"white-space:pre;overflow-x:auto;line-height:normal;font-family:Menlo,'DejaVu Sans Mono',consolas,'Courier New',monospace\"><span style=\"color: #7fbfbf; text-decoration-color: #7fbfbf\">                    </span><span style=\"color: #000080; text-decoration-color: #000080\">INFO    </span> Defined global variable <span style=\"color: #008000; text-decoration-color: #008000\">'context'</span>, <span style=\"color: #008000; text-decoration-color: #008000\">'session'</span>, <span style=\"color: #008000; text-decoration-color: #008000\">'catalog'</span> and            <a href=\"file:///home/dampudia/miniconda3/envs/.igl_alphafold/lib/python3.11/site-packages/kedro/ipython/__init__.py\" target=\"_blank\"><span style=\"color: #7f7f7f; text-decoration-color: #7f7f7f\">__init__.py</span></a><span style=\"color: #7f7f7f; text-decoration-color: #7f7f7f\">:</span><a href=\"file:///home/dampudia/miniconda3/envs/.igl_alphafold/lib/python3.11/site-packages/kedro/ipython/__init__.py#116\" target=\"_blank\"><span style=\"color: #7f7f7f; text-decoration-color: #7f7f7f\">116</span></a>\n",
       "<span style=\"color: #7fbfbf; text-decoration-color: #7fbfbf\">                    </span>         <span style=\"color: #008000; text-decoration-color: #008000\">'pipelines'</span>                                                            <span style=\"color: #7f7f7f; text-decoration-color: #7f7f7f\">               </span>\n",
       "</pre>\n"
      ],
      "text/plain": [
       "\u001b[2;36m                   \u001b[0m\u001b[2;36m \u001b[0m\u001b[34mINFO    \u001b[0m Defined global variable \u001b[32m'context'\u001b[0m, \u001b[32m'session'\u001b[0m, \u001b[32m'catalog'\u001b[0m and            \u001b]8;id=578090;file:///home/dampudia/miniconda3/envs/.igl_alphafold/lib/python3.11/site-packages/kedro/ipython/__init__.py\u001b\\\u001b[2m__init__.py\u001b[0m\u001b]8;;\u001b\\\u001b[2m:\u001b[0m\u001b]8;id=143171;file:///home/dampudia/miniconda3/envs/.igl_alphafold/lib/python3.11/site-packages/kedro/ipython/__init__.py#116\u001b\\\u001b[2m116\u001b[0m\u001b]8;;\u001b\\\n",
       "\u001b[2;36m                    \u001b[0m         \u001b[32m'pipelines'\u001b[0m                                                            \u001b[2m               \u001b[0m\n"
      ]
     },
     "metadata": {},
     "output_type": "display_data"
    },
    {
     "data": {
      "text/html": [
       "<pre style=\"white-space:pre;overflow-x:auto;line-height:normal;font-family:Menlo,'DejaVu Sans Mono',consolas,'Courier New',monospace\"><span style=\"color: #7fbfbf; text-decoration-color: #7fbfbf\">[04/05/24 10:08:38] </span><span style=\"color: #000080; text-decoration-color: #000080\">INFO    </span> Registered line magic <span style=\"color: #008000; text-decoration-color: #008000\">'run_viz'</span>                                        <a href=\"file:///home/dampudia/miniconda3/envs/.igl_alphafold/lib/python3.11/site-packages/kedro/ipython/__init__.py\" target=\"_blank\"><span style=\"color: #7f7f7f; text-decoration-color: #7f7f7f\">__init__.py</span></a><span style=\"color: #7f7f7f; text-decoration-color: #7f7f7f\">:</span><a href=\"file:///home/dampudia/miniconda3/envs/.igl_alphafold/lib/python3.11/site-packages/kedro/ipython/__init__.py#122\" target=\"_blank\"><span style=\"color: #7f7f7f; text-decoration-color: #7f7f7f\">122</span></a>\n",
       "</pre>\n"
      ],
      "text/plain": [
       "\u001b[2;36m[04/05/24 10:08:38]\u001b[0m\u001b[2;36m \u001b[0m\u001b[34mINFO    \u001b[0m Registered line magic \u001b[32m'run_viz'\u001b[0m                                        \u001b]8;id=991873;file:///home/dampudia/miniconda3/envs/.igl_alphafold/lib/python3.11/site-packages/kedro/ipython/__init__.py\u001b\\\u001b[2m__init__.py\u001b[0m\u001b]8;;\u001b\\\u001b[2m:\u001b[0m\u001b]8;id=232960;file:///home/dampudia/miniconda3/envs/.igl_alphafold/lib/python3.11/site-packages/kedro/ipython/__init__.py#122\u001b\\\u001b[2m122\u001b[0m\u001b]8;;\u001b\\\n"
      ]
     },
     "metadata": {},
     "output_type": "display_data"
    }
   ],
   "source": [
    "%load_ext kedro.ipython"
   ]
  },
  {
   "cell_type": "code",
   "execution_count": 2,
   "metadata": {},
   "outputs": [],
   "source": [
    "import pandas as pd\n",
    "import vl_convert as vlc\n",
    "import altair as alt"
   ]
  },
  {
   "cell_type": "code",
   "execution_count": 3,
   "metadata": {},
   "outputs": [],
   "source": [
    "from alphafold_impact.settings import SESSION_STORE_ARGS\n",
    "PATHDIR = SESSION_STORE_ARGS['path']"
   ]
  },
  {
   "cell_type": "code",
   "execution_count": 4,
   "metadata": {},
   "outputs": [
    {
     "data": {
      "text/html": [
       "<pre style=\"white-space:pre;overflow-x:auto;line-height:normal;font-family:Menlo,'DejaVu Sans Mono',consolas,'Courier New',monospace\"><span style=\"color: #7fbfbf; text-decoration-color: #7fbfbf\">[04/05/24 10:08:39] </span><span style=\"color: #000080; text-decoration-color: #000080\">INFO    </span> Loading data from <span style=\"color: #ff8700; text-decoration-color: #ff8700\">oa.data_processing.gtr.institutions</span>              <a href=\"file:///home/dampudia/miniconda3/envs/.igl_alphafold/lib/python3.11/site-packages/kedro/io/data_catalog.py\" target=\"_blank\"><span style=\"color: #7f7f7f; text-decoration-color: #7f7f7f\">data_catalog.py</span></a><span style=\"color: #7f7f7f; text-decoration-color: #7f7f7f\">:</span><a href=\"file:///home/dampudia/miniconda3/envs/.igl_alphafold/lib/python3.11/site-packages/kedro/io/data_catalog.py#482\" target=\"_blank\"><span style=\"color: #7f7f7f; text-decoration-color: #7f7f7f\">482</span></a>\n",
       "<span style=\"color: #7fbfbf; text-decoration-color: #7fbfbf\">                    </span>         <span style=\"font-weight: bold\">(</span>ParquetDataset<span style=\"font-weight: bold\">)</span><span style=\"color: #808000; text-decoration-color: #808000\">...</span>                                                <span style=\"color: #7f7f7f; text-decoration-color: #7f7f7f\">                   </span>\n",
       "</pre>\n"
      ],
      "text/plain": [
       "\u001b[2;36m[04/05/24 10:08:39]\u001b[0m\u001b[2;36m \u001b[0m\u001b[34mINFO    \u001b[0m Loading data from \u001b[38;5;208moa.data_processing.gtr.institutions\u001b[0m              \u001b]8;id=377581;file:///home/dampudia/miniconda3/envs/.igl_alphafold/lib/python3.11/site-packages/kedro/io/data_catalog.py\u001b\\\u001b[2mdata_catalog.py\u001b[0m\u001b]8;;\u001b\\\u001b[2m:\u001b[0m\u001b]8;id=315696;file:///home/dampudia/miniconda3/envs/.igl_alphafold/lib/python3.11/site-packages/kedro/io/data_catalog.py#482\u001b\\\u001b[2m482\u001b[0m\u001b]8;;\u001b\\\n",
       "\u001b[2;36m                    \u001b[0m         \u001b[1m(\u001b[0mParquetDataset\u001b[1m)\u001b[0m\u001b[33m...\u001b[0m                                                \u001b[2m                   \u001b[0m\n"
      ]
     },
     "metadata": {},
     "output_type": "display_data"
    }
   ],
   "source": [
    "# necessary to resolve location, not sure why.\n",
    "gtr_institutions = catalog.load(\"oa.data_processing.gtr.institutions\")\n",
    "del gtr_institutions"
   ]
  },
  {
   "cell_type": "markdown",
   "metadata": {},
   "source": [
    "### Mesh labels"
   ]
  },
  {
   "cell_type": "code",
   "execution_count": 5,
   "metadata": {},
   "outputs": [
    {
     "data": {
      "text/html": [
       "<pre style=\"white-space:pre;overflow-x:auto;line-height:normal;font-family:Menlo,'DejaVu Sans Mono',consolas,'Courier New',monospace\"><span style=\"color: #7fbfbf; text-decoration-color: #7fbfbf\">[04/05/24 10:08:45] </span><span style=\"color: #000080; text-decoration-color: #000080\">INFO    </span> Loading data from <span style=\"color: #ff8700; text-decoration-color: #ff8700\">nih.data_collection.mesh_terms</span> <span style=\"font-weight: bold\">(</span>CSVDataset<span style=\"font-weight: bold\">)</span><span style=\"color: #808000; text-decoration-color: #808000\">...</span>   <a href=\"file:///home/dampudia/miniconda3/envs/.igl_alphafold/lib/python3.11/site-packages/kedro/io/data_catalog.py\" target=\"_blank\"><span style=\"color: #7f7f7f; text-decoration-color: #7f7f7f\">data_catalog.py</span></a><span style=\"color: #7f7f7f; text-decoration-color: #7f7f7f\">:</span><a href=\"file:///home/dampudia/miniconda3/envs/.igl_alphafold/lib/python3.11/site-packages/kedro/io/data_catalog.py#482\" target=\"_blank\"><span style=\"color: #7f7f7f; text-decoration-color: #7f7f7f\">482</span></a>\n",
       "</pre>\n"
      ],
      "text/plain": [
       "\u001b[2;36m[04/05/24 10:08:45]\u001b[0m\u001b[2;36m \u001b[0m\u001b[34mINFO    \u001b[0m Loading data from \u001b[38;5;208mnih.data_collection.mesh_terms\u001b[0m \u001b[1m(\u001b[0mCSVDataset\u001b[1m)\u001b[0m\u001b[33m...\u001b[0m   \u001b]8;id=110991;file:///home/dampudia/miniconda3/envs/.igl_alphafold/lib/python3.11/site-packages/kedro/io/data_catalog.py\u001b\\\u001b[2mdata_catalog.py\u001b[0m\u001b]8;;\u001b\\\u001b[2m:\u001b[0m\u001b]8;id=761698;file:///home/dampudia/miniconda3/envs/.igl_alphafold/lib/python3.11/site-packages/kedro/io/data_catalog.py#482\u001b\\\u001b[2m482\u001b[0m\u001b]8;;\u001b\\\n"
      ]
     },
     "metadata": {},
     "output_type": "display_data"
    }
   ],
   "source": [
    "mesh_terms = catalog.load(\"nih.data_collection.mesh_terms\")"
   ]
  },
  {
   "cell_type": "code",
   "execution_count": 6,
   "metadata": {},
   "outputs": [],
   "source": [
    "# add labels to tree Diseases (C). These are\n",
    "disease_labels = {\n",
    "    \"C01\": \"Infections\",\n",
    "    \"C04\": \"Neoplasms\",\n",
    "    \"C05\": \"Musculoskeletal Diseases\",\n",
    "    \"C06\": \"Digestive System Diseases\",\n",
    "    \"C07\": \"Stomatognathic Diseases\",\n",
    "    \"C08\": \"Respiratory Tract Diseases\",\n",
    "    \"C09\": \"Otorhinolaryngologic Diseases\",\n",
    "    \"C10\": \"Nervous System Diseases\",\n",
    "    \"C11\": \"Eye Diseases\",\n",
    "    \"C12\": \"Urogenital Diseases\",\n",
    "    \"C14\": \"Cardiovascular Diseases\",\n",
    "    \"C15\": \"Hemic and Lymphatic Diseases\",\n",
    "    \"C16\": \"Congenital, Hereditary, and Neonatal Diseases and Abnormalities\",\n",
    "    \"C17\": \"Skin and Connective Tissue Diseases\",\n",
    "    \"C18\": \"Nutritional and Metabolic Diseases\",\n",
    "    \"C19\": \"Endocrine System Diseases\",\n",
    "    \"C20\": \"Immune System Diseases\",\n",
    "    \"C21\": \"Disorders of Environmental Origin\",\n",
    "    \"C22\": \"Animal Diseases\",\n",
    "    \"C23\": \"Pathological Conditions, Signs and Symptoms\",\n",
    "    \"C24\": \"Occupational Diseases\",\n",
    "    \"C25\": \"Substance-Related Disorders\",\n",
    "    \"C26\": \"Wounds and Injuries\"\n",
    "}\n",
    "\n",
    "# add column to mesh_terms dataframe with labels for \"mesh_tree\" values. These values are the full tree path for a given mesh term, so we care about the first two alphanumerics.\n",
    "mesh_terms[\"mesh_tree_label\"] = mesh_terms[\"tree_number\"].astype(str).apply(lambda x: disease_labels[x.split(\".\")[0]] if x.split(\".\")[0] in disease_labels else \"Other\")\n"
   ]
  },
  {
   "cell_type": "code",
   "execution_count": 7,
   "metadata": {},
   "outputs": [
    {
     "data": {
      "text/html": [
       "<pre style=\"white-space:pre;overflow-x:auto;line-height:normal;font-family:Menlo,'DejaVu Sans Mono',consolas,'Courier New',monospace\"></pre>\n"
      ],
      "text/plain": []
     },
     "metadata": {},
     "output_type": "display_data"
    },
    {
     "data": {
      "text/html": [
       "<div>\n",
       "<style scoped>\n",
       "    .dataframe tbody tr th:only-of-type {\n",
       "        vertical-align: middle;\n",
       "    }\n",
       "\n",
       "    .dataframe tbody tr th {\n",
       "        vertical-align: top;\n",
       "    }\n",
       "\n",
       "    .dataframe thead th {\n",
       "        text-align: right;\n",
       "    }\n",
       "</style>\n",
       "<table border=\"1\" class=\"dataframe\">\n",
       "  <thead>\n",
       "    <tr style=\"text-align: right;\">\n",
       "      <th></th>\n",
       "      <th>DUI</th>\n",
       "      <th>MeSH</th>\n",
       "      <th>tree_number</th>\n",
       "      <th>mesh_tree_label</th>\n",
       "    </tr>\n",
       "  </thead>\n",
       "  <tbody>\n",
       "    <tr>\n",
       "      <th>9336</th>\n",
       "      <td>D000086382</td>\n",
       "      <td>COVID-19</td>\n",
       "      <td>C01.748.610.763.500</td>\n",
       "      <td>Infections</td>\n",
       "    </tr>\n",
       "    <tr>\n",
       "      <th>9678</th>\n",
       "      <td>D000086382</td>\n",
       "      <td>COVID-19</td>\n",
       "      <td>C01.925.705.500</td>\n",
       "      <td>Infections</td>\n",
       "    </tr>\n",
       "    <tr>\n",
       "      <th>9772</th>\n",
       "      <td>D000086382</td>\n",
       "      <td>COVID-19</td>\n",
       "      <td>C01.925.782.600.550.200.163</td>\n",
       "      <td>Infections</td>\n",
       "    </tr>\n",
       "    <tr>\n",
       "      <th>12428</th>\n",
       "      <td>D000086382</td>\n",
       "      <td>COVID-19</td>\n",
       "      <td>C08.381.677.807.500</td>\n",
       "      <td>Respiratory Tract Diseases</td>\n",
       "    </tr>\n",
       "    <tr>\n",
       "      <th>12602</th>\n",
       "      <td>D000086382</td>\n",
       "      <td>COVID-19</td>\n",
       "      <td>C08.730.610.763.500</td>\n",
       "      <td>Respiratory Tract Diseases</td>\n",
       "    </tr>\n",
       "    <tr>\n",
       "      <th>42034</th>\n",
       "      <td>D000086663</td>\n",
       "      <td>COVID-19 Vaccines</td>\n",
       "      <td>D20.215.894.899.085</td>\n",
       "      <td>Other</td>\n",
       "    </tr>\n",
       "    <tr>\n",
       "      <th>44891</th>\n",
       "      <td>D000086742</td>\n",
       "      <td>COVID-19 Testing</td>\n",
       "      <td>E01.370.225.312</td>\n",
       "      <td>Other</td>\n",
       "    </tr>\n",
       "    <tr>\n",
       "      <th>44892</th>\n",
       "      <td>D000087124</td>\n",
       "      <td>COVID-19 Serological Testing</td>\n",
       "      <td>E01.370.225.312.250</td>\n",
       "      <td>Other</td>\n",
       "    </tr>\n",
       "    <tr>\n",
       "      <th>44893</th>\n",
       "      <td>D000087123</td>\n",
       "      <td>COVID-19 Nucleic Acid Testing</td>\n",
       "      <td>E01.370.225.312.500</td>\n",
       "      <td>Other</td>\n",
       "    </tr>\n",
       "    <tr>\n",
       "      <th>45093</th>\n",
       "      <td>D000087124</td>\n",
       "      <td>COVID-19 Serological Testing</td>\n",
       "      <td>E01.370.225.812.735.258</td>\n",
       "      <td>Other</td>\n",
       "    </tr>\n",
       "    <tr>\n",
       "      <th>48125</th>\n",
       "      <td>D000086742</td>\n",
       "      <td>COVID-19 Testing</td>\n",
       "      <td>E05.200.312</td>\n",
       "      <td>Other</td>\n",
       "    </tr>\n",
       "    <tr>\n",
       "      <th>48126</th>\n",
       "      <td>D000087124</td>\n",
       "      <td>COVID-19 Serological Testing</td>\n",
       "      <td>E05.200.312.250</td>\n",
       "      <td>Other</td>\n",
       "    </tr>\n",
       "    <tr>\n",
       "      <th>48127</th>\n",
       "      <td>D000087123</td>\n",
       "      <td>COVID-19 Nucleic Acid Testing</td>\n",
       "      <td>E05.200.312.500</td>\n",
       "      <td>Other</td>\n",
       "    </tr>\n",
       "    <tr>\n",
       "      <th>48338</th>\n",
       "      <td>D000087124</td>\n",
       "      <td>COVID-19 Serological Testing</td>\n",
       "      <td>E05.200.812.735.258</td>\n",
       "      <td>Other</td>\n",
       "    </tr>\n",
       "    <tr>\n",
       "      <th>49084</th>\n",
       "      <td>D000087124</td>\n",
       "      <td>COVID-19 Serological Testing</td>\n",
       "      <td>E05.478.594.760.258</td>\n",
       "      <td>Other</td>\n",
       "    </tr>\n",
       "  </tbody>\n",
       "</table>\n",
       "</div>"
      ],
      "text/plain": [
       "\n",
       "              DUI                           MeSH                  tree_number  \\\n",
       "\u001b[1;36m9336\u001b[0m   D000086382                       COVID-\u001b[1;36m19\u001b[0m          C\u001b[1;92m01.748.610.763\u001b[0m.\u001b[1;36m500\u001b[0m   \n",
       "\u001b[1;36m9678\u001b[0m   D000086382                       COVID-\u001b[1;36m19\u001b[0m              C\u001b[1;92m01.925.705.500\u001b[0m   \n",
       "\u001b[1;36m9772\u001b[0m   D000086382                       COVID-\u001b[1;36m19\u001b[0m  C\u001b[1;92m01.925.782.600\u001b[0m.\u001b[1;36m550.200\u001b[0m.\u001b[1;36m163\u001b[0m   \n",
       "\u001b[1;36m12428\u001b[0m  D000086382                       COVID-\u001b[1;36m19\u001b[0m          C\u001b[1;92m08.381.677.807\u001b[0m.\u001b[1;36m500\u001b[0m   \n",
       "\u001b[1;36m12602\u001b[0m  D000086382                       COVID-\u001b[1;36m19\u001b[0m          C\u001b[1;92m08.730.610.763\u001b[0m.\u001b[1;36m500\u001b[0m   \n",
       "\u001b[1;36m42034\u001b[0m  D000086663              COVID-\u001b[1;36m19\u001b[0m Vaccines          D\u001b[1;92m20.215.894.899\u001b[0m.\u001b[1;36m085\u001b[0m   \n",
       "\u001b[1;36m44891\u001b[0m  D000086742               COVID-\u001b[1;36m19\u001b[0m Testing              E\u001b[1;92m01.370.225.312\u001b[0m   \n",
       "\u001b[1;36m44892\u001b[0m  D000087124   COVID-\u001b[1;36m19\u001b[0m Serological Testing          E\u001b[1;92m01.370.225.312\u001b[0m.\u001b[1;36m250\u001b[0m   \n",
       "\u001b[1;36m44893\u001b[0m  D000087123  COVID-\u001b[1;36m19\u001b[0m Nucleic Acid Testing          E\u001b[1;92m01.370.225.312\u001b[0m.\u001b[1;36m500\u001b[0m   \n",
       "\u001b[1;36m45093\u001b[0m  D000087124   COVID-\u001b[1;36m19\u001b[0m Serological Testing      E\u001b[1;92m01.370.225.812\u001b[0m.\u001b[1;36m735.258\u001b[0m   \n",
       "\u001b[1;36m48125\u001b[0m  D000086742               COVID-\u001b[1;36m19\u001b[0m Testing                  E05.\u001b[1;36m200.312\u001b[0m   \n",
       "\u001b[1;36m48126\u001b[0m  D000087124   COVID-\u001b[1;36m19\u001b[0m Serological Testing              E\u001b[1;92m05.200.312.250\u001b[0m   \n",
       "\u001b[1;36m48127\u001b[0m  D000087123  COVID-\u001b[1;36m19\u001b[0m Nucleic Acid Testing              E\u001b[1;92m05.200.312.500\u001b[0m   \n",
       "\u001b[1;36m48338\u001b[0m  D000087124   COVID-\u001b[1;36m19\u001b[0m Serological Testing          E\u001b[1;92m05.200.812.735\u001b[0m.\u001b[1;36m258\u001b[0m   \n",
       "\u001b[1;36m49084\u001b[0m  D000087124   COVID-\u001b[1;36m19\u001b[0m Serological Testing          E\u001b[1;92m05.478.594.760\u001b[0m.\u001b[1;36m258\u001b[0m   \n",
       "\n",
       "                  mesh_tree_label  \n",
       "\u001b[1;36m9336\u001b[0m                   Infections  \n",
       "\u001b[1;36m9678\u001b[0m                   Infections  \n",
       "\u001b[1;36m9772\u001b[0m                   Infections  \n",
       "\u001b[1;36m12428\u001b[0m  Respiratory Tract Diseases  \n",
       "\u001b[1;36m12602\u001b[0m  Respiratory Tract Diseases  \n",
       "\u001b[1;36m42034\u001b[0m                       Other  \n",
       "\u001b[1;36m44891\u001b[0m                       Other  \n",
       "\u001b[1;36m44892\u001b[0m                       Other  \n",
       "\u001b[1;36m44893\u001b[0m                       Other  \n",
       "\u001b[1;36m45093\u001b[0m                       Other  \n",
       "\u001b[1;36m48125\u001b[0m                       Other  \n",
       "\u001b[1;36m48126\u001b[0m                       Other  \n",
       "\u001b[1;36m48127\u001b[0m                       Other  \n",
       "\u001b[1;36m48338\u001b[0m                       Other  \n",
       "\u001b[1;36m49084\u001b[0m                       Other  "
      ]
     },
     "execution_count": 7,
     "metadata": {},
     "output_type": "execute_result"
    }
   ],
   "source": [
    "mesh_terms.loc[mesh_terms.MeSH.str.contains(\"COVID\")]"
   ]
  },
  {
   "cell_type": "code",
   "execution_count": 8,
   "metadata": {},
   "outputs": [
    {
     "data": {
      "text/html": [
       "<pre style=\"white-space:pre;overflow-x:auto;line-height:normal;font-family:Menlo,'DejaVu Sans Mono',consolas,'Courier New',monospace\"></pre>\n"
      ],
      "text/plain": []
     },
     "metadata": {},
     "output_type": "display_data"
    },
    {
     "data": {
      "text/plain": [
       "\n",
       "mesh_tree_label\n",
       "Other                                                              \u001b[1;36m49569\u001b[0m\n",
       "Nervous System Diseases                                             \u001b[1;36m1474\u001b[0m\n",
       "Infections                                                          \u001b[1;36m1387\u001b[0m\n",
       "Congenital, Hereditary, and Neonatal Diseases and Abnormalities     \u001b[1;36m1183\u001b[0m\n",
       "Urogenital Diseases                                                 \u001b[1;36m1101\u001b[0m\n",
       "Neoplasms                                                           \u001b[1;36m1055\u001b[0m\n",
       "Pathological Conditions, Signs and Symptoms                         \u001b[1;36m1034\u001b[0m\n",
       "Cardiovascular Diseases                                              \u001b[1;36m679\u001b[0m\n",
       "Nutritional and Metabolic Diseases                                   \u001b[1;36m620\u001b[0m\n",
       "Skin and Connective Tissue Diseases                                  \u001b[1;36m541\u001b[0m\n",
       "Musculoskeletal Diseases                                             \u001b[1;36m528\u001b[0m\n",
       "Digestive System Diseases                                            \u001b[1;36m494\u001b[0m\n",
       "Hemic and Lymphatic Diseases                                         \u001b[1;36m391\u001b[0m\n",
       "Respiratory Tract Diseases                                           \u001b[1;36m382\u001b[0m\n",
       "Eye Diseases                                                         \u001b[1;36m356\u001b[0m\n",
       "Wounds and Injuries                                                  \u001b[1;36m309\u001b[0m\n",
       "Stomatognathic Diseases                                              \u001b[1;36m291\u001b[0m\n",
       "Immune System Diseases                                               \u001b[1;36m269\u001b[0m\n",
       "Endocrine System Diseases                                            \u001b[1;36m215\u001b[0m\n",
       "Animal Diseases                                                      \u001b[1;36m143\u001b[0m\n",
       "Otorhinolaryngologic Diseases                                        \u001b[1;36m142\u001b[0m\n",
       "Substance-Related Disorders                                          \u001b[1;36m127\u001b[0m\n",
       "Occupational Diseases                                                 \u001b[1;36m24\u001b[0m\n",
       "Disorders of Environmental Origin                                      \u001b[1;36m5\u001b[0m\n",
       "Name: count, dtype: int64"
      ]
     },
     "execution_count": 8,
     "metadata": {},
     "output_type": "execute_result"
    }
   ],
   "source": [
    "mesh_terms.mesh_tree_label.value_counts()"
   ]
  },
  {
   "cell_type": "markdown",
   "metadata": {},
   "source": [
    "### Alphafold data"
   ]
  },
  {
   "cell_type": "code",
   "execution_count": 9,
   "metadata": {},
   "outputs": [
    {
     "data": {
      "text/html": [
       "<pre style=\"white-space:pre;overflow-x:auto;line-height:normal;font-family:Menlo,'DejaVu Sans Mono',consolas,'Courier New',monospace\"><span style=\"color: #7fbfbf; text-decoration-color: #7fbfbf\">                    </span><span style=\"color: #000080; text-decoration-color: #000080\">INFO    </span> Loading data from <span style=\"color: #ff8700; text-decoration-color: #ff8700\">oa.data_processing.depth.no_mesh.</span><span style=\"color: #008080; text-decoration-color: #008080; font-weight: bold\">0.</span><span style=\"color: #ff8700; text-decoration-color: #ff8700\">intermediate</span>  <a href=\"file:///home/dampudia/miniconda3/envs/.igl_alphafold/lib/python3.11/site-packages/kedro/io/data_catalog.py\" target=\"_blank\"><span style=\"color: #7f7f7f; text-decoration-color: #7f7f7f\">data_catalog.py</span></a><span style=\"color: #7f7f7f; text-decoration-color: #7f7f7f\">:</span><a href=\"file:///home/dampudia/miniconda3/envs/.igl_alphafold/lib/python3.11/site-packages/kedro/io/data_catalog.py#482\" target=\"_blank\"><span style=\"color: #7f7f7f; text-decoration-color: #7f7f7f\">482</span></a>\n",
       "<span style=\"color: #7fbfbf; text-decoration-color: #7fbfbf\">                    </span>         <span style=\"font-weight: bold\">(</span>ParquetDataset<span style=\"font-weight: bold\">)</span><span style=\"color: #808000; text-decoration-color: #808000\">...</span>                                                <span style=\"color: #7f7f7f; text-decoration-color: #7f7f7f\">                   </span>\n",
       "</pre>\n"
      ],
      "text/plain": [
       "\u001b[2;36m                   \u001b[0m\u001b[2;36m \u001b[0m\u001b[34mINFO    \u001b[0m Loading data from \u001b[38;5;208moa.data_processing.depth.no_mesh.\u001b[0m\u001b[1;36m0.\u001b[0m\u001b[38;5;208mintermediate\u001b[0m  \u001b]8;id=325308;file:///home/dampudia/miniconda3/envs/.igl_alphafold/lib/python3.11/site-packages/kedro/io/data_catalog.py\u001b\\\u001b[2mdata_catalog.py\u001b[0m\u001b]8;;\u001b\\\u001b[2m:\u001b[0m\u001b]8;id=26721;file:///home/dampudia/miniconda3/envs/.igl_alphafold/lib/python3.11/site-packages/kedro/io/data_catalog.py#482\u001b\\\u001b[2m482\u001b[0m\u001b]8;;\u001b\\\n",
       "\u001b[2;36m                    \u001b[0m         \u001b[1m(\u001b[0mParquetDataset\u001b[1m)\u001b[0m\u001b[33m...\u001b[0m                                                \u001b[2m                   \u001b[0m\n"
      ]
     },
     "metadata": {},
     "output_type": "display_data"
    },
    {
     "data": {
      "text/html": [
       "<pre style=\"white-space:pre;overflow-x:auto;line-height:normal;font-family:Menlo,'DejaVu Sans Mono',consolas,'Courier New',monospace\"><span style=\"color: #7fbfbf; text-decoration-color: #7fbfbf\">[04/05/24 10:08:46] </span><span style=\"color: #000080; text-decoration-color: #000080\">INFO    </span> Loading data from <span style=\"color: #ff8700; text-decoration-color: #ff8700\">oa.data_processing.depth.no_mesh.</span><span style=\"color: #008080; text-decoration-color: #008080; font-weight: bold\">1.</span><span style=\"color: #ff8700; text-decoration-color: #ff8700\">intermediate</span>  <a href=\"file:///home/dampudia/miniconda3/envs/.igl_alphafold/lib/python3.11/site-packages/kedro/io/data_catalog.py\" target=\"_blank\"><span style=\"color: #7f7f7f; text-decoration-color: #7f7f7f\">data_catalog.py</span></a><span style=\"color: #7f7f7f; text-decoration-color: #7f7f7f\">:</span><a href=\"file:///home/dampudia/miniconda3/envs/.igl_alphafold/lib/python3.11/site-packages/kedro/io/data_catalog.py#482\" target=\"_blank\"><span style=\"color: #7f7f7f; text-decoration-color: #7f7f7f\">482</span></a>\n",
       "<span style=\"color: #7fbfbf; text-decoration-color: #7fbfbf\">                    </span>         <span style=\"font-weight: bold\">(</span>ParquetDataset<span style=\"font-weight: bold\">)</span><span style=\"color: #808000; text-decoration-color: #808000\">...</span>                                                <span style=\"color: #7f7f7f; text-decoration-color: #7f7f7f\">                   </span>\n",
       "</pre>\n"
      ],
      "text/plain": [
       "\u001b[2;36m[04/05/24 10:08:46]\u001b[0m\u001b[2;36m \u001b[0m\u001b[34mINFO    \u001b[0m Loading data from \u001b[38;5;208moa.data_processing.depth.no_mesh.\u001b[0m\u001b[1;36m1.\u001b[0m\u001b[38;5;208mintermediate\u001b[0m  \u001b]8;id=17103;file:///home/dampudia/miniconda3/envs/.igl_alphafold/lib/python3.11/site-packages/kedro/io/data_catalog.py\u001b\\\u001b[2mdata_catalog.py\u001b[0m\u001b]8;;\u001b\\\u001b[2m:\u001b[0m\u001b]8;id=838356;file:///home/dampudia/miniconda3/envs/.igl_alphafold/lib/python3.11/site-packages/kedro/io/data_catalog.py#482\u001b\\\u001b[2m482\u001b[0m\u001b]8;;\u001b\\\n",
       "\u001b[2;36m                    \u001b[0m         \u001b[1m(\u001b[0mParquetDataset\u001b[1m)\u001b[0m\u001b[33m...\u001b[0m                                                \u001b[2m                   \u001b[0m\n"
      ]
     },
     "metadata": {},
     "output_type": "display_data"
    },
    {
     "data": {
      "text/html": [
       "<pre style=\"white-space:pre;overflow-x:auto;line-height:normal;font-family:Menlo,'DejaVu Sans Mono',consolas,'Courier New',monospace\"><span style=\"color: #7fbfbf; text-decoration-color: #7fbfbf\">[04/05/24 10:08:48] </span><span style=\"color: #000080; text-decoration-color: #000080\">INFO    </span> Loading data from <span style=\"color: #ff8700; text-decoration-color: #ff8700\">oa.data_processing.depth.no_mesh.</span><span style=\"color: #008080; text-decoration-color: #008080; font-weight: bold\">2.</span><span style=\"color: #ff8700; text-decoration-color: #ff8700\">intermediate</span>  <a href=\"file:///home/dampudia/miniconda3/envs/.igl_alphafold/lib/python3.11/site-packages/kedro/io/data_catalog.py\" target=\"_blank\"><span style=\"color: #7f7f7f; text-decoration-color: #7f7f7f\">data_catalog.py</span></a><span style=\"color: #7f7f7f; text-decoration-color: #7f7f7f\">:</span><a href=\"file:///home/dampudia/miniconda3/envs/.igl_alphafold/lib/python3.11/site-packages/kedro/io/data_catalog.py#482\" target=\"_blank\"><span style=\"color: #7f7f7f; text-decoration-color: #7f7f7f\">482</span></a>\n",
       "<span style=\"color: #7fbfbf; text-decoration-color: #7fbfbf\">                    </span>         <span style=\"font-weight: bold\">(</span>ParquetDataset<span style=\"font-weight: bold\">)</span><span style=\"color: #808000; text-decoration-color: #808000\">...</span>                                                <span style=\"color: #7f7f7f; text-decoration-color: #7f7f7f\">                   </span>\n",
       "</pre>\n"
      ],
      "text/plain": [
       "\u001b[2;36m[04/05/24 10:08:48]\u001b[0m\u001b[2;36m \u001b[0m\u001b[34mINFO    \u001b[0m Loading data from \u001b[38;5;208moa.data_processing.depth.no_mesh.\u001b[0m\u001b[1;36m2.\u001b[0m\u001b[38;5;208mintermediate\u001b[0m  \u001b]8;id=362082;file:///home/dampudia/miniconda3/envs/.igl_alphafold/lib/python3.11/site-packages/kedro/io/data_catalog.py\u001b\\\u001b[2mdata_catalog.py\u001b[0m\u001b]8;;\u001b\\\u001b[2m:\u001b[0m\u001b]8;id=276606;file:///home/dampudia/miniconda3/envs/.igl_alphafold/lib/python3.11/site-packages/kedro/io/data_catalog.py#482\u001b\\\u001b[2m482\u001b[0m\u001b]8;;\u001b\\\n",
       "\u001b[2;36m                    \u001b[0m         \u001b[1m(\u001b[0mParquetDataset\u001b[1m)\u001b[0m\u001b[33m...\u001b[0m                                                \u001b[2m                   \u001b[0m\n"
      ]
     },
     "metadata": {},
     "output_type": "display_data"
    },
    {
     "data": {
      "text/html": [
       "<pre style=\"white-space:pre;overflow-x:auto;line-height:normal;font-family:Menlo,'DejaVu Sans Mono',consolas,'Courier New',monospace\"><span style=\"color: #7fbfbf; text-decoration-color: #7fbfbf\">[04/05/24 10:08:53] </span><span style=\"color: #000080; text-decoration-color: #000080\">INFO    </span> Loading data from <span style=\"color: #ff8700; text-decoration-color: #ff8700\">oa.data_processing.depth.no_mesh.</span><span style=\"color: #008080; text-decoration-color: #008080; font-weight: bold\">3.</span><span style=\"color: #ff8700; text-decoration-color: #ff8700\">intermediate</span>  <a href=\"file:///home/dampudia/miniconda3/envs/.igl_alphafold/lib/python3.11/site-packages/kedro/io/data_catalog.py\" target=\"_blank\"><span style=\"color: #7f7f7f; text-decoration-color: #7f7f7f\">data_catalog.py</span></a><span style=\"color: #7f7f7f; text-decoration-color: #7f7f7f\">:</span><a href=\"file:///home/dampudia/miniconda3/envs/.igl_alphafold/lib/python3.11/site-packages/kedro/io/data_catalog.py#482\" target=\"_blank\"><span style=\"color: #7f7f7f; text-decoration-color: #7f7f7f\">482</span></a>\n",
       "<span style=\"color: #7fbfbf; text-decoration-color: #7fbfbf\">                    </span>         <span style=\"font-weight: bold\">(</span>ParquetDataset<span style=\"font-weight: bold\">)</span><span style=\"color: #808000; text-decoration-color: #808000\">...</span>                                                <span style=\"color: #7f7f7f; text-decoration-color: #7f7f7f\">                   </span>\n",
       "</pre>\n"
      ],
      "text/plain": [
       "\u001b[2;36m[04/05/24 10:08:53]\u001b[0m\u001b[2;36m \u001b[0m\u001b[34mINFO    \u001b[0m Loading data from \u001b[38;5;208moa.data_processing.depth.no_mesh.\u001b[0m\u001b[1;36m3.\u001b[0m\u001b[38;5;208mintermediate\u001b[0m  \u001b]8;id=902143;file:///home/dampudia/miniconda3/envs/.igl_alphafold/lib/python3.11/site-packages/kedro/io/data_catalog.py\u001b\\\u001b[2mdata_catalog.py\u001b[0m\u001b]8;;\u001b\\\u001b[2m:\u001b[0m\u001b]8;id=390570;file:///home/dampudia/miniconda3/envs/.igl_alphafold/lib/python3.11/site-packages/kedro/io/data_catalog.py#482\u001b\\\u001b[2m482\u001b[0m\u001b]8;;\u001b\\\n",
       "\u001b[2;36m                    \u001b[0m         \u001b[1m(\u001b[0mParquetDataset\u001b[1m)\u001b[0m\u001b[33m...\u001b[0m                                                \u001b[2m                   \u001b[0m\n"
      ]
     },
     "metadata": {},
     "output_type": "display_data"
    }
   ],
   "source": [
    "level_0_primary = catalog.load(\"oa.data_processing.depth.no_mesh.0.intermediate\")\n",
    "level_1_primary = catalog.load(\"oa.data_processing.depth.no_mesh.1.intermediate\")\n",
    "level_2_primary = catalog.load(\"oa.data_processing.depth.no_mesh.2.intermediate\")\n",
    "level_3_primary = catalog.load(\"oa.data_processing.depth.no_mesh.3.intermediate\")"
   ]
  },
  {
   "cell_type": "code",
   "execution_count": 10,
   "metadata": {},
   "outputs": [],
   "source": [
    "# concat level data\n",
    "alphafold_oa_data = pd.concat([level_0_primary, level_1_primary, level_2_primary, level_3_primary], axis=0)"
   ]
  },
  {
   "cell_type": "code",
   "execution_count": 11,
   "metadata": {},
   "outputs": [],
   "source": [
    "alphafold_oa_data.to_parquet(\"main.parquet\")"
   ]
  },
  {
   "cell_type": "code",
   "execution_count": 12,
   "metadata": {},
   "outputs": [
    {
     "data": {
      "text/html": [
       "<pre style=\"white-space:pre;overflow-x:auto;line-height:normal;font-family:Menlo,'DejaVu Sans Mono',consolas,'Courier New',monospace\"><span style=\"color: #7fbfbf; text-decoration-color: #7fbfbf\">[04/05/24 10:09:06] </span><span style=\"color: #000080; text-decoration-color: #000080\">INFO    </span> Loading data from <span style=\"color: #ff8700; text-decoration-color: #ff8700\">oa.data_processing.depth.level.</span><span style=\"color: #008080; text-decoration-color: #008080; font-weight: bold\">0.</span><span style=\"color: #ff8700; text-decoration-color: #ff8700\">primary</span>         <a href=\"file:///home/dampudia/miniconda3/envs/.igl_alphafold/lib/python3.11/site-packages/kedro/io/data_catalog.py\" target=\"_blank\"><span style=\"color: #7f7f7f; text-decoration-color: #7f7f7f\">data_catalog.py</span></a><span style=\"color: #7f7f7f; text-decoration-color: #7f7f7f\">:</span><a href=\"file:///home/dampudia/miniconda3/envs/.igl_alphafold/lib/python3.11/site-packages/kedro/io/data_catalog.py#482\" target=\"_blank\"><span style=\"color: #7f7f7f; text-decoration-color: #7f7f7f\">482</span></a>\n",
       "<span style=\"color: #7fbfbf; text-decoration-color: #7fbfbf\">                    </span>         <span style=\"font-weight: bold\">(</span>ParquetDataset<span style=\"font-weight: bold\">)</span><span style=\"color: #808000; text-decoration-color: #808000\">...</span>                                                <span style=\"color: #7f7f7f; text-decoration-color: #7f7f7f\">                   </span>\n",
       "</pre>\n"
      ],
      "text/plain": [
       "\u001b[2;36m[04/05/24 10:09:06]\u001b[0m\u001b[2;36m \u001b[0m\u001b[34mINFO    \u001b[0m Loading data from \u001b[38;5;208moa.data_processing.depth.level.\u001b[0m\u001b[1;36m0.\u001b[0m\u001b[38;5;208mprimary\u001b[0m         \u001b]8;id=1789;file:///home/dampudia/miniconda3/envs/.igl_alphafold/lib/python3.11/site-packages/kedro/io/data_catalog.py\u001b\\\u001b[2mdata_catalog.py\u001b[0m\u001b]8;;\u001b\\\u001b[2m:\u001b[0m\u001b]8;id=44176;file:///home/dampudia/miniconda3/envs/.igl_alphafold/lib/python3.11/site-packages/kedro/io/data_catalog.py#482\u001b\\\u001b[2m482\u001b[0m\u001b]8;;\u001b\\\n",
       "\u001b[2;36m                    \u001b[0m         \u001b[1m(\u001b[0mParquetDataset\u001b[1m)\u001b[0m\u001b[33m...\u001b[0m                                                \u001b[2m                   \u001b[0m\n"
      ]
     },
     "metadata": {},
     "output_type": "display_data"
    },
    {
     "data": {
      "text/html": [
       "<pre style=\"white-space:pre;overflow-x:auto;line-height:normal;font-family:Menlo,'DejaVu Sans Mono',consolas,'Courier New',monospace\"><span style=\"color: #7fbfbf; text-decoration-color: #7fbfbf\">                    </span><span style=\"color: #000080; text-decoration-color: #000080\">INFO    </span> Loading data from <span style=\"color: #ff8700; text-decoration-color: #ff8700\">oa.data_processing.depth.level.</span><span style=\"color: #008080; text-decoration-color: #008080; font-weight: bold\">1.</span><span style=\"color: #ff8700; text-decoration-color: #ff8700\">primary</span>         <a href=\"file:///home/dampudia/miniconda3/envs/.igl_alphafold/lib/python3.11/site-packages/kedro/io/data_catalog.py\" target=\"_blank\"><span style=\"color: #7f7f7f; text-decoration-color: #7f7f7f\">data_catalog.py</span></a><span style=\"color: #7f7f7f; text-decoration-color: #7f7f7f\">:</span><a href=\"file:///home/dampudia/miniconda3/envs/.igl_alphafold/lib/python3.11/site-packages/kedro/io/data_catalog.py#482\" target=\"_blank\"><span style=\"color: #7f7f7f; text-decoration-color: #7f7f7f\">482</span></a>\n",
       "<span style=\"color: #7fbfbf; text-decoration-color: #7fbfbf\">                    </span>         <span style=\"font-weight: bold\">(</span>ParquetDataset<span style=\"font-weight: bold\">)</span><span style=\"color: #808000; text-decoration-color: #808000\">...</span>                                                <span style=\"color: #7f7f7f; text-decoration-color: #7f7f7f\">                   </span>\n",
       "</pre>\n"
      ],
      "text/plain": [
       "\u001b[2;36m                   \u001b[0m\u001b[2;36m \u001b[0m\u001b[34mINFO    \u001b[0m Loading data from \u001b[38;5;208moa.data_processing.depth.level.\u001b[0m\u001b[1;36m1.\u001b[0m\u001b[38;5;208mprimary\u001b[0m         \u001b]8;id=492649;file:///home/dampudia/miniconda3/envs/.igl_alphafold/lib/python3.11/site-packages/kedro/io/data_catalog.py\u001b\\\u001b[2mdata_catalog.py\u001b[0m\u001b]8;;\u001b\\\u001b[2m:\u001b[0m\u001b]8;id=721668;file:///home/dampudia/miniconda3/envs/.igl_alphafold/lib/python3.11/site-packages/kedro/io/data_catalog.py#482\u001b\\\u001b[2m482\u001b[0m\u001b]8;;\u001b\\\n",
       "\u001b[2;36m                    \u001b[0m         \u001b[1m(\u001b[0mParquetDataset\u001b[1m)\u001b[0m\u001b[33m...\u001b[0m                                                \u001b[2m                   \u001b[0m\n"
      ]
     },
     "metadata": {},
     "output_type": "display_data"
    },
    {
     "data": {
      "text/html": [
       "<pre style=\"white-space:pre;overflow-x:auto;line-height:normal;font-family:Menlo,'DejaVu Sans Mono',consolas,'Courier New',monospace\"><span style=\"color: #7fbfbf; text-decoration-color: #7fbfbf\">[04/05/24 10:09:08] </span><span style=\"color: #000080; text-decoration-color: #000080\">INFO    </span> Loading data from <span style=\"color: #ff8700; text-decoration-color: #ff8700\">oa.data_processing.depth.level.</span><span style=\"color: #008080; text-decoration-color: #008080; font-weight: bold\">2.</span><span style=\"color: #ff8700; text-decoration-color: #ff8700\">primary</span>         <a href=\"file:///home/dampudia/miniconda3/envs/.igl_alphafold/lib/python3.11/site-packages/kedro/io/data_catalog.py\" target=\"_blank\"><span style=\"color: #7f7f7f; text-decoration-color: #7f7f7f\">data_catalog.py</span></a><span style=\"color: #7f7f7f; text-decoration-color: #7f7f7f\">:</span><a href=\"file:///home/dampudia/miniconda3/envs/.igl_alphafold/lib/python3.11/site-packages/kedro/io/data_catalog.py#482\" target=\"_blank\"><span style=\"color: #7f7f7f; text-decoration-color: #7f7f7f\">482</span></a>\n",
       "<span style=\"color: #7fbfbf; text-decoration-color: #7fbfbf\">                    </span>         <span style=\"font-weight: bold\">(</span>ParquetDataset<span style=\"font-weight: bold\">)</span><span style=\"color: #808000; text-decoration-color: #808000\">...</span>                                                <span style=\"color: #7f7f7f; text-decoration-color: #7f7f7f\">                   </span>\n",
       "</pre>\n"
      ],
      "text/plain": [
       "\u001b[2;36m[04/05/24 10:09:08]\u001b[0m\u001b[2;36m \u001b[0m\u001b[34mINFO    \u001b[0m Loading data from \u001b[38;5;208moa.data_processing.depth.level.\u001b[0m\u001b[1;36m2.\u001b[0m\u001b[38;5;208mprimary\u001b[0m         \u001b]8;id=955561;file:///home/dampudia/miniconda3/envs/.igl_alphafold/lib/python3.11/site-packages/kedro/io/data_catalog.py\u001b\\\u001b[2mdata_catalog.py\u001b[0m\u001b]8;;\u001b\\\u001b[2m:\u001b[0m\u001b]8;id=744169;file:///home/dampudia/miniconda3/envs/.igl_alphafold/lib/python3.11/site-packages/kedro/io/data_catalog.py#482\u001b\\\u001b[2m482\u001b[0m\u001b]8;;\u001b\\\n",
       "\u001b[2;36m                    \u001b[0m         \u001b[1m(\u001b[0mParquetDataset\u001b[1m)\u001b[0m\u001b[33m...\u001b[0m                                                \u001b[2m                   \u001b[0m\n"
      ]
     },
     "metadata": {},
     "output_type": "display_data"
    },
    {
     "data": {
      "text/html": [
       "<pre style=\"white-space:pre;overflow-x:auto;line-height:normal;font-family:Menlo,'DejaVu Sans Mono',consolas,'Courier New',monospace\"><span style=\"color: #7fbfbf; text-decoration-color: #7fbfbf\">[04/05/24 10:09:12] </span><span style=\"color: #000080; text-decoration-color: #000080\">INFO    </span> Loading data from <span style=\"color: #ff8700; text-decoration-color: #ff8700\">oa.data_processing.depth.level.</span><span style=\"color: #008080; text-decoration-color: #008080; font-weight: bold\">3.</span><span style=\"color: #ff8700; text-decoration-color: #ff8700\">primary</span>         <a href=\"file:///home/dampudia/miniconda3/envs/.igl_alphafold/lib/python3.11/site-packages/kedro/io/data_catalog.py\" target=\"_blank\"><span style=\"color: #7f7f7f; text-decoration-color: #7f7f7f\">data_catalog.py</span></a><span style=\"color: #7f7f7f; text-decoration-color: #7f7f7f\">:</span><a href=\"file:///home/dampudia/miniconda3/envs/.igl_alphafold/lib/python3.11/site-packages/kedro/io/data_catalog.py#482\" target=\"_blank\"><span style=\"color: #7f7f7f; text-decoration-color: #7f7f7f\">482</span></a>\n",
       "<span style=\"color: #7fbfbf; text-decoration-color: #7fbfbf\">                    </span>         <span style=\"font-weight: bold\">(</span>ParquetDataset<span style=\"font-weight: bold\">)</span><span style=\"color: #808000; text-decoration-color: #808000\">...</span>                                                <span style=\"color: #7f7f7f; text-decoration-color: #7f7f7f\">                   </span>\n",
       "</pre>\n"
      ],
      "text/plain": [
       "\u001b[2;36m[04/05/24 10:09:12]\u001b[0m\u001b[2;36m \u001b[0m\u001b[34mINFO    \u001b[0m Loading data from \u001b[38;5;208moa.data_processing.depth.level.\u001b[0m\u001b[1;36m3.\u001b[0m\u001b[38;5;208mprimary\u001b[0m         \u001b]8;id=47781;file:///home/dampudia/miniconda3/envs/.igl_alphafold/lib/python3.11/site-packages/kedro/io/data_catalog.py\u001b\\\u001b[2mdata_catalog.py\u001b[0m\u001b]8;;\u001b\\\u001b[2m:\u001b[0m\u001b]8;id=416298;file:///home/dampudia/miniconda3/envs/.igl_alphafold/lib/python3.11/site-packages/kedro/io/data_catalog.py#482\u001b\\\u001b[2m482\u001b[0m\u001b]8;;\u001b\\\n",
       "\u001b[2;36m                    \u001b[0m         \u001b[1m(\u001b[0mParquetDataset\u001b[1m)\u001b[0m\u001b[33m...\u001b[0m                                                \u001b[2m                   \u001b[0m\n"
      ]
     },
     "metadata": {},
     "output_type": "display_data"
    }
   ],
   "source": [
    "level_0_primary = catalog.load(\"oa.data_processing.depth.level.0.primary\")\n",
    "level_1_primary = catalog.load(\"oa.data_processing.depth.level.1.primary\")\n",
    "level_2_primary = catalog.load(\"oa.data_processing.depth.level.2.primary\")\n",
    "level_3_primary = catalog.load(\"oa.data_processing.depth.level.3.primary\")"
   ]
  },
  {
   "cell_type": "code",
   "execution_count": 13,
   "metadata": {},
   "outputs": [],
   "source": [
    "# concat level data\n",
    "alphafold_oa_data = pd.concat([level_0_primary, level_1_primary, level_2_primary, level_3_primary], axis=0)"
   ]
  },
  {
   "cell_type": "code",
   "execution_count": 14,
   "metadata": {},
   "outputs": [],
   "source": [
    "alphafold_oa_data_bs = alphafold_oa_data.copy()"
   ]
  },
  {
   "cell_type": "code",
   "execution_count": 15,
   "metadata": {},
   "outputs": [],
   "source": [
    "alphafold_oa_data = alphafold_oa_data.sort_values([\"level\", \"id\"], ascending=True).drop_duplicates([\"id\"], keep=\"first\").reset_index(drop=True)"
   ]
  },
  {
   "cell_type": "code",
   "execution_count": 16,
   "metadata": {},
   "outputs": [],
   "source": [
    "from plot_utils import UpSetAltair\n",
    "\n",
    "af_upset_data = alphafold_oa_data.copy()\n",
    "\n",
    "#  transform the level column, which currently takes values between 0 and 3, to four binary columns\n",
    "#  for each level, where 1 indicates that the level is present in the row.\n",
    "for i in range(4):\n",
    "    af_upset_data[f\"level_{i}\"] = (af_upset_data[\"level\"] == i).astype(int)\n",
    "\n",
    "# also create 0 and 1 for whether mesh_terms are present\n",
    "af_upset_data[\"mesh_terms\"] = af_upset_data[\"mesh_terms\"].notnull().astype(int)\n",
    "\n",
    "# also do it for strength\n",
    "af_upset_data[\"strength\"] = af_upset_data[\"strength\"].notnull().astype(int)\n",
    "\n",
    "upset_chart = UpSetAltair(\n",
    "    data=af_upset_data,\n",
    "    title=\"Counts of articles that leverage AlphaFold\",\n",
    "    sets=[\"level_0\", \"level_1\", \"level_2\", \"level_3\", \"mesh_terms\", \"strength\"],\n",
    "    abbre=[\"L0\", \"L1\", \"L2\", \"L3\", \"Msh\", \"Str\"],\n",
    "    sort_by=\"degree\",\n",
    "    sort_order=\"levels\",\n",
    ")\n",
    "\n",
    "\n",
    "png_str = vlc.vegalite_to_png(vl_spec=upset_chart.to_json(), scale=3)\n",
    "\n",
    "with open(\n",
    "    f\"{PATHDIR}/data/08_reporting/wp1/00_upset.png\", \"wb\"\n",
    ") as f:\n",
    "    f.write(png_str)"
   ]
  },
  {
   "cell_type": "code",
   "execution_count": 17,
   "metadata": {},
   "outputs": [],
   "source": [
    "def process_dataframe(df, mesh_terms_df, dup_cols):\n",
    "    # explode mesh_terms\n",
    "    df = df.explode(\"mesh_terms\")\n",
    "\n",
    "    # keep non-null values\n",
    "    df = df[df[\"mesh_terms\"].notnull()]\n",
    "\n",
    "    # create two columns from the two-item lists\n",
    "    df[\"mesh_terms_dui\"] = df[\"mesh_terms\"].apply(lambda x: x[0])\n",
    "    df[\"mesh_terms_label\"] = df[\"mesh_terms\"].apply(lambda x: x[1])\n",
    "\n",
    "    # drop the lists column\n",
    "    df.drop(columns=[\"mesh_terms\"], inplace=True)\n",
    "\n",
    "    # map the mesh_terms_dui of the df to the DUI column of the mesh_terms dataframe\n",
    "    df = df.merge(mesh_terms_df[[\"DUI\", \"tree_number\", \"mesh_tree_label\"]], left_on=\"mesh_terms_dui\", right_on=\"DUI\", how=\"left\")\n",
    "\n",
    "    # drop duplicates of id, mesh_terms_dui\n",
    "    df.drop_duplicates(subset=dup_cols, inplace=True)\n",
    "\n",
    "    # reset index\n",
    "    df.reset_index(drop=True, inplace=True)\n",
    "\n",
    "    return df"
   ]
  },
  {
   "cell_type": "code",
   "execution_count": 18,
   "metadata": {},
   "outputs": [],
   "source": [
    "alphafold_oa_mesh_data = process_dataframe(alphafold_oa_data, mesh_terms, dup_cols = [\"id\", \"level\", \"mesh_terms_dui\", \"mesh_tree_label\"])"
   ]
  },
  {
   "cell_type": "code",
   "execution_count": 19,
   "metadata": {},
   "outputs": [
    {
     "data": {
      "text/html": [
       "<pre style=\"white-space:pre;overflow-x:auto;line-height:normal;font-family:Menlo,'DejaVu Sans Mono',consolas,'Courier New',monospace\"></pre>\n"
      ],
      "text/plain": []
     },
     "metadata": {},
     "output_type": "display_data"
    },
    {
     "data": {
      "text/plain": [
       "\n",
       "mesh_tree_label\n",
       "Other                                                              \u001b[1;36m512806\u001b[0m\n",
       "Infections                                                          \u001b[1;36m23356\u001b[0m\n",
       "Respiratory Tract Diseases                                          \u001b[1;36m18851\u001b[0m\n",
       "Neoplasms                                                           \u001b[1;36m13189\u001b[0m\n",
       "Pathological Conditions, Signs and Symptoms                         \u001b[1;36m11263\u001b[0m\n",
       "Nervous System Diseases                                              \u001b[1;36m7497\u001b[0m\n",
       "Digestive System Diseases                                            \u001b[1;36m4230\u001b[0m\n",
       "Nutritional and Metabolic Diseases                                   \u001b[1;36m3516\u001b[0m\n",
       "Cardiovascular Diseases                                              \u001b[1;36m3271\u001b[0m\n",
       "Urogenital Diseases                                                  \u001b[1;36m3210\u001b[0m\n",
       "Immune System Diseases                                               \u001b[1;36m3136\u001b[0m\n",
       "Skin and Connective Tissue Diseases                                  \u001b[1;36m2294\u001b[0m\n",
       "Endocrine System Diseases                                            \u001b[1;36m2274\u001b[0m\n",
       "Congenital, Hereditary, and Neonatal Diseases and Abnormalities      \u001b[1;36m2118\u001b[0m\n",
       "Animal Diseases                                                      \u001b[1;36m1947\u001b[0m\n",
       "Musculoskeletal Diseases                                             \u001b[1;36m1628\u001b[0m\n",
       "Hemic and Lymphatic Diseases                                         \u001b[1;36m1491\u001b[0m\n",
       "Eye Diseases                                                          \u001b[1;36m879\u001b[0m\n",
       "Substance-Related Disorders                                           \u001b[1;36m502\u001b[0m\n",
       "Stomatognathic Diseases                                               \u001b[1;36m481\u001b[0m\n",
       "Wounds and Injuries                                                   \u001b[1;36m476\u001b[0m\n",
       "Otorhinolaryngologic Diseases                                         \u001b[1;36m422\u001b[0m\n",
       "Occupational Diseases                                                  \u001b[1;36m35\u001b[0m\n",
       "Name: count, dtype: int64"
      ]
     },
     "execution_count": 19,
     "metadata": {},
     "output_type": "execute_result"
    }
   ],
   "source": [
    "alphafold_oa_mesh_data.mesh_tree_label.value_counts()"
   ]
  },
  {
   "cell_type": "code",
   "execution_count": 20,
   "metadata": {},
   "outputs": [
    {
     "data": {
      "text/html": [
       "<pre style=\"white-space:pre;overflow-x:auto;line-height:normal;font-family:Menlo,'DejaVu Sans Mono',consolas,'Courier New',monospace\"></pre>\n"
      ],
      "text/plain": []
     },
     "metadata": {},
     "output_type": "display_data"
    },
    {
     "data": {
      "text/html": [
       "<div>\n",
       "<style scoped>\n",
       "    .dataframe tbody tr th:only-of-type {\n",
       "        vertical-align: middle;\n",
       "    }\n",
       "\n",
       "    .dataframe tbody tr th {\n",
       "        vertical-align: top;\n",
       "    }\n",
       "\n",
       "    .dataframe thead th {\n",
       "        text-align: right;\n",
       "    }\n",
       "</style>\n",
       "<table border=\"1\" class=\"dataframe\">\n",
       "  <thead>\n",
       "    <tr style=\"text-align: right;\">\n",
       "      <th></th>\n",
       "      <th>parent_id</th>\n",
       "      <th>id</th>\n",
       "      <th>pmid</th>\n",
       "      <th>parent_doi</th>\n",
       "      <th>doi</th>\n",
       "      <th>level</th>\n",
       "      <th>publication_date</th>\n",
       "      <th>strength</th>\n",
       "      <th>cited_by_count</th>\n",
       "      <th>authorships</th>\n",
       "      <th>mesh_terms_dui</th>\n",
       "      <th>mesh_terms_label</th>\n",
       "      <th>DUI</th>\n",
       "      <th>tree_number</th>\n",
       "      <th>mesh_tree_label</th>\n",
       "    </tr>\n",
       "  </thead>\n",
       "  <tbody>\n",
       "    <tr>\n",
       "      <th>0</th>\n",
       "      <td>W3177828909</td>\n",
       "      <td>W3128673971</td>\n",
       "      <td>35594413</td>\n",
       "      <td>10.1038/s41586-021-03819-2</td>\n",
       "      <td>10.1021/acs.chemrev.1c00965</td>\n",
       "      <td>0</td>\n",
       "      <td>2022-05-20</td>\n",
       "      <td>None</td>\n",
       "      <td>40</td>\n",
       "      <td>[[A5041748565, , first], [A5028153158, , middl...</td>\n",
       "      <td>D000086382</td>\n",
       "      <td>COVID-19</td>\n",
       "      <td>D000086382</td>\n",
       "      <td>C01.748.610.763.500</td>\n",
       "      <td>Infections</td>\n",
       "    </tr>\n",
       "    <tr>\n",
       "      <th>1</th>\n",
       "      <td>W3177828909</td>\n",
       "      <td>W3128673971</td>\n",
       "      <td>35594413</td>\n",
       "      <td>10.1038/s41586-021-03819-2</td>\n",
       "      <td>10.1021/acs.chemrev.1c00965</td>\n",
       "      <td>0</td>\n",
       "      <td>2022-05-20</td>\n",
       "      <td>None</td>\n",
       "      <td>40</td>\n",
       "      <td>[[A5041748565, , first], [A5028153158, , middl...</td>\n",
       "      <td>D000086382</td>\n",
       "      <td>COVID-19</td>\n",
       "      <td>D000086382</td>\n",
       "      <td>C08.381.677.807.500</td>\n",
       "      <td>Respiratory Tract Diseases</td>\n",
       "    </tr>\n",
       "    <tr>\n",
       "      <th>2</th>\n",
       "      <td>W3177828909</td>\n",
       "      <td>W3128673971</td>\n",
       "      <td>35594413</td>\n",
       "      <td>10.1038/s41586-021-03819-2</td>\n",
       "      <td>10.1021/acs.chemrev.1c00965</td>\n",
       "      <td>0</td>\n",
       "      <td>2022-05-20</td>\n",
       "      <td>None</td>\n",
       "      <td>40</td>\n",
       "      <td>[[A5041748565, , first], [A5028153158, , middl...</td>\n",
       "      <td>D000086402</td>\n",
       "      <td>SARS-CoV-2</td>\n",
       "      <td>D000086402</td>\n",
       "      <td>B04.820.578.500.540.150.113.968</td>\n",
       "      <td>Other</td>\n",
       "    </tr>\n",
       "    <tr>\n",
       "      <th>3</th>\n",
       "      <td>W3177828909</td>\n",
       "      <td>W3128673971</td>\n",
       "      <td>35594413</td>\n",
       "      <td>10.1038/s41586-021-03819-2</td>\n",
       "      <td>10.1021/acs.chemrev.1c00965</td>\n",
       "      <td>0</td>\n",
       "      <td>2022-05-20</td>\n",
       "      <td>None</td>\n",
       "      <td>40</td>\n",
       "      <td>[[A5041748565, , first], [A5028153158, , middl...</td>\n",
       "      <td>D006801</td>\n",
       "      <td>Humans</td>\n",
       "      <td>D006801</td>\n",
       "      <td>B01.050.150.900.649.313.988.400.112.400.400</td>\n",
       "      <td>Other</td>\n",
       "    </tr>\n",
       "    <tr>\n",
       "      <th>4</th>\n",
       "      <td>W3177828909</td>\n",
       "      <td>W3128673971</td>\n",
       "      <td>35594413</td>\n",
       "      <td>10.1038/s41586-021-03819-2</td>\n",
       "      <td>10.1021/acs.chemrev.1c00965</td>\n",
       "      <td>0</td>\n",
       "      <td>2022-05-20</td>\n",
       "      <td>None</td>\n",
       "      <td>40</td>\n",
       "      <td>[[A5041748565, , first], [A5028153158, , middl...</td>\n",
       "      <td>D008958</td>\n",
       "      <td>Models, Molecular</td>\n",
       "      <td>D008958</td>\n",
       "      <td>E05.599.595</td>\n",
       "      <td>Other</td>\n",
       "    </tr>\n",
       "    <tr>\n",
       "      <th>...</th>\n",
       "      <td>...</td>\n",
       "      <td>...</td>\n",
       "      <td>...</td>\n",
       "      <td>...</td>\n",
       "      <td>...</td>\n",
       "      <td>...</td>\n",
       "      <td>...</td>\n",
       "      <td>...</td>\n",
       "      <td>...</td>\n",
       "      <td>...</td>\n",
       "      <td>...</td>\n",
       "      <td>...</td>\n",
       "      <td>...</td>\n",
       "      <td>...</td>\n",
       "      <td>...</td>\n",
       "    </tr>\n",
       "    <tr>\n",
       "      <th>622316</th>\n",
       "      <td>W4281687226</td>\n",
       "      <td>W4391232245</td>\n",
       "      <td>38270670</td>\n",
       "      <td>10.1016/j.talanta.2022.123644</td>\n",
       "      <td>10.1007/s11033-023-09110-z</td>\n",
       "      <td>3</td>\n",
       "      <td>2024-01-25</td>\n",
       "      <td>None</td>\n",
       "      <td>0</td>\n",
       "      <td>[[A5027230763, I464993, first], [A5027875214, ...</td>\n",
       "      <td>D025202</td>\n",
       "      <td>Molecular Diagnostic Techniques</td>\n",
       "      <td>D025202</td>\n",
       "      <td>E01.370.225.880</td>\n",
       "      <td>Other</td>\n",
       "    </tr>\n",
       "    <tr>\n",
       "      <th>622317</th>\n",
       "      <td>W4281687226</td>\n",
       "      <td>W4391232245</td>\n",
       "      <td>38270670</td>\n",
       "      <td>10.1016/j.talanta.2022.123644</td>\n",
       "      <td>10.1007/s11033-023-09110-z</td>\n",
       "      <td>3</td>\n",
       "      <td>2024-01-25</td>\n",
       "      <td>None</td>\n",
       "      <td>0</td>\n",
       "      <td>[[A5027230763, I464993, first], [A5027875214, ...</td>\n",
       "      <td>D021141</td>\n",
       "      <td>Nucleic Acid Amplification Techniques</td>\n",
       "      <td>D021141</td>\n",
       "      <td>E05.393.620</td>\n",
       "      <td>Other</td>\n",
       "    </tr>\n",
       "    <tr>\n",
       "      <th>622318</th>\n",
       "      <td>W4281687226</td>\n",
       "      <td>W4391232245</td>\n",
       "      <td>38270670</td>\n",
       "      <td>10.1016/j.talanta.2022.123644</td>\n",
       "      <td>10.1007/s11033-023-09110-z</td>\n",
       "      <td>3</td>\n",
       "      <td>2024-01-25</td>\n",
       "      <td>None</td>\n",
       "      <td>0</td>\n",
       "      <td>[[A5027230763, I464993, first], [A5027875214, ...</td>\n",
       "      <td>D012194</td>\n",
       "      <td>RNA-Directed DNA Polymerase</td>\n",
       "      <td>D012194</td>\n",
       "      <td>D08.811.913.696.445.308.300.750</td>\n",
       "      <td>Other</td>\n",
       "    </tr>\n",
       "    <tr>\n",
       "      <th>622319</th>\n",
       "      <td>W4281687226</td>\n",
       "      <td>W4391232245</td>\n",
       "      <td>38270670</td>\n",
       "      <td>10.1016/j.talanta.2022.123644</td>\n",
       "      <td>10.1007/s11033-023-09110-z</td>\n",
       "      <td>3</td>\n",
       "      <td>2024-01-25</td>\n",
       "      <td>None</td>\n",
       "      <td>0</td>\n",
       "      <td>[[A5027230763, I464993, first], [A5027875214, ...</td>\n",
       "      <td>D004247</td>\n",
       "      <td>DNA</td>\n",
       "      <td>D004247</td>\n",
       "      <td>D13.444.308</td>\n",
       "      <td>Other</td>\n",
       "    </tr>\n",
       "    <tr>\n",
       "      <th>622320</th>\n",
       "      <td>W4281687226</td>\n",
       "      <td>W4391232245</td>\n",
       "      <td>38270670</td>\n",
       "      <td>10.1016/j.talanta.2022.123644</td>\n",
       "      <td>10.1007/s11033-023-09110-z</td>\n",
       "      <td>3</td>\n",
       "      <td>2024-01-25</td>\n",
       "      <td>None</td>\n",
       "      <td>0</td>\n",
       "      <td>[[A5027230763, I464993, first], [A5027875214, ...</td>\n",
       "      <td>D009154</td>\n",
       "      <td>Mutation</td>\n",
       "      <td>D009154</td>\n",
       "      <td>G05.365.590</td>\n",
       "      <td>Other</td>\n",
       "    </tr>\n",
       "  </tbody>\n",
       "</table>\n",
       "<p>622321 rows × 15 columns</p>\n",
       "</div>"
      ],
      "text/plain": [
       "\n",
       "          parent_id           id      pmid                     parent_doi  \\\n",
       "\u001b[1;36m0\u001b[0m       W3177828909  W3128673971  \u001b[1;36m35594413\u001b[0m     \u001b[1;36m10.1038\u001b[0m/s41586-\u001b[1;36m021\u001b[0m-\u001b[1;36m03819\u001b[0m-\u001b[1;36m2\u001b[0m   \n",
       "\u001b[1;36m1\u001b[0m       W3177828909  W3128673971  \u001b[1;36m35594413\u001b[0m     \u001b[1;36m10.1038\u001b[0m/s41586-\u001b[1;36m021\u001b[0m-\u001b[1;36m03819\u001b[0m-\u001b[1;36m2\u001b[0m   \n",
       "\u001b[1;36m2\u001b[0m       W3177828909  W3128673971  \u001b[1;36m35594413\u001b[0m     \u001b[1;36m10.1038\u001b[0m/s41586-\u001b[1;36m021\u001b[0m-\u001b[1;36m03819\u001b[0m-\u001b[1;36m2\u001b[0m   \n",
       "\u001b[1;36m3\u001b[0m       W3177828909  W3128673971  \u001b[1;36m35594413\u001b[0m     \u001b[1;36m10.1038\u001b[0m/s41586-\u001b[1;36m021\u001b[0m-\u001b[1;36m03819\u001b[0m-\u001b[1;36m2\u001b[0m   \n",
       "\u001b[1;36m4\u001b[0m       W3177828909  W3128673971  \u001b[1;36m35594413\u001b[0m     \u001b[1;36m10.1038\u001b[0m/s41586-\u001b[1;36m021\u001b[0m-\u001b[1;36m03819\u001b[0m-\u001b[1;36m2\u001b[0m   \n",
       "\u001b[33m...\u001b[0m             \u001b[33m...\u001b[0m          \u001b[33m...\u001b[0m       \u001b[33m...\u001b[0m                            \u001b[33m...\u001b[0m   \n",
       "\u001b[1;36m622316\u001b[0m  W4281687226  W4391232245  \u001b[1;36m38270670\u001b[0m  \u001b[1;36m10.1016\u001b[0m/j.talanta.\u001b[1;36m2022.123644\u001b[0m   \n",
       "\u001b[1;36m622317\u001b[0m  W4281687226  W4391232245  \u001b[1;36m38270670\u001b[0m  \u001b[1;36m10.1016\u001b[0m/j.talanta.\u001b[1;36m2022.123644\u001b[0m   \n",
       "\u001b[1;36m622318\u001b[0m  W4281687226  W4391232245  \u001b[1;36m38270670\u001b[0m  \u001b[1;36m10.1016\u001b[0m/j.talanta.\u001b[1;36m2022.123644\u001b[0m   \n",
       "\u001b[1;36m622319\u001b[0m  W4281687226  W4391232245  \u001b[1;36m38270670\u001b[0m  \u001b[1;36m10.1016\u001b[0m/j.talanta.\u001b[1;36m2022.123644\u001b[0m   \n",
       "\u001b[1;36m622320\u001b[0m  W4281687226  W4391232245  \u001b[1;36m38270670\u001b[0m  \u001b[1;36m10.1016\u001b[0m/j.talanta.\u001b[1;36m2022.123644\u001b[0m   \n",
       "\n",
       "                                doi  level publication_date strength  \\\n",
       "\u001b[1;36m0\u001b[0m       \u001b[1;36m10.1021\u001b[0m/acs.chemrev.1c00965      \u001b[1;36m0\u001b[0m       \u001b[1;36m2022\u001b[0m-\u001b[1;36m05\u001b[0m-\u001b[1;36m20\u001b[0m     \u001b[3;35mNone\u001b[0m   \n",
       "\u001b[1;36m1\u001b[0m       \u001b[1;36m10.1021\u001b[0m/acs.chemrev.1c00965      \u001b[1;36m0\u001b[0m       \u001b[1;36m2022\u001b[0m-\u001b[1;36m05\u001b[0m-\u001b[1;36m20\u001b[0m     \u001b[3;35mNone\u001b[0m   \n",
       "\u001b[1;36m2\u001b[0m       \u001b[1;36m10.1021\u001b[0m/acs.chemrev.1c00965      \u001b[1;36m0\u001b[0m       \u001b[1;36m2022\u001b[0m-\u001b[1;36m05\u001b[0m-\u001b[1;36m20\u001b[0m     \u001b[3;35mNone\u001b[0m   \n",
       "\u001b[1;36m3\u001b[0m       \u001b[1;36m10.1021\u001b[0m/acs.chemrev.1c00965      \u001b[1;36m0\u001b[0m       \u001b[1;36m2022\u001b[0m-\u001b[1;36m05\u001b[0m-\u001b[1;36m20\u001b[0m     \u001b[3;35mNone\u001b[0m   \n",
       "\u001b[1;36m4\u001b[0m       \u001b[1;36m10.1021\u001b[0m/acs.chemrev.1c00965      \u001b[1;36m0\u001b[0m       \u001b[1;36m2022\u001b[0m-\u001b[1;36m05\u001b[0m-\u001b[1;36m20\u001b[0m     \u001b[3;35mNone\u001b[0m   \n",
       "\u001b[33m...\u001b[0m                             \u001b[33m...\u001b[0m    \u001b[33m...\u001b[0m              \u001b[33m...\u001b[0m      \u001b[33m...\u001b[0m   \n",
       "\u001b[1;36m622316\u001b[0m   \u001b[1;36m10.1007\u001b[0m/s11033-\u001b[1;36m023\u001b[0m-\u001b[1;36m09110\u001b[0m-z      \u001b[1;36m3\u001b[0m       \u001b[1;36m2024\u001b[0m-\u001b[1;36m01\u001b[0m-\u001b[1;36m25\u001b[0m     \u001b[3;35mNone\u001b[0m   \n",
       "\u001b[1;36m622317\u001b[0m   \u001b[1;36m10.1007\u001b[0m/s11033-\u001b[1;36m023\u001b[0m-\u001b[1;36m09110\u001b[0m-z      \u001b[1;36m3\u001b[0m       \u001b[1;36m2024\u001b[0m-\u001b[1;36m01\u001b[0m-\u001b[1;36m25\u001b[0m     \u001b[3;35mNone\u001b[0m   \n",
       "\u001b[1;36m622318\u001b[0m   \u001b[1;36m10.1007\u001b[0m/s11033-\u001b[1;36m023\u001b[0m-\u001b[1;36m09110\u001b[0m-z      \u001b[1;36m3\u001b[0m       \u001b[1;36m2024\u001b[0m-\u001b[1;36m01\u001b[0m-\u001b[1;36m25\u001b[0m     \u001b[3;35mNone\u001b[0m   \n",
       "\u001b[1;36m622319\u001b[0m   \u001b[1;36m10.1007\u001b[0m/s11033-\u001b[1;36m023\u001b[0m-\u001b[1;36m09110\u001b[0m-z      \u001b[1;36m3\u001b[0m       \u001b[1;36m2024\u001b[0m-\u001b[1;36m01\u001b[0m-\u001b[1;36m25\u001b[0m     \u001b[3;35mNone\u001b[0m   \n",
       "\u001b[1;36m622320\u001b[0m   \u001b[1;36m10.1007\u001b[0m/s11033-\u001b[1;36m023\u001b[0m-\u001b[1;36m09110\u001b[0m-z      \u001b[1;36m3\u001b[0m       \u001b[1;36m2024\u001b[0m-\u001b[1;36m01\u001b[0m-\u001b[1;36m25\u001b[0m     \u001b[3;35mNone\u001b[0m   \n",
       "\n",
       "        cited_by_count                                        authorships  \\\n",
       "\u001b[1;36m0\u001b[0m                   \u001b[1;36m40\u001b[0m  \u001b[1m[\u001b[0m\u001b[1m[\u001b[0mA5041748565, , first\u001b[1m]\u001b[0m, \u001b[1m[\u001b[0mA5028153158, , middl\u001b[33m...\u001b[0m   \n",
       "\u001b[1;36m1\u001b[0m                   \u001b[1;36m40\u001b[0m  \u001b[1m[\u001b[0m\u001b[1m[\u001b[0mA5041748565, , first\u001b[1m]\u001b[0m, \u001b[1m[\u001b[0mA5028153158, , middl\u001b[33m...\u001b[0m   \n",
       "\u001b[1;36m2\u001b[0m                   \u001b[1;36m40\u001b[0m  \u001b[1m[\u001b[0m\u001b[1m[\u001b[0mA5041748565, , first\u001b[1m]\u001b[0m, \u001b[1m[\u001b[0mA5028153158, , middl\u001b[33m...\u001b[0m   \n",
       "\u001b[1;36m3\u001b[0m                   \u001b[1;36m40\u001b[0m  \u001b[1m[\u001b[0m\u001b[1m[\u001b[0mA5041748565, , first\u001b[1m]\u001b[0m, \u001b[1m[\u001b[0mA5028153158, , middl\u001b[33m...\u001b[0m   \n",
       "\u001b[1;36m4\u001b[0m                   \u001b[1;36m40\u001b[0m  \u001b[1m[\u001b[0m\u001b[1m[\u001b[0mA5041748565, , first\u001b[1m]\u001b[0m, \u001b[1m[\u001b[0mA5028153158, , middl\u001b[33m...\u001b[0m   \n",
       "\u001b[33m...\u001b[0m                \u001b[33m...\u001b[0m                                                \u001b[33m...\u001b[0m   \n",
       "\u001b[1;36m622316\u001b[0m               \u001b[1;36m0\u001b[0m  \u001b[1m[\u001b[0m\u001b[1m[\u001b[0mA5027230763, I464993, first\u001b[1m]\u001b[0m, \u001b[1m[\u001b[0mA5027875214, \u001b[33m...\u001b[0m   \n",
       "\u001b[1;36m622317\u001b[0m               \u001b[1;36m0\u001b[0m  \u001b[1m[\u001b[0m\u001b[1m[\u001b[0mA5027230763, I464993, first\u001b[1m]\u001b[0m, \u001b[1m[\u001b[0mA5027875214, \u001b[33m...\u001b[0m   \n",
       "\u001b[1;36m622318\u001b[0m               \u001b[1;36m0\u001b[0m  \u001b[1m[\u001b[0m\u001b[1m[\u001b[0mA5027230763, I464993, first\u001b[1m]\u001b[0m, \u001b[1m[\u001b[0mA5027875214, \u001b[33m...\u001b[0m   \n",
       "\u001b[1;36m622319\u001b[0m               \u001b[1;36m0\u001b[0m  \u001b[1m[\u001b[0m\u001b[1m[\u001b[0mA5027230763, I464993, first\u001b[1m]\u001b[0m, \u001b[1m[\u001b[0mA5027875214, \u001b[33m...\u001b[0m   \n",
       "\u001b[1;36m622320\u001b[0m               \u001b[1;36m0\u001b[0m  \u001b[1m[\u001b[0m\u001b[1m[\u001b[0mA5027230763, I464993, first\u001b[1m]\u001b[0m, \u001b[1m[\u001b[0mA5027875214, \u001b[33m...\u001b[0m   \n",
       "\n",
       "       mesh_terms_dui                       mesh_terms_label         DUI  \\\n",
       "\u001b[1;36m0\u001b[0m          D000086382                               COVID-\u001b[1;36m19\u001b[0m  D000086382   \n",
       "\u001b[1;36m1\u001b[0m          D000086382                               COVID-\u001b[1;36m19\u001b[0m  D000086382   \n",
       "\u001b[1;36m2\u001b[0m          D000086402                             SARS-CoV-\u001b[1;36m2\u001b[0m  D000086402   \n",
       "\u001b[1;36m3\u001b[0m             D006801                                 Humans     D006801   \n",
       "\u001b[1;36m4\u001b[0m             D008958                      Models, Molecular     D008958   \n",
       "\u001b[33m...\u001b[0m               \u001b[33m...\u001b[0m                                    \u001b[33m...\u001b[0m         \u001b[33m...\u001b[0m   \n",
       "\u001b[1;36m622316\u001b[0m        D025202        Molecular Diagnostic Techniques     D025202   \n",
       "\u001b[1;36m622317\u001b[0m        D021141  Nucleic Acid Amplification Techniques     D021141   \n",
       "\u001b[1;36m622318\u001b[0m        D012194            RNA-Directed DNA Polymerase     D012194   \n",
       "\u001b[1;36m622319\u001b[0m        D004247                                    DNA     D004247   \n",
       "\u001b[1;36m622320\u001b[0m        D009154                               Mutation     D009154   \n",
       "\n",
       "                                        tree_number  \\\n",
       "\u001b[1;36m0\u001b[0m                               C\u001b[1;92m01.748.610.763\u001b[0m.\u001b[1;36m500\u001b[0m   \n",
       "\u001b[1;36m1\u001b[0m                               C\u001b[1;92m08.381.677.807\u001b[0m.\u001b[1;36m500\u001b[0m   \n",
       "\u001b[1;36m2\u001b[0m                   B\u001b[1;92m04.820.578.500\u001b[0m.\u001b[1;92m540.150.113.968\u001b[0m   \n",
       "\u001b[1;36m3\u001b[0m       B\u001b[1;92m01.050.150.900\u001b[0m.\u001b[1;92m649.313.988.400\u001b[0m.\u001b[1;36m112.400\u001b[0m.\u001b[1;36m400\u001b[0m   \n",
       "\u001b[1;36m4\u001b[0m                                       E05.\u001b[1;36m599.595\u001b[0m   \n",
       "\u001b[33m...\u001b[0m                                             \u001b[33m...\u001b[0m   \n",
       "\u001b[1;36m622316\u001b[0m                              E\u001b[1;92m01.370.225.880\u001b[0m   \n",
       "\u001b[1;36m622317\u001b[0m                                  E05.\u001b[1;36m393.620\u001b[0m   \n",
       "\u001b[1;36m622318\u001b[0m              D\u001b[1;92m08.811.913.696\u001b[0m.\u001b[1;92m445.308.300.750\u001b[0m   \n",
       "\u001b[1;36m622319\u001b[0m                                  D13.\u001b[1;36m444.308\u001b[0m   \n",
       "\u001b[1;36m622320\u001b[0m                                  G05.\u001b[1;36m365.590\u001b[0m   \n",
       "\n",
       "                   mesh_tree_label  \n",
       "\u001b[1;36m0\u001b[0m                       Infections  \n",
       "\u001b[1;36m1\u001b[0m       Respiratory Tract Diseases  \n",
       "\u001b[1;36m2\u001b[0m                            Other  \n",
       "\u001b[1;36m3\u001b[0m                            Other  \n",
       "\u001b[1;36m4\u001b[0m                            Other  \n",
       "\u001b[33m...\u001b[0m                            \u001b[33m...\u001b[0m  \n",
       "\u001b[1;36m622316\u001b[0m                       Other  \n",
       "\u001b[1;36m622317\u001b[0m                       Other  \n",
       "\u001b[1;36m622318\u001b[0m                       Other  \n",
       "\u001b[1;36m622319\u001b[0m                       Other  \n",
       "\u001b[1;36m622320\u001b[0m                       Other  \n",
       "\n",
       "\u001b[1m[\u001b[0m\u001b[1;36m622321\u001b[0m rows x \u001b[1;36m15\u001b[0m columns\u001b[1m]\u001b[0m"
      ]
     },
     "execution_count": 20,
     "metadata": {},
     "output_type": "execute_result"
    }
   ],
   "source": [
    "alphafold_oa_mesh_data"
   ]
  },
  {
   "cell_type": "code",
   "execution_count": 21,
   "metadata": {},
   "outputs": [
    {
     "data": {
      "text/html": [
       "<pre style=\"white-space:pre;overflow-x:auto;line-height:normal;font-family:Menlo,'DejaVu Sans Mono',consolas,'Courier New',monospace\"></pre>\n"
      ],
      "text/plain": []
     },
     "metadata": {},
     "output_type": "display_data"
    },
    {
     "data": {
      "text/plain": [
       "\n",
       "mesh_terms_label\n",
       "COVID-\u001b[1;36m19\u001b[0m               \u001b[1;36m15826\u001b[0m\n",
       "Influenza, Human         \u001b[1;36m408\u001b[0m\n",
       "HIV Infections           \u001b[1;36m379\u001b[0m\n",
       "Mpox \u001b[1m(\u001b[0mmonkeypox\u001b[1m)\u001b[0m         \u001b[1;36m373\u001b[0m\n",
       "Virus Diseases           \u001b[1;36m328\u001b[0m\n",
       "                       \u001b[33m...\u001b[0m  \n",
       "Bluetongue                 \u001b[1;36m1\u001b[0m\n",
       "Proteus Infections         \u001b[1;36m1\u001b[0m\n",
       "Enterotoxemia              \u001b[1;36m1\u001b[0m\n",
       "Tonsillitis                \u001b[1;36m1\u001b[0m\n",
       "Borrelia Infections        \u001b[1;36m1\u001b[0m\n",
       "Name: count, Length: \u001b[1;36m411\u001b[0m, dtype: int64"
      ]
     },
     "execution_count": 21,
     "metadata": {},
     "output_type": "execute_result"
    }
   ],
   "source": [
    "alphafold_oa_mesh_data.loc[alphafold_oa_mesh_data[\"mesh_tree_label\"] == \"Infections\", \"mesh_terms_label\"].value_counts()"
   ]
  },
  {
   "cell_type": "code",
   "execution_count": 22,
   "metadata": {},
   "outputs": [],
   "source": [
    "# for each mesh_tree_label and level, take the proportion\n",
    "af_mesh_tree_level_proportions = (\n",
    "    alphafold_oa_mesh_data.groupby([\"level\", \"mesh_tree_label\"])\n",
    "    .size()\n",
    "    .unstack()\n",
    "    .apply(lambda x: x / x.sum(), axis=1)\n",
    "    .melt(ignore_index=False)\n",
    "    .reset_index()\n",
    "    .fillna(0)\n",
    ")\n",
    "\n",
    "# remove Other\n",
    "af_mesh_tree_level_proportions = af_mesh_tree_level_proportions[\n",
    "    af_mesh_tree_level_proportions[\"mesh_tree_label\"] != \"Other\"\n",
    "]\n",
    "\n",
    "# Include the label identifier using the dictionary\n",
    "af_mesh_tree_level_proportions[\"mesh_tree_label_id\"] = af_mesh_tree_level_proportions[\n",
    "    \"mesh_tree_label\"\n",
    "].apply(lambda x: list(disease_labels.keys())[list(disease_labels.values()).index(x)])\n"
   ]
  },
  {
   "cell_type": "code",
   "execution_count": 23,
   "metadata": {},
   "outputs": [],
   "source": [
    "# extract year from publication date string, with format YYYY-MM-DD\n",
    "alphafold_oa_mesh_data[\"year\"] = alphafold_oa_mesh_data[\"publication_date\"].apply(\n",
    "    lambda x: x.split(\"-\")[0]\n",
    ")\n",
    "\n",
    "# for each mesh_tree_label and level, take the proportion\n",
    "af_mesh_tree_level_yearly_proportions = (\n",
    "    alphafold_oa_mesh_data.groupby([\"level\", \"year\", \"mesh_tree_label\"])\n",
    "    .size()\n",
    "    .unstack()\n",
    "    .apply(lambda x: x / x.sum(), axis=1)\n",
    "    .melt(ignore_index=False)\n",
    "    .reset_index()\n",
    "    .fillna(0)\n",
    ")\n",
    "\n",
    "# remove Other\n",
    "af_mesh_tree_level_yearly_proportions = af_mesh_tree_level_yearly_proportions[\n",
    "    af_mesh_tree_level_yearly_proportions[\"mesh_tree_label\"] != \"Other\"\n",
    "]\n",
    "\n",
    "# Include the label identifier using the dictionary\n",
    "af_mesh_tree_level_yearly_proportions[\"mesh_tree_label_id\"] = af_mesh_tree_level_yearly_proportions[\n",
    "    \"mesh_tree_label\"\n",
    "].apply(lambda x: list(disease_labels.keys())[list(disease_labels.values()).index(x)])\n"
   ]
  },
  {
   "cell_type": "code",
   "execution_count": 24,
   "metadata": {},
   "outputs": [],
   "source": [
    "def create_population_chart(df, filter1, filter2, label1, label2, color1, color2):\n",
    "\n",
    "    # check filter condition is a string\n",
    "    df['filter'] = df['filter'].astype(str)\n",
    "    \n",
    "    # make sure the mesh_tree_label_id are sorted for both groups\n",
    "    df.sort_values(by=['filter', 'mesh_tree_label_short'], inplace=True)\n",
    "\n",
    "    # Calculate the maximum value for the x-axis for both groups\n",
    "    max_value = df[(df['filter'] == filter1) | (df['filter'] == filter2)]['value'].max()\n",
    "\n",
    "    # Define the color scale manually\n",
    "    color_scale = alt.Scale(domain=[filter1, filter2], range=[color1, color2])\n",
    "\n",
    "\n",
    "    # Base chart for shared configurations\n",
    "    base = alt.Chart(df).encode(\n",
    "        y=alt.Y('mesh_tree_label:N', sort=alt.EncodingSortField(field='mesh_tree_label_short', order='ascending'), axis=None),\n",
    "    ).properties(\n",
    "        width=200,\n",
    "        height=alt.Step(20)  # Adjust step for bar thickness\n",
    "    )\n",
    "\n",
    "    # Left side of the chart (group1)\n",
    "    left = base.transform_filter(\n",
    "        alt.datum.filter == filter1\n",
    "    ).encode(\n",
    "        x=alt.X('sum(value):Q', title='Count', scale=alt.Scale(domain=(0, max_value)), sort=alt.SortOrder('descending')), color=alt.Color('filter:N', scale=color_scale, legend=None)\n",
    "    ).mark_bar().properties(title=label1)\n",
    "\n",
    "    # Right side of the chart (group2)\n",
    "    right = base.transform_filter(\n",
    "        alt.datum.filter == filter2\n",
    "    ).encode(\n",
    "        x=alt.X('sum(value):Q', title='Count', scale=alt.Scale(domain=(0, max_value))), color=alt.Color('filter:N', scale=color_scale, legend=None)\n",
    "    ).mark_bar().properties(title=label2)\n",
    "\n",
    "    # in the middle use mark_text on the base chart. Do not duplicate text, so use unique values\n",
    "    middle = base.mark_text(fontSize=16).encode(\n",
    "        text='mesh_tree_label_short:N'\n",
    "    ).transform_filter(\n",
    "        alt.FieldOneOfPredicate(field='filter', oneOf=[filter1])\n",
    "    ).properties(width=150)\n",
    "\n",
    "    # Combine both sides\n",
    "    return alt.concat(left, middle, right, spacing=5)"
   ]
  },
  {
   "cell_type": "code",
   "execution_count": 25,
   "metadata": {},
   "outputs": [],
   "source": [
    "# # Filter the original dataframe for level 0 and add a 'filter' column\n",
    "# df_level0 = af_mesh_tree_level_proportions[af_mesh_tree_level_proportions['level'] == 0].copy()\n",
    "# df_level0['filter'] = '0'\n",
    "\n",
    "# # Filter the original dataframe for level 3 and add a 'filter' column\n",
    "# df_level3 = af_mesh_tree_level_proportions[af_mesh_tree_level_proportions['level'] == 1].copy()\n",
    "# df_level3['filter'] = '1'\n",
    "\n",
    "# df = pd.concat([df_level0, df_level3])\n",
    "\n",
    "# # Call the function\n",
    "# chart = create_population_chart(df, '0', '1', 'AF - Level 0', 'AF - Level 3', '#1f77b4', '#ff7f0e')\n",
    "# chart"
   ]
  },
  {
   "cell_type": "markdown",
   "metadata": {},
   "source": [
    "### Baselines"
   ]
  },
  {
   "cell_type": "code",
   "execution_count": 26,
   "metadata": {},
   "outputs": [
    {
     "data": {
      "text/html": [
       "<pre style=\"white-space:pre;overflow-x:auto;line-height:normal;font-family:Menlo,'DejaVu Sans Mono',consolas,'Courier New',monospace\"><span style=\"color: #7fbfbf; text-decoration-color: #7fbfbf\">[04/05/24 10:09:34] </span><span style=\"color: #000080; text-decoration-color: #000080\">INFO    </span> Loading data from                                                  <a href=\"file:///home/dampudia/miniconda3/envs/.igl_alphafold/lib/python3.11/site-packages/kedro/io/data_catalog.py\" target=\"_blank\"><span style=\"color: #7f7f7f; text-decoration-color: #7f7f7f\">data_catalog.py</span></a><span style=\"color: #7f7f7f; text-decoration-color: #7f7f7f\">:</span><a href=\"file:///home/dampudia/miniconda3/envs/.igl_alphafold/lib/python3.11/site-packages/kedro/io/data_catalog.py#482\" target=\"_blank\"><span style=\"color: #7f7f7f; text-decoration-color: #7f7f7f\">482</span></a>\n",
       "<span style=\"color: #7fbfbf; text-decoration-color: #7fbfbf\">                    </span>         <span style=\"color: #ff8700; text-decoration-color: #ff8700\">oa.data_processing.subfield.structural_biology.primary</span>             <span style=\"color: #7f7f7f; text-decoration-color: #7f7f7f\">                   </span>\n",
       "<span style=\"color: #7fbfbf; text-decoration-color: #7fbfbf\">                    </span>         <span style=\"font-weight: bold\">(</span>ParquetDataset<span style=\"font-weight: bold\">)</span><span style=\"color: #808000; text-decoration-color: #808000\">...</span>                                                <span style=\"color: #7f7f7f; text-decoration-color: #7f7f7f\">                   </span>\n",
       "</pre>\n"
      ],
      "text/plain": [
       "\u001b[2;36m[04/05/24 10:09:34]\u001b[0m\u001b[2;36m \u001b[0m\u001b[34mINFO    \u001b[0m Loading data from                                                  \u001b]8;id=989539;file:///home/dampudia/miniconda3/envs/.igl_alphafold/lib/python3.11/site-packages/kedro/io/data_catalog.py\u001b\\\u001b[2mdata_catalog.py\u001b[0m\u001b]8;;\u001b\\\u001b[2m:\u001b[0m\u001b]8;id=741493;file:///home/dampudia/miniconda3/envs/.igl_alphafold/lib/python3.11/site-packages/kedro/io/data_catalog.py#482\u001b\\\u001b[2m482\u001b[0m\u001b]8;;\u001b\\\n",
       "\u001b[2;36m                    \u001b[0m         \u001b[38;5;208moa.data_processing.subfield.structural_biology.primary\u001b[0m             \u001b[2m                   \u001b[0m\n",
       "\u001b[2;36m                    \u001b[0m         \u001b[1m(\u001b[0mParquetDataset\u001b[1m)\u001b[0m\u001b[33m...\u001b[0m                                                \u001b[2m                   \u001b[0m\n"
      ]
     },
     "metadata": {},
     "output_type": "display_data"
    },
    {
     "data": {
      "text/html": [
       "<pre style=\"white-space:pre;overflow-x:auto;line-height:normal;font-family:Menlo,'DejaVu Sans Mono',consolas,'Courier New',monospace\"><span style=\"color: #7fbfbf; text-decoration-color: #7fbfbf\">[04/05/24 10:09:36] </span><span style=\"color: #000080; text-decoration-color: #000080\">INFO    </span> Loading data from                                                  <a href=\"file:///home/dampudia/miniconda3/envs/.igl_alphafold/lib/python3.11/site-packages/kedro/io/data_catalog.py\" target=\"_blank\"><span style=\"color: #7f7f7f; text-decoration-color: #7f7f7f\">data_catalog.py</span></a><span style=\"color: #7f7f7f; text-decoration-color: #7f7f7f\">:</span><a href=\"file:///home/dampudia/miniconda3/envs/.igl_alphafold/lib/python3.11/site-packages/kedro/io/data_catalog.py#482\" target=\"_blank\"><span style=\"color: #7f7f7f; text-decoration-color: #7f7f7f\">482</span></a>\n",
       "<span style=\"color: #7fbfbf; text-decoration-color: #7fbfbf\">                    </span>         <span style=\"color: #ff8700; text-decoration-color: #ff8700\">oa.data_processing.subfield.bioinformatics.primary</span>                 <span style=\"color: #7f7f7f; text-decoration-color: #7f7f7f\">                   </span>\n",
       "<span style=\"color: #7fbfbf; text-decoration-color: #7fbfbf\">                    </span>         <span style=\"font-weight: bold\">(</span>ParquetDataset<span style=\"font-weight: bold\">)</span><span style=\"color: #808000; text-decoration-color: #808000\">...</span>                                                <span style=\"color: #7f7f7f; text-decoration-color: #7f7f7f\">                   </span>\n",
       "</pre>\n"
      ],
      "text/plain": [
       "\u001b[2;36m[04/05/24 10:09:36]\u001b[0m\u001b[2;36m \u001b[0m\u001b[34mINFO    \u001b[0m Loading data from                                                  \u001b]8;id=467970;file:///home/dampudia/miniconda3/envs/.igl_alphafold/lib/python3.11/site-packages/kedro/io/data_catalog.py\u001b\\\u001b[2mdata_catalog.py\u001b[0m\u001b]8;;\u001b\\\u001b[2m:\u001b[0m\u001b]8;id=228841;file:///home/dampudia/miniconda3/envs/.igl_alphafold/lib/python3.11/site-packages/kedro/io/data_catalog.py#482\u001b\\\u001b[2m482\u001b[0m\u001b]8;;\u001b\\\n",
       "\u001b[2;36m                    \u001b[0m         \u001b[38;5;208moa.data_processing.subfield.bioinformatics.primary\u001b[0m                 \u001b[2m                   \u001b[0m\n",
       "\u001b[2;36m                    \u001b[0m         \u001b[1m(\u001b[0mParquetDataset\u001b[1m)\u001b[0m\u001b[33m...\u001b[0m                                                \u001b[2m                   \u001b[0m\n"
      ]
     },
     "metadata": {},
     "output_type": "display_data"
    },
    {
     "data": {
      "text/html": [
       "<pre style=\"white-space:pre;overflow-x:auto;line-height:normal;font-family:Menlo,'DejaVu Sans Mono',consolas,'Courier New',monospace\"><span style=\"color: #7fbfbf; text-decoration-color: #7fbfbf\">[04/05/24 10:10:47] </span><span style=\"color: #000080; text-decoration-color: #000080\">INFO    </span> Loading data from                                                  <a href=\"file:///home/dampudia/miniconda3/envs/.igl_alphafold/lib/python3.11/site-packages/kedro/io/data_catalog.py\" target=\"_blank\"><span style=\"color: #7f7f7f; text-decoration-color: #7f7f7f\">data_catalog.py</span></a><span style=\"color: #7f7f7f; text-decoration-color: #7f7f7f\">:</span><a href=\"file:///home/dampudia/miniconda3/envs/.igl_alphafold/lib/python3.11/site-packages/kedro/io/data_catalog.py#482\" target=\"_blank\"><span style=\"color: #7f7f7f; text-decoration-color: #7f7f7f\">482</span></a>\n",
       "<span style=\"color: #7fbfbf; text-decoration-color: #7fbfbf\">                    </span>         <span style=\"color: #ff8700; text-decoration-color: #ff8700\">oa.data_processing.subfield.protein_design.primary</span>                 <span style=\"color: #7f7f7f; text-decoration-color: #7f7f7f\">                   </span>\n",
       "<span style=\"color: #7fbfbf; text-decoration-color: #7fbfbf\">                    </span>         <span style=\"font-weight: bold\">(</span>ParquetDataset<span style=\"font-weight: bold\">)</span><span style=\"color: #808000; text-decoration-color: #808000\">...</span>                                                <span style=\"color: #7f7f7f; text-decoration-color: #7f7f7f\">                   </span>\n",
       "</pre>\n"
      ],
      "text/plain": [
       "\u001b[2;36m[04/05/24 10:10:47]\u001b[0m\u001b[2;36m \u001b[0m\u001b[34mINFO    \u001b[0m Loading data from                                                  \u001b]8;id=94199;file:///home/dampudia/miniconda3/envs/.igl_alphafold/lib/python3.11/site-packages/kedro/io/data_catalog.py\u001b\\\u001b[2mdata_catalog.py\u001b[0m\u001b]8;;\u001b\\\u001b[2m:\u001b[0m\u001b]8;id=270495;file:///home/dampudia/miniconda3/envs/.igl_alphafold/lib/python3.11/site-packages/kedro/io/data_catalog.py#482\u001b\\\u001b[2m482\u001b[0m\u001b]8;;\u001b\\\n",
       "\u001b[2;36m                    \u001b[0m         \u001b[38;5;208moa.data_processing.subfield.protein_design.primary\u001b[0m                 \u001b[2m                   \u001b[0m\n",
       "\u001b[2;36m                    \u001b[0m         \u001b[1m(\u001b[0mParquetDataset\u001b[1m)\u001b[0m\u001b[33m...\u001b[0m                                                \u001b[2m                   \u001b[0m\n"
      ]
     },
     "metadata": {},
     "output_type": "display_data"
    }
   ],
   "source": [
    "sb_sb = catalog.load(\"oa.data_processing.subfield.structural_biology.primary\")\n",
    "bi_sb = catalog.load(\"oa.data_processing.subfield.bioinformatics.primary\")\n",
    "pd_sb = catalog.load(\"oa.data_processing.subfield.protein_design.primary\")\n",
    "\n",
    "# remove papers that appear in oa_data too\n",
    "sb_sb = sb_sb[~sb_sb[\"doi\"].isin(alphafold_oa_data[\"doi\"])]\n",
    "bi_sb = bi_sb[~bi_sb[\"doi\"].isin(alphafold_oa_data[\"doi\"])]\n",
    "pd_sb = pd_sb[~pd_sb[\"doi\"].isin(alphafold_oa_data[\"doi\"])]"
   ]
  },
  {
   "cell_type": "code",
   "execution_count": 27,
   "metadata": {},
   "outputs": [],
   "source": [
    "sb_mesh_data = process_dataframe(sb_sb, mesh_terms, dup_cols = [\"id\", \"mesh_terms_dui\", \"mesh_tree_label\"])\n",
    "bi_mesh_data = process_dataframe(bi_sb, mesh_terms, dup_cols = [\"id\", \"mesh_terms_dui\", \"mesh_tree_label\"])\n",
    "pd_mesh_data = process_dataframe(pd_sb, mesh_terms, dup_cols = [\"id\", \"mesh_terms_dui\", \"mesh_tree_label\"])\n",
    "\n",
    "# get the year from the publication date, which is a string with format YYYY-MM-DD\n",
    "sb_mesh_data[\"year\"] = sb_mesh_data[\"publication_date\"].apply(lambda x: x.split(\"-\")[0])\n",
    "bi_mesh_data[\"year\"] = bi_mesh_data[\"publication_date\"].apply(lambda x: x.split(\"-\")[0])\n",
    "pd_mesh_data[\"year\"] = pd_mesh_data[\"publication_date\"].apply(lambda x: x.split(\"-\")[0])"
   ]
  },
  {
   "cell_type": "code",
   "execution_count": 33,
   "metadata": {},
   "outputs": [],
   "source": [
    "def get_proportions(df, subfield, disease_labels):\n",
    "    # get proportions\n",
    "    mesh_tree_level_proportions = (\n",
    "        df.groupby([\"mesh_tree_label\"])\n",
    "        .size() / df.groupby([\"mesh_tree_label\"]).size().sum()\n",
    "    )\n",
    "\n",
    "    # rename 0 to value\n",
    "    mesh_tree_level_proportions = mesh_tree_level_proportions.rename(\"value\")\n",
    "  \n",
    "\n",
    "    # remove Other\n",
    "    mesh_tree_level_proportions = mesh_tree_level_proportions[\n",
    "        mesh_tree_level_proportions.index != \"Other\"\n",
    "    ]\n",
    "\n",
    "    # Include the label identifier using the dictionary\n",
    "    mesh_tree_level_proportions = mesh_tree_level_proportions.reset_index()\n",
    "    mesh_tree_level_proportions[\"mesh_tree_label_id\"] = mesh_tree_level_proportions[\n",
    "        \"mesh_tree_label\"\n",
    "    ].apply(lambda x: list(disease_labels.keys())[list(disease_labels.values()).index(x)])\n",
    "\n",
    "\n",
    "    # make sure other disease tree groups exist, if not, add them with 0 value\n",
    "    for key, value in disease_labels.items():\n",
    "        if value not in mesh_tree_level_proportions[\"mesh_tree_label\"].values:\n",
    "            new_row = pd.DataFrame({\"mesh_tree_label\": [value], \"value\": [0], \"mesh_tree_label_id\": [key]})\n",
    "            mesh_tree_level_proportions = pd.concat([mesh_tree_level_proportions, new_row], ignore_index=True)\n",
    "    \n",
    "    # drop Occupational and Disorders of Environmental Origin\n",
    "    mesh_tree_level_proportions = mesh_tree_level_proportions[\n",
    "        mesh_tree_level_proportions[\"mesh_tree_label\"] != \"Occupational Diseases\"\n",
    "    ]\n",
    "    mesh_tree_level_proportions = mesh_tree_level_proportions[\n",
    "        mesh_tree_level_proportions[\"mesh_tree_label\"] != \"Disorders of Environmental Origin\"\n",
    "    ]\n",
    "    \n",
    "    # add a column to identify the subfield\n",
    "    mesh_tree_level_proportions[\"filter\"] = subfield\n",
    "\n",
    "    return mesh_tree_level_proportions"
   ]
  },
  {
   "cell_type": "code",
   "execution_count": 34,
   "metadata": {},
   "outputs": [],
   "source": [
    "def get_yearly_proportions(df, subfield, disease_labels):\n",
    "    # get proportions\n",
    "    mesh_tree_level_proportions = (\n",
    "        df.groupby([\"year\", \"mesh_tree_label\"]).size() / df.groupby([\"year\"]).size()\n",
    "    )\n",
    "\n",
    "    # rename 0 to value\n",
    "    mesh_tree_level_proportions = mesh_tree_level_proportions.rename(\"value\")\n",
    "\n",
    "    # reset index\n",
    "    mesh_tree_level_proportions = mesh_tree_level_proportions.reset_index()\n",
    "\n",
    "    # Create a MultiIndex with all combinations of year and mesh_tree_label\n",
    "    all_combinations = pd.MultiIndex.from_product(\n",
    "        [df[\"year\"].unique(), df[\"mesh_tree_label\"].unique()],\n",
    "        names=[\"year\", \"mesh_tree_label\"],\n",
    "    )\n",
    "\n",
    "    # Reindex the DataFrame with the MultiIndex and fill missing values with 0\n",
    "    mesh_tree_level_proportions.set_index([\"year\", \"mesh_tree_label\"], inplace=True)\n",
    "    mesh_tree_level_proportions = mesh_tree_level_proportions.reindex(\n",
    "        all_combinations\n",
    "    ).reset_index()\n",
    "\n",
    "    # drop Other\n",
    "    mesh_tree_level_proportions = mesh_tree_level_proportions[\n",
    "        mesh_tree_level_proportions[\"mesh_tree_label\"] != \"Other\"\n",
    "    ]\n",
    "\n",
    "    # fill value as nan\n",
    "    mesh_tree_level_proportions[\"value\"] = mesh_tree_level_proportions[\"value\"].fillna(\n",
    "        0\n",
    "    )\n",
    "\n",
    "    # drop mesh_tree_label nan rows\n",
    "    mesh_tree_level_proportions = mesh_tree_level_proportions[\n",
    "        mesh_tree_level_proportions[\"mesh_tree_label\"].notnull()\n",
    "    ]\n",
    "\n",
    "    # drop Occupational and Disorders of Environmental Origin\n",
    "    mesh_tree_level_proportions = mesh_tree_level_proportions[\n",
    "        mesh_tree_level_proportions[\"mesh_tree_label\"] != \"Occupational Diseases\"\n",
    "    ]\n",
    "    mesh_tree_level_proportions = mesh_tree_level_proportions[\n",
    "        mesh_tree_level_proportions[\"mesh_tree_label\"] != \"Disorders of Environmental Origin\"\n",
    "    ]\n",
    "\n",
    "    # fill the id by the dictionary match\n",
    "    mesh_tree_level_proportions[\"mesh_tree_label_id\"] = mesh_tree_level_proportions[\n",
    "        \"mesh_tree_label\"\n",
    "    ].apply(\n",
    "        lambda x: list(disease_labels.keys())[list(disease_labels.values()).index(x)]\n",
    "    )\n",
    "\n",
    "    # fill the subfield\n",
    "    mesh_tree_level_proportions[\"filter\"] = subfield\n",
    "\n",
    "    return mesh_tree_level_proportions"
   ]
  },
  {
   "cell_type": "code",
   "execution_count": 30,
   "metadata": {},
   "outputs": [],
   "source": [
    "sb_proportions = get_proportions(sb_mesh_data, \"Structural Biology\", disease_labels)\n",
    "pd_proportions = get_proportions(pd_mesh_data, \"Protein Design\", disease_labels)\n",
    "bi_proportions = get_proportions(bi_mesh_data, \"Bioinformatics\", disease_labels)"
   ]
  },
  {
   "cell_type": "code",
   "execution_count": 41,
   "metadata": {},
   "outputs": [
    {
     "data": {
      "text/html": [
       "<pre style=\"white-space:pre;overflow-x:auto;line-height:normal;font-family:Menlo,'DejaVu Sans Mono',consolas,'Courier New',monospace\"></pre>\n"
      ],
      "text/plain": []
     },
     "metadata": {},
     "output_type": "display_data"
    },
    {
     "data": {
      "text/plain": [
       "\u001b[1;36m47886\u001b[0m"
      ]
     },
     "execution_count": 41,
     "metadata": {},
     "output_type": "execute_result"
    }
   ],
   "source": [
    "sb_mesh_data.id.nunique()"
   ]
  },
  {
   "cell_type": "code",
   "execution_count": 39,
   "metadata": {},
   "outputs": [
    {
     "data": {
      "text/html": [
       "<pre style=\"white-space:pre;overflow-x:auto;line-height:normal;font-family:Menlo,'DejaVu Sans Mono',consolas,'Courier New',monospace\"></pre>\n"
      ],
      "text/plain": []
     },
     "metadata": {},
     "output_type": "display_data"
    },
    {
     "data": {
      "text/plain": [
       "\u001b[1;36m6322\u001b[0m"
      ]
     },
     "execution_count": 39,
     "metadata": {},
     "output_type": "execute_result"
    }
   ],
   "source": [
    "sb_mesh_data_2021.id.nunique()"
   ]
  },
  {
   "cell_type": "code",
   "execution_count": 31,
   "metadata": {},
   "outputs": [],
   "source": [
    "# get sb from 2021 onwards\n",
    "sb_mesh_data_2021 = sb_mesh_data[sb_mesh_data[\"year\"] >= \"2021\"]\n",
    "pd_mesh_data_2021 = pd_mesh_data[pd_mesh_data[\"year\"] >= \"2021\"]\n",
    "bi_mesh_data_2021 = bi_mesh_data[bi_mesh_data[\"year\"] >= \"2021\"]\n",
    "\n",
    "sb_proportions_2021 = get_proportions(sb_mesh_data_2021, \"Structural Biology\", disease_labels)\n",
    "pd_proportions_2021 = get_proportions(pd_mesh_data_2021, \"Protein Design\", disease_labels)\n",
    "bi_proportions_2021 = get_proportions(bi_mesh_data_2021, \"Bioinformatics\", disease_labels)"
   ]
  },
  {
   "cell_type": "code",
   "execution_count": 32,
   "metadata": {},
   "outputs": [],
   "source": [
    "sb_yearly_proportions = get_yearly_proportions(sb_mesh_data, \"Structural Biology\", disease_labels)\n",
    "pd_yearly_proportions = get_yearly_proportions(pd_mesh_data, \"Protein Design\", disease_labels)\n",
    "bi_yearly_proportions = get_yearly_proportions(bi_mesh_data, \"Bioinformatics\", disease_labels)"
   ]
  },
  {
   "cell_type": "markdown",
   "metadata": {},
   "source": [
    "### Patents"
   ]
  },
  {
   "cell_type": "code",
   "execution_count": 33,
   "metadata": {},
   "outputs": [
    {
     "data": {
      "text/html": [
       "<pre style=\"white-space:pre;overflow-x:auto;line-height:normal;font-family:Menlo,'DejaVu Sans Mono',consolas,'Courier New',monospace\"><span style=\"color: #7fbfbf; text-decoration-color: #7fbfbf\">[04/04/24 17:33:43] </span><span style=\"color: #000080; text-decoration-color: #000080\">INFO    </span> Loading data from <span style=\"color: #ff8700; text-decoration-color: #ff8700\">lens.data_processing.primary</span> <span style=\"font-weight: bold\">(</span>ParquetDataset<span style=\"font-weight: bold\">)</span><span style=\"color: #808000; text-decoration-color: #808000\">...</span> <a href=\"file:///home/dampudia/miniconda3/envs/.igl_alphafold/lib/python3.11/site-packages/kedro/io/data_catalog.py\" target=\"_blank\"><span style=\"color: #7f7f7f; text-decoration-color: #7f7f7f\">data_catalog.py</span></a><span style=\"color: #7f7f7f; text-decoration-color: #7f7f7f\">:</span><a href=\"file:///home/dampudia/miniconda3/envs/.igl_alphafold/lib/python3.11/site-packages/kedro/io/data_catalog.py#482\" target=\"_blank\"><span style=\"color: #7f7f7f; text-decoration-color: #7f7f7f\">482</span></a>\n",
       "</pre>\n"
      ],
      "text/plain": [
       "\u001b[2;36m[04/04/24 17:33:43]\u001b[0m\u001b[2;36m \u001b[0m\u001b[34mINFO    \u001b[0m Loading data from \u001b[38;5;208mlens.data_processing.primary\u001b[0m \u001b[1m(\u001b[0mParquetDataset\u001b[1m)\u001b[0m\u001b[33m...\u001b[0m \u001b]8;id=123746;file:///home/dampudia/miniconda3/envs/.igl_alphafold/lib/python3.11/site-packages/kedro/io/data_catalog.py\u001b\\\u001b[2mdata_catalog.py\u001b[0m\u001b]8;;\u001b\\\u001b[2m:\u001b[0m\u001b]8;id=388045;file:///home/dampudia/miniconda3/envs/.igl_alphafold/lib/python3.11/site-packages/kedro/io/data_catalog.py#482\u001b\\\u001b[2m482\u001b[0m\u001b]8;;\u001b\\\n"
      ]
     },
     "metadata": {},
     "output_type": "display_data"
    }
   ],
   "source": [
    "patents = catalog.load(\"lens.data_processing.primary\")"
   ]
  },
  {
   "cell_type": "code",
   "execution_count": 34,
   "metadata": {},
   "outputs": [
    {
     "data": {
      "text/html": [
       "<pre style=\"white-space:pre;overflow-x:auto;line-height:normal;font-family:Menlo,'DejaVu Sans Mono',consolas,'Courier New',monospace\"></pre>\n"
      ],
      "text/plain": []
     },
     "metadata": {},
     "output_type": "display_data"
    },
    {
     "data": {
      "text/html": [
       "\n",
       "<div id=\"altair-viz-e58e1f02edb94a479d374a0e3d05af8d\"></div>\n",
       "<script type=\"text/javascript\">\n",
       "  var VEGA_DEBUG = (typeof VEGA_DEBUG == \"undefined\") ? {} : VEGA_DEBUG;\n",
       "  (function(spec, embedOpt){\n",
       "    let outputDiv = document.currentScript.previousElementSibling;\n",
       "    if (outputDiv.id !== \"altair-viz-e58e1f02edb94a479d374a0e3d05af8d\") {\n",
       "      outputDiv = document.getElementById(\"altair-viz-e58e1f02edb94a479d374a0e3d05af8d\");\n",
       "    }\n",
       "    const paths = {\n",
       "      \"vega\": \"https://cdn.jsdelivr.net/npm//vega@5?noext\",\n",
       "      \"vega-lib\": \"https://cdn.jsdelivr.net/npm//vega-lib?noext\",\n",
       "      \"vega-lite\": \"https://cdn.jsdelivr.net/npm//vega-lite@4.17.0?noext\",\n",
       "      \"vega-embed\": \"https://cdn.jsdelivr.net/npm//vega-embed@6?noext\",\n",
       "    };\n",
       "\n",
       "    function maybeLoadScript(lib, version) {\n",
       "      var key = `${lib.replace(\"-\", \"\")}_version`;\n",
       "      return (VEGA_DEBUG[key] == version) ?\n",
       "        Promise.resolve(paths[lib]) :\n",
       "        new Promise(function(resolve, reject) {\n",
       "          var s = document.createElement('script');\n",
       "          document.getElementsByTagName(\"head\")[0].appendChild(s);\n",
       "          s.async = true;\n",
       "          s.onload = () => {\n",
       "            VEGA_DEBUG[key] = version;\n",
       "            return resolve(paths[lib]);\n",
       "          };\n",
       "          s.onerror = () => reject(`Error loading script: ${paths[lib]}`);\n",
       "          s.src = paths[lib];\n",
       "        });\n",
       "    }\n",
       "\n",
       "    function showError(err) {\n",
       "      outputDiv.innerHTML = `<div class=\"error\" style=\"color:red;\">${err}</div>`;\n",
       "      throw err;\n",
       "    }\n",
       "\n",
       "    function displayChart(vegaEmbed) {\n",
       "      vegaEmbed(outputDiv, spec, embedOpt)\n",
       "        .catch(err => showError(`Javascript Error: ${err.message}<br>This usually means there's a typo in your chart specification. See the javascript console for the full traceback.`));\n",
       "    }\n",
       "\n",
       "    if(typeof define === \"function\" && define.amd) {\n",
       "      requirejs.config({paths});\n",
       "      require([\"vega-embed\"], displayChart, err => showError(`Error loading script: ${err.message}`));\n",
       "    } else {\n",
       "      maybeLoadScript(\"vega\", \"5\")\n",
       "        .then(() => maybeLoadScript(\"vega-lite\", \"4.17.0\"))\n",
       "        .then(() => maybeLoadScript(\"vega-embed\", \"6\"))\n",
       "        .catch(showError)\n",
       "        .then(() => displayChart(vegaEmbed));\n",
       "    }\n",
       "  })({\"config\": {\"view\": {\"continuousWidth\": 400, \"continuousHeight\": 300}}, \"data\": {\"name\": \"data-87f3f7f93ee47eba2c58210faf56e570\"}, \"mark\": {\"type\": \"bar\", \"width\": 10}, \"encoding\": {\"tooltip\": [{\"field\": \"year_month\", \"type\": \"nominal\"}, {\"field\": \"count\", \"type\": \"quantitative\"}], \"x\": {\"field\": \"year_month\", \"type\": \"temporal\"}, \"y\": {\"field\": \"count\", \"type\": \"quantitative\"}}, \"height\": 400, \"title\": \"Number of Unique Patent Titles per Month\", \"width\": 500, \"$schema\": \"https://vega.github.io/schema/vega-lite/v4.17.0.json\", \"datasets\": {\"data-87f3f7f93ee47eba2c58210faf56e570\": [{\"year_month\": \"2021-01\", \"count\": 13826}, {\"year_month\": \"2021-02\", \"count\": 13471}, {\"year_month\": \"2021-03\", \"count\": 17517}, {\"year_month\": \"2021-04\", \"count\": 15204}, {\"year_month\": \"2021-05\", \"count\": 14256}, {\"year_month\": \"2021-06\", \"count\": 17902}, {\"year_month\": \"2021-07\", \"count\": 15091}, {\"year_month\": \"2021-08\", \"count\": 17356}, {\"year_month\": \"2021-09\", \"count\": 15449}, {\"year_month\": \"2021-10\", \"count\": 14680}, {\"year_month\": \"2021-11\", \"count\": 15786}, {\"year_month\": \"2021-12\", \"count\": 14296}, {\"year_month\": \"2022-01\", \"count\": 12070}, {\"year_month\": \"2022-02\", \"count\": 12479}, {\"year_month\": \"2022-03\", \"count\": 16621}, {\"year_month\": \"2022-04\", \"count\": 13337}, {\"year_month\": \"2022-05\", \"count\": 15002}, {\"year_month\": \"2022-06\", \"count\": 14648}, {\"year_month\": \"2022-07\", \"count\": 11803}, {\"year_month\": \"2022-08\", \"count\": 15548}, {\"year_month\": \"2022-09\", \"count\": 12582}, {\"year_month\": \"2022-10\", \"count\": 5861}, {\"year_month\": \"2022-11\", \"count\": 14605}, {\"year_month\": \"2022-12\", \"count\": 11589}, {\"year_month\": \"2023-01\", \"count\": 15190}, {\"year_month\": \"2023-02\", \"count\": 12824}, {\"year_month\": \"2023-03\", \"count\": 13470}, {\"year_month\": \"2023-04\", \"count\": 12191}, {\"year_month\": \"2023-05\", \"count\": 14220}, {\"year_month\": \"2023-06\", \"count\": 16033}, {\"year_month\": \"2023-07\", \"count\": 11759}, {\"year_month\": \"2023-08\", \"count\": 16952}, {\"year_month\": \"2023-09\", \"count\": 13205}, {\"year_month\": \"2023-10\", \"count\": 8033}, {\"year_month\": \"2023-11\", \"count\": 11208}, {\"year_month\": \"2023-12\", \"count\": 6826}]}}, {\"mode\": \"vega-lite\"});\n",
       "</script>"
      ],
      "text/plain": [
       "\u001b[1;35malt.Chart\u001b[0m\u001b[1m(\u001b[0m\u001b[33m...\u001b[0m\u001b[1m)\u001b[0m"
      ]
     },
     "execution_count": 34,
     "metadata": {},
     "output_type": "execute_result"
    }
   ],
   "source": [
    "# Convert 'date' to datetime\n",
    "patents['Publication Date'] = pd.to_datetime(patents['Publication Date'])\n",
    "\n",
    "# # Extract year and month\n",
    "# patents['year'] = patents['Publication Date'].dt.year\n",
    "# patents['month'] = patents['Publication Date'].dt.month\n",
    "\n",
    "# Create a new column 'year_month' for plotting\n",
    "patents['year_month'] = patents['Publication Date'].dt.to_period('M')\n",
    "\n",
    "# Group by 'year_month' and count the number of unique patent titles\n",
    "grouped_data = patents.groupby('year_month')['Title'].nunique().reset_index(name='count')\n",
    "\n",
    "# Convert 'year_month' to string\n",
    "grouped_data['year_month'] = grouped_data['year_month'].astype(str)\n",
    "\n",
    "# Create the histogram\n",
    "chart = alt.Chart(grouped_data).mark_bar(width=10).encode(\n",
    "    x='year_month:T',\n",
    "    y='count:Q',\n",
    "    tooltip=['year_month', 'count']\n",
    ").properties(\n",
    "    width=500,\n",
    "    height=400,\n",
    "    title='Number of Unique Patent Titles per Month'\n",
    ")\n",
    "\n",
    "chart"
   ]
  },
  {
   "cell_type": "code",
   "execution_count": 35,
   "metadata": {},
   "outputs": [],
   "source": [
    "# Subset all DOIs in alphafold_oa_mesh_data that are also in patents data\n",
    "subset = alphafold_oa_mesh_data[alphafold_oa_mesh_data['doi'].isin(patents['NPL Resolved External ID(s)'])]\n",
    "\n",
    "# Merge right on the patents\n",
    "alphafold_citation_patents = patents.merge(subset, how='left', left_on='NPL Resolved External ID(s)', right_on='doi')\n",
    "\n",
    "# also subset those with a link to the AlphaFold paper DOI\n",
    "alphafold_patents = patents[patents['NPL Resolved External ID(s)']==\"10.1038/s41586-021-03819-2\"]\n",
    "alphafold_patents[\"filter\"] = \"AlphaFold\"\n",
    "\n",
    "# merge also on each subfield\n",
    "sb_patents = sb_sb.merge(patents, how='right', left_on='doi', right_on=\"NPL Resolved External ID(s)\")\n",
    "bi_patents = bi_sb.merge(patents, how='right', left_on='doi', right_on=\"NPL Resolved External ID(s)\")\n",
    "pd_patents = pd_sb.merge(patents, how='right', left_on='doi', right_on=\"NPL Resolved External ID(s)\")\n",
    "\n",
    "# drop all doi nan in the subfields and af citations\n",
    "sb_patents = sb_patents[sb_patents['doi'].notnull()]\n",
    "bi_patents = bi_patents[bi_patents['doi'].notnull()]\n",
    "pd_patents = pd_patents[pd_patents['doi'].notnull()]\n",
    "alphafold_citation_patents = alphafold_citation_patents[alphafold_citation_patents['doi'].notnull()]\n",
    "\n",
    "# relabel af citation levels to filter\n",
    "alphafold_citation_patents['filter'] = alphafold_citation_patents['level'].astype(int).astype(str)\n",
    "\n",
    "# add filter for each subfield\n",
    "sb_patents['filter'] = \"Structural Biology\"\n",
    "bi_patents['filter'] = \"Bioinformatics\"\n",
    "pd_patents['filter'] = \"Protein Design\"\n",
    "\n",
    "# create a single dataframe of patents, with each patent either a subfield, a level, or alpha fold citation, and the rest are \"Other\"\n",
    "cited_patents_data = pd.concat([sb_patents, bi_patents, pd_patents, alphafold_citation_patents], ignore_index=True)\n",
    "\n",
    "# # to patents not in cited_patents_data, add a filter \"Other\"\n",
    "# patents_not_cited = patents[~patents['NPL Resolved External ID(s)'].isin(cited_patents_data['NPL Resolved External ID(s)'])]\n",
    "# patents_not_cited['filter'] = \"Other\"\n",
    "\n",
    "# concatenate the two dataframes, keeping the date, citation counts, and the filter\n",
    "# final_patents_data = pd.concat([cited_patents_data, patents_not_cited], ignore_index=True)\n",
    "cited_patents_data = cited_patents_data[['Title', 'NPL Resolved External ID(s)', 'filter', 'Publication Date', 'Cited by Patent Count']]\n",
    "\n",
    "alphafold_patents = alphafold_patents[['Title', 'NPL Resolved External ID(s)', 'filter', 'Publication Date', 'Cited by Patent Count']]\n",
    "\n",
    "# concat\n",
    "cited_patents_data = pd.concat([cited_patents_data, alphafold_patents], ignore_index=True)\n",
    "\n",
    "# rename columns\n",
    "cited_patents_data.columns = ['title', 'doi', 'filter', 'date', 'cited_by']"
   ]
  },
  {
   "cell_type": "code",
   "execution_count": 36,
   "metadata": {},
   "outputs": [],
   "source": [
    "def process_patents_data(df, drop_duplicates):\n",
    "    if drop_duplicates:\n",
    "        df = df.drop_duplicates(subset=['title', 'filter', 'date'])\n",
    "\n",
    "    # Convert 'date' to datetime\n",
    "    df['date'] = pd.to_datetime(df['date'])\n",
    "\n",
    "    # Extract year and month\n",
    "    df['year'] = df['date'].dt.year\n",
    "    df['month'] = df['date'].dt.month\n",
    "\n",
    "    # Filter data from 2021 onwards\n",
    "    df = df[df['year'] >= 2021]\n",
    "\n",
    "    # Create a new column 'year_month' for plotting\n",
    "    df['year_month'] = df['date'].dt.to_period('M')\n",
    "\n",
    "    # Group by 'year_month' and 'filter' and count the number of patents\n",
    "    grouped_data = df.groupby(['year_month', 'filter']).size().reset_index(name='count')\n",
    "\n",
    "    # Define the desired order of 'filter'\n",
    "    filter_order = [\"AlphaFold\", \"0\", \"1\", \"2\", \"3\", \"Structural Biology\", \"Bioinformatics\", \"Protein Design\"]\n",
    "\n",
    "    # Create an ordered categorical type with the desired order\n",
    "    grouped_data['filter'] = pd.Categorical(grouped_data['filter'], categories=filter_order, ordered=True)\n",
    "\n",
    "    # Convert 'year_month' to string\n",
    "    grouped_data['year_month'] = grouped_data['year_month'].astype(str)\n",
    "\n",
    "    # Sort by 'filter'\n",
    "    grouped_data.sort_values('filter', inplace=True)\n",
    "\n",
    "    return grouped_data"
   ]
  },
  {
   "cell_type": "code",
   "execution_count": 37,
   "metadata": {},
   "outputs": [],
   "source": [
    "grouped_data_unique = process_patents_data(cited_patents_data, True)\n",
    "grouped_data_counts = process_patents_data(cited_patents_data, False)"
   ]
  },
  {
   "cell_type": "code",
   "execution_count": 38,
   "metadata": {},
   "outputs": [],
   "source": [
    "### test"
   ]
  },
  {
   "cell_type": "markdown",
   "metadata": {},
   "source": [
    "### WP Questions"
   ]
  },
  {
   "cell_type": "markdown",
   "metadata": {},
   "source": [
    "Of all papers that cite AF, what percentage mention a disease area? How does this compare to the SB baseline?"
   ]
  },
  {
   "cell_type": "code",
   "execution_count": 40,
   "metadata": {},
   "outputs": [
    {
     "data": {
      "text/html": [
       "<pre style=\"white-space:pre;overflow-x:auto;line-height:normal;font-family:Menlo,'DejaVu Sans Mono',consolas,'Courier New',monospace\"></pre>\n"
      ],
      "text/plain": []
     },
     "metadata": {},
     "output_type": "display_data"
    },
    {
     "data": {
      "text/html": [
       "<div>\n",
       "<style scoped>\n",
       "    .dataframe tbody tr th:only-of-type {\n",
       "        vertical-align: middle;\n",
       "    }\n",
       "\n",
       "    .dataframe tbody tr th {\n",
       "        vertical-align: top;\n",
       "    }\n",
       "\n",
       "    .dataframe thead th {\n",
       "        text-align: right;\n",
       "    }\n",
       "</style>\n",
       "<table border=\"1\" class=\"dataframe\">\n",
       "  <thead>\n",
       "    <tr style=\"text-align: right;\">\n",
       "      <th></th>\n",
       "      <th>level</th>\n",
       "      <th>value</th>\n",
       "    </tr>\n",
       "  </thead>\n",
       "  <tbody>\n",
       "    <tr>\n",
       "      <th>0</th>\n",
       "      <td>0</td>\n",
       "      <td>0.070028</td>\n",
       "    </tr>\n",
       "    <tr>\n",
       "      <th>1</th>\n",
       "      <td>1</td>\n",
       "      <td>0.124314</td>\n",
       "    </tr>\n",
       "    <tr>\n",
       "      <th>2</th>\n",
       "      <td>2</td>\n",
       "      <td>0.186999</td>\n",
       "    </tr>\n",
       "    <tr>\n",
       "      <th>3</th>\n",
       "      <td>3</td>\n",
       "      <td>0.211766</td>\n",
       "    </tr>\n",
       "  </tbody>\n",
       "</table>\n",
       "</div>"
      ],
      "text/plain": [
       "\n",
       "   level     value\n",
       "\u001b[1;36m0\u001b[0m      \u001b[1;36m0\u001b[0m  \u001b[1;36m0.070028\u001b[0m\n",
       "\u001b[1;36m1\u001b[0m      \u001b[1;36m1\u001b[0m  \u001b[1;36m0.124314\u001b[0m\n",
       "\u001b[1;36m2\u001b[0m      \u001b[1;36m2\u001b[0m  \u001b[1;36m0.186999\u001b[0m\n",
       "\u001b[1;36m3\u001b[0m      \u001b[1;36m3\u001b[0m  \u001b[1;36m0.211766\u001b[0m"
      ]
     },
     "execution_count": 40,
     "metadata": {},
     "output_type": "execute_result"
    }
   ],
   "source": [
    "# sum all disease areas for each level\n",
    "af_proportions = af_mesh_tree_level_proportions.groupby(\"level\").sum().reset_index()\n",
    "af_proportions[[\"level\", \"value\"]]"
   ]
  },
  {
   "cell_type": "code",
   "execution_count": 41,
   "metadata": {},
   "outputs": [],
   "source": [
    "# harmonise datasets\n",
    "af_mesh_tree_level_yearly_proportions.rename(columns={\"level\": \"filter\"}, inplace=True)\n",
    "\n",
    "# add them together\n",
    "dta = pd.concat([af_mesh_tree_level_yearly_proportions, sb_yearly_proportions, pd_yearly_proportions, bi_yearly_proportions])\n",
    "\n",
    "# group sum at the filter, year level\n",
    "dta = dta.groupby([\"filter\", \"year\"]).sum().reset_index()"
   ]
  },
  {
   "cell_type": "code",
   "execution_count": 42,
   "metadata": {},
   "outputs": [],
   "source": [
    "# make an altair line and dot plot with the yearly proportions for each level and all three subfields. Aggreggate across disease areas\n",
    "line = (\n",
    "    alt.Chart(\n",
    "        dta\n",
    "    )\n",
    "    .mark_line()\n",
    "    .encode(\n",
    "        x=alt.X(\"year:T\", title=\"Year\"),\n",
    "        y=alt.Y(\"value:Q\", title=\"Proportion\"),\n",
    "        color=alt.Color(\"filter:N\", title=\"Subfield\"),\n",
    "        strokeDash=alt.StrokeDash(\"filter:N\", title=\"Subfield\", legend=None),\n",
    "    )\n",
    ")\n",
    "\n",
    "dot = (\n",
    "    alt.Chart(\n",
    "        dta\n",
    "    )\n",
    "    .mark_circle()\n",
    "    .encode(\n",
    "        x=alt.X(\"year:T\", title=\"Year\"),\n",
    "        y=alt.Y(\"value:Q\", title=\"Proportion\"),\n",
    "        color=alt.Color(\"filter:N\", title=\"Subfield\"),\n",
    "    )\n",
    ")\n",
    "\n",
    "final_chart = line + dot\n",
    "\n",
    "png_str = vlc.vegalite_to_png(vl_spec=final_chart.to_json(), scale=3)\n",
    "\n",
    "with open(\n",
    "    f\"{PATHDIR}/data/08_reporting/wp1/01_q11.png\", \"wb\"\n",
    ") as f:\n",
    "    f.write(png_str)"
   ]
  },
  {
   "cell_type": "markdown",
   "metadata": {},
   "source": [
    "How does publication activity of papers that cite or are influenced by AF vary by disease area in comparison to the SB baseline?"
   ]
  },
  {
   "cell_type": "code",
   "execution_count": null,
   "metadata": {},
   "outputs": [],
   "source": [
    "\n",
    "lines = alt.Chart(af_mesh_tree_level_proportions).mark_line().encode(\n",
    "    x=alt.X(\"level\", axis=alt.Axis(values=[0, 1, 2, 3])),\n",
    "    y=\"value\",\n",
    "    color=\"mesh_tree_label\",\n",
    "    tooltip=[\"level\", \"mesh_tree_label\", \"value\"]\n",
    ")\n",
    "\n",
    "points = alt.Chart(af_mesh_tree_level_proportions).mark_circle().encode(\n",
    "    x=alt.X(\"level\", axis=alt.Axis(values=[0, 1, 2, 3])),\n",
    "    y=\"value\",\n",
    "    color=\"mesh_tree_label\",\n",
    "    tooltip=[\"level\", \"mesh_tree_label\", \"value\"]\n",
    ")\n",
    "\n",
    "final_chart = lines + points\n",
    "\n",
    "final_chart.properties(\n",
    "    title=\"Proportion of each level for each mesh_tree_label\"\n",
    ")\n",
    "\n",
    "png_str = vlc.vegalite_to_png(vl_spec=final_chart.to_json(), scale=3)\n",
    "\n",
    "with open(\n",
    "    f\"{PATHDIR}/data/08_reporting/wp1/02_q12a.png\", \"wb\"\n",
    ") as f:\n",
    "    f.write(png_str)"
   ]
  },
  {
   "cell_type": "code",
   "execution_count": 80,
   "metadata": {},
   "outputs": [],
   "source": [
    "# Get unique mesh_tree_labels\n",
    "labels = af_mesh_tree_level_proportions['mesh_tree_label'].unique()\n",
    "\n",
    "# Create a list to store the charts\n",
    "charts = []\n",
    "\n",
    "# Create a separate chart for each mesh_tree_label and add it to the list\n",
    "for i, label in enumerate(labels):\n",
    "    df = af_mesh_tree_level_proportions[af_mesh_tree_level_proportions['mesh_tree_label'] == label]\n",
    "    \n",
    "    # Determine if this is the last chart in its half\n",
    "    is_last_in_half = i == len(labels) // 2 - 1 or i == len(labels) - 1\n",
    "    \n",
    "    chart = alt.Chart(df).mark_bar(height=5).encode(\n",
    "        y=alt.Y('level:N', title='Level', sort=None),\n",
    "        x=alt.X('value:Q', title=None if not is_last_in_half else 'Proportion', axis=alt.Axis(gridColor='lightgray', labels=is_last_in_half, ticks=is_last_in_half)),\n",
    "        color=alt.value('steelblue'),\n",
    "        tooltip=[\"level\", \"mesh_tree_label\"]\n",
    "    ).properties(title=label, height=25)\n",
    "    charts.append(chart)\n",
    "\n",
    "# Split the list of charts into two equal halves\n",
    "half = len(charts) // 2\n",
    "charts1 = charts[:half]\n",
    "charts2 = charts[half:]\n",
    "\n",
    "# Stack the charts vertically in each half\n",
    "final_chart1 = alt.vconcat(*charts1).resolve_scale(x='shared')\n",
    "final_chart2 = alt.vconcat(*charts2).resolve_scale(x='shared')\n",
    "\n",
    "# Concatenate the two halves horizontally\n",
    "final_chart = alt.hconcat(final_chart1, final_chart2).resolve_scale(x='shared').configure_concat(spacing=5)\n",
    "\n",
    "final_chart.properties(\n",
    "    title=\"Proportion of each level for each mesh_tree_label\"\n",
    ")\n",
    "\n",
    "png_str = vlc.vegalite_to_png(vl_spec=final_chart.to_json(), scale=3)\n",
    "\n",
    "with open(\n",
    "    f\"{PATHDIR}/data/08_reporting/wp1/02_q12a2.png\", \"wb\"\n",
    ") as f:\n",
    "    f.write(png_str)"
   ]
  },
  {
   "cell_type": "code",
   "execution_count": 83,
   "metadata": {},
   "outputs": [],
   "source": [
    "af_mesh_tree_level_proportions_plot = af_mesh_tree_level_proportions.copy()\n",
    "\n",
    "# rename level as filter and make it string. Make sure there is no level column.\n",
    "af_mesh_tree_level_proportions_plot = af_mesh_tree_level_proportions_plot.rename(columns={\"level\": \"filter\"})"
   ]
  },
  {
   "cell_type": "code",
   "execution_count": 84,
   "metadata": {},
   "outputs": [],
   "source": [
    "# concatenate the dataframes\n",
    "all_proportions = pd.concat([af_mesh_tree_level_proportions_plot, sb_proportions_2021, pd_proportions_2021, bi_proportions_2021])\n",
    "\n",
    "# drop Occupational Diseases\n",
    "all_proportions = all_proportions[all_proportions[\"mesh_tree_label\"] != \"Occupational Diseases\"]"
   ]
  },
  {
   "cell_type": "code",
   "execution_count": 85,
   "metadata": {},
   "outputs": [],
   "source": [
    "# create a column in all_proportions that is a one word label for the otherwise long label\n",
    "all_proportions[\"mesh_tree_label_short\"] = all_proportions[\"mesh_tree_label\"].apply(lambda x: x.split(\" \")[0])"
   ]
  },
  {
   "cell_type": "code",
   "execution_count": 130,
   "metadata": {},
   "outputs": [],
   "source": [
    "# create chart, compare level 0 to each of the three subfields\n",
    "c1a = create_population_chart(\n",
    "    all_proportions, \"0\", \"Protein Design\", \"AlphaFold - Level 0\", \"Protein Design\", \"#AFA6A5\", \"#AFA6A5\"\n",
    ")\n",
    "\n",
    "c2a = create_population_chart(\n",
    "    all_proportions, \"0\", \"Structural Biology\", \"AlphaFold - Level 0\", \"Structural Biology\", \"#AFA6A5\", \"#AFA6A5\"\n",
    ")\n",
    "\n",
    "c3a = create_population_chart(\n",
    "    all_proportions, \"0\", \"Bioinformatics\", \"AlphaFold - Level 0\", \"Bioinformatics\", \"#AFA6A5\", \"#AFA6A5\"\n",
    ")"
   ]
  },
  {
   "cell_type": "code",
   "execution_count": 132,
   "metadata": {},
   "outputs": [],
   "source": [
    "# do the same level 1\n",
    "c1b = create_population_chart(\n",
    "    all_proportions, \"1\", \"Protein Design\", \"AlphaFold - Level 1\", \"Protein Design\", \"#1f77b4\", \"#1f77b4\"\n",
    ")\n",
    "c2b = create_population_chart(\n",
    "    all_proportions, \"1\", \"Structural Biology\", \"AlphaFold - Level 1\", \"Structural Biology\", \"#1f77b4\", \"#1f77b4\"\n",
    ")\n",
    "c3b = create_population_chart(\n",
    "    all_proportions, \"1\", \"Bioinformatics\", \"AlphaFold - Level 1\", \"Bioinformatics\", \"#1f77b4\", \"#ff7f0e\"\n",
    ")"
   ]
  },
  {
   "cell_type": "code",
   "execution_count": 133,
   "metadata": {},
   "outputs": [],
   "source": [
    "# do the same level 2\n",
    "c1c = create_population_chart(\n",
    "    all_proportions, \"2\", \"Protein Design\", \"AlphaFold - Level 2\", \"Protein Design\", \"#1f77b4\", \"#ff7f0e\"\n",
    ")\n",
    "c2c = create_population_chart(\n",
    "    all_proportions, \"2\", \"Structural Biology\", \"AlphaFold - Level 2\", \"Structural Biology\", \"#1f77b4\", \"#ff7f0e\"\n",
    ")\n",
    "c3c = create_population_chart(\n",
    "    all_proportions, \"2\", \"Bioinformatics\", \"AlphaFold - Level 2\", \"Bioinformatics\", \"#1f77b4\", \"#ff7f0e\"\n",
    ")"
   ]
  },
  {
   "cell_type": "code",
   "execution_count": 134,
   "metadata": {},
   "outputs": [],
   "source": [
    "# do the same level 3\n",
    "c1d = create_population_chart(\n",
    "    all_proportions, \"3\", \"Protein Design\", \"AlphaFold - Level 3\", \"Protein Design\", \"#1f77b4\", \"#ff7f0e\"\n",
    ")\n",
    "c2d = create_population_chart(\n",
    "    all_proportions, \"3\", \"Structural Biology\", \"AlphaFold - Level 3\", \"Structural Biology\", \"#1f77b4\", \"#ff7f0e\"\n",
    ")\n",
    "c3d = create_population_chart(\n",
    "    all_proportions, \"3\", \"Bioinformatics\", \"AlphaFold - Level 3\", \"Bioinformatics\", \"#1f77b4\", \"#ff7f0e\"\n",
    ")"
   ]
  },
  {
   "cell_type": "code",
   "execution_count": 135,
   "metadata": {},
   "outputs": [],
   "source": [
    "# hconcat each a, b, c, d group, and vconcat each of these in turn\n",
    "a = alt.hconcat(c1a, c2a, c3a)\n",
    "b = alt.hconcat(c1b, c2b, c3b)\n",
    "c = alt.hconcat(c1c, c2c, c3c)\n",
    "d = alt.hconcat(c1d, c2d, c3d)\n",
    "\n",
    "final_chart = alt.vconcat(a, b, c, d)\n",
    "\n",
    "png_str = vlc.vegalite_to_png(vl_spec=final_chart.to_json(), scale=3)\n",
    "\n",
    "with open(\n",
    "    f\"{PATHDIR}/data/08_reporting/wp1/03_q12b.png\", \"wb\"\n",
    ") as f:\n",
    "    f.write(png_str)"
   ]
  },
  {
   "cell_type": "code",
   "execution_count": 136,
   "metadata": {},
   "outputs": [],
   "source": [
    "charts = [a, b, c, d]\n",
    "chart_names = ['a', 'b', 'c', 'd']\n",
    "\n",
    "for chart, name in zip(charts, chart_names):\n",
    "    png_str = vlc.vegalite_to_png(vl_spec=chart.to_json(), scale=3)\n",
    "\n",
    "    with open(\n",
    "        f\"{PATHDIR}/data/08_reporting/wp1/03_q12b_{name}.png\", \"wb\"\n",
    "    ) as f:\n",
    "        f.write(png_str)"
   ]
  },
  {
   "cell_type": "markdown",
   "metadata": {},
   "source": [
    "What specific disease areas are advancing most significantly due to AF? How has the rate of SB activity in these areas changed since the advent of AF?"
   ]
  },
  {
   "cell_type": "code",
   "execution_count": 137,
   "metadata": {},
   "outputs": [],
   "source": [
    "def calculate_relative_frequency(df):\n",
    "    # Calculate counts\n",
    "    counts = df.groupby([\"level\", \"year\", \"mesh_tree_label\", \"mesh_terms_label\"]).size().reset_index(name='counts')\n",
    "\n",
    "    # Calculate total counts for each year and level\n",
    "    total_counts = df.groupby([\"level\", \"year\"]).size().reset_index(name='total_counts')\n",
    "\n",
    "    # Merge counts with total counts\n",
    "    merged = pd.merge(counts, total_counts, on=[\"level\", \"year\"])\n",
    "\n",
    "    # Calculate relative frequency\n",
    "    merged['relative_frequency'] = merged['counts'] / merged['total_counts']\n",
    "\n",
    "    # Pivot the table\n",
    "    relative_frequency = merged.pivot_table(index=[\"level\", \"year\", \"mesh_tree_label\"], columns=\"mesh_terms_label\", values=\"relative_frequency\").reset_index().fillna(0)\n",
    "\n",
    "    # Melt the DataFrame back into a long format\n",
    "    relative_frequency = relative_frequency.melt(id_vars=[\"level\", \"year\", \"mesh_tree_label\"], value_vars=relative_frequency.columns[3:])\n",
    "\n",
    "    # Filter out rows where relative_frequency is 0\n",
    "    relative_frequency = relative_frequency[relative_frequency[\"value\"] != 0.].reset_index(drop=True)\n",
    "\n",
    "\n",
    "    # Add total counts\n",
    "    total_counts_level_year = df.groupby([\"level\", \"year\"]).size().reset_index(name='yearly_counts')\n",
    "    relative_frequency = pd.merge(relative_frequency, total_counts_level_year, on=[\"level\", \"year\"])\n",
    "\n",
    "    # Rename 'level' column to 'filter'\n",
    "    relative_frequency = relative_frequency.rename(columns={\"level\": \"filter\"})\n",
    "\n",
    "    return relative_frequency\n",
    "\n",
    "# Use the function on your DataFrame\n",
    "af_mesh_label_level_yearly_counts = calculate_relative_frequency(alphafold_oa_mesh_data)\n",
    "\n",
    "# drop other\n",
    "af_mesh_label_level_yearly_counts = af_mesh_label_level_yearly_counts[af_mesh_label_level_yearly_counts[\"mesh_tree_label\"] != \"Other\"]"
   ]
  },
  {
   "cell_type": "code",
   "execution_count": 138,
   "metadata": {},
   "outputs": [],
   "source": [
    "def process_mesh_label_yearly_counts(df, subfield):\n",
    "    # Calculate counts\n",
    "    counts = (\n",
    "        df.groupby([\"year\", \"mesh_tree_label\", \"mesh_terms_label\"])\n",
    "        .size()\n",
    "        .reset_index(name=\"counts\")\n",
    "    )\n",
    "\n",
    "    # Calculate total counts for each year\n",
    "    total_counts = df.groupby([\"year\"]).size().reset_index(name=\"total_counts\")\n",
    "\n",
    "    # Merge counts with total counts\n",
    "    merged = pd.merge(counts, total_counts, on=[\"year\"])\n",
    "\n",
    "    # Calculate relative frequency\n",
    "    merged[\"relative_frequency\"] = merged[\"counts\"] / merged[\"total_counts\"]\n",
    "\n",
    "    # Pivot the table\n",
    "    relative_frequency = (\n",
    "        merged.pivot_table(\n",
    "            index=[\"year\", \"mesh_tree_label\"],\n",
    "            columns=\"mesh_terms_label\",\n",
    "            values=\"relative_frequency\",\n",
    "        )\n",
    "        .reset_index()\n",
    "        .fillna(0)\n",
    "    )\n",
    "\n",
    "    # Melt the DataFrame back into a long format\n",
    "    relative_frequency = relative_frequency.melt(\n",
    "        id_vars=[\"year\", \"mesh_tree_label\"], value_vars=relative_frequency.columns[2:]\n",
    "    )\n",
    "\n",
    "    # Filter out rows where relative_frequency is 0\n",
    "    relative_frequency = relative_frequency[\n",
    "        relative_frequency[\"value\"] != 0.0\n",
    "    ].reset_index(drop=True)\n",
    "\n",
    "    # Add the subfield as a filter\n",
    "    relative_frequency[\"filter\"] = subfield\n",
    "\n",
    "    # Add yearly counts\n",
    "    yearly_counts = df.groupby([\"year\"]).size().reset_index(name=\"yearly_counts\")\n",
    "    relative_frequency = pd.merge(relative_frequency, yearly_counts, on=[\"year\"])\n",
    "\n",
    "    return relative_frequency\n",
    "\n",
    "\n",
    "# Run the function for each subfield\n",
    "subfields = [\"Structural Biology\", \"Protein Design\", \"Bioinformatics\"]\n",
    "mesh_data_list = [\n",
    "    sb_mesh_data_2021,\n",
    "    pd_mesh_data_2021,\n",
    "    bi_mesh_data_2021,\n",
    "]  # replace with your actual dataframes\n",
    "\n",
    "results = []\n",
    "for subfield, df in zip(subfields, mesh_data_list):\n",
    "    result = process_mesh_label_yearly_counts(df, subfield)\n",
    "    results.append(result)\n",
    "\n",
    "# Concatenate the results\n",
    "subfields_relative_frequency = pd.concat(results)\n",
    "\n",
    "# drop Other\n",
    "subfields_relative_frequency = subfields_relative_frequency[\n",
    "    subfields_relative_frequency[\"mesh_tree_label\"] != \"Other\"\n",
    "]"
   ]
  },
  {
   "cell_type": "code",
   "execution_count": 139,
   "metadata": {},
   "outputs": [],
   "source": [
    "def process_mesh_label_yearly_counts_combined(df_list, subfields):\n",
    "    # Combine all dataframes\n",
    "    combined_df = pd.concat(df_list)\n",
    "\n",
    "    # Calculate counts\n",
    "    counts = combined_df.groupby([\"year\", \"mesh_tree_label\", \"mesh_terms_label\"]).size().reset_index(name='counts')\n",
    "\n",
    "    # Calculate total counts for each year\n",
    "    total_counts = combined_df.groupby([\"year\"]).size().reset_index(name='total_counts')\n",
    "\n",
    "    # Merge counts with total counts\n",
    "    merged = pd.merge(counts, total_counts, on=[\"year\"])\n",
    "\n",
    "    # Calculate relative frequency\n",
    "    merged['relative_frequency'] = merged['counts'] / merged['total_counts']\n",
    "\n",
    "    # Pivot the table\n",
    "    relative_frequency = merged.pivot_table(index=[\"year\", \"mesh_tree_label\"], columns=\"mesh_terms_label\", values=\"relative_frequency\").reset_index().fillna(0)\n",
    "\n",
    "    # Melt the DataFrame back into a long format\n",
    "    relative_frequency = relative_frequency.melt(id_vars=[\"year\", \"mesh_tree_label\"], value_vars=relative_frequency.columns[2:])\n",
    "\n",
    "    # Filter out rows where relative_frequency is 0\n",
    "    relative_frequency = relative_frequency[relative_frequency[\"value\"] != 0.].reset_index(drop=True)\n",
    "\n",
    "    # Add the subfield as a filter\n",
    "    for subfield in subfields:\n",
    "        relative_frequency.loc[relative_frequency['mesh_tree_label'].str.contains(subfield), 'filter'] = subfield\n",
    "\n",
    "    # Add yearly counts\n",
    "    yearly_counts = combined_df.groupby([\"year\"]).size().reset_index(name='yearly_counts')\n",
    "    relative_frequency = pd.merge(relative_frequency, yearly_counts, on=[\"year\"])\n",
    "\n",
    "    return relative_frequency\n",
    "\n",
    "# Run the function for all subfields combined\n",
    "subfields = ['Structural Biology', 'Protein Design', 'Bioinformatics']\n",
    "mesh_data_list = [sb_mesh_data_2021, pd_mesh_data_2021, bi_mesh_data_2021]  # replace with your actual dataframes\n",
    "\n",
    "combined_relative_frequency = process_mesh_label_yearly_counts_combined(mesh_data_list, subfields)\n",
    "\n",
    "# drop Other\n",
    "combined_relative_frequency = combined_relative_frequency[combined_relative_frequency[\"mesh_tree_label\"] != \"Other\"]"
   ]
  },
  {
   "cell_type": "code",
   "execution_count": 140,
   "metadata": {},
   "outputs": [],
   "source": [
    "def compute_relative_frequency_ratio(af_df, subfields_df):\n",
    "    # Merge the two DataFrames\n",
    "    merged = pd.merge(af_df, subfields_df, how='outer', on=['year', 'mesh_tree_label', 'mesh_terms_label'], suffixes=('_af', '_subfields'))\n",
    "\n",
    "    # Calculate the ratio of relative frequency in AF papers against all subfields\n",
    "    merged['relative_frequency_ratio'] = merged['value_af'] / merged['value_subfields']\n",
    "\n",
    "    return merged\n",
    "\n",
    "# Use the function on your DataFrames\n",
    "relative_frequency_ratio = compute_relative_frequency_ratio(af_mesh_label_level_yearly_counts, combined_relative_frequency)\n",
    "\n",
    "# drop anything with filter_af nan\n",
    "relative_frequency_ratio = relative_frequency_ratio[relative_frequency_ratio[\"filter_af\"].notnull()]\n",
    "\n",
    "# make it again a string of value \"0\", \"1\", \"2\", \"3\"\n",
    "relative_frequency_ratio[\"filter_af\"] = relative_frequency_ratio[\"filter_af\"].astype(int).astype(str)"
   ]
  },
  {
   "cell_type": "code",
   "execution_count": 141,
   "metadata": {},
   "outputs": [],
   "source": [
    "def get_top_bottom_ratio_words(df, n=5, level=0):\n",
    "\n",
    "    # Filter the DataFrame for the level\n",
    "    df = df[df['filter_af'] == str(level)]\n",
    "\n",
    "    # Get top n ratio words for each year and disease group\n",
    "    top_n = df.groupby(['year', 'mesh_tree_label']).apply(lambda x: x.nlargest(n, 'relative_frequency_ratio')).reset_index(drop=True)\n",
    "\n",
    "    # Get bottom n ratio words for each year and disease group\n",
    "    bottom_n = df.groupby(['year', 'mesh_tree_label']).apply(lambda x: x.nsmallest(n, 'relative_frequency_ratio')).reset_index(drop=True)\n",
    "\n",
    "    return top_n, bottom_n\n",
    "\n",
    "# Use the function on your DataFrame\n",
    "top_20_l0, bottom_20_l0 = get_top_bottom_ratio_words(relative_frequency_ratio, n=20, level=0)"
   ]
  },
  {
   "cell_type": "code",
   "execution_count": 142,
   "metadata": {},
   "outputs": [],
   "source": [
    "# drop duplicate mesh_terms_label\n",
    "relative_frequency_ratio = relative_frequency_ratio.drop_duplicates(subset=[\"year\", \"mesh_terms_label\"])"
   ]
  },
  {
   "cell_type": "code",
   "execution_count": 143,
   "metadata": {},
   "outputs": [],
   "source": [
    "import altair as alt\n",
    "\n",
    "# Sort the data by 'relative_frequency_ratio' and take the top 5\n",
    "datap = top_20_l0.sort_values('relative_frequency_ratio', ascending=False)[:80]\n",
    "\n",
    "# keep the ones that have a rfr of > 1\n",
    "datap = datap[datap['relative_frequency_ratio'] > 1]\n",
    "\n",
    "# Create the chart\n",
    "final_chart = alt.Chart(datap).mark_bar().encode(\n",
    "    x='relative_frequency_ratio:Q',\n",
    "    y=alt.Y('mesh_terms_label:N', sort='-x'),\n",
    "    color='mesh_tree_label:N',\n",
    "    tooltip=['mesh_terms_label', 'relative_frequency_ratio', 'mesh_tree_label']\n",
    ").properties(\n",
    "    title='Top Ratio Words for AF Level 0'\n",
    ")\n",
    "\n",
    "png_str = vlc.vegalite_to_png(vl_spec=final_chart.to_json(), scale=3)\n",
    "\n",
    "with open(\n",
    "    f\"{PATHDIR}/data/08_reporting/wp1/04_q13a.png\", \"wb\"\n",
    ") as f:\n",
    "    f.write(png_str)"
   ]
  },
  {
   "cell_type": "code",
   "execution_count": 207,
   "metadata": {},
   "outputs": [],
   "source": [
    "# Define a function to get the top and bottom 5 observations for each year\n",
    "def get_top_bottom(df):\n",
    "    return pd.concat([df.nlargest(3, 'relative_frequency_ratio'), df.nsmallest(3, 'relative_frequency_ratio')])\n",
    "\n",
    "# Loop over the levels\n",
    "for level in range(4):\n",
    "    # Filter the data for the current level\n",
    "    frequencies_level = relative_frequency_ratio[\n",
    "        relative_frequency_ratio[\"filter_af\"] == str(level)\n",
    "    ].copy()\n",
    "    frequencies_level[\"value_counts\"] = (\n",
    "        frequencies_level[\"yearly_counts_af\"] * frequencies_level[\"value_af\"]\n",
    "        + frequencies_level[\"yearly_counts_subfields\"]\n",
    "        * frequencies_level[\"value_subfields\"]\n",
    "    )\n",
    "\n",
    "    # Initialize an empty list to store the charts\n",
    "    charts = []\n",
    "\n",
    "    # Loop over the years\n",
    "    for year in [\"2021\", \"2022\", \"2023\"]:\n",
    "        # Filter the data for the current year\n",
    "        data_year = frequencies_level[frequencies_level['year'] == year]\n",
    "        \n",
    "        # Get the top and bottom 5 observations for the current year\n",
    "        top_bottom_year = get_top_bottom(data_year)\n",
    "        \n",
    "        # Create the text chart for the current year\n",
    "        top_bottom_text_year = alt.Chart(top_bottom_year).mark_text(dy=-10, align='right').encode(\n",
    "            x=alt.X('relative_frequency_ratio:Q'),\n",
    "            y=alt.Y('value_counts:Q'),\n",
    "            text=alt.Text('mesh_terms_label:N')\n",
    "        )\n",
    "        \n",
    "        # Create the original chart for the current year\n",
    "        chart_year = alt.Chart(data_year).mark_circle().encode(\n",
    "            x=alt.X('relative_frequency_ratio:Q', axis=alt.Axis(grid=False), title='Relative Frequency Ratio'),\n",
    "            y=alt.Y('value_counts:Q', scale=alt.Scale(type='log', base=10), axis=alt.Axis(grid=False), title='Log of Value Counts'),\n",
    "            color='mesh_tree_label:N'\n",
    "        )\n",
    "        \n",
    "        # Layer the text chart on top of the original chart for the current year\n",
    "        final_chart_year = alt.layer(chart_year, top_bottom_text_year).properties(\n",
    "            title=f'Scatter Chart for AF Level {level} - Year {year}'\n",
    "        )\n",
    "        \n",
    "        # Add the chart for the current year to the list of charts\n",
    "        charts.append(final_chart_year)\n",
    "\n",
    "    # Concatenate the charts horizontally\n",
    "    final_chart = alt.hconcat(*charts)\n",
    "\n",
    "    # Save the chart as a PNG file\n",
    "    png_str = vlc.vegalite_to_png(vl_spec=final_chart.to_json(), scale=3)\n",
    "\n",
    "    with open(\n",
    "        f\"{PATHDIR}/data/08_reporting/wp1/04_q13a2_{level}.png\", \"wb\"\n",
    "    ) as f:\n",
    "        f.write(png_str)"
   ]
  },
  {
   "cell_type": "code",
   "execution_count": null,
   "metadata": {},
   "outputs": [],
   "source": [
    "# compute the quantile for the value_af\n",
    "quantiles = relative_frequency_ratio[\"value_af\"].quantile([0.25, 0.5, 0.75]).values\n",
    "\n",
    "# filter the data to keep 4th quantile\n",
    "qt_relative_frequency_ratio = relative_frequency_ratio[relative_frequency_ratio[\"value_af\"] > quantiles[2]]\n",
    "\n",
    "top_20_l0, bottom_20_l0 = get_top_bottom_ratio_words(qt_relative_frequency_ratio, n=20, level=0)\n",
    "\n",
    "# Sort the data by 'relative_frequency_ratio' and take the top 5\n",
    "data = top_20_l0.sort_values(\"relative_frequency_ratio\", ascending=False)[:80]\n",
    "\n",
    "# keep the ones that have a rfr of > 1\n",
    "data = data[data[\"relative_frequency_ratio\"] > 1]\n",
    "\n",
    "# Create the chart\n",
    "final_chart = (\n",
    "    alt.Chart(data)\n",
    "    .mark_bar()\n",
    "    .encode(\n",
    "        x=\"relative_frequency_ratio:Q\",\n",
    "        y=alt.Y(\"mesh_terms_label:N\", sort=\"-x\"),\n",
    "        color=\"mesh_tree_label:N\",\n",
    "        tooltip=[\"mesh_terms_label\", \"relative_frequency_ratio\", \"mesh_tree_label\"],\n",
    "    )\n",
    "    .properties(title=\"Top Ratio Words for AF Level 0 - 4th Quantile\")\n",
    ")\n",
    "\n",
    "png_str = vlc.vegalite_to_png(vl_spec=final_chart.to_json(), scale=3)\n",
    "\n",
    "with open(\n",
    "    f\"{PATHDIR}/data/08_reporting/wp1/05_q13b.png\", \"wb\"\n",
    ") as f:\n",
    "    f.write(png_str)"
   ]
  },
  {
   "cell_type": "code",
   "execution_count": null,
   "metadata": {},
   "outputs": [],
   "source": [
    "for level in [0,1,2,3]:\n",
    "    top_10, bottom_10 = get_top_bottom_ratio_words(relative_frequency_ratio, n=10, level=level)\n",
    "    # Sort the data by 'relative_frequency_ratio' and take the top 5\n",
    "    data = top_10.sort_values(\"relative_frequency_ratio\", ascending=False)\n",
    "\n",
    "    # keep the ones that have a rfr of > 1\n",
    "    data = data[data[\"relative_frequency_ratio\"] > 1]\n",
    "\n",
    "    # Get the unique years\n",
    "    years = sorted(data['year'].unique())\n",
    "\n",
    "    # Create a chart for each year and store them in a list\n",
    "    charts = []\n",
    "    for year in years:\n",
    "        yearly_data = data[data['year'] == year][:10]\n",
    "        chart = alt.Chart(yearly_data).mark_bar().encode(\n",
    "            x='relative_frequency_ratio:Q',\n",
    "            y=alt.Y('mesh_terms_label:N', sort='-x'),\n",
    "            color='mesh_tree_label:N',\n",
    "            tooltip=['mesh_terms_label', 'relative_frequency_ratio', 'mesh_tree_label']\n",
    "        ).properties(\n",
    "            title=f'Top 10 Ratio Words for AF Level {str(level)} in {year}',\n",
    "            width=200,\n",
    "        )\n",
    "        charts.append(chart)\n",
    "\n",
    "    # Concatenate the charts\n",
    "    final_chart = alt.hconcat(*charts)\n",
    "\n",
    "    png_str = vlc.vegalite_to_png(vl_spec=final_chart.to_json(), scale=3)\n",
    "\n",
    "    with open(\n",
    "        f\"{PATHDIR}/data/08_reporting/wp1/06_q13c_{str(level)}.png\", \"wb\"\n",
    "    ) as f:\n",
    "        f.write(png_str)"
   ]
  },
  {
   "cell_type": "code",
   "execution_count": 208,
   "metadata": {},
   "outputs": [],
   "source": [
    "# Filter the data for 'mesh_tree_label' == 'Other'\n",
    "other_data = alphafold_oa_mesh_data[alphafold_oa_mesh_data['mesh_tree_label'] == 'Other']\n",
    "\n",
    "# Group by 'year', 'level', 'mesh_terms_label' and get the count\n",
    "yearly_counts = other_data.groupby(['year', 'level', 'mesh_terms_label']).size().reset_index(name='count')\n",
    "\n",
    "# Calculate the total count for each year and level\n",
    "total_counts = other_data.groupby(['year', 'level']).size().reset_index(name='total_count')\n",
    "\n",
    "# Merge the yearly counts with the total counts\n",
    "merged = pd.merge(yearly_counts, total_counts, on=['year', 'level'])\n",
    "\n",
    "# Calculate the proportion\n",
    "merged['proportion'] = merged['count'] / merged['total_count']\n",
    "\n",
    "# Get the top 50 labels by proportion for each year and level\n",
    "top_50_labels = merged.groupby(['year', 'level']).apply(lambda x: x.nlargest(50, 'proportion')).reset_index(drop=True)\n",
    "\n",
    "# Plot the proportions in Altair with vertical bars and a warmer color scheme\n",
    "final_chart = alt.Chart(top_50_labels).mark_bar().encode(\n",
    "    y='mesh_terms_label:N',\n",
    "    x='proportion:Q',\n",
    "    color=alt.Color('year:O', scale=alt.Scale(scheme='oranges')),\n",
    "    column='level:O',\n",
    "    tooltip=['year', 'level', 'mesh_terms_label', 'proportion']\n",
    ").properties(\n",
    "    title='Annual Proportion of Top 50 Labels'\n",
    ")\n",
    "\n",
    "png_str = vlc.vegalite_to_png(vl_spec=final_chart.to_json(), scale=3)\n",
    "\n",
    "with open(\n",
    "    f\"{PATHDIR}/data/08_reporting/wp1/07_q2.png\", \"wb\"\n",
    ") as f:\n",
    "    f.write(png_str)"
   ]
  },
  {
   "cell_type": "markdown",
   "metadata": {},
   "source": [
    "Translational impact for clinical trials with medical sciences literature and patents"
   ]
  },
  {
   "cell_type": "code",
   "execution_count": 209,
   "metadata": {},
   "outputs": [],
   "source": [
    "# Create the stacked bar chart\n",
    "final_chart = alt.Chart(grouped_data_unique).mark_bar(width=10).encode(\n",
    "    x=alt.X('year_month:T', title='Year-Month'),\n",
    "    y=alt.Y('count:Q', title='Count'),\n",
    "    color=alt.Color('filter:N', scale=alt.Scale(scheme='category10')),\n",
    "    order=alt.Order('filter:N', sort='ascending'),\n",
    "    tooltip=['year_month', 'filter', alt.Tooltip('count', title='Count')]\n",
    ").properties(\n",
    "    width=500,  # Decrease the width to make the bars fatter\n",
    "    height=400,\n",
    "    title='Patent counts per month and relevant citation'\n",
    ")\n",
    "\n",
    "png_str = vlc.vegalite_to_png(vl_spec=final_chart.to_json(), scale=3)\n",
    "\n",
    "with open(\n",
    "    f\"{PATHDIR}/data/08_reporting/wp1/08_pats1.png\", \"wb\"\n",
    ") as f:\n",
    "    f.write(png_str)"
   ]
  },
  {
   "cell_type": "code",
   "execution_count": 211,
   "metadata": {},
   "outputs": [],
   "source": [
    "# Create the stacked bar chart\n",
    "final_chart = alt.Chart(grouped_data_counts).mark_bar(width=10).encode(\n",
    "    x=alt.X('year_month:T', title='Year-Month'),\n",
    "    y=alt.Y('count:Q', title='Count'),\n",
    "    color=alt.Color('filter:N', scale=alt.Scale(scheme='category10')),\n",
    "    order=alt.Order('filter:N', sort='ascending'),\n",
    "    tooltip=['year_month', 'filter', alt.Tooltip('count', title='Count')]\n",
    ").properties(\n",
    "    width=500,  # Decrease the width to make the bars fatter\n",
    "    height=400,\n",
    "    title='Total citation counts per month and relevant citation field'\n",
    ")\n",
    "\n",
    "png_str = vlc.vegalite_to_png(vl_spec=final_chart.to_json(), scale=3)\n",
    "\n",
    "with open(\n",
    "    f\"{PATHDIR}/data/08_reporting/wp1/09_pats2.png\", \"wb\"\n",
    ") as f:\n",
    "    f.write(png_str)"
   ]
  },
  {
   "cell_type": "markdown",
   "metadata": {},
   "source": [
    "Only relevant patents"
   ]
  },
  {
   "cell_type": "code",
   "execution_count": null,
   "metadata": {},
   "outputs": [],
   "source": [
    "# Filter the data to include only the rows where 'filter' is 'AlphaFold' or '0', '1', '2', or '3'\n",
    "filtered_data = grouped_data_unique[grouped_data_unique['filter'].isin(['AlphaFold', '0', '1', '2', '3'])]\n",
    "\n",
    "# Create the stacked bar chart\n",
    "final_chart = alt.Chart(filtered_data).mark_bar(width=10).encode(\n",
    "    x=alt.X('year_month:T', title='Year-Month'),\n",
    "    y=alt.Y('count:Q', title='Count'),\n",
    "    color=alt.Color('filter:N', scale=alt.Scale(scheme='category10')),\n",
    "    order=alt.Order('filter:N', sort='ascending'),\n",
    "    tooltip=['year_month', 'filter', alt.Tooltip('count', title='Count')]\n",
    ").properties(\n",
    "    width=500,  # Decrease the width to make the bars fatter\n",
    "    height=400,\n",
    "    title='Patent counts per month and relevant citation'\n",
    ")\n",
    "\n",
    "png_str = vlc.vegalite_to_png(vl_spec=final_chart.to_json(), scale=3)\n",
    "\n",
    "with open(\n",
    "    f\"{PATHDIR}/data/08_reporting/wp1/08_pats1_2.png\", \"wb\"\n",
    ") as f:\n",
    "    f.write(png_str)"
   ]
  },
  {
   "cell_type": "code",
   "execution_count": 217,
   "metadata": {},
   "outputs": [],
   "source": [
    "# Filter the data to include only the rows where 'filter' is 'AlphaFold' or '0', '1', '2', or '3'\n",
    "filtered_data = grouped_data_counts[grouped_data_counts['filter'].isin(['AlphaFold', '0', '1', '2', '3'])]\n",
    "\n",
    "# Create the stacked bar chart\n",
    "final_chart = alt.Chart(filtered_data).mark_bar(width=10).encode(\n",
    "    x=alt.X('year_month:T', title='Year-Month'),\n",
    "    y=alt.Y('count:Q', title='Count'),\n",
    "    color=alt.Color('filter:N', scale=alt.Scale(scheme='category10')),\n",
    "    order=alt.Order('filter:N', sort='ascending'),\n",
    "    tooltip=['year_month', 'filter', alt.Tooltip('count', title='Count')]\n",
    ").properties(\n",
    "    width=500,  # Decrease the width to make the bars fatter\n",
    "    height=400,\n",
    "    title='Total citation counts per month and relevant citation field'\n",
    ")\n",
    "\n",
    "png_str = vlc.vegalite_to_png(vl_spec=final_chart.to_json(), scale=3)\n",
    "\n",
    "with open(\n",
    "    f\"{PATHDIR}/data/08_reporting/wp1/08_pats2_2.png\", \"wb\"\n",
    ") as f:\n",
    "    f.write(png_str)"
   ]
  },
  {
   "cell_type": "code",
   "execution_count": 212,
   "metadata": {},
   "outputs": [],
   "source": [
    "# Create the stacked bar chart\n",
    "final_chart = alt.Chart(grouped_data_unique).mark_bar(width=10).encode(\n",
    "    x=alt.X('year_month:T', title='Year-Month'),\n",
    "    y=alt.Y('count:Q', stack='normalize', title='Count'),\n",
    "    color=alt.Color('filter:N', scale=alt.Scale(scheme='category10')),\n",
    "    order=alt.Order('filter:N', sort='ascending'),\n",
    "    tooltip=['year_month', 'filter', alt.Tooltip('count', title='Count')]\n",
    ").properties(\n",
    "    width=600,\n",
    "    height=400,\n",
    "    title='Number of Patents per Month Since 2021'\n",
    ")\n",
    "\n",
    "\n",
    "png_str = vlc.vegalite_to_png(vl_spec=final_chart.to_json(), scale=3)\n",
    "\n",
    "with open(\n",
    "    f\"{PATHDIR}/data/08_reporting/wp1/10_pats3.png\", \"wb\"\n",
    ") as f:\n",
    "    f.write(png_str)"
   ]
  },
  {
   "cell_type": "code",
   "execution_count": 213,
   "metadata": {},
   "outputs": [],
   "source": [
    "# Create the stacked bar chart\n",
    "final_chart = alt.Chart(grouped_data_counts).mark_bar(width=10).encode(\n",
    "    x=alt.X('year_month:T', title='Year-Month'),\n",
    "    y=alt.Y('count:Q', stack='normalize', title='Count'),\n",
    "    color=alt.Color('filter:N', scale=alt.Scale(scheme='category10')),\n",
    "    order=alt.Order('filter:N', sort='ascending'),\n",
    "    tooltip=['year_month', 'filter', alt.Tooltip('count', title='Count')]\n",
    ").properties(\n",
    "    width=600,\n",
    "    height=400,\n",
    "    title='Number of Citations by Patents per Month Since 2021'\n",
    ")\n",
    "\n",
    "\n",
    "png_str = vlc.vegalite_to_png(vl_spec=final_chart.to_json(), scale=3)\n",
    "\n",
    "with open(\n",
    "    f\"{PATHDIR}/data/08_reporting/wp1/11_pats4.png\", \"wb\"\n",
    ") as f:\n",
    "    f.write(png_str)"
   ]
  },
  {
   "cell_type": "code",
   "execution_count": 221,
   "metadata": {},
   "outputs": [],
   "source": [
    "# Filter the data to include only the rows where 'filter' is 'AlphaFold' or '0', '1', '2', or '3'\n",
    "filtered_data = grouped_data_unique[grouped_data_unique['filter'].isin(['AlphaFold', '0', '1', '2', '3'])]\n",
    "\n",
    "# Create the stacked bar chart\n",
    "final_chart = alt.Chart(filtered_data).mark_bar(width=10).encode(\n",
    "    x=alt.X('year_month:T', title='Year-Month'),\n",
    "    y=alt.Y('count:Q', stack='normalize', title='Count'),\n",
    "    color=alt.Color('filter:N', scale=alt.Scale(scheme='category10')),\n",
    "    order=alt.Order('filter:N', sort='ascending'),\n",
    "    tooltip=['year_month', 'filter', alt.Tooltip('count', title='Count')]\n",
    ").properties(\n",
    "    width=600,\n",
    "    height=400,\n",
    "    title='Number of Patents per Month Since 2021'\n",
    ")\n",
    "\n",
    "\n",
    "png_str = vlc.vegalite_to_png(vl_spec=final_chart.to_json(), scale=3)\n",
    "\n",
    "with open(\n",
    "    f\"{PATHDIR}/data/08_reporting/wp1/10_pats3_2.png\", \"wb\"\n",
    ") as f:\n",
    "    f.write(png_str)"
   ]
  },
  {
   "cell_type": "code",
   "execution_count": 222,
   "metadata": {},
   "outputs": [],
   "source": [
    "# Filter the data to include only the rows where 'filter' is 'AlphaFold' or '0', '1', '2', or '3'\n",
    "filtered_data = grouped_data_counts[grouped_data_counts['filter'].isin(['AlphaFold', '0', '1', '2', '3'])]\n",
    "\n",
    "# Create the stacked bar chart\n",
    "final_chart = alt.Chart(filtered_data).mark_bar(width=10).encode(\n",
    "    x=alt.X('year_month:T', title='Year-Month'),\n",
    "    y=alt.Y('count:Q', stack='normalize', title='Count'),\n",
    "    color=alt.Color('filter:N', scale=alt.Scale(scheme='category10')),\n",
    "    order=alt.Order('filter:N', sort='ascending'),\n",
    "    tooltip=['year_month', 'filter', alt.Tooltip('count', title='Count')]\n",
    ").properties(\n",
    "    width=600,\n",
    "    height=400,\n",
    "    title='Number of Citations by Patents per Month Since 2021'\n",
    ")\n",
    "\n",
    "\n",
    "png_str = vlc.vegalite_to_png(vl_spec=final_chart.to_json(), scale=3)\n",
    "\n",
    "with open(\n",
    "    f\"{PATHDIR}/data/08_reporting/wp1/11_pats4_2.png\", \"wb\"\n",
    ") as f:\n",
    "    f.write(png_str)"
   ]
  }
 ],
 "metadata": {
  "kernelspec": {
   "display_name": ".igl_alphafold",
   "language": "python",
   "name": "python3"
  },
  "language_info": {
   "codemirror_mode": {
    "name": "ipython",
    "version": 3
   },
   "file_extension": ".py",
   "mimetype": "text/x-python",
   "name": "python",
   "nbconvert_exporter": "python",
   "pygments_lexer": "ipython3",
   "version": "3.11.5"
  }
 },
 "nbformat": 4,
 "nbformat_minor": 2
}
