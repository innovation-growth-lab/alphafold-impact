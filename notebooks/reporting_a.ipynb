{
 "cells": [
  {
   "cell_type": "code",
   "execution_count": 1,
   "metadata": {},
   "outputs": [
    {
     "data": {
      "text/html": [
       "<pre style=\"white-space:pre;overflow-x:auto;line-height:normal;font-family:Menlo,'DejaVu Sans Mono',consolas,'Courier New',monospace\"><span style=\"color: #7fbfbf; text-decoration-color: #7fbfbf\">[03/05/25 18:14:36] </span><span style=\"color: #000080; text-decoration-color: #000080\">INFO    </span> Resolved project path as: <span style=\"color: #800080; text-decoration-color: #800080\">/home/dampudia/projects/</span><span style=\"color: #ff00ff; text-decoration-color: #ff00ff\">alphafold-impact.</span>    <a href=\"file:///home/dampudia/miniconda3/envs/.igl_alphafold/lib/python3.11/site-packages/kedro/ipython/__init__.py\" target=\"_blank\"><span style=\"color: #7f7f7f; text-decoration-color: #7f7f7f\">__init__.py</span></a><span style=\"color: #7f7f7f; text-decoration-color: #7f7f7f\">:</span><a href=\"file:///home/dampudia/miniconda3/envs/.igl_alphafold/lib/python3.11/site-packages/kedro/ipython/__init__.py#146\" target=\"_blank\"><span style=\"color: #7f7f7f; text-decoration-color: #7f7f7f\">146</span></a>\n",
       "<span style=\"color: #7fbfbf; text-decoration-color: #7fbfbf\">                    </span>         To set a different path, run <span style=\"color: #008000; text-decoration-color: #008000\">'%reload_kedro &lt;project_root&gt;'</span>            <span style=\"color: #7f7f7f; text-decoration-color: #7f7f7f\">               </span>\n",
       "</pre>\n"
      ],
      "text/plain": [
       "\u001b[2;36m[03/05/25 18:14:36]\u001b[0m\u001b[2;36m \u001b[0m\u001b[34mINFO    \u001b[0m Resolved project path as: \u001b[35m/home/dampudia/projects/\u001b[0m\u001b[95malphafold-impact.\u001b[0m    \u001b]8;id=420627;file:///home/dampudia/miniconda3/envs/.igl_alphafold/lib/python3.11/site-packages/kedro/ipython/__init__.py\u001b\\\u001b[2m__init__.py\u001b[0m\u001b]8;;\u001b\\\u001b[2m:\u001b[0m\u001b]8;id=653691;file:///home/dampudia/miniconda3/envs/.igl_alphafold/lib/python3.11/site-packages/kedro/ipython/__init__.py#146\u001b\\\u001b[2m146\u001b[0m\u001b]8;;\u001b\\\n",
       "\u001b[2;36m                    \u001b[0m         To set a different path, run \u001b[32m'%reload_kedro \u001b[0m\u001b[32m<\u001b[0m\u001b[32mproject_root\u001b[0m\u001b[32m>\u001b[0m\u001b[32m'\u001b[0m            \u001b[2m               \u001b[0m\n"
      ]
     },
     "metadata": {},
     "output_type": "display_data"
    },
    {
     "data": {
      "text/html": [
       "<pre style=\"white-space:pre;overflow-x:auto;line-height:normal;font-family:Menlo,'DejaVu Sans Mono',consolas,'Courier New',monospace\"><span style=\"color: #7fbfbf; text-decoration-color: #7fbfbf\">[03/05/25 18:14:38] </span><span style=\"color: #000080; text-decoration-color: #000080\">INFO    </span> Kedro project alphafold-impact                                         <a href=\"file:///home/dampudia/miniconda3/envs/.igl_alphafold/lib/python3.11/site-packages/kedro/ipython/__init__.py\" target=\"_blank\"><span style=\"color: #7f7f7f; text-decoration-color: #7f7f7f\">__init__.py</span></a><span style=\"color: #7f7f7f; text-decoration-color: #7f7f7f\">:</span><a href=\"file:///home/dampudia/miniconda3/envs/.igl_alphafold/lib/python3.11/site-packages/kedro/ipython/__init__.py#115\" target=\"_blank\"><span style=\"color: #7f7f7f; text-decoration-color: #7f7f7f\">115</span></a>\n",
       "</pre>\n"
      ],
      "text/plain": [
       "\u001b[2;36m[03/05/25 18:14:38]\u001b[0m\u001b[2;36m \u001b[0m\u001b[34mINFO    \u001b[0m Kedro project alphafold-impact                                         \u001b]8;id=838845;file:///home/dampudia/miniconda3/envs/.igl_alphafold/lib/python3.11/site-packages/kedro/ipython/__init__.py\u001b\\\u001b[2m__init__.py\u001b[0m\u001b]8;;\u001b\\\u001b[2m:\u001b[0m\u001b]8;id=114723;file:///home/dampudia/miniconda3/envs/.igl_alphafold/lib/python3.11/site-packages/kedro/ipython/__init__.py#115\u001b\\\u001b[2m115\u001b[0m\u001b]8;;\u001b\\\n"
      ]
     },
     "metadata": {},
     "output_type": "display_data"
    },
    {
     "data": {
      "text/html": [
       "<pre style=\"white-space:pre;overflow-x:auto;line-height:normal;font-family:Menlo,'DejaVu Sans Mono',consolas,'Courier New',monospace\"><span style=\"color: #7fbfbf; text-decoration-color: #7fbfbf\">                    </span><span style=\"color: #000080; text-decoration-color: #000080\">INFO    </span> Defined global variable <span style=\"color: #008000; text-decoration-color: #008000\">'context'</span>, <span style=\"color: #008000; text-decoration-color: #008000\">'session'</span>, <span style=\"color: #008000; text-decoration-color: #008000\">'catalog'</span> and            <a href=\"file:///home/dampudia/miniconda3/envs/.igl_alphafold/lib/python3.11/site-packages/kedro/ipython/__init__.py\" target=\"_blank\"><span style=\"color: #7f7f7f; text-decoration-color: #7f7f7f\">__init__.py</span></a><span style=\"color: #7f7f7f; text-decoration-color: #7f7f7f\">:</span><a href=\"file:///home/dampudia/miniconda3/envs/.igl_alphafold/lib/python3.11/site-packages/kedro/ipython/__init__.py#116\" target=\"_blank\"><span style=\"color: #7f7f7f; text-decoration-color: #7f7f7f\">116</span></a>\n",
       "<span style=\"color: #7fbfbf; text-decoration-color: #7fbfbf\">                    </span>         <span style=\"color: #008000; text-decoration-color: #008000\">'pipelines'</span>                                                            <span style=\"color: #7f7f7f; text-decoration-color: #7f7f7f\">               </span>\n",
       "</pre>\n"
      ],
      "text/plain": [
       "\u001b[2;36m                   \u001b[0m\u001b[2;36m \u001b[0m\u001b[34mINFO    \u001b[0m Defined global variable \u001b[32m'context'\u001b[0m, \u001b[32m'session'\u001b[0m, \u001b[32m'catalog'\u001b[0m and            \u001b]8;id=515886;file:///home/dampudia/miniconda3/envs/.igl_alphafold/lib/python3.11/site-packages/kedro/ipython/__init__.py\u001b\\\u001b[2m__init__.py\u001b[0m\u001b]8;;\u001b\\\u001b[2m:\u001b[0m\u001b]8;id=242778;file:///home/dampudia/miniconda3/envs/.igl_alphafold/lib/python3.11/site-packages/kedro/ipython/__init__.py#116\u001b\\\u001b[2m116\u001b[0m\u001b]8;;\u001b\\\n",
       "\u001b[2;36m                    \u001b[0m         \u001b[32m'pipelines'\u001b[0m                                                            \u001b[2m               \u001b[0m\n"
      ]
     },
     "metadata": {},
     "output_type": "display_data"
    },
    {
     "data": {
      "text/html": [
       "<pre style=\"white-space:pre;overflow-x:auto;line-height:normal;font-family:Menlo,'DejaVu Sans Mono',consolas,'Courier New',monospace\"><span style=\"color: #7fbfbf; text-decoration-color: #7fbfbf\">                    </span><span style=\"color: #000080; text-decoration-color: #000080\">INFO    </span> Registered line magic <span style=\"color: #008000; text-decoration-color: #008000\">'run_viz'</span>                                        <a href=\"file:///home/dampudia/miniconda3/envs/.igl_alphafold/lib/python3.11/site-packages/kedro/ipython/__init__.py\" target=\"_blank\"><span style=\"color: #7f7f7f; text-decoration-color: #7f7f7f\">__init__.py</span></a><span style=\"color: #7f7f7f; text-decoration-color: #7f7f7f\">:</span><a href=\"file:///home/dampudia/miniconda3/envs/.igl_alphafold/lib/python3.11/site-packages/kedro/ipython/__init__.py#122\" target=\"_blank\"><span style=\"color: #7f7f7f; text-decoration-color: #7f7f7f\">122</span></a>\n",
       "</pre>\n"
      ],
      "text/plain": [
       "\u001b[2;36m                   \u001b[0m\u001b[2;36m \u001b[0m\u001b[34mINFO    \u001b[0m Registered line magic \u001b[32m'run_viz'\u001b[0m                                        \u001b]8;id=904407;file:///home/dampudia/miniconda3/envs/.igl_alphafold/lib/python3.11/site-packages/kedro/ipython/__init__.py\u001b\\\u001b[2m__init__.py\u001b[0m\u001b]8;;\u001b\\\u001b[2m:\u001b[0m\u001b]8;id=694356;file:///home/dampudia/miniconda3/envs/.igl_alphafold/lib/python3.11/site-packages/kedro/ipython/__init__.py#122\u001b\\\u001b[2m122\u001b[0m\u001b]8;;\u001b\\\n"
      ]
     },
     "metadata": {},
     "output_type": "display_data"
    }
   ],
   "source": [
    "%load_ext kedro.ipython\n",
    "import warnings\n",
    "warnings.filterwarnings('ignore')\n",
    "\n",
    "import numpy as np\n",
    "import pandas as pd\n",
    "pd.set_option('display.max_rows', 500)\n",
    "pd.set_option('display.max_columns', 50)\n",
    "\n",
    "import altair as alt\n",
    "import vl_convert as vlc\n",
    "alt.data_transformers.disable_max_rows()\n",
    "\n",
    "from alphafold_impact.settings import SESSION_STORE_ARGS\n",
    "PATHDIR = SESSION_STORE_ARGS['path']\n",
    "SAVE_DIR = PATHDIR + '/data/08_reporting/reach/'\n",
    "ECR_SAVE_DIR = PATHDIR + '/data/08_reporting/reach/ecr/'\n",
    "\n",
    "# check folder, create if it doesn't exist\n",
    "import os\n",
    "for folder in [SAVE_DIR, ECR_SAVE_DIR]:\n",
    "    if not os.path.exists(folder):\n",
    "        os.makedirs(folder)"
   ]
  },
  {
   "cell_type": "code",
   "execution_count": 2,
   "metadata": {},
   "outputs": [],
   "source": [
    "# Reach"
   ]
  },
  {
   "cell_type": "code",
   "execution_count": 3,
   "metadata": {},
   "outputs": [
    {
     "data": {
      "text/html": [
       "<pre style=\"white-space:pre;overflow-x:auto;line-height:normal;font-family:Menlo,'DejaVu Sans Mono',consolas,'Courier New',monospace\"><span style=\"color: #7fbfbf; text-decoration-color: #7fbfbf\">                    </span><span style=\"color: #000080; text-decoration-color: #000080\">INFO    </span> Loading data from <span style=\"color: #ff8700; text-decoration-color: #ff8700\">publications.data.outputs</span> <span style=\"font-weight: bold\">(</span>ParquetDataset<span style=\"font-weight: bold\">)</span><span style=\"color: #808000; text-decoration-color: #808000\">...</span>    <a href=\"file:///home/dampudia/miniconda3/envs/.igl_alphafold/lib/python3.11/site-packages/kedro/io/data_catalog.py\" target=\"_blank\"><span style=\"color: #7f7f7f; text-decoration-color: #7f7f7f\">data_catalog.py</span></a><span style=\"color: #7f7f7f; text-decoration-color: #7f7f7f\">:</span><a href=\"file:///home/dampudia/miniconda3/envs/.igl_alphafold/lib/python3.11/site-packages/kedro/io/data_catalog.py#482\" target=\"_blank\"><span style=\"color: #7f7f7f; text-decoration-color: #7f7f7f\">482</span></a>\n",
       "</pre>\n"
      ],
      "text/plain": [
       "\u001b[2;36m                   \u001b[0m\u001b[2;36m \u001b[0m\u001b[34mINFO    \u001b[0m Loading data from \u001b[38;5;208mpublications.data.outputs\u001b[0m \u001b[1m(\u001b[0mParquetDataset\u001b[1m)\u001b[0m\u001b[33m...\u001b[0m    \u001b]8;id=791050;file:///home/dampudia/miniconda3/envs/.igl_alphafold/lib/python3.11/site-packages/kedro/io/data_catalog.py\u001b\\\u001b[2mdata_catalog.py\u001b[0m\u001b]8;;\u001b\\\u001b[2m:\u001b[0m\u001b]8;id=436081;file:///home/dampudia/miniconda3/envs/.igl_alphafold/lib/python3.11/site-packages/kedro/io/data_catalog.py#482\u001b\\\u001b[2m482\u001b[0m\u001b]8;;\u001b\\\n"
      ]
     },
     "metadata": {},
     "output_type": "display_data"
    }
   ],
   "source": [
    "publications = catalog.load(\"publications.data.outputs\")"
   ]
  },
  {
   "cell_type": "code",
   "execution_count": 4,
   "metadata": {},
   "outputs": [],
   "source": [
    "publications[\"authors\"] = publications[\"authorships\"].apply(\n",
    "    lambda x: [y[0] for y in x] if x is not None else []\n",
    ")"
   ]
  },
  {
   "cell_type": "code",
   "execution_count": 5,
   "metadata": {},
   "outputs": [],
   "source": [
    "publications[\"publication_date\"] = pd.to_datetime(publications[\"publication_date\"])\n",
    "publications[\"quarter\"] = publications[\"publication_date\"].dt.to_period(\"Q\").astype(str)"
   ]
  },
  {
   "cell_type": "code",
   "execution_count": 6,
   "metadata": {},
   "outputs": [],
   "source": [
    "authors = (\n",
    "    publications[\n",
    "        [\n",
    "            \"id\",\n",
    "            \"source\",\n",
    "            \"authors\",\n",
    "            \"level\",\n",
    "            \"quarter\",\n",
    "            \"fwci\",\n",
    "            \"citation_normalized_percentile_is_in_top_10_percent\",\n",
    "            \"primary_field\"\n",
    "        ]\n",
    "    ]\n",
    "    .explode(\"authors\")\n",
    "    .drop_duplicates(subset=[\"authors\", \"source\"])\n",
    ")\n"
   ]
  },
  {
   "cell_type": "code",
   "execution_count": 7,
   "metadata": {},
   "outputs": [],
   "source": [
    "authors = (\n",
    "    publications[\n",
    "        [\n",
    "            \"id\",\n",
    "            \"source\",\n",
    "            \"authors\",\n",
    "            \"level\",\n",
    "            \"quarter\",\n",
    "            \"fwci\",\n",
    "            \"citation_normalized_percentile_is_in_top_10_percent\",\n",
    "            \"primary_field\"\n",
    "        ]\n",
    "    ]\n",
    "    .explode(\"authors\")\n",
    "    .drop_duplicates(subset=[\"authors\", \"source\"])\n",
    ")\n",
    "\n",
    "unique_researchers_overtime = (\n",
    "    authors.groupby([\"quarter\", \"source\"])[\"authors\"]\n",
    "    .nunique()\n",
    "    .reset_index()\n",
    "    .rename(columns={\"authors\": \"researcher_count\"})\n",
    ")\n",
    "\n",
    "unique_researchers_overtime[\"cumulative_researcher_count\"] = (\n",
    "    unique_researchers_overtime.groupby(\"source\")[\"researcher_count\"].cumsum()\n",
    ")\n",
    "\n",
    "unique_researchers_overtime = unique_researchers_overtime[\n",
    "    (unique_researchers_overtime[\"quarter\"] >= \"2020Q1\")\n",
    "    & (unique_researchers_overtime[\"quarter\"] <= \"2024Q1\")\n",
    "]\n",
    "\n",
    "chart = alt.Chart(unique_researchers_overtime).mark_line(interpolate='step-after').encode(\n",
    "    x='quarter:N',\n",
    "    y='cumulative_researcher_count:Q',\n",
    "    color='source:N',\n",
    "    tooltip=['quarter:N', 'cumulative_researcher_count:Q', 'source:N']\n",
    ").properties(\n",
    "    title='Number of Source-Unique Researchers Over Time by Source Group'\n",
    ")\n",
    "\n",
    "png_str = vlc.vegalite_to_png(vl_spec=chart.to_json(), scale=3)\n",
    "with open(\"source_unique_researchers.png\", \"wb\") as f:\n",
    "    f.write(png_str)"
   ]
  },
  {
   "cell_type": "code",
   "execution_count": 8,
   "metadata": {},
   "outputs": [],
   "source": [
    "# Assign priority to each source\n",
    "source_priority = {\"af\": 1, \"ct_ai\": 2, \"ct_noai\": 3, \"other\": 4}\n",
    "authors[\"source_priority\"] = authors[\"source\"].map(source_priority)\n",
    "\n",
    "# Sort the DataFrame based on the priority\n",
    "authors = authors.sort_values(by=[\"authors\", \"source_priority\"])\n",
    "\n",
    "# Drop duplicates based on authors to keep the highest priority source for each author\n",
    "authors = authors.drop_duplicates(subset=[\"authors\"])\n",
    "\n",
    "# Group by quarter and count the number of unique researchers\n",
    "unique_researchers_overtime = (\n",
    "    authors.groupby([\"quarter\", \"source\"])[\"authors\"]\n",
    "    .nunique()\n",
    "    .reset_index()\n",
    "    .rename(columns={\"authors\": \"researcher_count\"})\n",
    ")\n",
    "\n",
    "# Calculate the cumulative count of unique researchers over time for each source\n",
    "unique_researchers_overtime[\"cumulative_researcher_count\"] = (\n",
    "    unique_researchers_overtime.groupby(\"source\")[\"researcher_count\"].cumsum()\n",
    ")\n",
    "\n",
    "# Filter the data for the desired time range\n",
    "unique_researchers_overtime = unique_researchers_overtime[\n",
    "    (unique_researchers_overtime[\"quarter\"] >= \"2020Q1\")\n",
    "    & (unique_researchers_overtime[\"quarter\"] <= \"2024Q1\")\n",
    "]\n",
    "\n",
    "chart = alt.Chart(unique_researchers_overtime).mark_line(interpolate='step-after').encode(\n",
    "    x='quarter:N',\n",
    "    y='cumulative_researcher_count:Q',\n",
    "    color='source:N',\n",
    "    tooltip=['quarter:N', 'cumulative_researcher_count:Q', 'source:N']\n",
    ").properties(\n",
    "    title='Number of Unique Researchers Over Time by Source Group'\n",
    ")\n",
    "\n",
    "png_str = vlc.vegalite_to_png(vl_spec=chart.to_json(), scale=3)\n",
    "with open(\"unique_researchers.png\", \"wb\") as f:\n",
    "    f.write(png_str)"
   ]
  },
  {
   "cell_type": "code",
   "execution_count": 9,
   "metadata": {},
   "outputs": [],
   "source": [
    "authors = authors[authors[\"primary_field\"].isin([\"Biochemistry, Genetics and Molecular Biology\", \"Medicine\", \"Chemistry\", \"Immunology and Microbiology\"])]\n",
    "\n",
    "unique_researchers_overtime = (\n",
    "    authors.groupby([\"quarter\", \"source\", \"primary_field\"])[\"authors\"]\n",
    "    .nunique()\n",
    "    .reset_index()\n",
    "    .rename(columns={\"authors\": \"researcher_count\"})\n",
    ")\n",
    "\n",
    "# Calculate the cumulative count of unique researchers over time for each source and primary_field\n",
    "unique_researchers_overtime[\"cumulative_researcher_count\"] = (\n",
    "    unique_researchers_overtime.groupby([\"source\", \"primary_field\"])[\n",
    "        \"researcher_count\"\n",
    "    ].cumsum()\n",
    ")\n",
    "\n",
    "# Filter the data for the desired time range\n",
    "unique_researchers_overtime = unique_researchers_overtime[\n",
    "    (unique_researchers_overtime[\"quarter\"] >= \"2020Q1\")\n",
    "    & (unique_researchers_overtime[\"quarter\"] <= \"2024Q1\")\n",
    "]\n",
    "\n",
    "# Create the Altair step chart with faceting by primary_field\n",
    "step_line = (\n",
    "    alt.Chart(unique_researchers_overtime)\n",
    "    .mark_line(interpolate=\"step-after\")\n",
    "    .encode(\n",
    "        alt.X(\"quarter:N\", title=\"Quarter\"),\n",
    "        alt.Y(\"cumulative_researcher_count:Q\", title=None),\n",
    "        alt.Color(\"source:N\", title=\"Source\"),\n",
    "    )\n",
    ")\n",
    "\n",
    "chart = (\n",
    "    step_line.properties(\n",
    "        title=\"Number of Source-Unique Researchers Over Time by Field\",\n",
    "        width=300,\n",
    "        height=120,\n",
    "    )\n",
    "    .facet(facet=\"primary_field:N\", columns=2, spacing=25)\n",
    "    .resolve_scale(x=\"shared\", y=\"independent\")\n",
    "    .configure_title(fontSize=16)\n",
    "    .configure_axis(labelFontSize=12, titleFontSize=14)\n",
    "    .configure_header(titleFontSize=14, labelFontSize=12)\n",
    ")\n",
    "\n",
    "png_str = vlc.vegalite_to_png(vl_spec=chart.to_json(), scale=3)\n",
    "with open(\"source_unique_researchers_field.png\", \"wb\") as f:\n",
    "    f.write(png_str)"
   ]
  },
  {
   "cell_type": "code",
   "execution_count": 10,
   "metadata": {},
   "outputs": [],
   "source": [
    "# replace nan in citation_normalized_percentile_is_in_top_10_percent with False\n",
    "publications[\"citation_normalized_percentile_is_in_top_10_percent\"] = publications[\n",
    "    \"citation_normalized_percentile_is_in_top_10_percent\"\n",
    "].fillna(False)"
   ]
  },
  {
   "cell_type": "code",
   "execution_count": 11,
   "metadata": {},
   "outputs": [],
   "source": [
    "total_publications = (\n",
    "    publications.groupby([\"source\", \"quarter\"])[\"id\"]\n",
    "    .count()\n",
    "    .reset_index()\n",
    "    .rename(columns={\"id\": \"total_publications\"})\n",
    ")\n",
    "\n",
    "# Compute the share of publications for each source-quarter pair\n",
    "total_publications[\"share_publications\"] = (\n",
    "    total_publications[\"total_publications\"]\n",
    "    / total_publications[\"total_publications\"].sum()\n",
    ")\n",
    "\n",
    "# Compute the total number of top decile publications for each source-quarter pair\n",
    "top_decile_publications = (\n",
    "    publications[publications[\"citation_normalized_percentile_is_in_top_10_percent\"]]\n",
    "    .groupby([\"source\", \"quarter\"])[\"id\"]\n",
    "    .count()\n",
    "    .reset_index()\n",
    "    .rename(columns={\"id\": \"top_decile_publications\"})\n",
    ")\n",
    "\n",
    "# Merge the total publications and top decile publications data\n",
    "merged_data = pd.merge(\n",
    "    total_publications,\n",
    "    top_decile_publications,\n",
    "    on=[\"source\", \"quarter\"],\n",
    "    how=\"left\"\n",
    ").fillna(0)\n",
    "\n",
    "# Compute the share of top decile publications for each source-quarter pair\n",
    "merged_data[\"share_top_decile_publications\"] = (\n",
    "    merged_data[\"top_decile_publications\"]\n",
    "    / merged_data[\"top_decile_publications\"].sum()\n",
    ")\n",
    "\n",
    "# Compute the ratio of the share over the top decile share\n",
    "merged_data[\"representation_ratio\"] = (\n",
    "    merged_data[\"share_top_decile_publications\"] / \n",
    "    merged_data[\"share_publications\"]\n",
    ")\n",
    "\n",
    "merged_data = merged_data[\n",
    "    (merged_data[\"quarter\"] >= \"2020Q1\")\n",
    "    & (merged_data[\"quarter\"] <= \"2024Q1\")\n",
    "]"
   ]
  },
  {
   "cell_type": "code",
   "execution_count": 12,
   "metadata": {},
   "outputs": [],
   "source": [
    "scatter = alt.Chart(merged_data).mark_circle(size=60).encode(\n",
    "    x=alt.X('quarter:N', title='Quarter'),\n",
    "    y=alt.Y('representation_ratio:Q', title='Representation Ratio'),\n",
    "    color=alt.Color('source:N', title='Source'),\n",
    "    tooltip=['quarter:N', 'representation_ratio:Q', 'source:N']\n",
    ")\n",
    "\n",
    "line = alt.Chart(merged_data).mark_line().encode(\n",
    "    x=alt.X('quarter:N', title='Quarter'),\n",
    "    y=alt.Y('representation_ratio:Q', title='Representation Ratio'),\n",
    "    color=alt.Color('source:N', title='Source')\n",
    ")\n",
    "\n",
    "chart = alt.layer(scatter, line).properties(\n",
    "    title='Representation of Top Decile Publications Over Time by Source',\n",
    "    width=800,\n",
    "    height=400\n",
    ")\n",
    "\n",
    "png_str = vlc.vegalite_to_png(vl_spec=chart.to_json(), scale=3)\n",
    "with open(\"repr_time.png\", \"wb\") as f:\n",
    "    f.write(png_str)"
   ]
  },
  {
   "cell_type": "code",
   "execution_count": 13,
   "metadata": {},
   "outputs": [
    {
     "name": "stdout",
     "output_type": "stream",
     "text": [
      "An AlphaFold publication is 2.47 times more likely to be in the top 10% compared to the other three groups on average.\n"
     ]
    }
   ],
   "source": [
    "# Calculate the ratio of top decile publications to total publications for each group\n",
    "merged_data[\"top_decile_ratio\"] = merged_data[\"top_decile_publications\"] / merged_data[\"total_publications\"]\n",
    "\n",
    "# Get the ratio for AF\n",
    "af_ratio = merged_data[merged_data[\"source\"] == \"af\"][\"top_decile_ratio\"].mean()\n",
    "\n",
    "# Compute the average ratio for the other three groups\n",
    "other_groups_ratio = merged_data[merged_data[\"source\"] != \"af\"][\"top_decile_ratio\"].mean()\n",
    "\n",
    "# Calculate how much more likely an AF publication is to be in the top 10%\n",
    "likelihood_ratio = af_ratio / other_groups_ratio\n",
    "\n",
    "print(f\"An AlphaFold publication is {likelihood_ratio:.2f} times more likely to be in the top 10% compared to the other three groups on average.\")"
   ]
  },
  {
   "cell_type": "code",
   "execution_count": 14,
   "metadata": {},
   "outputs": [
    {
     "name": "stdout",
     "output_type": "stream",
     "text": [
      "\n",
      "Breakdown by category:\n",
      "AlphaFold vs AI counterfactual (ct_ai): 1.89x more likely to be in top 10%\n",
      "AlphaFold vs non-AI counterfactual (ct_noai): 2.37x more likely to be in top 10%\n",
      "AlphaFold vs other publications: 3.39x more likely to be in top 10%\n",
      "\n",
      "Percentage of publications in top 10% by source:\n",
      "af: 39.11%\n",
      "ct_ai: 20.74%\n",
      "ct_noai: 16.50%\n",
      "other: 11.54%\n"
     ]
    }
   ],
   "source": [
    "# Calculate individual comparisons for each group\n",
    "ct_ai_ratio = merged_data[merged_data[\"source\"] == \"ct_ai\"][\"top_decile_ratio\"].mean()\n",
    "ct_noai_ratio = merged_data[merged_data[\"source\"] == \"ct_noai\"][\"top_decile_ratio\"].mean()\n",
    "other_ratio = merged_data[merged_data[\"source\"] == \"other\"][\"top_decile_ratio\"].mean()\n",
    "\n",
    "# Calculate likelihood ratios for AF compared to each individual group\n",
    "af_vs_ct_ai = af_ratio / ct_ai_ratio\n",
    "af_vs_ct_noai = af_ratio / ct_noai_ratio\n",
    "af_vs_other = af_ratio / other_ratio\n",
    "\n",
    "print(\"\\nBreakdown by category:\")\n",
    "print(f\"AlphaFold vs AI counterfactual (ct_ai): {af_vs_ct_ai:.2f}x more likely to be in top 10%\")\n",
    "print(f\"AlphaFold vs non-AI counterfactual (ct_noai): {af_vs_ct_noai:.2f}x more likely to be in top 10%\")\n",
    "print(f\"AlphaFold vs other publications: {af_vs_other:.2f}x more likely to be in top 10%\")\n",
    "\n",
    "# Also calculate the average top_decile_ratio for each source to see the raw percentages\n",
    "source_percentages = merged_data.groupby(\"source\")[\"top_decile_ratio\"].mean() * 100\n",
    "print(\"\\nPercentage of publications in top 10% by source:\")\n",
    "for source, percentage in source_percentages.items():\n",
    "    print(f\"{source}: {percentage:.2f}%\")"
   ]
  }
 ],
 "metadata": {
  "kernelspec": {
   "display_name": ".igl_alphafold",
   "language": "python",
   "name": "python3"
  },
  "language_info": {
   "codemirror_mode": {
    "name": "ipython",
    "version": 3
   },
   "file_extension": ".py",
   "mimetype": "text/x-python",
   "name": "python",
   "nbconvert_exporter": "python",
   "pygments_lexer": "ipython3",
   "version": "3.11.10"
  }
 },
 "nbformat": 4,
 "nbformat_minor": 2
}
