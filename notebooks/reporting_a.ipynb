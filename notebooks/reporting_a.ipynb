{
 "cells": [
  {
   "cell_type": "code",
   "execution_count": 1,
   "metadata": {},
   "outputs": [
    {
     "data": {
      "text/html": [
       "<pre style=\"white-space:pre;overflow-x:auto;line-height:normal;font-family:Menlo,'DejaVu Sans Mono',consolas,'Courier New',monospace\"><span style=\"color: #7fbfbf; text-decoration-color: #7fbfbf\">[06/23/25 10:01:28] </span><span style=\"color: #000080; text-decoration-color: #000080\">INFO    </span> Resolved project path as: <span style=\"color: #800080; text-decoration-color: #800080\">/home/ampudia/projects/</span><span style=\"color: #ff00ff; text-decoration-color: #ff00ff\">alphafold-impact.</span>     <a href=\"file:///home/ampudia/miniconda3/envs/.igl-alphafold/lib/python3.11/site-packages/kedro/ipython/__init__.py\" target=\"_blank\"><span style=\"color: #7f7f7f; text-decoration-color: #7f7f7f\">__init__.py</span></a><span style=\"color: #7f7f7f; text-decoration-color: #7f7f7f\">:</span><a href=\"file:///home/ampudia/miniconda3/envs/.igl-alphafold/lib/python3.11/site-packages/kedro/ipython/__init__.py#146\" target=\"_blank\"><span style=\"color: #7f7f7f; text-decoration-color: #7f7f7f\">146</span></a>\n",
       "<span style=\"color: #7fbfbf; text-decoration-color: #7fbfbf\">                    </span>         To set a different path, run <span style=\"color: #008000; text-decoration-color: #008000\">'%reload_kedro &lt;project_root&gt;'</span>            <span style=\"color: #7f7f7f; text-decoration-color: #7f7f7f\">               </span>\n",
       "</pre>\n"
      ],
      "text/plain": [
       "\u001b[2;36m[06/23/25 10:01:28]\u001b[0m\u001b[2;36m \u001b[0m\u001b[34mINFO    \u001b[0m Resolved project path as: \u001b[35m/home/ampudia/projects/\u001b[0m\u001b[95malphafold-impact.\u001b[0m     \u001b]8;id=776649;file:///home/ampudia/miniconda3/envs/.igl-alphafold/lib/python3.11/site-packages/kedro/ipython/__init__.py\u001b\\\u001b[2m__init__.py\u001b[0m\u001b]8;;\u001b\\\u001b[2m:\u001b[0m\u001b]8;id=431889;file:///home/ampudia/miniconda3/envs/.igl-alphafold/lib/python3.11/site-packages/kedro/ipython/__init__.py#146\u001b\\\u001b[2m146\u001b[0m\u001b]8;;\u001b\\\n",
       "\u001b[2;36m                    \u001b[0m         To set a different path, run \u001b[32m'%reload_kedro \u001b[0m\u001b[32m<\u001b[0m\u001b[32mproject_root\u001b[0m\u001b[32m>\u001b[0m\u001b[32m'\u001b[0m            \u001b[2m               \u001b[0m\n"
      ]
     },
     "metadata": {},
     "output_type": "display_data"
    },
    {
     "data": {
      "text/html": [
       "<pre style=\"white-space:pre;overflow-x:auto;line-height:normal;font-family:Menlo,'DejaVu Sans Mono',consolas,'Courier New',monospace\"><span style=\"color: #7fbfbf; text-decoration-color: #7fbfbf\">[06/23/25 10:01:28] </span><span style=\"color: #808000; text-decoration-color: #808000\">WARNING </span> Top-level credentials will not propagate into the           <a href=\"file:///home/ampudia/miniconda3/envs/.igl-alphafold/lib/python3.11/site-packages/kedro_datasets/partitions/partitioned_dataset.py\" target=\"_blank\"><span style=\"color: #7f7f7f; text-decoration-color: #7f7f7f\">partitioned_dataset.py</span></a><span style=\"color: #7f7f7f; text-decoration-color: #7f7f7f\">:</span><a href=\"file:///home/ampudia/miniconda3/envs/.igl-alphafold/lib/python3.11/site-packages/kedro_datasets/partitions/partitioned_dataset.py#215\" target=\"_blank\"><span style=\"color: #7f7f7f; text-decoration-color: #7f7f7f\">215</span></a>\n",
       "<span style=\"color: #7fbfbf; text-decoration-color: #7fbfbf\">                    </span>         underlying dataset since credentials were explicitly        <span style=\"color: #7f7f7f; text-decoration-color: #7f7f7f\">                          </span>\n",
       "<span style=\"color: #7fbfbf; text-decoration-color: #7fbfbf\">                    </span>         defined in the underlying dataset config.                   <span style=\"color: #7f7f7f; text-decoration-color: #7f7f7f\">                          </span>\n",
       "</pre>\n"
      ],
      "text/plain": [
       "\u001b[2;36m[06/23/25 10:01:28]\u001b[0m\u001b[2;36m \u001b[0m\u001b[33mWARNING \u001b[0m Top-level credentials will not propagate into the           \u001b]8;id=555922;file:///home/ampudia/miniconda3/envs/.igl-alphafold/lib/python3.11/site-packages/kedro_datasets/partitions/partitioned_dataset.py\u001b\\\u001b[2mpartitioned_dataset.py\u001b[0m\u001b]8;;\u001b\\\u001b[2m:\u001b[0m\u001b]8;id=191786;file:///home/ampudia/miniconda3/envs/.igl-alphafold/lib/python3.11/site-packages/kedro_datasets/partitions/partitioned_dataset.py#215\u001b\\\u001b[2m215\u001b[0m\u001b]8;;\u001b\\\n",
       "\u001b[2;36m                    \u001b[0m         underlying dataset since credentials were explicitly        \u001b[2m                          \u001b[0m\n",
       "\u001b[2;36m                    \u001b[0m         defined in the underlying dataset config.                   \u001b[2m                          \u001b[0m\n"
      ]
     },
     "metadata": {},
     "output_type": "display_data"
    },
    {
     "data": {
      "text/html": [
       "<pre style=\"white-space:pre;overflow-x:auto;line-height:normal;font-family:Menlo,'DejaVu Sans Mono',consolas,'Courier New',monospace\"><span style=\"color: #7fbfbf; text-decoration-color: #7fbfbf\">[06/23/25 10:01:29] </span><span style=\"color: #000080; text-decoration-color: #000080\">INFO    </span> Kedro project alphafold-impact                                         <a href=\"file:///home/ampudia/miniconda3/envs/.igl-alphafold/lib/python3.11/site-packages/kedro/ipython/__init__.py\" target=\"_blank\"><span style=\"color: #7f7f7f; text-decoration-color: #7f7f7f\">__init__.py</span></a><span style=\"color: #7f7f7f; text-decoration-color: #7f7f7f\">:</span><a href=\"file:///home/ampudia/miniconda3/envs/.igl-alphafold/lib/python3.11/site-packages/kedro/ipython/__init__.py#115\" target=\"_blank\"><span style=\"color: #7f7f7f; text-decoration-color: #7f7f7f\">115</span></a>\n",
       "</pre>\n"
      ],
      "text/plain": [
       "\u001b[2;36m[06/23/25 10:01:29]\u001b[0m\u001b[2;36m \u001b[0m\u001b[34mINFO    \u001b[0m Kedro project alphafold-impact                                         \u001b]8;id=589085;file:///home/ampudia/miniconda3/envs/.igl-alphafold/lib/python3.11/site-packages/kedro/ipython/__init__.py\u001b\\\u001b[2m__init__.py\u001b[0m\u001b]8;;\u001b\\\u001b[2m:\u001b[0m\u001b]8;id=687672;file:///home/ampudia/miniconda3/envs/.igl-alphafold/lib/python3.11/site-packages/kedro/ipython/__init__.py#115\u001b\\\u001b[2m115\u001b[0m\u001b]8;;\u001b\\\n"
      ]
     },
     "metadata": {},
     "output_type": "display_data"
    },
    {
     "data": {
      "text/html": [
       "<pre style=\"white-space:pre;overflow-x:auto;line-height:normal;font-family:Menlo,'DejaVu Sans Mono',consolas,'Courier New',monospace\"><span style=\"color: #7fbfbf; text-decoration-color: #7fbfbf\">                    </span><span style=\"color: #000080; text-decoration-color: #000080\">INFO    </span> Defined global variable <span style=\"color: #008000; text-decoration-color: #008000\">'context'</span>, <span style=\"color: #008000; text-decoration-color: #008000\">'session'</span>, <span style=\"color: #008000; text-decoration-color: #008000\">'catalog'</span> and            <a href=\"file:///home/ampudia/miniconda3/envs/.igl-alphafold/lib/python3.11/site-packages/kedro/ipython/__init__.py\" target=\"_blank\"><span style=\"color: #7f7f7f; text-decoration-color: #7f7f7f\">__init__.py</span></a><span style=\"color: #7f7f7f; text-decoration-color: #7f7f7f\">:</span><a href=\"file:///home/ampudia/miniconda3/envs/.igl-alphafold/lib/python3.11/site-packages/kedro/ipython/__init__.py#116\" target=\"_blank\"><span style=\"color: #7f7f7f; text-decoration-color: #7f7f7f\">116</span></a>\n",
       "<span style=\"color: #7fbfbf; text-decoration-color: #7fbfbf\">                    </span>         <span style=\"color: #008000; text-decoration-color: #008000\">'pipelines'</span>                                                            <span style=\"color: #7f7f7f; text-decoration-color: #7f7f7f\">               </span>\n",
       "</pre>\n"
      ],
      "text/plain": [
       "\u001b[2;36m                   \u001b[0m\u001b[2;36m \u001b[0m\u001b[34mINFO    \u001b[0m Defined global variable \u001b[32m'context'\u001b[0m, \u001b[32m'session'\u001b[0m, \u001b[32m'catalog'\u001b[0m and            \u001b]8;id=860504;file:///home/ampudia/miniconda3/envs/.igl-alphafold/lib/python3.11/site-packages/kedro/ipython/__init__.py\u001b\\\u001b[2m__init__.py\u001b[0m\u001b]8;;\u001b\\\u001b[2m:\u001b[0m\u001b]8;id=732096;file:///home/ampudia/miniconda3/envs/.igl-alphafold/lib/python3.11/site-packages/kedro/ipython/__init__.py#116\u001b\\\u001b[2m116\u001b[0m\u001b]8;;\u001b\\\n",
       "\u001b[2;36m                    \u001b[0m         \u001b[32m'pipelines'\u001b[0m                                                            \u001b[2m               \u001b[0m\n"
      ]
     },
     "metadata": {},
     "output_type": "display_data"
    },
    {
     "data": {
      "text/html": [
       "<pre style=\"white-space:pre;overflow-x:auto;line-height:normal;font-family:Menlo,'DejaVu Sans Mono',consolas,'Courier New',monospace\"><span style=\"color: #7fbfbf; text-decoration-color: #7fbfbf\">                    </span><span style=\"color: #000080; text-decoration-color: #000080\">INFO    </span> Registered line magic <span style=\"color: #008000; text-decoration-color: #008000\">'run_viz'</span>                                        <a href=\"file:///home/ampudia/miniconda3/envs/.igl-alphafold/lib/python3.11/site-packages/kedro/ipython/__init__.py\" target=\"_blank\"><span style=\"color: #7f7f7f; text-decoration-color: #7f7f7f\">__init__.py</span></a><span style=\"color: #7f7f7f; text-decoration-color: #7f7f7f\">:</span><a href=\"file:///home/ampudia/miniconda3/envs/.igl-alphafold/lib/python3.11/site-packages/kedro/ipython/__init__.py#122\" target=\"_blank\"><span style=\"color: #7f7f7f; text-decoration-color: #7f7f7f\">122</span></a>\n",
       "</pre>\n"
      ],
      "text/plain": [
       "\u001b[2;36m                   \u001b[0m\u001b[2;36m \u001b[0m\u001b[34mINFO    \u001b[0m Registered line magic \u001b[32m'run_viz'\u001b[0m                                        \u001b]8;id=914821;file:///home/ampudia/miniconda3/envs/.igl-alphafold/lib/python3.11/site-packages/kedro/ipython/__init__.py\u001b\\\u001b[2m__init__.py\u001b[0m\u001b]8;;\u001b\\\u001b[2m:\u001b[0m\u001b]8;id=305119;file:///home/ampudia/miniconda3/envs/.igl-alphafold/lib/python3.11/site-packages/kedro/ipython/__init__.py#122\u001b\\\u001b[2m122\u001b[0m\u001b]8;;\u001b\\\n"
      ]
     },
     "metadata": {},
     "output_type": "display_data"
    }
   ],
   "source": [
    "%load_ext kedro.ipython\n",
    "import warnings\n",
    "warnings.filterwarnings('ignore')\n",
    "\n",
    "import numpy as np\n",
    "import pandas as pd\n",
    "pd.set_option('display.max_rows', 500)\n",
    "pd.set_option('display.max_columns', 50)\n",
    "\n",
    "import altair as alt\n",
    "import vl_convert as vlc\n",
    "alt.data_transformers.disable_max_rows()\n",
    "\n",
    "from alphafold_impact.settings import SESSION_STORE_ARGS\n",
    "PATHDIR = SESSION_STORE_ARGS['path']\n",
    "SAVE_DIR = PATHDIR + '/data/08_reporting/reach/'\n",
    "ECR_SAVE_DIR = PATHDIR + '/data/08_reporting/reach/ecr/'\n",
    "\n",
    "# check folder, create if it doesn't exist\n",
    "import os\n",
    "for folder in [SAVE_DIR, ECR_SAVE_DIR]:\n",
    "    if not os.path.exists(folder):\n",
    "        os.makedirs(folder)"
   ]
  },
  {
   "cell_type": "code",
   "execution_count": 2,
   "metadata": {},
   "outputs": [],
   "source": [
    "# Reach"
   ]
  },
  {
   "cell_type": "code",
   "execution_count": 2,
   "metadata": {},
   "outputs": [
    {
     "data": {
      "text/html": [
       "<pre style=\"white-space:pre;overflow-x:auto;line-height:normal;font-family:Menlo,'DejaVu Sans Mono',consolas,'Courier New',monospace\"><span style=\"color: #7fbfbf; text-decoration-color: #7fbfbf\">[06/23/25 10:01:33] </span><span style=\"color: #000080; text-decoration-color: #000080\">INFO    </span> Loading data from <span style=\"color: #ff8700; text-decoration-color: #ff8700\">publications.data.outputs</span> <span style=\"font-weight: bold\">(</span>ParquetDataset<span style=\"font-weight: bold\">)</span><span style=\"color: #808000; text-decoration-color: #808000\">...</span>    <a href=\"file:///home/ampudia/miniconda3/envs/.igl-alphafold/lib/python3.11/site-packages/kedro/io/data_catalog.py\" target=\"_blank\"><span style=\"color: #7f7f7f; text-decoration-color: #7f7f7f\">data_catalog.py</span></a><span style=\"color: #7f7f7f; text-decoration-color: #7f7f7f\">:</span><a href=\"file:///home/ampudia/miniconda3/envs/.igl-alphafold/lib/python3.11/site-packages/kedro/io/data_catalog.py#482\" target=\"_blank\"><span style=\"color: #7f7f7f; text-decoration-color: #7f7f7f\">482</span></a>\n",
       "</pre>\n"
      ],
      "text/plain": [
       "\u001b[2;36m[06/23/25 10:01:33]\u001b[0m\u001b[2;36m \u001b[0m\u001b[34mINFO    \u001b[0m Loading data from \u001b[38;5;208mpublications.data.outputs\u001b[0m \u001b[1m(\u001b[0mParquetDataset\u001b[1m)\u001b[0m\u001b[33m...\u001b[0m    \u001b]8;id=25985;file:///home/ampudia/miniconda3/envs/.igl-alphafold/lib/python3.11/site-packages/kedro/io/data_catalog.py\u001b\\\u001b[2mdata_catalog.py\u001b[0m\u001b]8;;\u001b\\\u001b[2m:\u001b[0m\u001b]8;id=357560;file:///home/ampudia/miniconda3/envs/.igl-alphafold/lib/python3.11/site-packages/kedro/io/data_catalog.py#482\u001b\\\u001b[2m482\u001b[0m\u001b]8;;\u001b\\\n"
      ]
     },
     "metadata": {},
     "output_type": "display_data"
    }
   ],
   "source": [
    "publications = catalog.load(\"publications.data.outputs\")"
   ]
  },
  {
   "cell_type": "code",
   "execution_count": 3,
   "metadata": {},
   "outputs": [],
   "source": [
    "publications[\"authors\"] = publications[\"authorships\"].apply(\n",
    "    lambda x: [y[0] for y in x] if x is not None else []\n",
    ")"
   ]
  },
  {
   "cell_type": "code",
   "execution_count": 4,
   "metadata": {},
   "outputs": [],
   "source": [
    "publications[\"publication_date\"] = pd.to_datetime(publications[\"publication_date\"])\n",
    "publications[\"quarter\"] = publications[\"publication_date\"].dt.to_period(\"Q\").astype(str)"
   ]
  },
  {
   "cell_type": "code",
   "execution_count": 6,
   "metadata": {},
   "outputs": [],
   "source": [
    "authors = (\n",
    "    publications[\n",
    "        [\n",
    "            \"id\",\n",
    "            \"source\",\n",
    "            \"authors\",\n",
    "            \"level\",\n",
    "            \"quarter\",\n",
    "            \"fwci\",\n",
    "            \"primary_field\"\n",
    "        ]\n",
    "    ]\n",
    "    .explode(\"authors\")\n",
    "    .drop_duplicates(subset=[\"authors\", \"source\"])\n",
    ")\n"
   ]
  },
  {
   "cell_type": "code",
   "execution_count": 7,
   "metadata": {},
   "outputs": [],
   "source": [
    "authors = (\n",
    "    publications[\n",
    "        [\n",
    "            \"id\",\n",
    "            \"source\",\n",
    "            \"authors\",\n",
    "            \"level\",\n",
    "            \"quarter\",\n",
    "            \"fwci\",\n",
    "            \"primary_field\"\n",
    "        ]\n",
    "    ]\n",
    "    .explode(\"authors\")\n",
    "    .drop_duplicates(subset=[\"authors\", \"source\"])\n",
    ")\n",
    "\n",
    "unique_researchers_overtime = (\n",
    "    authors.groupby([\"quarter\", \"source\"])[\"authors\"]\n",
    "    .nunique()\n",
    "    .reset_index()\n",
    "    .rename(columns={\"authors\": \"researcher_count\"})\n",
    ")\n",
    "\n",
    "unique_researchers_overtime[\"cumulative_researcher_count\"] = (\n",
    "    unique_researchers_overtime.groupby(\"source\")[\"researcher_count\"].cumsum()\n",
    ")\n",
    "\n",
    "unique_researchers_overtime = unique_researchers_overtime[\n",
    "    (unique_researchers_overtime[\"quarter\"] >= \"2020Q1\")\n",
    "    & (unique_researchers_overtime[\"quarter\"] <= \"2024Q1\")\n",
    "]\n",
    "\n",
    "chart = alt.Chart(unique_researchers_overtime).mark_line(interpolate='step-after').encode(\n",
    "    x='quarter:N',\n",
    "    y='cumulative_researcher_count:Q',\n",
    "    color='source:N',\n",
    "    tooltip=['quarter:N', 'cumulative_researcher_count:Q', 'source:N']\n",
    ").properties(\n",
    "    title='Number of Source-Unique Researchers Over Time by Source Group'\n",
    ")\n",
    "\n",
    "png_str = vlc.vegalite_to_png(vl_spec=chart.to_json(), scale=3)\n",
    "with open(\"source_unique_researchers.png\", \"wb\") as f:\n",
    "    f.write(png_str)"
   ]
  },
  {
   "cell_type": "code",
   "execution_count": 8,
   "metadata": {},
   "outputs": [],
   "source": [
    "# Assign priority to each source\n",
    "source_priority = {\"af\": 1, \"ct_ai\": 2, \"ct_noai\": 3, \"other\": 4}\n",
    "authors[\"source_priority\"] = authors[\"source\"].map(source_priority)\n",
    "\n",
    "# Sort the DataFrame based on the priority\n",
    "authors = authors.sort_values(by=[\"authors\", \"source_priority\"])\n",
    "\n",
    "# Drop duplicates based on authors to keep the highest priority source for each author\n",
    "authors = authors.drop_duplicates(subset=[\"authors\"])\n",
    "\n",
    "# Group by quarter and count the number of unique researchers\n",
    "unique_researchers_overtime = (\n",
    "    authors.groupby([\"quarter\", \"source\"])[\"authors\"]\n",
    "    .nunique()\n",
    "    .reset_index()\n",
    "    .rename(columns={\"authors\": \"researcher_count\"})\n",
    ")\n",
    "\n",
    "# Calculate the cumulative count of unique researchers over time for each source\n",
    "unique_researchers_overtime[\"cumulative_researcher_count\"] = (\n",
    "    unique_researchers_overtime.groupby(\"source\")[\"researcher_count\"].cumsum()\n",
    ")\n",
    "\n",
    "# Filter the data for the desired time range\n",
    "unique_researchers_overtime = unique_researchers_overtime[\n",
    "    (unique_researchers_overtime[\"quarter\"] >= \"2020Q1\")\n",
    "    & (unique_researchers_overtime[\"quarter\"] <= \"2024Q1\")\n",
    "]\n",
    "\n",
    "chart = alt.Chart(unique_researchers_overtime).mark_line(interpolate='step-after').encode(\n",
    "    x='quarter:N',\n",
    "    y='cumulative_researcher_count:Q',\n",
    "    color='source:N',\n",
    "    tooltip=['quarter:N', 'cumulative_researcher_count:Q', 'source:N']\n",
    ").properties(\n",
    "    title='Number of Unique Researchers Over Time by Source Group'\n",
    ")\n",
    "\n",
    "png_str = vlc.vegalite_to_png(vl_spec=chart.to_json(), scale=3)\n",
    "with open(\"unique_researchers.png\", \"wb\") as f:\n",
    "    f.write(png_str)"
   ]
  },
  {
   "cell_type": "code",
   "execution_count": 9,
   "metadata": {},
   "outputs": [],
   "source": [
    "authors = authors[authors[\"primary_field\"].isin([\"Biochemistry, Genetics and Molecular Biology\", \"Medicine\", \"Chemistry\", \"Immunology and Microbiology\"])]\n",
    "\n",
    "unique_researchers_overtime = (\n",
    "    authors.groupby([\"quarter\", \"source\", \"primary_field\"])[\"authors\"]\n",
    "    .nunique()\n",
    "    .reset_index()\n",
    "    .rename(columns={\"authors\": \"researcher_count\"})\n",
    ")\n",
    "\n",
    "# Calculate the cumulative count of unique researchers over time for each source and primary_field\n",
    "unique_researchers_overtime[\"cumulative_researcher_count\"] = (\n",
    "    unique_researchers_overtime.groupby([\"source\", \"primary_field\"])[\n",
    "        \"researcher_count\"\n",
    "    ].cumsum()\n",
    ")\n",
    "\n",
    "# Filter the data for the desired time range\n",
    "unique_researchers_overtime = unique_researchers_overtime[\n",
    "    (unique_researchers_overtime[\"quarter\"] >= \"2020Q1\")\n",
    "    & (unique_researchers_overtime[\"quarter\"] <= \"2024Q1\")\n",
    "]\n",
    "\n",
    "# Create the Altair step chart with faceting by primary_field\n",
    "step_line = (\n",
    "    alt.Chart(unique_researchers_overtime)\n",
    "    .mark_line(interpolate=\"step-after\")\n",
    "    .encode(\n",
    "        alt.X(\"quarter:N\", title=\"Quarter\"),\n",
    "        alt.Y(\"cumulative_researcher_count:Q\", title=None),\n",
    "        alt.Color(\"source:N\", title=\"Source\"),\n",
    "    )\n",
    ")\n",
    "\n",
    "chart = (\n",
    "    step_line.properties(\n",
    "        title=\"Number of Source-Unique Researchers Over Time by Field\",\n",
    "        width=300,\n",
    "        height=120,\n",
    "    )\n",
    "    .facet(facet=\"primary_field:N\", columns=2, spacing=25)\n",
    "    .resolve_scale(x=\"shared\", y=\"independent\")\n",
    "    .configure_title(fontSize=16)\n",
    "    .configure_axis(labelFontSize=12, titleFontSize=14)\n",
    "    .configure_header(titleFontSize=14, labelFontSize=12)\n",
    ")\n",
    "\n",
    "png_str = vlc.vegalite_to_png(vl_spec=chart.to_json(), scale=3)\n",
    "with open(\"source_unique_researchers_field.png\", \"wb\") as f:\n",
    "    f.write(png_str)"
   ]
  },
  {
   "cell_type": "raw",
   "metadata": {
    "vscode": {
     "languageId": "raw"
    }
   },
   "source": [
    "# replace nan in citation_normalized_percentile_is_in_top_10_percent with False\n",
    "publications[\"citation_normalized_percentile_is_in_top_10_percent\"] = publications[\n",
    "    \"citation_normalized_percentile_is_in_top_10_percent\"\n",
    "].fillna(False)"
   ]
  },
  {
   "cell_type": "raw",
   "metadata": {
    "vscode": {
     "languageId": "raw"
    }
   },
   "source": [
    "total_publications = (\n",
    "    publications.groupby([\"source\", \"quarter\"])[\"id\"]\n",
    "    .count()\n",
    "    .reset_index()\n",
    "    .rename(columns={\"id\": \"total_publications\"})\n",
    ")\n",
    "\n",
    "# Compute the share of publications for each source-quarter pair\n",
    "total_publications[\"share_publications\"] = (\n",
    "    total_publications[\"total_publications\"]\n",
    "    / total_publications[\"total_publications\"].sum()\n",
    ")\n",
    "\n",
    "# Compute the total number of top decile publications for each source-quarter pair\n",
    "top_decile_publications = (\n",
    "    publications[publications[\"citation_normalized_percentile_is_in_top_10_percent\"]]\n",
    "    .groupby([\"source\", \"quarter\"])[\"id\"]\n",
    "    .count()\n",
    "    .reset_index()\n",
    "    .rename(columns={\"id\": \"top_decile_publications\"})\n",
    ")\n",
    "\n",
    "# Merge the total publications and top decile publications data\n",
    "merged_data = pd.merge(\n",
    "    total_publications,\n",
    "    top_decile_publications,\n",
    "    on=[\"source\", \"quarter\"],\n",
    "    how=\"left\"\n",
    ").fillna(0)\n",
    "\n",
    "# Compute the share of top decile publications for each source-quarter pair\n",
    "merged_data[\"share_top_decile_publications\"] = (\n",
    "    merged_data[\"top_decile_publications\"]\n",
    "    / merged_data[\"top_decile_publications\"].sum()\n",
    ")\n",
    "\n",
    "# Compute the ratio of the share over the top decile share\n",
    "merged_data[\"representation_ratio\"] = (\n",
    "    merged_data[\"share_top_decile_publications\"] / \n",
    "    merged_data[\"share_publications\"]\n",
    ")\n",
    "\n",
    "merged_data = merged_data[\n",
    "    (merged_data[\"quarter\"] >= \"2020Q1\")\n",
    "    & (merged_data[\"quarter\"] <= \"2024Q1\")\n",
    "]"
   ]
  },
  {
   "cell_type": "raw",
   "metadata": {
    "vscode": {
     "languageId": "raw"
    }
   },
   "source": [
    "scatter = alt.Chart(merged_data).mark_circle(size=60).encode(\n",
    "    x=alt.X('quarter:N', title='Quarter'),\n",
    "    y=alt.Y('representation_ratio:Q', title='Representation Ratio'),\n",
    "    color=alt.Color('source:N', title='Source'),\n",
    "    tooltip=['quarter:N', 'representation_ratio:Q', 'source:N']\n",
    ")\n",
    "\n",
    "line = alt.Chart(merged_data).mark_line().encode(\n",
    "    x=alt.X('quarter:N', title='Quarter'),\n",
    "    y=alt.Y('representation_ratio:Q', title='Representation Ratio'),\n",
    "    color=alt.Color('source:N', title='Source')\n",
    ")\n",
    "\n",
    "chart = alt.layer(scatter, line).properties(\n",
    "    title='Representation of Top Decile Publications Over Time by Source',\n",
    "    width=800,\n",
    "    height=400\n",
    ")\n",
    "\n",
    "png_str = vlc.vegalite_to_png(vl_spec=chart.to_json(), scale=3)\n",
    "with open(\"repr_time.png\", \"wb\") as f:\n",
    "    f.write(png_str)"
   ]
  },
  {
   "cell_type": "raw",
   "metadata": {
    "vscode": {
     "languageId": "raw"
    }
   },
   "source": [
    "# Calculate the ratio of top decile publications to total publications for each group\n",
    "merged_data[\"top_decile_ratio\"] = merged_data[\"top_decile_publications\"] / merged_data[\"total_publications\"]\n",
    "\n",
    "# Get the ratio for AF\n",
    "af_ratio = merged_data[merged_data[\"source\"] == \"af\"][\"top_decile_ratio\"].mean()\n",
    "\n",
    "# Compute the average ratio for the other three groups\n",
    "other_groups_ratio = merged_data[merged_data[\"source\"] != \"af\"][\"top_decile_ratio\"].mean()\n",
    "\n",
    "# Calculate how much more likely an AF publication is to be in the top 10%\n",
    "likelihood_ratio = af_ratio / other_groups_ratio\n",
    "\n",
    "print(f\"An AlphaFold publication is {likelihood_ratio:.2f} times more likely to be in the top 10% compared to the other three groups on average.\")"
   ]
  },
  {
   "cell_type": "raw",
   "metadata": {
    "vscode": {
     "languageId": "raw"
    }
   },
   "source": [
    "# Calculate individual comparisons for each group\n",
    "ct_ai_ratio = merged_data[merged_data[\"source\"] == \"ct_ai\"][\"top_decile_ratio\"].mean()\n",
    "ct_noai_ratio = merged_data[merged_data[\"source\"] == \"ct_noai\"][\"top_decile_ratio\"].mean()\n",
    "other_ratio = merged_data[merged_data[\"source\"] == \"other\"][\"top_decile_ratio\"].mean()\n",
    "\n",
    "# Calculate likelihood ratios for AF compared to each individual group\n",
    "af_vs_ct_ai = af_ratio / ct_ai_ratio\n",
    "af_vs_ct_noai = af_ratio / ct_noai_ratio\n",
    "af_vs_other = af_ratio / other_ratio\n",
    "\n",
    "print(\"\\nBreakdown by category:\")\n",
    "print(f\"AlphaFold vs AI counterfactual (ct_ai): {af_vs_ct_ai:.2f}x more likely to be in top 10%\")\n",
    "print(f\"AlphaFold vs non-AI counterfactual (ct_noai): {af_vs_ct_noai:.2f}x more likely to be in top 10%\")\n",
    "print(f\"AlphaFold vs other publications: {af_vs_other:.2f}x more likely to be in top 10%\")\n",
    "\n",
    "# Also calculate the average top_decile_ratio for each source to see the raw percentages\n",
    "source_percentages = merged_data.groupby(\"source\")[\"top_decile_ratio\"].mean() * 100\n",
    "print(\"\\nPercentage of publications in top 10% by source:\")\n",
    "for source, percentage in source_percentages.items():\n",
    "    print(f\"{source}: {percentage:.2f}%\")"
   ]
  },
  {
   "cell_type": "code",
   "execution_count": 7,
   "metadata": {},
   "outputs": [],
   "source": [
    "# create mesh_C_ind for mesh_C that is 1 if mesh_C is > 0, 0 otherwise\n",
    "publications[\"mesh_C_ind\"] = publications[\"mesh_C\"].apply(lambda x: 1 if x > 0 else 0)"
   ]
  },
  {
   "cell_type": "code",
   "execution_count": 8,
   "metadata": {},
   "outputs": [],
   "source": [
    "# create variable depth that is \"adjacent\" if level is 0, and \"downstream\" if level is 1 or 2\n",
    "publications[\"depth\"] = publications[\"level\"].apply(lambda x: \"adjacent\" if x == \"0\" else \"downstream\" if x in [1, 2] else \"distant\")"
   ]
  },
  {
   "cell_type": "code",
   "execution_count": 9,
   "metadata": {},
   "outputs": [
    {
     "data": {
      "text/html": [
       "<pre style=\"white-space:pre;overflow-x:auto;line-height:normal;font-family:Menlo,'DejaVu Sans Mono',consolas,'Courier New',monospace\"></pre>\n"
      ],
      "text/plain": []
     },
     "metadata": {},
     "output_type": "display_data"
    },
    {
     "data": {
      "text/plain": [
       "\n",
       "source  depth   \n",
       "af      adjacent     \u001b[1;36m3097\u001b[0m\n",
       "        distant     \u001b[1;36m76320\u001b[0m\n",
       "ct_ai   adjacent      \u001b[1;36m644\u001b[0m\n",
       "        distant     \u001b[1;36m19661\u001b[0m\n",
       "ct_pp   adjacent     \u001b[1;36m1865\u001b[0m\n",
       "        distant     \u001b[1;36m53541\u001b[0m\n",
       "ct_sb   adjacent     \u001b[1;36m1383\u001b[0m\n",
       "        distant     \u001b[1;36m49112\u001b[0m\n",
       "other   adjacent     \u001b[1;36m2058\u001b[0m\n",
       "        distant     \u001b[1;36m92698\u001b[0m\n",
       "Name: mesh_C_ind, dtype: int64"
      ]
     },
     "execution_count": 9,
     "metadata": {},
     "output_type": "execute_result"
    }
   ],
   "source": [
    "publications.groupby([\"source\", \"depth\"])[\"mesh_C_ind\"].sum()"
   ]
  },
  {
   "cell_type": "code",
   "execution_count": 10,
   "metadata": {},
   "outputs": [
    {
     "data": {
      "text/html": [
       "<pre style=\"white-space:pre;overflow-x:auto;line-height:normal;font-family:Menlo,'DejaVu Sans Mono',consolas,'Courier New',monospace\"></pre>\n"
      ],
      "text/plain": []
     },
     "metadata": {},
     "output_type": "display_data"
    },
    {
     "data": {
      "text/plain": [
       "\n",
       "source  depth   \n",
       "af      adjacent    \u001b[1;36m0.094392\u001b[0m\n",
       "        distant     \u001b[1;36m0.148382\u001b[0m\n",
       "ct_ai   adjacent    \u001b[1;36m0.116582\u001b[0m\n",
       "        distant     \u001b[1;36m0.122388\u001b[0m\n",
       "ct_pp   adjacent    \u001b[1;36m0.286219\u001b[0m\n",
       "        distant     \u001b[1;36m0.242117\u001b[0m\n",
       "ct_sb   adjacent    \u001b[1;36m0.221919\u001b[0m\n",
       "        distant     \u001b[1;36m0.244117\u001b[0m\n",
       "other   adjacent    \u001b[1;36m0.069009\u001b[0m\n",
       "        distant     \u001b[1;36m0.185471\u001b[0m\n",
       "Name: mesh_C_ind, dtype: float64"
      ]
     },
     "execution_count": 10,
     "metadata": {},
     "output_type": "execute_result"
    }
   ],
   "source": [
    "publications.groupby([\"source\", \"depth\"])[\"mesh_C_ind\"].mean()"
   ]
  },
  {
   "cell_type": "code",
   "execution_count": 11,
   "metadata": {},
   "outputs": [
    {
     "data": {
      "text/html": [
       "<pre style=\"white-space:pre;overflow-x:auto;line-height:normal;font-family:Menlo,'DejaVu Sans Mono',consolas,'Courier New',monospace\"></pre>\n"
      ],
      "text/plain": []
     },
     "metadata": {},
     "output_type": "display_data"
    },
    {
     "data": {
      "text/plain": [
       "\n",
       "source  depth   \n",
       "af      adjacent      \u001b[1;36m685\u001b[0m\n",
       "        distant     \u001b[1;36m15673\u001b[0m\n",
       "ct_ai   adjacent        \u001b[1;36m0\u001b[0m\n",
       "        distant      \u001b[1;36m1508\u001b[0m\n",
       "ct_pp   adjacent       \u001b[1;36m13\u001b[0m\n",
       "        distant      \u001b[1;36m3330\u001b[0m\n",
       "ct_sb   distant      \u001b[1;36m2094\u001b[0m\n",
       "other   adjacent       \u001b[1;36m39\u001b[0m\n",
       "        distant      \u001b[1;36m6591\u001b[0m\n",
       "Name: mesh_C_ind, dtype: int64"
      ]
     },
     "execution_count": 11,
     "metadata": {},
     "output_type": "execute_result"
    }
   ],
   "source": [
    "strong_publications = publications[publications[\"chain_label\"].isin([\"strong\", \"partial_strong\"])]\n",
    "strong_publications.groupby([\"source\", \"depth\"])[\"mesh_C_ind\"].sum()"
   ]
  },
  {
   "cell_type": "code",
   "execution_count": 12,
   "metadata": {},
   "outputs": [
    {
     "data": {
      "text/html": [
       "<pre style=\"white-space:pre;overflow-x:auto;line-height:normal;font-family:Menlo,'DejaVu Sans Mono',consolas,'Courier New',monospace\"></pre>\n"
      ],
      "text/plain": []
     },
     "metadata": {},
     "output_type": "display_data"
    },
    {
     "data": {
      "text/plain": [
       "\n",
       "source  depth   \n",
       "af      adjacent    \u001b[1;36m0.131883\u001b[0m\n",
       "        distant     \u001b[1;36m0.195275\u001b[0m\n",
       "ct_ai   adjacent    \u001b[1;36m0.000000\u001b[0m\n",
       "        distant     \u001b[1;36m0.155432\u001b[0m\n",
       "ct_pp   adjacent    \u001b[1;36m0.541667\u001b[0m\n",
       "        distant     \u001b[1;36m0.281274\u001b[0m\n",
       "ct_sb   distant     \u001b[1;36m0.264528\u001b[0m\n",
       "other   adjacent    \u001b[1;36m0.096296\u001b[0m\n",
       "        distant     \u001b[1;36m0.211365\u001b[0m\n",
       "Name: mesh_C_ind, dtype: float64"
      ]
     },
     "execution_count": 12,
     "metadata": {},
     "output_type": "execute_result"
    }
   ],
   "source": [
    "strong_publications.groupby([\"source\", \"depth\"])[\"mesh_C_ind\"].mean()"
   ]
  },
  {
   "cell_type": "code",
   "execution_count": 13,
   "metadata": {},
   "outputs": [
    {
     "data": {
      "text/html": [
       "<pre style=\"white-space:pre;overflow-x:auto;line-height:normal;font-family:Menlo,'DejaVu Sans Mono',consolas,'Courier New',monospace\"></pre>\n"
      ],
      "text/plain": []
     },
     "metadata": {},
     "output_type": "display_data"
    },
    {
     "data": {
      "text/plain": [
       "\n",
       "\u001b[1;36m0\u001b[0m          \u001b[1;36m4.0\u001b[0m\n",
       "\u001b[1;36m1\u001b[0m          \u001b[1;36m0.0\u001b[0m\n",
       "\u001b[1;36m2\u001b[0m          \u001b[1;36m1.0\u001b[0m\n",
       "\u001b[1;36m3\u001b[0m          \u001b[1;36m0.0\u001b[0m\n",
       "\u001b[1;36m4\u001b[0m          \u001b[1;36m0.0\u001b[0m\n",
       "          \u001b[33m...\u001b[0m \n",
       "\u001b[1;36m1678008\u001b[0m    \u001b[1;36m0.0\u001b[0m\n",
       "\u001b[1;36m1678009\u001b[0m    \u001b[1;36m0.0\u001b[0m\n",
       "\u001b[1;36m1678010\u001b[0m    \u001b[1;36m0.0\u001b[0m\n",
       "\u001b[1;36m1678011\u001b[0m    \u001b[1;36m0.0\u001b[0m\n",
       "\u001b[1;36m1678012\u001b[0m    \u001b[1;36m0.0\u001b[0m\n",
       "Name: ca_count, Length: \u001b[1;36m1678013\u001b[0m, dtype: float64"
      ]
     },
     "execution_count": 13,
     "metadata": {},
     "output_type": "execute_result"
    }
   ],
   "source": [
    "publications.ca_count"
   ]
  },
  {
   "cell_type": "markdown",
   "metadata": {},
   "source": [
    "#### Clinical citations"
   ]
  },
  {
   "cell_type": "code",
   "execution_count": 14,
   "metadata": {},
   "outputs": [
    {
     "data": {
      "text/html": [
       "<pre style=\"white-space:pre;overflow-x:auto;line-height:normal;font-family:Menlo,'DejaVu Sans Mono',consolas,'Courier New',monospace\"></pre>\n"
      ],
      "text/plain": []
     },
     "metadata": {},
     "output_type": "display_data"
    },
    {
     "data": {
      "text/plain": [
       "\n",
       "source  depth   \n",
       "af      adjacent     \u001b[1;36m22634.0\u001b[0m\n",
       "        distant     \u001b[1;36m313889.0\u001b[0m\n",
       "ct_ai   adjacent      \u001b[1;36m3692.0\u001b[0m\n",
       "        distant      \u001b[1;36m77918.0\u001b[0m\n",
       "ct_pp   adjacent      \u001b[1;36m4702.0\u001b[0m\n",
       "        distant     \u001b[1;36m144460.0\u001b[0m\n",
       "ct_sb   adjacent      \u001b[1;36m4726.0\u001b[0m\n",
       "        distant     \u001b[1;36m135673.0\u001b[0m\n",
       "other   adjacent     \u001b[1;36m16928.0\u001b[0m\n",
       "        distant     \u001b[1;36m321294.0\u001b[0m\n",
       "Name: ca_count, dtype: float64"
      ]
     },
     "execution_count": 14,
     "metadata": {},
     "output_type": "execute_result"
    }
   ],
   "source": [
    "publications.groupby([\"source\", \"depth\"])[\"ca_count\"].sum()\n"
   ]
  },
  {
   "cell_type": "code",
   "execution_count": 25,
   "metadata": {},
   "outputs": [
    {
     "data": {
      "text/html": [
       "<pre style=\"white-space:pre;overflow-x:auto;line-height:normal;font-family:Menlo,'DejaVu Sans Mono',consolas,'Courier New',monospace\"></pre>\n"
      ],
      "text/plain": []
     },
     "metadata": {},
     "output_type": "display_data"
    },
    {
     "data": {
      "text/plain": [
       "\n",
       "source   depth   \n",
       "af       adjacent    \u001b[1;36m0.004747\u001b[0m\n",
       "         distant     \u001b[1;36m0.018750\u001b[0m\n",
       "ct_ai    adjacent    \u001b[1;36m0.006520\u001b[0m\n",
       "         distant     \u001b[1;36m0.005714\u001b[0m\n",
       "ct_noai  adjacent    \u001b[1;36m0.034029\u001b[0m\n",
       "         distant     \u001b[1;36m0.179203\u001b[0m\n",
       "other    adjacent    \u001b[1;36m0.001401\u001b[0m\n",
       "         distant     \u001b[1;36m0.018398\u001b[0m\n",
       "Name: ca_count, dtype: float64"
      ]
     },
     "execution_count": 25,
     "metadata": {},
     "output_type": "execute_result"
    }
   ],
   "source": [
    "publications.groupby([\"source\", \"depth\"])[\"ca_count\"].mean()"
   ]
  },
  {
   "cell_type": "code",
   "execution_count": 26,
   "metadata": {},
   "outputs": [
    {
     "data": {
      "text/html": [
       "<pre style=\"white-space:pre;overflow-x:auto;line-height:normal;font-family:Menlo,'DejaVu Sans Mono',consolas,'Courier New',monospace\"></pre>\n"
      ],
      "text/plain": []
     },
     "metadata": {},
     "output_type": "display_data"
    },
    {
     "data": {
      "text/plain": [
       "\n",
       "source   depth   \n",
       "af       adjacent      \u001b[1;36m32.0\u001b[0m\n",
       "         distant     \u001b[1;36m1776.0\u001b[0m\n",
       "ct_ai    adjacent       \u001b[1;36m4.0\u001b[0m\n",
       "         distant       \u001b[1;36m20.0\u001b[0m\n",
       "ct_noai  adjacent      \u001b[1;36m18.0\u001b[0m\n",
       "         distant     \u001b[1;36m1615.0\u001b[0m\n",
       "other    distant      \u001b[1;36m273.0\u001b[0m\n",
       "Name: ca_count, dtype: float64"
      ]
     },
     "execution_count": 26,
     "metadata": {},
     "output_type": "execute_result"
    }
   ],
   "source": [
    "strong_publications.groupby([\"source\", \"depth\"])[\"ca_count\"].sum()"
   ]
  },
  {
   "cell_type": "code",
   "execution_count": 28,
   "metadata": {},
   "outputs": [
    {
     "data": {
      "text/html": [
       "<pre style=\"white-space:pre;overflow-x:auto;line-height:normal;font-family:Menlo,'DejaVu Sans Mono',consolas,'Courier New',monospace\"></pre>\n"
      ],
      "text/plain": []
     },
     "metadata": {},
     "output_type": "display_data"
    },
    {
     "data": {
      "text/plain": [
       "\n",
       "source   depth   \n",
       "af       adjacent    \u001b[1;36m0.009849\u001b[0m\n",
       "         distant     \u001b[1;36m0.048554\u001b[0m\n",
       "ct_ai    adjacent    \u001b[1;36m0.006107\u001b[0m\n",
       "         distant     \u001b[1;36m0.004879\u001b[0m\n",
       "ct_noai  adjacent    \u001b[1;36m0.031469\u001b[0m\n",
       "         distant     \u001b[1;36m0.176503\u001b[0m\n",
       "other    distant     \u001b[1;36m0.014097\u001b[0m\n",
       "Name: ca_count, dtype: float64"
      ]
     },
     "execution_count": 28,
     "metadata": {},
     "output_type": "execute_result"
    }
   ],
   "source": [
    "strong_publications.groupby([\"source\", \"depth\"])[\"ca_count\"].mean()"
   ]
  },
  {
   "cell_type": "markdown",
   "metadata": {},
   "source": [
    "#### Patent counts"
   ]
  },
  {
   "cell_type": "code",
   "execution_count": 29,
   "metadata": {},
   "outputs": [
    {
     "data": {
      "text/html": [
       "<pre style=\"white-space:pre;overflow-x:auto;line-height:normal;font-family:Menlo,'DejaVu Sans Mono',consolas,'Courier New',monospace\"></pre>\n"
      ],
      "text/plain": []
     },
     "metadata": {},
     "output_type": "display_data"
    },
    {
     "data": {
      "text/plain": [
       "\n",
       "source   depth   \n",
       "af       adjacent      \u001b[1;36m79.0\u001b[0m\n",
       "         distant      \u001b[1;36m461.0\u001b[0m\n",
       "ct_ai    adjacent      \u001b[1;36m76.0\u001b[0m\n",
       "         distant      \u001b[1;36m225.0\u001b[0m\n",
       "ct_noai  adjacent     \u001b[1;36m194.0\u001b[0m\n",
       "         distant     \u001b[1;36m2318.0\u001b[0m\n",
       "other    adjacent     \u001b[1;36m705.0\u001b[0m\n",
       "         distant     \u001b[1;36m2389.0\u001b[0m\n",
       "Name: patent_count, dtype: float64"
      ]
     },
     "execution_count": 29,
     "metadata": {},
     "output_type": "execute_result"
    }
   ],
   "source": [
    "publications.groupby([\"source\", \"depth\"])[\"patent_count\"].sum()\n"
   ]
  },
  {
   "cell_type": "code",
   "execution_count": 30,
   "metadata": {},
   "outputs": [
    {
     "data": {
      "text/html": [
       "<pre style=\"white-space:pre;overflow-x:auto;line-height:normal;font-family:Menlo,'DejaVu Sans Mono',consolas,'Courier New',monospace\"></pre>\n"
      ],
      "text/plain": []
     },
     "metadata": {},
     "output_type": "display_data"
    },
    {
     "data": {
      "text/plain": [
       "\n",
       "source   depth   \n",
       "af       adjacent    \u001b[1;36m0.006579\u001b[0m\n",
       "         distant     \u001b[1;36m0.002595\u001b[0m\n",
       "ct_ai    adjacent    \u001b[1;36m0.026081\u001b[0m\n",
       "         distant     \u001b[1;36m0.006429\u001b[0m\n",
       "ct_noai  adjacent    \u001b[1;36m0.055476\u001b[0m\n",
       "         distant     \u001b[1;36m0.029069\u001b[0m\n",
       "other    adjacent    \u001b[1;36m0.070564\u001b[0m\n",
       "         distant     \u001b[1;36m0.008174\u001b[0m\n",
       "Name: patent_count, dtype: float64"
      ]
     },
     "execution_count": 30,
     "metadata": {},
     "output_type": "execute_result"
    }
   ],
   "source": [
    "publications.groupby([\"source\", \"depth\"])[\"patent_count\"].mean()"
   ]
  },
  {
   "cell_type": "code",
   "execution_count": 31,
   "metadata": {},
   "outputs": [
    {
     "data": {
      "text/html": [
       "<pre style=\"white-space:pre;overflow-x:auto;line-height:normal;font-family:Menlo,'DejaVu Sans Mono',consolas,'Courier New',monospace\"></pre>\n"
      ],
      "text/plain": []
     },
     "metadata": {},
     "output_type": "display_data"
    },
    {
     "data": {
      "text/plain": [
       "\n",
       "source   depth   \n",
       "af       adjacent     \u001b[1;36m25.0\u001b[0m\n",
       "         distant     \u001b[1;36m148.0\u001b[0m\n",
       "ct_ai    adjacent      \u001b[1;36m7.0\u001b[0m\n",
       "         distant      \u001b[1;36m27.0\u001b[0m\n",
       "ct_noai  adjacent     \u001b[1;36m28.0\u001b[0m\n",
       "         distant     \u001b[1;36m438.0\u001b[0m\n",
       "other    distant     \u001b[1;36m167.0\u001b[0m\n",
       "Name: patent_count, dtype: float64"
      ]
     },
     "execution_count": 31,
     "metadata": {},
     "output_type": "execute_result"
    }
   ],
   "source": [
    "strong_publications.groupby([\"source\", \"depth\"])[\"patent_count\"].sum()"
   ]
  },
  {
   "cell_type": "code",
   "execution_count": 32,
   "metadata": {},
   "outputs": [
    {
     "data": {
      "text/html": [
       "<pre style=\"white-space:pre;overflow-x:auto;line-height:normal;font-family:Menlo,'DejaVu Sans Mono',consolas,'Courier New',monospace\"></pre>\n"
      ],
      "text/plain": []
     },
     "metadata": {},
     "output_type": "display_data"
    },
    {
     "data": {
      "text/plain": [
       "\n",
       "source   depth   \n",
       "af       adjacent    \u001b[1;36m0.007695\u001b[0m\n",
       "         distant     \u001b[1;36m0.004046\u001b[0m\n",
       "ct_ai    adjacent    \u001b[1;36m0.010687\u001b[0m\n",
       "         distant     \u001b[1;36m0.006587\u001b[0m\n",
       "ct_noai  adjacent    \u001b[1;36m0.048951\u001b[0m\n",
       "         distant     \u001b[1;36m0.047869\u001b[0m\n",
       "other    distant     \u001b[1;36m0.008623\u001b[0m\n",
       "Name: patent_count, dtype: float64"
      ]
     },
     "execution_count": 32,
     "metadata": {},
     "output_type": "execute_result"
    }
   ],
   "source": [
    "strong_publications.groupby([\"source\", \"depth\"])[\"patent_count\"].mean()"
   ]
  },
  {
   "cell_type": "markdown",
   "metadata": {},
   "source": [
    "#### Patent citations"
   ]
  },
  {
   "cell_type": "code",
   "execution_count": 34,
   "metadata": {},
   "outputs": [
    {
     "data": {
      "text/html": [
       "<pre style=\"white-space:pre;overflow-x:auto;line-height:normal;font-family:Menlo,'DejaVu Sans Mono',consolas,'Courier New',monospace\"></pre>\n"
      ],
      "text/plain": []
     },
     "metadata": {},
     "output_type": "display_data"
    },
    {
     "data": {
      "text/plain": [
       "\n",
       "source   depth   \n",
       "af       adjacent       \u001b[1;36m9.0\u001b[0m\n",
       "         distant       \u001b[1;36m88.0\u001b[0m\n",
       "ct_ai    adjacent      \u001b[1;36m27.0\u001b[0m\n",
       "         distant       \u001b[1;36m48.0\u001b[0m\n",
       "ct_noai  adjacent     \u001b[1;36m148.0\u001b[0m\n",
       "         distant     \u001b[1;36m2191.0\u001b[0m\n",
       "other    adjacent     \u001b[1;36m817.0\u001b[0m\n",
       "         distant     \u001b[1;36m1045.0\u001b[0m\n",
       "Name: patent_citation, dtype: float64"
      ]
     },
     "execution_count": 34,
     "metadata": {},
     "output_type": "execute_result"
    }
   ],
   "source": [
    "publications.groupby([\"source\", \"depth\"])[\"patent_citation\"].sum()\n"
   ]
  },
  {
   "cell_type": "code",
   "execution_count": 35,
   "metadata": {},
   "outputs": [
    {
     "data": {
      "text/html": [
       "<pre style=\"white-space:pre;overflow-x:auto;line-height:normal;font-family:Menlo,'DejaVu Sans Mono',consolas,'Courier New',monospace\"></pre>\n"
      ],
      "text/plain": []
     },
     "metadata": {},
     "output_type": "display_data"
    },
    {
     "data": {
      "text/plain": [
       "\n",
       "source   depth   \n",
       "af       adjacent    \u001b[1;36m0.132353\u001b[0m\n",
       "         distant     \u001b[1;36m0.251429\u001b[0m\n",
       "ct_ai    adjacent    \u001b[1;36m0.551020\u001b[0m\n",
       "         distant     \u001b[1;36m0.279070\u001b[0m\n",
       "ct_noai  adjacent    \u001b[1;36m1.525773\u001b[0m\n",
       "         distant     \u001b[1;36m1.740270\u001b[0m\n",
       "other    adjacent    \u001b[1;36m3.071429\u001b[0m\n",
       "         distant     \u001b[1;36m0.585434\u001b[0m\n",
       "Name: patent_citation, dtype: float64"
      ]
     },
     "execution_count": 35,
     "metadata": {},
     "output_type": "execute_result"
    }
   ],
   "source": [
    "publications.groupby([\"source\", \"depth\"])[\"patent_citation\"].mean()"
   ]
  },
  {
   "cell_type": "code",
   "execution_count": 36,
   "metadata": {},
   "outputs": [
    {
     "data": {
      "text/html": [
       "<pre style=\"white-space:pre;overflow-x:auto;line-height:normal;font-family:Menlo,'DejaVu Sans Mono',consolas,'Courier New',monospace\"></pre>\n"
      ],
      "text/plain": []
     },
     "metadata": {},
     "output_type": "display_data"
    },
    {
     "data": {
      "text/plain": [
       "\n",
       "source   depth   \n",
       "af       adjacent      \u001b[1;36m1.0\u001b[0m\n",
       "         distant      \u001b[1;36m25.0\u001b[0m\n",
       "ct_ai    adjacent      \u001b[1;36m0.0\u001b[0m\n",
       "         distant      \u001b[1;36m10.0\u001b[0m\n",
       "ct_noai  adjacent      \u001b[1;36m8.0\u001b[0m\n",
       "         distant     \u001b[1;36m583.0\u001b[0m\n",
       "other    distant      \u001b[1;36m61.0\u001b[0m\n",
       "Name: patent_citation, dtype: float64"
      ]
     },
     "execution_count": 36,
     "metadata": {},
     "output_type": "execute_result"
    }
   ],
   "source": [
    "strong_publications.groupby([\"source\", \"depth\"])[\"patent_citation\"].sum()"
   ]
  },
  {
   "cell_type": "code",
   "execution_count": 37,
   "metadata": {},
   "outputs": [
    {
     "data": {
      "text/html": [
       "<pre style=\"white-space:pre;overflow-x:auto;line-height:normal;font-family:Menlo,'DejaVu Sans Mono',consolas,'Courier New',monospace\"></pre>\n"
      ],
      "text/plain": []
     },
     "metadata": {},
     "output_type": "display_data"
    },
    {
     "data": {
      "text/plain": [
       "\n",
       "source   depth   \n",
       "af       adjacent    \u001b[1;36m0.045455\u001b[0m\n",
       "         distant     \u001b[1;36m0.193798\u001b[0m\n",
       "ct_ai    adjacent    \u001b[1;36m0.000000\u001b[0m\n",
       "         distant     \u001b[1;36m0.384615\u001b[0m\n",
       "ct_noai  adjacent    \u001b[1;36m0.571429\u001b[0m\n",
       "         distant     \u001b[1;36m3.068421\u001b[0m\n",
       "other    distant     \u001b[1;36m0.570093\u001b[0m\n",
       "Name: patent_citation, dtype: float64"
      ]
     },
     "execution_count": 37,
     "metadata": {},
     "output_type": "execute_result"
    }
   ],
   "source": [
    "strong_publications.groupby([\"source\", \"depth\"])[\"patent_citation\"].mean()"
   ]
  }
 ],
 "metadata": {
  "kernelspec": {
   "display_name": ".igl-alphafold",
   "language": "python",
   "name": "python3"
  },
  "language_info": {
   "codemirror_mode": {
    "name": "ipython",
    "version": 3
   },
   "file_extension": ".py",
   "mimetype": "text/x-python",
   "name": "python",
   "nbconvert_exporter": "python",
   "pygments_lexer": "ipython3",
   "version": "3.11.8"
  }
 },
 "nbformat": 4,
 "nbformat_minor": 2
}
